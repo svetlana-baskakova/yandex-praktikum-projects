{
 "cells": [
  {
   "cell_type": "markdown",
   "metadata": {},
   "source": [
    "# Исследование надёжности заёмщиков\n",
    "\n",
    "Для кредитного отдела банка нужно разобраться, какие факторы влияют на погашения кредита в срок. Входные данные от банка — статистика о платёжеспособности клиентов.\n",
    "\n",
    "Результаты исследования будут учтены при построении модели **кредитного скоринга** — специальной системы, которая оценивает способность потенциального заёмщика вернуть кредит банку."
   ]
  },
  {
   "cell_type": "markdown",
   "metadata": {},
   "source": [
    "## Шаг 1. Откройте файл с данными и изучите общую информацию"
   ]
  },
  {
   "cell_type": "code",
   "execution_count": 1,
   "metadata": {
    "scrolled": false
   },
   "outputs": [
    {
     "name": "stdout",
     "output_type": "stream",
     "text": [
      "<class 'pandas.core.frame.DataFrame'>\n",
      "RangeIndex: 21525 entries, 0 to 21524\n",
      "Data columns (total 12 columns):\n",
      "children            21525 non-null int64\n",
      "days_employed       19351 non-null float64\n",
      "dob_years           21525 non-null int64\n",
      "education           21525 non-null object\n",
      "education_id        21525 non-null int64\n",
      "family_status       21525 non-null object\n",
      "family_status_id    21525 non-null int64\n",
      "gender              21525 non-null object\n",
      "income_type         21525 non-null object\n",
      "debt                21525 non-null int64\n",
      "total_income        19351 non-null float64\n",
      "purpose             21525 non-null object\n",
      "dtypes: float64(2), int64(5), object(5)\n",
      "memory usage: 2.0+ MB\n"
     ]
    },
    {
     "data": {
      "text/html": [
       "<div>\n",
       "<style scoped>\n",
       "    .dataframe tbody tr th:only-of-type {\n",
       "        vertical-align: middle;\n",
       "    }\n",
       "\n",
       "    .dataframe tbody tr th {\n",
       "        vertical-align: top;\n",
       "    }\n",
       "\n",
       "    .dataframe thead th {\n",
       "        text-align: right;\n",
       "    }\n",
       "</style>\n",
       "<table border=\"1\" class=\"dataframe\">\n",
       "  <thead>\n",
       "    <tr style=\"text-align: right;\">\n",
       "      <th></th>\n",
       "      <th>children</th>\n",
       "      <th>days_employed</th>\n",
       "      <th>dob_years</th>\n",
       "      <th>education</th>\n",
       "      <th>education_id</th>\n",
       "      <th>family_status</th>\n",
       "      <th>family_status_id</th>\n",
       "      <th>gender</th>\n",
       "      <th>income_type</th>\n",
       "      <th>debt</th>\n",
       "      <th>total_income</th>\n",
       "      <th>purpose</th>\n",
       "    </tr>\n",
       "  </thead>\n",
       "  <tbody>\n",
       "    <tr>\n",
       "      <td>0</td>\n",
       "      <td>1</td>\n",
       "      <td>-8437.673028</td>\n",
       "      <td>42</td>\n",
       "      <td>высшее</td>\n",
       "      <td>0</td>\n",
       "      <td>женат / замужем</td>\n",
       "      <td>0</td>\n",
       "      <td>F</td>\n",
       "      <td>сотрудник</td>\n",
       "      <td>0</td>\n",
       "      <td>253875.639453</td>\n",
       "      <td>покупка жилья</td>\n",
       "    </tr>\n",
       "    <tr>\n",
       "      <td>1</td>\n",
       "      <td>1</td>\n",
       "      <td>-4024.803754</td>\n",
       "      <td>36</td>\n",
       "      <td>среднее</td>\n",
       "      <td>1</td>\n",
       "      <td>женат / замужем</td>\n",
       "      <td>0</td>\n",
       "      <td>F</td>\n",
       "      <td>сотрудник</td>\n",
       "      <td>0</td>\n",
       "      <td>112080.014102</td>\n",
       "      <td>приобретение автомобиля</td>\n",
       "    </tr>\n",
       "    <tr>\n",
       "      <td>2</td>\n",
       "      <td>0</td>\n",
       "      <td>-5623.422610</td>\n",
       "      <td>33</td>\n",
       "      <td>Среднее</td>\n",
       "      <td>1</td>\n",
       "      <td>женат / замужем</td>\n",
       "      <td>0</td>\n",
       "      <td>M</td>\n",
       "      <td>сотрудник</td>\n",
       "      <td>0</td>\n",
       "      <td>145885.952297</td>\n",
       "      <td>покупка жилья</td>\n",
       "    </tr>\n",
       "    <tr>\n",
       "      <td>3</td>\n",
       "      <td>3</td>\n",
       "      <td>-4124.747207</td>\n",
       "      <td>32</td>\n",
       "      <td>среднее</td>\n",
       "      <td>1</td>\n",
       "      <td>женат / замужем</td>\n",
       "      <td>0</td>\n",
       "      <td>M</td>\n",
       "      <td>сотрудник</td>\n",
       "      <td>0</td>\n",
       "      <td>267628.550329</td>\n",
       "      <td>дополнительное образование</td>\n",
       "    </tr>\n",
       "    <tr>\n",
       "      <td>4</td>\n",
       "      <td>0</td>\n",
       "      <td>340266.072047</td>\n",
       "      <td>53</td>\n",
       "      <td>среднее</td>\n",
       "      <td>1</td>\n",
       "      <td>гражданский брак</td>\n",
       "      <td>1</td>\n",
       "      <td>F</td>\n",
       "      <td>пенсионер</td>\n",
       "      <td>0</td>\n",
       "      <td>158616.077870</td>\n",
       "      <td>сыграть свадьбу</td>\n",
       "    </tr>\n",
       "  </tbody>\n",
       "</table>\n",
       "</div>"
      ],
      "text/plain": [
       "   children  days_employed  dob_years education  education_id  \\\n",
       "0         1   -8437.673028         42    высшее             0   \n",
       "1         1   -4024.803754         36   среднее             1   \n",
       "2         0   -5623.422610         33   Среднее             1   \n",
       "3         3   -4124.747207         32   среднее             1   \n",
       "4         0  340266.072047         53   среднее             1   \n",
       "\n",
       "      family_status  family_status_id gender income_type  debt   total_income  \\\n",
       "0   женат / замужем                 0      F   сотрудник     0  253875.639453   \n",
       "1   женат / замужем                 0      F   сотрудник     0  112080.014102   \n",
       "2   женат / замужем                 0      M   сотрудник     0  145885.952297   \n",
       "3   женат / замужем                 0      M   сотрудник     0  267628.550329   \n",
       "4  гражданский брак                 1      F   пенсионер     0  158616.077870   \n",
       "\n",
       "                      purpose  \n",
       "0               покупка жилья  \n",
       "1     приобретение автомобиля  \n",
       "2               покупка жилья  \n",
       "3  дополнительное образование  \n",
       "4             сыграть свадьбу  "
      ]
     },
     "execution_count": 1,
     "metadata": {},
     "output_type": "execute_result"
    }
   ],
   "source": [
    "import pandas as pd\n",
    "df = pd.read_csv('/datasets/data.csv')\n",
    "df.info()\n",
    "df.head()\n"
   ]
  },
  {
   "cell_type": "markdown",
   "metadata": {},
   "source": [
    "**Вывод**"
   ]
  },
  {
   "cell_type": "markdown",
   "metadata": {},
   "source": [
    "В таблице 12 столбцов, в них указаны данные по заемщикам, которые могут влиять на их платежеспособность. \n",
    "\n",
    "- children — количество детей в семье\n",
    "- days_employed — трудовой стаж в днях\n",
    "- dob_days — возраст клиента в годах\n",
    "- education — образование клиента\n",
    "- education_id — идентификатор образования\n",
    "- family_status — семейное положение\n",
    "- family_status_id — идентификатор семейного положения\n",
    "- gender — пол клиента\n",
    "- income_type — тип занятости\n",
    "- debt — имел ли задолженность по возврату кредитов\n",
    "- total_income — доход в месяц\n",
    "- purpose — цель получения кредита\n",
    "\n",
    "Строки в датасете, это заявки на выдачу кредита, пронумерованные по порядку. Предварительно можно утверждать, что данных достаточно для проверки гипотез. Но перед началом анализа, нужно провести предобрабоку этих данных, так как встречаются пропуски и странные значения, например, отрицательные значения в столбце days_employed. Качество необработанных данных данных может негативно сказаться на результатах исследования."
   ]
  },
  {
   "cell_type": "markdown",
   "metadata": {},
   "source": [
    "## Шаг 2. Предобработка данных"
   ]
  },
  {
   "cell_type": "markdown",
   "metadata": {},
   "source": [
    "### Обработка пропусков"
   ]
  },
  {
   "cell_type": "code",
   "execution_count": 2,
   "metadata": {},
   "outputs": [
    {
     "data": {
      "text/html": [
       "<div>\n",
       "<style scoped>\n",
       "    .dataframe tbody tr th:only-of-type {\n",
       "        vertical-align: middle;\n",
       "    }\n",
       "\n",
       "    .dataframe tbody tr th {\n",
       "        vertical-align: top;\n",
       "    }\n",
       "\n",
       "    .dataframe thead th {\n",
       "        text-align: right;\n",
       "    }\n",
       "</style>\n",
       "<table border=\"1\" class=\"dataframe\">\n",
       "  <thead>\n",
       "    <tr style=\"text-align: right;\">\n",
       "      <th></th>\n",
       "      <th>children</th>\n",
       "      <th>days_employed</th>\n",
       "      <th>dob_years</th>\n",
       "      <th>education</th>\n",
       "      <th>education_id</th>\n",
       "      <th>family_status</th>\n",
       "      <th>family_status_id</th>\n",
       "      <th>gender</th>\n",
       "      <th>income_type</th>\n",
       "      <th>debt</th>\n",
       "      <th>total_income</th>\n",
       "      <th>purpose</th>\n",
       "    </tr>\n",
       "  </thead>\n",
       "  <tbody>\n",
       "    <tr>\n",
       "      <td>21415</td>\n",
       "      <td>0</td>\n",
       "      <td>NaN</td>\n",
       "      <td>54</td>\n",
       "      <td>среднее</td>\n",
       "      <td>1</td>\n",
       "      <td>женат / замужем</td>\n",
       "      <td>0</td>\n",
       "      <td>F</td>\n",
       "      <td>пенсионер</td>\n",
       "      <td>0</td>\n",
       "      <td>NaN</td>\n",
       "      <td>операции с жильем</td>\n",
       "    </tr>\n",
       "    <tr>\n",
       "      <td>21423</td>\n",
       "      <td>0</td>\n",
       "      <td>NaN</td>\n",
       "      <td>63</td>\n",
       "      <td>среднее</td>\n",
       "      <td>1</td>\n",
       "      <td>женат / замужем</td>\n",
       "      <td>0</td>\n",
       "      <td>M</td>\n",
       "      <td>пенсионер</td>\n",
       "      <td>0</td>\n",
       "      <td>NaN</td>\n",
       "      <td>сделка с автомобилем</td>\n",
       "    </tr>\n",
       "    <tr>\n",
       "      <td>21426</td>\n",
       "      <td>0</td>\n",
       "      <td>NaN</td>\n",
       "      <td>49</td>\n",
       "      <td>среднее</td>\n",
       "      <td>1</td>\n",
       "      <td>женат / замужем</td>\n",
       "      <td>0</td>\n",
       "      <td>F</td>\n",
       "      <td>сотрудник</td>\n",
       "      <td>1</td>\n",
       "      <td>NaN</td>\n",
       "      <td>недвижимость</td>\n",
       "    </tr>\n",
       "    <tr>\n",
       "      <td>21432</td>\n",
       "      <td>1</td>\n",
       "      <td>NaN</td>\n",
       "      <td>38</td>\n",
       "      <td>неоконченное высшее</td>\n",
       "      <td>2</td>\n",
       "      <td>Не женат / не замужем</td>\n",
       "      <td>4</td>\n",
       "      <td>F</td>\n",
       "      <td>сотрудник</td>\n",
       "      <td>0</td>\n",
       "      <td>NaN</td>\n",
       "      <td>операции с жильем</td>\n",
       "    </tr>\n",
       "    <tr>\n",
       "      <td>21463</td>\n",
       "      <td>1</td>\n",
       "      <td>NaN</td>\n",
       "      <td>35</td>\n",
       "      <td>высшее</td>\n",
       "      <td>0</td>\n",
       "      <td>гражданский брак</td>\n",
       "      <td>1</td>\n",
       "      <td>M</td>\n",
       "      <td>сотрудник</td>\n",
       "      <td>0</td>\n",
       "      <td>NaN</td>\n",
       "      <td>на проведение свадьбы</td>\n",
       "    </tr>\n",
       "    <tr>\n",
       "      <td>21489</td>\n",
       "      <td>2</td>\n",
       "      <td>NaN</td>\n",
       "      <td>47</td>\n",
       "      <td>Среднее</td>\n",
       "      <td>1</td>\n",
       "      <td>женат / замужем</td>\n",
       "      <td>0</td>\n",
       "      <td>M</td>\n",
       "      <td>компаньон</td>\n",
       "      <td>0</td>\n",
       "      <td>NaN</td>\n",
       "      <td>сделка с автомобилем</td>\n",
       "    </tr>\n",
       "    <tr>\n",
       "      <td>21495</td>\n",
       "      <td>1</td>\n",
       "      <td>NaN</td>\n",
       "      <td>50</td>\n",
       "      <td>среднее</td>\n",
       "      <td>1</td>\n",
       "      <td>гражданский брак</td>\n",
       "      <td>1</td>\n",
       "      <td>F</td>\n",
       "      <td>сотрудник</td>\n",
       "      <td>0</td>\n",
       "      <td>NaN</td>\n",
       "      <td>свадьба</td>\n",
       "    </tr>\n",
       "    <tr>\n",
       "      <td>21497</td>\n",
       "      <td>0</td>\n",
       "      <td>NaN</td>\n",
       "      <td>48</td>\n",
       "      <td>ВЫСШЕЕ</td>\n",
       "      <td>0</td>\n",
       "      <td>женат / замужем</td>\n",
       "      <td>0</td>\n",
       "      <td>F</td>\n",
       "      <td>компаньон</td>\n",
       "      <td>0</td>\n",
       "      <td>NaN</td>\n",
       "      <td>строительство недвижимости</td>\n",
       "    </tr>\n",
       "    <tr>\n",
       "      <td>21502</td>\n",
       "      <td>1</td>\n",
       "      <td>NaN</td>\n",
       "      <td>42</td>\n",
       "      <td>среднее</td>\n",
       "      <td>1</td>\n",
       "      <td>женат / замужем</td>\n",
       "      <td>0</td>\n",
       "      <td>F</td>\n",
       "      <td>сотрудник</td>\n",
       "      <td>0</td>\n",
       "      <td>NaN</td>\n",
       "      <td>строительство жилой недвижимости</td>\n",
       "    </tr>\n",
       "    <tr>\n",
       "      <td>21510</td>\n",
       "      <td>2</td>\n",
       "      <td>NaN</td>\n",
       "      <td>28</td>\n",
       "      <td>среднее</td>\n",
       "      <td>1</td>\n",
       "      <td>женат / замужем</td>\n",
       "      <td>0</td>\n",
       "      <td>F</td>\n",
       "      <td>сотрудник</td>\n",
       "      <td>0</td>\n",
       "      <td>NaN</td>\n",
       "      <td>приобретение автомобиля</td>\n",
       "    </tr>\n",
       "  </tbody>\n",
       "</table>\n",
       "</div>"
      ],
      "text/plain": [
       "       children  days_employed  dob_years            education  education_id  \\\n",
       "21415         0            NaN         54              среднее             1   \n",
       "21423         0            NaN         63              среднее             1   \n",
       "21426         0            NaN         49              среднее             1   \n",
       "21432         1            NaN         38  неоконченное высшее             2   \n",
       "21463         1            NaN         35               высшее             0   \n",
       "21489         2            NaN         47              Среднее             1   \n",
       "21495         1            NaN         50              среднее             1   \n",
       "21497         0            NaN         48               ВЫСШЕЕ             0   \n",
       "21502         1            NaN         42              среднее             1   \n",
       "21510         2            NaN         28              среднее             1   \n",
       "\n",
       "               family_status  family_status_id gender income_type  debt  \\\n",
       "21415        женат / замужем                 0      F   пенсионер     0   \n",
       "21423        женат / замужем                 0      M   пенсионер     0   \n",
       "21426        женат / замужем                 0      F   сотрудник     1   \n",
       "21432  Не женат / не замужем                 4      F   сотрудник     0   \n",
       "21463       гражданский брак                 1      M   сотрудник     0   \n",
       "21489        женат / замужем                 0      M   компаньон     0   \n",
       "21495       гражданский брак                 1      F   сотрудник     0   \n",
       "21497        женат / замужем                 0      F   компаньон     0   \n",
       "21502        женат / замужем                 0      F   сотрудник     0   \n",
       "21510        женат / замужем                 0      F   сотрудник     0   \n",
       "\n",
       "       total_income                           purpose  \n",
       "21415           NaN                 операции с жильем  \n",
       "21423           NaN              сделка с автомобилем  \n",
       "21426           NaN                      недвижимость  \n",
       "21432           NaN                 операции с жильем  \n",
       "21463           NaN             на проведение свадьбы  \n",
       "21489           NaN              сделка с автомобилем  \n",
       "21495           NaN                           свадьба  \n",
       "21497           NaN        строительство недвижимости  \n",
       "21502           NaN  строительство жилой недвижимости  \n",
       "21510           NaN           приобретение автомобиля  "
      ]
     },
     "execution_count": 2,
     "metadata": {},
     "output_type": "execute_result"
    }
   ],
   "source": [
    "df['days_employed'] = df['days_employed'].apply(abs) #убираем отрицательные значения из столбца\n",
    "df.loc[df['days_employed'] >30000, 'days_employed'] = df.loc[df['days_employed'] >30000, 'days_employed'] / 24 #убираем большие значения в столбце\n",
    "df.sort_values('days_employed').tail(10) #проверка\n",
    "    "
   ]
  },
  {
   "cell_type": "markdown",
   "metadata": {},
   "source": [
    "Для начала уберем отрицательные значения из стажа, просто взяв этот столбец по модулю. Так же в этом столбце неправдоподобно большие данные. Это могло было произойти из-за того, что часть данных для датасета предоставлялось не в днях, а часах. Исходя из здравого смысла, определим их, как данные выше порогового значения 30 000 дней. Все значения выше разделим на 24 и получим все данные в часах. Изменения в данных стажа не влияют на результаты исследования, поэтому такой подход допустим."
   ]
  },
  {
   "cell_type": "code",
   "execution_count": 3,
   "metadata": {
    "scrolled": true
   },
   "outputs": [
    {
     "name": "stdout",
     "output_type": "stream",
     "text": [
      "Пропуски до:\n",
      "children               0\n",
      "days_employed       2174\n",
      "dob_years              0\n",
      "education              0\n",
      "education_id           0\n",
      "family_status          0\n",
      "family_status_id       0\n",
      "gender                 0\n",
      "income_type            0\n",
      "debt                   0\n",
      "total_income        2174\n",
      "purpose                0\n",
      "dtype: int64\n",
      "\n",
      "    dob_years education  income_type\n",
      "12         65   среднее    пенсионер\n",
      "26         41   среднее  госслужащий\n",
      "29         63   среднее    пенсионер\n",
      "41         50   среднее  госслужащий\n",
      "55         54   среднее    пенсионер\n",
      "65         21   среднее    компаньон\n",
      "67         52    высшее    пенсионер\n",
      "72         32    высшее  госслужащий\n",
      "82         50    высшее    сотрудник\n",
      "83         52   среднее    сотрудник\n",
      "\n",
      "Медианный доход по типам занятости, руб/мес\n",
      "\n",
      "сотрудник, - 142594.39684740017\n",
      "пенсионер, - 118514.48641164352\n",
      "компаньон, - 172357.95096577113\n",
      "госслужащий, - 150447.9352830068\n",
      "безработный, - 131339.7516762103\n",
      "предприниматель, - 499163.1449470857\n",
      "студент, - 98201.62531401133\n",
      "в декрете, - 53829.13072905995\n",
      "\n",
      "Пропуски после:\n"
     ]
    },
    {
     "data": {
      "text/plain": [
       "days_employed    0\n",
       "total_income     0\n",
       "dtype: int64"
      ]
     },
     "execution_count": 3,
     "metadata": {},
     "output_type": "execute_result"
    }
   ],
   "source": [
    "print('Пропуски до:')\n",
    "print(df.isna().sum()) #количество пропусков в столбцах\n",
    "print()\n",
    "print(df.loc[df['days_employed'].isna(), ['dob_years', 'education', 'income_type']].head(10)) #попытка понять причирну пропусков\n",
    "df['days_employed'] = df['days_employed'].fillna(df['days_employed'].median()) #замена пропусков медианным значением\n",
    "print()\n",
    "print('Медианный доход по типам занятости, руб/мес')\n",
    "print() # Замена пропусков медианой по группам\n",
    "for income in df['income_type'].unique():\n",
    "    median = df.loc[df['income_type'] == income, 'total_income'].median()\n",
    "    print(f'{income}, - {median}')\n",
    "    df.loc[(df['total_income'].isna()) & (df['income_type'] == income), 'total_income'] = median\n",
    "print()    \n",
    "print('Пропуски после:')\n",
    "df[['days_employed', 'total_income']].isna().sum() #Проверка"
   ]
  },
  {
   "cell_type": "markdown",
   "metadata": {},
   "source": [
    "\n"
   ]
  },
  {
   "cell_type": "markdown",
   "metadata": {},
   "source": [
    "**Вывод**"
   ]
  },
  {
   "cell_type": "markdown",
   "metadata": {},
   "source": [
    "Пропуски содержатся всего в двух стодбцах: стаж (days_employed) и доход (total_income). Судя по их равному количеству, это одни и те же заемщики. Мы посмотрели первые 10 строк с пропущенными данными и не обнаружили очевидных закономерностей, почему эти заемщики предпочли не указывать стаж и размер дохода.  Пропуски в этих столбцах могли появиться как специально (люди не захотели делиться этими данными), были пропущены случайно либо из-за технических сложностей. Пропуски составляют примерно 10% от всей совокупности данных, это довольно значимое число. Было решено заменить пропуски в стаже их медианным значением для всех значений данного столбца. А пропуске в доходе медианным доходом для каждого типа занятости, так как этот столбец влияет на результаты исследования и для него нужен более точный подход."
   ]
  },
  {
   "cell_type": "markdown",
   "metadata": {},
   "source": [
    "### Замена типа данных"
   ]
  },
  {
   "cell_type": "code",
   "execution_count": 4,
   "metadata": {},
   "outputs": [
    {
     "data": {
      "text/html": [
       "<div>\n",
       "<style scoped>\n",
       "    .dataframe tbody tr th:only-of-type {\n",
       "        vertical-align: middle;\n",
       "    }\n",
       "\n",
       "    .dataframe tbody tr th {\n",
       "        vertical-align: top;\n",
       "    }\n",
       "\n",
       "    .dataframe thead th {\n",
       "        text-align: right;\n",
       "    }\n",
       "</style>\n",
       "<table border=\"1\" class=\"dataframe\">\n",
       "  <thead>\n",
       "    <tr style=\"text-align: right;\">\n",
       "      <th></th>\n",
       "      <th>children</th>\n",
       "      <th>days_employed</th>\n",
       "      <th>dob_years</th>\n",
       "      <th>education</th>\n",
       "      <th>education_id</th>\n",
       "      <th>family_status</th>\n",
       "      <th>family_status_id</th>\n",
       "      <th>gender</th>\n",
       "      <th>income_type</th>\n",
       "      <th>debt</th>\n",
       "      <th>total_income</th>\n",
       "      <th>purpose</th>\n",
       "    </tr>\n",
       "  </thead>\n",
       "  <tbody>\n",
       "    <tr>\n",
       "      <td>0</td>\n",
       "      <td>1</td>\n",
       "      <td>8437</td>\n",
       "      <td>42</td>\n",
       "      <td>высшее</td>\n",
       "      <td>0</td>\n",
       "      <td>женат / замужем</td>\n",
       "      <td>0</td>\n",
       "      <td>F</td>\n",
       "      <td>сотрудник</td>\n",
       "      <td>0</td>\n",
       "      <td>253875</td>\n",
       "      <td>покупка жилья</td>\n",
       "    </tr>\n",
       "    <tr>\n",
       "      <td>1</td>\n",
       "      <td>1</td>\n",
       "      <td>4024</td>\n",
       "      <td>36</td>\n",
       "      <td>среднее</td>\n",
       "      <td>1</td>\n",
       "      <td>женат / замужем</td>\n",
       "      <td>0</td>\n",
       "      <td>F</td>\n",
       "      <td>сотрудник</td>\n",
       "      <td>0</td>\n",
       "      <td>112080</td>\n",
       "      <td>приобретение автомобиля</td>\n",
       "    </tr>\n",
       "    <tr>\n",
       "      <td>2</td>\n",
       "      <td>0</td>\n",
       "      <td>5623</td>\n",
       "      <td>33</td>\n",
       "      <td>Среднее</td>\n",
       "      <td>1</td>\n",
       "      <td>женат / замужем</td>\n",
       "      <td>0</td>\n",
       "      <td>M</td>\n",
       "      <td>сотрудник</td>\n",
       "      <td>0</td>\n",
       "      <td>145885</td>\n",
       "      <td>покупка жилья</td>\n",
       "    </tr>\n",
       "    <tr>\n",
       "      <td>3</td>\n",
       "      <td>3</td>\n",
       "      <td>4124</td>\n",
       "      <td>32</td>\n",
       "      <td>среднее</td>\n",
       "      <td>1</td>\n",
       "      <td>женат / замужем</td>\n",
       "      <td>0</td>\n",
       "      <td>M</td>\n",
       "      <td>сотрудник</td>\n",
       "      <td>0</td>\n",
       "      <td>267628</td>\n",
       "      <td>дополнительное образование</td>\n",
       "    </tr>\n",
       "    <tr>\n",
       "      <td>4</td>\n",
       "      <td>0</td>\n",
       "      <td>14177</td>\n",
       "      <td>53</td>\n",
       "      <td>среднее</td>\n",
       "      <td>1</td>\n",
       "      <td>гражданский брак</td>\n",
       "      <td>1</td>\n",
       "      <td>F</td>\n",
       "      <td>пенсионер</td>\n",
       "      <td>0</td>\n",
       "      <td>158616</td>\n",
       "      <td>сыграть свадьбу</td>\n",
       "    </tr>\n",
       "  </tbody>\n",
       "</table>\n",
       "</div>"
      ],
      "text/plain": [
       "   children  days_employed  dob_years education  education_id  \\\n",
       "0         1           8437         42    высшее             0   \n",
       "1         1           4024         36   среднее             1   \n",
       "2         0           5623         33   Среднее             1   \n",
       "3         3           4124         32   среднее             1   \n",
       "4         0          14177         53   среднее             1   \n",
       "\n",
       "      family_status  family_status_id gender income_type  debt  total_income  \\\n",
       "0   женат / замужем                 0      F   сотрудник     0        253875   \n",
       "1   женат / замужем                 0      F   сотрудник     0        112080   \n",
       "2   женат / замужем                 0      M   сотрудник     0        145885   \n",
       "3   женат / замужем                 0      M   сотрудник     0        267628   \n",
       "4  гражданский брак                 1      F   пенсионер     0        158616   \n",
       "\n",
       "                      purpose  \n",
       "0               покупка жилья  \n",
       "1     приобретение автомобиля  \n",
       "2               покупка жилья  \n",
       "3  дополнительное образование  \n",
       "4             сыграть свадьбу  "
      ]
     },
     "execution_count": 4,
     "metadata": {},
     "output_type": "execute_result"
    }
   ],
   "source": [
    "df['days_employed'] = df['days_employed'].astype('int')\n",
    "df['total_income'] = df['total_income'].astype('int')\n",
    "df.head() #проверка"
   ]
  },
  {
   "cell_type": "markdown",
   "metadata": {},
   "source": [
    "**Вывод**"
   ]
  },
  {
   "cell_type": "markdown",
   "metadata": {},
   "source": [
    "Числовые данные в столбцах стаж в днях и доход были переведены в целочисленный для того, чтобы их было комфортней воспринимать. Применялся метод as_type()"
   ]
  },
  {
   "cell_type": "markdown",
   "metadata": {},
   "source": [
    "### Обработка дубликатов"
   ]
  },
  {
   "cell_type": "code",
   "execution_count": 5,
   "metadata": {
    "scrolled": false
   },
   "outputs": [
    {
     "name": "stdout",
     "output_type": "stream",
     "text": [
      "Уникальные значения в столбце Образование, до:\n",
      "['высшее' 'среднее' 'Среднее' 'СРЕДНЕЕ' 'ВЫСШЕЕ' 'неоконченное высшее'\n",
      " 'начальное' 'Высшее' 'НЕОКОНЧЕННОЕ ВЫСШЕЕ' 'Неоконченное высшее'\n",
      " 'НАЧАЛЬНОЕ' 'Начальное' 'Ученая степень' 'УЧЕНАЯ СТЕПЕНЬ'\n",
      " 'ученая степень']\n",
      "\n",
      "Уникальные значения в столбце Образование, после:\n"
     ]
    },
    {
     "data": {
      "text/plain": [
       "array(['высшее', 'среднее', 'неоконченное высшее', 'начальное',\n",
       "       'ученая степень'], dtype=object)"
      ]
     },
     "execution_count": 5,
     "metadata": {},
     "output_type": "execute_result"
    }
   ],
   "source": [
    "print('Уникальные значения в столбце Образование, до:')\n",
    "print(df['education'].unique()) # \n",
    "df['education'] = df['education'].str.lower()\n",
    "print()\n",
    "print('Уникальные значения в столбце Образование, после:')\n",
    "df['education'].unique() \n"
   ]
  },
  {
   "cell_type": "markdown",
   "metadata": {},
   "source": [
    "Варианты данных в столбце образование привели к единообразным значениям, заменив прописные буквы на строчные"
   ]
  },
  {
   "cell_type": "code",
   "execution_count": 6,
   "metadata": {
    "scrolled": true
   },
   "outputs": [
    {
     "name": "stdout",
     "output_type": "stream",
     "text": [
      "Количество строк-дубликатов до: 137\n"
     ]
    },
    {
     "data": {
      "text/html": [
       "<div>\n",
       "<style scoped>\n",
       "    .dataframe tbody tr th:only-of-type {\n",
       "        vertical-align: middle;\n",
       "    }\n",
       "\n",
       "    .dataframe tbody tr th {\n",
       "        vertical-align: top;\n",
       "    }\n",
       "\n",
       "    .dataframe thead th {\n",
       "        text-align: right;\n",
       "    }\n",
       "</style>\n",
       "<table border=\"1\" class=\"dataframe\">\n",
       "  <thead>\n",
       "    <tr style=\"text-align: right;\">\n",
       "      <th></th>\n",
       "      <th>children</th>\n",
       "      <th>days_employed</th>\n",
       "      <th>dob_years</th>\n",
       "      <th>education</th>\n",
       "      <th>education_id</th>\n",
       "      <th>family_status</th>\n",
       "      <th>family_status_id</th>\n",
       "      <th>gender</th>\n",
       "      <th>income_type</th>\n",
       "      <th>debt</th>\n",
       "      <th>total_income</th>\n",
       "      <th>purpose</th>\n",
       "    </tr>\n",
       "  </thead>\n",
       "  <tbody>\n",
       "    <tr>\n",
       "      <td>15892</td>\n",
       "      <td>0</td>\n",
       "      <td>2194</td>\n",
       "      <td>23</td>\n",
       "      <td>среднее</td>\n",
       "      <td>1</td>\n",
       "      <td>Не женат / не замужем</td>\n",
       "      <td>4</td>\n",
       "      <td>F</td>\n",
       "      <td>сотрудник</td>\n",
       "      <td>0</td>\n",
       "      <td>142594</td>\n",
       "      <td>сделка с подержанным автомобилем</td>\n",
       "    </tr>\n",
       "    <tr>\n",
       "      <td>19321</td>\n",
       "      <td>0</td>\n",
       "      <td>2194</td>\n",
       "      <td>23</td>\n",
       "      <td>среднее</td>\n",
       "      <td>1</td>\n",
       "      <td>Не женат / не замужем</td>\n",
       "      <td>4</td>\n",
       "      <td>F</td>\n",
       "      <td>сотрудник</td>\n",
       "      <td>0</td>\n",
       "      <td>142594</td>\n",
       "      <td>сделка с подержанным автомобилем</td>\n",
       "    </tr>\n",
       "    <tr>\n",
       "      <td>3452</td>\n",
       "      <td>0</td>\n",
       "      <td>2194</td>\n",
       "      <td>29</td>\n",
       "      <td>высшее</td>\n",
       "      <td>0</td>\n",
       "      <td>женат / замужем</td>\n",
       "      <td>0</td>\n",
       "      <td>M</td>\n",
       "      <td>сотрудник</td>\n",
       "      <td>0</td>\n",
       "      <td>142594</td>\n",
       "      <td>покупка жилой недвижимости</td>\n",
       "    </tr>\n",
       "    <tr>\n",
       "      <td>18328</td>\n",
       "      <td>0</td>\n",
       "      <td>2194</td>\n",
       "      <td>29</td>\n",
       "      <td>высшее</td>\n",
       "      <td>0</td>\n",
       "      <td>женат / замужем</td>\n",
       "      <td>0</td>\n",
       "      <td>M</td>\n",
       "      <td>сотрудник</td>\n",
       "      <td>0</td>\n",
       "      <td>142594</td>\n",
       "      <td>покупка жилой недвижимости</td>\n",
       "    </tr>\n",
       "    <tr>\n",
       "      <td>4216</td>\n",
       "      <td>0</td>\n",
       "      <td>2194</td>\n",
       "      <td>30</td>\n",
       "      <td>среднее</td>\n",
       "      <td>1</td>\n",
       "      <td>женат / замужем</td>\n",
       "      <td>0</td>\n",
       "      <td>M</td>\n",
       "      <td>сотрудник</td>\n",
       "      <td>0</td>\n",
       "      <td>142594</td>\n",
       "      <td>строительство жилой недвижимости</td>\n",
       "    </tr>\n",
       "    <tr>\n",
       "      <td>...</td>\n",
       "      <td>...</td>\n",
       "      <td>...</td>\n",
       "      <td>...</td>\n",
       "      <td>...</td>\n",
       "      <td>...</td>\n",
       "      <td>...</td>\n",
       "      <td>...</td>\n",
       "      <td>...</td>\n",
       "      <td>...</td>\n",
       "      <td>...</td>\n",
       "      <td>...</td>\n",
       "      <td>...</td>\n",
       "    </tr>\n",
       "    <tr>\n",
       "      <td>9238</td>\n",
       "      <td>2</td>\n",
       "      <td>2194</td>\n",
       "      <td>34</td>\n",
       "      <td>среднее</td>\n",
       "      <td>1</td>\n",
       "      <td>женат / замужем</td>\n",
       "      <td>0</td>\n",
       "      <td>F</td>\n",
       "      <td>сотрудник</td>\n",
       "      <td>0</td>\n",
       "      <td>142594</td>\n",
       "      <td>покупка жилья для сдачи</td>\n",
       "    </tr>\n",
       "    <tr>\n",
       "      <td>9013</td>\n",
       "      <td>2</td>\n",
       "      <td>2194</td>\n",
       "      <td>36</td>\n",
       "      <td>высшее</td>\n",
       "      <td>0</td>\n",
       "      <td>женат / замужем</td>\n",
       "      <td>0</td>\n",
       "      <td>F</td>\n",
       "      <td>госслужащий</td>\n",
       "      <td>0</td>\n",
       "      <td>150447</td>\n",
       "      <td>получение образования</td>\n",
       "    </tr>\n",
       "    <tr>\n",
       "      <td>14432</td>\n",
       "      <td>2</td>\n",
       "      <td>2194</td>\n",
       "      <td>36</td>\n",
       "      <td>высшее</td>\n",
       "      <td>0</td>\n",
       "      <td>женат / замужем</td>\n",
       "      <td>0</td>\n",
       "      <td>F</td>\n",
       "      <td>госслужащий</td>\n",
       "      <td>0</td>\n",
       "      <td>150447</td>\n",
       "      <td>получение образования</td>\n",
       "    </tr>\n",
       "    <tr>\n",
       "      <td>11033</td>\n",
       "      <td>2</td>\n",
       "      <td>2194</td>\n",
       "      <td>39</td>\n",
       "      <td>среднее</td>\n",
       "      <td>1</td>\n",
       "      <td>гражданский брак</td>\n",
       "      <td>1</td>\n",
       "      <td>F</td>\n",
       "      <td>сотрудник</td>\n",
       "      <td>0</td>\n",
       "      <td>142594</td>\n",
       "      <td>сыграть свадьбу</td>\n",
       "    </tr>\n",
       "    <tr>\n",
       "      <td>16902</td>\n",
       "      <td>2</td>\n",
       "      <td>2194</td>\n",
       "      <td>39</td>\n",
       "      <td>среднее</td>\n",
       "      <td>1</td>\n",
       "      <td>гражданский брак</td>\n",
       "      <td>1</td>\n",
       "      <td>F</td>\n",
       "      <td>сотрудник</td>\n",
       "      <td>0</td>\n",
       "      <td>142594</td>\n",
       "      <td>сыграть свадьбу</td>\n",
       "    </tr>\n",
       "  </tbody>\n",
       "</table>\n",
       "<p>137 rows × 12 columns</p>\n",
       "</div>"
      ],
      "text/plain": [
       "       children  days_employed  dob_years education  education_id  \\\n",
       "15892         0           2194         23   среднее             1   \n",
       "19321         0           2194         23   среднее             1   \n",
       "3452          0           2194         29    высшее             0   \n",
       "18328         0           2194         29    высшее             0   \n",
       "4216          0           2194         30   среднее             1   \n",
       "...         ...            ...        ...       ...           ...   \n",
       "9238          2           2194         34   среднее             1   \n",
       "9013          2           2194         36    высшее             0   \n",
       "14432         2           2194         36    высшее             0   \n",
       "11033         2           2194         39   среднее             1   \n",
       "16902         2           2194         39   среднее             1   \n",
       "\n",
       "               family_status  family_status_id gender  income_type  debt  \\\n",
       "15892  Не женат / не замужем                 4      F    сотрудник     0   \n",
       "19321  Не женат / не замужем                 4      F    сотрудник     0   \n",
       "3452         женат / замужем                 0      M    сотрудник     0   \n",
       "18328        женат / замужем                 0      M    сотрудник     0   \n",
       "4216         женат / замужем                 0      M    сотрудник     0   \n",
       "...                      ...               ...    ...          ...   ...   \n",
       "9238         женат / замужем                 0      F    сотрудник     0   \n",
       "9013         женат / замужем                 0      F  госслужащий     0   \n",
       "14432        женат / замужем                 0      F  госслужащий     0   \n",
       "11033       гражданский брак                 1      F    сотрудник     0   \n",
       "16902       гражданский брак                 1      F    сотрудник     0   \n",
       "\n",
       "       total_income                           purpose  \n",
       "15892        142594  сделка с подержанным автомобилем  \n",
       "19321        142594  сделка с подержанным автомобилем  \n",
       "3452         142594        покупка жилой недвижимости  \n",
       "18328        142594        покупка жилой недвижимости  \n",
       "4216         142594  строительство жилой недвижимости  \n",
       "...             ...                               ...  \n",
       "9238         142594           покупка жилья для сдачи  \n",
       "9013         150447             получение образования  \n",
       "14432        150447             получение образования  \n",
       "11033        142594                   сыграть свадьбу  \n",
       "16902        142594                   сыграть свадьбу  \n",
       "\n",
       "[137 rows x 12 columns]"
      ]
     },
     "execution_count": 6,
     "metadata": {},
     "output_type": "execute_result"
    }
   ],
   "source": [
    "\n",
    "print(f'Количество строк-дубликатов до: {df.duplicated(keep = False).sum()}')\n",
    "df[df.duplicated(keep = False)].sort_values(by = list(df.columns)) # keep = False выведет все совпадения"
   ]
  },
  {
   "cell_type": "code",
   "execution_count": 7,
   "metadata": {},
   "outputs": [
    {
     "name": "stdout",
     "output_type": "stream",
     "text": [
      "Количество строк-дубликатов после: 0\n"
     ]
    }
   ],
   "source": [
    "df = df.drop_duplicates().reset_index(drop = True) #удаление дубликатов\n",
    "print(f'Количество строк-дубликатов после: {df.duplicated(keep = False).sum()}')"
   ]
  },
  {
   "cell_type": "markdown",
   "metadata": {},
   "source": [
    "**Вывод**"
   ]
  },
  {
   "cell_type": "markdown",
   "metadata": {},
   "source": [
    "Было выявлено 137 полных строк-дубликатов, они могли появиться как из-за человеческого фактора - какие-то строки были занесены дважды, так и технических сбоев. Были удалены методом drop.duplucates() c обновлением индексов."
   ]
  },
  {
   "cell_type": "markdown",
   "metadata": {},
   "source": [
    "### Лемматизация"
   ]
  },
  {
   "cell_type": "code",
   "execution_count": 8,
   "metadata": {},
   "outputs": [],
   "source": [
    "from pymystem3 import Mystem #импорт библиотеки лемм на русском языке\n",
    "m = Mystem() \n",
    "#' '.join(purpose_uniq)\n",
    "text = ' '.join(df['purpose'].unique()) #преобразование списка значений стобца purpose в строку"
   ]
  },
  {
   "cell_type": "code",
   "execution_count": 9,
   "metadata": {
    "scrolled": false
   },
   "outputs": [
    {
     "name": "stdout",
     "output_type": "stream",
     "text": [
      "Леммы, использованные в столбце purpose:\n",
      "['покупка', ' ', 'жилье', ' ', 'приобретение', ' ', 'автомобиль', ' ', 'дополнительный', ' ', 'образование', ' ', 'сыграть', ' ', 'свадьба', ' ', 'операция', ' ', 'с', ' ', 'жилье', ' ', 'образование', ' ', 'на', ' ', 'проведение', ' ', 'свадьба', ' ', 'покупка', ' ', 'жилье', ' ', 'для', ' ', 'семья', ' ', 'покупка', ' ', 'недвижимость', ' ', 'покупка', ' ', 'коммерческий', ' ', 'недвижимость', ' ', 'покупка', ' ', 'жилой', ' ', 'недвижимость', ' ', 'строительство', ' ', 'собственный', ' ', 'недвижимость', ' ', 'недвижимость', ' ', 'строительство', ' ', 'недвижимость', ' ', 'на', ' ', 'покупка', ' ', 'подержать', ' ', 'автомобиль', ' ', 'на', ' ', 'покупка', ' ', 'свой', ' ', 'автомобиль', ' ', 'операция', ' ', 'с', ' ', 'коммерческий', ' ', 'недвижимость', ' ', 'строительство', ' ', 'жилой', ' ', 'недвижимость', ' ', 'жилье', ' ', 'операция', ' ', 'со', ' ', 'свой', ' ', 'недвижимость', ' ', 'автомобиль', ' ', 'заниматься', ' ', 'образование', ' ', 'сделка', ' ', 'с', ' ', 'подержать', ' ', 'автомобиль', ' ', 'получение', ' ', 'образование', ' ', 'автомобиль', ' ', 'свадьба', ' ', 'получение', ' ', 'дополнительный', ' ', 'образование', ' ', 'покупка', ' ', 'свой', ' ', 'жилье', ' ', 'операция', ' ', 'с', ' ', 'недвижимость', ' ', 'получение', ' ', 'высокий', ' ', 'образование', ' ', 'свой', ' ', 'автомобиль', ' ', 'сделка', ' ', 'с', ' ', 'автомобиль', ' ', 'профильный', ' ', 'образование', ' ', 'высокий', ' ', 'образование', ' ', 'покупка', ' ', 'жилье', ' ', 'для', ' ', 'сдача', ' ', 'на', ' ', 'покупка', ' ', 'автомобиль', ' ', 'ремонт', ' ', 'жилье', ' ', 'заниматься', ' ', 'высокий', ' ', 'образование', '\\n']\n"
     ]
    }
   ],
   "source": [
    "lemmas = m.lemmatize(text) #получение списка лемм\n",
    "print('Леммы, использованные в столбце purpose:')\n",
    "print(lemmas)"
   ]
  },
  {
   "cell_type": "code",
   "execution_count": 10,
   "metadata": {
    "scrolled": false
   },
   "outputs": [
    {
     "name": "stdout",
     "output_type": "stream",
     "text": [
      "Counter({' ': 96, 'покупка': 10, 'недвижимость': 10, 'автомобиль': 9, 'образование': 9, 'жилье': 7, 'с': 5, 'операция': 4, 'на': 4, 'свой': 4, 'свадьба': 3, 'строительство': 3, 'получение': 3, 'высокий': 3, 'дополнительный': 2, 'для': 2, 'коммерческий': 2, 'жилой': 2, 'подержать': 2, 'заниматься': 2, 'сделка': 2, 'приобретение': 1, 'сыграть': 1, 'проведение': 1, 'семья': 1, 'собственный': 1, 'со': 1, 'профильный': 1, 'сдача': 1, 'ремонт': 1, '\\n': 1})\n"
     ]
    }
   ],
   "source": [
    "from collections import Counter #подсчет упоминания каждой из лемм\n",
    "print(Counter(lemmas)) "
   ]
  },
  {
   "cell_type": "code",
   "execution_count": 11,
   "metadata": {
    "scrolled": false
   },
   "outputs": [
    {
     "name": "stdout",
     "output_type": "stream",
     "text": [
      "Разбивка целей на категории с частотой использования\n"
     ]
    },
    {
     "data": {
      "text/plain": [
       "недвижимость    10811\n",
       "авто             4306\n",
       "образование      4013\n",
       "прочее           2324\n",
       "Name: purpose_cat, dtype: int64"
      ]
     },
     "execution_count": 11,
     "metadata": {},
     "output_type": "execute_result"
    }
   ],
   "source": [
    "def purpose_cat(text): # группипровка целей по категориям\n",
    "    lemmas = m.lemmatize(text)\n",
    "    if 'недвижимость' in lemmas:\n",
    "        return 'недвижимость'\n",
    "    elif 'жилье' in lemmas:\n",
    "        return 'недвижимость'\n",
    "    elif 'автомобиль' in lemmas:\n",
    "        return 'авто'\n",
    "    elif 'образование' in lemmas:\n",
    "        return 'образование'\n",
    "    else:\n",
    "        return 'прочее'\n",
    " \n",
    "df['purpose_cat'] = df['purpose'].apply(purpose_cat)\n",
    "print('Разбивка целей на категории с частотой использования')\n",
    "df['purpose_cat'].value_counts() "
   ]
  },
  {
   "cell_type": "markdown",
   "metadata": {},
   "source": [
    "**Вывод**"
   ]
  },
  {
   "cell_type": "markdown",
   "metadata": {},
   "source": [
    "Чтобы проанализировать, есть ли связь между целями, на которые берется кредит, и его возвратом в срок необходимо разбить цели (столбец purpose) на группы. Этот трудоемкий процесс возможно автоматизировать с помощью лемматизации. Выделяются основы слов, используемых в purpose и в зависимости от частоты повторения лемм, выделяются отдельные категории целей. В результате все цели были сгурппированы в четыре категории, которые можно будет использовать в дальнейшем"
   ]
  },
  {
   "cell_type": "markdown",
   "metadata": {},
   "source": [
    "### Категоризация данных"
   ]
  },
  {
   "cell_type": "code",
   "execution_count": 12,
   "metadata": {},
   "outputs": [
    {
     "name": "stdout",
     "output_type": "stream",
     "text": [
      "Уникальные значения children до:\n",
      "[ 1  0  3  2 -1  4 20  5]\n",
      "Уникальные значения children после:\n",
      "[1 0 3 2 4 5]\n"
     ]
    }
   ],
   "source": [
    "print('Уникальные значения children до:')\n",
    "print(df['children'].unique())\n",
    "df['children'] = df['children'].replace(-1, 0)\n",
    "df['children'] = df['children'].replace(20, 2)\n",
    "print('Уникальные значения children после:')\n",
    "print(df['children'].unique()) #проверка"
   ]
  },
  {
   "cell_type": "markdown",
   "metadata": {},
   "source": [
    "Для того, чтобы категоризировать количество детей, сначало нужно посмотреть варианты заполнения данного столбца. Допустим, что -1 это означает отсутствие детей, 20 - это опечатка, и имелось в виду 2. И проведем соответствующие изменения"
   ]
  },
  {
   "cell_type": "markdown",
   "metadata": {},
   "source": [
    "Заявки по уровню дохода были разбиты на 5 равных групп с помощью метода qcut"
   ]
  },
  {
   "cell_type": "code",
   "execution_count": 13,
   "metadata": {
    "scrolled": false
   },
   "outputs": [
    {
     "data": {
      "text/plain": [
       "(214618.2, 2265604.0]    4291\n",
       "(161335.0, 214618.2]     4291\n",
       "(98537.6, 132134.4]      4291\n",
       "(20666.999, 98537.6]     4291\n",
       "(132134.4, 161335.0]     4290\n",
       "Name: total_income_gr, dtype: int64"
      ]
     },
     "execution_count": 13,
     "metadata": {},
     "output_type": "execute_result"
    }
   ],
   "source": [
    "df['total_income_gr'] = pd.qcut(df['total_income'], 5)\n",
    "df['total_income_gr'].value_counts()"
   ]
  },
  {
   "cell_type": "markdown",
   "metadata": {},
   "source": [
    "**Вывод**"
   ]
  },
  {
   "cell_type": "markdown",
   "metadata": {},
   "source": [
    "Категоризация данных - это необходимы шаг перед оперделением зависимостей и взаимосвязей между разфакторами и возвратностью кредитов. Цели были уже сгруппированны в разделе Лемматизация. В этом разделе данные были сгруппированы по количеству детей и уровню дохода."
   ]
  },
  {
   "cell_type": "markdown",
   "metadata": {},
   "source": [
    "<div class=\"alert alert-danger\">\n",
    "<font size=\"5\"><b>Комментарий ревьюера</b></font>\n",
    "\n",
    "Ошибка: В данных есть словари. Попробуй их обнаружить и выделить. Это довольно распространенный способ хранения информации. Мне важно понять, что он тобой освоен. Заметь, что в основной таблице мы имеем по 2 параметра с образованием и семейным статусом. Именно по ним и стоит выделить словари. \n",
    "\n",
    "</div>"
   ]
  },
  {
   "cell_type": "code",
   "execution_count": 14,
   "metadata": {},
   "outputs": [
    {
     "name": "stdout",
     "output_type": "stream",
     "text": [
      "[0 1 2 3 4]\n",
      "['женат / замужем' 'гражданский брак' 'вдовец / вдова' 'в разводе'\n",
      " 'Не женат / не замужем']\n"
     ]
    },
    {
     "data": {
      "text/html": [
       "<div>\n",
       "<style scoped>\n",
       "    .dataframe tbody tr th:only-of-type {\n",
       "        vertical-align: middle;\n",
       "    }\n",
       "\n",
       "    .dataframe tbody tr th {\n",
       "        vertical-align: top;\n",
       "    }\n",
       "\n",
       "    .dataframe thead th {\n",
       "        text-align: right;\n",
       "    }\n",
       "</style>\n",
       "<table border=\"1\" class=\"dataframe\">\n",
       "  <thead>\n",
       "    <tr style=\"text-align: right;\">\n",
       "      <th></th>\n",
       "      <th>family_status</th>\n",
       "    </tr>\n",
       "    <tr>\n",
       "      <th>family_status_id</th>\n",
       "      <th></th>\n",
       "    </tr>\n",
       "  </thead>\n",
       "  <tbody>\n",
       "    <tr>\n",
       "      <td>0</td>\n",
       "      <td>женат / замужем</td>\n",
       "    </tr>\n",
       "    <tr>\n",
       "      <td>1</td>\n",
       "      <td>гражданский брак</td>\n",
       "    </tr>\n",
       "    <tr>\n",
       "      <td>2</td>\n",
       "      <td>вдовец / вдова</td>\n",
       "    </tr>\n",
       "    <tr>\n",
       "      <td>3</td>\n",
       "      <td>в разводе</td>\n",
       "    </tr>\n",
       "    <tr>\n",
       "      <td>4</td>\n",
       "      <td>Не женат / не замужем</td>\n",
       "    </tr>\n",
       "  </tbody>\n",
       "</table>\n",
       "</div>"
      ],
      "text/plain": [
       "                          family_status\n",
       "family_status_id                       \n",
       "0                       женат / замужем\n",
       "1                      гражданский брак\n",
       "2                        вдовец / вдова\n",
       "3                             в разводе\n",
       "4                 Не женат / не замужем"
      ]
     },
     "execution_count": 14,
     "metadata": {},
     "output_type": "execute_result"
    }
   ],
   "source": [
    "print(df['family_status_id'].unique())\n",
    "print(df['family_status'].unique())\n",
    "df[['family_status_id', 'family_status']].drop_duplicates().set_index('family_status_id')\n"
   ]
  },
  {
   "cell_type": "markdown",
   "metadata": {},
   "source": [
    "Здесь мы проверили категоральные переменные и удостоверились, что столбцы family_status и family_status_id заполнены правильно"
   ]
  },
  {
   "cell_type": "markdown",
   "metadata": {},
   "source": [
    "## Шаг 3. Ответьте на вопросы"
   ]
  },
  {
   "cell_type": "markdown",
   "metadata": {},
   "source": [
    "- Есть ли зависимость между наличием детей и возвратом кредита в срок?"
   ]
  },
  {
   "cell_type": "code",
   "execution_count": 15,
   "metadata": {},
   "outputs": [
    {
     "name": "stdout",
     "output_type": "stream",
     "text": [
      "зависимость между количеством детей и возвратом кредита в срок\n"
     ]
    },
    {
     "data": {
      "text/html": [
       "<div>\n",
       "<style scoped>\n",
       "    .dataframe tbody tr th:only-of-type {\n",
       "        vertical-align: middle;\n",
       "    }\n",
       "\n",
       "    .dataframe tbody tr th {\n",
       "        vertical-align: top;\n",
       "    }\n",
       "\n",
       "    .dataframe thead th {\n",
       "        text-align: right;\n",
       "    }\n",
       "</style>\n",
       "<table border=\"1\" class=\"dataframe\">\n",
       "  <thead>\n",
       "    <tr style=\"text-align: right;\">\n",
       "      <th></th>\n",
       "      <th>no_debt</th>\n",
       "      <th>debt</th>\n",
       "      <th>debt_%</th>\n",
       "    </tr>\n",
       "    <tr>\n",
       "      <th>children</th>\n",
       "      <th></th>\n",
       "      <th></th>\n",
       "      <th></th>\n",
       "    </tr>\n",
       "  </thead>\n",
       "  <tbody>\n",
       "    <tr>\n",
       "      <td>0</td>\n",
       "      <td>13074.0</td>\n",
       "      <td>1064.0</td>\n",
       "      <td>7.525817</td>\n",
       "    </tr>\n",
       "    <tr>\n",
       "      <td>1</td>\n",
       "      <td>4364.0</td>\n",
       "      <td>444.0</td>\n",
       "      <td>9.234609</td>\n",
       "    </tr>\n",
       "    <tr>\n",
       "      <td>2</td>\n",
       "      <td>1926.0</td>\n",
       "      <td>202.0</td>\n",
       "      <td>9.492481</td>\n",
       "    </tr>\n",
       "    <tr>\n",
       "      <td>3</td>\n",
       "      <td>303.0</td>\n",
       "      <td>27.0</td>\n",
       "      <td>8.181818</td>\n",
       "    </tr>\n",
       "    <tr>\n",
       "      <td>4</td>\n",
       "      <td>37.0</td>\n",
       "      <td>4.0</td>\n",
       "      <td>9.756098</td>\n",
       "    </tr>\n",
       "    <tr>\n",
       "      <td>5</td>\n",
       "      <td>9.0</td>\n",
       "      <td>NaN</td>\n",
       "      <td>NaN</td>\n",
       "    </tr>\n",
       "  </tbody>\n",
       "</table>\n",
       "</div>"
      ],
      "text/plain": [
       "          no_debt    debt    debt_%\n",
       "children                           \n",
       "0         13074.0  1064.0  7.525817\n",
       "1          4364.0   444.0  9.234609\n",
       "2          1926.0   202.0  9.492481\n",
       "3           303.0    27.0  8.181818\n",
       "4            37.0     4.0  9.756098\n",
       "5             9.0     NaN       NaN"
      ]
     },
     "execution_count": 15,
     "metadata": {},
     "output_type": "execute_result"
    }
   ],
   "source": [
    "print('зависимость между количеством детей и возвратом кредита в срок')\n",
    "df_pivot = df.pivot_table(index = 'children', columns = 'debt', values = 'days_employed', aggfunc = 'count')\n",
    "df_pivot.columns = ['no_debt', 'debt'] #переименуем столбцы для наглядности\n",
    "df_pivot['debt_%'] = df_pivot['debt']/(df_pivot['debt']+df_pivot['no_debt'])*100\n",
    "df_pivot"
   ]
  },
  {
   "cell_type": "markdown",
   "metadata": {},
   "source": [
    "Чтобы ответить на вопрос \"Есть ли зависимость между количеством детей и возвратом кредита в срок?\", создадим сводную таблицу, где все заявки на выдачу кредита, будут разбиты на группы по количеству детей, по строкам, а в столбцах будет разбивка этих же заявок, на были ли задержки по возврату кредита (debt: значение 1 в столбце debt исходного датафрейма) или нет (no_debt: значение 0 в столбце debt исходного датафрейма).\n",
    "В столбце debt_% посчитаем % проблемных задолженностей в общем количестве заявок. Это будет наш ключевой показатель, анализ которого в разрезе отдельных групп будет ответом на вопросы. \n",
    "Сводные таблица для анализа других факторов будут сделаны аналогично."
   ]
  },
  {
   "cell_type": "code",
   "execution_count": 16,
   "metadata": {},
   "outputs": [
    {
     "name": "stdout",
     "output_type": "stream",
     "text": [
      "сводная таблица сделана правильно\n"
     ]
    }
   ],
   "source": [
    "df_sum = df_pivot['debt'].sum()+df_pivot['no_debt'].sum() #проверка правильно ли сделан пивот - подсчет количества строк\n",
    "if df.shape[0] == df_sum:\n",
    "    print('сводная таблица сделана правильно')"
   ]
  },
  {
   "cell_type": "markdown",
   "metadata": {},
   "source": [
    "**Вывод**"
   ]
  },
  {
   "cell_type": "markdown",
   "metadata": {},
   "source": [
    "Наличие детей в целом негативно влияет на возврат кредита в срок. Проблемных кредитов среди бездетных заявок 7,5%. Тогда как наличие одного ребенка повышает это процент до 9,2, а двух до 9,4. Появление третьего ребенка в семье немного улучшает картину и понижает его до 8,2."
   ]
  },
  {
   "cell_type": "markdown",
   "metadata": {},
   "source": [
    "- Есть ли зависимость между семейным положением и возвратом кредита в срок?"
   ]
  },
  {
   "cell_type": "code",
   "execution_count": 17,
   "metadata": {},
   "outputs": [
    {
     "name": "stdout",
     "output_type": "stream",
     "text": [
      "зависимость между семейным положением и возвратом кредита в срок\n"
     ]
    },
    {
     "data": {
      "text/html": [
       "<div>\n",
       "<style scoped>\n",
       "    .dataframe tbody tr th:only-of-type {\n",
       "        vertical-align: middle;\n",
       "    }\n",
       "\n",
       "    .dataframe tbody tr th {\n",
       "        vertical-align: top;\n",
       "    }\n",
       "\n",
       "    .dataframe thead th {\n",
       "        text-align: right;\n",
       "    }\n",
       "</style>\n",
       "<table border=\"1\" class=\"dataframe\">\n",
       "  <thead>\n",
       "    <tr style=\"text-align: right;\">\n",
       "      <th></th>\n",
       "      <th>no_debt</th>\n",
       "      <th>debt</th>\n",
       "      <th>debt_%</th>\n",
       "    </tr>\n",
       "    <tr>\n",
       "      <th>family_status</th>\n",
       "      <th></th>\n",
       "      <th></th>\n",
       "      <th></th>\n",
       "    </tr>\n",
       "  </thead>\n",
       "  <tbody>\n",
       "    <tr>\n",
       "      <td>Не женат / не замужем</td>\n",
       "      <td>2536</td>\n",
       "      <td>274</td>\n",
       "      <td>9.750890</td>\n",
       "    </tr>\n",
       "    <tr>\n",
       "      <td>в разводе</td>\n",
       "      <td>1110</td>\n",
       "      <td>85</td>\n",
       "      <td>7.112971</td>\n",
       "    </tr>\n",
       "    <tr>\n",
       "      <td>вдовец / вдова</td>\n",
       "      <td>896</td>\n",
       "      <td>63</td>\n",
       "      <td>6.569343</td>\n",
       "    </tr>\n",
       "    <tr>\n",
       "      <td>гражданский брак</td>\n",
       "      <td>3763</td>\n",
       "      <td>388</td>\n",
       "      <td>9.347145</td>\n",
       "    </tr>\n",
       "    <tr>\n",
       "      <td>женат / замужем</td>\n",
       "      <td>11408</td>\n",
       "      <td>931</td>\n",
       "      <td>7.545182</td>\n",
       "    </tr>\n",
       "  </tbody>\n",
       "</table>\n",
       "</div>"
      ],
      "text/plain": [
       "                       no_debt  debt    debt_%\n",
       "family_status                                 \n",
       "Не женат / не замужем     2536   274  9.750890\n",
       "в разводе                 1110    85  7.112971\n",
       "вдовец / вдова             896    63  6.569343\n",
       "гражданский брак          3763   388  9.347145\n",
       "женат / замужем          11408   931  7.545182"
      ]
     },
     "execution_count": 17,
     "metadata": {},
     "output_type": "execute_result"
    }
   ],
   "source": [
    "print('зависимость между семейным положением и возвратом кредита в срок')\n",
    "df_pivot = df.pivot_table(index = 'family_status', columns = 'debt', values = 'days_employed', aggfunc = 'count')\n",
    "df_pivot.columns = ['no_debt', 'debt'] #переименуем столбцы для наглядности\n",
    "df_pivot['debt_%'] = df_pivot['debt']/(df_pivot['debt']+df_pivot['no_debt'])*100\n",
    "df_pivot"
   ]
  },
  {
   "cell_type": "markdown",
   "metadata": {},
   "source": [
    "**Вывод**"
   ]
  },
  {
   "cell_type": "markdown",
   "metadata": {},
   "source": [
    "Самый высокий процент невозвратов у свободных людей либо не оформивших свои отношения оффициально. Причем у людей уже побывавших в браке (сейчас в разводе или вдовцы/вдовы) этот процент наиболее низкий. Достоверность этих выводов довольно сомнительна, так как такие категориях, как вдовцы и в разводе малочисленны и небольшая разница в процентах может быть не из-за реальных причин, а качества данных и погрешностей вычислений. Такие результаты могут косвенно говорить о влиянии возраста на возвратность кредитов. Т.е. молодые люди (не женатые, живущие в гражданском браке) имеют больше проблем с возвратом кредитов, чем более взрослые."
   ]
  },
  {
   "cell_type": "markdown",
   "metadata": {},
   "source": [
    "- Есть ли зависимость между уровнем дохода и возвратом кредита в срок?"
   ]
  },
  {
   "cell_type": "code",
   "execution_count": 18,
   "metadata": {},
   "outputs": [
    {
     "name": "stdout",
     "output_type": "stream",
     "text": [
      "зависимость между уровнем дохода и возвратом кредита в срок\n"
     ]
    },
    {
     "data": {
      "text/html": [
       "<div>\n",
       "<style scoped>\n",
       "    .dataframe tbody tr th:only-of-type {\n",
       "        vertical-align: middle;\n",
       "    }\n",
       "\n",
       "    .dataframe tbody tr th {\n",
       "        vertical-align: top;\n",
       "    }\n",
       "\n",
       "    .dataframe thead th {\n",
       "        text-align: right;\n",
       "    }\n",
       "</style>\n",
       "<table border=\"1\" class=\"dataframe\">\n",
       "  <thead>\n",
       "    <tr style=\"text-align: right;\">\n",
       "      <th></th>\n",
       "      <th>no_debt</th>\n",
       "      <th>debt</th>\n",
       "      <th>debt_%</th>\n",
       "    </tr>\n",
       "    <tr>\n",
       "      <th>total_income_gr</th>\n",
       "      <th></th>\n",
       "      <th></th>\n",
       "      <th></th>\n",
       "    </tr>\n",
       "  </thead>\n",
       "  <tbody>\n",
       "    <tr>\n",
       "      <td>(20666.999, 98537.6]</td>\n",
       "      <td>3947</td>\n",
       "      <td>344</td>\n",
       "      <td>8.016779</td>\n",
       "    </tr>\n",
       "    <tr>\n",
       "      <td>(98537.6, 132134.4]</td>\n",
       "      <td>3930</td>\n",
       "      <td>361</td>\n",
       "      <td>8.412957</td>\n",
       "    </tr>\n",
       "    <tr>\n",
       "      <td>(132134.4, 161335.0]</td>\n",
       "      <td>3915</td>\n",
       "      <td>375</td>\n",
       "      <td>8.741259</td>\n",
       "    </tr>\n",
       "    <tr>\n",
       "      <td>(161335.0, 214618.2]</td>\n",
       "      <td>3930</td>\n",
       "      <td>361</td>\n",
       "      <td>8.412957</td>\n",
       "    </tr>\n",
       "    <tr>\n",
       "      <td>(214618.2, 2265604.0]</td>\n",
       "      <td>3991</td>\n",
       "      <td>300</td>\n",
       "      <td>6.991377</td>\n",
       "    </tr>\n",
       "  </tbody>\n",
       "</table>\n",
       "</div>"
      ],
      "text/plain": [
       "                       no_debt  debt    debt_%\n",
       "total_income_gr                               \n",
       "(20666.999, 98537.6]      3947   344  8.016779\n",
       "(98537.6, 132134.4]       3930   361  8.412957\n",
       "(132134.4, 161335.0]      3915   375  8.741259\n",
       "(161335.0, 214618.2]      3930   361  8.412957\n",
       "(214618.2, 2265604.0]     3991   300  6.991377"
      ]
     },
     "execution_count": 18,
     "metadata": {},
     "output_type": "execute_result"
    }
   ],
   "source": [
    "print('зависимость между уровнем дохода и возвратом кредита в срок')\n",
    "df_pivot = df.pivot_table(index = 'total_income_gr', columns = 'debt', values = 'days_employed', aggfunc = 'count')\n",
    "df_pivot.columns = ['no_debt', 'debt'] #переименуем столбцы для наглядности\n",
    "df_pivot['debt_%'] = df_pivot['debt']/(df_pivot['debt']+df_pivot['no_debt'])*100\n",
    "df_pivot"
   ]
  },
  {
   "cell_type": "markdown",
   "metadata": {},
   "source": [
    "**Вывод**"
   ]
  },
  {
   "cell_type": "markdown",
   "metadata": {},
   "source": [
    "Самый низкий процент невозвратов у лиц с доходом от 215 т.р/мес и выше). Чем больше доход, тем меньше процент невозвратов."
   ]
  },
  {
   "cell_type": "markdown",
   "metadata": {},
   "source": [
    "- Как разные цели кредита влияют на его возврат в срок?"
   ]
  },
  {
   "cell_type": "code",
   "execution_count": 19,
   "metadata": {},
   "outputs": [
    {
     "name": "stdout",
     "output_type": "stream",
     "text": [
      "зависимость между целями и возвратом кредита в срок\n"
     ]
    },
    {
     "data": {
      "text/html": [
       "<div>\n",
       "<style scoped>\n",
       "    .dataframe tbody tr th:only-of-type {\n",
       "        vertical-align: middle;\n",
       "    }\n",
       "\n",
       "    .dataframe tbody tr th {\n",
       "        vertical-align: top;\n",
       "    }\n",
       "\n",
       "    .dataframe thead th {\n",
       "        text-align: right;\n",
       "    }\n",
       "</style>\n",
       "<table border=\"1\" class=\"dataframe\">\n",
       "  <thead>\n",
       "    <tr style=\"text-align: right;\">\n",
       "      <th></th>\n",
       "      <th>no_debt</th>\n",
       "      <th>debt</th>\n",
       "      <th>debt_%</th>\n",
       "    </tr>\n",
       "    <tr>\n",
       "      <th>purpose_cat</th>\n",
       "      <th></th>\n",
       "      <th></th>\n",
       "      <th></th>\n",
       "    </tr>\n",
       "  </thead>\n",
       "  <tbody>\n",
       "    <tr>\n",
       "      <td>авто</td>\n",
       "      <td>3903</td>\n",
       "      <td>403</td>\n",
       "      <td>9.359034</td>\n",
       "    </tr>\n",
       "    <tr>\n",
       "      <td>недвижимость</td>\n",
       "      <td>10029</td>\n",
       "      <td>782</td>\n",
       "      <td>7.233373</td>\n",
       "    </tr>\n",
       "    <tr>\n",
       "      <td>образование</td>\n",
       "      <td>3643</td>\n",
       "      <td>370</td>\n",
       "      <td>9.220035</td>\n",
       "    </tr>\n",
       "    <tr>\n",
       "      <td>прочее</td>\n",
       "      <td>2138</td>\n",
       "      <td>186</td>\n",
       "      <td>8.003442</td>\n",
       "    </tr>\n",
       "  </tbody>\n",
       "</table>\n",
       "</div>"
      ],
      "text/plain": [
       "              no_debt  debt    debt_%\n",
       "purpose_cat                          \n",
       "авто             3903   403  9.359034\n",
       "недвижимость    10029   782  7.233373\n",
       "образование      3643   370  9.220035\n",
       "прочее           2138   186  8.003442"
      ]
     },
     "execution_count": 19,
     "metadata": {},
     "output_type": "execute_result"
    }
   ],
   "source": [
    "print('зависимость между целями и возвратом кредита в срок')\n",
    "df_pivot = df.pivot_table(index = 'purpose_cat', columns = 'debt', values = 'days_employed', aggfunc = 'count')\n",
    "df_pivot.columns = ['no_debt', 'debt'] #переименуем столбцы для наглядности\n",
    "df_pivot['debt_%'] = df_pivot['debt']/(df_pivot['debt']+df_pivot['no_debt'])*100\n",
    "df_pivot"
   ]
  },
  {
   "cell_type": "markdown",
   "metadata": {},
   "source": [
    "**Вывод**"
   ]
  },
  {
   "cell_type": "markdown",
   "metadata": {},
   "source": [
    "Самый низкий процент невозвратов наблюдается у кредитов взятых для покупки недвижимости. Самый высокий  - у взятых для покупки автомобиля и получения образования. Данный результат также может косвенно говорить о влиянии возраста на возвратность кредитов. Предположительно, что кредиты на образование берут молодые люди. "
   ]
  },
  {
   "cell_type": "markdown",
   "metadata": {},
   "source": [
    "## Шаг 4. Общий вывод"
   ]
  },
  {
   "cell_type": "markdown",
   "metadata": {},
   "source": [
    "Мы провели анализ влияют ли такие факторы как наличие детей, семейной положение, уровень дохода и цели кредитования на возвратность кредитов. В ходе исследования мы выявили, что у различных категорий заемщиков процент невозвратных кредитов колеблется не сильно от 6% до 9% от общего числа кредитов. Т.е ярко выраженных зависимостей не наблюдается. Портрет идеального заемщика: вдовец без детей с высоким доходом берет кредит на покупку недвижимости. Нужно принимать во внимание, что небольшой разброс в пределах 1-2% может быть вызван погрешностями измерений и неточности предоставленных данных, а не влиянием определенных факторов. Так же по результатам проделанной работы можно судить о необходимости проведения дополнительного исследования о влиянии возраста заемщиков на возвратность кредитов."
   ]
  },
  {
   "cell_type": "markdown",
   "metadata": {},
   "source": [
    "## Чек-лист готовности проекта\n",
    "\n",
    "Поставьте 'x' в выполненных пунктах. Далее нажмите Shift+Enter."
   ]
  },
  {
   "cell_type": "markdown",
   "metadata": {},
   "source": [
    "- [x]  открыт файл;\n",
    "- [x]  файл изучен;\n",
    "- [x]  определены пропущенные значения;\n",
    "- [x]  заполнены пропущенные значения;\n",
    "- [x]  есть пояснение, какие пропущенные значения обнаружены;\n",
    "- [x]  описаны возможные причины появления пропусков в данных;\n",
    "- [x]  объяснено, по какому принципу заполнены пропуски;\n",
    "- [x]  заменен вещественный тип данных на целочисленный;\n",
    "- [x]  есть пояснение, какой метод используется для изменения типа данных и почему;\n",
    "- [x]  удалены дубликаты;\n",
    "- [x]  есть пояснение, какой метод используется для поиска и удаления дубликатов;\n",
    "- [x]  описаны возможные причины появления дубликатов в данных;\n",
    "- [x]  выделены леммы в значениях столбца с целями получения кредита;\n",
    "- [x]  описан процесс лемматизации;\n",
    "- [x]  данные категоризированы;\n",
    "- [x]  есть объяснение принципа категоризации данных;\n",
    "- [x]  есть ответ на вопрос: \"Есть ли зависимость между наличием детей и возвратом кредита в срок?\";\n",
    "- [x]  есть ответ на вопрос: \"Есть ли зависимость между семейным положением и возвратом кредита в срок?\";\n",
    "- [x]  есть ответ на вопрос: \"Есть ли зависимость между уровнем дохода и возвратом кредита в срок?\";\n",
    "- [x]  есть ответ на вопрос: \"Как разные цели кредита влияют на его возврат в срок?\";\n",
    "- [x]  в каждом этапе есть выводы;\n",
    "- [x]  есть общий вывод."
   ]
  }
 ],
 "metadata": {
  "ExecuteTimeLog": [
   {
    "duration": 114,
    "start_time": "2021-11-22T05:31:45.165Z"
   },
   {
    "duration": 820,
    "start_time": "2021-11-22T05:32:42.455Z"
   },
   {
    "duration": 100,
    "start_time": "2021-11-22T05:36:39.804Z"
   },
   {
    "duration": 88,
    "start_time": "2021-11-22T05:37:15.343Z"
   },
   {
    "duration": 13,
    "start_time": "2021-11-22T05:56:41.890Z"
   },
   {
    "duration": 22,
    "start_time": "2021-11-22T06:02:23.209Z"
   },
   {
    "duration": 26,
    "start_time": "2021-11-22T06:03:18.432Z"
   },
   {
    "duration": 38,
    "start_time": "2021-11-22T06:04:02.230Z"
   },
   {
    "duration": 466,
    "start_time": "2021-11-22T06:05:15.303Z"
   },
   {
    "duration": 31,
    "start_time": "2021-11-22T06:08:21.558Z"
   },
   {
    "duration": 32,
    "start_time": "2021-11-22T06:08:40.999Z"
   },
   {
    "duration": 15,
    "start_time": "2021-11-22T06:08:57.495Z"
   },
   {
    "duration": 36,
    "start_time": "2021-11-22T06:09:14.125Z"
   },
   {
    "duration": 16,
    "start_time": "2021-11-22T06:10:08.116Z"
   },
   {
    "duration": 35,
    "start_time": "2021-11-22T06:11:24.535Z"
   },
   {
    "duration": 33,
    "start_time": "2021-11-22T06:13:53.491Z"
   },
   {
    "duration": 31,
    "start_time": "2021-11-22T06:15:19.437Z"
   },
   {
    "duration": 22,
    "start_time": "2021-11-22T06:15:56.187Z"
   },
   {
    "duration": 8,
    "start_time": "2021-11-22T06:16:19.405Z"
   },
   {
    "duration": 13,
    "start_time": "2021-11-22T09:13:53.388Z"
   },
   {
    "duration": 34,
    "start_time": "2021-11-22T09:14:05.085Z"
   },
   {
    "duration": 13,
    "start_time": "2021-11-22T09:16:21.493Z"
   },
   {
    "duration": 14,
    "start_time": "2021-11-22T09:16:36.219Z"
   },
   {
    "duration": -1011,
    "start_time": "2021-11-22T09:18:09.672Z"
   },
   {
    "duration": 2625,
    "start_time": "2021-11-22T09:18:18.723Z"
   },
   {
    "duration": 3647,
    "start_time": "2021-11-22T09:18:41.316Z"
   },
   {
    "duration": 14,
    "start_time": "2021-11-22T09:19:24.617Z"
   },
   {
    "duration": -1021,
    "start_time": "2021-11-22T09:20:41.751Z"
   },
   {
    "duration": 400,
    "start_time": "2021-11-22T09:21:09.941Z"
   },
   {
    "duration": 883,
    "start_time": "2021-11-22T09:21:17.925Z"
   },
   {
    "duration": 9252,
    "start_time": "2021-11-22T09:21:22.532Z"
   },
   {
    "duration": 15,
    "start_time": "2021-11-22T09:22:01.597Z"
   },
   {
    "duration": 354,
    "start_time": "2021-11-22T09:22:51.212Z"
   },
   {
    "duration": 21,
    "start_time": "2021-11-22T09:23:17.565Z"
   },
   {
    "duration": 19,
    "start_time": "2021-11-22T09:23:55.667Z"
   },
   {
    "duration": 20,
    "start_time": "2021-11-22T09:24:11.606Z"
   },
   {
    "duration": 23,
    "start_time": "2021-11-22T09:29:36.810Z"
   },
   {
    "duration": 24,
    "start_time": "2021-11-22T09:36:54.104Z"
   },
   {
    "duration": 35,
    "start_time": "2021-11-22T09:37:28.976Z"
   },
   {
    "duration": 32,
    "start_time": "2021-11-22T09:38:12.456Z"
   },
   {
    "duration": 482,
    "start_time": "2021-11-22T09:40:00.936Z"
   },
   {
    "duration": 368,
    "start_time": "2021-11-22T09:40:25.304Z"
   },
   {
    "duration": 23,
    "start_time": "2021-11-22T09:41:16.175Z"
   },
   {
    "duration": 401,
    "start_time": "2021-11-22T09:41:44.462Z"
   },
   {
    "duration": 364,
    "start_time": "2021-11-22T09:42:03.559Z"
   },
   {
    "duration": 22,
    "start_time": "2021-11-22T09:42:14.055Z"
   },
   {
    "duration": 24,
    "start_time": "2021-11-22T09:42:40.335Z"
   },
   {
    "duration": 83,
    "start_time": "2021-11-22T09:51:12.374Z"
   },
   {
    "duration": 120,
    "start_time": "2021-11-22T09:52:42.267Z"
   },
   {
    "duration": 12,
    "start_time": "2021-11-22T09:55:29.043Z"
   },
   {
    "duration": 401,
    "start_time": "2021-11-22T09:55:48.239Z"
   },
   {
    "duration": 863,
    "start_time": "2021-11-22T09:55:54.840Z"
   },
   {
    "duration": 12,
    "start_time": "2021-11-22T09:56:02.021Z"
   },
   {
    "duration": 14,
    "start_time": "2021-11-22T09:57:00.157Z"
   },
   {
    "duration": 17,
    "start_time": "2021-11-22T09:59:43.477Z"
   },
   {
    "duration": 18,
    "start_time": "2021-11-22T10:00:10.259Z"
   },
   {
    "duration": 8803,
    "start_time": "2021-11-22T10:12:08.734Z"
   },
   {
    "duration": 99,
    "start_time": "2021-11-22T10:13:47.855Z"
   },
   {
    "duration": 998,
    "start_time": "2021-11-22T10:14:51.592Z"
   },
   {
    "duration": 91,
    "start_time": "2021-11-22T10:15:01.814Z"
   },
   {
    "duration": 432,
    "start_time": "2021-11-22T10:53:57.919Z"
   },
   {
    "duration": 6,
    "start_time": "2021-11-22T10:54:06.179Z"
   },
   {
    "duration": 5,
    "start_time": "2021-11-22T10:54:11.800Z"
   },
   {
    "duration": 25,
    "start_time": "2021-11-22T10:56:15.451Z"
   },
   {
    "duration": 19,
    "start_time": "2021-11-22T10:57:02.520Z"
   },
   {
    "duration": 12,
    "start_time": "2021-11-22T10:58:57.665Z"
   },
   {
    "duration": 110,
    "start_time": "2021-11-22T11:01:54.592Z"
   },
   {
    "duration": 101,
    "start_time": "2021-11-22T11:07:03.823Z"
   },
   {
    "duration": 144,
    "start_time": "2021-11-22T11:07:31.325Z"
   },
   {
    "duration": 132,
    "start_time": "2021-11-22T11:08:24.400Z"
   },
   {
    "duration": 152,
    "start_time": "2021-11-22T11:08:33.301Z"
   },
   {
    "duration": 89,
    "start_time": "2021-11-22T11:09:00.925Z"
   },
   {
    "duration": 127,
    "start_time": "2021-11-22T11:11:00.949Z"
   },
   {
    "duration": 667,
    "start_time": "2021-11-22T11:11:53.660Z"
   },
   {
    "duration": 87,
    "start_time": "2021-11-22T11:19:16.980Z"
   },
   {
    "duration": 92,
    "start_time": "2021-11-22T11:20:35.477Z"
   },
   {
    "duration": 897,
    "start_time": "2021-11-22T11:21:19.133Z"
   },
   {
    "duration": 86,
    "start_time": "2021-11-22T11:22:03.037Z"
   },
   {
    "duration": 127,
    "start_time": "2021-11-22T11:22:26.301Z"
   },
   {
    "duration": 145,
    "start_time": "2021-11-22T11:22:33.980Z"
   },
   {
    "duration": 6,
    "start_time": "2021-11-22T11:22:53.493Z"
   },
   {
    "duration": 6,
    "start_time": "2021-11-22T11:23:52.134Z"
   },
   {
    "duration": 22,
    "start_time": "2021-11-22T11:24:11.412Z"
   },
   {
    "duration": 91,
    "start_time": "2021-11-22T11:25:02.245Z"
   },
   {
    "duration": 441,
    "start_time": "2021-11-22T11:33:15.986Z"
   },
   {
    "duration": 26,
    "start_time": "2021-11-22T11:33:34.140Z"
   },
   {
    "duration": 129,
    "start_time": "2021-11-22T11:33:55.569Z"
   },
   {
    "duration": 25,
    "start_time": "2021-11-22T11:34:07.832Z"
   },
   {
    "duration": 9,
    "start_time": "2021-11-22T11:35:39.536Z"
   },
   {
    "duration": 7,
    "start_time": "2021-11-22T11:36:23.889Z"
   },
   {
    "duration": 371,
    "start_time": "2021-11-22T11:38:32.536Z"
   },
   {
    "duration": 220,
    "start_time": "2021-11-22T11:38:59.072Z"
   },
   {
    "duration": 132,
    "start_time": "2021-11-22T11:39:29.999Z"
   },
   {
    "duration": 35,
    "start_time": "2021-11-22T11:40:03.705Z"
   },
   {
    "duration": 23,
    "start_time": "2021-11-22T11:40:37.391Z"
   },
   {
    "duration": 36,
    "start_time": "2021-11-22T11:41:01.896Z"
   },
   {
    "duration": 8,
    "start_time": "2021-11-22T11:42:51.023Z"
   },
   {
    "duration": 8,
    "start_time": "2021-11-22T11:43:34.830Z"
   },
   {
    "duration": 7,
    "start_time": "2021-11-22T11:44:04.381Z"
   },
   {
    "duration": 6,
    "start_time": "2021-11-22T11:44:42.710Z"
   },
   {
    "duration": 8,
    "start_time": "2021-11-22T11:45:56.927Z"
   },
   {
    "duration": 9,
    "start_time": "2021-11-22T11:46:24.621Z"
   },
   {
    "duration": 94,
    "start_time": "2021-11-22T11:47:29.025Z"
   },
   {
    "duration": 129,
    "start_time": "2021-11-22T11:47:29.123Z"
   },
   {
    "duration": 22,
    "start_time": "2021-11-22T11:47:29.257Z"
   },
   {
    "duration": 30,
    "start_time": "2021-11-22T11:47:29.302Z"
   },
   {
    "duration": 12,
    "start_time": "2021-11-22T11:47:29.335Z"
   },
   {
    "duration": 9,
    "start_time": "2021-11-22T11:48:06.296Z"
   },
   {
    "duration": 87,
    "start_time": "2021-11-22T11:54:35.964Z"
   },
   {
    "duration": 8,
    "start_time": "2021-11-22T11:55:24.763Z"
   },
   {
    "duration": 7,
    "start_time": "2021-11-22T11:56:13.571Z"
   },
   {
    "duration": 423,
    "start_time": "2021-11-23T04:42:40.149Z"
   },
   {
    "duration": 333,
    "start_time": "2021-11-23T04:42:49.589Z"
   },
   {
    "duration": 859,
    "start_time": "2021-11-23T04:43:06.443Z"
   },
   {
    "duration": 9,
    "start_time": "2021-11-23T04:43:07.304Z"
   },
   {
    "duration": 108,
    "start_time": "2021-11-23T04:43:07.316Z"
   },
   {
    "duration": 21,
    "start_time": "2021-11-23T04:43:07.427Z"
   },
   {
    "duration": 51,
    "start_time": "2021-11-23T04:43:07.451Z"
   },
   {
    "duration": 7,
    "start_time": "2021-11-23T04:43:07.504Z"
   },
   {
    "duration": 15,
    "start_time": "2021-11-23T04:43:07.514Z"
   },
   {
    "duration": 33,
    "start_time": "2021-11-23T04:46:22.414Z"
   },
   {
    "duration": 28,
    "start_time": "2021-11-23T04:46:48.164Z"
   },
   {
    "duration": 29,
    "start_time": "2021-11-23T05:12:15.816Z"
   },
   {
    "duration": 437,
    "start_time": "2021-11-23T05:18:32.591Z"
   },
   {
    "duration": 14,
    "start_time": "2021-11-23T05:18:52.837Z"
   },
   {
    "duration": 38,
    "start_time": "2021-11-23T05:19:04.020Z"
   },
   {
    "duration": 37,
    "start_time": "2021-11-23T05:19:22.799Z"
   },
   {
    "duration": 48,
    "start_time": "2021-11-23T05:22:24.540Z"
   },
   {
    "duration": 843,
    "start_time": "2021-11-23T05:24:12.141Z"
   },
   {
    "duration": 57,
    "start_time": "2021-11-23T05:24:12.987Z"
   },
   {
    "duration": 98,
    "start_time": "2021-11-23T05:24:13.047Z"
   },
   {
    "duration": 19,
    "start_time": "2021-11-23T05:24:13.147Z"
   },
   {
    "duration": 45,
    "start_time": "2021-11-23T05:24:13.169Z"
   },
   {
    "duration": 6,
    "start_time": "2021-11-23T05:24:13.216Z"
   },
   {
    "duration": 9,
    "start_time": "2021-11-23T05:24:13.225Z"
   },
   {
    "duration": 25,
    "start_time": "2021-11-23T05:27:23.826Z"
   },
   {
    "duration": 23,
    "start_time": "2021-11-23T05:27:59.065Z"
   },
   {
    "duration": 21,
    "start_time": "2021-11-23T05:28:21.322Z"
   },
   {
    "duration": 67,
    "start_time": "2021-11-23T05:30:16.449Z"
   },
   {
    "duration": 62,
    "start_time": "2021-11-23T05:30:27.761Z"
   },
   {
    "duration": 7,
    "start_time": "2021-11-23T05:31:04.011Z"
   },
   {
    "duration": 543,
    "start_time": "2021-11-23T05:34:32.210Z"
   },
   {
    "duration": 78,
    "start_time": "2021-11-23T05:35:07.056Z"
   },
   {
    "duration": 631,
    "start_time": "2021-11-23T05:35:26.091Z"
   },
   {
    "duration": 955,
    "start_time": "2021-11-23T05:35:38.160Z"
   },
   {
    "duration": 49,
    "start_time": "2021-11-23T05:35:39.119Z"
   },
   {
    "duration": 102,
    "start_time": "2021-11-23T05:35:39.171Z"
   },
   {
    "duration": 39,
    "start_time": "2021-11-23T05:35:39.276Z"
   },
   {
    "duration": 32,
    "start_time": "2021-11-23T05:35:39.317Z"
   },
   {
    "duration": 138,
    "start_time": "2021-11-23T05:35:39.351Z"
   },
   {
    "duration": 11,
    "start_time": "2021-11-23T05:35:39.500Z"
   },
   {
    "duration": 43,
    "start_time": "2021-11-23T05:36:54.868Z"
   },
   {
    "duration": 45,
    "start_time": "2021-11-23T05:37:21.920Z"
   },
   {
    "duration": 895,
    "start_time": "2021-11-23T05:37:29.995Z"
   },
   {
    "duration": 43,
    "start_time": "2021-11-23T05:37:30.893Z"
   },
   {
    "duration": 105,
    "start_time": "2021-11-23T05:37:30.939Z"
   },
   {
    "duration": 20,
    "start_time": "2021-11-23T05:37:31.046Z"
   },
   {
    "duration": 51,
    "start_time": "2021-11-23T05:37:31.069Z"
   },
   {
    "duration": 51,
    "start_time": "2021-11-23T05:37:31.122Z"
   },
   {
    "duration": 62,
    "start_time": "2021-11-23T05:37:31.176Z"
   },
   {
    "duration": 8,
    "start_time": "2021-11-23T05:37:31.241Z"
   },
   {
    "duration": 49,
    "start_time": "2021-11-23T05:41:00.162Z"
   },
   {
    "duration": 863,
    "start_time": "2021-11-23T05:44:38.729Z"
   },
   {
    "duration": 45,
    "start_time": "2021-11-23T05:44:39.596Z"
   },
   {
    "duration": 111,
    "start_time": "2021-11-23T05:44:39.645Z"
   },
   {
    "duration": 20,
    "start_time": "2021-11-23T05:44:39.759Z"
   },
   {
    "duration": 24,
    "start_time": "2021-11-23T05:44:39.801Z"
   },
   {
    "duration": 452,
    "start_time": "2021-11-23T05:44:39.828Z"
   },
   {
    "duration": -213,
    "start_time": "2021-11-23T05:44:40.496Z"
   },
   {
    "duration": -229,
    "start_time": "2021-11-23T05:44:40.514Z"
   },
   {
    "duration": -232,
    "start_time": "2021-11-23T05:44:40.519Z"
   },
   {
    "duration": 26,
    "start_time": "2021-11-23T05:45:30.292Z"
   },
   {
    "duration": 9,
    "start_time": "2021-11-23T05:45:42.508Z"
   },
   {
    "duration": 578,
    "start_time": "2021-11-23T08:12:18.125Z"
   },
   {
    "duration": 21,
    "start_time": "2021-11-23T08:12:18.705Z"
   },
   {
    "duration": 70,
    "start_time": "2021-11-23T08:12:18.728Z"
   },
   {
    "duration": 10,
    "start_time": "2021-11-23T08:12:18.800Z"
   },
   {
    "duration": 15,
    "start_time": "2021-11-23T08:12:18.811Z"
   },
   {
    "duration": 15,
    "start_time": "2021-11-23T08:12:18.827Z"
   },
   {
    "duration": 53,
    "start_time": "2021-11-23T08:12:18.843Z"
   },
   {
    "duration": 5,
    "start_time": "2021-11-23T08:12:18.898Z"
   },
   {
    "duration": 7,
    "start_time": "2021-11-23T08:12:18.904Z"
   },
   {
    "duration": 30,
    "start_time": "2021-11-23T08:14:07.126Z"
   },
   {
    "duration": 593,
    "start_time": "2021-11-23T08:14:26.318Z"
   },
   {
    "duration": 23,
    "start_time": "2021-11-23T08:14:26.913Z"
   },
   {
    "duration": 70,
    "start_time": "2021-11-23T08:14:26.939Z"
   },
   {
    "duration": 12,
    "start_time": "2021-11-23T08:14:27.011Z"
   },
   {
    "duration": 17,
    "start_time": "2021-11-23T08:14:27.024Z"
   },
   {
    "duration": 66,
    "start_time": "2021-11-23T08:14:27.042Z"
   },
   {
    "duration": 26,
    "start_time": "2021-11-23T08:14:27.110Z"
   },
   {
    "duration": 5,
    "start_time": "2021-11-23T08:14:27.138Z"
   },
   {
    "duration": 4,
    "start_time": "2021-11-23T08:14:27.144Z"
   },
   {
    "duration": 28,
    "start_time": "2021-11-23T08:16:04.931Z"
   },
   {
    "duration": 24,
    "start_time": "2021-11-23T08:17:04.059Z"
   },
   {
    "duration": 3,
    "start_time": "2021-11-23T08:22:07.456Z"
   },
   {
    "duration": 4,
    "start_time": "2021-11-23T08:22:11.824Z"
   },
   {
    "duration": 302,
    "start_time": "2021-11-23T08:24:59.266Z"
   },
   {
    "duration": 5,
    "start_time": "2021-11-23T08:25:53.976Z"
   },
   {
    "duration": 242,
    "start_time": "2021-11-23T08:26:42.906Z"
   },
   {
    "duration": 263,
    "start_time": "2021-11-23T08:27:40.072Z"
   },
   {
    "duration": 234,
    "start_time": "2021-11-23T08:28:33.335Z"
   },
   {
    "duration": 5,
    "start_time": "2021-11-23T08:32:34.389Z"
   },
   {
    "duration": 606,
    "start_time": "2021-11-23T08:36:12.789Z"
   },
   {
    "duration": 21,
    "start_time": "2021-11-23T08:36:39.320Z"
   },
   {
    "duration": 585,
    "start_time": "2021-11-23T08:36:45.591Z"
   },
   {
    "duration": 5,
    "start_time": "2021-11-23T08:37:22.473Z"
   },
   {
    "duration": 5,
    "start_time": "2021-11-23T08:37:43.135Z"
   },
   {
    "duration": 6,
    "start_time": "2021-11-23T08:37:55.103Z"
   },
   {
    "duration": 3,
    "start_time": "2021-11-23T08:39:24.382Z"
   },
   {
    "duration": 298,
    "start_time": "2021-11-23T08:53:44.500Z"
   },
   {
    "duration": 2463,
    "start_time": "2021-11-23T08:53:58.906Z"
   },
   {
    "duration": 2587,
    "start_time": "2021-11-23T08:54:05.155Z"
   },
   {
    "duration": 2752,
    "start_time": "2021-11-23T08:54:27.558Z"
   },
   {
    "duration": 2592,
    "start_time": "2021-11-23T08:55:40.971Z"
   },
   {
    "duration": 2589,
    "start_time": "2021-11-23T08:56:33.452Z"
   },
   {
    "duration": 2748,
    "start_time": "2021-11-23T08:57:32.346Z"
   },
   {
    "duration": 2643,
    "start_time": "2021-11-23T08:59:29.571Z"
   },
   {
    "duration": 5,
    "start_time": "2021-11-23T09:21:13.700Z"
   },
   {
    "duration": 15,
    "start_time": "2021-11-23T09:38:31.165Z"
   },
   {
    "duration": 7,
    "start_time": "2021-11-23T09:39:29.497Z"
   },
   {
    "duration": 6,
    "start_time": "2021-11-23T09:44:47.191Z"
   },
   {
    "duration": 16,
    "start_time": "2021-11-23T09:56:30.399Z"
   },
   {
    "duration": 5,
    "start_time": "2021-11-23T09:58:05.191Z"
   },
   {
    "duration": 4,
    "start_time": "2021-11-23T09:59:26.870Z"
   },
   {
    "duration": 17,
    "start_time": "2021-11-23T10:00:54.063Z"
   },
   {
    "duration": 5,
    "start_time": "2021-11-23T10:01:43.374Z"
   },
   {
    "duration": 3,
    "start_time": "2021-11-23T10:03:58.911Z"
   },
   {
    "duration": 3,
    "start_time": "2021-11-23T10:04:10.430Z"
   },
   {
    "duration": 3,
    "start_time": "2021-11-23T10:04:50.876Z"
   },
   {
    "duration": 3,
    "start_time": "2021-11-23T10:05:13.838Z"
   },
   {
    "duration": 3,
    "start_time": "2021-11-23T10:05:33.356Z"
   },
   {
    "duration": 6,
    "start_time": "2021-11-23T10:10:41.219Z"
   },
   {
    "duration": 5836,
    "start_time": "2021-11-23T10:17:49.702Z"
   },
   {
    "duration": 18,
    "start_time": "2021-11-23T10:18:07.654Z"
   },
   {
    "duration": 23,
    "start_time": "2021-11-23T10:25:27.165Z"
   },
   {
    "duration": 31,
    "start_time": "2021-11-23T10:26:51.598Z"
   },
   {
    "duration": 78,
    "start_time": "2021-11-23T10:27:34.112Z"
   },
   {
    "duration": 268,
    "start_time": "2021-11-23T10:27:42.853Z"
   },
   {
    "duration": 293,
    "start_time": "2021-11-23T10:28:10.181Z"
   },
   {
    "duration": 592,
    "start_time": "2021-11-23T10:28:47.424Z"
   },
   {
    "duration": 25,
    "start_time": "2021-11-23T10:28:48.018Z"
   },
   {
    "duration": 69,
    "start_time": "2021-11-23T10:28:48.044Z"
   },
   {
    "duration": 10,
    "start_time": "2021-11-23T10:28:48.115Z"
   },
   {
    "duration": 22,
    "start_time": "2021-11-23T10:28:48.126Z"
   },
   {
    "duration": 56,
    "start_time": "2021-11-23T10:28:48.149Z"
   },
   {
    "duration": 27,
    "start_time": "2021-11-23T10:28:48.207Z"
   },
   {
    "duration": 5,
    "start_time": "2021-11-23T10:28:48.236Z"
   },
   {
    "duration": 5,
    "start_time": "2021-11-23T10:28:48.243Z"
   },
   {
    "duration": 624,
    "start_time": "2021-11-23T10:28:48.249Z"
   },
   {
    "duration": 3,
    "start_time": "2021-11-23T10:28:48.875Z"
   },
   {
    "duration": 2843,
    "start_time": "2021-11-23T10:28:48.887Z"
   },
   {
    "duration": 5,
    "start_time": "2021-11-23T10:28:51.732Z"
   },
   {
    "duration": 22,
    "start_time": "2021-11-23T10:28:51.739Z"
   },
   {
    "duration": 31,
    "start_time": "2021-11-23T10:28:51.762Z"
   },
   {
    "duration": 340,
    "start_time": "2021-11-23T10:28:51.795Z"
   },
   {
    "duration": -327,
    "start_time": "2021-11-23T10:28:52.464Z"
   },
   {
    "duration": 32,
    "start_time": "2021-11-23T10:29:15.024Z"
   },
   {
    "duration": 244,
    "start_time": "2021-11-23T10:31:01.870Z"
   },
   {
    "duration": 16,
    "start_time": "2021-11-23T10:31:40.278Z"
   },
   {
    "duration": 246,
    "start_time": "2021-11-23T10:46:53.625Z"
   },
   {
    "duration": 17,
    "start_time": "2021-11-23T10:47:35.410Z"
   },
   {
    "duration": 18,
    "start_time": "2021-11-23T10:52:32.055Z"
   },
   {
    "duration": 18,
    "start_time": "2021-11-23T10:53:22.449Z"
   },
   {
    "duration": 21,
    "start_time": "2021-11-23T10:55:38.177Z"
   },
   {
    "duration": 18,
    "start_time": "2021-11-23T10:55:57.994Z"
   },
   {
    "duration": 652,
    "start_time": "2021-11-23T10:57:16.051Z"
   },
   {
    "duration": 22,
    "start_time": "2021-11-23T10:57:16.705Z"
   },
   {
    "duration": 72,
    "start_time": "2021-11-23T10:57:16.731Z"
   },
   {
    "duration": 11,
    "start_time": "2021-11-23T10:57:16.805Z"
   },
   {
    "duration": 19,
    "start_time": "2021-11-23T10:57:16.817Z"
   },
   {
    "duration": 63,
    "start_time": "2021-11-23T10:57:16.838Z"
   },
   {
    "duration": 27,
    "start_time": "2021-11-23T10:57:16.904Z"
   },
   {
    "duration": 5,
    "start_time": "2021-11-23T10:57:16.933Z"
   },
   {
    "duration": 5,
    "start_time": "2021-11-23T10:57:16.939Z"
   },
   {
    "duration": 642,
    "start_time": "2021-11-23T10:57:16.946Z"
   },
   {
    "duration": 4,
    "start_time": "2021-11-23T10:57:17.589Z"
   },
   {
    "duration": 2700,
    "start_time": "2021-11-23T10:57:17.594Z"
   },
   {
    "duration": 4,
    "start_time": "2021-11-23T10:57:20.296Z"
   },
   {
    "duration": 15,
    "start_time": "2021-11-23T10:57:20.302Z"
   },
   {
    "duration": 6,
    "start_time": "2021-11-23T10:57:20.318Z"
   },
   {
    "duration": 16,
    "start_time": "2021-11-23T10:57:20.325Z"
   },
   {
    "duration": 50,
    "start_time": "2021-11-23T10:57:20.342Z"
   },
   {
    "duration": 4,
    "start_time": "2021-11-23T10:57:20.393Z"
   },
   {
    "duration": 18,
    "start_time": "2021-11-23T10:57:27.909Z"
   },
   {
    "duration": 616,
    "start_time": "2021-11-23T10:58:41.135Z"
   },
   {
    "duration": 21,
    "start_time": "2021-11-23T10:58:41.753Z"
   },
   {
    "duration": 55,
    "start_time": "2021-11-23T10:58:41.778Z"
   },
   {
    "duration": 11,
    "start_time": "2021-11-23T10:58:41.834Z"
   },
   {
    "duration": 22,
    "start_time": "2021-11-23T10:58:41.846Z"
   },
   {
    "duration": 60,
    "start_time": "2021-11-23T10:58:41.869Z"
   },
   {
    "duration": 27,
    "start_time": "2021-11-23T10:58:41.931Z"
   },
   {
    "duration": 5,
    "start_time": "2021-11-23T10:58:41.960Z"
   },
   {
    "duration": 6,
    "start_time": "2021-11-23T10:58:41.988Z"
   },
   {
    "duration": 629,
    "start_time": "2021-11-23T10:58:41.995Z"
   },
   {
    "duration": 3,
    "start_time": "2021-11-23T10:58:42.627Z"
   },
   {
    "duration": 2656,
    "start_time": "2021-11-23T10:58:42.632Z"
   },
   {
    "duration": 5,
    "start_time": "2021-11-23T10:58:45.290Z"
   },
   {
    "duration": 15,
    "start_time": "2021-11-23T10:58:45.296Z"
   },
   {
    "duration": 6,
    "start_time": "2021-11-23T10:58:45.313Z"
   },
   {
    "duration": 16,
    "start_time": "2021-11-23T10:58:45.321Z"
   },
   {
    "duration": 51,
    "start_time": "2021-11-23T10:58:45.338Z"
   },
   {
    "duration": 4,
    "start_time": "2021-11-23T10:58:45.390Z"
   },
   {
    "duration": 19,
    "start_time": "2021-11-23T10:58:51.976Z"
   },
   {
    "duration": 30,
    "start_time": "2021-11-23T11:01:38.353Z"
   },
   {
    "duration": 24,
    "start_time": "2021-11-23T11:03:21.025Z"
   },
   {
    "duration": 18,
    "start_time": "2021-11-23T11:04:11.432Z"
   },
   {
    "duration": 24,
    "start_time": "2021-11-23T11:07:37.213Z"
   },
   {
    "duration": 26,
    "start_time": "2021-11-23T11:07:57.816Z"
   },
   {
    "duration": 18,
    "start_time": "2021-11-23T11:08:12.358Z"
   },
   {
    "duration": 402,
    "start_time": "2021-11-23T11:09:00.487Z"
   },
   {
    "duration": 2657,
    "start_time": "2021-11-23T11:10:08.158Z"
   },
   {
    "duration": 619,
    "start_time": "2021-11-23T11:10:40.894Z"
   },
   {
    "duration": 21,
    "start_time": "2021-11-23T11:10:41.515Z"
   },
   {
    "duration": 55,
    "start_time": "2021-11-23T11:10:41.538Z"
   },
   {
    "duration": 10,
    "start_time": "2021-11-23T11:10:41.595Z"
   },
   {
    "duration": 15,
    "start_time": "2021-11-23T11:10:41.607Z"
   },
   {
    "duration": 68,
    "start_time": "2021-11-23T11:10:41.623Z"
   },
   {
    "duration": 26,
    "start_time": "2021-11-23T11:10:41.693Z"
   },
   {
    "duration": 5,
    "start_time": "2021-11-23T11:10:41.721Z"
   },
   {
    "duration": 6,
    "start_time": "2021-11-23T11:10:41.728Z"
   },
   {
    "duration": 633,
    "start_time": "2021-11-23T11:10:41.735Z"
   },
   {
    "duration": 3,
    "start_time": "2021-11-23T11:10:42.370Z"
   },
   {
    "duration": 2617,
    "start_time": "2021-11-23T11:10:42.374Z"
   },
   {
    "duration": 5,
    "start_time": "2021-11-23T11:10:44.993Z"
   },
   {
    "duration": 30,
    "start_time": "2021-11-23T11:10:45.000Z"
   },
   {
    "duration": 8,
    "start_time": "2021-11-23T11:10:45.032Z"
   },
   {
    "duration": 24,
    "start_time": "2021-11-23T11:10:45.042Z"
   },
   {
    "duration": 29,
    "start_time": "2021-11-23T11:10:45.068Z"
   },
   {
    "duration": 4,
    "start_time": "2021-11-23T11:10:45.099Z"
   },
   {
    "duration": 2756,
    "start_time": "2021-11-23T11:11:08.344Z"
   },
   {
    "duration": 606,
    "start_time": "2021-11-23T11:17:40.046Z"
   },
   {
    "duration": 2447,
    "start_time": "2021-11-23T11:17:51.565Z"
   },
   {
    "duration": 2535,
    "start_time": "2021-11-23T11:18:16.853Z"
   },
   {
    "duration": 21,
    "start_time": "2021-11-23T11:27:38.020Z"
   },
   {
    "duration": 17,
    "start_time": "2021-11-23T11:27:58.955Z"
   },
   {
    "duration": 18,
    "start_time": "2021-11-23T11:28:47.866Z"
   },
   {
    "duration": 18,
    "start_time": "2021-11-23T11:29:10.164Z"
   },
   {
    "duration": 20,
    "start_time": "2021-11-23T11:30:53.954Z"
   },
   {
    "duration": 17,
    "start_time": "2021-11-23T11:31:03.731Z"
   },
   {
    "duration": 19,
    "start_time": "2021-11-23T11:31:28.401Z"
   },
   {
    "duration": 803,
    "start_time": "2021-11-24T08:20:08.619Z"
   },
   {
    "duration": 41,
    "start_time": "2021-11-24T08:20:09.425Z"
   },
   {
    "duration": 93,
    "start_time": "2021-11-24T08:20:09.469Z"
   },
   {
    "duration": 21,
    "start_time": "2021-11-24T08:20:09.583Z"
   },
   {
    "duration": 26,
    "start_time": "2021-11-24T08:20:09.606Z"
   },
   {
    "duration": 106,
    "start_time": "2021-11-24T08:20:09.634Z"
   },
   {
    "duration": 57,
    "start_time": "2021-11-24T08:20:09.742Z"
   },
   {
    "duration": 7,
    "start_time": "2021-11-24T08:20:09.803Z"
   },
   {
    "duration": 15,
    "start_time": "2021-11-24T08:20:09.813Z"
   },
   {
    "duration": 941,
    "start_time": "2021-11-24T08:20:09.831Z"
   },
   {
    "duration": 9,
    "start_time": "2021-11-24T08:20:10.775Z"
   },
   {
    "duration": 3773,
    "start_time": "2021-11-24T08:20:10.787Z"
   },
   {
    "duration": 20,
    "start_time": "2021-11-24T08:20:14.563Z"
   },
   {
    "duration": 28,
    "start_time": "2021-11-24T08:20:14.585Z"
   },
   {
    "duration": 13,
    "start_time": "2021-11-24T08:20:14.616Z"
   },
   {
    "duration": 58,
    "start_time": "2021-11-24T08:20:14.631Z"
   },
   {
    "duration": 33,
    "start_time": "2021-11-24T08:20:14.692Z"
   },
   {
    "duration": 6,
    "start_time": "2021-11-24T08:20:14.727Z"
   },
   {
    "duration": 3864,
    "start_time": "2021-11-24T08:20:39.369Z"
   },
   {
    "duration": 3849,
    "start_time": "2021-11-24T08:21:11.882Z"
   },
   {
    "duration": 3730,
    "start_time": "2021-11-24T08:21:31.490Z"
   },
   {
    "duration": 84,
    "start_time": "2021-11-24T08:24:18.234Z"
   },
   {
    "duration": 85,
    "start_time": "2021-11-24T08:53:58.974Z"
   },
   {
    "duration": 86,
    "start_time": "2021-11-24T09:06:01.484Z"
   },
   {
    "duration": 83,
    "start_time": "2021-11-24T09:07:43.412Z"
   },
   {
    "duration": 133,
    "start_time": "2021-11-24T09:08:02.620Z"
   },
   {
    "duration": 77,
    "start_time": "2021-11-24T09:35:45.373Z"
   },
   {
    "duration": 776,
    "start_time": "2021-11-24T09:37:09.110Z"
   },
   {
    "duration": 47,
    "start_time": "2021-11-24T09:37:17.106Z"
   },
   {
    "duration": 979,
    "start_time": "2021-11-24T11:25:33.002Z"
   },
   {
    "duration": 56,
    "start_time": "2021-11-24T11:25:33.984Z"
   },
   {
    "duration": 114,
    "start_time": "2021-11-24T11:25:34.043Z"
   },
   {
    "duration": 35,
    "start_time": "2021-11-24T11:25:34.161Z"
   },
   {
    "duration": 28,
    "start_time": "2021-11-24T11:25:34.199Z"
   },
   {
    "duration": 110,
    "start_time": "2021-11-24T11:25:34.231Z"
   },
   {
    "duration": 67,
    "start_time": "2021-11-24T11:25:34.344Z"
   },
   {
    "duration": 10,
    "start_time": "2021-11-24T11:25:34.417Z"
   },
   {
    "duration": 1364,
    "start_time": "2021-11-24T11:25:34.430Z"
   },
   {
    "duration": 5,
    "start_time": "2021-11-24T11:25:35.798Z"
   },
   {
    "duration": 4040,
    "start_time": "2021-11-24T11:25:35.806Z"
   },
   {
    "duration": 11,
    "start_time": "2021-11-24T11:25:39.848Z"
   },
   {
    "duration": 27,
    "start_time": "2021-11-24T11:25:39.882Z"
   },
   {
    "duration": 13,
    "start_time": "2021-11-24T11:25:39.912Z"
   },
   {
    "duration": 61,
    "start_time": "2021-11-24T11:25:39.927Z"
   },
   {
    "duration": 38,
    "start_time": "2021-11-24T11:25:39.990Z"
   },
   {
    "duration": 6,
    "start_time": "2021-11-24T11:25:40.031Z"
   },
   {
    "duration": 39,
    "start_time": "2021-11-24T11:36:23.388Z"
   },
   {
    "duration": 31,
    "start_time": "2021-11-24T11:43:28.372Z"
   },
   {
    "duration": 404,
    "start_time": "2021-11-24T11:57:47.111Z"
   },
   {
    "duration": 20,
    "start_time": "2021-11-24T11:58:19.892Z"
   },
   {
    "duration": 18,
    "start_time": "2021-11-24T11:58:38.410Z"
   },
   {
    "duration": 5,
    "start_time": "2021-11-24T11:58:56.938Z"
   },
   {
    "duration": 300,
    "start_time": "2021-11-24T11:59:20.522Z"
   },
   {
    "duration": 292,
    "start_time": "2021-11-24T11:59:30.610Z"
   },
   {
    "duration": 354,
    "start_time": "2021-11-24T11:59:35.283Z"
   },
   {
    "duration": 291,
    "start_time": "2021-11-24T11:59:40.150Z"
   },
   {
    "duration": 295,
    "start_time": "2021-11-24T11:59:55.289Z"
   },
   {
    "duration": 4,
    "start_time": "2021-11-24T12:00:00.491Z"
   },
   {
    "duration": 6,
    "start_time": "2021-11-24T12:02:30.543Z"
   },
   {
    "duration": 382,
    "start_time": "2021-11-24T12:04:31.443Z"
   },
   {
    "duration": 4,
    "start_time": "2021-11-24T12:04:42.296Z"
   },
   {
    "duration": 5,
    "start_time": "2021-11-24T12:04:50.224Z"
   },
   {
    "duration": 5,
    "start_time": "2021-11-24T12:05:02.580Z"
   },
   {
    "duration": 6,
    "start_time": "2021-11-24T12:05:13.215Z"
   },
   {
    "duration": 5,
    "start_time": "2021-11-24T12:07:11.375Z"
   },
   {
    "duration": 118,
    "start_time": "2021-11-24T12:09:00.111Z"
   },
   {
    "duration": 6,
    "start_time": "2021-11-24T12:10:09.943Z"
   },
   {
    "duration": 7,
    "start_time": "2021-11-24T12:14:03.316Z"
   },
   {
    "duration": 27,
    "start_time": "2021-11-24T12:15:18.186Z"
   },
   {
    "duration": 31,
    "start_time": "2021-11-24T12:15:50.007Z"
   },
   {
    "duration": 5,
    "start_time": "2021-11-24T12:15:53.242Z"
   },
   {
    "duration": 6,
    "start_time": "2021-11-24T12:16:38.128Z"
   },
   {
    "duration": 43,
    "start_time": "2021-11-24T12:20:46.494Z"
   },
   {
    "duration": 44,
    "start_time": "2021-11-24T12:34:52.210Z"
   },
   {
    "duration": 32,
    "start_time": "2021-11-24T12:35:18.846Z"
   },
   {
    "duration": 856,
    "start_time": "2021-11-24T12:40:41.811Z"
   },
   {
    "duration": 68,
    "start_time": "2021-11-24T12:40:42.670Z"
   },
   {
    "duration": 110,
    "start_time": "2021-11-24T12:40:42.742Z"
   },
   {
    "duration": 45,
    "start_time": "2021-11-24T12:40:42.855Z"
   },
   {
    "duration": 26,
    "start_time": "2021-11-24T12:40:42.902Z"
   },
   {
    "duration": 102,
    "start_time": "2021-11-24T12:40:42.930Z"
   },
   {
    "duration": 83,
    "start_time": "2021-11-24T12:40:43.034Z"
   },
   {
    "duration": 12,
    "start_time": "2021-11-24T12:40:43.122Z"
   },
   {
    "duration": 1063,
    "start_time": "2021-11-24T12:40:43.137Z"
   },
   {
    "duration": 5,
    "start_time": "2021-11-24T12:40:44.203Z"
   },
   {
    "duration": 4533,
    "start_time": "2021-11-24T12:40:44.210Z"
   },
   {
    "duration": 10,
    "start_time": "2021-11-24T12:40:48.746Z"
   },
   {
    "duration": 28,
    "start_time": "2021-11-24T12:40:48.782Z"
   },
   {
    "duration": 20,
    "start_time": "2021-11-24T12:40:48.812Z"
   },
   {
    "duration": 64,
    "start_time": "2021-11-24T12:40:48.835Z"
   },
   {
    "duration": 52,
    "start_time": "2021-11-24T12:40:48.902Z"
   },
   {
    "duration": 27,
    "start_time": "2021-11-24T12:40:48.957Z"
   },
   {
    "duration": 32,
    "start_time": "2021-11-24T12:40:48.990Z"
   },
   {
    "duration": 66,
    "start_time": "2021-11-24T12:40:49.025Z"
   },
   {
    "duration": 23,
    "start_time": "2021-11-24T12:42:09.412Z"
   },
   {
    "duration": 23,
    "start_time": "2021-11-24T12:42:19.692Z"
   },
   {
    "duration": 908,
    "start_time": "2021-11-24T12:42:25.877Z"
   },
   {
    "duration": 53,
    "start_time": "2021-11-24T12:42:26.788Z"
   },
   {
    "duration": 139,
    "start_time": "2021-11-24T12:42:26.845Z"
   },
   {
    "duration": 21,
    "start_time": "2021-11-24T12:42:26.987Z"
   },
   {
    "duration": 28,
    "start_time": "2021-11-24T12:42:27.010Z"
   },
   {
    "duration": 115,
    "start_time": "2021-11-24T12:42:27.041Z"
   },
   {
    "duration": 63,
    "start_time": "2021-11-24T12:42:27.159Z"
   },
   {
    "duration": 8,
    "start_time": "2021-11-24T12:42:27.225Z"
   },
   {
    "duration": 1053,
    "start_time": "2021-11-24T12:42:27.237Z"
   },
   {
    "duration": 6,
    "start_time": "2021-11-24T12:42:28.294Z"
   },
   {
    "duration": 4253,
    "start_time": "2021-11-24T12:42:28.304Z"
   },
   {
    "duration": 25,
    "start_time": "2021-11-24T12:42:32.560Z"
   },
   {
    "duration": 40,
    "start_time": "2021-11-24T12:42:32.588Z"
   },
   {
    "duration": 11,
    "start_time": "2021-11-24T12:42:32.631Z"
   },
   {
    "duration": 56,
    "start_time": "2021-11-24T12:42:32.645Z"
   },
   {
    "duration": 52,
    "start_time": "2021-11-24T12:42:32.704Z"
   },
   {
    "duration": 29,
    "start_time": "2021-11-24T12:42:32.759Z"
   },
   {
    "duration": 33,
    "start_time": "2021-11-24T12:42:32.791Z"
   },
   {
    "duration": 74,
    "start_time": "2021-11-24T12:42:32.827Z"
   },
   {
    "duration": 32,
    "start_time": "2021-11-24T12:49:03.072Z"
   },
   {
    "duration": 1121,
    "start_time": "2021-11-24T12:51:55.608Z"
   },
   {
    "duration": 62,
    "start_time": "2021-11-24T12:51:56.731Z"
   },
   {
    "duration": 125,
    "start_time": "2021-11-24T12:51:56.796Z"
   },
   {
    "duration": 22,
    "start_time": "2021-11-24T12:51:56.925Z"
   },
   {
    "duration": 61,
    "start_time": "2021-11-24T12:51:56.950Z"
   },
   {
    "duration": 106,
    "start_time": "2021-11-24T12:51:57.014Z"
   },
   {
    "duration": 45,
    "start_time": "2021-11-24T12:51:57.123Z"
   },
   {
    "duration": 19,
    "start_time": "2021-11-24T12:51:57.171Z"
   },
   {
    "duration": 1030,
    "start_time": "2021-11-24T12:51:57.194Z"
   },
   {
    "duration": 5,
    "start_time": "2021-11-24T12:51:58.226Z"
   },
   {
    "duration": 4199,
    "start_time": "2021-11-24T12:51:58.234Z"
   },
   {
    "duration": 13,
    "start_time": "2021-11-24T12:52:02.436Z"
   },
   {
    "duration": 61,
    "start_time": "2021-11-24T12:52:02.452Z"
   },
   {
    "duration": 12,
    "start_time": "2021-11-24T12:52:02.516Z"
   },
   {
    "duration": 65,
    "start_time": "2021-11-24T12:52:02.531Z"
   },
   {
    "duration": 45,
    "start_time": "2021-11-24T12:52:02.601Z"
   },
   {
    "duration": 7,
    "start_time": "2021-11-24T12:52:02.650Z"
   },
   {
    "duration": 59,
    "start_time": "2021-11-24T12:52:02.684Z"
   },
   {
    "duration": 60,
    "start_time": "2021-11-24T12:52:02.745Z"
   },
   {
    "duration": 34,
    "start_time": "2021-11-24T12:52:02.809Z"
   },
   {
    "duration": 944,
    "start_time": "2021-11-24T13:07:37.691Z"
   },
   {
    "duration": 57,
    "start_time": "2021-11-24T13:07:38.637Z"
   },
   {
    "duration": 110,
    "start_time": "2021-11-24T13:07:38.698Z"
   },
   {
    "duration": 22,
    "start_time": "2021-11-24T13:07:38.811Z"
   },
   {
    "duration": 68,
    "start_time": "2021-11-24T13:07:38.836Z"
   },
   {
    "duration": 89,
    "start_time": "2021-11-24T13:07:38.906Z"
   },
   {
    "duration": 49,
    "start_time": "2021-11-24T13:07:38.997Z"
   },
   {
    "duration": 32,
    "start_time": "2021-11-24T13:07:39.050Z"
   },
   {
    "duration": 1026,
    "start_time": "2021-11-24T13:07:39.086Z"
   },
   {
    "duration": 5,
    "start_time": "2021-11-24T13:07:40.115Z"
   },
   {
    "duration": 4178,
    "start_time": "2021-11-24T13:07:40.122Z"
   },
   {
    "duration": 12,
    "start_time": "2021-11-24T13:07:44.303Z"
   },
   {
    "duration": 32,
    "start_time": "2021-11-24T13:07:44.318Z"
   },
   {
    "duration": 35,
    "start_time": "2021-11-24T13:07:44.352Z"
   },
   {
    "duration": 27,
    "start_time": "2021-11-24T13:07:44.390Z"
   },
   {
    "duration": 74,
    "start_time": "2021-11-24T13:07:44.420Z"
   },
   {
    "duration": 7,
    "start_time": "2021-11-24T13:07:44.497Z"
   },
   {
    "duration": 37,
    "start_time": "2021-11-24T13:07:44.507Z"
   },
   {
    "duration": 65,
    "start_time": "2021-11-24T13:07:44.546Z"
   },
   {
    "duration": 41,
    "start_time": "2021-11-24T13:07:44.614Z"
   },
   {
    "duration": 790,
    "start_time": "2021-11-24T15:18:48.921Z"
   },
   {
    "duration": 48,
    "start_time": "2021-11-24T15:18:49.714Z"
   },
   {
    "duration": 98,
    "start_time": "2021-11-24T15:18:49.766Z"
   },
   {
    "duration": 20,
    "start_time": "2021-11-24T15:18:49.882Z"
   },
   {
    "duration": 25,
    "start_time": "2021-11-24T15:18:49.905Z"
   },
   {
    "duration": 144,
    "start_time": "2021-11-24T15:18:49.932Z"
   },
   {
    "duration": 46,
    "start_time": "2021-11-24T15:18:50.082Z"
   },
   {
    "duration": 9,
    "start_time": "2021-11-24T15:18:50.132Z"
   },
   {
    "duration": 948,
    "start_time": "2021-11-24T15:18:50.144Z"
   },
   {
    "duration": 6,
    "start_time": "2021-11-24T15:18:51.095Z"
   },
   {
    "duration": 3657,
    "start_time": "2021-11-24T15:18:51.104Z"
   },
   {
    "duration": 25,
    "start_time": "2021-11-24T15:18:54.764Z"
   },
   {
    "duration": 28,
    "start_time": "2021-11-24T15:18:54.792Z"
   },
   {
    "duration": 11,
    "start_time": "2021-11-24T15:18:54.823Z"
   },
   {
    "duration": 65,
    "start_time": "2021-11-24T15:18:54.837Z"
   },
   {
    "duration": 40,
    "start_time": "2021-11-24T15:18:54.905Z"
   },
   {
    "duration": 5,
    "start_time": "2021-11-24T15:18:54.982Z"
   },
   {
    "duration": 36,
    "start_time": "2021-11-24T15:18:54.990Z"
   },
   {
    "duration": 65,
    "start_time": "2021-11-24T15:18:55.029Z"
   },
   {
    "duration": 34,
    "start_time": "2021-11-24T15:18:55.097Z"
   },
   {
    "duration": 874,
    "start_time": "2021-11-24T15:51:08.992Z"
   },
   {
    "duration": 49,
    "start_time": "2021-11-24T15:51:09.870Z"
   },
   {
    "duration": 109,
    "start_time": "2021-11-24T15:51:09.923Z"
   },
   {
    "duration": 22,
    "start_time": "2021-11-24T15:51:10.035Z"
   },
   {
    "duration": 26,
    "start_time": "2021-11-24T15:51:10.083Z"
   },
   {
    "duration": 105,
    "start_time": "2021-11-24T15:51:10.111Z"
   },
   {
    "duration": 43,
    "start_time": "2021-11-24T15:51:10.219Z"
   },
   {
    "duration": 21,
    "start_time": "2021-11-24T15:51:10.266Z"
   },
   {
    "duration": 1336,
    "start_time": "2021-11-24T15:51:10.290Z"
   },
   {
    "duration": 4,
    "start_time": "2021-11-24T15:51:11.629Z"
   },
   {
    "duration": 3946,
    "start_time": "2021-11-24T15:51:11.636Z"
   },
   {
    "duration": 10,
    "start_time": "2021-11-24T15:51:15.584Z"
   },
   {
    "duration": 25,
    "start_time": "2021-11-24T15:51:15.597Z"
   },
   {
    "duration": 14,
    "start_time": "2021-11-24T15:51:15.625Z"
   },
   {
    "duration": 24,
    "start_time": "2021-11-24T15:51:15.681Z"
   },
   {
    "duration": 40,
    "start_time": "2021-11-24T15:51:15.708Z"
   },
   {
    "duration": 35,
    "start_time": "2021-11-24T15:51:15.751Z"
   },
   {
    "duration": 35,
    "start_time": "2021-11-24T15:51:15.789Z"
   },
   {
    "duration": 64,
    "start_time": "2021-11-24T15:51:15.826Z"
   },
   {
    "duration": 31,
    "start_time": "2021-11-24T15:51:15.892Z"
   },
   {
    "duration": 960,
    "start_time": "2021-11-24T16:52:51.017Z"
   },
   {
    "duration": 61,
    "start_time": "2021-11-24T16:52:51.980Z"
   },
   {
    "duration": 140,
    "start_time": "2021-11-24T16:52:52.046Z"
   },
   {
    "duration": 19,
    "start_time": "2021-11-24T16:52:52.189Z"
   },
   {
    "duration": 47,
    "start_time": "2021-11-24T16:52:52.230Z"
   },
   {
    "duration": 114,
    "start_time": "2021-11-24T16:52:52.279Z"
   },
   {
    "duration": 64,
    "start_time": "2021-11-24T16:52:52.395Z"
   },
   {
    "duration": 9,
    "start_time": "2021-11-24T16:52:52.463Z"
   },
   {
    "duration": 1046,
    "start_time": "2021-11-24T16:52:52.474Z"
   },
   {
    "duration": 14,
    "start_time": "2021-11-24T16:52:53.532Z"
   },
   {
    "duration": 4409,
    "start_time": "2021-11-24T16:52:53.549Z"
   },
   {
    "duration": 11,
    "start_time": "2021-11-24T16:52:57.961Z"
   },
   {
    "duration": 26,
    "start_time": "2021-11-24T16:52:57.974Z"
   },
   {
    "duration": 37,
    "start_time": "2021-11-24T16:52:58.003Z"
   },
   {
    "duration": 32,
    "start_time": "2021-11-24T16:52:58.043Z"
   },
   {
    "duration": 85,
    "start_time": "2021-11-24T16:52:58.077Z"
   },
   {
    "duration": 4,
    "start_time": "2021-11-24T16:52:58.165Z"
   },
   {
    "duration": 36,
    "start_time": "2021-11-24T16:52:58.171Z"
   },
   {
    "duration": 62,
    "start_time": "2021-11-24T16:52:58.210Z"
   },
   {
    "duration": 30,
    "start_time": "2021-11-24T16:52:58.274Z"
   },
   {
    "duration": 842,
    "start_time": "2021-11-25T06:26:35.376Z"
   },
   {
    "duration": 640,
    "start_time": "2021-11-25T06:26:48.480Z"
   },
   {
    "duration": 26,
    "start_time": "2021-11-25T06:26:49.122Z"
   },
   {
    "duration": 73,
    "start_time": "2021-11-25T06:26:49.150Z"
   },
   {
    "duration": 11,
    "start_time": "2021-11-25T06:26:49.225Z"
   },
   {
    "duration": 18,
    "start_time": "2021-11-25T06:26:49.238Z"
   },
   {
    "duration": 75,
    "start_time": "2021-11-25T06:26:49.258Z"
   },
   {
    "duration": 30,
    "start_time": "2021-11-25T06:26:49.335Z"
   },
   {
    "duration": 6,
    "start_time": "2021-11-25T06:26:49.367Z"
   },
   {
    "duration": 676,
    "start_time": "2021-11-25T06:26:49.391Z"
   },
   {
    "duration": 4,
    "start_time": "2021-11-25T06:26:50.069Z"
   },
   {
    "duration": 2744,
    "start_time": "2021-11-25T06:26:50.075Z"
   },
   {
    "duration": 7,
    "start_time": "2021-11-25T06:26:52.821Z"
   },
   {
    "duration": 25,
    "start_time": "2021-11-25T06:26:52.829Z"
   },
   {
    "duration": 6,
    "start_time": "2021-11-25T06:26:52.856Z"
   },
   {
    "duration": 36,
    "start_time": "2021-11-25T06:26:52.864Z"
   },
   {
    "duration": 24,
    "start_time": "2021-11-25T06:26:52.901Z"
   },
   {
    "duration": 4,
    "start_time": "2021-11-25T06:26:52.927Z"
   },
   {
    "duration": 23,
    "start_time": "2021-11-25T06:26:52.933Z"
   },
   {
    "duration": 49,
    "start_time": "2021-11-25T06:26:52.958Z"
   },
   {
    "duration": 23,
    "start_time": "2021-11-25T06:26:53.009Z"
   },
   {
    "duration": 6,
    "start_time": "2021-11-25T11:54:02.578Z"
   },
   {
    "duration": 265,
    "start_time": "2021-11-25T12:16:03.729Z"
   },
   {
    "duration": 191,
    "start_time": "2021-11-25T12:20:18.257Z"
   },
   {
    "duration": 196,
    "start_time": "2021-11-25T12:21:41.575Z"
   },
   {
    "duration": 201,
    "start_time": "2021-11-25T12:23:06.128Z"
   },
   {
    "duration": 11,
    "start_time": "2021-11-25T12:26:52.043Z"
   },
   {
    "duration": 59,
    "start_time": "2021-11-25T12:28:31.793Z"
   },
   {
    "duration": 59,
    "start_time": "2021-11-25T12:28:46.646Z"
   },
   {
    "duration": 14,
    "start_time": "2021-11-25T12:29:00.325Z"
   },
   {
    "duration": 16,
    "start_time": "2021-11-25T12:30:29.887Z"
   },
   {
    "duration": 4298,
    "start_time": "2021-11-25T18:59:43.206Z"
   },
   {
    "duration": 9,
    "start_time": "2021-11-25T19:00:03.742Z"
   },
   {
    "duration": 11,
    "start_time": "2021-11-25T19:00:13.486Z"
   },
   {
    "duration": 9,
    "start_time": "2021-11-25T19:00:31.413Z"
   },
   {
    "duration": 14,
    "start_time": "2021-11-25T19:01:13.093Z"
   },
   {
    "duration": 13,
    "start_time": "2021-11-25T19:01:33.269Z"
   },
   {
    "duration": 14,
    "start_time": "2021-11-25T19:03:05.583Z"
   },
   {
    "duration": 16,
    "start_time": "2021-11-25T19:04:46.566Z"
   },
   {
    "duration": 13,
    "start_time": "2021-11-25T19:06:32.938Z"
   },
   {
    "duration": 25,
    "start_time": "2021-11-25T19:07:53.905Z"
   },
   {
    "duration": 14,
    "start_time": "2021-11-25T19:17:28.101Z"
   },
   {
    "duration": 587,
    "start_time": "2021-11-25T19:20:53.030Z"
   },
   {
    "duration": 24,
    "start_time": "2021-11-25T19:20:53.619Z"
   },
   {
    "duration": 77,
    "start_time": "2021-11-25T19:20:53.645Z"
   },
   {
    "duration": 12,
    "start_time": "2021-11-25T19:20:53.724Z"
   },
   {
    "duration": 19,
    "start_time": "2021-11-25T19:20:53.738Z"
   },
   {
    "duration": 69,
    "start_time": "2021-11-25T19:20:53.759Z"
   },
   {
    "duration": 29,
    "start_time": "2021-11-25T19:20:53.830Z"
   },
   {
    "duration": 31,
    "start_time": "2021-11-25T19:20:53.861Z"
   },
   {
    "duration": 686,
    "start_time": "2021-11-25T19:20:53.894Z"
   },
   {
    "duration": 4,
    "start_time": "2021-11-25T19:20:54.582Z"
   },
   {
    "duration": 2673,
    "start_time": "2021-11-25T19:20:54.588Z"
   },
   {
    "duration": 7,
    "start_time": "2021-11-25T19:20:57.262Z"
   },
   {
    "duration": 34,
    "start_time": "2021-11-25T19:20:57.270Z"
   },
   {
    "duration": 18,
    "start_time": "2021-11-25T19:20:57.305Z"
   },
   {
    "duration": 23,
    "start_time": "2021-11-25T19:20:57.325Z"
   },
   {
    "duration": 4,
    "start_time": "2021-11-25T19:20:57.350Z"
   },
   {
    "duration": 55,
    "start_time": "2021-11-25T19:20:57.355Z"
   },
   {
    "duration": 23,
    "start_time": "2021-11-25T19:20:57.412Z"
   },
   {
    "duration": 17,
    "start_time": "2021-11-25T19:20:57.437Z"
   },
   {
    "duration": 844,
    "start_time": "2022-03-16T16:28:19.496Z"
   },
   {
    "duration": 55,
    "start_time": "2022-03-16T16:28:20.344Z"
   },
   {
    "duration": 146,
    "start_time": "2022-03-16T16:28:20.403Z"
   },
   {
    "duration": 26,
    "start_time": "2022-03-16T16:28:20.552Z"
   },
   {
    "duration": 28,
    "start_time": "2022-03-16T16:28:20.581Z"
   },
   {
    "duration": 84,
    "start_time": "2022-03-16T16:28:20.644Z"
   },
   {
    "duration": 46,
    "start_time": "2022-03-16T16:28:20.742Z"
   },
   {
    "duration": 11,
    "start_time": "2022-03-16T16:28:20.790Z"
   },
   {
    "duration": 1083,
    "start_time": "2022-03-16T16:28:20.806Z"
   },
   {
    "duration": 6,
    "start_time": "2022-03-16T16:28:21.893Z"
   },
   {
    "duration": 4283,
    "start_time": "2022-03-16T16:28:21.902Z"
   },
   {
    "duration": 11,
    "start_time": "2022-03-16T16:28:26.188Z"
   },
   {
    "duration": 53,
    "start_time": "2022-03-16T16:28:26.201Z"
   },
   {
    "duration": 24,
    "start_time": "2022-03-16T16:28:26.256Z"
   },
   {
    "duration": 63,
    "start_time": "2022-03-16T16:28:26.282Z"
   },
   {
    "duration": 6,
    "start_time": "2022-03-16T16:28:26.347Z"
   },
   {
    "duration": 34,
    "start_time": "2022-03-16T16:28:26.355Z"
   },
   {
    "duration": 74,
    "start_time": "2022-03-16T16:28:26.391Z"
   },
   {
    "duration": 29,
    "start_time": "2022-03-16T16:28:26.467Z"
   }
  ],
  "kernelspec": {
   "display_name": "Python 3",
   "language": "python",
   "name": "python3"
  },
  "language_info": {
   "codemirror_mode": {
    "name": "ipython",
    "version": 3
   },
   "file_extension": ".py",
   "mimetype": "text/x-python",
   "name": "python",
   "nbconvert_exporter": "python",
   "pygments_lexer": "ipython3",
   "version": "3.8.8"
  },
  "toc": {
   "base_numbering": 1,
   "nav_menu": {},
   "number_sections": true,
   "sideBar": true,
   "skip_h1_title": true,
   "title_cell": "Table of Contents",
   "title_sidebar": "Contents",
   "toc_cell": false,
   "toc_position": {},
   "toc_section_display": true,
   "toc_window_display": false
  }
 },
 "nbformat": 4,
 "nbformat_minor": 2
}
