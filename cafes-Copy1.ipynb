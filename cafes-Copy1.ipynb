{
 "cells": [
  {
   "cell_type": "markdown",
   "metadata": {},
   "source": [
    "1. [Описание проекта](#start)\n",
    "2. [Предобработка данных](#preprocessing)\n",
    "3. [Анализ данных](#analysis)\n",
    "    * [Типы](#rest_types)\n",
    "    * [Сети](#chain)\n",
    "    * [Распределение заведений по улицам и районам](#streets)\n",
    "    * [Распределение количества посадочных мест для улиц с большим количеством объектов общественного питания](#seats)\n",
    "4. [Общий вывод](#conclusion)\n",
    "    "
   ]
  },
  {
   "cell_type": "markdown",
   "metadata": {},
   "source": [
    "# Описание проекта <a class=\"anchor\" id=\"start\"></a>\n",
    "Инвесторы хотят открыть новое кафе в Москве. Для них нужно проанализировать рынок общественного питания в городе. Выдать рекомендации\n",
    "\n",
    "Данные о заведениях общепита Москвы содержат следующую информацию:\n",
    "* id — идентификатор объекта;\n",
    "* object_name — название объекта общественного питания;\n",
    "* chain — сетевой ресторан;\n",
    "* object_type — тип объекта общественного питания;\n",
    "* address — адрес;\n",
    "* number — количество посадочных мест"
   ]
  },
  {
   "cell_type": "markdown",
   "metadata": {},
   "source": [
    "# Предобработка данных <a class=\"anchor\" id=\"preprocessing\"></a>\n",
    "\n",
    "Загрузим данные "
   ]
  },
  {
   "cell_type": "code",
   "execution_count": 1,
   "metadata": {},
   "outputs": [],
   "source": [
    "import pandas as pd\n",
    "import matplotlib.pyplot as plt\n",
    "import numpy as np\n",
    "import seaborn as sns\n",
    "pd.set_option('display.float_format', '{:,.0f}'.format)\n",
    "import warnings\n",
    "warnings.filterwarnings('ignore')"
   ]
  },
  {
   "cell_type": "code",
   "execution_count": 2,
   "metadata": {},
   "outputs": [],
   "source": [
    "try: \n",
    "    data = pd.read_csv('/datasets/rest_data.csv')\n",
    "except:\n",
    "    data = pd.read_csv('rest_data.csv')"
   ]
  },
  {
   "cell_type": "code",
   "execution_count": 3,
   "metadata": {},
   "outputs": [
    {
     "data": {
      "text/html": [
       "<div>\n",
       "<style scoped>\n",
       "    .dataframe tbody tr th:only-of-type {\n",
       "        vertical-align: middle;\n",
       "    }\n",
       "\n",
       "    .dataframe tbody tr th {\n",
       "        vertical-align: top;\n",
       "    }\n",
       "\n",
       "    .dataframe thead th {\n",
       "        text-align: right;\n",
       "    }\n",
       "</style>\n",
       "<table border=\"1\" class=\"dataframe\">\n",
       "  <thead>\n",
       "    <tr style=\"text-align: right;\">\n",
       "      <th></th>\n",
       "      <th>id</th>\n",
       "      <th>object_name</th>\n",
       "      <th>chain</th>\n",
       "      <th>object_type</th>\n",
       "      <th>address</th>\n",
       "      <th>number</th>\n",
       "    </tr>\n",
       "  </thead>\n",
       "  <tbody>\n",
       "    <tr>\n",
       "      <th>0</th>\n",
       "      <td>151635</td>\n",
       "      <td>СМЕТАНА</td>\n",
       "      <td>нет</td>\n",
       "      <td>кафе</td>\n",
       "      <td>город Москва, улица Егора Абакумова, дом 9</td>\n",
       "      <td>48</td>\n",
       "    </tr>\n",
       "    <tr>\n",
       "      <th>1</th>\n",
       "      <td>77874</td>\n",
       "      <td>Родник</td>\n",
       "      <td>нет</td>\n",
       "      <td>кафе</td>\n",
       "      <td>город Москва, улица Талалихина, дом 2/1, корпус 1</td>\n",
       "      <td>35</td>\n",
       "    </tr>\n",
       "    <tr>\n",
       "      <th>2</th>\n",
       "      <td>24309</td>\n",
       "      <td>Кафе «Академия»</td>\n",
       "      <td>нет</td>\n",
       "      <td>кафе</td>\n",
       "      <td>город Москва, Абельмановская улица, дом 6</td>\n",
       "      <td>95</td>\n",
       "    </tr>\n",
       "    <tr>\n",
       "      <th>3</th>\n",
       "      <td>21894</td>\n",
       "      <td>ПИЦЦЕТОРИЯ</td>\n",
       "      <td>да</td>\n",
       "      <td>кафе</td>\n",
       "      <td>город Москва, Абрамцевская улица, дом 1</td>\n",
       "      <td>40</td>\n",
       "    </tr>\n",
       "    <tr>\n",
       "      <th>4</th>\n",
       "      <td>119365</td>\n",
       "      <td>Кафе «Вишневая метель»</td>\n",
       "      <td>нет</td>\n",
       "      <td>кафе</td>\n",
       "      <td>город Москва, Абрамцевская улица, дом 9, корпус 1</td>\n",
       "      <td>50</td>\n",
       "    </tr>\n",
       "  </tbody>\n",
       "</table>\n",
       "</div>"
      ],
      "text/plain": [
       "       id             object_name chain object_type  \\\n",
       "0  151635                 СМЕТАНА   нет        кафе   \n",
       "1   77874                  Родник   нет        кафе   \n",
       "2   24309         Кафе «Академия»   нет        кафе   \n",
       "3   21894              ПИЦЦЕТОРИЯ    да        кафе   \n",
       "4  119365  Кафе «Вишневая метель»   нет        кафе   \n",
       "\n",
       "                                             address  number  \n",
       "0         город Москва, улица Егора Абакумова, дом 9      48  \n",
       "1  город Москва, улица Талалихина, дом 2/1, корпус 1      35  \n",
       "2          город Москва, Абельмановская улица, дом 6      95  \n",
       "3            город Москва, Абрамцевская улица, дом 1      40  \n",
       "4  город Москва, Абрамцевская улица, дом 9, корпус 1      50  "
      ]
     },
     "metadata": {},
     "output_type": "display_data"
    },
    {
     "name": "stdout",
     "output_type": "stream",
     "text": [
      "<class 'pandas.core.frame.DataFrame'>\n",
      "RangeIndex: 15366 entries, 0 to 15365\n",
      "Data columns (total 6 columns):\n",
      " #   Column       Non-Null Count  Dtype \n",
      "---  ------       --------------  ----- \n",
      " 0   id           15366 non-null  int64 \n",
      " 1   object_name  15366 non-null  object\n",
      " 2   chain        15366 non-null  object\n",
      " 3   object_type  15366 non-null  object\n",
      " 4   address      15366 non-null  object\n",
      " 5   number       15366 non-null  int64 \n",
      "dtypes: int64(2), object(4)\n",
      "memory usage: 720.4+ KB\n"
     ]
    },
    {
     "data": {
      "text/plain": [
       "(None, None)"
      ]
     },
     "execution_count": 3,
     "metadata": {},
     "output_type": "execute_result"
    }
   ],
   "source": [
    "def start(df):\n",
    "    return display(df.head(5)), df.info()\n",
    "start(data)"
   ]
  },
  {
   "cell_type": "code",
   "execution_count": 4,
   "metadata": {},
   "outputs": [
    {
     "data": {
      "text/html": [
       "<div>\n",
       "<style scoped>\n",
       "    .dataframe tbody tr th:only-of-type {\n",
       "        vertical-align: middle;\n",
       "    }\n",
       "\n",
       "    .dataframe tbody tr th {\n",
       "        vertical-align: top;\n",
       "    }\n",
       "\n",
       "    .dataframe thead th {\n",
       "        text-align: right;\n",
       "    }\n",
       "</style>\n",
       "<table border=\"1\" class=\"dataframe\">\n",
       "  <thead>\n",
       "    <tr style=\"text-align: right;\">\n",
       "      <th></th>\n",
       "      <th>id</th>\n",
       "      <th>object_name</th>\n",
       "      <th>chain</th>\n",
       "      <th>object_type</th>\n",
       "      <th>address</th>\n",
       "      <th>number</th>\n",
       "    </tr>\n",
       "  </thead>\n",
       "  <tbody>\n",
       "  </tbody>\n",
       "</table>\n",
       "</div>"
      ],
      "text/plain": [
       "Empty DataFrame\n",
       "Columns: [id, object_name, chain, object_type, address, number]\n",
       "Index: []"
      ]
     },
     "execution_count": 4,
     "metadata": {},
     "output_type": "execute_result"
    }
   ],
   "source": [
    "#Проверим, есть ли дубликаты \n",
    "data[data.duplicated(keep = False)] # keep = False выведет все совпадения\n",
    "#таблица пустая - дубликатов нет"
   ]
  },
  {
   "cell_type": "code",
   "execution_count": 5,
   "metadata": {},
   "outputs": [
    {
     "data": {
      "text/plain": [
       "15366"
      ]
     },
     "execution_count": 5,
     "metadata": {},
     "output_type": "execute_result"
    }
   ],
   "source": [
    "data['id'].nunique() # все id уникальные"
   ]
  },
  {
   "cell_type": "code",
   "execution_count": 6,
   "metadata": {},
   "outputs": [
    {
     "data": {
      "text/plain": [
       "array(['нет', 'да'], dtype=object)"
      ]
     },
     "execution_count": 6,
     "metadata": {},
     "output_type": "execute_result"
    }
   ],
   "source": [
    "data['chain'].unique() # корректные категории в столбце"
   ]
  },
  {
   "cell_type": "code",
   "execution_count": 7,
   "metadata": {},
   "outputs": [
    {
     "data": {
      "text/plain": [
       "array(['кафе', 'столовая', 'закусочная',\n",
       "       'предприятие быстрого обслуживания', 'ресторан', 'кафетерий',\n",
       "       'буфет', 'бар', 'магазин (отдел кулинарии)'], dtype=object)"
      ]
     },
     "execution_count": 7,
     "metadata": {},
     "output_type": "execute_result"
    }
   ],
   "source": [
    "data['object_type'].unique() # корректные категории в столбце"
   ]
  },
  {
   "cell_type": "markdown",
   "metadata": {},
   "source": [
    "Данные загрузились корректно. Пропусков нет, дубликатов нет."
   ]
  },
  {
   "cell_type": "markdown",
   "metadata": {},
   "source": [
    "Приведем к более единообразному виду наименования сетей, чтобы группировка была более точной"
   ]
  },
  {
   "cell_type": "code",
   "execution_count": 8,
   "metadata": {},
   "outputs": [],
   "source": [
    "# приведем названия к нижнему регистру и удалим типы заведений  \n",
    "data['object_name'] = data['object_name'].str.lower()\n",
    "for name in ['ресторан', 'кафе', 'пиццерия', 'кальянная', 'детское', \n",
    "             'детский клуб', 'пицерия', 'закусочная', 'кальян-бар', \n",
    "             'кофейня', 'предприятие быстрого обслуживания', 'бар-буфет',  'пбо', '«', '»']:\n",
    "    data['object_name'] = data['object_name'].str.replace(name, '')"
   ]
  },
  {
   "cell_type": "code",
   "execution_count": 9,
   "metadata": {},
   "outputs": [],
   "source": [
    "#выберем одно название для каждой из больших сетей\n",
    "synonyms = {'макдоналдс': ['mcdonalds', 'москва - макдоналдс', ' макдоналдс'],\n",
    "            'kfc':['кфц', 'ростикс kfc'],\n",
    "            'subway' : 'сабвей',\n",
    "            'бургер кинг' : 'бургер кинг burger king',\n",
    "            'братья караваевы' : 'кулинарная лавка братьев караваевых',\n",
    "            'иль патио' : 'иль патио планета суши',\n",
    "           }\n",
    "def check_synonyms(cell):\n",
    "    for name, syn in synonyms.items():\n",
    "        if cell in syn: return name\n",
    "    return cell\n",
    "data['object_name_new'] = data['object_name'].apply(check_synonyms)\n",
    "    "
   ]
  },
  {
   "cell_type": "code",
   "execution_count": 10,
   "metadata": {},
   "outputs": [],
   "source": [
    "def name(object_name):\n",
    "    for item in object_name:\n",
    "        if 'мята' in object_name: return 'myata'\n",
    "        if 'myata' in object_name: return 'myata'\n",
    "        if 'starbucks' in object_name: return 'starbucks' \n",
    "        if 'старбакс' in object_name: return 'starbucks'\n",
    "        if 'штолле' in object_name: return 'штолле'\n",
    "        if 'прайм' in object_name: return 'прайм'\n",
    "        if 'prime' in object_name: return 'прайм'\n",
    "        if 'магбургер' in object_name: return 'магбургер'\n",
    "    return object_name\n",
    "data['object_name_new'] = data['object_name_new'].apply(name)"
   ]
  },
  {
   "cell_type": "markdown",
   "metadata": {},
   "source": [
    "# Анализ данных <a class=\"anchor\" id=\"analysis\"></a>\n",
    "## Типы заведений <a class=\"anchor\" id=\"rest_types\"></a>"
   ]
  },
  {
   "cell_type": "code",
   "execution_count": 11,
   "metadata": {},
   "outputs": [
    {
     "data": {
      "text/html": [
       "<div>\n",
       "<style scoped>\n",
       "    .dataframe tbody tr th:only-of-type {\n",
       "        vertical-align: middle;\n",
       "    }\n",
       "\n",
       "    .dataframe tbody tr th {\n",
       "        vertical-align: top;\n",
       "    }\n",
       "\n",
       "    .dataframe thead th {\n",
       "        text-align: right;\n",
       "    }\n",
       "</style>\n",
       "<table border=\"1\" class=\"dataframe\">\n",
       "  <thead>\n",
       "    <tr style=\"text-align: right;\">\n",
       "      <th>chain</th>\n",
       "      <th>да</th>\n",
       "      <th>нет</th>\n",
       "      <th>total</th>\n",
       "      <th>да,%</th>\n",
       "    </tr>\n",
       "    <tr>\n",
       "      <th>object_type</th>\n",
       "      <th></th>\n",
       "      <th></th>\n",
       "      <th></th>\n",
       "      <th></th>\n",
       "    </tr>\n",
       "  </thead>\n",
       "  <tbody>\n",
       "    <tr>\n",
       "      <th>кафе</th>\n",
       "      <td>1396</td>\n",
       "      <td>4703</td>\n",
       "      <td>6099</td>\n",
       "      <td>23</td>\n",
       "    </tr>\n",
       "    <tr>\n",
       "      <th>столовая</th>\n",
       "      <td>3</td>\n",
       "      <td>2584</td>\n",
       "      <td>2587</td>\n",
       "      <td>0</td>\n",
       "    </tr>\n",
       "    <tr>\n",
       "      <th>ресторан</th>\n",
       "      <td>544</td>\n",
       "      <td>1741</td>\n",
       "      <td>2285</td>\n",
       "      <td>24</td>\n",
       "    </tr>\n",
       "    <tr>\n",
       "      <th>предприятие быстрого обслуживания</th>\n",
       "      <td>791</td>\n",
       "      <td>1132</td>\n",
       "      <td>1923</td>\n",
       "      <td>41</td>\n",
       "    </tr>\n",
       "    <tr>\n",
       "      <th>бар</th>\n",
       "      <td>37</td>\n",
       "      <td>819</td>\n",
       "      <td>856</td>\n",
       "      <td>4</td>\n",
       "    </tr>\n",
       "    <tr>\n",
       "      <th>буфет</th>\n",
       "      <td>11</td>\n",
       "      <td>574</td>\n",
       "      <td>585</td>\n",
       "      <td>2</td>\n",
       "    </tr>\n",
       "    <tr>\n",
       "      <th>кафетерий</th>\n",
       "      <td>52</td>\n",
       "      <td>346</td>\n",
       "      <td>398</td>\n",
       "      <td>13</td>\n",
       "    </tr>\n",
       "    <tr>\n",
       "      <th>закусочная</th>\n",
       "      <td>56</td>\n",
       "      <td>304</td>\n",
       "      <td>360</td>\n",
       "      <td>16</td>\n",
       "    </tr>\n",
       "    <tr>\n",
       "      <th>магазин (отдел кулинарии)</th>\n",
       "      <td>78</td>\n",
       "      <td>195</td>\n",
       "      <td>273</td>\n",
       "      <td>29</td>\n",
       "    </tr>\n",
       "  </tbody>\n",
       "</table>\n",
       "</div>"
      ],
      "text/plain": [
       "chain                                да   нет  total  да,%\n",
       "object_type                                               \n",
       "кафе                               1396  4703   6099    23\n",
       "столовая                              3  2584   2587     0\n",
       "ресторан                            544  1741   2285    24\n",
       "предприятие быстрого обслуживания   791  1132   1923    41\n",
       "бар                                  37   819    856     4\n",
       "буфет                                11   574    585     2\n",
       "кафетерий                            52   346    398    13\n",
       "закусочная                           56   304    360    16\n",
       "магазин (отдел кулинарии)            78   195    273    29"
      ]
     },
     "metadata": {},
     "output_type": "display_data"
    },
    {
     "data": {
      "image/png": "[encoded data removed]",
      "text/plain": [
       "<Figure size 432x288 with 1 Axes>"
      ]
     },
     "metadata": {
      "needs_background": "light"
     },
     "output_type": "display_data"
    }
   ],
   "source": [
    "#сгруппируем данные по типу заведения и посчитаем количество заведений каждого типа,\n",
    "#дополнительно разбив их на сетевые и несетевые\n",
    "report = data.pivot_table(index = 'object_type', columns = 'chain', values = 'id', aggfunc = 'nunique')\n",
    "report['total'] = report['да'] + report['нет']\n",
    "report['да,%'] = report['да']/report['total']*100\n",
    "#report['нет,%'] = report['нет']/report['total']*100\n",
    "report = report.sort_values(by='total', ascending=False)\n",
    "display(report)\n",
    "report[['да', 'нет']].plot(kind='barh', stacked=True)\n",
    "plt.ylabel('типы объектов')\n",
    "plt.xlabel('количество объектов');"
   ]
  },
  {
   "cell_type": "code",
   "execution_count": 12,
   "metadata": {},
   "outputs": [
    {
     "data": {
      "image/png": "[encoded data removed]",
      "text/plain": [
       "<Figure size 432x288 with 1 Axes>"
      ]
     },
     "metadata": {
      "needs_background": "light"
     },
     "output_type": "display_data"
    }
   ],
   "source": [
    "seat_num = data.groupby('object_type').agg({'number' : 'mean'}).sort_values(by='number', ascending=False)\n",
    "seat_num.plot(kind = 'barh', grid = True)\n",
    "plt.ylabel('типы объектов')\n",
    "plt.xlabel('среднее количество посадочных мест')\n",
    "plt.title('Среднее количество посадчных мест у разных типов заведений');"
   ]
  },
  {
   "cell_type": "markdown",
   "metadata": {},
   "source": [
    "**Выводы**\n",
    "* **Соотношение видов объектов общественного питания по количеству**\n",
    "Количество кафе намного превышает количество всех других типов заведений. Затем идут *столовая*, *ресторан*  и *пбо*.\n",
    "\n",
    "\n",
    "* **Соотношение сетевых и несетевых заведений по количеству**\n",
    "Несетевых заведений намного больше\n",
    "\n",
    "\n",
    "* **Для какого вида объекта общественного питания характерно сетевое распространение**\n",
    "Наибольшая доля сетевых заведений у *пбо (41%), кулинарии (29%) и  *кафе* и *ресторанов* (23-24%) \n",
    "\n",
    "\n",
    "* **Какой вид предоставляет в среднем самое большое количество посадочных мест?** \n",
    "столовая"
   ]
  },
  {
   "cell_type": "markdown",
   "metadata": {},
   "source": [
    "## Сети <a class=\"anchor\" id=\"chain\"></a>\n",
    "Что характерно для сетевых заведений: много заведений с небольшим числом посадочных мест в каждом или мало заведений с большим количеством посадочных мест?"
   ]
  },
  {
   "cell_type": "code",
   "execution_count": 13,
   "metadata": {},
   "outputs": [
    {
     "data": {
      "text/html": [
       "<div>\n",
       "<style scoped>\n",
       "    .dataframe tbody tr th:only-of-type {\n",
       "        vertical-align: middle;\n",
       "    }\n",
       "\n",
       "    .dataframe tbody tr th {\n",
       "        vertical-align: top;\n",
       "    }\n",
       "\n",
       "    .dataframe thead th {\n",
       "        text-align: right;\n",
       "    }\n",
       "</style>\n",
       "<table border=\"1\" class=\"dataframe\">\n",
       "  <thead>\n",
       "    <tr style=\"text-align: right;\">\n",
       "      <th></th>\n",
       "      <th>id</th>\n",
       "      <th>number</th>\n",
       "    </tr>\n",
       "    <tr>\n",
       "      <th>object_name_new</th>\n",
       "      <th></th>\n",
       "      <th></th>\n",
       "    </tr>\n",
       "  </thead>\n",
       "  <tbody>\n",
       "    <tr>\n",
       "      <th>макдоналдс</th>\n",
       "      <td>173</td>\n",
       "      <td>87</td>\n",
       "    </tr>\n",
       "    <tr>\n",
       "      <th>kfc</th>\n",
       "      <td>163</td>\n",
       "      <td>56</td>\n",
       "    </tr>\n",
       "    <tr>\n",
       "      <th>шоколадница</th>\n",
       "      <td>157</td>\n",
       "      <td>57</td>\n",
       "    </tr>\n",
       "    <tr>\n",
       "      <th>бургер кинг</th>\n",
       "      <td>144</td>\n",
       "      <td>48</td>\n",
       "    </tr>\n",
       "    <tr>\n",
       "      <th>теремок</th>\n",
       "      <td>94</td>\n",
       "      <td>26</td>\n",
       "    </tr>\n",
       "  </tbody>\n",
       "</table>\n",
       "</div>"
      ],
      "text/plain": [
       "                  id  number\n",
       "object_name_new             \n",
       "макдоналдс       173      87\n",
       "kfc              163      56\n",
       "шоколадница      157      57\n",
       "бургер кинг      144      48\n",
       "теремок           94      26"
      ]
     },
     "execution_count": 13,
     "metadata": {},
     "output_type": "execute_result"
    }
   ],
   "source": [
    "data_chain = data.query('chain == \"да\"') # только сети\n",
    "data_chain = data_chain.groupby('object_name_new').agg({'id' : 'count', 'number' : 'mean'})\\\n",
    "                    .sort_values(by='id', ascending=False)\\\n",
    "                    .query('id>1') #для анализа возьмем сети с количеством заведений более одного \n",
    "                                   #(если в сети одно заведение это скорее всего из-за некорретной записи названия)\n",
    "data_chain.head()"
   ]
  },
  {
   "cell_type": "code",
   "execution_count": 14,
   "metadata": {},
   "outputs": [
    {
     "name": "stdout",
     "output_type": "stream",
     "text": [
      "[2.]\n"
     ]
    }
   ],
   "source": [
    "print(np.percentile(data_chain['id'], [25])) #25й перцентиль - мало заведений и мало посадочных мест, остальное - много"
   ]
  },
  {
   "cell_type": "code",
   "execution_count": 15,
   "metadata": {},
   "outputs": [
    {
     "name": "stdout",
     "output_type": "stream",
     "text": [
      "[19.2]\n"
     ]
    }
   ],
   "source": [
    "print(np.percentile(data_chain['number'], [25])) "
   ]
  },
  {
   "cell_type": "code",
   "execution_count": 16,
   "metadata": {},
   "outputs": [
    {
     "data": {
      "text/html": [
       "<div>\n",
       "<style scoped>\n",
       "    .dataframe tbody tr th:only-of-type {\n",
       "        vertical-align: middle;\n",
       "    }\n",
       "\n",
       "    .dataframe tbody tr th {\n",
       "        vertical-align: top;\n",
       "    }\n",
       "\n",
       "    .dataframe thead th {\n",
       "        text-align: right;\n",
       "    }\n",
       "</style>\n",
       "<table border=\"1\" class=\"dataframe\">\n",
       "  <thead>\n",
       "    <tr style=\"text-align: right;\">\n",
       "      <th></th>\n",
       "      <th>object_name_new</th>\n",
       "      <th>медианное число заведений</th>\n",
       "      <th>медианное число мест</th>\n",
       "    </tr>\n",
       "    <tr>\n",
       "      <th>группа</th>\n",
       "      <th></th>\n",
       "      <th></th>\n",
       "      <th></th>\n",
       "    </tr>\n",
       "  </thead>\n",
       "  <tbody>\n",
       "    <tr>\n",
       "      <th>Мало заведений - Мало мест</th>\n",
       "      <td>43</td>\n",
       "      <td>3</td>\n",
       "      <td>15</td>\n",
       "    </tr>\n",
       "    <tr>\n",
       "      <th>Мало заведений - Много мест</th>\n",
       "      <td>123</td>\n",
       "      <td>3</td>\n",
       "      <td>67</td>\n",
       "    </tr>\n",
       "    <tr>\n",
       "      <th>Много заведений - Мало мест</th>\n",
       "      <td>13</td>\n",
       "      <td>16</td>\n",
       "      <td>8</td>\n",
       "    </tr>\n",
       "    <tr>\n",
       "      <th>Много заведений - Много мест</th>\n",
       "      <td>38</td>\n",
       "      <td>26</td>\n",
       "      <td>56</td>\n",
       "    </tr>\n",
       "  </tbody>\n",
       "</table>\n",
       "</div>"
      ],
      "text/plain": [
       "                              object_name_new  медианное число заведений  \\\n",
       "группа                                                                     \n",
       "Мало заведений - Мало мест                 43                          3   \n",
       "Мало заведений - Много мест               123                          3   \n",
       "Много заведений - Мало мест                13                         16   \n",
       "Много заведений - Много мест               38                         26   \n",
       "\n",
       "                              медианное число мест  \n",
       "группа                                              \n",
       "Мало заведений - Мало мест                      15  \n",
       "Мало заведений - Много мест                     67  \n",
       "Много заведений - Мало мест                      8  \n",
       "Много заведений - Много мест                    56  "
      ]
     },
     "execution_count": 16,
     "metadata": {},
     "output_type": "execute_result"
    },
    {
     "data": {
      "image/png": "[encoded data removed]",
      "text/plain": [
       "<Figure size 432x288 with 1 Axes>"
      ]
     },
     "metadata": {
      "needs_background": "light"
     },
     "output_type": "display_data"
    }
   ],
   "source": [
    "#группировка заведений по 4 группам.\n",
    "data_chain['rest_num'] = 'Мало заведений'\n",
    "data_chain.loc[data_chain['id'] > 9 , 'rest_num'] = 'Много заведений'\n",
    "\n",
    "data_chain['seat_num'] = 'Мало мест'\n",
    "data_chain.loc[data_chain['number'] > 20 , 'seat_num'] = 'Много мест'\n",
    "\n",
    "data_chain['группа'] = data_chain['rest_num'].astype(str) + ' - ' + data_chain['seat_num'].astype(str)\n",
    "\n",
    "sns.scatterplot(data=data_chain, x='id', y='number', hue='группа')\n",
    "plt.xlabel('Число заведений')\n",
    "plt.ylabel('Cреднее число посадочных мест')\n",
    "plt.title('Классификация сетевых заведений по количеству точек и количеству посадочных мест')\n",
    "\n",
    "#переименуем название столбцов сводной таблицы\n",
    "data_chain.reset_index().groupby('группа').agg({'object_name_new' : 'nunique', 'id' : 'median', 'number' : 'median'})\\\n",
    "                                          .rename(columns = {'object_name' : 'число сетей', \n",
    "                                                             'id' : 'медианное число заведений',\n",
    "                                                             'number' : 'медианное число мест'})\n"
   ]
  },
  {
   "cell_type": "markdown",
   "metadata": {},
   "source": [
    "**Вывод** : для сетевых заведений более характерно *мало заведений - много мест*"
   ]
  },
  {
   "cell_type": "markdown",
   "metadata": {},
   "source": [
    "## Распределение заведений по улицам и районам <a class=\"anchor\" id=\"streets\"></a>"
   ]
  },
  {
   "cell_type": "code",
   "execution_count": 17,
   "metadata": {},
   "outputs": [
    {
     "data": {
      "text/html": [
       "<div>\n",
       "<style scoped>\n",
       "    .dataframe tbody tr th:only-of-type {\n",
       "        vertical-align: middle;\n",
       "    }\n",
       "\n",
       "    .dataframe tbody tr th {\n",
       "        vertical-align: top;\n",
       "    }\n",
       "\n",
       "    .dataframe thead th {\n",
       "        text-align: right;\n",
       "    }\n",
       "</style>\n",
       "<table border=\"1\" class=\"dataframe\">\n",
       "  <thead>\n",
       "    <tr style=\"text-align: right;\">\n",
       "      <th></th>\n",
       "      <th>id</th>\n",
       "      <th>object_name</th>\n",
       "      <th>chain</th>\n",
       "      <th>object_type</th>\n",
       "      <th>address</th>\n",
       "      <th>number</th>\n",
       "      <th>object_name_new</th>\n",
       "      <th>street</th>\n",
       "    </tr>\n",
       "  </thead>\n",
       "  <tbody>\n",
       "    <tr>\n",
       "      <th>0</th>\n",
       "      <td>151635</td>\n",
       "      <td>сметана</td>\n",
       "      <td>нет</td>\n",
       "      <td>кафе</td>\n",
       "      <td>город Москва, улица Егора Абакумова, дом 9</td>\n",
       "      <td>48</td>\n",
       "      <td>сметана</td>\n",
       "      <td>улица Егора Абакумова</td>\n",
       "    </tr>\n",
       "    <tr>\n",
       "      <th>1</th>\n",
       "      <td>77874</td>\n",
       "      <td>родник</td>\n",
       "      <td>нет</td>\n",
       "      <td>кафе</td>\n",
       "      <td>город Москва, улица Талалихина, дом 2/1, корпус 1</td>\n",
       "      <td>35</td>\n",
       "      <td>родник</td>\n",
       "      <td>улица Талалихина</td>\n",
       "    </tr>\n",
       "    <tr>\n",
       "      <th>2</th>\n",
       "      <td>24309</td>\n",
       "      <td>академия</td>\n",
       "      <td>нет</td>\n",
       "      <td>кафе</td>\n",
       "      <td>город Москва, Абельмановская улица, дом 6</td>\n",
       "      <td>95</td>\n",
       "      <td>академия</td>\n",
       "      <td>Абельмановская улица</td>\n",
       "    </tr>\n",
       "    <tr>\n",
       "      <th>3</th>\n",
       "      <td>21894</td>\n",
       "      <td>пиццетория</td>\n",
       "      <td>да</td>\n",
       "      <td>кафе</td>\n",
       "      <td>город Москва, Абрамцевская улица, дом 1</td>\n",
       "      <td>40</td>\n",
       "      <td>пиццетория</td>\n",
       "      <td>Абрамцевская улица</td>\n",
       "    </tr>\n",
       "    <tr>\n",
       "      <th>4</th>\n",
       "      <td>119365</td>\n",
       "      <td>вишневая метель</td>\n",
       "      <td>нет</td>\n",
       "      <td>кафе</td>\n",
       "      <td>город Москва, Абрамцевская улица, дом 9, корпус 1</td>\n",
       "      <td>50</td>\n",
       "      <td>вишневая метель</td>\n",
       "      <td>Абрамцевская улица</td>\n",
       "    </tr>\n",
       "  </tbody>\n",
       "</table>\n",
       "</div>"
      ],
      "text/plain": [
       "       id       object_name chain object_type  \\\n",
       "0  151635           сметана   нет        кафе   \n",
       "1   77874            родник   нет        кафе   \n",
       "2   24309          академия   нет        кафе   \n",
       "3   21894        пиццетория    да        кафе   \n",
       "4  119365   вишневая метель   нет        кафе   \n",
       "\n",
       "                                             address  number  \\\n",
       "0         город Москва, улица Егора Абакумова, дом 9      48   \n",
       "1  город Москва, улица Талалихина, дом 2/1, корпус 1      35   \n",
       "2          город Москва, Абельмановская улица, дом 6      95   \n",
       "3            город Москва, Абрамцевская улица, дом 1      40   \n",
       "4  город Москва, Абрамцевская улица, дом 9, корпус 1      50   \n",
       "\n",
       "    object_name_new                 street  \n",
       "0           сметана  улица Егора Абакумова  \n",
       "1            родник       улица Талалихина  \n",
       "2          академия   Абельмановская улица  \n",
       "3        пиццетория     Абрамцевская улица  \n",
       "4   вишневая метель     Абрамцевская улица  "
      ]
     },
     "execution_count": 17,
     "metadata": {},
     "output_type": "execute_result"
    }
   ],
   "source": [
    "#выделим название алицы в отдельный столбец\n",
    "def get_street(cell):\n",
    "    #разбиваем адрес на части и для каждой части проверяем, есть ли в ней тип улицы\n",
    "    for addr_part in cell.split(','):\n",
    "        for s_type in ['улица', 'бульвар', 'проспект', 'переулок', 'шоссе', 'тупик', 'набережная', 'площадь', 'пр-т', 'ул', 'пер', 'наб']:\n",
    "            if s_type in addr_part: return addr_part\n",
    "    #если ничего не нашли, возвращаем второй элемент\n",
    "    return cell.split(',')[1]\n",
    "\n",
    "data['street'] = data['address'].apply(get_street) \n",
    "data['street'] = data['street'].str.strip() #убираем лишние пробелы\n",
    "data.head()"
   ]
  },
  {
   "cell_type": "code",
   "execution_count": 18,
   "metadata": {},
   "outputs": [
    {
     "data": {
      "text/html": [
       "<div>\n",
       "<style scoped>\n",
       "    .dataframe tbody tr th:only-of-type {\n",
       "        vertical-align: middle;\n",
       "    }\n",
       "\n",
       "    .dataframe tbody tr th {\n",
       "        vertical-align: top;\n",
       "    }\n",
       "\n",
       "    .dataframe thead th {\n",
       "        text-align: right;\n",
       "    }\n",
       "</style>\n",
       "<table border=\"1\" class=\"dataframe\">\n",
       "  <thead>\n",
       "    <tr style=\"text-align: right;\">\n",
       "      <th></th>\n",
       "      <th>streetname</th>\n",
       "      <th>areaid</th>\n",
       "      <th>okrug</th>\n",
       "      <th>area</th>\n",
       "    </tr>\n",
       "  </thead>\n",
       "  <tbody>\n",
       "    <tr>\n",
       "      <th>0</th>\n",
       "      <td>Выставочный переулок</td>\n",
       "      <td>17</td>\n",
       "      <td>ЦАО</td>\n",
       "      <td>Пресненский район</td>\n",
       "    </tr>\n",
       "    <tr>\n",
       "      <th>1</th>\n",
       "      <td>улица Гашека</td>\n",
       "      <td>17</td>\n",
       "      <td>ЦАО</td>\n",
       "      <td>Пресненский район</td>\n",
       "    </tr>\n",
       "    <tr>\n",
       "      <th>2</th>\n",
       "      <td>Большая Никитская улица</td>\n",
       "      <td>17</td>\n",
       "      <td>ЦАО</td>\n",
       "      <td>Пресненский район</td>\n",
       "    </tr>\n",
       "    <tr>\n",
       "      <th>3</th>\n",
       "      <td>Глубокий переулок</td>\n",
       "      <td>17</td>\n",
       "      <td>ЦАО</td>\n",
       "      <td>Пресненский район</td>\n",
       "    </tr>\n",
       "    <tr>\n",
       "      <th>4</th>\n",
       "      <td>Большой Гнездниковский переулок</td>\n",
       "      <td>17</td>\n",
       "      <td>ЦАО</td>\n",
       "      <td>Пресненский район</td>\n",
       "    </tr>\n",
       "  </tbody>\n",
       "</table>\n",
       "</div>"
      ],
      "text/plain": [
       "                        streetname  areaid okrug               area\n",
       "0             Выставочный переулок      17   ЦАО  Пресненский район\n",
       "1                     улица Гашека      17   ЦАО  Пресненский район\n",
       "2          Большая Никитская улица      17   ЦАО  Пресненский район\n",
       "3                Глубокий переулок      17   ЦАО  Пресненский район\n",
       "4  Большой Гнездниковский переулок      17   ЦАО  Пресненский район"
      ]
     },
     "execution_count": 18,
     "metadata": {},
     "output_type": "execute_result"
    }
   ],
   "source": [
    "#загрузим внешние данные о принадлежности улиц к районам\n",
    "from io import BytesIO\n",
    "import requests\n",
    "spreadsheet_id = '1J2bgBn4BAFmf3Ulkn0F91u8SRqCRBPjDOAHRYMYpnwk'\n",
    "#https://docs.google.com/spreadsheets/d/1J2bgBn4BAFmf3Ulkn0F91u8SRqCRBPjDOAHRYMYpnwk/edit?usp=sharing\n",
    "filename = 'https://docs.google.com/spreadsheets/d/{}/export?format=csv'.format(spreadsheet_id)\n",
    "r = requests.get(filename)\n",
    "df = pd.read_csv(BytesIO(r.content))\n",
    "df.head()"
   ]
  },
  {
   "cell_type": "code",
   "execution_count": 19,
   "metadata": {},
   "outputs": [
    {
     "data": {
      "text/html": [
       "<div>\n",
       "<style scoped>\n",
       "    .dataframe tbody tr th:only-of-type {\n",
       "        vertical-align: middle;\n",
       "    }\n",
       "\n",
       "    .dataframe tbody tr th {\n",
       "        vertical-align: top;\n",
       "    }\n",
       "\n",
       "    .dataframe thead th {\n",
       "        text-align: right;\n",
       "    }\n",
       "</style>\n",
       "<table border=\"1\" class=\"dataframe\">\n",
       "  <thead>\n",
       "    <tr style=\"text-align: right;\">\n",
       "      <th></th>\n",
       "      <th>id</th>\n",
       "    </tr>\n",
       "    <tr>\n",
       "      <th>street</th>\n",
       "      <th></th>\n",
       "    </tr>\n",
       "  </thead>\n",
       "  <tbody>\n",
       "    <tr>\n",
       "      <th>проспект Мира</th>\n",
       "      <td>204</td>\n",
       "    </tr>\n",
       "    <tr>\n",
       "      <th>Профсоюзная улица</th>\n",
       "      <td>183</td>\n",
       "    </tr>\n",
       "    <tr>\n",
       "      <th>Ленинградский проспект</th>\n",
       "      <td>173</td>\n",
       "    </tr>\n",
       "    <tr>\n",
       "      <th>Пресненская набережная</th>\n",
       "      <td>167</td>\n",
       "    </tr>\n",
       "    <tr>\n",
       "      <th>Варшавское шоссе</th>\n",
       "      <td>165</td>\n",
       "    </tr>\n",
       "    <tr>\n",
       "      <th>Ленинский проспект</th>\n",
       "      <td>148</td>\n",
       "    </tr>\n",
       "    <tr>\n",
       "      <th>проспект Вернадского</th>\n",
       "      <td>132</td>\n",
       "    </tr>\n",
       "    <tr>\n",
       "      <th>Кутузовский проспект</th>\n",
       "      <td>114</td>\n",
       "    </tr>\n",
       "    <tr>\n",
       "      <th>Каширское шоссе</th>\n",
       "      <td>112</td>\n",
       "    </tr>\n",
       "    <tr>\n",
       "      <th>Кировоградская улица</th>\n",
       "      <td>110</td>\n",
       "    </tr>\n",
       "  </tbody>\n",
       "</table>\n",
       "</div>"
      ],
      "text/plain": [
       "                         id\n",
       "street                     \n",
       "проспект Мира           204\n",
       "Профсоюзная улица       183\n",
       "Ленинградский проспект  173\n",
       "Пресненская набережная  167\n",
       "Варшавское шоссе        165\n",
       "Ленинский проспект      148\n",
       "проспект Вернадского    132\n",
       "Кутузовский проспект    114\n",
       "Каширское шоссе         112\n",
       "Кировоградская улица    110"
      ]
     },
     "metadata": {},
     "output_type": "display_data"
    },
    {
     "data": {
      "image/png": "[encoded data removed]",
      "text/plain": [
       "<Figure size 432x288 with 1 Axes>"
      ]
     },
     "metadata": {
      "needs_background": "light"
     },
     "output_type": "display_data"
    }
   ],
   "source": [
    "#уберем город Зеленоград из списка улиц\n",
    "top_10str = data.query('street != \"город Зеленоград\"')\\\n",
    "    .groupby('street').agg({'id' : 'count'}).sort_values(by='id', ascending=False).head(10)\n",
    "display(top_10str)\n",
    "top_10str.query('street != \"город Зеленоград\"').plot(kind = 'barh', grid = True, legend=False);\n",
    "plt.title('Tоп-10 улиц по количеству объектов общественного питания')\n",
    "plt.xlabel('Число заведений');"
   ]
  },
  {
   "cell_type": "markdown",
   "metadata": {},
   "source": [
    "**Вывод №1:** Количество заведений на улице зависит прежде всего от протяженности улицы, а не от ее расположения. У Москвы радиальная планировка. Протяженные шоссе, проспекты начинаются в центре и проходя через весь город за МКАД, на таких улица больше всего заведений."
   ]
  },
  {
   "cell_type": "code",
   "execution_count": 20,
   "metadata": {},
   "outputs": [
    {
     "data": {
      "text/html": [
       "<div>\n",
       "<style scoped>\n",
       "    .dataframe tbody tr th:only-of-type {\n",
       "        vertical-align: middle;\n",
       "    }\n",
       "\n",
       "    .dataframe tbody tr th {\n",
       "        vertical-align: top;\n",
       "    }\n",
       "\n",
       "    .dataframe thead th {\n",
       "        text-align: right;\n",
       "    }\n",
       "</style>\n",
       "<table border=\"1\" class=\"dataframe\">\n",
       "  <thead>\n",
       "    <tr style=\"text-align: right;\">\n",
       "      <th></th>\n",
       "      <th>street</th>\n",
       "      <th>id</th>\n",
       "      <th>areaid</th>\n",
       "      <th>okrug</th>\n",
       "      <th>area</th>\n",
       "    </tr>\n",
       "  </thead>\n",
       "  <tbody>\n",
       "    <tr>\n",
       "      <th>0</th>\n",
       "      <td>проспект Мира</td>\n",
       "      <td>204</td>\n",
       "      <td>70</td>\n",
       "      <td>СВАО</td>\n",
       "      <td>Алексеевский район</td>\n",
       "    </tr>\n",
       "    <tr>\n",
       "      <th>1</th>\n",
       "      <td>проспект Мира</td>\n",
       "      <td>204</td>\n",
       "      <td>86</td>\n",
       "      <td>СВАО</td>\n",
       "      <td>Ярославский Район</td>\n",
       "    </tr>\n",
       "    <tr>\n",
       "      <th>2</th>\n",
       "      <td>проспект Мира</td>\n",
       "      <td>204</td>\n",
       "      <td>78</td>\n",
       "      <td>СВАО</td>\n",
       "      <td>Район Марьина роща</td>\n",
       "    </tr>\n",
       "    <tr>\n",
       "      <th>3</th>\n",
       "      <td>проспект Мира</td>\n",
       "      <td>204</td>\n",
       "      <td>79</td>\n",
       "      <td>СВАО</td>\n",
       "      <td>Останкинский район</td>\n",
       "    </tr>\n",
       "    <tr>\n",
       "      <th>4</th>\n",
       "      <td>проспект Мира</td>\n",
       "      <td>204</td>\n",
       "      <td>81</td>\n",
       "      <td>СВАО</td>\n",
       "      <td>Район Ростокино</td>\n",
       "    </tr>\n",
       "    <tr>\n",
       "      <th>5</th>\n",
       "      <td>проспект Мира</td>\n",
       "      <td>204</td>\n",
       "      <td>82</td>\n",
       "      <td>СВАО</td>\n",
       "      <td>Район Свиблово</td>\n",
       "    </tr>\n",
       "    <tr>\n",
       "      <th>6</th>\n",
       "      <td>проспект Мира</td>\n",
       "      <td>204</td>\n",
       "      <td>16</td>\n",
       "      <td>ЦАО</td>\n",
       "      <td>Мещанский район</td>\n",
       "    </tr>\n",
       "    <tr>\n",
       "      <th>7</th>\n",
       "      <td>Профсоюзная улица</td>\n",
       "      <td>183</td>\n",
       "      <td>123</td>\n",
       "      <td>ЮЗАО</td>\n",
       "      <td>Академический район</td>\n",
       "    </tr>\n",
       "    <tr>\n",
       "      <th>8</th>\n",
       "      <td>Профсоюзная улица</td>\n",
       "      <td>183</td>\n",
       "      <td>132</td>\n",
       "      <td>ЮЗАО</td>\n",
       "      <td>Район Черемушки</td>\n",
       "    </tr>\n",
       "    <tr>\n",
       "      <th>9</th>\n",
       "      <td>Профсоюзная улица</td>\n",
       "      <td>183</td>\n",
       "      <td>134</td>\n",
       "      <td>ЮЗАО</td>\n",
       "      <td>Район Ясенево</td>\n",
       "    </tr>\n",
       "    <tr>\n",
       "      <th>10</th>\n",
       "      <td>Профсоюзная улица</td>\n",
       "      <td>183</td>\n",
       "      <td>126</td>\n",
       "      <td>ЮЗАО</td>\n",
       "      <td>Район Коньково</td>\n",
       "    </tr>\n",
       "    <tr>\n",
       "      <th>11</th>\n",
       "      <td>Профсоюзная улица</td>\n",
       "      <td>183</td>\n",
       "      <td>129</td>\n",
       "      <td>ЮЗАО</td>\n",
       "      <td>Обручевский район</td>\n",
       "    </tr>\n",
       "    <tr>\n",
       "      <th>12</th>\n",
       "      <td>Профсоюзная улица</td>\n",
       "      <td>183</td>\n",
       "      <td>131</td>\n",
       "      <td>ЮЗАО</td>\n",
       "      <td>Район Теплый Стан</td>\n",
       "    </tr>\n",
       "    <tr>\n",
       "      <th>13</th>\n",
       "      <td>Ленинградский проспект</td>\n",
       "      <td>173</td>\n",
       "      <td>54</td>\n",
       "      <td>САО</td>\n",
       "      <td>Район Аэропорт</td>\n",
       "    </tr>\n",
       "    <tr>\n",
       "      <th>14</th>\n",
       "      <td>Ленинградский проспект</td>\n",
       "      <td>173</td>\n",
       "      <td>55</td>\n",
       "      <td>САО</td>\n",
       "      <td>Район Беговой</td>\n",
       "    </tr>\n",
       "    <tr>\n",
       "      <th>15</th>\n",
       "      <td>Ленинградский проспект</td>\n",
       "      <td>173</td>\n",
       "      <td>69</td>\n",
       "      <td>САО</td>\n",
       "      <td>Хорошевский район</td>\n",
       "    </tr>\n",
       "    <tr>\n",
       "      <th>16</th>\n",
       "      <td>Ленинградский проспект</td>\n",
       "      <td>173</td>\n",
       "      <td>66</td>\n",
       "      <td>САО</td>\n",
       "      <td>Район Сокол</td>\n",
       "    </tr>\n",
       "    <tr>\n",
       "      <th>17</th>\n",
       "      <td>Пресненская набережная</td>\n",
       "      <td>167</td>\n",
       "      <td>17</td>\n",
       "      <td>ЦАО</td>\n",
       "      <td>Пресненский район</td>\n",
       "    </tr>\n",
       "    <tr>\n",
       "      <th>18</th>\n",
       "      <td>Варшавское шоссе</td>\n",
       "      <td>165</td>\n",
       "      <td>109</td>\n",
       "      <td>ЮАО</td>\n",
       "      <td>Район Чертаново Центральное</td>\n",
       "    </tr>\n",
       "    <tr>\n",
       "      <th>19</th>\n",
       "      <td>Варшавское шоссе</td>\n",
       "      <td>165</td>\n",
       "      <td>108</td>\n",
       "      <td>ЮАО</td>\n",
       "      <td>Район Чертаново Северное</td>\n",
       "    </tr>\n",
       "    <tr>\n",
       "      <th>20</th>\n",
       "      <td>Варшавское шоссе</td>\n",
       "      <td>165</td>\n",
       "      <td>110</td>\n",
       "      <td>ЮАО</td>\n",
       "      <td>Район Чертаново Южное</td>\n",
       "    </tr>\n",
       "    <tr>\n",
       "      <th>21</th>\n",
       "      <td>Варшавское шоссе</td>\n",
       "      <td>165</td>\n",
       "      <td>99</td>\n",
       "      <td>ЮАО</td>\n",
       "      <td>Донской район</td>\n",
       "    </tr>\n",
       "    <tr>\n",
       "      <th>22</th>\n",
       "      <td>Варшавское шоссе</td>\n",
       "      <td>165</td>\n",
       "      <td>102</td>\n",
       "      <td>ЮАО</td>\n",
       "      <td>Район Нагатино-Садовники</td>\n",
       "    </tr>\n",
       "    <tr>\n",
       "      <th>23</th>\n",
       "      <td>Варшавское шоссе</td>\n",
       "      <td>165</td>\n",
       "      <td>104</td>\n",
       "      <td>ЮАО</td>\n",
       "      <td>Нагорный район</td>\n",
       "    </tr>\n",
       "    <tr>\n",
       "      <th>24</th>\n",
       "      <td>Варшавское шоссе</td>\n",
       "      <td>165</td>\n",
       "      <td>130</td>\n",
       "      <td>ЮЗАО</td>\n",
       "      <td>Район Северное Бутово</td>\n",
       "    </tr>\n",
       "    <tr>\n",
       "      <th>25</th>\n",
       "      <td>Варшавское шоссе</td>\n",
       "      <td>165</td>\n",
       "      <td>133</td>\n",
       "      <td>ЮЗАО</td>\n",
       "      <td>Район Южное Бутово</td>\n",
       "    </tr>\n",
       "    <tr>\n",
       "      <th>26</th>\n",
       "      <td>Ленинский проспект</td>\n",
       "      <td>148</td>\n",
       "      <td>44</td>\n",
       "      <td>ЗАО</td>\n",
       "      <td>Район Проспект Вернадского</td>\n",
       "    </tr>\n",
       "    <tr>\n",
       "      <th>27</th>\n",
       "      <td>Ленинский проспект</td>\n",
       "      <td>148</td>\n",
       "      <td>47</td>\n",
       "      <td>ЗАО</td>\n",
       "      <td>Район Тропарево-Никулино</td>\n",
       "    </tr>\n",
       "    <tr>\n",
       "      <th>28</th>\n",
       "      <td>Ленинский проспект</td>\n",
       "      <td>148</td>\n",
       "      <td>99</td>\n",
       "      <td>ЮАО</td>\n",
       "      <td>Донской район</td>\n",
       "    </tr>\n",
       "    <tr>\n",
       "      <th>29</th>\n",
       "      <td>Ленинский проспект</td>\n",
       "      <td>148</td>\n",
       "      <td>124</td>\n",
       "      <td>ЮЗАО</td>\n",
       "      <td>Район Гагаринский</td>\n",
       "    </tr>\n",
       "    <tr>\n",
       "      <th>30</th>\n",
       "      <td>Ленинский проспект</td>\n",
       "      <td>148</td>\n",
       "      <td>128</td>\n",
       "      <td>ЮЗАО</td>\n",
       "      <td>Ломоносовский район</td>\n",
       "    </tr>\n",
       "    <tr>\n",
       "      <th>31</th>\n",
       "      <td>Ленинский проспект</td>\n",
       "      <td>148</td>\n",
       "      <td>129</td>\n",
       "      <td>ЮЗАО</td>\n",
       "      <td>Обручевский район</td>\n",
       "    </tr>\n",
       "    <tr>\n",
       "      <th>32</th>\n",
       "      <td>Ленинский проспект</td>\n",
       "      <td>148</td>\n",
       "      <td>131</td>\n",
       "      <td>ЮЗАО</td>\n",
       "      <td>Район Теплый Стан</td>\n",
       "    </tr>\n",
       "    <tr>\n",
       "      <th>33</th>\n",
       "      <td>Ленинский проспект</td>\n",
       "      <td>148</td>\n",
       "      <td>21</td>\n",
       "      <td>ЦАО</td>\n",
       "      <td>Район Якиманка</td>\n",
       "    </tr>\n",
       "    <tr>\n",
       "      <th>34</th>\n",
       "      <td>проспект Вернадского</td>\n",
       "      <td>132</td>\n",
       "      <td>44</td>\n",
       "      <td>ЗАО</td>\n",
       "      <td>Район Проспект Вернадского</td>\n",
       "    </tr>\n",
       "    <tr>\n",
       "      <th>35</th>\n",
       "      <td>проспект Вернадского</td>\n",
       "      <td>132</td>\n",
       "      <td>45</td>\n",
       "      <td>ЗАО</td>\n",
       "      <td>Район Раменки</td>\n",
       "    </tr>\n",
       "    <tr>\n",
       "      <th>36</th>\n",
       "      <td>проспект Вернадского</td>\n",
       "      <td>132</td>\n",
       "      <td>47</td>\n",
       "      <td>ЗАО</td>\n",
       "      <td>Район Тропарево-Никулино</td>\n",
       "    </tr>\n",
       "    <tr>\n",
       "      <th>37</th>\n",
       "      <td>проспект Вернадского</td>\n",
       "      <td>132</td>\n",
       "      <td>124</td>\n",
       "      <td>ЮЗАО</td>\n",
       "      <td>Район Гагаринский</td>\n",
       "    </tr>\n",
       "    <tr>\n",
       "      <th>38</th>\n",
       "      <td>проспект Вернадского</td>\n",
       "      <td>132</td>\n",
       "      <td>128</td>\n",
       "      <td>ЮЗАО</td>\n",
       "      <td>Ломоносовский район</td>\n",
       "    </tr>\n",
       "    <tr>\n",
       "      <th>39</th>\n",
       "      <td>Кутузовский проспект</td>\n",
       "      <td>114</td>\n",
       "      <td>38</td>\n",
       "      <td>ЗАО</td>\n",
       "      <td>Район Дорогомилово</td>\n",
       "    </tr>\n",
       "    <tr>\n",
       "      <th>40</th>\n",
       "      <td>Кутузовский проспект</td>\n",
       "      <td>114</td>\n",
       "      <td>49</td>\n",
       "      <td>ЗАО</td>\n",
       "      <td>Район Фили-Давыдково</td>\n",
       "    </tr>\n",
       "    <tr>\n",
       "      <th>41</th>\n",
       "      <td>Каширское шоссе</td>\n",
       "      <td>112</td>\n",
       "      <td>101</td>\n",
       "      <td>ЮАО</td>\n",
       "      <td>Район Москворечье-Сабурово</td>\n",
       "    </tr>\n",
       "    <tr>\n",
       "      <th>42</th>\n",
       "      <td>Каширское шоссе</td>\n",
       "      <td>112</td>\n",
       "      <td>102</td>\n",
       "      <td>ЮАО</td>\n",
       "      <td>Район Нагатино-Садовники</td>\n",
       "    </tr>\n",
       "    <tr>\n",
       "      <th>43</th>\n",
       "      <td>Каширское шоссе</td>\n",
       "      <td>112</td>\n",
       "      <td>106</td>\n",
       "      <td>ЮАО</td>\n",
       "      <td>Район Орехово-Борисово Южное</td>\n",
       "    </tr>\n",
       "    <tr>\n",
       "      <th>44</th>\n",
       "      <td>Каширское шоссе</td>\n",
       "      <td>112</td>\n",
       "      <td>105</td>\n",
       "      <td>ЮАО</td>\n",
       "      <td>Район Орехово-Борисово Северное</td>\n",
       "    </tr>\n",
       "    <tr>\n",
       "      <th>45</th>\n",
       "      <td>Кировоградская улица</td>\n",
       "      <td>110</td>\n",
       "      <td>109</td>\n",
       "      <td>ЮАО</td>\n",
       "      <td>Район Чертаново Центральное</td>\n",
       "    </tr>\n",
       "    <tr>\n",
       "      <th>46</th>\n",
       "      <td>Кировоградская улица</td>\n",
       "      <td>110</td>\n",
       "      <td>108</td>\n",
       "      <td>ЮАО</td>\n",
       "      <td>Район Чертаново Северное</td>\n",
       "    </tr>\n",
       "    <tr>\n",
       "      <th>47</th>\n",
       "      <td>Кировоградская улица</td>\n",
       "      <td>110</td>\n",
       "      <td>110</td>\n",
       "      <td>ЮАО</td>\n",
       "      <td>Район Чертаново Южное</td>\n",
       "    </tr>\n",
       "  </tbody>\n",
       "</table>\n",
       "</div>"
      ],
      "text/plain": [
       "                    street   id  areaid okrug                             area\n",
       "0            проспект Мира  204      70  СВАО               Алексеевский район\n",
       "1            проспект Мира  204      86  СВАО                Ярославский Район\n",
       "2            проспект Мира  204      78  СВАО               Район Марьина роща\n",
       "3            проспект Мира  204      79  СВАО               Останкинский район\n",
       "4            проспект Мира  204      81  СВАО                  Район Ростокино\n",
       "5            проспект Мира  204      82  СВАО                   Район Свиблово\n",
       "6            проспект Мира  204      16   ЦАО                  Мещанский район\n",
       "7        Профсоюзная улица  183     123  ЮЗАО              Академический район\n",
       "8        Профсоюзная улица  183     132  ЮЗАО                  Район Черемушки\n",
       "9        Профсоюзная улица  183     134  ЮЗАО                    Район Ясенево\n",
       "10       Профсоюзная улица  183     126  ЮЗАО                   Район Коньково\n",
       "11       Профсоюзная улица  183     129  ЮЗАО                Обручевский район\n",
       "12       Профсоюзная улица  183     131  ЮЗАО                Район Теплый Стан\n",
       "13  Ленинградский проспект  173      54   САО                   Район Аэропорт\n",
       "14  Ленинградский проспект  173      55   САО                    Район Беговой\n",
       "15  Ленинградский проспект  173      69   САО                Хорошевский район\n",
       "16  Ленинградский проспект  173      66   САО                      Район Сокол\n",
       "17  Пресненская набережная  167      17   ЦАО                Пресненский район\n",
       "18        Варшавское шоссе  165     109   ЮАО      Район Чертаново Центральное\n",
       "19        Варшавское шоссе  165     108   ЮАО         Район Чертаново Северное\n",
       "20        Варшавское шоссе  165     110   ЮАО            Район Чертаново Южное\n",
       "21        Варшавское шоссе  165      99   ЮАО                    Донской район\n",
       "22        Варшавское шоссе  165     102   ЮАО         Район Нагатино-Садовники\n",
       "23        Варшавское шоссе  165     104   ЮАО                   Нагорный район\n",
       "24        Варшавское шоссе  165     130  ЮЗАО            Район Северное Бутово\n",
       "25        Варшавское шоссе  165     133  ЮЗАО               Район Южное Бутово\n",
       "26      Ленинский проспект  148      44   ЗАО       Район Проспект Вернадского\n",
       "27      Ленинский проспект  148      47   ЗАО         Район Тропарево-Никулино\n",
       "28      Ленинский проспект  148      99   ЮАО                    Донской район\n",
       "29      Ленинский проспект  148     124  ЮЗАО                Район Гагаринский\n",
       "30      Ленинский проспект  148     128  ЮЗАО              Ломоносовский район\n",
       "31      Ленинский проспект  148     129  ЮЗАО                Обручевский район\n",
       "32      Ленинский проспект  148     131  ЮЗАО                Район Теплый Стан\n",
       "33      Ленинский проспект  148      21   ЦАО                   Район Якиманка\n",
       "34    проспект Вернадского  132      44   ЗАО       Район Проспект Вернадского\n",
       "35    проспект Вернадского  132      45   ЗАО                    Район Раменки\n",
       "36    проспект Вернадского  132      47   ЗАО         Район Тропарево-Никулино\n",
       "37    проспект Вернадского  132     124  ЮЗАО                Район Гагаринский\n",
       "38    проспект Вернадского  132     128  ЮЗАО              Ломоносовский район\n",
       "39    Кутузовский проспект  114      38   ЗАО               Район Дорогомилово\n",
       "40    Кутузовский проспект  114      49   ЗАО             Район Фили-Давыдково\n",
       "41         Каширское шоссе  112     101   ЮАО       Район Москворечье-Сабурово\n",
       "42         Каширское шоссе  112     102   ЮАО         Район Нагатино-Садовники\n",
       "43         Каширское шоссе  112     106   ЮАО     Район Орехово-Борисово Южное\n",
       "44         Каширское шоссе  112     105   ЮАО  Район Орехово-Борисово Северное\n",
       "45    Кировоградская улица  110     109   ЮАО      Район Чертаново Центральное\n",
       "46    Кировоградская улица  110     108   ЮАО         Район Чертаново Северное\n",
       "47    Кировоградская улица  110     110   ЮАО            Район Чертаново Южное"
      ]
     },
     "metadata": {},
     "output_type": "display_data"
    },
    {
     "data": {
      "text/plain": [
       "0"
      ]
     },
     "execution_count": 20,
     "metadata": {},
     "output_type": "execute_result"
    }
   ],
   "source": [
    "# переименование столбца 'streetname'на 'street_name' и приведение его значений к нижнему регистру\n",
    "df = df.rename(columns = {'streetname': 'street'})\n",
    " \n",
    "# объединение top10_streets и df\n",
    "district = top_10str.merge(df, on = 'street', how = 'left') \n",
    "display(district)\n",
    "district[district['area'].isna()].shape[0] # проверка: число адресов без районов"
   ]
  },
  {
   "cell_type": "markdown",
   "metadata": {},
   "source": [
    "**Вывод №2:** Все улицы из топ_10 находятся сразу в нескольких районах, настолько они длинные."
   ]
  },
  {
   "cell_type": "code",
   "execution_count": 21,
   "metadata": {},
   "outputs": [
    {
     "data": {
      "text/html": [
       "<div>\n",
       "<style scoped>\n",
       "    .dataframe tbody tr th:only-of-type {\n",
       "        vertical-align: middle;\n",
       "    }\n",
       "\n",
       "    .dataframe tbody tr th {\n",
       "        vertical-align: top;\n",
       "    }\n",
       "\n",
       "    .dataframe thead th {\n",
       "        text-align: right;\n",
       "    }\n",
       "</style>\n",
       "<table border=\"1\" class=\"dataframe\">\n",
       "  <thead>\n",
       "    <tr style=\"text-align: right;\">\n",
       "      <th></th>\n",
       "      <th>street</th>\n",
       "    </tr>\n",
       "    <tr>\n",
       "      <th>area</th>\n",
       "      <th></th>\n",
       "    </tr>\n",
       "  </thead>\n",
       "  <tbody>\n",
       "    <tr>\n",
       "      <th>Таганский район</th>\n",
       "      <td>27</td>\n",
       "    </tr>\n",
       "    <tr>\n",
       "      <th>Район Хамовники</th>\n",
       "      <td>26</td>\n",
       "    </tr>\n",
       "    <tr>\n",
       "      <th>Басманный район</th>\n",
       "      <td>25</td>\n",
       "    </tr>\n",
       "    <tr>\n",
       "      <th>Тверской район</th>\n",
       "      <td>20</td>\n",
       "    </tr>\n",
       "    <tr>\n",
       "      <th>Пресненский район</th>\n",
       "      <td>20</td>\n",
       "    </tr>\n",
       "    <tr>\n",
       "      <th>Район Арбат</th>\n",
       "      <td>18</td>\n",
       "    </tr>\n",
       "    <tr>\n",
       "      <th>Район Марьина роща</th>\n",
       "      <td>18</td>\n",
       "    </tr>\n",
       "    <tr>\n",
       "      <th>Мещанский район</th>\n",
       "      <td>16</td>\n",
       "    </tr>\n",
       "    <tr>\n",
       "      <th>Район Сокольники</th>\n",
       "      <td>15</td>\n",
       "    </tr>\n",
       "    <tr>\n",
       "      <th>Район Замоскворечье</th>\n",
       "      <td>14</td>\n",
       "    </tr>\n",
       "  </tbody>\n",
       "</table>\n",
       "</div>"
      ],
      "text/plain": [
       "                     street\n",
       "area                       \n",
       "Таганский район          27\n",
       "Район Хамовники          26\n",
       "Басманный район          25\n",
       "Тверской район           20\n",
       "Пресненский район        20\n",
       "Район Арбат              18\n",
       "Район Марьина роща       18\n",
       "Мещанский район          16\n",
       "Район Сокольники         15\n",
       "Район Замоскворечье      14"
      ]
     },
     "metadata": {},
     "output_type": "display_data"
    },
    {
     "data": {
      "text/html": [
       "<div>\n",
       "<style scoped>\n",
       "    .dataframe tbody tr th:only-of-type {\n",
       "        vertical-align: middle;\n",
       "    }\n",
       "\n",
       "    .dataframe tbody tr th {\n",
       "        vertical-align: top;\n",
       "    }\n",
       "\n",
       "    .dataframe thead th {\n",
       "        text-align: right;\n",
       "    }\n",
       "</style>\n",
       "<table border=\"1\" class=\"dataframe\">\n",
       "  <thead>\n",
       "    <tr style=\"text-align: right;\">\n",
       "      <th></th>\n",
       "      <th>area</th>\n",
       "    </tr>\n",
       "    <tr>\n",
       "      <th>okrug</th>\n",
       "      <th></th>\n",
       "    </tr>\n",
       "  </thead>\n",
       "  <tbody>\n",
       "    <tr>\n",
       "      <th>ВАО</th>\n",
       "      <td>1</td>\n",
       "    </tr>\n",
       "    <tr>\n",
       "      <th>СВАО</th>\n",
       "      <td>1</td>\n",
       "    </tr>\n",
       "    <tr>\n",
       "      <th>ЦАО</th>\n",
       "      <td>8</td>\n",
       "    </tr>\n",
       "  </tbody>\n",
       "</table>\n",
       "</div>"
      ],
      "text/plain": [
       "       area\n",
       "okrug      \n",
       "ВАО       1\n",
       "СВАО      1\n",
       "ЦАО       8"
      ]
     },
     "execution_count": 21,
     "metadata": {},
     "output_type": "execute_result"
    }
   ],
   "source": [
    "#найдем улицы с одним заведением и определим к каким районам они относятся\n",
    "one_street = data.groupby('street').agg({'id':'count'}).query('id == 1')\n",
    "# соединим таблицы, чтобы получить информацию в каких районах они находятся\n",
    "district_one = one_street.merge(df, on = 'street', how = 'left') \n",
    "district_one_top = district_one.groupby('area').agg({'street' : 'nunique'})\\\n",
    "                .sort_values(by='street', ascending=False).head(10)\n",
    "display(district_one_top)\n",
    "#сгруппируем по округам \n",
    "district_one_top = district_one_top.merge(df[['area', 'okrug']], on = 'area', how = 'left') \n",
    "district_one_top.groupby('okrug').agg({'area' : 'nunique'})"
   ]
  },
  {
   "cell_type": "markdown",
   "metadata": {},
   "source": [
    "**Вывод №3:** Большинство улиц с одним объектом это маленькие улицы, они находятся в центральных районах"
   ]
  },
  {
   "cell_type": "markdown",
   "metadata": {},
   "source": [
    "## Распределение количества посадочных мест для улиц с большим количеством объектов общественного питания <a class=\"anchor\" id=\"seats\"></a>"
   ]
  },
  {
   "cell_type": "code",
   "execution_count": 22,
   "metadata": {},
   "outputs": [
    {
     "data": {
      "image/png": "[encoded data removed]",
      "text/plain": [
       "<Figure size 432x288 with 1 Axes>"
      ]
     },
     "metadata": {
      "needs_background": "light"
     },
     "output_type": "display_data"
    }
   ],
   "source": [
    "top_10 = data.query('street in @top_10str.index') # выбираем данные по улицам топ_10\n",
    "ax = sns.boxplot(x='street', y='number', data=top_10)\n",
    "ax.set_xticklabels(ax.get_xticklabels(), rotation=90)\n",
    "plt.ylabel('Число посадочных мест в заведении')\n",
    "plt.title('Анализ объектов в зависимости от количества посадочных мест для улиц топ_10 (по количеству объектов)');"
   ]
  },
  {
   "cell_type": "markdown",
   "metadata": {},
   "source": [
    "**Вывод №1:** На улицах Кутузовский проспект, пр Вернадского, Каширское шоссе, Ленинградский просп, Ленинский просп самые большие выбросы - заведения с количеством посадочных мест свыше 500. Выбросы свыше 250-300 есть на всех этих улицах."
   ]
  },
  {
   "cell_type": "code",
   "execution_count": 23,
   "metadata": {},
   "outputs": [
    {
     "data": {
      "image/png": "[encoded data removed]",
      "text/plain": [
       "<Figure size 432x288 with 1 Axes>"
      ]
     },
     "metadata": {
      "needs_background": "light"
     },
     "output_type": "display_data"
    }
   ],
   "source": [
    "#Уберем выбросы свыше 300 посадочных мест, чтобы удобнее было проанализировать остальные данные\n",
    "ax = sns.boxplot(x='street', y='number', data=top_10.query('number < 300'))\n",
    "ax.set_xticklabels(ax.get_xticklabels(), rotation=90)\n",
    "plt.grid(True)\n",
    "plt.ylabel('Число посадочных мест в заведении')\n",
    "plt.title('Анализ объектов в зависимости от количества посадочных мест для улиц топ_10 (по количеству объектов, очищенные данные)');"
   ]
  },
  {
   "cell_type": "code",
   "execution_count": 24,
   "metadata": {},
   "outputs": [
    {
     "data": {
      "text/html": [
       "<div>\n",
       "<style scoped>\n",
       "    .dataframe tbody tr th:only-of-type {\n",
       "        vertical-align: middle;\n",
       "    }\n",
       "\n",
       "    .dataframe tbody tr th {\n",
       "        vertical-align: top;\n",
       "    }\n",
       "\n",
       "    .dataframe thead th {\n",
       "        text-align: right;\n",
       "    }\n",
       "</style>\n",
       "<table border=\"1\" class=\"dataframe\">\n",
       "  <thead>\n",
       "    <tr style=\"text-align: right;\">\n",
       "      <th></th>\n",
       "      <th>id</th>\n",
       "      <th>number</th>\n",
       "    </tr>\n",
       "  </thead>\n",
       "  <tbody>\n",
       "    <tr>\n",
       "      <th>count</th>\n",
       "      <td>1,508</td>\n",
       "      <td>1,508</td>\n",
       "    </tr>\n",
       "    <tr>\n",
       "      <th>mean</th>\n",
       "      <td>126,666</td>\n",
       "      <td>58</td>\n",
       "    </tr>\n",
       "    <tr>\n",
       "      <th>std</th>\n",
       "      <td>72,454</td>\n",
       "      <td>90</td>\n",
       "    </tr>\n",
       "    <tr>\n",
       "      <th>min</th>\n",
       "      <td>19,654</td>\n",
       "      <td>0</td>\n",
       "    </tr>\n",
       "    <tr>\n",
       "      <th>25%</th>\n",
       "      <td>29,386</td>\n",
       "      <td>12</td>\n",
       "    </tr>\n",
       "    <tr>\n",
       "      <th>50%</th>\n",
       "      <td>150,752</td>\n",
       "      <td>38</td>\n",
       "    </tr>\n",
       "    <tr>\n",
       "      <th>75%</th>\n",
       "      <td>188,530</td>\n",
       "      <td>75</td>\n",
       "    </tr>\n",
       "    <tr>\n",
       "      <th>max</th>\n",
       "      <td>223,439</td>\n",
       "      <td>1,700</td>\n",
       "    </tr>\n",
       "  </tbody>\n",
       "</table>\n",
       "</div>"
      ],
      "text/plain": [
       "           id  number\n",
       "count   1,508   1,508\n",
       "mean  126,666      58\n",
       "std    72,454      90\n",
       "min    19,654       0\n",
       "25%    29,386      12\n",
       "50%   150,752      38\n",
       "75%   188,530      75\n",
       "max   223,439   1,700"
      ]
     },
     "execution_count": 24,
     "metadata": {},
     "output_type": "execute_result"
    }
   ],
   "source": [
    "top_10.describe()"
   ]
  },
  {
   "cell_type": "markdown",
   "metadata": {},
   "source": [
    "**Вывод №2:** Медианное количество посадочных мест примерно одинаковое у всех от 25 до 50 примерно. Сильно выделяется город Зеленоград, с медианой около 70, там находятся более крупные заведения, также свеча более вытянута, это означает, что в Зеленограде большой разброс по количеству мест у заведений. У Варшавского ш, Пресненской наб, Ленинградского просп. компактные свечи,  расположенные низко, это значит, что на этих улицах маленький разброс по количеству мест и оно оносительно невысоко."
   ]
  },
  {
   "cell_type": "code",
   "execution_count": null,
   "metadata": {},
   "outputs": [],
   "source": [
    "<div class=\"alert alert-info\"> <b>Комментарий студента:</b> Поясни, пожалуйста, что имеешь в виду под оценкой гистограмм?</div>"
   ]
  },
  {
   "cell_type": "markdown",
   "metadata": {},
   "source": [
    "## Общий вывод <a class=\"anchor\" id=\"conclusion\"></a>"
   ]
  },
  {
   "cell_type": "markdown",
   "metadata": {},
   "source": [
    "Самый распространенный вид объектов - это кафе. \n",
    "\n",
    "Несетевых заведений все-таки намного больше чем сетевых. Наибольший процент сетевых заведений у кафе, ресторанов и пбо (Макдоналдс, БургерКинг).\n",
    "\n",
    "Самые большие заведения по количеству посадочных мест - это столовые, затем идут ретсораны.\n",
    "\n",
    "Для сетей характерны крупные заведения на большое количество мест, с небольшим количеством точек. Крупных сетей с большими точками немного, но они есть. Много заведений - мало мест - совсем немногочисленная группа.\n",
    "\n",
    "Больше всего заведений находится на протяженных улицах - проспектах, шоссе, которые проходят через несколько районов города. "
   ]
  },
  {
   "cell_type": "markdown",
   "metadata": {},
   "source": [
    "Презентация: <https://docs.google.com/presentation/d/18ydf452QL_RB0K2q-HWNPEMyFTxn0elwHP14y9GLkwY/edit?usp=sharing>\n",
    "\n",
    "pdf формат: <https://disk.yandex.ru/d/wravPAaefSz7BA>"
   ]
  },
  {
   "cell_type": "code",
   "execution_count": null,
   "metadata": {},
   "outputs": [],
   "source": []
  },
  {
   "cell_type": "code",
   "execution_count": null,
   "metadata": {},
   "outputs": [],
   "source": []
  }
 ],
 "metadata": {
  "ExecuteTimeLog": [
   {
    "duration": 1173,
    "start_time": "2022-03-16T07:19:25.527Z"
   },
   {
    "duration": 42,
    "start_time": "2022-03-16T07:20:28.995Z"
   },
   {
    "duration": 16,
    "start_time": "2022-03-16T07:23:01.685Z"
   },
   {
    "duration": 15,
    "start_time": "2022-03-16T07:25:01.043Z"
   },
   {
    "duration": 21,
    "start_time": "2022-03-16T07:25:12.132Z"
   },
   {
    "duration": 25,
    "start_time": "2022-03-16T07:27:36.437Z"
   },
   {
    "duration": 24,
    "start_time": "2022-03-16T07:28:18.018Z"
   },
   {
    "duration": 22,
    "start_time": "2022-03-16T07:29:46.220Z"
   },
   {
    "duration": 5,
    "start_time": "2022-03-16T07:30:20.123Z"
   },
   {
    "duration": 7,
    "start_time": "2022-03-16T07:34:23.411Z"
   },
   {
    "duration": 8,
    "start_time": "2022-03-16T07:35:08.274Z"
   },
   {
    "duration": 71,
    "start_time": "2022-03-16T07:43:51.147Z"
   },
   {
    "duration": 14,
    "start_time": "2022-03-16T07:50:37.351Z"
   },
   {
    "duration": 269,
    "start_time": "2022-03-16T07:50:56.221Z"
   },
   {
    "duration": 221,
    "start_time": "2022-03-16T07:51:08.145Z"
   },
   {
    "duration": 191,
    "start_time": "2022-03-16T07:51:28.710Z"
   },
   {
    "duration": 204,
    "start_time": "2022-03-16T07:51:54.373Z"
   },
   {
    "duration": 236,
    "start_time": "2022-03-16T07:52:18.319Z"
   },
   {
    "duration": 199,
    "start_time": "2022-03-16T07:54:37.215Z"
   },
   {
    "duration": 217,
    "start_time": "2022-03-16T07:55:55.695Z"
   },
   {
    "duration": 220,
    "start_time": "2022-03-16T07:56:14.120Z"
   },
   {
    "duration": 18,
    "start_time": "2022-03-16T07:57:03.622Z"
   },
   {
    "duration": 7,
    "start_time": "2022-03-16T07:57:17.417Z"
   },
   {
    "duration": 2349,
    "start_time": "2022-03-16T07:57:35.982Z"
   },
   {
    "duration": 189,
    "start_time": "2022-03-16T07:57:50.056Z"
   },
   {
    "duration": 3,
    "start_time": "2022-03-16T07:59:22.269Z"
   },
   {
    "duration": 210,
    "start_time": "2022-03-16T07:59:33.751Z"
   },
   {
    "duration": 6,
    "start_time": "2022-03-16T07:59:56.277Z"
   },
   {
    "duration": 11,
    "start_time": "2022-03-16T08:00:06.247Z"
   },
   {
    "duration": 7,
    "start_time": "2022-03-16T08:00:36.990Z"
   },
   {
    "duration": 196,
    "start_time": "2022-03-16T08:01:03.325Z"
   },
   {
    "duration": 225,
    "start_time": "2022-03-16T08:01:24.614Z"
   },
   {
    "duration": 6,
    "start_time": "2022-03-16T08:02:06.926Z"
   },
   {
    "duration": 3,
    "start_time": "2022-03-16T08:02:27.838Z"
   },
   {
    "duration": 5,
    "start_time": "2022-03-16T08:02:40.517Z"
   },
   {
    "duration": 189,
    "start_time": "2022-03-16T08:03:37.598Z"
   },
   {
    "duration": 176,
    "start_time": "2022-03-16T08:04:32.503Z"
   },
   {
    "duration": 69,
    "start_time": "2022-03-16T08:04:58.189Z"
   },
   {
    "duration": 206,
    "start_time": "2022-03-16T08:05:04.945Z"
   },
   {
    "duration": 213,
    "start_time": "2022-03-16T08:05:19.025Z"
   },
   {
    "duration": 204,
    "start_time": "2022-03-16T08:05:48.934Z"
   },
   {
    "duration": 194,
    "start_time": "2022-03-16T08:06:11.050Z"
   },
   {
    "duration": 203,
    "start_time": "2022-03-16T08:07:14.015Z"
   },
   {
    "duration": 1018,
    "start_time": "2022-03-16T08:07:37.793Z"
   },
   {
    "duration": 41,
    "start_time": "2022-03-16T08:07:38.813Z"
   },
   {
    "duration": 18,
    "start_time": "2022-03-16T08:07:38.858Z"
   },
   {
    "duration": 20,
    "start_time": "2022-03-16T08:07:38.878Z"
   },
   {
    "duration": 4,
    "start_time": "2022-03-16T08:07:38.899Z"
   },
   {
    "duration": 33,
    "start_time": "2022-03-16T08:07:38.905Z"
   },
   {
    "duration": 8,
    "start_time": "2022-03-16T08:07:38.940Z"
   },
   {
    "duration": 8,
    "start_time": "2022-03-16T08:09:17.254Z"
   },
   {
    "duration": 9,
    "start_time": "2022-03-16T08:09:54.935Z"
   },
   {
    "duration": 5,
    "start_time": "2022-03-16T08:10:50.782Z"
   },
   {
    "duration": 5,
    "start_time": "2022-03-16T08:57:38.884Z"
   },
   {
    "duration": 6,
    "start_time": "2022-03-16T08:58:16.680Z"
   },
   {
    "duration": 11,
    "start_time": "2022-03-16T08:58:40.500Z"
   },
   {
    "duration": 13,
    "start_time": "2022-03-16T08:59:25.066Z"
   },
   {
    "duration": 11,
    "start_time": "2022-03-16T08:59:38.599Z"
   },
   {
    "duration": 7,
    "start_time": "2022-03-16T09:00:39.986Z"
   },
   {
    "duration": 6,
    "start_time": "2022-03-16T09:01:09.047Z"
   },
   {
    "duration": 7,
    "start_time": "2022-03-16T09:01:19.517Z"
   },
   {
    "duration": 6,
    "start_time": "2022-03-16T09:01:50.538Z"
   },
   {
    "duration": 6,
    "start_time": "2022-03-16T09:01:57.432Z"
   },
   {
    "duration": 4420,
    "start_time": "2022-03-16T09:08:25.841Z"
   },
   {
    "duration": 74,
    "start_time": "2022-03-16T09:10:18.772Z"
   },
   {
    "duration": 8,
    "start_time": "2022-03-16T09:10:23.910Z"
   },
   {
    "duration": 1181,
    "start_time": "2022-03-16T09:11:23.010Z"
   },
   {
    "duration": 1500,
    "start_time": "2022-03-16T09:11:24.193Z"
   },
   {
    "duration": 20,
    "start_time": "2022-03-16T09:11:25.695Z"
   },
   {
    "duration": 21,
    "start_time": "2022-03-16T09:11:25.718Z"
   },
   {
    "duration": 5,
    "start_time": "2022-03-16T09:11:25.741Z"
   },
   {
    "duration": 7,
    "start_time": "2022-03-16T09:11:25.748Z"
   },
   {
    "duration": 7,
    "start_time": "2022-03-16T09:11:25.757Z"
   },
   {
    "duration": 17,
    "start_time": "2022-03-16T09:11:25.766Z"
   },
   {
    "duration": 4,
    "start_time": "2022-03-16T09:11:25.785Z"
   },
   {
    "duration": 12,
    "start_time": "2022-03-16T09:11:25.791Z"
   },
   {
    "duration": 33,
    "start_time": "2022-03-16T09:11:25.806Z"
   },
   {
    "duration": 11,
    "start_time": "2022-03-16T09:11:25.840Z"
   },
   {
    "duration": 5,
    "start_time": "2022-03-16T09:17:47.757Z"
   },
   {
    "duration": 16,
    "start_time": "2022-03-16T09:40:11.642Z"
   },
   {
    "duration": 63,
    "start_time": "2022-03-16T09:42:48.991Z"
   },
   {
    "duration": 67,
    "start_time": "2022-03-16T09:43:11.622Z"
   },
   {
    "duration": 65,
    "start_time": "2022-03-16T09:43:27.465Z"
   },
   {
    "duration": 10,
    "start_time": "2022-03-16T09:43:50.786Z"
   },
   {
    "duration": 272,
    "start_time": "2022-03-16T09:44:45.644Z"
   },
   {
    "duration": 16,
    "start_time": "2022-03-16T09:44:54.152Z"
   },
   {
    "duration": 10,
    "start_time": "2022-03-16T09:47:11.576Z"
   },
   {
    "duration": 16,
    "start_time": "2022-03-16T09:47:18.610Z"
   },
   {
    "duration": 4744,
    "start_time": "2022-03-16T09:49:42.535Z"
   },
   {
    "duration": 9160,
    "start_time": "2022-03-16T09:51:44.941Z"
   },
   {
    "duration": 10,
    "start_time": "2022-03-16T09:52:17.754Z"
   },
   {
    "duration": 14,
    "start_time": "2022-03-16T09:52:31.404Z"
   },
   {
    "duration": 4508,
    "start_time": "2022-03-16T09:53:05.755Z"
   },
   {
    "duration": 4681,
    "start_time": "2022-03-16T09:55:34.815Z"
   },
   {
    "duration": 10,
    "start_time": "2022-03-16T09:57:56.701Z"
   },
   {
    "duration": 261,
    "start_time": "2022-03-16T10:13:17.106Z"
   },
   {
    "duration": 254,
    "start_time": "2022-03-16T10:16:11.208Z"
   },
   {
    "duration": 1271,
    "start_time": "2022-03-22T06:12:35.343Z"
   },
   {
    "duration": 57,
    "start_time": "2022-03-22T06:12:36.616Z"
   },
   {
    "duration": 24,
    "start_time": "2022-03-22T06:12:36.675Z"
   },
   {
    "duration": 35,
    "start_time": "2022-03-22T06:12:36.702Z"
   },
   {
    "duration": 5,
    "start_time": "2022-03-22T06:12:36.739Z"
   },
   {
    "duration": 4,
    "start_time": "2022-03-22T06:12:36.746Z"
   },
   {
    "duration": 5,
    "start_time": "2022-03-22T06:12:36.752Z"
   },
   {
    "duration": 140,
    "start_time": "2022-03-22T06:12:36.759Z"
   },
   {
    "duration": 14,
    "start_time": "2022-03-22T06:12:36.901Z"
   },
   {
    "duration": 73,
    "start_time": "2022-03-22T06:12:36.917Z"
   },
   {
    "duration": 217,
    "start_time": "2022-03-22T06:12:36.992Z"
   },
   {
    "duration": 175,
    "start_time": "2022-03-22T06:12:37.211Z"
   },
   {
    "duration": 16,
    "start_time": "2022-03-22T06:12:37.388Z"
   },
   {
    "duration": 4,
    "start_time": "2022-03-22T06:12:37.406Z"
   },
   {
    "duration": 25,
    "start_time": "2022-03-22T06:12:37.411Z"
   },
   {
    "duration": 265,
    "start_time": "2022-03-22T06:12:37.438Z"
   },
   {
    "duration": 45,
    "start_time": "2022-03-22T06:12:37.704Z"
   },
   {
    "duration": 1412,
    "start_time": "2022-03-22T06:12:37.751Z"
   },
   {
    "duration": 180,
    "start_time": "2022-03-22T06:12:39.165Z"
   },
   {
    "duration": 18,
    "start_time": "2022-03-22T06:12:39.347Z"
   },
   {
    "duration": 28,
    "start_time": "2022-03-22T06:12:39.367Z"
   },
   {
    "duration": 280,
    "start_time": "2022-03-22T06:12:39.397Z"
   },
   {
    "duration": 353,
    "start_time": "2022-03-22T06:12:39.679Z"
   },
   {
    "duration": 14,
    "start_time": "2022-03-22T06:12:40.034Z"
   },
   {
    "duration": 1843,
    "start_time": "2022-03-22T12:14:37.953Z"
   },
   {
    "duration": 65,
    "start_time": "2022-03-22T12:14:39.799Z"
   },
   {
    "duration": 46,
    "start_time": "2022-03-22T12:14:39.867Z"
   },
   {
    "duration": 30,
    "start_time": "2022-03-22T12:14:39.915Z"
   },
   {
    "duration": 35,
    "start_time": "2022-03-22T12:14:39.949Z"
   },
   {
    "duration": 8,
    "start_time": "2022-03-22T12:14:39.986Z"
   },
   {
    "duration": 11,
    "start_time": "2022-03-22T12:14:39.996Z"
   },
   {
    "duration": 272,
    "start_time": "2022-03-22T12:14:40.010Z"
   },
   {
    "duration": 25,
    "start_time": "2022-03-22T12:14:40.284Z"
   },
   {
    "duration": 114,
    "start_time": "2022-03-22T12:14:40.312Z"
   },
   {
    "duration": 366,
    "start_time": "2022-03-22T12:14:40.429Z"
   },
   {
    "duration": 314,
    "start_time": "2022-03-22T12:14:40.798Z"
   },
   {
    "duration": 30,
    "start_time": "2022-03-22T12:14:41.114Z"
   },
   {
    "duration": 7,
    "start_time": "2022-03-22T12:14:41.149Z"
   },
   {
    "duration": 35,
    "start_time": "2022-03-22T12:14:41.159Z"
   },
   {
    "duration": 476,
    "start_time": "2022-03-22T12:14:41.196Z"
   },
   {
    "duration": 66,
    "start_time": "2022-03-22T12:14:41.674Z"
   },
   {
    "duration": 1266,
    "start_time": "2022-03-22T12:14:41.743Z"
   },
   {
    "duration": 325,
    "start_time": "2022-03-22T12:14:43.011Z"
   },
   {
    "duration": 49,
    "start_time": "2022-03-22T12:14:43.338Z"
   },
   {
    "duration": 50,
    "start_time": "2022-03-22T12:14:43.389Z"
   },
   {
    "duration": 487,
    "start_time": "2022-03-22T12:14:43.442Z"
   },
   {
    "duration": 559,
    "start_time": "2022-03-22T12:14:43.932Z"
   },
   {
    "duration": 21,
    "start_time": "2022-03-22T12:14:44.493Z"
   },
   {
    "duration": 75,
    "start_time": "2022-03-22T12:55:24.388Z"
   },
   {
    "duration": 14,
    "start_time": "2022-03-22T12:55:31.145Z"
   },
   {
    "duration": 2479,
    "start_time": "2022-03-22T12:55:41.690Z"
   },
   {
    "duration": 102,
    "start_time": "2022-03-22T12:55:44.173Z"
   },
   {
    "duration": 54,
    "start_time": "2022-03-22T12:55:44.278Z"
   },
   {
    "duration": 70,
    "start_time": "2022-03-22T12:55:44.336Z"
   },
   {
    "duration": 9,
    "start_time": "2022-03-22T12:55:44.410Z"
   },
   {
    "duration": 9,
    "start_time": "2022-03-22T12:55:44.421Z"
   },
   {
    "duration": 51,
    "start_time": "2022-03-22T12:55:44.433Z"
   },
   {
    "duration": 220,
    "start_time": "2022-03-22T12:55:44.487Z"
   },
   {
    "duration": 25,
    "start_time": "2022-03-22T12:55:44.710Z"
   },
   {
    "duration": 123,
    "start_time": "2022-03-22T12:55:44.740Z"
   },
   {
    "duration": 552,
    "start_time": "2022-03-22T12:55:44.865Z"
   },
   {
    "duration": 322,
    "start_time": "2022-03-22T12:55:45.420Z"
   },
   {
    "duration": 38,
    "start_time": "2022-03-22T12:55:45.745Z"
   },
   {
    "duration": 7,
    "start_time": "2022-03-22T12:55:45.785Z"
   },
   {
    "duration": 15,
    "start_time": "2022-03-22T12:55:45.794Z"
   },
   {
    "duration": 480,
    "start_time": "2022-03-22T12:55:45.811Z"
   },
   {
    "duration": 62,
    "start_time": "2022-03-22T12:55:46.293Z"
   },
   {
    "duration": 1323,
    "start_time": "2022-03-22T12:55:46.358Z"
   },
   {
    "duration": 321,
    "start_time": "2022-03-22T12:55:47.684Z"
   },
   {
    "duration": 28,
    "start_time": "2022-03-22T12:55:48.008Z"
   },
   {
    "duration": 69,
    "start_time": "2022-03-22T12:55:48.038Z"
   },
   {
    "duration": 472,
    "start_time": "2022-03-22T12:55:48.110Z"
   },
   {
    "duration": 552,
    "start_time": "2022-03-22T12:55:48.585Z"
   },
   {
    "duration": 42,
    "start_time": "2022-03-22T12:55:49.140Z"
   },
   {
    "duration": 1634,
    "start_time": "2022-03-22T14:43:50.087Z"
   },
   {
    "duration": 74,
    "start_time": "2022-03-22T14:43:51.724Z"
   },
   {
    "duration": 36,
    "start_time": "2022-03-22T14:43:51.800Z"
   },
   {
    "duration": 53,
    "start_time": "2022-03-22T14:43:51.838Z"
   },
   {
    "duration": 8,
    "start_time": "2022-03-22T14:43:51.895Z"
   },
   {
    "duration": 9,
    "start_time": "2022-03-22T14:43:51.905Z"
   },
   {
    "duration": 8,
    "start_time": "2022-03-22T14:43:51.917Z"
   },
   {
    "duration": 235,
    "start_time": "2022-03-22T14:43:51.929Z"
   },
   {
    "duration": 32,
    "start_time": "2022-03-22T14:43:52.166Z"
   },
   {
    "duration": 113,
    "start_time": "2022-03-22T14:43:52.202Z"
   },
   {
    "duration": 371,
    "start_time": "2022-03-22T14:43:52.318Z"
   },
   {
    "duration": 302,
    "start_time": "2022-03-22T14:43:52.692Z"
   },
   {
    "duration": 31,
    "start_time": "2022-03-22T14:43:52.997Z"
   },
   {
    "duration": 6,
    "start_time": "2022-03-22T14:43:53.034Z"
   },
   {
    "duration": 41,
    "start_time": "2022-03-22T14:43:53.043Z"
   },
   {
    "duration": 457,
    "start_time": "2022-03-22T14:43:53.086Z"
   },
   {
    "duration": 76,
    "start_time": "2022-03-22T14:43:53.546Z"
   },
   {
    "duration": 1359,
    "start_time": "2022-03-22T14:43:53.624Z"
   },
   {
    "duration": 330,
    "start_time": "2022-03-22T14:43:54.985Z"
   },
   {
    "duration": 29,
    "start_time": "2022-03-22T14:43:55.318Z"
   },
   {
    "duration": 66,
    "start_time": "2022-03-22T14:43:55.351Z"
   },
   {
    "duration": 473,
    "start_time": "2022-03-22T14:43:55.419Z"
   },
   {
    "duration": 563,
    "start_time": "2022-03-22T14:43:55.894Z"
   },
   {
    "duration": 28,
    "start_time": "2022-03-22T14:43:56.460Z"
   },
   {
    "duration": 352,
    "start_time": "2022-03-22T14:52:05.145Z"
   },
   {
    "duration": 535,
    "start_time": "2022-03-22T14:52:45.092Z"
   },
   {
    "duration": 337,
    "start_time": "2022-03-22T14:57:03.148Z"
   },
   {
    "duration": 323,
    "start_time": "2022-03-22T14:57:25.326Z"
   },
   {
    "duration": 316,
    "start_time": "2022-03-22T14:58:19.518Z"
   },
   {
    "duration": 343,
    "start_time": "2022-03-22T15:02:50.181Z"
   },
   {
    "duration": 1586,
    "start_time": "2022-03-22T15:03:02.954Z"
   },
   {
    "duration": 70,
    "start_time": "2022-03-22T15:03:04.543Z"
   },
   {
    "duration": 36,
    "start_time": "2022-03-22T15:03:04.615Z"
   },
   {
    "duration": 52,
    "start_time": "2022-03-22T15:03:04.653Z"
   },
   {
    "duration": 8,
    "start_time": "2022-03-22T15:03:04.708Z"
   },
   {
    "duration": 10,
    "start_time": "2022-03-22T15:03:04.719Z"
   },
   {
    "duration": 7,
    "start_time": "2022-03-22T15:03:04.732Z"
   },
   {
    "duration": 244,
    "start_time": "2022-03-22T15:03:04.741Z"
   },
   {
    "duration": 26,
    "start_time": "2022-03-22T15:03:04.988Z"
   },
   {
    "duration": 122,
    "start_time": "2022-03-22T15:03:05.016Z"
   },
   {
    "duration": 378,
    "start_time": "2022-03-22T15:03:05.141Z"
   },
   {
    "duration": 326,
    "start_time": "2022-03-22T15:03:05.521Z"
   },
   {
    "duration": 42,
    "start_time": "2022-03-22T15:03:05.850Z"
   },
   {
    "duration": 7,
    "start_time": "2022-03-22T15:03:05.896Z"
   },
   {
    "duration": 9,
    "start_time": "2022-03-22T15:03:05.905Z"
   },
   {
    "duration": 477,
    "start_time": "2022-03-22T15:03:05.916Z"
   },
   {
    "duration": 63,
    "start_time": "2022-03-22T15:03:06.396Z"
   },
   {
    "duration": 1397,
    "start_time": "2022-03-22T15:03:06.462Z"
   },
   {
    "duration": 343,
    "start_time": "2022-03-22T15:03:07.862Z"
   },
   {
    "duration": 200,
    "start_time": "2022-03-22T15:03:08.207Z"
   },
   {
    "duration": 0,
    "start_time": "2022-03-22T15:03:08.410Z"
   },
   {
    "duration": 0,
    "start_time": "2022-03-22T15:03:08.413Z"
   },
   {
    "duration": 0,
    "start_time": "2022-03-22T15:03:08.415Z"
   },
   {
    "duration": 0,
    "start_time": "2022-03-22T15:03:08.417Z"
   },
   {
    "duration": 40,
    "start_time": "2022-03-22T15:04:08.403Z"
   },
   {
    "duration": 1649,
    "start_time": "2022-03-22T15:04:17.911Z"
   },
   {
    "duration": 99,
    "start_time": "2022-03-22T15:04:19.563Z"
   },
   {
    "duration": 46,
    "start_time": "2022-03-22T15:04:19.666Z"
   },
   {
    "duration": 41,
    "start_time": "2022-03-22T15:04:19.715Z"
   },
   {
    "duration": 11,
    "start_time": "2022-03-22T15:04:19.784Z"
   },
   {
    "duration": 34,
    "start_time": "2022-03-22T15:04:19.797Z"
   },
   {
    "duration": 27,
    "start_time": "2022-03-22T15:04:19.835Z"
   },
   {
    "duration": 217,
    "start_time": "2022-03-22T15:04:19.865Z"
   },
   {
    "duration": 33,
    "start_time": "2022-03-22T15:04:20.085Z"
   },
   {
    "duration": 181,
    "start_time": "2022-03-22T15:04:20.124Z"
   },
   {
    "duration": 440,
    "start_time": "2022-03-22T15:04:20.308Z"
   },
   {
    "duration": 438,
    "start_time": "2022-03-22T15:04:20.750Z"
   },
   {
    "duration": 38,
    "start_time": "2022-03-22T15:04:21.191Z"
   },
   {
    "duration": 6,
    "start_time": "2022-03-22T15:04:21.232Z"
   },
   {
    "duration": 46,
    "start_time": "2022-03-22T15:04:21.240Z"
   },
   {
    "duration": 500,
    "start_time": "2022-03-22T15:04:21.289Z"
   },
   {
    "duration": 97,
    "start_time": "2022-03-22T15:04:21.792Z"
   },
   {
    "duration": 720,
    "start_time": "2022-03-22T15:04:21.891Z"
   },
   {
    "duration": 367,
    "start_time": "2022-03-22T15:04:22.618Z"
   },
   {
    "duration": 288,
    "start_time": "2022-03-22T15:04:22.988Z"
   },
   {
    "duration": 0,
    "start_time": "2022-03-22T15:04:23.283Z"
   },
   {
    "duration": 0,
    "start_time": "2022-03-22T15:04:23.285Z"
   },
   {
    "duration": 0,
    "start_time": "2022-03-22T15:04:23.287Z"
   },
   {
    "duration": 0,
    "start_time": "2022-03-22T15:04:23.288Z"
   },
   {
    "duration": 65,
    "start_time": "2022-03-22T15:05:31.124Z"
   },
   {
    "duration": 40,
    "start_time": "2022-03-22T15:06:04.378Z"
   },
   {
    "duration": 57,
    "start_time": "2022-03-22T15:07:01.249Z"
   },
   {
    "duration": 1621,
    "start_time": "2022-03-22T15:07:19.175Z"
   },
   {
    "duration": 76,
    "start_time": "2022-03-22T15:07:20.800Z"
   },
   {
    "duration": 40,
    "start_time": "2022-03-22T15:07:20.883Z"
   },
   {
    "duration": 59,
    "start_time": "2022-03-22T15:07:20.928Z"
   },
   {
    "duration": 10,
    "start_time": "2022-03-22T15:07:20.990Z"
   },
   {
    "duration": 10,
    "start_time": "2022-03-22T15:07:21.003Z"
   },
   {
    "duration": 10,
    "start_time": "2022-03-22T15:07:21.015Z"
   },
   {
    "duration": 235,
    "start_time": "2022-03-22T15:07:21.028Z"
   },
   {
    "duration": 31,
    "start_time": "2022-03-22T15:07:21.266Z"
   },
   {
    "duration": 110,
    "start_time": "2022-03-22T15:07:21.302Z"
   },
   {
    "duration": 368,
    "start_time": "2022-03-22T15:07:21.414Z"
   },
   {
    "duration": 311,
    "start_time": "2022-03-22T15:07:21.785Z"
   },
   {
    "duration": 27,
    "start_time": "2022-03-22T15:07:22.098Z"
   },
   {
    "duration": 7,
    "start_time": "2022-03-22T15:07:22.127Z"
   },
   {
    "duration": 9,
    "start_time": "2022-03-22T15:07:22.136Z"
   },
   {
    "duration": 687,
    "start_time": "2022-03-22T15:07:22.184Z"
   },
   {
    "duration": 99,
    "start_time": "2022-03-22T15:07:22.874Z"
   },
   {
    "duration": 907,
    "start_time": "2022-03-22T15:07:22.984Z"
   },
   {
    "duration": 334,
    "start_time": "2022-03-22T15:07:23.894Z"
   },
   {
    "duration": 65,
    "start_time": "2022-03-22T15:07:24.231Z"
   },
   {
    "duration": 48,
    "start_time": "2022-03-22T15:07:24.299Z"
   },
   {
    "duration": 705,
    "start_time": "2022-03-22T15:07:24.350Z"
   },
   {
    "duration": 568,
    "start_time": "2022-03-22T15:07:25.058Z"
   },
   {
    "duration": 22,
    "start_time": "2022-03-22T15:07:25.628Z"
   },
   {
    "duration": 58,
    "start_time": "2022-03-22T15:08:24.150Z"
   },
   {
    "duration": 34,
    "start_time": "2022-03-22T15:09:16.197Z"
   },
   {
    "duration": 1584,
    "start_time": "2022-03-22T15:12:50.974Z"
   },
   {
    "duration": 71,
    "start_time": "2022-03-22T15:12:52.562Z"
   },
   {
    "duration": 66,
    "start_time": "2022-03-22T15:12:52.636Z"
   },
   {
    "duration": 46,
    "start_time": "2022-03-22T15:12:52.705Z"
   },
   {
    "duration": 34,
    "start_time": "2022-03-22T15:12:52.756Z"
   },
   {
    "duration": 18,
    "start_time": "2022-03-22T15:12:52.792Z"
   },
   {
    "duration": 21,
    "start_time": "2022-03-22T15:12:52.812Z"
   },
   {
    "duration": 211,
    "start_time": "2022-03-22T15:12:52.835Z"
   },
   {
    "duration": 25,
    "start_time": "2022-03-22T15:12:53.049Z"
   },
   {
    "duration": 117,
    "start_time": "2022-03-22T15:12:53.076Z"
   },
   {
    "duration": 560,
    "start_time": "2022-03-22T15:12:53.195Z"
   },
   {
    "duration": 462,
    "start_time": "2022-03-22T15:12:53.758Z"
   },
   {
    "duration": 36,
    "start_time": "2022-03-22T15:12:54.222Z"
   },
   {
    "duration": 7,
    "start_time": "2022-03-22T15:12:54.281Z"
   },
   {
    "duration": 11,
    "start_time": "2022-03-22T15:12:54.291Z"
   },
   {
    "duration": 463,
    "start_time": "2022-03-22T15:12:54.304Z"
   },
   {
    "duration": 70,
    "start_time": "2022-03-22T15:12:54.770Z"
   },
   {
    "duration": 1201,
    "start_time": "2022-03-22T15:12:54.843Z"
   },
   {
    "duration": 323,
    "start_time": "2022-03-22T15:12:56.046Z"
   },
   {
    "duration": 41,
    "start_time": "2022-03-22T15:12:56.371Z"
   },
   {
    "duration": 78,
    "start_time": "2022-03-22T15:12:56.416Z"
   },
   {
    "duration": 478,
    "start_time": "2022-03-22T15:12:56.498Z"
   },
   {
    "duration": 556,
    "start_time": "2022-03-22T15:12:56.983Z"
   },
   {
    "duration": 41,
    "start_time": "2022-03-22T15:12:57.541Z"
   },
   {
    "duration": 117,
    "start_time": "2022-03-23T06:04:03.540Z"
   }
  ],
  "celltoolbar": "Raw Cell Format",
  "kernelspec": {
   "display_name": "Python 3",
   "language": "python",
   "name": "python3"
  },
  "language_info": {
   "codemirror_mode": {
    "name": "ipython",
    "version": 3
   },
   "file_extension": ".py",
   "mimetype": "text/x-python",
   "name": "python",
   "nbconvert_exporter": "python",
   "pygments_lexer": "ipython3",
   "version": "3.8.8"
  },
  "toc": {
   "base_numbering": 1,
   "nav_menu": {},
   "number_sections": true,
   "sideBar": true,
   "skip_h1_title": true,
   "title_cell": "Table of Contents",
   "title_sidebar": "Contents",
   "toc_cell": false,
   "toc_position": {},
   "toc_section_display": true,
   "toc_window_display": true
  }
 },
 "nbformat": 4,
 "nbformat_minor": 2
}
