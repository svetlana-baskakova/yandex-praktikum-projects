{
 "cells": [
  {
   "cell_type": "markdown",
   "metadata": {},
   "source": [
    "# Определение перспективного тарифа для телеком-компании\n",
    "\n",
    "Нужно сделать анализ для сотового оператора. Он предлагает клиентам два тарифных плана: «Смарт» и «Ультра». Необходимо понять, какой тариф приносит больше денег.\n",
    "Анализ тарифов будет на небольшой выборке клиентов. (500 пользователей: кто они, откуда, каким тарифом пользуются, сколько звонков и сообщений каждый отправил за 2018 год). На этих данных нужно сделать выводы о всей генеральной совокупности, используя статистические методы анализа"
   ]
  },
  {
   "cell_type": "markdown",
   "metadata": {},
   "source": [
    "## Изучение и предобработка данных"
   ]
  },
  {
   "cell_type": "markdown",
   "metadata": {},
   "source": [
    "Данные, необходимые для исследования, мы берем из нескольких файлов. По отдельности откроем каждый из них, проверим и проведем необходимые преобразования."
   ]
  },
  {
   "cell_type": "code",
   "execution_count": 1,
   "metadata": {},
   "outputs": [],
   "source": [
    "#импортируем библиотеки\n",
    "import pandas as pd\n",
    "import numpy as np\n",
    "from scipy import stats as st\n",
    "import matplotlib.pyplot as plt\n",
    "import datetime\n",
    "pd.set_option('display.float_format', '{:,.2f}'.format)"
   ]
  },
  {
   "cell_type": "code",
   "execution_count": 2,
   "metadata": {},
   "outputs": [],
   "source": [
    "calls=pd.read_csv('/datasets/calls.csv')\n",
    "internet=pd.read_csv('/datasets/internet.csv', index_col=0)\n",
    "messages=pd.read_csv('/datasets/messages.csv')\n",
    "tariffs=pd.read_csv('/datasets/tariffs.csv')\n",
    "users=pd.read_csv('/datasets/users.csv')\n"
   ]
  },
  {
   "cell_type": "markdown",
   "metadata": {},
   "source": [
    "### Calls"
   ]
  },
  {
   "cell_type": "code",
   "execution_count": 3,
   "metadata": {},
   "outputs": [
    {
     "data": {
      "text/html": [
       "<div>\n",
       "<style scoped>\n",
       "    .dataframe tbody tr th:only-of-type {\n",
       "        vertical-align: middle;\n",
       "    }\n",
       "\n",
       "    .dataframe tbody tr th {\n",
       "        vertical-align: top;\n",
       "    }\n",
       "\n",
       "    .dataframe thead th {\n",
       "        text-align: right;\n",
       "    }\n",
       "</style>\n",
       "<table border=\"1\" class=\"dataframe\">\n",
       "  <thead>\n",
       "    <tr style=\"text-align: right;\">\n",
       "      <th></th>\n",
       "      <th>id</th>\n",
       "      <th>call_date</th>\n",
       "      <th>duration</th>\n",
       "      <th>user_id</th>\n",
       "    </tr>\n",
       "  </thead>\n",
       "  <tbody>\n",
       "    <tr>\n",
       "      <th>0</th>\n",
       "      <td>1000_0</td>\n",
       "      <td>2018-07-25</td>\n",
       "      <td>0.00</td>\n",
       "      <td>1000</td>\n",
       "    </tr>\n",
       "    <tr>\n",
       "      <th>1</th>\n",
       "      <td>1000_1</td>\n",
       "      <td>2018-08-17</td>\n",
       "      <td>0.00</td>\n",
       "      <td>1000</td>\n",
       "    </tr>\n",
       "    <tr>\n",
       "      <th>2</th>\n",
       "      <td>1000_2</td>\n",
       "      <td>2018-06-11</td>\n",
       "      <td>2.85</td>\n",
       "      <td>1000</td>\n",
       "    </tr>\n",
       "    <tr>\n",
       "      <th>3</th>\n",
       "      <td>1000_3</td>\n",
       "      <td>2018-09-21</td>\n",
       "      <td>13.80</td>\n",
       "      <td>1000</td>\n",
       "    </tr>\n",
       "    <tr>\n",
       "      <th>4</th>\n",
       "      <td>1000_4</td>\n",
       "      <td>2018-12-15</td>\n",
       "      <td>5.18</td>\n",
       "      <td>1000</td>\n",
       "    </tr>\n",
       "  </tbody>\n",
       "</table>\n",
       "</div>"
      ],
      "text/plain": [
       "       id   call_date  duration  user_id\n",
       "0  1000_0  2018-07-25      0.00     1000\n",
       "1  1000_1  2018-08-17      0.00     1000\n",
       "2  1000_2  2018-06-11      2.85     1000\n",
       "3  1000_3  2018-09-21     13.80     1000\n",
       "4  1000_4  2018-12-15      5.18     1000"
      ]
     },
     "execution_count": 3,
     "metadata": {},
     "output_type": "execute_result"
    }
   ],
   "source": [
    "calls.head()"
   ]
  },
  {
   "cell_type": "code",
   "execution_count": 4,
   "metadata": {},
   "outputs": [
    {
     "name": "stdout",
     "output_type": "stream",
     "text": [
      "<class 'pandas.core.frame.DataFrame'>\n",
      "RangeIndex: 202607 entries, 0 to 202606\n",
      "Data columns (total 4 columns):\n",
      " #   Column     Non-Null Count   Dtype  \n",
      "---  ------     --------------   -----  \n",
      " 0   id         202607 non-null  object \n",
      " 1   call_date  202607 non-null  object \n",
      " 2   duration   202607 non-null  float64\n",
      " 3   user_id    202607 non-null  int64  \n",
      "dtypes: float64(1), int64(1), object(2)\n",
      "memory usage: 6.2+ MB\n"
     ]
    }
   ],
   "source": [
    "calls.info()"
   ]
  },
  {
   "cell_type": "markdown",
   "metadata": {},
   "source": [
    "В файле 202_607 строк, нет пропусков. Здесь содержатся данные о совершенных звонках абонентами. Нули в duration это пропущенные звонки. Дата в формате строки."
   ]
  },
  {
   "cell_type": "code",
   "execution_count": 5,
   "metadata": {},
   "outputs": [],
   "source": [
    "#преобразуем в формат дата\n",
    "calls['call_date']= pd.to_datetime(calls['call_date'], format='%Y-%m-%d')"
   ]
  },
  {
   "cell_type": "code",
   "execution_count": 6,
   "metadata": {},
   "outputs": [],
   "source": [
    "#создадим столбец с указанием месяца звонка\n",
    "calls['month'] = pd.DatetimeIndex(calls['call_date']).month\n"
   ]
  },
  {
   "cell_type": "code",
   "execution_count": 7,
   "metadata": {},
   "outputs": [
    {
     "data": {
      "text/plain": [
       "Int64Index([2018], dtype='int64', name='call_date')"
      ]
     },
     "execution_count": 7,
     "metadata": {},
     "output_type": "execute_result"
    }
   ],
   "source": [
    "#проверили, что данные только за 2018 год\n",
    "pd.DatetimeIndex(calls['call_date']).year.unique()"
   ]
  },
  {
   "cell_type": "code",
   "execution_count": 8,
   "metadata": {},
   "outputs": [],
   "source": [
    "#согласно тарифам округлим секунды до минут, чтобы нули (пропущенные звонки) остались нулями.\n",
    "calls['duration']= np.ceil(calls['duration']).astype('int')"
   ]
  },
  {
   "cell_type": "code",
   "execution_count": 9,
   "metadata": {},
   "outputs": [
    {
     "data": {
      "text/html": [
       "<div>\n",
       "<style scoped>\n",
       "    .dataframe tbody tr th:only-of-type {\n",
       "        vertical-align: middle;\n",
       "    }\n",
       "\n",
       "    .dataframe tbody tr th {\n",
       "        vertical-align: top;\n",
       "    }\n",
       "\n",
       "    .dataframe thead th {\n",
       "        text-align: right;\n",
       "    }\n",
       "</style>\n",
       "<table border=\"1\" class=\"dataframe\">\n",
       "  <thead>\n",
       "    <tr style=\"text-align: right;\">\n",
       "      <th></th>\n",
       "      <th>id</th>\n",
       "      <th>call_date</th>\n",
       "      <th>duration</th>\n",
       "      <th>user_id</th>\n",
       "      <th>month</th>\n",
       "    </tr>\n",
       "  </thead>\n",
       "  <tbody>\n",
       "    <tr>\n",
       "      <th>0</th>\n",
       "      <td>1000_0</td>\n",
       "      <td>2018-07-25</td>\n",
       "      <td>0</td>\n",
       "      <td>1000</td>\n",
       "      <td>7</td>\n",
       "    </tr>\n",
       "    <tr>\n",
       "      <th>1</th>\n",
       "      <td>1000_1</td>\n",
       "      <td>2018-08-17</td>\n",
       "      <td>0</td>\n",
       "      <td>1000</td>\n",
       "      <td>8</td>\n",
       "    </tr>\n",
       "    <tr>\n",
       "      <th>2</th>\n",
       "      <td>1000_2</td>\n",
       "      <td>2018-06-11</td>\n",
       "      <td>3</td>\n",
       "      <td>1000</td>\n",
       "      <td>6</td>\n",
       "    </tr>\n",
       "    <tr>\n",
       "      <th>3</th>\n",
       "      <td>1000_3</td>\n",
       "      <td>2018-09-21</td>\n",
       "      <td>14</td>\n",
       "      <td>1000</td>\n",
       "      <td>9</td>\n",
       "    </tr>\n",
       "    <tr>\n",
       "      <th>4</th>\n",
       "      <td>1000_4</td>\n",
       "      <td>2018-12-15</td>\n",
       "      <td>6</td>\n",
       "      <td>1000</td>\n",
       "      <td>12</td>\n",
       "    </tr>\n",
       "  </tbody>\n",
       "</table>\n",
       "</div>"
      ],
      "text/plain": [
       "       id  call_date  duration  user_id  month\n",
       "0  1000_0 2018-07-25         0     1000      7\n",
       "1  1000_1 2018-08-17         0     1000      8\n",
       "2  1000_2 2018-06-11         3     1000      6\n",
       "3  1000_3 2018-09-21        14     1000      9\n",
       "4  1000_4 2018-12-15         6     1000     12"
      ]
     },
     "execution_count": 9,
     "metadata": {},
     "output_type": "execute_result"
    }
   ],
   "source": [
    "calls.head()"
   ]
  },
  {
   "cell_type": "code",
   "execution_count": 10,
   "metadata": {},
   "outputs": [],
   "source": [
    "#сгруппируем данные по user_id и month для дальнейшего объединения данных \n",
    "calls = calls.groupby(['user_id', 'month']).agg({'duration': ['count','sum']}).reset_index()"
   ]
  },
  {
   "cell_type": "code",
   "execution_count": 11,
   "metadata": {},
   "outputs": [],
   "source": [
    "calls.columns = ['user_id', 'month', 'calls_count', 'calls_minutes'] "
   ]
  },
  {
   "cell_type": "code",
   "execution_count": 12,
   "metadata": {},
   "outputs": [
    {
     "data": {
      "text/html": [
       "<div>\n",
       "<style scoped>\n",
       "    .dataframe tbody tr th:only-of-type {\n",
       "        vertical-align: middle;\n",
       "    }\n",
       "\n",
       "    .dataframe tbody tr th {\n",
       "        vertical-align: top;\n",
       "    }\n",
       "\n",
       "    .dataframe thead th {\n",
       "        text-align: right;\n",
       "    }\n",
       "</style>\n",
       "<table border=\"1\" class=\"dataframe\">\n",
       "  <thead>\n",
       "    <tr style=\"text-align: right;\">\n",
       "      <th></th>\n",
       "      <th>user_id</th>\n",
       "      <th>month</th>\n",
       "      <th>calls_count</th>\n",
       "      <th>calls_minutes</th>\n",
       "    </tr>\n",
       "  </thead>\n",
       "  <tbody>\n",
       "    <tr>\n",
       "      <th>0</th>\n",
       "      <td>1000</td>\n",
       "      <td>5</td>\n",
       "      <td>22</td>\n",
       "      <td>159</td>\n",
       "    </tr>\n",
       "    <tr>\n",
       "      <th>1</th>\n",
       "      <td>1000</td>\n",
       "      <td>6</td>\n",
       "      <td>43</td>\n",
       "      <td>172</td>\n",
       "    </tr>\n",
       "    <tr>\n",
       "      <th>2</th>\n",
       "      <td>1000</td>\n",
       "      <td>7</td>\n",
       "      <td>47</td>\n",
       "      <td>340</td>\n",
       "    </tr>\n",
       "    <tr>\n",
       "      <th>3</th>\n",
       "      <td>1000</td>\n",
       "      <td>8</td>\n",
       "      <td>52</td>\n",
       "      <td>408</td>\n",
       "    </tr>\n",
       "    <tr>\n",
       "      <th>4</th>\n",
       "      <td>1000</td>\n",
       "      <td>9</td>\n",
       "      <td>58</td>\n",
       "      <td>466</td>\n",
       "    </tr>\n",
       "  </tbody>\n",
       "</table>\n",
       "</div>"
      ],
      "text/plain": [
       "   user_id  month  calls_count  calls_minutes\n",
       "0     1000      5           22            159\n",
       "1     1000      6           43            172\n",
       "2     1000      7           47            340\n",
       "3     1000      8           52            408\n",
       "4     1000      9           58            466"
      ]
     },
     "execution_count": 12,
     "metadata": {},
     "output_type": "execute_result"
    }
   ],
   "source": [
    "calls.head() #датасет после преобразований"
   ]
  },
  {
   "cell_type": "markdown",
   "metadata": {},
   "source": [
    "### Internet"
   ]
  },
  {
   "cell_type": "code",
   "execution_count": 13,
   "metadata": {},
   "outputs": [
    {
     "data": {
      "text/html": [
       "<div>\n",
       "<style scoped>\n",
       "    .dataframe tbody tr th:only-of-type {\n",
       "        vertical-align: middle;\n",
       "    }\n",
       "\n",
       "    .dataframe tbody tr th {\n",
       "        vertical-align: top;\n",
       "    }\n",
       "\n",
       "    .dataframe thead th {\n",
       "        text-align: right;\n",
       "    }\n",
       "</style>\n",
       "<table border=\"1\" class=\"dataframe\">\n",
       "  <thead>\n",
       "    <tr style=\"text-align: right;\">\n",
       "      <th></th>\n",
       "      <th>id</th>\n",
       "      <th>mb_used</th>\n",
       "      <th>session_date</th>\n",
       "      <th>user_id</th>\n",
       "    </tr>\n",
       "  </thead>\n",
       "  <tbody>\n",
       "    <tr>\n",
       "      <th>0</th>\n",
       "      <td>1000_0</td>\n",
       "      <td>112.95</td>\n",
       "      <td>2018-11-25</td>\n",
       "      <td>1000</td>\n",
       "    </tr>\n",
       "    <tr>\n",
       "      <th>1</th>\n",
       "      <td>1000_1</td>\n",
       "      <td>1,052.81</td>\n",
       "      <td>2018-09-07</td>\n",
       "      <td>1000</td>\n",
       "    </tr>\n",
       "    <tr>\n",
       "      <th>2</th>\n",
       "      <td>1000_2</td>\n",
       "      <td>1,197.26</td>\n",
       "      <td>2018-06-25</td>\n",
       "      <td>1000</td>\n",
       "    </tr>\n",
       "    <tr>\n",
       "      <th>3</th>\n",
       "      <td>1000_3</td>\n",
       "      <td>550.27</td>\n",
       "      <td>2018-08-22</td>\n",
       "      <td>1000</td>\n",
       "    </tr>\n",
       "    <tr>\n",
       "      <th>4</th>\n",
       "      <td>1000_4</td>\n",
       "      <td>302.56</td>\n",
       "      <td>2018-09-24</td>\n",
       "      <td>1000</td>\n",
       "    </tr>\n",
       "  </tbody>\n",
       "</table>\n",
       "</div>"
      ],
      "text/plain": [
       "       id  mb_used session_date  user_id\n",
       "0  1000_0   112.95   2018-11-25     1000\n",
       "1  1000_1 1,052.81   2018-09-07     1000\n",
       "2  1000_2 1,197.26   2018-06-25     1000\n",
       "3  1000_3   550.27   2018-08-22     1000\n",
       "4  1000_4   302.56   2018-09-24     1000"
      ]
     },
     "execution_count": 13,
     "metadata": {},
     "output_type": "execute_result"
    }
   ],
   "source": [
    "internet.head()"
   ]
  },
  {
   "cell_type": "code",
   "execution_count": 14,
   "metadata": {},
   "outputs": [
    {
     "name": "stdout",
     "output_type": "stream",
     "text": [
      "<class 'pandas.core.frame.DataFrame'>\n",
      "Int64Index: 149396 entries, 0 to 149395\n",
      "Data columns (total 4 columns):\n",
      " #   Column        Non-Null Count   Dtype  \n",
      "---  ------        --------------   -----  \n",
      " 0   id            149396 non-null  object \n",
      " 1   mb_used       149396 non-null  float64\n",
      " 2   session_date  149396 non-null  object \n",
      " 3   user_id       149396 non-null  int64  \n",
      "dtypes: float64(1), int64(1), object(2)\n",
      "memory usage: 5.7+ MB\n"
     ]
    }
   ],
   "source": [
    "internet.info()"
   ]
  },
  {
   "cell_type": "markdown",
   "metadata": {},
   "source": [
    "В файле 149_396 строк, нет пропусков. Здесь содержатся данные об интернет-сессиях абонентов."
   ]
  },
  {
   "cell_type": "code",
   "execution_count": 15,
   "metadata": {},
   "outputs": [],
   "source": [
    "#преобразуем в формат дата\n",
    "internet['session_date']= pd.to_datetime(internet['session_date'], format='%Y-%m-%d')"
   ]
  },
  {
   "cell_type": "code",
   "execution_count": 16,
   "metadata": {},
   "outputs": [],
   "source": [
    "#создадим столбец с указанием месяца сессии\n",
    "internet['month'] = pd.DatetimeIndex(internet['session_date']).month"
   ]
  },
  {
   "cell_type": "code",
   "execution_count": 17,
   "metadata": {},
   "outputs": [],
   "source": [
    "#сгруппируем данные по user_id и month для дальнейшего объединения данных \n",
    "internet = internet.groupby(['user_id', 'month']).agg({'mb_used': 'sum'}).reset_index()"
   ]
  },
  {
   "cell_type": "code",
   "execution_count": 18,
   "metadata": {},
   "outputs": [],
   "source": [
    "#переведем мегабайты в гигабайты и округлим до целого, согласно тарифным планам\n",
    "internet['gb_used']=(internet['mb_used']/1024).apply(np.ceil).astype(int)"
   ]
  },
  {
   "cell_type": "code",
   "execution_count": 19,
   "metadata": {},
   "outputs": [
    {
     "data": {
      "text/html": [
       "<div>\n",
       "<style scoped>\n",
       "    .dataframe tbody tr th:only-of-type {\n",
       "        vertical-align: middle;\n",
       "    }\n",
       "\n",
       "    .dataframe tbody tr th {\n",
       "        vertical-align: top;\n",
       "    }\n",
       "\n",
       "    .dataframe thead th {\n",
       "        text-align: right;\n",
       "    }\n",
       "</style>\n",
       "<table border=\"1\" class=\"dataframe\">\n",
       "  <thead>\n",
       "    <tr style=\"text-align: right;\">\n",
       "      <th></th>\n",
       "      <th>user_id</th>\n",
       "      <th>month</th>\n",
       "      <th>mb_used</th>\n",
       "      <th>gb_used</th>\n",
       "    </tr>\n",
       "  </thead>\n",
       "  <tbody>\n",
       "    <tr>\n",
       "      <th>0</th>\n",
       "      <td>1000</td>\n",
       "      <td>5</td>\n",
       "      <td>2,253.49</td>\n",
       "      <td>3</td>\n",
       "    </tr>\n",
       "    <tr>\n",
       "      <th>1</th>\n",
       "      <td>1000</td>\n",
       "      <td>6</td>\n",
       "      <td>23,233.77</td>\n",
       "      <td>23</td>\n",
       "    </tr>\n",
       "    <tr>\n",
       "      <th>2</th>\n",
       "      <td>1000</td>\n",
       "      <td>7</td>\n",
       "      <td>14,003.64</td>\n",
       "      <td>14</td>\n",
       "    </tr>\n",
       "    <tr>\n",
       "      <th>3</th>\n",
       "      <td>1000</td>\n",
       "      <td>8</td>\n",
       "      <td>14,055.93</td>\n",
       "      <td>14</td>\n",
       "    </tr>\n",
       "    <tr>\n",
       "      <th>4</th>\n",
       "      <td>1000</td>\n",
       "      <td>9</td>\n",
       "      <td>14,568.91</td>\n",
       "      <td>15</td>\n",
       "    </tr>\n",
       "  </tbody>\n",
       "</table>\n",
       "</div>"
      ],
      "text/plain": [
       "   user_id  month   mb_used  gb_used\n",
       "0     1000      5  2,253.49        3\n",
       "1     1000      6 23,233.77       23\n",
       "2     1000      7 14,003.64       14\n",
       "3     1000      8 14,055.93       14\n",
       "4     1000      9 14,568.91       15"
      ]
     },
     "execution_count": 19,
     "metadata": {},
     "output_type": "execute_result"
    }
   ],
   "source": [
    "internet.head() #датасет после преобразований"
   ]
  },
  {
   "cell_type": "markdown",
   "metadata": {},
   "source": [
    "### Messages"
   ]
  },
  {
   "cell_type": "code",
   "execution_count": 20,
   "metadata": {},
   "outputs": [
    {
     "data": {
      "text/html": [
       "<div>\n",
       "<style scoped>\n",
       "    .dataframe tbody tr th:only-of-type {\n",
       "        vertical-align: middle;\n",
       "    }\n",
       "\n",
       "    .dataframe tbody tr th {\n",
       "        vertical-align: top;\n",
       "    }\n",
       "\n",
       "    .dataframe thead th {\n",
       "        text-align: right;\n",
       "    }\n",
       "</style>\n",
       "<table border=\"1\" class=\"dataframe\">\n",
       "  <thead>\n",
       "    <tr style=\"text-align: right;\">\n",
       "      <th></th>\n",
       "      <th>id</th>\n",
       "      <th>message_date</th>\n",
       "      <th>user_id</th>\n",
       "    </tr>\n",
       "  </thead>\n",
       "  <tbody>\n",
       "    <tr>\n",
       "      <th>0</th>\n",
       "      <td>1000_0</td>\n",
       "      <td>2018-06-27</td>\n",
       "      <td>1000</td>\n",
       "    </tr>\n",
       "    <tr>\n",
       "      <th>1</th>\n",
       "      <td>1000_1</td>\n",
       "      <td>2018-10-08</td>\n",
       "      <td>1000</td>\n",
       "    </tr>\n",
       "    <tr>\n",
       "      <th>2</th>\n",
       "      <td>1000_2</td>\n",
       "      <td>2018-08-04</td>\n",
       "      <td>1000</td>\n",
       "    </tr>\n",
       "    <tr>\n",
       "      <th>3</th>\n",
       "      <td>1000_3</td>\n",
       "      <td>2018-06-16</td>\n",
       "      <td>1000</td>\n",
       "    </tr>\n",
       "    <tr>\n",
       "      <th>4</th>\n",
       "      <td>1000_4</td>\n",
       "      <td>2018-12-05</td>\n",
       "      <td>1000</td>\n",
       "    </tr>\n",
       "  </tbody>\n",
       "</table>\n",
       "</div>"
      ],
      "text/plain": [
       "       id message_date  user_id\n",
       "0  1000_0   2018-06-27     1000\n",
       "1  1000_1   2018-10-08     1000\n",
       "2  1000_2   2018-08-04     1000\n",
       "3  1000_3   2018-06-16     1000\n",
       "4  1000_4   2018-12-05     1000"
      ]
     },
     "execution_count": 20,
     "metadata": {},
     "output_type": "execute_result"
    }
   ],
   "source": [
    "messages.head()"
   ]
  },
  {
   "cell_type": "code",
   "execution_count": 21,
   "metadata": {},
   "outputs": [
    {
     "name": "stdout",
     "output_type": "stream",
     "text": [
      "<class 'pandas.core.frame.DataFrame'>\n",
      "RangeIndex: 123036 entries, 0 to 123035\n",
      "Data columns (total 3 columns):\n",
      " #   Column        Non-Null Count   Dtype \n",
      "---  ------        --------------   ----- \n",
      " 0   id            123036 non-null  object\n",
      " 1   message_date  123036 non-null  object\n",
      " 2   user_id       123036 non-null  int64 \n",
      "dtypes: int64(1), object(2)\n",
      "memory usage: 2.8+ MB\n"
     ]
    }
   ],
   "source": [
    "messages.info()"
   ]
  },
  {
   "cell_type": "markdown",
   "metadata": {},
   "source": [
    "В файле 123_036 строк, нет пропусков. Дата в формате строки. Здесь содержатся данные о текстовых сообщениях, отправленных абонентами."
   ]
  },
  {
   "cell_type": "code",
   "execution_count": 22,
   "metadata": {},
   "outputs": [],
   "source": [
    "#преобразуем в формат дата\n",
    "messages['message_date']= pd.to_datetime(messages['message_date'], format='%Y-%m-%d')"
   ]
  },
  {
   "cell_type": "code",
   "execution_count": 23,
   "metadata": {},
   "outputs": [],
   "source": [
    "#создадим столбец с указанием месяца \n",
    "messages['month'] = pd.DatetimeIndex(messages['message_date']).month"
   ]
  },
  {
   "cell_type": "code",
   "execution_count": 24,
   "metadata": {},
   "outputs": [],
   "source": [
    "#сгруппируем данные по user_id и month для дальнейшего объединения данных \n",
    "messages = messages.groupby(['user_id', 'month']).agg({'id': 'count'}).reset_index()"
   ]
  },
  {
   "cell_type": "code",
   "execution_count": 25,
   "metadata": {},
   "outputs": [],
   "source": [
    "messages.rename(columns={'id': 'messages_count'}, inplace=True)"
   ]
  },
  {
   "cell_type": "code",
   "execution_count": 26,
   "metadata": {},
   "outputs": [
    {
     "data": {
      "text/html": [
       "<div>\n",
       "<style scoped>\n",
       "    .dataframe tbody tr th:only-of-type {\n",
       "        vertical-align: middle;\n",
       "    }\n",
       "\n",
       "    .dataframe tbody tr th {\n",
       "        vertical-align: top;\n",
       "    }\n",
       "\n",
       "    .dataframe thead th {\n",
       "        text-align: right;\n",
       "    }\n",
       "</style>\n",
       "<table border=\"1\" class=\"dataframe\">\n",
       "  <thead>\n",
       "    <tr style=\"text-align: right;\">\n",
       "      <th></th>\n",
       "      <th>user_id</th>\n",
       "      <th>month</th>\n",
       "      <th>messages_count</th>\n",
       "    </tr>\n",
       "  </thead>\n",
       "  <tbody>\n",
       "    <tr>\n",
       "      <th>0</th>\n",
       "      <td>1000</td>\n",
       "      <td>5</td>\n",
       "      <td>22</td>\n",
       "    </tr>\n",
       "    <tr>\n",
       "      <th>1</th>\n",
       "      <td>1000</td>\n",
       "      <td>6</td>\n",
       "      <td>60</td>\n",
       "    </tr>\n",
       "    <tr>\n",
       "      <th>2</th>\n",
       "      <td>1000</td>\n",
       "      <td>7</td>\n",
       "      <td>75</td>\n",
       "    </tr>\n",
       "    <tr>\n",
       "      <th>3</th>\n",
       "      <td>1000</td>\n",
       "      <td>8</td>\n",
       "      <td>81</td>\n",
       "    </tr>\n",
       "    <tr>\n",
       "      <th>4</th>\n",
       "      <td>1000</td>\n",
       "      <td>9</td>\n",
       "      <td>57</td>\n",
       "    </tr>\n",
       "  </tbody>\n",
       "</table>\n",
       "</div>"
      ],
      "text/plain": [
       "   user_id  month  messages_count\n",
       "0     1000      5              22\n",
       "1     1000      6              60\n",
       "2     1000      7              75\n",
       "3     1000      8              81\n",
       "4     1000      9              57"
      ]
     },
     "execution_count": 26,
     "metadata": {},
     "output_type": "execute_result"
    }
   ],
   "source": [
    "messages.head() #датасет после преобразований"
   ]
  },
  {
   "cell_type": "markdown",
   "metadata": {},
   "source": [
    "### Tariffs"
   ]
  },
  {
   "cell_type": "code",
   "execution_count": 27,
   "metadata": {},
   "outputs": [
    {
     "data": {
      "text/html": [
       "<div>\n",
       "<style scoped>\n",
       "    .dataframe tbody tr th:only-of-type {\n",
       "        vertical-align: middle;\n",
       "    }\n",
       "\n",
       "    .dataframe tbody tr th {\n",
       "        vertical-align: top;\n",
       "    }\n",
       "\n",
       "    .dataframe thead th {\n",
       "        text-align: right;\n",
       "    }\n",
       "</style>\n",
       "<table border=\"1\" class=\"dataframe\">\n",
       "  <thead>\n",
       "    <tr style=\"text-align: right;\">\n",
       "      <th></th>\n",
       "      <th>messages_included</th>\n",
       "      <th>mb_per_month_included</th>\n",
       "      <th>minutes_included</th>\n",
       "      <th>rub_monthly_fee</th>\n",
       "      <th>rub_per_gb</th>\n",
       "      <th>rub_per_message</th>\n",
       "      <th>rub_per_minute</th>\n",
       "      <th>tariff_name</th>\n",
       "    </tr>\n",
       "  </thead>\n",
       "  <tbody>\n",
       "    <tr>\n",
       "      <th>0</th>\n",
       "      <td>50</td>\n",
       "      <td>15360</td>\n",
       "      <td>500</td>\n",
       "      <td>550</td>\n",
       "      <td>200</td>\n",
       "      <td>3</td>\n",
       "      <td>3</td>\n",
       "      <td>smart</td>\n",
       "    </tr>\n",
       "    <tr>\n",
       "      <th>1</th>\n",
       "      <td>1000</td>\n",
       "      <td>30720</td>\n",
       "      <td>3000</td>\n",
       "      <td>1950</td>\n",
       "      <td>150</td>\n",
       "      <td>1</td>\n",
       "      <td>1</td>\n",
       "      <td>ultra</td>\n",
       "    </tr>\n",
       "  </tbody>\n",
       "</table>\n",
       "</div>"
      ],
      "text/plain": [
       "   messages_included  mb_per_month_included  minutes_included  \\\n",
       "0                 50                  15360               500   \n",
       "1               1000                  30720              3000   \n",
       "\n",
       "   rub_monthly_fee  rub_per_gb  rub_per_message  rub_per_minute tariff_name  \n",
       "0              550         200                3               3       smart  \n",
       "1             1950         150                1               1       ultra  "
      ]
     },
     "execution_count": 27,
     "metadata": {},
     "output_type": "execute_result"
    }
   ],
   "source": [
    "tariffs"
   ]
  },
  {
   "cell_type": "code",
   "execution_count": 28,
   "metadata": {},
   "outputs": [
    {
     "name": "stdout",
     "output_type": "stream",
     "text": [
      "<class 'pandas.core.frame.DataFrame'>\n",
      "RangeIndex: 2 entries, 0 to 1\n",
      "Data columns (total 8 columns):\n",
      " #   Column                 Non-Null Count  Dtype \n",
      "---  ------                 --------------  ----- \n",
      " 0   messages_included      2 non-null      int64 \n",
      " 1   mb_per_month_included  2 non-null      int64 \n",
      " 2   minutes_included       2 non-null      int64 \n",
      " 3   rub_monthly_fee        2 non-null      int64 \n",
      " 4   rub_per_gb             2 non-null      int64 \n",
      " 5   rub_per_message        2 non-null      int64 \n",
      " 6   rub_per_minute         2 non-null      int64 \n",
      " 7   tariff_name            2 non-null      object\n",
      "dtypes: int64(7), object(1)\n",
      "memory usage: 256.0+ bytes\n"
     ]
    }
   ],
   "source": [
    "tariffs.info()"
   ]
  },
  {
   "cell_type": "markdown",
   "metadata": {},
   "source": [
    "Здесь содержатся все необходимые данные для расчета абонентской платы по двум тарифам."
   ]
  },
  {
   "cell_type": "code",
   "execution_count": 29,
   "metadata": {},
   "outputs": [],
   "source": [
    "# переводим мб в гб\n",
    "tariffs['gb_per_month_included']=tariffs['mb_per_month_included']/1024"
   ]
  },
  {
   "cell_type": "code",
   "execution_count": 30,
   "metadata": {},
   "outputs": [],
   "source": [
    "# переимнуем столбец, для объединения\n",
    "#tariffs.rename(columns={'tariff_name': 'tariff'}, inplace=True)"
   ]
  },
  {
   "cell_type": "code",
   "execution_count": 31,
   "metadata": {},
   "outputs": [],
   "source": [
    "#избавляемся от ненужного столбца\n",
    "tariffs = tariffs.drop('mb_per_month_included', axis=1)"
   ]
  },
  {
   "cell_type": "code",
   "execution_count": 32,
   "metadata": {},
   "outputs": [
    {
     "data": {
      "text/html": [
       "<div>\n",
       "<style scoped>\n",
       "    .dataframe tbody tr th:only-of-type {\n",
       "        vertical-align: middle;\n",
       "    }\n",
       "\n",
       "    .dataframe tbody tr th {\n",
       "        vertical-align: top;\n",
       "    }\n",
       "\n",
       "    .dataframe thead th {\n",
       "        text-align: right;\n",
       "    }\n",
       "</style>\n",
       "<table border=\"1\" class=\"dataframe\">\n",
       "  <thead>\n",
       "    <tr style=\"text-align: right;\">\n",
       "      <th></th>\n",
       "      <th>messages_included</th>\n",
       "      <th>minutes_included</th>\n",
       "      <th>rub_monthly_fee</th>\n",
       "      <th>rub_per_gb</th>\n",
       "      <th>rub_per_message</th>\n",
       "      <th>rub_per_minute</th>\n",
       "      <th>tariff_name</th>\n",
       "      <th>gb_per_month_included</th>\n",
       "    </tr>\n",
       "  </thead>\n",
       "  <tbody>\n",
       "    <tr>\n",
       "      <th>0</th>\n",
       "      <td>50</td>\n",
       "      <td>500</td>\n",
       "      <td>550</td>\n",
       "      <td>200</td>\n",
       "      <td>3</td>\n",
       "      <td>3</td>\n",
       "      <td>smart</td>\n",
       "      <td>15.00</td>\n",
       "    </tr>\n",
       "    <tr>\n",
       "      <th>1</th>\n",
       "      <td>1000</td>\n",
       "      <td>3000</td>\n",
       "      <td>1950</td>\n",
       "      <td>150</td>\n",
       "      <td>1</td>\n",
       "      <td>1</td>\n",
       "      <td>ultra</td>\n",
       "      <td>30.00</td>\n",
       "    </tr>\n",
       "  </tbody>\n",
       "</table>\n",
       "</div>"
      ],
      "text/plain": [
       "   messages_included  minutes_included  rub_monthly_fee  rub_per_gb  \\\n",
       "0                 50               500              550         200   \n",
       "1               1000              3000             1950         150   \n",
       "\n",
       "   rub_per_message  rub_per_minute tariff_name  gb_per_month_included  \n",
       "0                3               3       smart                  15.00  \n",
       "1                1               1       ultra                  30.00  "
      ]
     },
     "execution_count": 32,
     "metadata": {},
     "output_type": "execute_result"
    }
   ],
   "source": [
    "tariffs #датасет после преобразований"
   ]
  },
  {
   "cell_type": "markdown",
   "metadata": {},
   "source": [
    "### Users"
   ]
  },
  {
   "cell_type": "code",
   "execution_count": 33,
   "metadata": {},
   "outputs": [
    {
     "data": {
      "text/html": [
       "<div>\n",
       "<style scoped>\n",
       "    .dataframe tbody tr th:only-of-type {\n",
       "        vertical-align: middle;\n",
       "    }\n",
       "\n",
       "    .dataframe tbody tr th {\n",
       "        vertical-align: top;\n",
       "    }\n",
       "\n",
       "    .dataframe thead th {\n",
       "        text-align: right;\n",
       "    }\n",
       "</style>\n",
       "<table border=\"1\" class=\"dataframe\">\n",
       "  <thead>\n",
       "    <tr style=\"text-align: right;\">\n",
       "      <th></th>\n",
       "      <th>user_id</th>\n",
       "      <th>age</th>\n",
       "      <th>churn_date</th>\n",
       "      <th>city</th>\n",
       "      <th>first_name</th>\n",
       "      <th>last_name</th>\n",
       "      <th>reg_date</th>\n",
       "      <th>tariff</th>\n",
       "    </tr>\n",
       "  </thead>\n",
       "  <tbody>\n",
       "    <tr>\n",
       "      <th>0</th>\n",
       "      <td>1000</td>\n",
       "      <td>52</td>\n",
       "      <td>NaN</td>\n",
       "      <td>Краснодар</td>\n",
       "      <td>Рафаил</td>\n",
       "      <td>Верещагин</td>\n",
       "      <td>2018-05-25</td>\n",
       "      <td>ultra</td>\n",
       "    </tr>\n",
       "    <tr>\n",
       "      <th>1</th>\n",
       "      <td>1001</td>\n",
       "      <td>41</td>\n",
       "      <td>NaN</td>\n",
       "      <td>Москва</td>\n",
       "      <td>Иван</td>\n",
       "      <td>Ежов</td>\n",
       "      <td>2018-11-01</td>\n",
       "      <td>smart</td>\n",
       "    </tr>\n",
       "    <tr>\n",
       "      <th>2</th>\n",
       "      <td>1002</td>\n",
       "      <td>59</td>\n",
       "      <td>NaN</td>\n",
       "      <td>Стерлитамак</td>\n",
       "      <td>Евгений</td>\n",
       "      <td>Абрамович</td>\n",
       "      <td>2018-06-17</td>\n",
       "      <td>smart</td>\n",
       "    </tr>\n",
       "    <tr>\n",
       "      <th>3</th>\n",
       "      <td>1003</td>\n",
       "      <td>23</td>\n",
       "      <td>NaN</td>\n",
       "      <td>Москва</td>\n",
       "      <td>Белла</td>\n",
       "      <td>Белякова</td>\n",
       "      <td>2018-08-17</td>\n",
       "      <td>ultra</td>\n",
       "    </tr>\n",
       "    <tr>\n",
       "      <th>4</th>\n",
       "      <td>1004</td>\n",
       "      <td>68</td>\n",
       "      <td>NaN</td>\n",
       "      <td>Новокузнецк</td>\n",
       "      <td>Татьяна</td>\n",
       "      <td>Авдеенко</td>\n",
       "      <td>2018-05-14</td>\n",
       "      <td>ultra</td>\n",
       "    </tr>\n",
       "  </tbody>\n",
       "</table>\n",
       "</div>"
      ],
      "text/plain": [
       "   user_id  age churn_date         city first_name  last_name    reg_date  \\\n",
       "0     1000   52        NaN    Краснодар     Рафаил  Верещагин  2018-05-25   \n",
       "1     1001   41        NaN       Москва       Иван       Ежов  2018-11-01   \n",
       "2     1002   59        NaN  Стерлитамак    Евгений  Абрамович  2018-06-17   \n",
       "3     1003   23        NaN       Москва      Белла   Белякова  2018-08-17   \n",
       "4     1004   68        NaN  Новокузнецк    Татьяна   Авдеенко  2018-05-14   \n",
       "\n",
       "  tariff  \n",
       "0  ultra  \n",
       "1  smart  \n",
       "2  smart  \n",
       "3  ultra  \n",
       "4  ultra  "
      ]
     },
     "execution_count": 33,
     "metadata": {},
     "output_type": "execute_result"
    }
   ],
   "source": [
    "users.head()"
   ]
  },
  {
   "cell_type": "code",
   "execution_count": 34,
   "metadata": {},
   "outputs": [
    {
     "name": "stdout",
     "output_type": "stream",
     "text": [
      "<class 'pandas.core.frame.DataFrame'>\n",
      "RangeIndex: 500 entries, 0 to 499\n",
      "Data columns (total 8 columns):\n",
      " #   Column      Non-Null Count  Dtype \n",
      "---  ------      --------------  ----- \n",
      " 0   user_id     500 non-null    int64 \n",
      " 1   age         500 non-null    int64 \n",
      " 2   churn_date  38 non-null     object\n",
      " 3   city        500 non-null    object\n",
      " 4   first_name  500 non-null    object\n",
      " 5   last_name   500 non-null    object\n",
      " 6   reg_date    500 non-null    object\n",
      " 7   tariff      500 non-null    object\n",
      "dtypes: int64(2), object(6)\n",
      "memory usage: 31.4+ KB\n"
     ]
    }
   ],
   "source": [
    "users.info()"
   ]
  },
  {
   "cell_type": "markdown",
   "metadata": {},
   "source": [
    "В этом датасете содержатся данные об абоентах. Абонентов, пользующихся smart больше более чем в два раза в этой выборке."
   ]
  },
  {
   "cell_type": "code",
   "execution_count": 35,
   "metadata": {},
   "outputs": [
    {
     "data": {
      "text/plain": [
       "500"
      ]
     },
     "execution_count": 35,
     "metadata": {},
     "output_type": "execute_result"
    }
   ],
   "source": [
    "users['user_id'].nunique()"
   ]
  },
  {
   "cell_type": "markdown",
   "metadata": {},
   "source": [
    "Все user_id уникальны, дубликатов нет. Нет абонентов, пользовавшихся обоими тарифами. Нет пропусков в столбце city."
   ]
  },
  {
   "cell_type": "code",
   "execution_count": 36,
   "metadata": {},
   "outputs": [
    {
     "data": {
      "text/html": [
       "<div>\n",
       "<style scoped>\n",
       "    .dataframe tbody tr th:only-of-type {\n",
       "        vertical-align: middle;\n",
       "    }\n",
       "\n",
       "    .dataframe tbody tr th {\n",
       "        vertical-align: top;\n",
       "    }\n",
       "\n",
       "    .dataframe thead th {\n",
       "        text-align: right;\n",
       "    }\n",
       "</style>\n",
       "<table border=\"1\" class=\"dataframe\">\n",
       "  <thead>\n",
       "    <tr style=\"text-align: right;\">\n",
       "      <th></th>\n",
       "      <th>tariff</th>\n",
       "      <th>user_id</th>\n",
       "    </tr>\n",
       "  </thead>\n",
       "  <tbody>\n",
       "    <tr>\n",
       "      <th>0</th>\n",
       "      <td>smart</td>\n",
       "      <td>23</td>\n",
       "    </tr>\n",
       "    <tr>\n",
       "      <th>1</th>\n",
       "      <td>ultra</td>\n",
       "      <td>15</td>\n",
       "    </tr>\n",
       "  </tbody>\n",
       "</table>\n",
       "</div>"
      ],
      "text/plain": [
       "  tariff  user_id\n",
       "0  smart       23\n",
       "1  ultra       15"
      ]
     },
     "execution_count": 36,
     "metadata": {},
     "output_type": "execute_result"
    }
   ],
   "source": [
    "users[~users['churn_date'].isna()].groupby(['tariff']).agg({'user_id': 'count'}).reset_index()"
   ]
  },
  {
   "cell_type": "markdown",
   "metadata": {},
   "source": [
    "Соотношения по прекратившим пользоваться тарифами, примерно такое же как и в целом по абонентам. В последующем этот столбец использовать не будем."
   ]
  },
  {
   "cell_type": "markdown",
   "metadata": {},
   "source": [
    "###  Объединение данных"
   ]
  },
  {
   "cell_type": "code",
   "execution_count": 37,
   "metadata": {},
   "outputs": [],
   "source": [
    "report = calls.merge(internet, on = ['user_id', 'month'], how = 'outer')"
   ]
  },
  {
   "cell_type": "code",
   "execution_count": 38,
   "metadata": {},
   "outputs": [],
   "source": [
    "report = report.merge(messages, on = ['user_id', 'month'], how = 'outer')"
   ]
  },
  {
   "cell_type": "code",
   "execution_count": 39,
   "metadata": {},
   "outputs": [],
   "source": [
    "report = report.merge(users, on = 'user_id', how= 'left')"
   ]
  },
  {
   "cell_type": "code",
   "execution_count": 40,
   "metadata": {},
   "outputs": [],
   "source": [
    "report = report.drop(['mb_used', 'age', 'churn_date', 'first_name', 'last_name', 'reg_date'], axis=1)"
   ]
  },
  {
   "cell_type": "code",
   "execution_count": 41,
   "metadata": {},
   "outputs": [],
   "source": [
    "report = report.merge(tariffs, left_on = 'tariff', right_on = 'tariff_name', how = 'left')"
   ]
  },
  {
   "cell_type": "code",
   "execution_count": 42,
   "metadata": {},
   "outputs": [],
   "source": [
    "# заменим Nan на нули. \n",
    "# Пропуски в объединенной таблице означают, что абонент не пользовался смс, звонками, тарфиком.\n",
    "report = report.fillna(0)"
   ]
  },
  {
   "cell_type": "code",
   "execution_count": 43,
   "metadata": {},
   "outputs": [],
   "source": [
    "# Заменим тип данных на целочисленный\n",
    "int_list = ['calls_count', 'calls_minutes', 'gb_used', 'messages_count']\n",
    "for item in int_list:\n",
    "    report[item] = report[item].astype('int')\n",
    "    "
   ]
  },
  {
   "cell_type": "code",
   "execution_count": 44,
   "metadata": {},
   "outputs": [
    {
     "data": {
      "text/html": [
       "<div>\n",
       "<style scoped>\n",
       "    .dataframe tbody tr th:only-of-type {\n",
       "        vertical-align: middle;\n",
       "    }\n",
       "\n",
       "    .dataframe tbody tr th {\n",
       "        vertical-align: top;\n",
       "    }\n",
       "\n",
       "    .dataframe thead th {\n",
       "        text-align: right;\n",
       "    }\n",
       "</style>\n",
       "<table border=\"1\" class=\"dataframe\">\n",
       "  <thead>\n",
       "    <tr style=\"text-align: right;\">\n",
       "      <th></th>\n",
       "      <th>user_id</th>\n",
       "      <th>month</th>\n",
       "      <th>calls_count</th>\n",
       "      <th>calls_minutes</th>\n",
       "      <th>gb_used</th>\n",
       "      <th>messages_count</th>\n",
       "      <th>city</th>\n",
       "      <th>tariff</th>\n",
       "      <th>messages_included</th>\n",
       "      <th>minutes_included</th>\n",
       "      <th>rub_monthly_fee</th>\n",
       "      <th>rub_per_gb</th>\n",
       "      <th>rub_per_message</th>\n",
       "      <th>rub_per_minute</th>\n",
       "      <th>tariff_name</th>\n",
       "      <th>gb_per_month_included</th>\n",
       "    </tr>\n",
       "  </thead>\n",
       "  <tbody>\n",
       "    <tr>\n",
       "      <th>0</th>\n",
       "      <td>1000</td>\n",
       "      <td>5</td>\n",
       "      <td>22</td>\n",
       "      <td>159</td>\n",
       "      <td>3</td>\n",
       "      <td>22</td>\n",
       "      <td>Краснодар</td>\n",
       "      <td>ultra</td>\n",
       "      <td>1000</td>\n",
       "      <td>3000</td>\n",
       "      <td>1950</td>\n",
       "      <td>150</td>\n",
       "      <td>1</td>\n",
       "      <td>1</td>\n",
       "      <td>ultra</td>\n",
       "      <td>30.00</td>\n",
       "    </tr>\n",
       "    <tr>\n",
       "      <th>1</th>\n",
       "      <td>1000</td>\n",
       "      <td>6</td>\n",
       "      <td>43</td>\n",
       "      <td>172</td>\n",
       "      <td>23</td>\n",
       "      <td>60</td>\n",
       "      <td>Краснодар</td>\n",
       "      <td>ultra</td>\n",
       "      <td>1000</td>\n",
       "      <td>3000</td>\n",
       "      <td>1950</td>\n",
       "      <td>150</td>\n",
       "      <td>1</td>\n",
       "      <td>1</td>\n",
       "      <td>ultra</td>\n",
       "      <td>30.00</td>\n",
       "    </tr>\n",
       "    <tr>\n",
       "      <th>2</th>\n",
       "      <td>1000</td>\n",
       "      <td>7</td>\n",
       "      <td>47</td>\n",
       "      <td>340</td>\n",
       "      <td>14</td>\n",
       "      <td>75</td>\n",
       "      <td>Краснодар</td>\n",
       "      <td>ultra</td>\n",
       "      <td>1000</td>\n",
       "      <td>3000</td>\n",
       "      <td>1950</td>\n",
       "      <td>150</td>\n",
       "      <td>1</td>\n",
       "      <td>1</td>\n",
       "      <td>ultra</td>\n",
       "      <td>30.00</td>\n",
       "    </tr>\n",
       "    <tr>\n",
       "      <th>3</th>\n",
       "      <td>1000</td>\n",
       "      <td>8</td>\n",
       "      <td>52</td>\n",
       "      <td>408</td>\n",
       "      <td>14</td>\n",
       "      <td>81</td>\n",
       "      <td>Краснодар</td>\n",
       "      <td>ultra</td>\n",
       "      <td>1000</td>\n",
       "      <td>3000</td>\n",
       "      <td>1950</td>\n",
       "      <td>150</td>\n",
       "      <td>1</td>\n",
       "      <td>1</td>\n",
       "      <td>ultra</td>\n",
       "      <td>30.00</td>\n",
       "    </tr>\n",
       "    <tr>\n",
       "      <th>4</th>\n",
       "      <td>1000</td>\n",
       "      <td>9</td>\n",
       "      <td>58</td>\n",
       "      <td>466</td>\n",
       "      <td>15</td>\n",
       "      <td>57</td>\n",
       "      <td>Краснодар</td>\n",
       "      <td>ultra</td>\n",
       "      <td>1000</td>\n",
       "      <td>3000</td>\n",
       "      <td>1950</td>\n",
       "      <td>150</td>\n",
       "      <td>1</td>\n",
       "      <td>1</td>\n",
       "      <td>ultra</td>\n",
       "      <td>30.00</td>\n",
       "    </tr>\n",
       "  </tbody>\n",
       "</table>\n",
       "</div>"
      ],
      "text/plain": [
       "   user_id  month  calls_count  calls_minutes  gb_used  messages_count  \\\n",
       "0     1000      5           22            159        3              22   \n",
       "1     1000      6           43            172       23              60   \n",
       "2     1000      7           47            340       14              75   \n",
       "3     1000      8           52            408       14              81   \n",
       "4     1000      9           58            466       15              57   \n",
       "\n",
       "        city tariff  messages_included  minutes_included  rub_monthly_fee  \\\n",
       "0  Краснодар  ultra               1000              3000             1950   \n",
       "1  Краснодар  ultra               1000              3000             1950   \n",
       "2  Краснодар  ultra               1000              3000             1950   \n",
       "3  Краснодар  ultra               1000              3000             1950   \n",
       "4  Краснодар  ultra               1000              3000             1950   \n",
       "\n",
       "   rub_per_gb  rub_per_message  rub_per_minute tariff_name  \\\n",
       "0         150                1               1       ultra   \n",
       "1         150                1               1       ultra   \n",
       "2         150                1               1       ultra   \n",
       "3         150                1               1       ultra   \n",
       "4         150                1               1       ultra   \n",
       "\n",
       "   gb_per_month_included  \n",
       "0                  30.00  \n",
       "1                  30.00  \n",
       "2                  30.00  \n",
       "3                  30.00  \n",
       "4                  30.00  "
      ]
     },
     "execution_count": 44,
     "metadata": {},
     "output_type": "execute_result"
    }
   ],
   "source": [
    "report.head() #объединенная таблица"
   ]
  },
  {
   "cell_type": "markdown",
   "metadata": {},
   "source": [
    "Объединенная таблица содержит для каждого пользователя:\n",
    "* количество сделанных звонков и израсходованных минут разговора по месяцам;\n",
    "* количество отправленных сообщений по месяцам;\n",
    "* объем израсходованного интернет-трафика по месяцам;"
   ]
  },
  {
   "cell_type": "markdown",
   "metadata": {},
   "source": [
    "Данные для нашего анализа содержатся в нескольких таблицах.  На данном этапе мы \n",
    "* удостоверились, что нет пропусков в нужных нам столбцах, \n",
    "* преобразовали столбцы с датой в нужный формат,\n",
    "* добавили колонку month, необходимую  \n",
    "* округлили секунды и мегабайты согласно требованиям тарифов,\n",
    "* сгруппировали данные о минутах, сообщениях, трафике по абонентам и месяцам в отдельных таблицах,\n",
    "* переименовали столбцы, где это необходимо\n",
    "* объединили необходимые данные из отдельных таблиц в один датасет\n",
    "* заменили пропуски нулями в объединенной таблице\n",
    "* заменили тип данных на целочисленный, где это необходимо,\n",
    "* посчитали среднюю выручку по абоненту в месяц\n",
    "\n",
    "Также выявили, что тариф Ультра пользуется намного меньшим спросом чем Смарт. Количество абонентов в тарифе Смарт первышает количество абонентов в Ультра более чем в два раза."
   ]
  },
  {
   "cell_type": "markdown",
   "metadata": {},
   "source": [
    "### Расчет выручки"
   ]
  },
  {
   "cell_type": "markdown",
   "metadata": {},
   "source": [
    "В столбце **fee** будет помесячнаю выручка с каждого пользователя"
   ]
  },
  {
   "cell_type": "code",
   "execution_count": 45,
   "metadata": {},
   "outputs": [],
   "source": [
    "# считаем расходы сверх лимита\n",
    "report['calls_over'] = (report['calls_minutes'] - report['minutes_included']) *  report['rub_per_minute']\n",
    "report['msg_over'] = (report['messages_count'] - report['messages_included']) *  report['rub_per_message']\n",
    "report['gb_over'] = (report['gb_used'] - report['gb_per_month_included']) *  report['rub_per_gb']\n",
    "\n",
    "# убираем отрицательные суммы\n",
    "#report.loc[report['calls_over'] < 0, 'calls_over'] = 0\n",
    "#report.loc[report['msg_over'] < 0, 'msg_over'] = 0\n",
    "#report.loc[report['gb_over'] < 0, 'gb_over'] = 0\n",
    "\n",
    "report['calls_over'] = report['calls_over'].clip(0)\n",
    "report['msg_over'] = report['msg_over'].clip(0)\n",
    "report['gb_over'] = report['gb_over'].clip(0)\n",
    "\n",
    "# считаем выручку\n",
    "report['fee'] = report['rub_monthly_fee'] + report['calls_over'] + report['msg_over'] + report['gb_over']"
   ]
  },
  {
   "cell_type": "code",
   "execution_count": 46,
   "metadata": {},
   "outputs": [
    {
     "data": {
      "text/html": [
       "<div>\n",
       "<style scoped>\n",
       "    .dataframe tbody tr th:only-of-type {\n",
       "        vertical-align: middle;\n",
       "    }\n",
       "\n",
       "    .dataframe tbody tr th {\n",
       "        vertical-align: top;\n",
       "    }\n",
       "\n",
       "    .dataframe thead th {\n",
       "        text-align: right;\n",
       "    }\n",
       "</style>\n",
       "<table border=\"1\" class=\"dataframe\">\n",
       "  <thead>\n",
       "    <tr style=\"text-align: right;\">\n",
       "      <th></th>\n",
       "      <th>user_id</th>\n",
       "      <th>month</th>\n",
       "      <th>calls_count</th>\n",
       "      <th>calls_minutes</th>\n",
       "      <th>gb_used</th>\n",
       "      <th>messages_count</th>\n",
       "      <th>city</th>\n",
       "      <th>tariff</th>\n",
       "      <th>messages_included</th>\n",
       "      <th>minutes_included</th>\n",
       "      <th>rub_monthly_fee</th>\n",
       "      <th>rub_per_gb</th>\n",
       "      <th>rub_per_message</th>\n",
       "      <th>rub_per_minute</th>\n",
       "      <th>tariff_name</th>\n",
       "      <th>gb_per_month_included</th>\n",
       "      <th>calls_over</th>\n",
       "      <th>msg_over</th>\n",
       "      <th>gb_over</th>\n",
       "      <th>fee</th>\n",
       "    </tr>\n",
       "  </thead>\n",
       "  <tbody>\n",
       "    <tr>\n",
       "      <th>0</th>\n",
       "      <td>1000</td>\n",
       "      <td>5</td>\n",
       "      <td>22</td>\n",
       "      <td>159</td>\n",
       "      <td>3</td>\n",
       "      <td>22</td>\n",
       "      <td>Краснодар</td>\n",
       "      <td>ultra</td>\n",
       "      <td>1000</td>\n",
       "      <td>3000</td>\n",
       "      <td>1950</td>\n",
       "      <td>150</td>\n",
       "      <td>1</td>\n",
       "      <td>1</td>\n",
       "      <td>ultra</td>\n",
       "      <td>30.00</td>\n",
       "      <td>0</td>\n",
       "      <td>0</td>\n",
       "      <td>0.00</td>\n",
       "      <td>1,950.00</td>\n",
       "    </tr>\n",
       "    <tr>\n",
       "      <th>1</th>\n",
       "      <td>1000</td>\n",
       "      <td>6</td>\n",
       "      <td>43</td>\n",
       "      <td>172</td>\n",
       "      <td>23</td>\n",
       "      <td>60</td>\n",
       "      <td>Краснодар</td>\n",
       "      <td>ultra</td>\n",
       "      <td>1000</td>\n",
       "      <td>3000</td>\n",
       "      <td>1950</td>\n",
       "      <td>150</td>\n",
       "      <td>1</td>\n",
       "      <td>1</td>\n",
       "      <td>ultra</td>\n",
       "      <td>30.00</td>\n",
       "      <td>0</td>\n",
       "      <td>0</td>\n",
       "      <td>0.00</td>\n",
       "      <td>1,950.00</td>\n",
       "    </tr>\n",
       "    <tr>\n",
       "      <th>2</th>\n",
       "      <td>1000</td>\n",
       "      <td>7</td>\n",
       "      <td>47</td>\n",
       "      <td>340</td>\n",
       "      <td>14</td>\n",
       "      <td>75</td>\n",
       "      <td>Краснодар</td>\n",
       "      <td>ultra</td>\n",
       "      <td>1000</td>\n",
       "      <td>3000</td>\n",
       "      <td>1950</td>\n",
       "      <td>150</td>\n",
       "      <td>1</td>\n",
       "      <td>1</td>\n",
       "      <td>ultra</td>\n",
       "      <td>30.00</td>\n",
       "      <td>0</td>\n",
       "      <td>0</td>\n",
       "      <td>0.00</td>\n",
       "      <td>1,950.00</td>\n",
       "    </tr>\n",
       "    <tr>\n",
       "      <th>3</th>\n",
       "      <td>1000</td>\n",
       "      <td>8</td>\n",
       "      <td>52</td>\n",
       "      <td>408</td>\n",
       "      <td>14</td>\n",
       "      <td>81</td>\n",
       "      <td>Краснодар</td>\n",
       "      <td>ultra</td>\n",
       "      <td>1000</td>\n",
       "      <td>3000</td>\n",
       "      <td>1950</td>\n",
       "      <td>150</td>\n",
       "      <td>1</td>\n",
       "      <td>1</td>\n",
       "      <td>ultra</td>\n",
       "      <td>30.00</td>\n",
       "      <td>0</td>\n",
       "      <td>0</td>\n",
       "      <td>0.00</td>\n",
       "      <td>1,950.00</td>\n",
       "    </tr>\n",
       "    <tr>\n",
       "      <th>4</th>\n",
       "      <td>1000</td>\n",
       "      <td>9</td>\n",
       "      <td>58</td>\n",
       "      <td>466</td>\n",
       "      <td>15</td>\n",
       "      <td>57</td>\n",
       "      <td>Краснодар</td>\n",
       "      <td>ultra</td>\n",
       "      <td>1000</td>\n",
       "      <td>3000</td>\n",
       "      <td>1950</td>\n",
       "      <td>150</td>\n",
       "      <td>1</td>\n",
       "      <td>1</td>\n",
       "      <td>ultra</td>\n",
       "      <td>30.00</td>\n",
       "      <td>0</td>\n",
       "      <td>0</td>\n",
       "      <td>0.00</td>\n",
       "      <td>1,950.00</td>\n",
       "    </tr>\n",
       "  </tbody>\n",
       "</table>\n",
       "</div>"
      ],
      "text/plain": [
       "   user_id  month  calls_count  calls_minutes  gb_used  messages_count  \\\n",
       "0     1000      5           22            159        3              22   \n",
       "1     1000      6           43            172       23              60   \n",
       "2     1000      7           47            340       14              75   \n",
       "3     1000      8           52            408       14              81   \n",
       "4     1000      9           58            466       15              57   \n",
       "\n",
       "        city tariff  messages_included  minutes_included  rub_monthly_fee  \\\n",
       "0  Краснодар  ultra               1000              3000             1950   \n",
       "1  Краснодар  ultra               1000              3000             1950   \n",
       "2  Краснодар  ultra               1000              3000             1950   \n",
       "3  Краснодар  ultra               1000              3000             1950   \n",
       "4  Краснодар  ultra               1000              3000             1950   \n",
       "\n",
       "   rub_per_gb  rub_per_message  rub_per_minute tariff_name  \\\n",
       "0         150                1               1       ultra   \n",
       "1         150                1               1       ultra   \n",
       "2         150                1               1       ultra   \n",
       "3         150                1               1       ultra   \n",
       "4         150                1               1       ultra   \n",
       "\n",
       "   gb_per_month_included  calls_over  msg_over  gb_over      fee  \n",
       "0                  30.00           0         0     0.00 1,950.00  \n",
       "1                  30.00           0         0     0.00 1,950.00  \n",
       "2                  30.00           0         0     0.00 1,950.00  \n",
       "3                  30.00           0         0     0.00 1,950.00  \n",
       "4                  30.00           0         0     0.00 1,950.00  "
      ]
     },
     "execution_count": 46,
     "metadata": {},
     "output_type": "execute_result"
    }
   ],
   "source": [
    "report.head()"
   ]
  },
  {
   "cell_type": "markdown",
   "metadata": {},
   "source": [
    "### Вывод"
   ]
  },
  {
   "cell_type": "markdown",
   "metadata": {},
   "source": [
    "Данные для нашего анализа содержатся в нескольких таблицах.  На данном этапе мы \n",
    "* удостоверились, что нет пропусков в нужных нам столбцах, \n",
    "* преобразовали столбцы с датой в нужный формат,\n",
    "* добавили колонку month, необходимую  \n",
    "* округлили секунды и мегабайты согласно требованиям тарифов,\n",
    "* сгруппировали данные о минутах, сообщениях, трафике по абонентам и месяцам в отдельных таблицах,\n",
    "* переименовали столбцы, где это необходимо\n",
    "* объединили необходимые данные из отдельных таблиц в один датасет\n",
    "* заменили пропуски нулями в объединенной таблице\n",
    "* заменили тип данных на целочисленный, где это необходимо,\n",
    "* посчитали среднюю выручку по абоненту в месяц\n",
    "\n",
    "Также выявили, что тариф Ультра пользуется намного меньшим спросом чем Смарт. Количество абонентов в тарифе Смарт первышает количество абонентов в Ультра более чем в два раза."
   ]
  },
  {
   "cell_type": "markdown",
   "metadata": {},
   "source": [
    "## Анализ данных"
   ]
  },
  {
   "cell_type": "markdown",
   "metadata": {},
   "source": [
    "### Расчет статистических показателей"
   ]
  },
  {
   "cell_type": "code",
   "execution_count": 47,
   "metadata": {},
   "outputs": [
    {
     "data": {
      "text/html": [
       "<div>\n",
       "<style scoped>\n",
       "    .dataframe tbody tr th:only-of-type {\n",
       "        vertical-align: middle;\n",
       "    }\n",
       "\n",
       "    .dataframe tbody tr th {\n",
       "        vertical-align: top;\n",
       "    }\n",
       "\n",
       "    .dataframe thead tr th {\n",
       "        text-align: left;\n",
       "    }\n",
       "\n",
       "    .dataframe thead tr:last-of-type th {\n",
       "        text-align: right;\n",
       "    }\n",
       "</style>\n",
       "<table border=\"1\" class=\"dataframe\">\n",
       "  <thead>\n",
       "    <tr>\n",
       "      <th></th>\n",
       "      <th colspan=\"3\" halign=\"left\">calls_minutes</th>\n",
       "      <th colspan=\"3\" halign=\"left\">messages_count</th>\n",
       "      <th colspan=\"3\" halign=\"left\">gb_used</th>\n",
       "    </tr>\n",
       "    <tr>\n",
       "      <th></th>\n",
       "      <th>mean</th>\n",
       "      <th>std</th>\n",
       "      <th>var</th>\n",
       "      <th>mean</th>\n",
       "      <th>std</th>\n",
       "      <th>var</th>\n",
       "      <th>mean</th>\n",
       "      <th>std</th>\n",
       "      <th>var</th>\n",
       "    </tr>\n",
       "    <tr>\n",
       "      <th>tariff</th>\n",
       "      <th></th>\n",
       "      <th></th>\n",
       "      <th></th>\n",
       "      <th></th>\n",
       "      <th></th>\n",
       "      <th></th>\n",
       "      <th></th>\n",
       "      <th></th>\n",
       "      <th></th>\n",
       "    </tr>\n",
       "  </thead>\n",
       "  <tbody>\n",
       "    <tr>\n",
       "      <th>smart</th>\n",
       "      <td>417.93</td>\n",
       "      <td>190.31</td>\n",
       "      <td>36,219.32</td>\n",
       "      <td>33.38</td>\n",
       "      <td>28.23</td>\n",
       "      <td>796.81</td>\n",
       "      <td>16.33</td>\n",
       "      <td>5.75</td>\n",
       "      <td>33.03</td>\n",
       "    </tr>\n",
       "    <tr>\n",
       "      <th>ultra</th>\n",
       "      <td>526.62</td>\n",
       "      <td>317.61</td>\n",
       "      <td>100,873.63</td>\n",
       "      <td>49.36</td>\n",
       "      <td>47.80</td>\n",
       "      <td>2,285.27</td>\n",
       "      <td>19.49</td>\n",
       "      <td>9.85</td>\n",
       "      <td>97.09</td>\n",
       "    </tr>\n",
       "  </tbody>\n",
       "</table>\n",
       "</div>"
      ],
      "text/plain": [
       "       calls_minutes                   messages_count                gb_used  \\\n",
       "                mean    std        var           mean   std      var    mean   \n",
       "tariff                                                                         \n",
       "smart         417.93 190.31  36,219.32          33.38 28.23   796.81   16.33   \n",
       "ultra         526.62 317.61 100,873.63          49.36 47.80 2,285.27   19.49   \n",
       "\n",
       "                   \n",
       "        std   var  \n",
       "tariff             \n",
       "smart  5.75 33.03  \n",
       "ultra  9.85 97.09  "
      ]
     },
     "execution_count": 47,
     "metadata": {},
     "output_type": "execute_result"
    }
   ],
   "source": [
    "# создадим сводную таблицу для рассчита стат показетелей\n",
    "(\n",
    "    report.groupby('tariff')\n",
    "    .agg({'calls_minutes': ['mean', 'std', 'var'], \n",
    "          'messages_count': ['mean', 'std', 'var'], 'gb_used': ['mean', 'std', 'var']})\n",
    ")\n"
   ]
  },
  {
   "cell_type": "markdown",
   "metadata": {},
   "source": [
    "Для двух тарифов посчитали **среднее**, **дисперсию** и **стандартное отклонение** для:\n",
    "* cколько в среднем абонент разговаривает минут в месяц **calls_minutes**\n",
    "* сколько в среднем абонент отправляет сообщений в месяц **messages_count**\n",
    "* размер трафика в среднем в месяц **gb_used**\n",
    "\n",
    "Для абонентов тарифа ультра стандартное отклонение и дисперсия намного больше чем у тарифа смарт. Это происходит из-за того, что лимит у Ультра больше, а следовательно и возможностей принимать разные значения у переменных больше, а также из-за меньшего размера выборки."
   ]
  },
  {
   "cell_type": "markdown",
   "metadata": {},
   "source": [
    "### Описание поведение клиентов оператора"
   ]
  },
  {
   "cell_type": "markdown",
   "metadata": {},
   "source": [
    "Опишем поведение клиентов оператора, исходя из выборки по основным параметрам. \n",
    "* Сколько минут разговора, \n",
    "* сколько сообщений и \n",
    "* какой объём интернет-трафика требуется пользователям каждого тарифа в месяц"
   ]
  },
  {
   "cell_type": "code",
   "execution_count": 48,
   "metadata": {},
   "outputs": [],
   "source": [
    "# создадим сводную таблицу со сравнениями основных средних параметров у двух тарифов\n",
    "report_means = report.pivot_table(index='tariff', values=['calls_count', 'calls_minutes', 'messages_count', 'gb_used', 'fee'])\n",
    "\n",
    "# добавим в сводную таблицу строку 'ratio', где будет показн результат сравнения  smart и ultra\n",
    "# в относительной форме по основным параметрам\n",
    "ratio_calls_count = (report_means.loc['ultra']['calls_count']-report_means.loc['smart']['calls_count'])/report_means.loc['smart']['calls_count']\n",
    "\n",
    "ratio_calls_minutes = (report_means.loc['ultra']['calls_minutes']-report_means.loc['smart']['calls_minutes'])/report_means.loc['smart']['calls_minutes']\n",
    "\n",
    "ratio_fee = (report_means.loc['ultra']['fee']-report_means.loc['smart']['fee'])/report_means.loc['smart']['fee']\n",
    "\n",
    "ratio_gb_used = (report_means.loc['ultra']['gb_used']-report_means.loc['smart']['gb_used'])/report_means.loc['smart']['gb_used']\n",
    "\n",
    "ratio_msg = (report_means.loc['ultra']['messages_count']-report_means.loc['smart']['messages_count'])/report_means.loc['smart']['messages_count']\n",
    "\n",
    "report_means.loc['ratio'] = [ratio_calls_count, ratio_calls_minutes, ratio_fee, ratio_gb_used, ratio_msg] "
   ]
  },
  {
   "cell_type": "code",
   "execution_count": 49,
   "metadata": {},
   "outputs": [],
   "source": [
    "## вставим в таблицу лимиты тарифных планов для наглядности\n",
    "report_means.loc['limit_smart'] = [0, tariffs.loc[0,'minutes_included'], tariffs.loc[0, 'rub_monthly_fee'], tariffs.loc[0, 'gb_per_month_included'], tariffs.loc[0, 'messages_included']]  \n",
    "\n",
    "report_means.loc['limit_ultra'] = [0, tariffs.loc[1,'minutes_included'], tariffs.loc[1, 'rub_monthly_fee'], tariffs.loc[1, 'gb_per_month_included'], tariffs.loc[1, 'messages_included']]"
   ]
  },
  {
   "cell_type": "code",
   "execution_count": 50,
   "metadata": {
    "scrolled": true
   },
   "outputs": [
    {
     "data": {
      "text/html": [
       "<div>\n",
       "<style scoped>\n",
       "    .dataframe tbody tr th:only-of-type {\n",
       "        vertical-align: middle;\n",
       "    }\n",
       "\n",
       "    .dataframe tbody tr th {\n",
       "        vertical-align: top;\n",
       "    }\n",
       "\n",
       "    .dataframe thead th {\n",
       "        text-align: right;\n",
       "    }\n",
       "</style>\n",
       "<table border=\"1\" class=\"dataframe\">\n",
       "  <thead>\n",
       "    <tr style=\"text-align: right;\">\n",
       "      <th></th>\n",
       "      <th>calls_count</th>\n",
       "      <th>calls_minutes</th>\n",
       "      <th>fee</th>\n",
       "      <th>gb_used</th>\n",
       "      <th>messages_count</th>\n",
       "    </tr>\n",
       "    <tr>\n",
       "      <th>tariff</th>\n",
       "      <th></th>\n",
       "      <th></th>\n",
       "      <th></th>\n",
       "      <th></th>\n",
       "      <th></th>\n",
       "    </tr>\n",
       "  </thead>\n",
       "  <tbody>\n",
       "    <tr>\n",
       "      <th>smart</th>\n",
       "      <td>58.46</td>\n",
       "      <td>417.93</td>\n",
       "      <td>1,289.97</td>\n",
       "      <td>16.33</td>\n",
       "      <td>33.38</td>\n",
       "    </tr>\n",
       "    <tr>\n",
       "      <th>ultra</th>\n",
       "      <td>73.39</td>\n",
       "      <td>526.62</td>\n",
       "      <td>2,070.15</td>\n",
       "      <td>19.49</td>\n",
       "      <td>49.36</td>\n",
       "    </tr>\n",
       "    <tr>\n",
       "      <th>ratio</th>\n",
       "      <td>0.26</td>\n",
       "      <td>0.26</td>\n",
       "      <td>0.60</td>\n",
       "      <td>0.19</td>\n",
       "      <td>0.48</td>\n",
       "    </tr>\n",
       "    <tr>\n",
       "      <th>limit_smart</th>\n",
       "      <td>0.00</td>\n",
       "      <td>500.00</td>\n",
       "      <td>550.00</td>\n",
       "      <td>15.00</td>\n",
       "      <td>50.00</td>\n",
       "    </tr>\n",
       "    <tr>\n",
       "      <th>limit_ultra</th>\n",
       "      <td>0.00</td>\n",
       "      <td>3,000.00</td>\n",
       "      <td>1,950.00</td>\n",
       "      <td>30.00</td>\n",
       "      <td>1,000.00</td>\n",
       "    </tr>\n",
       "  </tbody>\n",
       "</table>\n",
       "</div>"
      ],
      "text/plain": [
       "             calls_count  calls_minutes      fee  gb_used  messages_count\n",
       "tariff                                                                   \n",
       "smart              58.46         417.93 1,289.97    16.33           33.38\n",
       "ultra              73.39         526.62 2,070.15    19.49           49.36\n",
       "ratio               0.26           0.26     0.60     0.19            0.48\n",
       "limit_smart         0.00         500.00   550.00    15.00           50.00\n",
       "limit_ultra         0.00       3,000.00 1,950.00    30.00        1,000.00"
      ]
     },
     "execution_count": 50,
     "metadata": {},
     "output_type": "execute_result"
    }
   ],
   "source": [
    "report_means.head()"
   ]
  },
  {
   "cell_type": "markdown",
   "metadata": {},
   "source": [
    "**Смарт**\n",
    "\n",
    "В среднем абоненты тарифа смарт тратили на разговоры 418 минут в месяц, что чуть меньше лимита - 500 мин. Также они в среднем использовали 16,3 гб (или 17 согласно правилам округления тарифных планов) тарфика, что немного превышает тарифный лимит в 15 гб. Возможно часто это чисто-технический момент, из-за округления до полных гб в конце месяца. Также они в среднем отправляли по 33 сообщения, что значительно ниже лимита в 50 сообщений. Средняя выручка по тарифу смарт составила 1290 рублей, что превышает абонентскую плату в 550 руб более чем в два раза. Это, видимо, свидетельствует о дорогих дополнительных минутах и гб.\n",
    "\n",
    "**Ультра**\n",
    "\n",
    "Абоненты тарифа ультра в среднем тратили на разговоры 527 минут в месяц, что всего на 26% больше, чем у тарифа смарт. Это намного меньше лимита в 3000 мин. Также они в среднем израсходовали 20 гб трафика, что также значительно ниже лимита по этому тарифу в 30 гб и на 19% больше, чем у тарифа смарт. Отправили сообщений 50 штук, что значительно ниже лимита по тарифу в 1000 сообщений. Выручка по тарифу ультра составила в среднем 2 070 руб, что чуть больше абонентской платы в 1950 руб и на 60% выше средней выручки с одного абонента в месяц по тарифу смарт. \n",
    "\n",
    "Иными словами, мы видим, что средние потребности абонентов тарифа ультра значительно ниже лимитов по нему и более тяготеют к тарифу смарт, превышают его показатели всего на 19-26% процентов. А стоимость услуг по тарифу ультра больше чем по тарифу смарт на 60%. По всей видимости, решающим фактором в пользу тарифа ультра является 30 гб трафика, входящих в пакет. Так как 1гб сверх по тарифу смарт стоит целых 200 руб."
   ]
  },
  {
   "cell_type": "markdown",
   "metadata": {},
   "source": [
    "### Гистограмма звонков"
   ]
  },
  {
   "cell_type": "code",
   "execution_count": 51,
   "metadata": {},
   "outputs": [
    {
     "data": {
      "image/png": "[encoded data removed]",
      "text/plain": [
       "<Figure size 648x288 with 1 Axes>"
      ]
     },
     "metadata": {
      "needs_background": "light"
     },
     "output_type": "display_data"
    }
   ],
   "source": [
    "ax=report[report['tariff']=='smart']['calls_minutes'].hist(bins=20, figsize=(9,4))\n",
    "report[report['tariff']=='ultra']['calls_minutes'].hist(ax=ax, bins=20, alpha=0.7)\n",
    "plt.title('Потрачено абонентом минут в месяц')\n",
    "plt.xlabel('мин')\n",
    "plt.ylabel('частота')\n",
    "plt.axvline(x=report_means.loc['limit_smart', 'calls_minutes'], color='r')\n",
    "plt.axvline(x=report_means.loc['limit_ultra', 'calls_minutes'], color='g')\n",
    "plt.legend(['limit_smart', 'limit_ultra', 'smart', 'ultra'])\n",
    "plt.show()"
   ]
  },
  {
   "cell_type": "markdown",
   "metadata": {},
   "source": [
    "Чаще всего абоненты смарт тратили на звонки чуть меньше 500 мин в месяц, у них получалось точно израсходовать лимит. У звонков по тарифу смарт распределение близкое к нормальному, чуть скошенное вправо. У тарифа ультра мы видим более равномерное распределение частоты среднего количества минут, с динным правым хвостом - есть небольшое количество людей говорящих много, но все равно это почти никогда не выходит за рамки лимита. В целом мы видим, что количество абонентов тарифа смарт сильно больше чем ультра."
   ]
  },
  {
   "cell_type": "markdown",
   "metadata": {},
   "source": [
    "### Гистограмма текстовых сообщений"
   ]
  },
  {
   "cell_type": "code",
   "execution_count": 52,
   "metadata": {},
   "outputs": [
    {
     "data": {
      "image/png": "[encoded data removed]",
      "text/plain": [
       "<Figure size 432x288 with 1 Axes>"
      ]
     },
     "metadata": {
      "needs_background": "light"
     },
     "output_type": "display_data"
    }
   ],
   "source": [
    "ax=report[report['tariff']=='smart']['messages_count'].hist(bins=20, range=(1, 200))\n",
    "report[report['tariff']=='ultra']['messages_count'].hist(ax=ax, bins=20, range=(1, 200), alpha=0.7)\n",
    "plt.title('Количество сообщений в месяц')\n",
    "plt.xlabel('количество')\n",
    "plt.ylabel('частота')\n",
    "plt.xticks(range(1,200,10))\n",
    "plt.axvline(x=report_means.loc['limit_smart', 'messages_count'], color='r', label='limit_smart')\n",
    "plt.legend(['limit_smart', 'smart', 'ultra'])\n",
    "plt.show()"
   ]
  },
  {
   "cell_type": "code",
   "execution_count": 53,
   "metadata": {},
   "outputs": [
    {
     "data": {
      "text/plain": [
       "0     497\n",
       "20     52\n",
       "6      46\n",
       "16     45\n",
       "17     44\n",
       "Name: messages_count, dtype: int64"
      ]
     },
     "execution_count": 53,
     "metadata": {},
     "output_type": "execute_result"
    }
   ],
   "source": [
    "report['messages_count'].value_counts().head()"
   ]
  },
  {
   "cell_type": "markdown",
   "metadata": {},
   "source": [
    "Основная масса абонентов вообще не отправляет смс. Поэтому мы убрали 0 из диапазона по оси Х. Пользователи обоих тарифов практически не отправляют больше 100 сообщений  в месяц. Чаще всего абоненты тарифа смарт отправляют от 10 до 30 сообщений в месяц. У ультра от 1 до 30. \n",
    "\n",
    "Если принимать во внимание только месяцы, в которые абоненты отсылали текстовые сообщения, распределение представляет собой распределение Пуасона. "
   ]
  },
  {
   "cell_type": "markdown",
   "metadata": {},
   "source": [
    "### Гистограмма интернет-трафика"
   ]
  },
  {
   "cell_type": "code",
   "execution_count": 54,
   "metadata": {},
   "outputs": [
    {
     "data": {
      "image/png": "[encoded data removed]",
      "text/plain": [
       "<Figure size 432x288 with 1 Axes>"
      ]
     },
     "metadata": {
      "needs_background": "light"
     },
     "output_type": "display_data"
    }
   ],
   "source": [
    "ax=report[report['tariff']=='smart']['gb_used'].hist(bins=20)\n",
    "report[report['tariff']=='ultra']['gb_used'].hist(ax=ax, bins=20, alpha=0.7)\n",
    "plt.title('Трафик, Гб в месяц')\n",
    "plt.xlabel('Гб')\n",
    "plt.ylabel('частота')\n",
    "plt.xticks(range(0,50,5))\n",
    "plt.axvline(x=report_means.loc['limit_smart', 'gb_used'], color='r')\n",
    "plt.axvline(x=report_means.loc['limit_ultra', 'gb_used'], color='g')\n",
    "plt.legend(['limit_smart', 'limit_ultra', 'smart', 'ultra'])\n",
    "plt.show()"
   ]
  },
  {
   "cell_type": "markdown",
   "metadata": {},
   "source": [
    "Наиболее частый размер тарфика в месяц по тарифу смарт  - это чуть больше 16 гб, что чуть больше лимита, с последующим провалом. И по тарифу ультра распределение более равномерно нет такого пик, чаще всего используют 10-30 гб. После 30гб (лимита) очень сильное падение.  "
   ]
  },
  {
   "cell_type": "markdown",
   "metadata": {},
   "source": [
    "### Вывод"
   ]
  },
  {
   "cell_type": "markdown",
   "metadata": {},
   "source": [
    "Мы сравнили основные средние показатели по двум тарифам и обнаружили, что они не так сильно различаются между собой как абонентская плата и лимиты по этим двум тарифам. По звонкам потребность абонентов более тяготеет к тарифу смарт. \n",
    "\n",
    "Средняя потребность в трафике чуть превышает лимит смарт, и не дотягивает до ультра 30 гб включенных в тариф ультра. Видимо, основная причина выбора тарифа ультра - дороговизна дополнительных Гб по тарифу смарт (200 руб).\n",
    "\n",
    "СМС уже почти никто не отсылает. Потребность в них низкая и покрывается лимитом смарт.  "
   ]
  },
  {
   "cell_type": "markdown",
   "metadata": {},
   "source": [
    "## Проверка гипотез"
   ]
  },
  {
   "cell_type": "markdown",
   "metadata": {},
   "source": [
    "### Гипотеза 1"
   ]
  },
  {
   "cell_type": "markdown",
   "metadata": {},
   "source": [
    "**Средняя выручка пользователей тарифов «Ультра» и «Смарт» различаются**"
   ]
  },
  {
   "cell_type": "markdown",
   "metadata": {},
   "source": [
    "Формулировка нулевой гипотезы **Н0**: Гипотеза о равенстве средних двух генеральных совокупностей\n",
    "\n",
    "Генеральные совокупности - это все пользователи тарифов Ультра и Смарт.\n",
    "\n",
    "\n",
    "Формулировка альтернативной гипотезы **Н1**: средние генеральных совокупностей не равны между собой."
   ]
  },
  {
   "cell_type": "code",
   "execution_count": 55,
   "metadata": {},
   "outputs": [
    {
     "data": {
      "text/html": [
       "<div>\n",
       "<style scoped>\n",
       "    .dataframe tbody tr th:only-of-type {\n",
       "        vertical-align: middle;\n",
       "    }\n",
       "\n",
       "    .dataframe tbody tr th {\n",
       "        vertical-align: top;\n",
       "    }\n",
       "\n",
       "    .dataframe thead tr th {\n",
       "        text-align: left;\n",
       "    }\n",
       "\n",
       "    .dataframe thead tr:last-of-type th {\n",
       "        text-align: right;\n",
       "    }\n",
       "</style>\n",
       "<table border=\"1\" class=\"dataframe\">\n",
       "  <thead>\n",
       "    <tr>\n",
       "      <th></th>\n",
       "      <th colspan=\"2\" halign=\"left\">fee</th>\n",
       "    </tr>\n",
       "    <tr>\n",
       "      <th></th>\n",
       "      <th>mean</th>\n",
       "      <th>var</th>\n",
       "    </tr>\n",
       "    <tr>\n",
       "      <th>tariff</th>\n",
       "      <th></th>\n",
       "      <th></th>\n",
       "    </tr>\n",
       "  </thead>\n",
       "  <tbody>\n",
       "    <tr>\n",
       "      <th>smart</th>\n",
       "      <td>1,289.97</td>\n",
       "      <td>669,785.71</td>\n",
       "    </tr>\n",
       "    <tr>\n",
       "      <th>ultra</th>\n",
       "      <td>2,070.15</td>\n",
       "      <td>141,516.75</td>\n",
       "    </tr>\n",
       "  </tbody>\n",
       "</table>\n",
       "</div>"
      ],
      "text/plain": [
       "            fee           \n",
       "           mean        var\n",
       "tariff                    \n",
       "smart  1,289.97 669,785.71\n",
       "ultra  2,070.15 141,516.75"
      ]
     },
     "execution_count": 55,
     "metadata": {},
     "output_type": "execute_result"
    }
   ],
   "source": [
    "# выведем среднию и дисперсию по выборке\n",
    "report.groupby('tariff').agg({'fee': ['mean', 'var']})\n"
   ]
  },
  {
   "cell_type": "markdown",
   "metadata": {},
   "source": [
    "Допустим, что нет оснований полагать, что дисперсии двух генеральных совокупностей примерно равны (в выборке дисперсии сильно отличаются), поэтому возьмем **equal_var = False**.\n",
    "\n",
    "Установим пороговое значение **alpha** для уровня значимости **p-value** 5%. Если полученный **p-value** меньше 5%, то отвергаем нулевую гипотезу. "
   ]
  },
  {
   "cell_type": "code",
   "execution_count": 56,
   "metadata": {},
   "outputs": [
    {
     "name": "stdout",
     "output_type": "stream",
     "text": [
      "p-value: 4.2606313931076085e-250\n",
      "Отвергаем нулевую гипотезу\n"
     ]
    }
   ],
   "source": [
    "sample_smart=report[report['tariff']=='smart']['fee']\n",
    "sample_ultra=report[report['tariff']=='ultra']['fee']\n",
    "\n",
    "alpha=0.05\n",
    "results=st.ttest_ind(sample_smart, sample_ultra, equal_var = False )\n",
    "print('p-value:', results.pvalue)\n",
    "if results.pvalue<alpha:\n",
    "    print('Отвергаем нулевую гипотезу')\n",
    "else: \n",
    "    print('Не получилось отвергнуть нулевую гипотезу')\n"
   ]
  },
  {
   "cell_type": "markdown",
   "metadata": {},
   "source": [
    "#### Вывод"
   ]
  },
  {
   "cell_type": "markdown",
   "metadata": {},
   "source": [
    "Полученный уровень значимости для нулевой гипотезы близок к нулю и, очевидно, меньше поргового значения в 5%. Поэтому отвергаем нулевую гипотезу о равенстве средних, а следовательно, не отвергаем альтернативную гипотезу, что средние не равны между собой. Это кажется очень вероятным, если посмотреть на выборку. По выборке средние выручки тарифов смарт и ультра сильно отличаются. \n",
    "</div>  "
   ]
  },
  {
   "cell_type": "markdown",
   "metadata": {},
   "source": [
    "### Гипотеза 2"
   ]
  },
  {
   "cell_type": "markdown",
   "metadata": {},
   "source": [
    "**Средняя выручка пользователей из Москвы отличается от выручки пользователей из других регионов**"
   ]
  },
  {
   "cell_type": "markdown",
   "metadata": {},
   "source": [
    "Формулировка нулевой гипотезы **Н0**: Гипотеза о равенстве средних двух генеральных совокупностей\n",
    "\n",
    "Генеральные совокупности - это все пользователи из Москвы и других регионов.\n",
    "Формулировка альтернативной гипотезы **Н1**: средние генеральных совокупностей не равны между собой.\n"
   ]
  },
  {
   "cell_type": "code",
   "execution_count": 57,
   "metadata": {},
   "outputs": [
    {
     "name": "stdout",
     "output_type": "stream",
     "text": [
      "1547 1525\n"
     ]
    }
   ],
   "source": [
    "# посчитаем средние по выборке\n",
    "mean_msk=report[report['city']=='Москва']['fee'].mean()\n",
    "mean_reg=report[report['city']!='Москва']['fee'].mean()\n",
    "print(round(mean_msk), round(mean_reg))"
   ]
  },
  {
   "cell_type": "code",
   "execution_count": 58,
   "metadata": {},
   "outputs": [
    {
     "name": "stdout",
     "output_type": "stream",
     "text": [
      "p-value: 0.5257376663729298\n",
      "Не получилось отвергнуть нулевую гипотезу\n"
     ]
    }
   ],
   "source": [
    "sample_msk=report[report['city']=='Москва']['fee']\n",
    "sample_reg=report[report['city']!='Москва']['fee']\n",
    "\n",
    "alpha=0.05\n",
    "results=st.ttest_ind(sample_msk, sample_reg, equal_var = False)\n",
    "print('p-value:', results.pvalue)\n",
    "if results.pvalue<alpha:\n",
    "    print('Отвергаем нулевую гипотезу')\n",
    "else: \n",
    "    print('Не получилось отвергнуть нулевую гипотезу')"
   ]
  },
  {
   "cell_type": "markdown",
   "metadata": {},
   "source": [
    "#### Вывод"
   ]
  },
  {
   "cell_type": "markdown",
   "metadata": {},
   "source": [
    "Полученный уровень значимости для нулевой гипотезы очень высок более 50%, что, очевидно, больше заявленного порогового значения в 5%. Поэтому не отвергаем нулевую гипотезу о равенстве средних, а следовательно, отвергаем альтернативную гипотезу. Это кажется очень вероятным, если посмотреть на выборку. По выборке средние выручки в Москве и регионах очень близки."
   ]
  },
  {
   "cell_type": "markdown",
   "metadata": {},
   "source": [
    "## Вывод"
   ]
  },
  {
   "cell_type": "markdown",
   "metadata": {},
   "source": [
    "На основании выборке из 500 пользователей компании Мегалайн мы сделали анализ двух тарифов Ультра и Смарт. Мы проанализировали поведение клиентов: сколько в среднем в месяц они тратят минут, трафика и отравляют сообщений. Посчитали и сравнили средние выручки у пользователей двух тарифов.\n",
    "\n",
    "В результате мы выявили, что тариф смарт является более перспективным. Он точнее удовлетворяет потребности клиентов и за меньшие деньги. \n",
    "\n",
    "Также на основании выборочных данных мы не подтвердили гипотезы, поставленные для генеральных совокупностей, что средние выручки по двум тарифам одинаковы и, что средняя выручка пользователей из Москвы отличается от выручки пользователей из других регионов. \n",
    "\n"
   ]
  }
 ],
 "metadata": {
  "ExecuteTimeLog": [
   {
    "duration": 82,
    "start_time": "2021-12-20T07:56:52.617Z"
   },
   {
    "duration": 314,
    "start_time": "2021-12-20T07:57:18.727Z"
   },
   {
    "duration": 1394,
    "start_time": "2021-12-20T07:57:27.655Z"
   },
   {
    "duration": 239,
    "start_time": "2021-12-20T07:57:32.647Z"
   },
   {
    "duration": 507,
    "start_time": "2021-12-20T08:01:08.940Z"
   },
   {
    "duration": 16,
    "start_time": "2021-12-20T08:01:41.830Z"
   },
   {
    "duration": 27,
    "start_time": "2021-12-20T08:01:58.166Z"
   },
   {
    "duration": 3,
    "start_time": "2021-12-20T08:05:16.831Z"
   },
   {
    "duration": 36,
    "start_time": "2021-12-20T08:09:13.671Z"
   },
   {
    "duration": 20,
    "start_time": "2021-12-20T08:09:16.348Z"
   },
   {
    "duration": 31,
    "start_time": "2021-12-20T08:10:18.405Z"
   },
   {
    "duration": 31,
    "start_time": "2021-12-20T08:10:20.468Z"
   },
   {
    "duration": 6,
    "start_time": "2021-12-20T08:11:01.364Z"
   },
   {
    "duration": 5,
    "start_time": "2021-12-20T08:21:53.132Z"
   },
   {
    "duration": 14,
    "start_time": "2021-12-20T08:22:15.870Z"
   },
   {
    "duration": 23,
    "start_time": "2021-12-20T08:22:38.336Z"
   },
   {
    "duration": 6,
    "start_time": "2021-12-20T08:23:51.177Z"
   },
   {
    "duration": 14,
    "start_time": "2021-12-20T08:23:54.531Z"
   },
   {
    "duration": 26,
    "start_time": "2021-12-20T08:23:59.321Z"
   },
   {
    "duration": 7,
    "start_time": "2021-12-20T08:24:14.856Z"
   },
   {
    "duration": 13,
    "start_time": "2021-12-20T08:24:19.706Z"
   },
   {
    "duration": 13,
    "start_time": "2021-12-20T08:24:32.384Z"
   },
   {
    "duration": 27,
    "start_time": "2021-12-20T08:24:37.105Z"
   },
   {
    "duration": 1504,
    "start_time": "2021-12-20T08:24:50.117Z"
   },
   {
    "duration": 3,
    "start_time": "2021-12-20T08:24:51.623Z"
   },
   {
    "duration": 546,
    "start_time": "2021-12-20T08:24:51.629Z"
   },
   {
    "duration": 16,
    "start_time": "2021-12-20T08:24:52.178Z"
   },
   {
    "duration": 54,
    "start_time": "2021-12-20T08:24:52.196Z"
   },
   {
    "duration": 33,
    "start_time": "2021-12-20T08:24:52.253Z"
   },
   {
    "duration": 76,
    "start_time": "2021-12-20T08:24:52.288Z"
   },
   {
    "duration": -1590,
    "start_time": "2021-12-20T08:24:53.956Z"
   },
   {
    "duration": -1589,
    "start_time": "2021-12-20T08:24:53.957Z"
   },
   {
    "duration": -1589,
    "start_time": "2021-12-20T08:24:53.958Z"
   },
   {
    "duration": -1590,
    "start_time": "2021-12-20T08:24:53.960Z"
   },
   {
    "duration": 1689,
    "start_time": "2021-12-20T08:25:21.217Z"
   },
   {
    "duration": 3,
    "start_time": "2021-12-20T08:25:22.909Z"
   },
   {
    "duration": 564,
    "start_time": "2021-12-20T08:25:22.923Z"
   },
   {
    "duration": 17,
    "start_time": "2021-12-20T08:25:23.490Z"
   },
   {
    "duration": 58,
    "start_time": "2021-12-20T08:25:23.510Z"
   },
   {
    "duration": 34,
    "start_time": "2021-12-20T08:25:23.570Z"
   },
   {
    "duration": 27,
    "start_time": "2021-12-20T08:25:23.607Z"
   },
   {
    "duration": 6,
    "start_time": "2021-12-20T08:25:23.636Z"
   },
   {
    "duration": 13,
    "start_time": "2021-12-20T08:25:23.644Z"
   },
   {
    "duration": 59,
    "start_time": "2021-12-20T08:25:23.659Z"
   },
   {
    "duration": 27,
    "start_time": "2021-12-20T08:26:35.650Z"
   },
   {
    "duration": 11,
    "start_time": "2021-12-20T08:26:51.088Z"
   },
   {
    "duration": 10,
    "start_time": "2021-12-20T08:32:20.936Z"
   },
   {
    "duration": 12,
    "start_time": "2021-12-20T08:39:45.605Z"
   },
   {
    "duration": 24,
    "start_time": "2021-12-20T08:40:03.726Z"
   },
   {
    "duration": 1310,
    "start_time": "2021-12-20T08:46:08.787Z"
   },
   {
    "duration": 3,
    "start_time": "2021-12-20T08:46:10.100Z"
   },
   {
    "duration": 544,
    "start_time": "2021-12-20T08:46:10.117Z"
   },
   {
    "duration": 18,
    "start_time": "2021-12-20T08:46:10.665Z"
   },
   {
    "duration": 30,
    "start_time": "2021-12-20T08:46:10.685Z"
   },
   {
    "duration": 48,
    "start_time": "2021-12-20T08:46:10.723Z"
   },
   {
    "duration": 55,
    "start_time": "2021-12-20T08:46:10.774Z"
   },
   {
    "duration": 32,
    "start_time": "2021-12-20T08:46:10.834Z"
   },
   {
    "duration": 6,
    "start_time": "2021-12-20T08:46:10.870Z"
   },
   {
    "duration": 46,
    "start_time": "2021-12-20T08:46:10.878Z"
   },
   {
    "duration": 27,
    "start_time": "2021-12-20T08:46:10.927Z"
   },
   {
    "duration": 26,
    "start_time": "2021-12-20T08:46:10.957Z"
   },
   {
    "duration": 9,
    "start_time": "2021-12-20T08:46:10.986Z"
   },
   {
    "duration": 16,
    "start_time": "2021-12-20T08:46:11.017Z"
   },
   {
    "duration": 24,
    "start_time": "2021-12-20T08:46:11.035Z"
   },
   {
    "duration": 59,
    "start_time": "2021-12-20T08:46:11.062Z"
   },
   {
    "duration": 7021,
    "start_time": "2021-12-20T08:46:11.124Z"
   },
   {
    "duration": -1605,
    "start_time": "2021-12-20T08:46:19.753Z"
   },
   {
    "duration": -1604,
    "start_time": "2021-12-20T08:46:19.755Z"
   },
   {
    "duration": 27,
    "start_time": "2021-12-20T08:47:48.909Z"
   },
   {
    "duration": 7042,
    "start_time": "2021-12-20T08:47:52.427Z"
   },
   {
    "duration": 24,
    "start_time": "2021-12-20T08:48:44.320Z"
   },
   {
    "duration": 11,
    "start_time": "2021-12-20T08:48:50.203Z"
   },
   {
    "duration": 97,
    "start_time": "2021-12-20T08:55:41.552Z"
   },
   {
    "duration": 10,
    "start_time": "2021-12-20T08:56:04.598Z"
   },
   {
    "duration": 12,
    "start_time": "2021-12-20T08:56:25.474Z"
   },
   {
    "duration": 250,
    "start_time": "2021-12-20T08:59:18.113Z"
   },
   {
    "duration": 11,
    "start_time": "2021-12-20T08:59:24.985Z"
   },
   {
    "duration": 27,
    "start_time": "2021-12-20T08:59:48.323Z"
   },
   {
    "duration": 103,
    "start_time": "2021-12-20T09:04:49.766Z"
   },
   {
    "duration": 7756,
    "start_time": "2021-12-20T09:04:59.407Z"
   },
   {
    "duration": 7070,
    "start_time": "2021-12-20T09:05:39.020Z"
   },
   {
    "duration": 28,
    "start_time": "2021-12-20T09:06:15.802Z"
   },
   {
    "duration": 7404,
    "start_time": "2021-12-20T09:06:19.416Z"
   },
   {
    "duration": 22,
    "start_time": "2021-12-20T09:06:33.472Z"
   },
   {
    "duration": 29,
    "start_time": "2021-12-20T09:06:36.743Z"
   },
   {
    "duration": 9,
    "start_time": "2021-12-20T09:06:45.960Z"
   },
   {
    "duration": 12,
    "start_time": "2021-12-20T09:12:03.046Z"
   },
   {
    "duration": 11,
    "start_time": "2021-12-20T09:14:11.400Z"
   },
   {
    "duration": 9,
    "start_time": "2021-12-20T09:14:28.174Z"
   },
   {
    "duration": 15,
    "start_time": "2021-12-20T09:16:20.138Z"
   },
   {
    "duration": 9,
    "start_time": "2021-12-20T09:16:36.661Z"
   },
   {
    "duration": 7439,
    "start_time": "2021-12-20T09:21:21.964Z"
   },
   {
    "duration": 28,
    "start_time": "2021-12-20T09:22:07.630Z"
   },
   {
    "duration": 318,
    "start_time": "2021-12-20T09:24:15.349Z"
   },
   {
    "duration": 13,
    "start_time": "2021-12-20T09:24:54.156Z"
   },
   {
    "duration": 335,
    "start_time": "2021-12-20T09:31:03.250Z"
   },
   {
    "duration": 341,
    "start_time": "2021-12-20T09:31:30.531Z"
   },
   {
    "duration": 251,
    "start_time": "2021-12-20T09:31:37.530Z"
   },
   {
    "duration": 266,
    "start_time": "2021-12-20T09:31:47.953Z"
   },
   {
    "duration": 7,
    "start_time": "2021-12-20T09:32:06.378Z"
   },
   {
    "duration": 559,
    "start_time": "2021-12-20T09:32:30.450Z"
   },
   {
    "duration": 6,
    "start_time": "2021-12-20T09:32:50.928Z"
   },
   {
    "duration": 334,
    "start_time": "2021-12-20T09:33:27.948Z"
   },
   {
    "duration": 6,
    "start_time": "2021-12-20T09:33:47.905Z"
   },
   {
    "duration": 7,
    "start_time": "2021-12-20T09:36:33.384Z"
   },
   {
    "duration": 329,
    "start_time": "2021-12-20T09:36:46.081Z"
   },
   {
    "duration": 9,
    "start_time": "2021-12-20T09:37:04.249Z"
   },
   {
    "duration": 21,
    "start_time": "2021-12-20T09:37:25.720Z"
   },
   {
    "duration": 20,
    "start_time": "2021-12-20T09:38:39.729Z"
   },
   {
    "duration": 278,
    "start_time": "2021-12-20T09:40:57.816Z"
   },
   {
    "duration": 327,
    "start_time": "2021-12-20T09:41:24.155Z"
   },
   {
    "duration": 333,
    "start_time": "2021-12-20T09:41:37.474Z"
   },
   {
    "duration": 20,
    "start_time": "2021-12-20T09:41:45.792Z"
   },
   {
    "duration": 298,
    "start_time": "2021-12-20T09:41:54.579Z"
   },
   {
    "duration": 15,
    "start_time": "2021-12-20T09:42:24.423Z"
   },
   {
    "duration": 5,
    "start_time": "2021-12-20T09:43:11.296Z"
   },
   {
    "duration": 260,
    "start_time": "2021-12-20T09:43:32.570Z"
   },
   {
    "duration": 14,
    "start_time": "2021-12-20T09:43:39.471Z"
   },
   {
    "duration": 20,
    "start_time": "2021-12-20T09:44:02.478Z"
   },
   {
    "duration": 264,
    "start_time": "2021-12-20T09:45:20.705Z"
   },
   {
    "duration": 21,
    "start_time": "2021-12-20T09:45:35.695Z"
   },
   {
    "duration": 256,
    "start_time": "2021-12-20T09:48:15.119Z"
   },
   {
    "duration": 25,
    "start_time": "2021-12-20T09:48:42.305Z"
   },
   {
    "duration": 88,
    "start_time": "2021-12-20T09:49:24.170Z"
   },
   {
    "duration": 15,
    "start_time": "2021-12-20T09:49:29.780Z"
   },
   {
    "duration": 7021,
    "start_time": "2021-12-20T09:58:10.861Z"
   },
   {
    "duration": 5,
    "start_time": "2021-12-20T09:58:20.155Z"
   },
   {
    "duration": 13,
    "start_time": "2021-12-20T09:58:43.369Z"
   },
   {
    "duration": 100,
    "start_time": "2021-12-20T10:03:33.892Z"
   },
   {
    "duration": 11,
    "start_time": "2021-12-20T10:03:43.561Z"
   },
   {
    "duration": 15,
    "start_time": "2021-12-20T10:06:25.873Z"
   },
   {
    "duration": 12,
    "start_time": "2021-12-20T10:06:30.866Z"
   },
   {
    "duration": 8036,
    "start_time": "2021-12-20T10:08:14.081Z"
   },
   {
    "duration": 8350,
    "start_time": "2021-12-20T10:09:03.176Z"
   },
   {
    "duration": 1349,
    "start_time": "2021-12-20T10:09:22.943Z"
   },
   {
    "duration": 4,
    "start_time": "2021-12-20T10:09:24.294Z"
   },
   {
    "duration": 503,
    "start_time": "2021-12-20T10:09:24.316Z"
   },
   {
    "duration": 15,
    "start_time": "2021-12-20T10:09:24.822Z"
   },
   {
    "duration": 27,
    "start_time": "2021-12-20T10:09:24.839Z"
   },
   {
    "duration": 67,
    "start_time": "2021-12-20T10:09:24.868Z"
   },
   {
    "duration": 32,
    "start_time": "2021-12-20T10:09:24.939Z"
   },
   {
    "duration": 26,
    "start_time": "2021-12-20T10:09:24.974Z"
   },
   {
    "duration": 6,
    "start_time": "2021-12-20T10:09:25.017Z"
   },
   {
    "duration": 15,
    "start_time": "2021-12-20T10:09:25.025Z"
   },
   {
    "duration": 29,
    "start_time": "2021-12-20T10:09:25.042Z"
   },
   {
    "duration": 61,
    "start_time": "2021-12-20T10:09:25.073Z"
   },
   {
    "duration": 9,
    "start_time": "2021-12-20T10:09:25.136Z"
   },
   {
    "duration": 12,
    "start_time": "2021-12-20T10:09:25.148Z"
   },
   {
    "duration": 54,
    "start_time": "2021-12-20T10:09:25.163Z"
   },
   {
    "duration": 28,
    "start_time": "2021-12-20T10:09:25.220Z"
   },
   {
    "duration": 24,
    "start_time": "2021-12-20T10:09:25.251Z"
   },
   {
    "duration": 64,
    "start_time": "2021-12-20T10:09:25.278Z"
   },
   {
    "duration": 14,
    "start_time": "2021-12-20T10:09:25.345Z"
   },
   {
    "duration": 12,
    "start_time": "2021-12-20T10:09:25.362Z"
   },
   {
    "duration": 40,
    "start_time": "2021-12-20T10:09:25.377Z"
   },
   {
    "duration": 10,
    "start_time": "2021-12-20T10:09:25.422Z"
   },
   {
    "duration": 25,
    "start_time": "2021-12-20T10:09:25.435Z"
   },
   {
    "duration": 64,
    "start_time": "2021-12-20T10:09:25.463Z"
   },
   {
    "duration": 21,
    "start_time": "2021-12-20T10:09:25.530Z"
   },
   {
    "duration": 40,
    "start_time": "2021-12-20T10:09:25.554Z"
   },
   {
    "duration": 10,
    "start_time": "2021-12-20T10:09:25.618Z"
   },
   {
    "duration": 13,
    "start_time": "2021-12-20T10:09:25.630Z"
   },
   {
    "duration": 12,
    "start_time": "2021-12-20T10:09:25.645Z"
   },
   {
    "duration": 4,
    "start_time": "2021-12-20T10:09:25.659Z"
   },
   {
    "duration": 14,
    "start_time": "2021-12-20T10:09:25.666Z"
   },
   {
    "duration": 47,
    "start_time": "2021-12-20T10:09:25.682Z"
   },
   {
    "duration": 11,
    "start_time": "2021-12-20T10:09:25.731Z"
   },
   {
    "duration": 14,
    "start_time": "2021-12-20T10:09:25.744Z"
   },
   {
    "duration": 6,
    "start_time": "2021-12-20T10:09:25.760Z"
   },
   {
    "duration": 52,
    "start_time": "2021-12-20T10:09:25.768Z"
   },
   {
    "duration": 13,
    "start_time": "2021-12-20T10:10:02.931Z"
   },
   {
    "duration": 10,
    "start_time": "2021-12-20T10:10:09.203Z"
   },
   {
    "duration": 11,
    "start_time": "2021-12-20T10:10:22.795Z"
   },
   {
    "duration": 12,
    "start_time": "2021-12-20T10:11:31.419Z"
   },
   {
    "duration": 10,
    "start_time": "2021-12-20T10:11:33.299Z"
   },
   {
    "duration": 1331,
    "start_time": "2021-12-20T10:11:39.962Z"
   },
   {
    "duration": 2,
    "start_time": "2021-12-20T10:11:41.297Z"
   },
   {
    "duration": 532,
    "start_time": "2021-12-20T10:11:41.302Z"
   },
   {
    "duration": 17,
    "start_time": "2021-12-20T10:11:41.836Z"
   },
   {
    "duration": 28,
    "start_time": "2021-12-20T10:11:41.855Z"
   },
   {
    "duration": 59,
    "start_time": "2021-12-20T10:11:41.885Z"
   },
   {
    "duration": 32,
    "start_time": "2021-12-20T10:11:41.946Z"
   },
   {
    "duration": 36,
    "start_time": "2021-12-20T10:11:41.981Z"
   },
   {
    "duration": 6,
    "start_time": "2021-12-20T10:11:42.021Z"
   },
   {
    "duration": 13,
    "start_time": "2021-12-20T10:11:42.029Z"
   },
   {
    "duration": 26,
    "start_time": "2021-12-20T10:11:42.044Z"
   },
   {
    "duration": 59,
    "start_time": "2021-12-20T10:11:42.072Z"
   },
   {
    "duration": 9,
    "start_time": "2021-12-20T10:11:42.133Z"
   },
   {
    "duration": 14,
    "start_time": "2021-12-20T10:11:42.145Z"
   },
   {
    "duration": 31,
    "start_time": "2021-12-20T10:11:42.161Z"
   },
   {
    "duration": 29,
    "start_time": "2021-12-20T10:11:42.217Z"
   },
   {
    "duration": 25,
    "start_time": "2021-12-20T10:11:42.248Z"
   },
   {
    "duration": 53,
    "start_time": "2021-12-20T10:11:42.275Z"
   },
   {
    "duration": 10,
    "start_time": "2021-12-20T10:11:42.331Z"
   },
   {
    "duration": 14,
    "start_time": "2021-12-20T10:11:42.343Z"
   },
   {
    "duration": 11,
    "start_time": "2021-12-20T10:11:42.360Z"
   },
   {
    "duration": 12,
    "start_time": "2021-12-20T10:11:42.373Z"
   },
   {
    "duration": 21,
    "start_time": "2021-12-20T10:11:42.419Z"
   },
   {
    "duration": 23,
    "start_time": "2021-12-20T10:11:42.443Z"
   },
   {
    "duration": 50,
    "start_time": "2021-12-20T10:11:42.468Z"
   },
   {
    "duration": 29,
    "start_time": "2021-12-20T10:11:42.520Z"
   },
   {
    "duration": 10,
    "start_time": "2021-12-20T10:11:42.551Z"
   },
   {
    "duration": 14,
    "start_time": "2021-12-20T10:11:42.564Z"
   },
   {
    "duration": 39,
    "start_time": "2021-12-20T10:11:42.581Z"
   },
   {
    "duration": 8,
    "start_time": "2021-12-20T10:11:42.622Z"
   },
   {
    "duration": 17,
    "start_time": "2021-12-20T10:11:42.632Z"
   },
   {
    "duration": 18,
    "start_time": "2021-12-20T10:11:42.651Z"
   },
   {
    "duration": 10,
    "start_time": "2021-12-20T10:11:42.672Z"
   },
   {
    "duration": 43,
    "start_time": "2021-12-20T10:11:42.685Z"
   },
   {
    "duration": 9,
    "start_time": "2021-12-20T10:11:42.730Z"
   },
   {
    "duration": 18,
    "start_time": "2021-12-20T10:11:42.741Z"
   },
   {
    "duration": 1500,
    "start_time": "2021-12-20T10:12:30.491Z"
   },
   {
    "duration": 3,
    "start_time": "2021-12-20T10:12:31.994Z"
   },
   {
    "duration": 540,
    "start_time": "2021-12-20T10:12:32.001Z"
   },
   {
    "duration": 15,
    "start_time": "2021-12-20T10:12:32.544Z"
   },
   {
    "duration": 30,
    "start_time": "2021-12-20T10:12:32.562Z"
   },
   {
    "duration": 52,
    "start_time": "2021-12-20T10:12:32.594Z"
   },
   {
    "duration": 34,
    "start_time": "2021-12-20T10:12:32.648Z"
   },
   {
    "duration": 51,
    "start_time": "2021-12-20T10:12:32.686Z"
   },
   {
    "duration": 6,
    "start_time": "2021-12-20T10:12:32.741Z"
   },
   {
    "duration": 20,
    "start_time": "2021-12-20T10:12:32.750Z"
   },
   {
    "duration": 55,
    "start_time": "2021-12-20T10:12:32.773Z"
   },
   {
    "duration": 34,
    "start_time": "2021-12-20T10:12:32.831Z"
   },
   {
    "duration": 13,
    "start_time": "2021-12-20T10:12:32.868Z"
   },
   {
    "duration": 43,
    "start_time": "2021-12-20T10:12:32.884Z"
   },
   {
    "duration": 25,
    "start_time": "2021-12-20T10:12:32.929Z"
   },
   {
    "duration": 29,
    "start_time": "2021-12-20T10:12:32.956Z"
   },
   {
    "duration": 52,
    "start_time": "2021-12-20T10:12:32.987Z"
   },
   {
    "duration": 28,
    "start_time": "2021-12-20T10:12:33.041Z"
   },
   {
    "duration": 10,
    "start_time": "2021-12-20T10:12:33.071Z"
   },
   {
    "duration": 40,
    "start_time": "2021-12-20T10:12:33.083Z"
   },
   {
    "duration": 11,
    "start_time": "2021-12-20T10:12:33.125Z"
   },
   {
    "duration": 14,
    "start_time": "2021-12-20T10:12:33.139Z"
   },
   {
    "duration": 21,
    "start_time": "2021-12-20T10:12:33.158Z"
   },
   {
    "duration": 57,
    "start_time": "2021-12-20T10:12:33.182Z"
   },
   {
    "duration": 21,
    "start_time": "2021-12-20T10:12:33.242Z"
   },
   {
    "duration": 52,
    "start_time": "2021-12-20T10:12:33.265Z"
   },
   {
    "duration": 9,
    "start_time": "2021-12-20T10:12:33.320Z"
   },
   {
    "duration": 19,
    "start_time": "2021-12-20T10:12:33.332Z"
   },
   {
    "duration": 15,
    "start_time": "2021-12-20T10:12:33.354Z"
   },
   {
    "duration": 10,
    "start_time": "2021-12-20T10:12:33.371Z"
   },
   {
    "duration": 36,
    "start_time": "2021-12-20T10:12:33.383Z"
   },
   {
    "duration": 17,
    "start_time": "2021-12-20T10:12:33.421Z"
   },
   {
    "duration": 13,
    "start_time": "2021-12-20T10:12:33.441Z"
   },
   {
    "duration": 19,
    "start_time": "2021-12-20T10:12:33.456Z"
   },
   {
    "duration": 5,
    "start_time": "2021-12-20T10:12:33.478Z"
   },
   {
    "duration": 20,
    "start_time": "2021-12-20T10:12:33.518Z"
   },
   {
    "duration": 4,
    "start_time": "2021-12-20T10:18:07.255Z"
   },
   {
    "duration": 11,
    "start_time": "2021-12-20T10:18:09.971Z"
   },
   {
    "duration": 6,
    "start_time": "2021-12-20T10:20:24.130Z"
   },
   {
    "duration": 10,
    "start_time": "2021-12-20T10:20:26.953Z"
   },
   {
    "duration": 13,
    "start_time": "2021-12-20T10:22:29.017Z"
   },
   {
    "duration": 13,
    "start_time": "2021-12-20T10:22:46.234Z"
   },
   {
    "duration": 11,
    "start_time": "2021-12-20T10:24:09.801Z"
   },
   {
    "duration": 6,
    "start_time": "2021-12-20T10:25:45.520Z"
   },
   {
    "duration": 6,
    "start_time": "2021-12-20T10:27:31.280Z"
   },
   {
    "duration": 9,
    "start_time": "2021-12-20T10:29:06.530Z"
   },
   {
    "duration": 9,
    "start_time": "2021-12-20T10:29:19.702Z"
   },
   {
    "duration": 389,
    "start_time": "2021-12-20T10:51:31.011Z"
   },
   {
    "duration": 278,
    "start_time": "2021-12-20T10:52:13.038Z"
   },
   {
    "duration": 263,
    "start_time": "2021-12-20T10:55:57.354Z"
   },
   {
    "duration": 258,
    "start_time": "2021-12-20T10:56:12.232Z"
   },
   {
    "duration": 11,
    "start_time": "2021-12-20T11:01:25.456Z"
   },
   {
    "duration": 6,
    "start_time": "2021-12-20T11:01:44.551Z"
   },
   {
    "duration": 411,
    "start_time": "2021-12-20T11:02:16.919Z"
   },
   {
    "duration": 250,
    "start_time": "2021-12-20T11:09:41.268Z"
   },
   {
    "duration": 1537,
    "start_time": "2021-12-20T11:09:54.229Z"
   },
   {
    "duration": 3,
    "start_time": "2021-12-20T11:09:55.769Z"
   },
   {
    "duration": 535,
    "start_time": "2021-12-20T11:09:55.777Z"
   },
   {
    "duration": 19,
    "start_time": "2021-12-20T11:09:56.315Z"
   },
   {
    "duration": 27,
    "start_time": "2021-12-20T11:09:56.336Z"
   },
   {
    "duration": 67,
    "start_time": "2021-12-20T11:09:56.366Z"
   },
   {
    "duration": 33,
    "start_time": "2021-12-20T11:09:56.435Z"
   },
   {
    "duration": 28,
    "start_time": "2021-12-20T11:09:56.470Z"
   },
   {
    "duration": 6,
    "start_time": "2021-12-20T11:09:56.521Z"
   },
   {
    "duration": 14,
    "start_time": "2021-12-20T11:09:56.531Z"
   },
   {
    "duration": 28,
    "start_time": "2021-12-20T11:09:56.547Z"
   },
   {
    "duration": 33,
    "start_time": "2021-12-20T11:09:56.618Z"
   },
   {
    "duration": 4,
    "start_time": "2021-12-20T11:09:56.653Z"
   },
   {
    "duration": 19,
    "start_time": "2021-12-20T11:09:56.659Z"
   },
   {
    "duration": 39,
    "start_time": "2021-12-20T11:09:56.680Z"
   },
   {
    "duration": 24,
    "start_time": "2021-12-20T11:09:56.721Z"
   },
   {
    "duration": 35,
    "start_time": "2021-12-20T11:09:56.748Z"
   },
   {
    "duration": 46,
    "start_time": "2021-12-20T11:09:56.786Z"
   },
   {
    "duration": 32,
    "start_time": "2021-12-20T11:09:56.835Z"
   },
   {
    "duration": 11,
    "start_time": "2021-12-20T11:09:56.870Z"
   },
   {
    "duration": 40,
    "start_time": "2021-12-20T11:09:56.884Z"
   },
   {
    "duration": 13,
    "start_time": "2021-12-20T11:09:56.927Z"
   },
   {
    "duration": 19,
    "start_time": "2021-12-20T11:09:56.942Z"
   },
   {
    "duration": 54,
    "start_time": "2021-12-20T11:09:56.964Z"
   },
   {
    "duration": 25,
    "start_time": "2021-12-20T11:09:57.021Z"
   },
   {
    "duration": 24,
    "start_time": "2021-12-20T11:09:57.049Z"
   },
   {
    "duration": 54,
    "start_time": "2021-12-20T11:09:57.081Z"
   },
   {
    "duration": 5,
    "start_time": "2021-12-20T11:09:57.138Z"
   },
   {
    "duration": 15,
    "start_time": "2021-12-20T11:09:57.146Z"
   },
   {
    "duration": 25,
    "start_time": "2021-12-20T11:09:57.163Z"
   },
   {
    "duration": 33,
    "start_time": "2021-12-20T11:09:57.191Z"
   },
   {
    "duration": 12,
    "start_time": "2021-12-20T11:09:57.227Z"
   },
   {
    "duration": 16,
    "start_time": "2021-12-20T11:09:57.242Z"
   },
   {
    "duration": 20,
    "start_time": "2021-12-20T11:09:57.260Z"
   },
   {
    "duration": 13,
    "start_time": "2021-12-20T11:09:57.282Z"
   },
   {
    "duration": 30,
    "start_time": "2021-12-20T11:09:57.297Z"
   },
   {
    "duration": 10,
    "start_time": "2021-12-20T11:09:57.329Z"
   },
   {
    "duration": 14,
    "start_time": "2021-12-20T11:09:57.341Z"
   },
   {
    "duration": 5,
    "start_time": "2021-12-20T11:09:57.357Z"
   },
   {
    "duration": 52,
    "start_time": "2021-12-20T11:09:57.364Z"
   },
   {
    "duration": 15,
    "start_time": "2021-12-20T11:09:57.419Z"
   },
   {
    "duration": 9,
    "start_time": "2021-12-20T11:09:57.436Z"
   },
   {
    "duration": 9,
    "start_time": "2021-12-20T11:09:57.447Z"
   },
   {
    "duration": 12,
    "start_time": "2021-12-20T11:09:57.458Z"
   },
   {
    "duration": 54,
    "start_time": "2021-12-20T11:09:57.473Z"
   },
   {
    "duration": 22,
    "start_time": "2021-12-20T11:09:57.530Z"
   },
   {
    "duration": 378,
    "start_time": "2021-12-20T11:26:15.468Z"
   },
   {
    "duration": 1450,
    "start_time": "2021-12-20T15:12:34.325Z"
   },
   {
    "duration": 3,
    "start_time": "2021-12-20T15:12:35.778Z"
   },
   {
    "duration": 1576,
    "start_time": "2021-12-20T15:12:35.783Z"
   },
   {
    "duration": 432,
    "start_time": "2021-12-20T15:12:37.363Z"
   },
   {
    "duration": 1124,
    "start_time": "2021-12-20T15:12:37.797Z"
   },
   {
    "duration": 1150,
    "start_time": "2021-12-20T15:12:38.923Z"
   },
   {
    "duration": 746,
    "start_time": "2021-12-20T15:12:40.076Z"
   },
   {
    "duration": 998,
    "start_time": "2021-12-20T15:12:40.828Z"
   },
   {
    "duration": 563,
    "start_time": "2021-12-20T15:12:41.829Z"
   },
   {
    "duration": 915,
    "start_time": "2021-12-20T15:12:42.395Z"
   },
   {
    "duration": 1029,
    "start_time": "2021-12-20T15:12:43.312Z"
   },
   {
    "duration": 868,
    "start_time": "2021-12-20T15:12:44.343Z"
   },
   {
    "duration": 312,
    "start_time": "2021-12-20T15:12:45.213Z"
   },
   {
    "duration": 759,
    "start_time": "2021-12-20T15:12:45.528Z"
   },
   {
    "duration": 1302,
    "start_time": "2021-12-20T15:12:46.290Z"
   },
   {
    "duration": 901,
    "start_time": "2021-12-20T15:12:47.594Z"
   },
   {
    "duration": 648,
    "start_time": "2021-12-20T15:12:48.497Z"
   },
   {
    "duration": 474,
    "start_time": "2021-12-20T15:12:49.147Z"
   },
   {
    "duration": 359,
    "start_time": "2021-12-20T15:12:49.624Z"
   },
   {
    "duration": 231,
    "start_time": "2021-12-20T15:12:49.985Z"
   },
   {
    "duration": 421,
    "start_time": "2021-12-20T15:12:50.218Z"
   },
   {
    "duration": 246,
    "start_time": "2021-12-20T15:12:50.642Z"
   },
   {
    "duration": 241,
    "start_time": "2021-12-20T15:12:50.896Z"
   },
   {
    "duration": 231,
    "start_time": "2021-12-20T15:12:51.140Z"
   },
   {
    "duration": 291,
    "start_time": "2021-12-20T15:12:51.373Z"
   },
   {
    "duration": 250,
    "start_time": "2021-12-20T15:12:51.668Z"
   },
   {
    "duration": 577,
    "start_time": "2021-12-20T15:12:51.921Z"
   },
   {
    "duration": 343,
    "start_time": "2021-12-20T15:12:52.500Z"
   },
   {
    "duration": 312,
    "start_time": "2021-12-20T15:12:52.845Z"
   },
   {
    "duration": 460,
    "start_time": "2021-12-20T15:12:53.159Z"
   },
   {
    "duration": 289,
    "start_time": "2021-12-20T15:12:53.621Z"
   },
   {
    "duration": 692,
    "start_time": "2021-12-20T15:12:53.912Z"
   },
   {
    "duration": 400,
    "start_time": "2021-12-20T15:12:54.606Z"
   },
   {
    "duration": 500,
    "start_time": "2021-12-20T15:12:55.008Z"
   },
   {
    "duration": 568,
    "start_time": "2021-12-20T15:12:55.510Z"
   },
   {
    "duration": 586,
    "start_time": "2021-12-20T15:12:56.081Z"
   },
   {
    "duration": 714,
    "start_time": "2021-12-20T15:12:56.670Z"
   },
   {
    "duration": 386,
    "start_time": "2021-12-20T15:12:57.387Z"
   },
   {
    "duration": 609,
    "start_time": "2021-12-20T15:12:57.776Z"
   },
   {
    "duration": 577,
    "start_time": "2021-12-20T15:12:58.388Z"
   },
   {
    "duration": 569,
    "start_time": "2021-12-20T15:12:58.967Z"
   },
   {
    "duration": 432,
    "start_time": "2021-12-20T15:12:59.538Z"
   },
   {
    "duration": 452,
    "start_time": "2021-12-20T15:12:59.973Z"
   },
   {
    "duration": 380,
    "start_time": "2021-12-20T15:13:00.427Z"
   },
   {
    "duration": 672,
    "start_time": "2021-12-20T15:13:00.810Z"
   },
   {
    "duration": 471,
    "start_time": "2021-12-20T15:13:01.484Z"
   },
   {
    "duration": 623,
    "start_time": "2021-12-20T15:18:05.041Z"
   },
   {
    "duration": 14,
    "start_time": "2021-12-20T15:18:42.304Z"
   },
   {
    "duration": 38,
    "start_time": "2021-12-20T15:18:55.175Z"
   },
   {
    "duration": 1463,
    "start_time": "2021-12-20T15:19:14.244Z"
   },
   {
    "duration": 4,
    "start_time": "2021-12-20T15:19:15.710Z"
   },
   {
    "duration": 848,
    "start_time": "2021-12-20T15:19:15.717Z"
   },
   {
    "duration": 18,
    "start_time": "2021-12-20T15:19:16.568Z"
   },
   {
    "duration": 295,
    "start_time": "2021-12-20T15:19:16.589Z"
   },
   {
    "duration": 543,
    "start_time": "2021-12-20T15:19:16.887Z"
   },
   {
    "duration": 282,
    "start_time": "2021-12-20T15:19:17.432Z"
   },
   {
    "duration": 269,
    "start_time": "2021-12-20T15:19:17.719Z"
   },
   {
    "duration": 262,
    "start_time": "2021-12-20T15:19:17.991Z"
   },
   {
    "duration": 425,
    "start_time": "2021-12-20T15:19:18.256Z"
   },
   {
    "duration": 324,
    "start_time": "2021-12-20T15:19:18.684Z"
   },
   {
    "duration": 318,
    "start_time": "2021-12-20T15:19:19.011Z"
   },
   {
    "duration": 196,
    "start_time": "2021-12-20T15:19:19.332Z"
   },
   {
    "duration": 226,
    "start_time": "2021-12-20T15:19:19.530Z"
   },
   {
    "duration": 257,
    "start_time": "2021-12-20T15:19:19.759Z"
   },
   {
    "duration": 290,
    "start_time": "2021-12-20T15:19:20.019Z"
   },
   {
    "duration": 291,
    "start_time": "2021-12-20T15:19:20.311Z"
   },
   {
    "duration": 289,
    "start_time": "2021-12-20T15:19:20.605Z"
   },
   {
    "duration": 353,
    "start_time": "2021-12-20T15:19:20.897Z"
   },
   {
    "duration": 242,
    "start_time": "2021-12-20T15:19:21.253Z"
   },
   {
    "duration": 345,
    "start_time": "2021-12-20T15:19:21.498Z"
   },
   {
    "duration": 283,
    "start_time": "2021-12-20T15:19:21.846Z"
   },
   {
    "duration": 360,
    "start_time": "2021-12-20T15:19:22.135Z"
   },
   {
    "duration": 591,
    "start_time": "2021-12-20T15:19:22.498Z"
   },
   {
    "duration": 478,
    "start_time": "2021-12-20T15:19:23.092Z"
   },
   {
    "duration": 400,
    "start_time": "2021-12-20T15:19:23.573Z"
   },
   {
    "duration": 332,
    "start_time": "2021-12-20T15:19:23.976Z"
   },
   {
    "duration": 244,
    "start_time": "2021-12-20T15:19:24.310Z"
   },
   {
    "duration": 213,
    "start_time": "2021-12-20T15:19:24.557Z"
   },
   {
    "duration": 297,
    "start_time": "2021-12-20T15:19:24.772Z"
   },
   {
    "duration": 344,
    "start_time": "2021-12-20T15:19:25.072Z"
   },
   {
    "duration": 328,
    "start_time": "2021-12-20T15:19:25.419Z"
   },
   {
    "duration": 274,
    "start_time": "2021-12-20T15:19:25.749Z"
   },
   {
    "duration": 299,
    "start_time": "2021-12-20T15:19:26.026Z"
   },
   {
    "duration": 232,
    "start_time": "2021-12-20T15:19:26.329Z"
   },
   {
    "duration": 811,
    "start_time": "2021-12-20T15:19:26.564Z"
   },
   {
    "duration": 763,
    "start_time": "2021-12-20T15:19:27.378Z"
   },
   {
    "duration": 396,
    "start_time": "2021-12-20T15:19:28.144Z"
   },
   {
    "duration": 257,
    "start_time": "2021-12-20T15:19:28.543Z"
   },
   {
    "duration": 316,
    "start_time": "2021-12-20T15:19:28.802Z"
   },
   {
    "duration": 192,
    "start_time": "2021-12-20T15:19:29.120Z"
   },
   {
    "duration": 245,
    "start_time": "2021-12-20T15:19:29.315Z"
   },
   {
    "duration": 363,
    "start_time": "2021-12-20T15:19:29.564Z"
   },
   {
    "duration": 565,
    "start_time": "2021-12-20T15:19:29.929Z"
   },
   {
    "duration": 342,
    "start_time": "2021-12-20T15:19:30.497Z"
   },
   {
    "duration": 348,
    "start_time": "2021-12-20T15:19:30.842Z"
   },
   {
    "duration": 324,
    "start_time": "2021-12-20T15:19:31.192Z"
   },
   {
    "duration": 396,
    "start_time": "2021-12-20T15:19:31.518Z"
   },
   {
    "duration": 26,
    "start_time": "2021-12-20T15:32:14.500Z"
   },
   {
    "duration": 25,
    "start_time": "2021-12-20T15:32:40.755Z"
   },
   {
    "duration": 1952,
    "start_time": "2021-12-20T15:33:17.104Z"
   },
   {
    "duration": 7,
    "start_time": "2021-12-20T15:33:19.060Z"
   },
   {
    "duration": 826,
    "start_time": "2021-12-20T15:33:19.070Z"
   },
   {
    "duration": 16,
    "start_time": "2021-12-20T15:33:19.899Z"
   },
   {
    "duration": 277,
    "start_time": "2021-12-20T15:33:19.918Z"
   },
   {
    "duration": 204,
    "start_time": "2021-12-20T15:33:20.197Z"
   },
   {
    "duration": 142,
    "start_time": "2021-12-20T15:33:20.404Z"
   },
   {
    "duration": 80,
    "start_time": "2021-12-20T15:33:20.550Z"
   },
   {
    "duration": 85,
    "start_time": "2021-12-20T15:33:20.634Z"
   },
   {
    "duration": 118,
    "start_time": "2021-12-20T15:33:20.721Z"
   },
   {
    "duration": 100,
    "start_time": "2021-12-20T15:33:20.841Z"
   },
   {
    "duration": 101,
    "start_time": "2021-12-20T15:33:20.943Z"
   },
   {
    "duration": 45,
    "start_time": "2021-12-20T15:33:21.047Z"
   },
   {
    "duration": 64,
    "start_time": "2021-12-20T15:33:21.095Z"
   },
   {
    "duration": 162,
    "start_time": "2021-12-20T15:33:21.162Z"
   },
   {
    "duration": 147,
    "start_time": "2021-12-20T15:33:21.326Z"
   },
   {
    "duration": 130,
    "start_time": "2021-12-20T15:33:21.476Z"
   },
   {
    "duration": 120,
    "start_time": "2021-12-20T15:33:21.609Z"
   },
   {
    "duration": 184,
    "start_time": "2021-12-20T15:33:21.732Z"
   },
   {
    "duration": 12,
    "start_time": "2021-12-20T15:33:21.918Z"
   },
   {
    "duration": 123,
    "start_time": "2021-12-20T15:33:21.933Z"
   },
   {
    "duration": 65,
    "start_time": "2021-12-20T15:33:22.058Z"
   },
   {
    "duration": 284,
    "start_time": "2021-12-20T15:33:22.131Z"
   },
   {
    "duration": 272,
    "start_time": "2021-12-20T15:33:22.418Z"
   },
   {
    "duration": 262,
    "start_time": "2021-12-20T15:33:22.692Z"
   },
   {
    "duration": 79,
    "start_time": "2021-12-20T15:33:22.956Z"
   },
   {
    "duration": 140,
    "start_time": "2021-12-20T15:33:23.039Z"
   },
   {
    "duration": 111,
    "start_time": "2021-12-20T15:33:23.182Z"
   },
   {
    "duration": 91,
    "start_time": "2021-12-20T15:33:23.296Z"
   },
   {
    "duration": 100,
    "start_time": "2021-12-20T15:33:23.389Z"
   },
   {
    "duration": 58,
    "start_time": "2021-12-20T15:33:23.492Z"
   },
   {
    "duration": 62,
    "start_time": "2021-12-20T15:33:23.553Z"
   },
   {
    "duration": 207,
    "start_time": "2021-12-20T15:33:23.620Z"
   },
   {
    "duration": 106,
    "start_time": "2021-12-20T15:33:23.830Z"
   },
   {
    "duration": 152,
    "start_time": "2021-12-20T15:33:23.938Z"
   },
   {
    "duration": 75,
    "start_time": "2021-12-20T15:33:24.093Z"
   },
   {
    "duration": 314,
    "start_time": "2021-12-20T15:33:24.172Z"
   },
   {
    "duration": 134,
    "start_time": "2021-12-20T15:33:24.488Z"
   },
   {
    "duration": 112,
    "start_time": "2021-12-20T15:33:24.624Z"
   },
   {
    "duration": 88,
    "start_time": "2021-12-20T15:33:24.738Z"
   },
   {
    "duration": 99,
    "start_time": "2021-12-20T15:33:24.829Z"
   },
   {
    "duration": 179,
    "start_time": "2021-12-20T15:33:24.931Z"
   },
   {
    "duration": 167,
    "start_time": "2021-12-20T15:33:25.112Z"
   },
   {
    "duration": 159,
    "start_time": "2021-12-20T15:33:25.282Z"
   },
   {
    "duration": 73,
    "start_time": "2021-12-20T15:33:25.444Z"
   },
   {
    "duration": 134,
    "start_time": "2021-12-20T15:33:25.519Z"
   },
   {
    "duration": 66,
    "start_time": "2021-12-20T15:33:25.655Z"
   },
   {
    "duration": 368,
    "start_time": "2021-12-20T15:33:25.724Z"
   },
   {
    "duration": 189,
    "start_time": "2021-12-20T15:33:26.094Z"
   },
   {
    "duration": 13,
    "start_time": "2021-12-20T15:33:40.703Z"
   },
   {
    "duration": 444,
    "start_time": "2021-12-20T15:49:34.138Z"
   },
   {
    "duration": 300,
    "start_time": "2021-12-20T15:51:10.970Z"
   },
   {
    "duration": 714,
    "start_time": "2021-12-20T15:52:49.096Z"
   },
   {
    "duration": 343,
    "start_time": "2021-12-20T15:53:02.237Z"
   },
   {
    "duration": 284,
    "start_time": "2021-12-20T15:53:43.381Z"
   },
   {
    "duration": 294,
    "start_time": "2021-12-20T15:54:05.473Z"
   },
   {
    "duration": 18,
    "start_time": "2021-12-20T15:54:29.274Z"
   },
   {
    "duration": 53,
    "start_time": "2021-12-20T15:54:35.267Z"
   },
   {
    "duration": 1450,
    "start_time": "2021-12-20T15:54:51.169Z"
   },
   {
    "duration": 4,
    "start_time": "2021-12-20T15:54:52.621Z"
   },
   {
    "duration": 802,
    "start_time": "2021-12-20T15:54:52.629Z"
   },
   {
    "duration": 17,
    "start_time": "2021-12-20T15:54:53.434Z"
   },
   {
    "duration": 316,
    "start_time": "2021-12-20T15:54:53.454Z"
   },
   {
    "duration": 288,
    "start_time": "2021-12-20T15:54:53.773Z"
   },
   {
    "duration": 288,
    "start_time": "2021-12-20T15:54:54.064Z"
   },
   {
    "duration": 224,
    "start_time": "2021-12-20T15:54:54.356Z"
   },
   {
    "duration": 185,
    "start_time": "2021-12-20T15:54:54.584Z"
   },
   {
    "duration": 228,
    "start_time": "2021-12-20T15:54:54.772Z"
   },
   {
    "duration": 315,
    "start_time": "2021-12-20T15:54:55.003Z"
   },
   {
    "duration": 210,
    "start_time": "2021-12-20T15:54:55.321Z"
   },
   {
    "duration": 189,
    "start_time": "2021-12-20T15:54:55.534Z"
   },
   {
    "duration": 301,
    "start_time": "2021-12-20T15:54:55.726Z"
   },
   {
    "duration": 171,
    "start_time": "2021-12-20T15:54:56.029Z"
   },
   {
    "duration": 207,
    "start_time": "2021-12-20T15:54:56.202Z"
   },
   {
    "duration": 206,
    "start_time": "2021-12-20T15:54:56.411Z"
   },
   {
    "duration": 302,
    "start_time": "2021-12-20T15:54:56.620Z"
   },
   {
    "duration": 284,
    "start_time": "2021-12-20T15:54:56.924Z"
   },
   {
    "duration": 298,
    "start_time": "2021-12-20T15:54:57.214Z"
   },
   {
    "duration": 405,
    "start_time": "2021-12-20T15:54:57.515Z"
   },
   {
    "duration": 281,
    "start_time": "2021-12-20T15:54:57.923Z"
   },
   {
    "duration": 337,
    "start_time": "2021-12-20T15:54:58.206Z"
   },
   {
    "duration": 353,
    "start_time": "2021-12-20T15:54:58.546Z"
   },
   {
    "duration": 171,
    "start_time": "2021-12-20T15:54:58.902Z"
   },
   {
    "duration": 240,
    "start_time": "2021-12-20T15:54:59.075Z"
   },
   {
    "duration": 315,
    "start_time": "2021-12-20T15:54:59.321Z"
   },
   {
    "duration": 301,
    "start_time": "2021-12-20T15:54:59.639Z"
   },
   {
    "duration": 312,
    "start_time": "2021-12-20T15:54:59.943Z"
   },
   {
    "duration": 321,
    "start_time": "2021-12-20T15:55:00.258Z"
   },
   {
    "duration": 384,
    "start_time": "2021-12-20T15:55:00.581Z"
   },
   {
    "duration": 326,
    "start_time": "2021-12-20T15:55:00.967Z"
   },
   {
    "duration": 375,
    "start_time": "2021-12-20T15:55:01.296Z"
   },
   {
    "duration": 331,
    "start_time": "2021-12-20T15:55:01.675Z"
   },
   {
    "duration": 283,
    "start_time": "2021-12-20T15:55:02.008Z"
   },
   {
    "duration": 330,
    "start_time": "2021-12-20T15:55:02.294Z"
   },
   {
    "duration": 326,
    "start_time": "2021-12-20T15:55:02.627Z"
   },
   {
    "duration": 326,
    "start_time": "2021-12-20T15:55:02.956Z"
   },
   {
    "duration": 265,
    "start_time": "2021-12-20T15:55:03.285Z"
   },
   {
    "duration": 228,
    "start_time": "2021-12-20T15:55:03.553Z"
   },
   {
    "duration": 231,
    "start_time": "2021-12-20T15:55:03.784Z"
   },
   {
    "duration": 331,
    "start_time": "2021-12-20T15:55:04.019Z"
   },
   {
    "duration": 300,
    "start_time": "2021-12-20T15:55:04.353Z"
   },
   {
    "duration": 228,
    "start_time": "2021-12-20T15:55:04.656Z"
   },
   {
    "duration": 202,
    "start_time": "2021-12-20T15:55:04.887Z"
   },
   {
    "duration": 221,
    "start_time": "2021-12-20T15:55:05.091Z"
   },
   {
    "duration": 228,
    "start_time": "2021-12-20T15:55:05.314Z"
   },
   {
    "duration": 255,
    "start_time": "2021-12-20T15:55:05.544Z"
   },
   {
    "duration": 199,
    "start_time": "2021-12-20T15:55:05.802Z"
   },
   {
    "duration": 213,
    "start_time": "2021-12-20T15:55:06.004Z"
   },
   {
    "duration": 138,
    "start_time": "2021-12-20T15:57:52.941Z"
   },
   {
    "duration": 434,
    "start_time": "2021-12-20T15:58:02.676Z"
   },
   {
    "duration": 292,
    "start_time": "2021-12-20T16:23:45.454Z"
   },
   {
    "duration": 12,
    "start_time": "2021-12-20T16:24:04.140Z"
   },
   {
    "duration": 36,
    "start_time": "2021-12-20T16:24:09.893Z"
   },
   {
    "duration": 17,
    "start_time": "2021-12-20T16:24:39.859Z"
   },
   {
    "duration": 37,
    "start_time": "2021-12-20T16:24:42.275Z"
   },
   {
    "duration": 17,
    "start_time": "2021-12-20T16:24:59.956Z"
   },
   {
    "duration": 39,
    "start_time": "2021-12-20T16:25:05.411Z"
   },
   {
    "duration": 1466,
    "start_time": "2021-12-20T16:25:15.196Z"
   },
   {
    "duration": 3,
    "start_time": "2021-12-20T16:25:16.665Z"
   },
   {
    "duration": 828,
    "start_time": "2021-12-20T16:25:16.671Z"
   },
   {
    "duration": 17,
    "start_time": "2021-12-20T16:25:17.502Z"
   },
   {
    "duration": 240,
    "start_time": "2021-12-20T16:25:17.523Z"
   },
   {
    "duration": 224,
    "start_time": "2021-12-20T16:25:17.767Z"
   },
   {
    "duration": 189,
    "start_time": "2021-12-20T16:25:17.994Z"
   },
   {
    "duration": 248,
    "start_time": "2021-12-20T16:25:18.189Z"
   },
   {
    "duration": 229,
    "start_time": "2021-12-20T16:25:18.442Z"
   },
   {
    "duration": 213,
    "start_time": "2021-12-20T16:25:18.674Z"
   },
   {
    "duration": 327,
    "start_time": "2021-12-20T16:25:18.890Z"
   },
   {
    "duration": 304,
    "start_time": "2021-12-20T16:25:19.220Z"
   },
   {
    "duration": 248,
    "start_time": "2021-12-20T16:25:19.528Z"
   },
   {
    "duration": 288,
    "start_time": "2021-12-20T16:25:19.780Z"
   },
   {
    "duration": 293,
    "start_time": "2021-12-20T16:25:20.071Z"
   },
   {
    "duration": 268,
    "start_time": "2021-12-20T16:25:20.368Z"
   },
   {
    "duration": 283,
    "start_time": "2021-12-20T16:25:20.639Z"
   },
   {
    "duration": 273,
    "start_time": "2021-12-20T16:25:20.925Z"
   },
   {
    "duration": 267,
    "start_time": "2021-12-20T16:25:21.201Z"
   },
   {
    "duration": 187,
    "start_time": "2021-12-20T16:25:21.471Z"
   },
   {
    "duration": 246,
    "start_time": "2021-12-20T16:25:21.661Z"
   },
   {
    "duration": 291,
    "start_time": "2021-12-20T16:25:21.910Z"
   },
   {
    "duration": 285,
    "start_time": "2021-12-20T16:25:22.211Z"
   },
   {
    "duration": 399,
    "start_time": "2021-12-20T16:25:22.499Z"
   },
   {
    "duration": 220,
    "start_time": "2021-12-20T16:25:22.900Z"
   },
   {
    "duration": 216,
    "start_time": "2021-12-20T16:25:23.124Z"
   },
   {
    "duration": 200,
    "start_time": "2021-12-20T16:25:23.344Z"
   },
   {
    "duration": 186,
    "start_time": "2021-12-20T16:25:23.547Z"
   },
   {
    "duration": 211,
    "start_time": "2021-12-20T16:25:23.737Z"
   },
   {
    "duration": 216,
    "start_time": "2021-12-20T16:25:23.951Z"
   },
   {
    "duration": 226,
    "start_time": "2021-12-20T16:25:24.170Z"
   },
   {
    "duration": 190,
    "start_time": "2021-12-20T16:25:24.398Z"
   },
   {
    "duration": 292,
    "start_time": "2021-12-20T16:25:24.591Z"
   },
   {
    "duration": 291,
    "start_time": "2021-12-20T16:25:24.887Z"
   },
   {
    "duration": 248,
    "start_time": "2021-12-20T16:25:25.181Z"
   },
   {
    "duration": 256,
    "start_time": "2021-12-20T16:25:25.433Z"
   },
   {
    "duration": 347,
    "start_time": "2021-12-20T16:25:25.692Z"
   },
   {
    "duration": 268,
    "start_time": "2021-12-20T16:25:26.042Z"
   },
   {
    "duration": 210,
    "start_time": "2021-12-20T16:25:26.313Z"
   },
   {
    "duration": 275,
    "start_time": "2021-12-20T16:25:26.527Z"
   },
   {
    "duration": 203,
    "start_time": "2021-12-20T16:25:26.805Z"
   },
   {
    "duration": 283,
    "start_time": "2021-12-20T16:25:27.012Z"
   },
   {
    "duration": 204,
    "start_time": "2021-12-20T16:25:27.297Z"
   },
   {
    "duration": 217,
    "start_time": "2021-12-20T16:25:27.503Z"
   },
   {
    "duration": 203,
    "start_time": "2021-12-20T16:25:27.723Z"
   },
   {
    "duration": 169,
    "start_time": "2021-12-20T16:25:27.929Z"
   },
   {
    "duration": 203,
    "start_time": "2021-12-20T16:25:28.101Z"
   },
   {
    "duration": 216,
    "start_time": "2021-12-20T16:25:28.307Z"
   },
   {
    "duration": 222,
    "start_time": "2021-12-20T16:25:28.526Z"
   },
   {
    "duration": 211,
    "start_time": "2021-12-20T16:25:28.751Z"
   },
   {
    "duration": 13,
    "start_time": "2021-12-20T16:26:13.846Z"
   },
   {
    "duration": 30,
    "start_time": "2021-12-20T16:27:18.789Z"
   },
   {
    "duration": 22,
    "start_time": "2021-12-20T16:27:33.190Z"
   },
   {
    "duration": 15,
    "start_time": "2021-12-20T16:28:09.003Z"
   },
   {
    "duration": 36,
    "start_time": "2021-12-20T16:28:14.509Z"
   },
   {
    "duration": 1527,
    "start_time": "2021-12-20T16:28:21.966Z"
   },
   {
    "duration": 4,
    "start_time": "2021-12-20T16:28:23.497Z"
   },
   {
    "duration": 1000,
    "start_time": "2021-12-20T16:28:23.504Z"
   },
   {
    "duration": 20,
    "start_time": "2021-12-20T16:28:24.509Z"
   },
   {
    "duration": 314,
    "start_time": "2021-12-20T16:28:24.532Z"
   },
   {
    "duration": 347,
    "start_time": "2021-12-20T16:28:24.849Z"
   },
   {
    "duration": 168,
    "start_time": "2021-12-20T16:28:25.199Z"
   },
   {
    "duration": 202,
    "start_time": "2021-12-20T16:28:25.374Z"
   },
   {
    "duration": 153,
    "start_time": "2021-12-20T16:28:25.581Z"
   },
   {
    "duration": 304,
    "start_time": "2021-12-20T16:28:25.738Z"
   },
   {
    "duration": 225,
    "start_time": "2021-12-20T16:28:26.044Z"
   },
   {
    "duration": 205,
    "start_time": "2021-12-20T16:28:26.272Z"
   },
   {
    "duration": 172,
    "start_time": "2021-12-20T16:28:26.480Z"
   },
   {
    "duration": 232,
    "start_time": "2021-12-20T16:28:26.654Z"
   },
   {
    "duration": 233,
    "start_time": "2021-12-20T16:28:26.889Z"
   },
   {
    "duration": 200,
    "start_time": "2021-12-20T16:28:27.124Z"
   },
   {
    "duration": 209,
    "start_time": "2021-12-20T16:28:27.327Z"
   },
   {
    "duration": 178,
    "start_time": "2021-12-20T16:28:27.538Z"
   },
   {
    "duration": 164,
    "start_time": "2021-12-20T16:28:27.719Z"
   },
   {
    "duration": 170,
    "start_time": "2021-12-20T16:28:27.885Z"
   },
   {
    "duration": 212,
    "start_time": "2021-12-20T16:28:28.058Z"
   },
   {
    "duration": 213,
    "start_time": "2021-12-20T16:28:28.273Z"
   },
   {
    "duration": 205,
    "start_time": "2021-12-20T16:28:28.492Z"
   },
   {
    "duration": 163,
    "start_time": "2021-12-20T16:28:28.700Z"
   },
   {
    "duration": 199,
    "start_time": "2021-12-20T16:28:28.866Z"
   },
   {
    "duration": 196,
    "start_time": "2021-12-20T16:28:29.069Z"
   },
   {
    "duration": 178,
    "start_time": "2021-12-20T16:28:29.267Z"
   },
   {
    "duration": 178,
    "start_time": "2021-12-20T16:28:29.447Z"
   },
   {
    "duration": 194,
    "start_time": "2021-12-20T16:28:29.628Z"
   },
   {
    "duration": 287,
    "start_time": "2021-12-20T16:28:29.824Z"
   },
   {
    "duration": 191,
    "start_time": "2021-12-20T16:28:30.114Z"
   },
   {
    "duration": 188,
    "start_time": "2021-12-20T16:28:30.308Z"
   },
   {
    "duration": 279,
    "start_time": "2021-12-20T16:28:30.498Z"
   },
   {
    "duration": 281,
    "start_time": "2021-12-20T16:28:30.780Z"
   },
   {
    "duration": 273,
    "start_time": "2021-12-20T16:28:31.064Z"
   },
   {
    "duration": 275,
    "start_time": "2021-12-20T16:28:31.339Z"
   },
   {
    "duration": 308,
    "start_time": "2021-12-20T16:28:31.617Z"
   },
   {
    "duration": 315,
    "start_time": "2021-12-20T16:28:31.927Z"
   },
   {
    "duration": 299,
    "start_time": "2021-12-20T16:28:32.244Z"
   },
   {
    "duration": 264,
    "start_time": "2021-12-20T16:28:32.546Z"
   },
   {
    "duration": 298,
    "start_time": "2021-12-20T16:28:32.814Z"
   },
   {
    "duration": 204,
    "start_time": "2021-12-20T16:28:33.114Z"
   },
   {
    "duration": 189,
    "start_time": "2021-12-20T16:28:33.321Z"
   },
   {
    "duration": 176,
    "start_time": "2021-12-20T16:28:33.513Z"
   },
   {
    "duration": 204,
    "start_time": "2021-12-20T16:28:33.692Z"
   },
   {
    "duration": 173,
    "start_time": "2021-12-20T16:28:33.899Z"
   },
   {
    "duration": 219,
    "start_time": "2021-12-20T16:28:34.075Z"
   },
   {
    "duration": 220,
    "start_time": "2021-12-20T16:28:34.296Z"
   },
   {
    "duration": 212,
    "start_time": "2021-12-20T16:28:34.519Z"
   },
   {
    "duration": 161,
    "start_time": "2021-12-20T16:28:34.734Z"
   },
   {
    "duration": 186,
    "start_time": "2021-12-20T16:28:34.898Z"
   },
   {
    "duration": 24,
    "start_time": "2021-12-20T16:28:38.214Z"
   },
   {
    "duration": 12,
    "start_time": "2021-12-20T16:28:41.261Z"
   },
   {
    "duration": 1924,
    "start_time": "2021-12-20T16:29:52.340Z"
   },
   {
    "duration": 3,
    "start_time": "2021-12-20T16:29:54.268Z"
   },
   {
    "duration": 894,
    "start_time": "2021-12-20T16:29:54.275Z"
   },
   {
    "duration": 20,
    "start_time": "2021-12-20T16:29:55.172Z"
   },
   {
    "duration": 333,
    "start_time": "2021-12-20T16:29:55.194Z"
   },
   {
    "duration": 231,
    "start_time": "2021-12-20T16:29:55.530Z"
   },
   {
    "duration": 178,
    "start_time": "2021-12-20T16:29:55.764Z"
   },
   {
    "duration": 155,
    "start_time": "2021-12-20T16:29:55.946Z"
   },
   {
    "duration": 267,
    "start_time": "2021-12-20T16:29:56.104Z"
   },
   {
    "duration": 356,
    "start_time": "2021-12-20T16:29:56.373Z"
   },
   {
    "duration": 188,
    "start_time": "2021-12-20T16:29:56.732Z"
   },
   {
    "duration": 325,
    "start_time": "2021-12-20T16:29:56.923Z"
   },
   {
    "duration": 241,
    "start_time": "2021-12-20T16:29:57.251Z"
   },
   {
    "duration": 326,
    "start_time": "2021-12-20T16:29:57.494Z"
   },
   {
    "duration": 179,
    "start_time": "2021-12-20T16:29:57.823Z"
   },
   {
    "duration": 173,
    "start_time": "2021-12-20T16:29:58.006Z"
   },
   {
    "duration": 238,
    "start_time": "2021-12-20T16:29:58.182Z"
   },
   {
    "duration": 170,
    "start_time": "2021-12-20T16:29:58.422Z"
   },
   {
    "duration": 231,
    "start_time": "2021-12-20T16:29:58.594Z"
   },
   {
    "duration": 172,
    "start_time": "2021-12-20T16:29:58.827Z"
   },
   {
    "duration": 211,
    "start_time": "2021-12-20T16:29:59.002Z"
   },
   {
    "duration": 191,
    "start_time": "2021-12-20T16:29:59.215Z"
   },
   {
    "duration": 229,
    "start_time": "2021-12-20T16:29:59.412Z"
   },
   {
    "duration": 213,
    "start_time": "2021-12-20T16:29:59.644Z"
   },
   {
    "duration": 237,
    "start_time": "2021-12-20T16:29:59.860Z"
   },
   {
    "duration": 185,
    "start_time": "2021-12-20T16:30:00.100Z"
   },
   {
    "duration": 179,
    "start_time": "2021-12-20T16:30:00.288Z"
   },
   {
    "duration": 158,
    "start_time": "2021-12-20T16:30:00.470Z"
   },
   {
    "duration": 287,
    "start_time": "2021-12-20T16:30:00.632Z"
   },
   {
    "duration": 287,
    "start_time": "2021-12-20T16:30:00.921Z"
   },
   {
    "duration": 211,
    "start_time": "2021-12-20T16:30:01.210Z"
   },
   {
    "duration": 269,
    "start_time": "2021-12-20T16:30:01.424Z"
   },
   {
    "duration": 325,
    "start_time": "2021-12-20T16:30:01.696Z"
   },
   {
    "duration": 251,
    "start_time": "2021-12-20T16:30:02.024Z"
   },
   {
    "duration": 227,
    "start_time": "2021-12-20T16:30:02.279Z"
   },
   {
    "duration": 302,
    "start_time": "2021-12-20T16:30:02.509Z"
   },
   {
    "duration": 274,
    "start_time": "2021-12-20T16:30:02.814Z"
   },
   {
    "duration": 334,
    "start_time": "2021-12-20T16:30:03.090Z"
   },
   {
    "duration": 277,
    "start_time": "2021-12-20T16:30:03.427Z"
   },
   {
    "duration": 265,
    "start_time": "2021-12-20T16:30:03.706Z"
   },
   {
    "duration": 289,
    "start_time": "2021-12-20T16:30:03.974Z"
   },
   {
    "duration": 175,
    "start_time": "2021-12-20T16:30:04.265Z"
   },
   {
    "duration": 182,
    "start_time": "2021-12-20T16:30:04.442Z"
   },
   {
    "duration": 163,
    "start_time": "2021-12-20T16:30:04.627Z"
   },
   {
    "duration": 177,
    "start_time": "2021-12-20T16:30:04.793Z"
   },
   {
    "duration": 158,
    "start_time": "2021-12-20T16:30:04.973Z"
   },
   {
    "duration": 168,
    "start_time": "2021-12-20T16:30:05.134Z"
   },
   {
    "duration": 288,
    "start_time": "2021-12-20T16:30:05.305Z"
   },
   {
    "duration": 251,
    "start_time": "2021-12-20T16:30:05.596Z"
   },
   {
    "duration": 257,
    "start_time": "2021-12-20T16:30:05.849Z"
   },
   {
    "duration": 214,
    "start_time": "2021-12-20T16:30:06.109Z"
   },
   {
    "duration": 13,
    "start_time": "2021-12-20T16:30:35.637Z"
   },
   {
    "duration": 38,
    "start_time": "2021-12-20T16:30:38.155Z"
   },
   {
    "duration": 14,
    "start_time": "2021-12-20T16:30:40.427Z"
   },
   {
    "duration": 1532,
    "start_time": "2021-12-20T16:30:50.742Z"
   },
   {
    "duration": 4,
    "start_time": "2021-12-20T16:30:52.278Z"
   },
   {
    "duration": 3172,
    "start_time": "2021-12-20T16:30:52.286Z"
   },
   {
    "duration": 17,
    "start_time": "2021-12-20T16:30:55.460Z"
   },
   {
    "duration": 190,
    "start_time": "2021-12-20T16:30:55.480Z"
   },
   {
    "duration": 208,
    "start_time": "2021-12-20T16:30:55.672Z"
   },
   {
    "duration": 452,
    "start_time": "2021-12-20T16:30:55.883Z"
   },
   {
    "duration": 354,
    "start_time": "2021-12-20T16:30:56.339Z"
   },
   {
    "duration": 235,
    "start_time": "2021-12-20T16:30:56.696Z"
   },
   {
    "duration": 227,
    "start_time": "2021-12-20T16:30:56.948Z"
   },
   {
    "duration": 196,
    "start_time": "2021-12-20T16:30:57.178Z"
   },
   {
    "duration": 155,
    "start_time": "2021-12-20T16:30:57.377Z"
   },
   {
    "duration": 147,
    "start_time": "2021-12-20T16:30:57.535Z"
   },
   {
    "duration": 273,
    "start_time": "2021-12-20T16:30:57.685Z"
   },
   {
    "duration": 269,
    "start_time": "2021-12-20T16:30:57.960Z"
   },
   {
    "duration": 233,
    "start_time": "2021-12-20T16:30:58.232Z"
   },
   {
    "duration": 290,
    "start_time": "2021-12-20T16:30:58.468Z"
   },
   {
    "duration": 261,
    "start_time": "2021-12-20T16:30:58.762Z"
   },
   {
    "duration": 268,
    "start_time": "2021-12-20T16:30:59.026Z"
   },
   {
    "duration": 293,
    "start_time": "2021-12-20T16:30:59.297Z"
   },
   {
    "duration": 273,
    "start_time": "2021-12-20T16:30:59.592Z"
   },
   {
    "duration": 248,
    "start_time": "2021-12-20T16:30:59.869Z"
   },
   {
    "duration": 176,
    "start_time": "2021-12-20T16:31:00.124Z"
   },
   {
    "duration": 281,
    "start_time": "2021-12-20T16:31:00.303Z"
   },
   {
    "duration": 280,
    "start_time": "2021-12-20T16:31:00.586Z"
   },
   {
    "duration": 306,
    "start_time": "2021-12-20T16:31:00.868Z"
   },
   {
    "duration": 451,
    "start_time": "2021-12-20T16:31:01.177Z"
   },
   {
    "duration": 183,
    "start_time": "2021-12-20T16:31:01.632Z"
   },
   {
    "duration": 272,
    "start_time": "2021-12-20T16:31:01.818Z"
   },
   {
    "duration": 142,
    "start_time": "2021-12-20T16:31:02.093Z"
   },
   {
    "duration": 293,
    "start_time": "2021-12-20T16:31:02.237Z"
   },
   {
    "duration": 254,
    "start_time": "2021-12-20T16:31:02.533Z"
   },
   {
    "duration": 256,
    "start_time": "2021-12-20T16:31:02.791Z"
   },
   {
    "duration": 212,
    "start_time": "2021-12-20T16:31:03.049Z"
   },
   {
    "duration": 208,
    "start_time": "2021-12-20T16:31:03.264Z"
   },
   {
    "duration": 264,
    "start_time": "2021-12-20T16:31:03.474Z"
   },
   {
    "duration": 227,
    "start_time": "2021-12-20T16:31:03.740Z"
   },
   {
    "duration": 179,
    "start_time": "2021-12-20T16:31:03.969Z"
   },
   {
    "duration": 198,
    "start_time": "2021-12-20T16:31:04.151Z"
   },
   {
    "duration": 170,
    "start_time": "2021-12-20T16:31:04.353Z"
   },
   {
    "duration": 260,
    "start_time": "2021-12-20T16:31:04.526Z"
   },
   {
    "duration": 262,
    "start_time": "2021-12-20T16:31:04.789Z"
   },
   {
    "duration": 192,
    "start_time": "2021-12-20T16:31:05.053Z"
   },
   {
    "duration": 245,
    "start_time": "2021-12-20T16:31:05.249Z"
   },
   {
    "duration": 175,
    "start_time": "2021-12-20T16:31:05.496Z"
   },
   {
    "duration": 177,
    "start_time": "2021-12-20T16:31:05.674Z"
   },
   {
    "duration": 173,
    "start_time": "2021-12-20T16:31:05.854Z"
   },
   {
    "duration": 185,
    "start_time": "2021-12-20T16:31:06.030Z"
   },
   {
    "duration": 148,
    "start_time": "2021-12-20T16:31:06.218Z"
   },
   {
    "duration": 188,
    "start_time": "2021-12-20T16:31:06.369Z"
   },
   {
    "duration": 182,
    "start_time": "2021-12-20T16:31:06.560Z"
   },
   {
    "duration": 505,
    "start_time": "2021-12-20T16:35:00.552Z"
   },
   {
    "duration": 271,
    "start_time": "2021-12-20T16:35:15.554Z"
   },
   {
    "duration": 27,
    "start_time": "2021-12-20T16:35:41.785Z"
   },
   {
    "duration": 11,
    "start_time": "2021-12-20T16:35:52.231Z"
   },
   {
    "duration": 21,
    "start_time": "2021-12-20T16:36:30.083Z"
   },
   {
    "duration": 1579,
    "start_time": "2021-12-20T16:36:45.382Z"
   },
   {
    "duration": 4,
    "start_time": "2021-12-20T16:36:46.964Z"
   },
   {
    "duration": 956,
    "start_time": "2021-12-20T16:36:46.971Z"
   },
   {
    "duration": 25,
    "start_time": "2021-12-20T16:36:47.931Z"
   },
   {
    "duration": 294,
    "start_time": "2021-12-20T16:36:47.960Z"
   },
   {
    "duration": 336,
    "start_time": "2021-12-20T16:36:48.257Z"
   },
   {
    "duration": 238,
    "start_time": "2021-12-20T16:36:48.596Z"
   },
   {
    "duration": 209,
    "start_time": "2021-12-20T16:36:48.838Z"
   },
   {
    "duration": 232,
    "start_time": "2021-12-20T16:36:49.050Z"
   },
   {
    "duration": 218,
    "start_time": "2021-12-20T16:36:49.285Z"
   },
   {
    "duration": 297,
    "start_time": "2021-12-20T16:36:49.506Z"
   },
   {
    "duration": 405,
    "start_time": "2021-12-20T16:36:49.806Z"
   },
   {
    "duration": 161,
    "start_time": "2021-12-20T16:36:50.214Z"
   },
   {
    "duration": 222,
    "start_time": "2021-12-20T16:36:50.378Z"
   },
   {
    "duration": 226,
    "start_time": "2021-12-20T16:36:50.603Z"
   },
   {
    "duration": 223,
    "start_time": "2021-12-20T16:36:50.832Z"
   },
   {
    "duration": 215,
    "start_time": "2021-12-20T16:36:51.059Z"
   },
   {
    "duration": 211,
    "start_time": "2021-12-20T16:36:51.277Z"
   },
   {
    "duration": 245,
    "start_time": "2021-12-20T16:36:51.491Z"
   },
   {
    "duration": 178,
    "start_time": "2021-12-20T16:36:51.739Z"
   },
   {
    "duration": 247,
    "start_time": "2021-12-20T16:36:51.919Z"
   },
   {
    "duration": 231,
    "start_time": "2021-12-20T16:36:52.169Z"
   },
   {
    "duration": 221,
    "start_time": "2021-12-20T16:36:52.407Z"
   },
   {
    "duration": 208,
    "start_time": "2021-12-20T16:36:52.632Z"
   },
   {
    "duration": 247,
    "start_time": "2021-12-20T16:36:52.842Z"
   },
   {
    "duration": 323,
    "start_time": "2021-12-20T16:36:53.092Z"
   },
   {
    "duration": 336,
    "start_time": "2021-12-20T16:36:53.419Z"
   },
   {
    "duration": 189,
    "start_time": "2021-12-20T16:36:53.758Z"
   },
   {
    "duration": 231,
    "start_time": "2021-12-20T16:36:53.950Z"
   },
   {
    "duration": 231,
    "start_time": "2021-12-20T16:36:54.184Z"
   },
   {
    "duration": 217,
    "start_time": "2021-12-20T16:36:54.418Z"
   },
   {
    "duration": 203,
    "start_time": "2021-12-20T16:36:54.637Z"
   },
   {
    "duration": 227,
    "start_time": "2021-12-20T16:36:54.842Z"
   },
   {
    "duration": 208,
    "start_time": "2021-12-20T16:36:55.071Z"
   },
   {
    "duration": 169,
    "start_time": "2021-12-20T16:36:55.281Z"
   },
   {
    "duration": 231,
    "start_time": "2021-12-20T16:36:55.452Z"
   },
   {
    "duration": 176,
    "start_time": "2021-12-20T16:36:55.686Z"
   },
   {
    "duration": 182,
    "start_time": "2021-12-20T16:36:55.866Z"
   },
   {
    "duration": 211,
    "start_time": "2021-12-20T16:36:56.051Z"
   },
   {
    "duration": 207,
    "start_time": "2021-12-20T16:36:56.265Z"
   },
   {
    "duration": 258,
    "start_time": "2021-12-20T16:36:56.475Z"
   },
   {
    "duration": 187,
    "start_time": "2021-12-20T16:36:56.736Z"
   },
   {
    "duration": 213,
    "start_time": "2021-12-20T16:36:56.926Z"
   },
   {
    "duration": 183,
    "start_time": "2021-12-20T16:36:57.143Z"
   },
   {
    "duration": 296,
    "start_time": "2021-12-20T16:36:57.329Z"
   },
   {
    "duration": 221,
    "start_time": "2021-12-20T16:36:57.639Z"
   },
   {
    "duration": 281,
    "start_time": "2021-12-20T16:36:57.863Z"
   },
   {
    "duration": 256,
    "start_time": "2021-12-20T16:36:58.147Z"
   },
   {
    "duration": 329,
    "start_time": "2021-12-20T16:36:58.406Z"
   },
   {
    "duration": 257,
    "start_time": "2021-12-20T16:36:58.739Z"
   },
   {
    "duration": 281,
    "start_time": "2021-12-20T16:36:58.999Z"
   },
   {
    "duration": 359,
    "start_time": "2021-12-20T16:36:59.283Z"
   },
   {
    "duration": 6,
    "start_time": "2021-12-20T16:37:55.831Z"
   },
   {
    "duration": 11,
    "start_time": "2021-12-20T16:37:59.245Z"
   },
   {
    "duration": 18,
    "start_time": "2021-12-20T16:38:06.644Z"
   },
   {
    "duration": 17,
    "start_time": "2021-12-20T16:38:42.494Z"
   },
   {
    "duration": 27,
    "start_time": "2021-12-20T16:38:54.361Z"
   },
   {
    "duration": 10,
    "start_time": "2021-12-20T16:38:58.365Z"
   },
   {
    "duration": 6,
    "start_time": "2021-12-20T16:43:34.683Z"
   },
   {
    "duration": 13,
    "start_time": "2021-12-20T16:43:36.795Z"
   },
   {
    "duration": 1603,
    "start_time": "2021-12-20T16:43:56.777Z"
   },
   {
    "duration": 3,
    "start_time": "2021-12-20T16:43:58.383Z"
   },
   {
    "duration": 907,
    "start_time": "2021-12-20T16:43:58.389Z"
   },
   {
    "duration": 17,
    "start_time": "2021-12-20T16:43:59.299Z"
   },
   {
    "duration": 274,
    "start_time": "2021-12-20T16:43:59.318Z"
   },
   {
    "duration": 319,
    "start_time": "2021-12-20T16:43:59.595Z"
   },
   {
    "duration": 135,
    "start_time": "2021-12-20T16:43:59.917Z"
   },
   {
    "duration": 185,
    "start_time": "2021-12-20T16:44:00.058Z"
   },
   {
    "duration": 232,
    "start_time": "2021-12-20T16:44:00.247Z"
   },
   {
    "duration": 189,
    "start_time": "2021-12-20T16:44:00.482Z"
   },
   {
    "duration": 190,
    "start_time": "2021-12-20T16:44:00.674Z"
   },
   {
    "duration": 157,
    "start_time": "2021-12-20T16:44:00.866Z"
   },
   {
    "duration": 144,
    "start_time": "2021-12-20T16:44:01.025Z"
   },
   {
    "duration": 198,
    "start_time": "2021-12-20T16:44:01.172Z"
   },
   {
    "duration": 198,
    "start_time": "2021-12-20T16:44:01.373Z"
   },
   {
    "duration": 220,
    "start_time": "2021-12-20T16:44:01.574Z"
   },
   {
    "duration": 133,
    "start_time": "2021-12-20T16:44:01.798Z"
   },
   {
    "duration": 217,
    "start_time": "2021-12-20T16:44:01.934Z"
   },
   {
    "duration": 306,
    "start_time": "2021-12-20T16:44:02.154Z"
   },
   {
    "duration": 219,
    "start_time": "2021-12-20T16:44:02.463Z"
   },
   {
    "duration": 319,
    "start_time": "2021-12-20T16:44:02.685Z"
   },
   {
    "duration": 309,
    "start_time": "2021-12-20T16:44:03.007Z"
   },
   {
    "duration": 284,
    "start_time": "2021-12-20T16:44:03.321Z"
   },
   {
    "duration": 206,
    "start_time": "2021-12-20T16:44:03.608Z"
   },
   {
    "duration": 282,
    "start_time": "2021-12-20T16:44:03.817Z"
   },
   {
    "duration": 178,
    "start_time": "2021-12-20T16:44:04.102Z"
   },
   {
    "duration": 210,
    "start_time": "2021-12-20T16:44:04.284Z"
   },
   {
    "duration": 262,
    "start_time": "2021-12-20T16:44:04.498Z"
   },
   {
    "duration": 213,
    "start_time": "2021-12-20T16:44:04.764Z"
   },
   {
    "duration": 150,
    "start_time": "2021-12-20T16:44:04.980Z"
   },
   {
    "duration": 185,
    "start_time": "2021-12-20T16:44:05.133Z"
   },
   {
    "duration": 151,
    "start_time": "2021-12-20T16:44:05.321Z"
   },
   {
    "duration": 160,
    "start_time": "2021-12-20T16:44:05.475Z"
   },
   {
    "duration": 160,
    "start_time": "2021-12-20T16:44:05.637Z"
   },
   {
    "duration": 197,
    "start_time": "2021-12-20T16:44:05.799Z"
   },
   {
    "duration": 182,
    "start_time": "2021-12-20T16:44:05.999Z"
   },
   {
    "duration": 179,
    "start_time": "2021-12-20T16:44:06.184Z"
   },
   {
    "duration": 214,
    "start_time": "2021-12-20T16:44:06.365Z"
   },
   {
    "duration": 199,
    "start_time": "2021-12-20T16:44:06.581Z"
   },
   {
    "duration": 208,
    "start_time": "2021-12-20T16:44:06.783Z"
   },
   {
    "duration": 205,
    "start_time": "2021-12-20T16:44:06.994Z"
   },
   {
    "duration": 233,
    "start_time": "2021-12-20T16:44:07.201Z"
   },
   {
    "duration": 193,
    "start_time": "2021-12-20T16:44:07.436Z"
   },
   {
    "duration": 205,
    "start_time": "2021-12-20T16:44:07.632Z"
   },
   {
    "duration": 204,
    "start_time": "2021-12-20T16:44:07.841Z"
   },
   {
    "duration": 189,
    "start_time": "2021-12-20T16:44:08.048Z"
   },
   {
    "duration": 185,
    "start_time": "2021-12-20T16:44:08.240Z"
   },
   {
    "duration": 322,
    "start_time": "2021-12-20T16:44:08.427Z"
   },
   {
    "duration": 179,
    "start_time": "2021-12-20T16:44:08.751Z"
   },
   {
    "duration": 209,
    "start_time": "2021-12-20T16:44:08.932Z"
   },
   {
    "duration": 174,
    "start_time": "2021-12-20T16:44:09.144Z"
   },
   {
    "duration": 147,
    "start_time": "2021-12-20T16:44:09.321Z"
   },
   {
    "duration": 178,
    "start_time": "2021-12-20T16:44:09.471Z"
   },
   {
    "duration": 165,
    "start_time": "2021-12-20T16:44:09.653Z"
   },
   {
    "duration": 17,
    "start_time": "2021-12-20T16:46:11.271Z"
   },
   {
    "duration": 12,
    "start_time": "2021-12-20T16:46:19.430Z"
   },
   {
    "duration": 37,
    "start_time": "2021-12-20T16:46:21.480Z"
   },
   {
    "duration": 857,
    "start_time": "2021-12-20T16:47:43.950Z"
   },
   {
    "duration": 1860,
    "start_time": "2021-12-20T16:47:54.533Z"
   },
   {
    "duration": 3,
    "start_time": "2021-12-20T16:47:56.396Z"
   },
   {
    "duration": 933,
    "start_time": "2021-12-20T16:47:56.403Z"
   },
   {
    "duration": 27,
    "start_time": "2021-12-20T16:47:57.340Z"
   },
   {
    "duration": 346,
    "start_time": "2021-12-20T16:47:57.371Z"
   },
   {
    "duration": 247,
    "start_time": "2021-12-20T16:47:57.719Z"
   },
   {
    "duration": 276,
    "start_time": "2021-12-20T16:47:57.969Z"
   },
   {
    "duration": 295,
    "start_time": "2021-12-20T16:47:58.249Z"
   },
   {
    "duration": 281,
    "start_time": "2021-12-20T16:47:58.548Z"
   },
   {
    "duration": 267,
    "start_time": "2021-12-20T16:47:58.831Z"
   },
   {
    "duration": 415,
    "start_time": "2021-12-20T16:47:59.101Z"
   },
   {
    "duration": 235,
    "start_time": "2021-12-20T16:47:59.519Z"
   },
   {
    "duration": 347,
    "start_time": "2021-12-20T16:47:59.757Z"
   },
   {
    "duration": 247,
    "start_time": "2021-12-20T16:48:00.108Z"
   },
   {
    "duration": 270,
    "start_time": "2021-12-20T16:48:00.358Z"
   },
   {
    "duration": 240,
    "start_time": "2021-12-20T16:48:00.631Z"
   },
   {
    "duration": 214,
    "start_time": "2021-12-20T16:48:00.873Z"
   },
   {
    "duration": 198,
    "start_time": "2021-12-20T16:48:01.090Z"
   },
   {
    "duration": 241,
    "start_time": "2021-12-20T16:48:01.291Z"
   },
   {
    "duration": 328,
    "start_time": "2021-12-20T16:48:01.535Z"
   },
   {
    "duration": 384,
    "start_time": "2021-12-20T16:48:01.866Z"
   },
   {
    "duration": 179,
    "start_time": "2021-12-20T16:48:02.253Z"
   },
   {
    "duration": 278,
    "start_time": "2021-12-20T16:48:02.438Z"
   },
   {
    "duration": 230,
    "start_time": "2021-12-20T16:48:02.720Z"
   },
   {
    "duration": 238,
    "start_time": "2021-12-20T16:48:02.954Z"
   },
   {
    "duration": 245,
    "start_time": "2021-12-20T16:48:03.195Z"
   },
   {
    "duration": 171,
    "start_time": "2021-12-20T16:48:03.442Z"
   },
   {
    "duration": 230,
    "start_time": "2021-12-20T16:48:03.615Z"
   },
   {
    "duration": 229,
    "start_time": "2021-12-20T16:48:03.848Z"
   },
   {
    "duration": 181,
    "start_time": "2021-12-20T16:48:04.079Z"
   },
   {
    "duration": 234,
    "start_time": "2021-12-20T16:48:04.263Z"
   },
   {
    "duration": 286,
    "start_time": "2021-12-20T16:48:04.499Z"
   },
   {
    "duration": 299,
    "start_time": "2021-12-20T16:48:04.787Z"
   },
   {
    "duration": 277,
    "start_time": "2021-12-20T16:48:05.088Z"
   },
   {
    "duration": 274,
    "start_time": "2021-12-20T16:48:05.367Z"
   },
   {
    "duration": 200,
    "start_time": "2021-12-20T16:48:05.644Z"
   },
   {
    "duration": 244,
    "start_time": "2021-12-20T16:48:05.847Z"
   },
   {
    "duration": 213,
    "start_time": "2021-12-20T16:48:06.095Z"
   },
   {
    "duration": 196,
    "start_time": "2021-12-20T16:48:06.311Z"
   },
   {
    "duration": 182,
    "start_time": "2021-12-20T16:48:06.510Z"
   },
   {
    "duration": 149,
    "start_time": "2021-12-20T16:48:06.695Z"
   },
   {
    "duration": 144,
    "start_time": "2021-12-20T16:48:06.848Z"
   },
   {
    "duration": 159,
    "start_time": "2021-12-20T16:48:06.996Z"
   },
   {
    "duration": 155,
    "start_time": "2021-12-20T16:48:07.158Z"
   },
   {
    "duration": 160,
    "start_time": "2021-12-20T16:48:07.317Z"
   },
   {
    "duration": 221,
    "start_time": "2021-12-20T16:48:07.480Z"
   },
   {
    "duration": 322,
    "start_time": "2021-12-20T16:48:07.704Z"
   },
   {
    "duration": 275,
    "start_time": "2021-12-20T16:48:08.030Z"
   },
   {
    "duration": 247,
    "start_time": "2021-12-20T16:48:08.308Z"
   },
   {
    "duration": 357,
    "start_time": "2021-12-20T16:48:08.558Z"
   },
   {
    "duration": 210,
    "start_time": "2021-12-20T16:48:08.918Z"
   },
   {
    "duration": 225,
    "start_time": "2021-12-20T16:48:09.132Z"
   },
   {
    "duration": 283,
    "start_time": "2021-12-20T16:48:09.359Z"
   },
   {
    "duration": 191,
    "start_time": "2021-12-20T16:48:09.644Z"
   },
   {
    "duration": 209,
    "start_time": "2021-12-20T16:48:09.838Z"
   },
   {
    "duration": 13,
    "start_time": "2021-12-20T16:48:31.521Z"
   },
   {
    "duration": 36,
    "start_time": "2021-12-20T16:48:33.578Z"
   },
   {
    "duration": 1636,
    "start_time": "2021-12-20T16:48:43.747Z"
   },
   {
    "duration": 3,
    "start_time": "2021-12-20T16:48:45.386Z"
   },
   {
    "duration": 869,
    "start_time": "2021-12-20T16:48:45.393Z"
   },
   {
    "duration": 19,
    "start_time": "2021-12-20T16:48:46.265Z"
   },
   {
    "duration": 404,
    "start_time": "2021-12-20T16:48:46.287Z"
   },
   {
    "duration": 189,
    "start_time": "2021-12-20T16:48:46.694Z"
   },
   {
    "duration": 226,
    "start_time": "2021-12-20T16:48:46.885Z"
   },
   {
    "duration": 222,
    "start_time": "2021-12-20T16:48:47.113Z"
   },
   {
    "duration": 182,
    "start_time": "2021-12-20T16:48:47.341Z"
   },
   {
    "duration": 186,
    "start_time": "2021-12-20T16:48:47.526Z"
   },
   {
    "duration": 190,
    "start_time": "2021-12-20T16:48:47.716Z"
   },
   {
    "duration": 265,
    "start_time": "2021-12-20T16:48:47.909Z"
   },
   {
    "duration": 213,
    "start_time": "2021-12-20T16:48:48.176Z"
   },
   {
    "duration": 166,
    "start_time": "2021-12-20T16:48:48.391Z"
   },
   {
    "duration": 204,
    "start_time": "2021-12-20T16:48:48.561Z"
   },
   {
    "duration": 198,
    "start_time": "2021-12-20T16:48:48.768Z"
   },
   {
    "duration": 254,
    "start_time": "2021-12-20T16:48:48.969Z"
   },
   {
    "duration": 186,
    "start_time": "2021-12-20T16:48:49.226Z"
   },
   {
    "duration": 244,
    "start_time": "2021-12-20T16:48:49.415Z"
   },
   {
    "duration": 409,
    "start_time": "2021-12-20T16:48:49.662Z"
   },
   {
    "duration": 246,
    "start_time": "2021-12-20T16:48:50.074Z"
   },
   {
    "duration": 195,
    "start_time": "2021-12-20T16:48:50.322Z"
   },
   {
    "duration": 173,
    "start_time": "2021-12-20T16:48:50.519Z"
   },
   {
    "duration": 209,
    "start_time": "2021-12-20T16:48:50.694Z"
   },
   {
    "duration": 200,
    "start_time": "2021-12-20T16:48:50.906Z"
   },
   {
    "duration": 151,
    "start_time": "2021-12-20T16:48:51.109Z"
   },
   {
    "duration": 194,
    "start_time": "2021-12-20T16:48:51.268Z"
   },
   {
    "duration": 265,
    "start_time": "2021-12-20T16:48:51.466Z"
   },
   {
    "duration": 203,
    "start_time": "2021-12-20T16:48:51.734Z"
   },
   {
    "duration": 191,
    "start_time": "2021-12-20T16:48:51.940Z"
   },
   {
    "duration": 198,
    "start_time": "2021-12-20T16:48:52.134Z"
   },
   {
    "duration": 179,
    "start_time": "2021-12-20T16:48:52.335Z"
   },
   {
    "duration": 166,
    "start_time": "2021-12-20T16:48:52.517Z"
   },
   {
    "duration": 173,
    "start_time": "2021-12-20T16:48:52.686Z"
   },
   {
    "duration": 210,
    "start_time": "2021-12-20T16:48:52.862Z"
   },
   {
    "duration": 200,
    "start_time": "2021-12-20T16:48:53.074Z"
   },
   {
    "duration": 159,
    "start_time": "2021-12-20T16:48:53.276Z"
   },
   {
    "duration": 183,
    "start_time": "2021-12-20T16:48:53.438Z"
   },
   {
    "duration": 164,
    "start_time": "2021-12-20T16:48:53.623Z"
   },
   {
    "duration": 177,
    "start_time": "2021-12-20T16:48:53.789Z"
   },
   {
    "duration": 167,
    "start_time": "2021-12-20T16:48:53.968Z"
   },
   {
    "duration": 186,
    "start_time": "2021-12-20T16:48:54.138Z"
   },
   {
    "duration": 170,
    "start_time": "2021-12-20T16:48:54.326Z"
   },
   {
    "duration": 182,
    "start_time": "2021-12-20T16:48:54.499Z"
   },
   {
    "duration": 154,
    "start_time": "2021-12-20T16:48:54.684Z"
   },
   {
    "duration": 190,
    "start_time": "2021-12-20T16:48:54.841Z"
   },
   {
    "duration": 166,
    "start_time": "2021-12-20T16:48:55.034Z"
   },
   {
    "duration": 186,
    "start_time": "2021-12-20T16:48:55.203Z"
   },
   {
    "duration": 155,
    "start_time": "2021-12-20T16:48:55.392Z"
   },
   {
    "duration": 182,
    "start_time": "2021-12-20T16:48:55.549Z"
   },
   {
    "duration": 160,
    "start_time": "2021-12-20T16:48:55.733Z"
   },
   {
    "duration": 181,
    "start_time": "2021-12-20T16:48:55.895Z"
   },
   {
    "duration": 160,
    "start_time": "2021-12-20T16:48:56.079Z"
   },
   {
    "duration": 169,
    "start_time": "2021-12-20T16:48:56.242Z"
   },
   {
    "duration": 170,
    "start_time": "2021-12-20T16:48:56.413Z"
   },
   {
    "duration": 12,
    "start_time": "2021-12-20T16:49:24.944Z"
   },
   {
    "duration": 1442,
    "start_time": "2021-12-20T17:02:10.186Z"
   },
   {
    "duration": 3,
    "start_time": "2021-12-20T17:02:11.631Z"
   },
   {
    "duration": 821,
    "start_time": "2021-12-20T17:02:11.637Z"
   },
   {
    "duration": 19,
    "start_time": "2021-12-20T17:02:12.461Z"
   },
   {
    "duration": 293,
    "start_time": "2021-12-20T17:02:12.483Z"
   },
   {
    "duration": 267,
    "start_time": "2021-12-20T17:02:12.780Z"
   },
   {
    "duration": 243,
    "start_time": "2021-12-20T17:02:13.050Z"
   },
   {
    "duration": 178,
    "start_time": "2021-12-20T17:02:13.297Z"
   },
   {
    "duration": 120,
    "start_time": "2021-12-20T17:02:13.479Z"
   },
   {
    "duration": 229,
    "start_time": "2021-12-20T17:02:13.603Z"
   },
   {
    "duration": 334,
    "start_time": "2021-12-20T17:02:13.835Z"
   },
   {
    "duration": 314,
    "start_time": "2021-12-20T17:02:14.172Z"
   },
   {
    "duration": 257,
    "start_time": "2021-12-20T17:02:14.489Z"
   },
   {
    "duration": 252,
    "start_time": "2021-12-20T17:02:14.749Z"
   },
   {
    "duration": 183,
    "start_time": "2021-12-20T17:02:15.003Z"
   },
   {
    "duration": 195,
    "start_time": "2021-12-20T17:02:15.189Z"
   },
   {
    "duration": 205,
    "start_time": "2021-12-20T17:02:15.387Z"
   },
   {
    "duration": 194,
    "start_time": "2021-12-20T17:02:15.595Z"
   },
   {
    "duration": 267,
    "start_time": "2021-12-20T17:02:15.791Z"
   },
   {
    "duration": 158,
    "start_time": "2021-12-20T17:02:16.060Z"
   },
   {
    "duration": 187,
    "start_time": "2021-12-20T17:02:16.222Z"
   },
   {
    "duration": 244,
    "start_time": "2021-12-20T17:02:16.412Z"
   },
   {
    "duration": 196,
    "start_time": "2021-12-20T17:02:16.663Z"
   },
   {
    "duration": 128,
    "start_time": "2021-12-20T17:02:16.863Z"
   },
   {
    "duration": 212,
    "start_time": "2021-12-20T17:02:16.993Z"
   },
   {
    "duration": 189,
    "start_time": "2021-12-20T17:02:17.208Z"
   },
   {
    "duration": 158,
    "start_time": "2021-12-20T17:02:17.400Z"
   },
   {
    "duration": 189,
    "start_time": "2021-12-20T17:02:17.561Z"
   },
   {
    "duration": 172,
    "start_time": "2021-12-20T17:02:17.753Z"
   },
   {
    "duration": 195,
    "start_time": "2021-12-20T17:02:17.928Z"
   },
   {
    "duration": 199,
    "start_time": "2021-12-20T17:02:18.125Z"
   },
   {
    "duration": 164,
    "start_time": "2021-12-20T17:02:18.326Z"
   },
   {
    "duration": 161,
    "start_time": "2021-12-20T17:02:18.494Z"
   },
   {
    "duration": 177,
    "start_time": "2021-12-20T17:02:18.657Z"
   },
   {
    "duration": 168,
    "start_time": "2021-12-20T17:02:18.838Z"
   },
   {
    "duration": 176,
    "start_time": "2021-12-20T17:02:19.008Z"
   },
   {
    "duration": 159,
    "start_time": "2021-12-20T17:02:19.187Z"
   },
   {
    "duration": 200,
    "start_time": "2021-12-20T17:02:19.349Z"
   },
   {
    "duration": 161,
    "start_time": "2021-12-20T17:02:19.551Z"
   },
   {
    "duration": 166,
    "start_time": "2021-12-20T17:02:19.716Z"
   },
   {
    "duration": 231,
    "start_time": "2021-12-20T17:02:19.885Z"
   },
   {
    "duration": 295,
    "start_time": "2021-12-20T17:02:20.119Z"
   },
   {
    "duration": 298,
    "start_time": "2021-12-20T17:02:20.417Z"
   },
   {
    "duration": 189,
    "start_time": "2021-12-20T17:02:20.719Z"
   },
   {
    "duration": 229,
    "start_time": "2021-12-20T17:02:20.911Z"
   },
   {
    "duration": 276,
    "start_time": "2021-12-20T17:02:21.143Z"
   },
   {
    "duration": 252,
    "start_time": "2021-12-20T17:02:21.422Z"
   },
   {
    "duration": 219,
    "start_time": "2021-12-20T17:02:21.676Z"
   },
   {
    "duration": 174,
    "start_time": "2021-12-20T17:02:21.897Z"
   },
   {
    "duration": 179,
    "start_time": "2021-12-20T17:02:22.073Z"
   },
   {
    "duration": 235,
    "start_time": "2021-12-20T17:02:22.255Z"
   },
   {
    "duration": 269,
    "start_time": "2021-12-20T17:02:22.492Z"
   },
   {
    "duration": 661,
    "start_time": "2021-12-20T17:02:22.763Z"
   },
   {
    "duration": -2147,
    "start_time": "2021-12-20T17:02:25.573Z"
   },
   {
    "duration": -2148,
    "start_time": "2021-12-20T17:02:25.576Z"
   },
   {
    "duration": 11,
    "start_time": "2021-12-20T17:02:37.354Z"
   },
   {
    "duration": 29,
    "start_time": "2021-12-20T17:02:40.993Z"
   },
   {
    "duration": 18,
    "start_time": "2021-12-20T17:02:49.226Z"
   },
   {
    "duration": 11,
    "start_time": "2021-12-20T17:09:49.400Z"
   },
   {
    "duration": 10,
    "start_time": "2021-12-20T17:10:08.927Z"
   },
   {
    "duration": 8,
    "start_time": "2021-12-20T17:10:27.900Z"
   },
   {
    "duration": 11,
    "start_time": "2021-12-20T17:12:12.007Z"
   },
   {
    "duration": 34,
    "start_time": "2021-12-20T17:12:17.737Z"
   },
   {
    "duration": 14,
    "start_time": "2021-12-20T17:12:22.830Z"
   },
   {
    "duration": 13,
    "start_time": "2021-12-20T17:12:45.821Z"
   },
   {
    "duration": 1579,
    "start_time": "2021-12-20T17:12:57.024Z"
   },
   {
    "duration": 4,
    "start_time": "2021-12-20T17:12:58.606Z"
   },
   {
    "duration": 1061,
    "start_time": "2021-12-20T17:12:58.614Z"
   },
   {
    "duration": 24,
    "start_time": "2021-12-20T17:12:59.679Z"
   },
   {
    "duration": 287,
    "start_time": "2021-12-20T17:12:59.707Z"
   },
   {
    "duration": 264,
    "start_time": "2021-12-20T17:12:59.997Z"
   },
   {
    "duration": 292,
    "start_time": "2021-12-20T17:13:00.265Z"
   },
   {
    "duration": 310,
    "start_time": "2021-12-20T17:13:00.562Z"
   },
   {
    "duration": 246,
    "start_time": "2021-12-20T17:13:00.875Z"
   },
   {
    "duration": 259,
    "start_time": "2021-12-20T17:13:01.124Z"
   },
   {
    "duration": 290,
    "start_time": "2021-12-20T17:13:01.386Z"
   },
   {
    "duration": 225,
    "start_time": "2021-12-20T17:13:01.679Z"
   },
   {
    "duration": 399,
    "start_time": "2021-12-20T17:13:01.907Z"
   },
   {
    "duration": 211,
    "start_time": "2021-12-20T17:13:02.309Z"
   },
   {
    "duration": 225,
    "start_time": "2021-12-20T17:13:02.522Z"
   },
   {
    "duration": 366,
    "start_time": "2021-12-20T17:13:02.752Z"
   },
   {
    "duration": 287,
    "start_time": "2021-12-20T17:13:03.121Z"
   },
   {
    "duration": 306,
    "start_time": "2021-12-20T17:13:03.411Z"
   },
   {
    "duration": 231,
    "start_time": "2021-12-20T17:13:03.720Z"
   },
   {
    "duration": 218,
    "start_time": "2021-12-20T17:13:03.955Z"
   },
   {
    "duration": 304,
    "start_time": "2021-12-20T17:13:04.176Z"
   },
   {
    "duration": 235,
    "start_time": "2021-12-20T17:13:04.482Z"
   },
   {
    "duration": 257,
    "start_time": "2021-12-20T17:13:04.723Z"
   },
   {
    "duration": 324,
    "start_time": "2021-12-20T17:13:04.983Z"
   },
   {
    "duration": 297,
    "start_time": "2021-12-20T17:13:05.310Z"
   },
   {
    "duration": 239,
    "start_time": "2021-12-20T17:13:05.610Z"
   },
   {
    "duration": 210,
    "start_time": "2021-12-20T17:13:05.851Z"
   },
   {
    "duration": 184,
    "start_time": "2021-12-20T17:13:06.064Z"
   },
   {
    "duration": 230,
    "start_time": "2021-12-20T17:13:06.252Z"
   },
   {
    "duration": 1614,
    "start_time": "2021-12-20T17:13:06.484Z"
   },
   {
    "duration": 1020,
    "start_time": "2021-12-20T17:13:08.101Z"
   },
   {
    "duration": 346,
    "start_time": "2021-12-20T17:13:09.125Z"
   },
   {
    "duration": 357,
    "start_time": "2021-12-20T17:13:09.475Z"
   },
   {
    "duration": 238,
    "start_time": "2021-12-20T17:13:09.835Z"
   },
   {
    "duration": 593,
    "start_time": "2021-12-20T17:13:10.076Z"
   },
   {
    "duration": 341,
    "start_time": "2021-12-20T17:13:10.672Z"
   },
   {
    "duration": 491,
    "start_time": "2021-12-20T17:13:11.016Z"
   },
   {
    "duration": 324,
    "start_time": "2021-12-20T17:13:11.510Z"
   },
   {
    "duration": 346,
    "start_time": "2021-12-20T17:13:11.838Z"
   },
   {
    "duration": 260,
    "start_time": "2021-12-20T17:13:12.186Z"
   },
   {
    "duration": 193,
    "start_time": "2021-12-20T17:13:12.448Z"
   },
   {
    "duration": 345,
    "start_time": "2021-12-20T17:13:12.644Z"
   },
   {
    "duration": 324,
    "start_time": "2021-12-20T17:13:12.992Z"
   },
   {
    "duration": 296,
    "start_time": "2021-12-20T17:13:13.319Z"
   },
   {
    "duration": 311,
    "start_time": "2021-12-20T17:13:13.619Z"
   },
   {
    "duration": 382,
    "start_time": "2021-12-20T17:13:13.933Z"
   },
   {
    "duration": 386,
    "start_time": "2021-12-20T17:13:14.317Z"
   },
   {
    "duration": 293,
    "start_time": "2021-12-20T17:13:14.706Z"
   },
   {
    "duration": 303,
    "start_time": "2021-12-20T17:13:15.002Z"
   },
   {
    "duration": 375,
    "start_time": "2021-12-20T17:13:15.307Z"
   },
   {
    "duration": 266,
    "start_time": "2021-12-20T17:13:15.684Z"
   },
   {
    "duration": 314,
    "start_time": "2021-12-20T17:13:15.953Z"
   },
   {
    "duration": 303,
    "start_time": "2021-12-20T17:13:16.270Z"
   },
   {
    "duration": 312,
    "start_time": "2021-12-20T17:13:16.576Z"
   },
   {
    "duration": 334,
    "start_time": "2021-12-20T17:13:16.891Z"
   },
   {
    "duration": 340,
    "start_time": "2021-12-21T04:59:42.745Z"
   },
   {
    "duration": 1369,
    "start_time": "2021-12-21T04:59:49.903Z"
   },
   {
    "duration": 3,
    "start_time": "2021-12-21T04:59:51.275Z"
   },
   {
    "duration": 605,
    "start_time": "2021-12-21T04:59:51.283Z"
   },
   {
    "duration": 16,
    "start_time": "2021-12-21T04:59:51.891Z"
   },
   {
    "duration": 63,
    "start_time": "2021-12-21T04:59:51.909Z"
   },
   {
    "duration": 58,
    "start_time": "2021-12-21T04:59:51.974Z"
   },
   {
    "duration": 33,
    "start_time": "2021-12-21T04:59:52.035Z"
   },
   {
    "duration": 32,
    "start_time": "2021-12-21T04:59:52.072Z"
   },
   {
    "duration": 22,
    "start_time": "2021-12-21T04:59:52.107Z"
   },
   {
    "duration": 41,
    "start_time": "2021-12-21T04:59:52.131Z"
   },
   {
    "duration": 65,
    "start_time": "2021-12-21T04:59:52.175Z"
   },
   {
    "duration": 36,
    "start_time": "2021-12-21T04:59:52.243Z"
   },
   {
    "duration": 11,
    "start_time": "2021-12-21T04:59:52.281Z"
   },
   {
    "duration": 57,
    "start_time": "2021-12-21T04:59:52.294Z"
   },
   {
    "duration": 46,
    "start_time": "2021-12-21T04:59:52.353Z"
   },
   {
    "duration": 54,
    "start_time": "2021-12-21T04:59:52.402Z"
   },
   {
    "duration": 45,
    "start_time": "2021-12-21T04:59:52.459Z"
   },
   {
    "duration": 39,
    "start_time": "2021-12-21T04:59:52.506Z"
   },
   {
    "duration": 34,
    "start_time": "2021-12-21T04:59:52.548Z"
   },
   {
    "duration": 38,
    "start_time": "2021-12-21T04:59:52.584Z"
   },
   {
    "duration": 22,
    "start_time": "2021-12-21T04:59:52.625Z"
   },
   {
    "duration": 38,
    "start_time": "2021-12-21T04:59:52.650Z"
   },
   {
    "duration": 37,
    "start_time": "2021-12-21T04:59:52.693Z"
   },
   {
    "duration": 41,
    "start_time": "2021-12-21T04:59:52.733Z"
   },
   {
    "duration": 59,
    "start_time": "2021-12-21T04:59:52.776Z"
   },
   {
    "duration": 34,
    "start_time": "2021-12-21T04:59:52.837Z"
   },
   {
    "duration": 50,
    "start_time": "2021-12-21T04:59:52.873Z"
   },
   {
    "duration": 22,
    "start_time": "2021-12-21T04:59:52.925Z"
   },
   {
    "duration": 40,
    "start_time": "2021-12-21T04:59:52.949Z"
   },
   {
    "duration": 44,
    "start_time": "2021-12-21T04:59:52.991Z"
   },
   {
    "duration": 30,
    "start_time": "2021-12-21T04:59:53.037Z"
   },
   {
    "duration": 25,
    "start_time": "2021-12-21T04:59:53.070Z"
   },
   {
    "duration": 46,
    "start_time": "2021-12-21T04:59:53.097Z"
   },
   {
    "duration": 33,
    "start_time": "2021-12-21T04:59:53.145Z"
   },
   {
    "duration": 48,
    "start_time": "2021-12-21T04:59:53.181Z"
   },
   {
    "duration": 54,
    "start_time": "2021-12-21T04:59:53.231Z"
   },
   {
    "duration": 52,
    "start_time": "2021-12-21T04:59:53.287Z"
   },
   {
    "duration": 47,
    "start_time": "2021-12-21T04:59:53.341Z"
   },
   {
    "duration": 24,
    "start_time": "2021-12-21T04:59:53.391Z"
   },
   {
    "duration": 45,
    "start_time": "2021-12-21T04:59:53.417Z"
   },
   {
    "duration": 18,
    "start_time": "2021-12-21T04:59:53.465Z"
   },
   {
    "duration": 36,
    "start_time": "2021-12-21T04:59:53.485Z"
   },
   {
    "duration": 38,
    "start_time": "2021-12-21T04:59:53.523Z"
   },
   {
    "duration": 23,
    "start_time": "2021-12-21T04:59:53.564Z"
   },
   {
    "duration": 33,
    "start_time": "2021-12-21T04:59:53.590Z"
   },
   {
    "duration": 25,
    "start_time": "2021-12-21T04:59:53.626Z"
   },
   {
    "duration": 22,
    "start_time": "2021-12-21T04:59:53.654Z"
   },
   {
    "duration": 35,
    "start_time": "2021-12-21T04:59:53.678Z"
   },
   {
    "duration": 28,
    "start_time": "2021-12-21T04:59:53.716Z"
   },
   {
    "duration": 64,
    "start_time": "2021-12-21T04:59:53.747Z"
   },
   {
    "duration": 48,
    "start_time": "2021-12-21T04:59:53.814Z"
   },
   {
    "duration": 46,
    "start_time": "2021-12-21T04:59:53.864Z"
   },
   {
    "duration": 24,
    "start_time": "2021-12-21T04:59:53.912Z"
   },
   {
    "duration": 59,
    "start_time": "2021-12-21T04:59:53.939Z"
   },
   {
    "duration": 33,
    "start_time": "2021-12-21T04:59:54.002Z"
   },
   {
    "duration": 12,
    "start_time": "2021-12-21T04:59:54.038Z"
   },
   {
    "duration": 10,
    "start_time": "2021-12-21T05:00:14.506Z"
   },
   {
    "duration": 1346,
    "start_time": "2021-12-21T05:00:34.986Z"
   },
   {
    "duration": 3,
    "start_time": "2021-12-21T05:00:36.335Z"
   },
   {
    "duration": 537,
    "start_time": "2021-12-21T05:00:36.342Z"
   },
   {
    "duration": 17,
    "start_time": "2021-12-21T05:00:36.884Z"
   },
   {
    "duration": 28,
    "start_time": "2021-12-21T05:00:36.904Z"
   },
   {
    "duration": 72,
    "start_time": "2021-12-21T05:00:36.935Z"
   },
   {
    "duration": 34,
    "start_time": "2021-12-21T05:00:37.010Z"
   },
   {
    "duration": 39,
    "start_time": "2021-12-21T05:00:37.049Z"
   },
   {
    "duration": 6,
    "start_time": "2021-12-21T05:00:37.092Z"
   },
   {
    "duration": 12,
    "start_time": "2021-12-21T05:00:37.100Z"
   },
   {
    "duration": 62,
    "start_time": "2021-12-21T05:00:37.114Z"
   },
   {
    "duration": 30,
    "start_time": "2021-12-21T05:00:37.178Z"
   },
   {
    "duration": 4,
    "start_time": "2021-12-21T05:00:37.210Z"
   },
   {
    "duration": 12,
    "start_time": "2021-12-21T05:00:37.216Z"
   },
   {
    "duration": 42,
    "start_time": "2021-12-21T05:00:37.230Z"
   },
   {
    "duration": 22,
    "start_time": "2021-12-21T05:00:37.274Z"
   },
   {
    "duration": 29,
    "start_time": "2021-12-21T05:00:37.298Z"
   },
   {
    "duration": 49,
    "start_time": "2021-12-21T05:00:37.329Z"
   },
   {
    "duration": 29,
    "start_time": "2021-12-21T05:00:37.380Z"
   },
   {
    "duration": 10,
    "start_time": "2021-12-21T05:00:37.411Z"
   },
   {
    "duration": 39,
    "start_time": "2021-12-21T05:00:37.424Z"
   },
   {
    "duration": 9,
    "start_time": "2021-12-21T05:00:37.465Z"
   },
   {
    "duration": 11,
    "start_time": "2021-12-21T05:00:37.479Z"
   },
   {
    "duration": 18,
    "start_time": "2021-12-21T05:00:37.493Z"
   },
   {
    "duration": 69,
    "start_time": "2021-12-21T05:00:37.514Z"
   },
   {
    "duration": 23,
    "start_time": "2021-12-21T05:00:37.585Z"
   },
   {
    "duration": 53,
    "start_time": "2021-12-21T05:00:37.610Z"
   },
   {
    "duration": 6,
    "start_time": "2021-12-21T05:00:37.666Z"
   },
   {
    "duration": 11,
    "start_time": "2021-12-21T05:00:37.675Z"
   },
   {
    "duration": 14,
    "start_time": "2021-12-21T05:00:37.688Z"
   },
   {
    "duration": 9,
    "start_time": "2021-12-21T05:00:37.704Z"
   },
   {
    "duration": 5,
    "start_time": "2021-12-21T05:00:37.763Z"
   },
   {
    "duration": 5,
    "start_time": "2021-12-21T05:00:37.771Z"
   },
   {
    "duration": 5,
    "start_time": "2021-12-21T05:00:37.779Z"
   },
   {
    "duration": 16,
    "start_time": "2021-12-21T05:00:37.787Z"
   },
   {
    "duration": 14,
    "start_time": "2021-12-21T05:00:37.805Z"
   },
   {
    "duration": 46,
    "start_time": "2021-12-21T05:00:37.821Z"
   },
   {
    "duration": 12,
    "start_time": "2021-12-21T05:00:37.870Z"
   },
   {
    "duration": 5,
    "start_time": "2021-12-21T05:00:37.885Z"
   },
   {
    "duration": 14,
    "start_time": "2021-12-21T05:00:37.892Z"
   },
   {
    "duration": 6,
    "start_time": "2021-12-21T05:00:37.909Z"
   },
   {
    "duration": 15,
    "start_time": "2021-12-21T05:00:37.964Z"
   },
   {
    "duration": 19,
    "start_time": "2021-12-21T05:00:37.982Z"
   },
   {
    "duration": 11,
    "start_time": "2021-12-21T05:00:38.004Z"
   },
   {
    "duration": 47,
    "start_time": "2021-12-21T05:00:38.018Z"
   },
   {
    "duration": 10,
    "start_time": "2021-12-21T05:00:38.067Z"
   },
   {
    "duration": 3,
    "start_time": "2021-12-21T05:00:38.079Z"
   },
   {
    "duration": 8,
    "start_time": "2021-12-21T05:00:38.085Z"
   },
   {
    "duration": 13,
    "start_time": "2021-12-21T05:00:38.095Z"
   },
   {
    "duration": 60,
    "start_time": "2021-12-21T05:00:38.110Z"
   },
   {
    "duration": 7,
    "start_time": "2021-12-21T05:00:38.172Z"
   },
   {
    "duration": 11,
    "start_time": "2021-12-21T05:00:38.182Z"
   },
   {
    "duration": 9,
    "start_time": "2021-12-21T05:00:38.195Z"
   },
   {
    "duration": 57,
    "start_time": "2021-12-21T05:00:38.206Z"
   },
   {
    "duration": 33,
    "start_time": "2021-12-21T05:00:38.265Z"
   },
   {
    "duration": 10,
    "start_time": "2021-12-21T05:00:38.301Z"
   },
   {
    "duration": 31,
    "start_time": "2021-12-21T05:00:52.633Z"
   },
   {
    "duration": 10,
    "start_time": "2021-12-21T05:00:57.025Z"
   },
   {
    "duration": 6,
    "start_time": "2021-12-21T05:01:09.782Z"
   },
   {
    "duration": 15,
    "start_time": "2021-12-21T05:01:12.144Z"
   },
   {
    "duration": 529,
    "start_time": "2021-12-21T05:04:30.869Z"
   },
   {
    "duration": 11,
    "start_time": "2021-12-21T05:04:45.935Z"
   },
   {
    "duration": 287,
    "start_time": "2021-12-21T05:08:10.698Z"
   },
   {
    "duration": 1314,
    "start_time": "2021-12-21T05:08:17.612Z"
   },
   {
    "duration": 2,
    "start_time": "2021-12-21T05:08:18.929Z"
   },
   {
    "duration": 571,
    "start_time": "2021-12-21T05:08:18.934Z"
   },
   {
    "duration": 16,
    "start_time": "2021-12-21T05:08:19.509Z"
   },
   {
    "duration": 27,
    "start_time": "2021-12-21T05:08:19.528Z"
   },
   {
    "duration": 43,
    "start_time": "2021-12-21T05:08:19.557Z"
   },
   {
    "duration": 33,
    "start_time": "2021-12-21T05:08:19.602Z"
   },
   {
    "duration": 46,
    "start_time": "2021-12-21T05:08:19.637Z"
   },
   {
    "duration": 6,
    "start_time": "2021-12-21T05:08:19.687Z"
   },
   {
    "duration": 13,
    "start_time": "2021-12-21T05:08:19.696Z"
   },
   {
    "duration": 60,
    "start_time": "2021-12-21T05:08:19.712Z"
   },
   {
    "duration": 30,
    "start_time": "2021-12-21T05:08:19.775Z"
   },
   {
    "duration": 3,
    "start_time": "2021-12-21T05:08:19.808Z"
   },
   {
    "duration": 10,
    "start_time": "2021-12-21T05:08:19.814Z"
   },
   {
    "duration": 46,
    "start_time": "2021-12-21T05:08:19.826Z"
   },
   {
    "duration": 23,
    "start_time": "2021-12-21T05:08:19.874Z"
   },
   {
    "duration": 29,
    "start_time": "2021-12-21T05:08:19.899Z"
   },
   {
    "duration": 53,
    "start_time": "2021-12-21T05:08:19.931Z"
   },
   {
    "duration": 29,
    "start_time": "2021-12-21T05:08:19.986Z"
   },
   {
    "duration": 10,
    "start_time": "2021-12-21T05:08:20.018Z"
   },
   {
    "duration": 42,
    "start_time": "2021-12-21T05:08:20.030Z"
   },
   {
    "duration": 9,
    "start_time": "2021-12-21T05:08:20.074Z"
   },
   {
    "duration": 12,
    "start_time": "2021-12-21T05:08:20.085Z"
   },
   {
    "duration": 20,
    "start_time": "2021-12-21T05:08:20.099Z"
   },
   {
    "duration": 57,
    "start_time": "2021-12-21T05:08:20.122Z"
   },
   {
    "duration": 21,
    "start_time": "2021-12-21T05:08:20.182Z"
   },
   {
    "duration": 28,
    "start_time": "2021-12-21T05:08:20.209Z"
   },
   {
    "duration": 26,
    "start_time": "2021-12-21T05:08:20.240Z"
   },
   {
    "duration": 10,
    "start_time": "2021-12-21T05:08:20.269Z"
   },
   {
    "duration": 15,
    "start_time": "2021-12-21T05:08:20.281Z"
   },
   {
    "duration": 14,
    "start_time": "2021-12-21T05:08:20.298Z"
   },
   {
    "duration": 8,
    "start_time": "2021-12-21T05:08:20.314Z"
   },
   {
    "duration": 5,
    "start_time": "2021-12-21T05:08:20.364Z"
   },
   {
    "duration": 10,
    "start_time": "2021-12-21T05:08:20.372Z"
   },
   {
    "duration": 19,
    "start_time": "2021-12-21T05:08:20.384Z"
   },
   {
    "duration": 17,
    "start_time": "2021-12-21T05:08:20.406Z"
   },
   {
    "duration": 38,
    "start_time": "2021-12-21T05:08:20.425Z"
   },
   {
    "duration": 14,
    "start_time": "2021-12-21T05:08:20.466Z"
   },
   {
    "duration": 6,
    "start_time": "2021-12-21T05:08:20.483Z"
   },
   {
    "duration": 18,
    "start_time": "2021-12-21T05:08:20.491Z"
   },
   {
    "duration": 7,
    "start_time": "2021-12-21T05:08:20.512Z"
   },
   {
    "duration": 13,
    "start_time": "2021-12-21T05:08:20.564Z"
   },
   {
    "duration": 14,
    "start_time": "2021-12-21T05:08:20.579Z"
   },
   {
    "duration": 9,
    "start_time": "2021-12-21T05:08:20.595Z"
   },
   {
    "duration": 57,
    "start_time": "2021-12-21T05:08:20.607Z"
   },
   {
    "duration": 10,
    "start_time": "2021-12-21T05:08:20.667Z"
   },
   {
    "duration": 2,
    "start_time": "2021-12-21T05:08:20.680Z"
   },
   {
    "duration": 9,
    "start_time": "2021-12-21T05:08:20.685Z"
   },
   {
    "duration": 10,
    "start_time": "2021-12-21T05:08:20.696Z"
   },
   {
    "duration": 67,
    "start_time": "2021-12-21T05:08:20.708Z"
   },
   {
    "duration": 8,
    "start_time": "2021-12-21T05:08:20.777Z"
   },
   {
    "duration": 10,
    "start_time": "2021-12-21T05:08:20.787Z"
   },
   {
    "duration": 9,
    "start_time": "2021-12-21T05:08:20.800Z"
   },
   {
    "duration": 67,
    "start_time": "2021-12-21T05:08:20.811Z"
   },
   {
    "duration": 8,
    "start_time": "2021-12-21T05:08:20.880Z"
   },
   {
    "duration": 12,
    "start_time": "2021-12-21T05:08:20.890Z"
   },
   {
    "duration": 8,
    "start_time": "2021-12-21T05:08:20.904Z"
   },
   {
    "duration": 446,
    "start_time": "2021-12-21T05:08:20.914Z"
   },
   {
    "duration": 11,
    "start_time": "2021-12-21T05:08:25.824Z"
   },
   {
    "duration": 7865,
    "start_time": "2021-12-21T05:25:21.742Z"
   },
   {
    "duration": 295,
    "start_time": "2021-12-21T05:25:55.958Z"
   },
   {
    "duration": 20,
    "start_time": "2021-12-21T05:26:29.527Z"
   },
   {
    "duration": 22,
    "start_time": "2021-12-21T05:31:50.949Z"
   },
   {
    "duration": 354,
    "start_time": "2021-12-21T05:42:19.973Z"
   },
   {
    "duration": 21,
    "start_time": "2021-12-21T05:42:36.681Z"
   },
   {
    "duration": 1559,
    "start_time": "2021-12-21T05:44:13.904Z"
   },
   {
    "duration": 3,
    "start_time": "2021-12-21T05:44:15.466Z"
   },
   {
    "duration": 555,
    "start_time": "2021-12-21T05:44:15.472Z"
   },
   {
    "duration": 21,
    "start_time": "2021-12-21T05:44:16.030Z"
   },
   {
    "duration": 30,
    "start_time": "2021-12-21T05:44:16.053Z"
   },
   {
    "duration": 51,
    "start_time": "2021-12-21T05:44:16.086Z"
   },
   {
    "duration": 52,
    "start_time": "2021-12-21T05:44:16.140Z"
   },
   {
    "duration": 26,
    "start_time": "2021-12-21T05:44:16.196Z"
   },
   {
    "duration": 5,
    "start_time": "2021-12-21T05:44:16.225Z"
   },
   {
    "duration": 49,
    "start_time": "2021-12-21T05:44:16.233Z"
   },
   {
    "duration": 26,
    "start_time": "2021-12-21T05:44:16.286Z"
   },
   {
    "duration": 52,
    "start_time": "2021-12-21T05:44:16.315Z"
   },
   {
    "duration": 5,
    "start_time": "2021-12-21T05:44:16.370Z"
   },
   {
    "duration": 14,
    "start_time": "2021-12-21T05:44:16.379Z"
   },
   {
    "duration": 13,
    "start_time": "2021-12-21T05:44:16.396Z"
   },
   {
    "duration": 65,
    "start_time": "2021-12-21T05:44:16.411Z"
   },
   {
    "duration": 45,
    "start_time": "2021-12-21T05:44:16.479Z"
   },
   {
    "duration": 49,
    "start_time": "2021-12-21T05:44:16.527Z"
   },
   {
    "duration": 28,
    "start_time": "2021-12-21T05:44:16.578Z"
   },
   {
    "duration": 9,
    "start_time": "2021-12-21T05:44:16.609Z"
   },
   {
    "duration": 11,
    "start_time": "2021-12-21T05:44:16.621Z"
   },
   {
    "duration": 34,
    "start_time": "2021-12-21T05:44:16.635Z"
   },
   {
    "duration": 12,
    "start_time": "2021-12-21T05:44:16.676Z"
   },
   {
    "duration": 20,
    "start_time": "2021-12-21T05:44:16.692Z"
   },
   {
    "duration": 66,
    "start_time": "2021-12-21T05:44:16.715Z"
   },
   {
    "duration": 20,
    "start_time": "2021-12-21T05:44:16.783Z"
   },
   {
    "duration": 25,
    "start_time": "2021-12-21T05:44:16.806Z"
   },
   {
    "duration": 29,
    "start_time": "2021-12-21T05:44:16.834Z"
   },
   {
    "duration": 9,
    "start_time": "2021-12-21T05:44:16.866Z"
   },
   {
    "duration": 13,
    "start_time": "2021-12-21T05:44:16.878Z"
   },
   {
    "duration": 9,
    "start_time": "2021-12-21T05:44:16.895Z"
   },
   {
    "duration": 7,
    "start_time": "2021-12-21T05:44:16.907Z"
   },
   {
    "duration": 7,
    "start_time": "2021-12-21T05:44:16.963Z"
   },
   {
    "duration": 17,
    "start_time": "2021-12-21T05:44:16.973Z"
   },
   {
    "duration": 16,
    "start_time": "2021-12-21T05:44:16.992Z"
   },
   {
    "duration": 18,
    "start_time": "2021-12-21T05:44:17.011Z"
   },
   {
    "duration": 39,
    "start_time": "2021-12-21T05:44:17.031Z"
   },
   {
    "duration": 33,
    "start_time": "2021-12-21T05:44:17.073Z"
   },
   {
    "duration": 18,
    "start_time": "2021-12-21T05:44:17.109Z"
   },
   {
    "duration": 29,
    "start_time": "2021-12-21T05:44:17.130Z"
   },
   {
    "duration": 16,
    "start_time": "2021-12-21T05:44:17.162Z"
   },
   {
    "duration": 20,
    "start_time": "2021-12-21T05:44:17.180Z"
   },
   {
    "duration": 19,
    "start_time": "2021-12-21T05:44:17.202Z"
   },
   {
    "duration": 32,
    "start_time": "2021-12-21T05:44:17.224Z"
   },
   {
    "duration": 15,
    "start_time": "2021-12-21T05:44:17.259Z"
   },
   {
    "duration": 18,
    "start_time": "2021-12-21T05:44:17.276Z"
   },
   {
    "duration": 12,
    "start_time": "2021-12-21T05:44:17.297Z"
   },
   {
    "duration": 13,
    "start_time": "2021-12-21T05:44:17.312Z"
   },
   {
    "duration": 21,
    "start_time": "2021-12-21T05:44:17.329Z"
   },
   {
    "duration": 38,
    "start_time": "2021-12-21T05:44:17.362Z"
   },
   {
    "duration": 8,
    "start_time": "2021-12-21T05:44:17.403Z"
   },
   {
    "duration": 13,
    "start_time": "2021-12-21T05:44:17.415Z"
   },
   {
    "duration": 37,
    "start_time": "2021-12-21T05:44:17.431Z"
   },
   {
    "duration": 20,
    "start_time": "2021-12-21T05:44:17.471Z"
   },
   {
    "duration": 9,
    "start_time": "2021-12-21T05:44:17.494Z"
   },
   {
    "duration": 12,
    "start_time": "2021-12-21T05:44:17.505Z"
   },
   {
    "duration": 9,
    "start_time": "2021-12-21T05:44:17.564Z"
   },
   {
    "duration": 13,
    "start_time": "2021-12-21T05:44:17.576Z"
   },
   {
    "duration": 26,
    "start_time": "2021-12-21T05:44:17.592Z"
   },
   {
    "duration": 54,
    "start_time": "2021-12-21T05:44:17.620Z"
   },
   {
    "duration": 18,
    "start_time": "2021-12-21T05:44:17.677Z"
   },
   {
    "duration": 293,
    "start_time": "2021-12-21T05:53:29.690Z"
   },
   {
    "duration": 411,
    "start_time": "2021-12-21T05:53:55.207Z"
   },
   {
    "duration": 396,
    "start_time": "2021-12-21T05:57:38.113Z"
   },
   {
    "duration": 457,
    "start_time": "2021-12-21T05:57:50.286Z"
   },
   {
    "duration": 468,
    "start_time": "2021-12-21T06:01:04.110Z"
   },
   {
    "duration": 2528,
    "start_time": "2021-12-21T06:01:35.771Z"
   },
   {
    "duration": 335,
    "start_time": "2021-12-21T06:03:52.021Z"
   },
   {
    "duration": 345,
    "start_time": "2021-12-21T06:04:02.134Z"
   },
   {
    "duration": 634,
    "start_time": "2021-12-21T06:04:59.836Z"
   },
   {
    "duration": 816,
    "start_time": "2021-12-21T06:06:02.006Z"
   },
   {
    "duration": 693,
    "start_time": "2021-12-21T06:06:26.957Z"
   },
   {
    "duration": 646,
    "start_time": "2021-12-21T06:06:35.540Z"
   },
   {
    "duration": 520,
    "start_time": "2021-12-21T06:06:48.910Z"
   },
   {
    "duration": 797,
    "start_time": "2021-12-21T06:09:21.854Z"
   },
   {
    "duration": 665,
    "start_time": "2021-12-21T06:10:33.640Z"
   },
   {
    "duration": 652,
    "start_time": "2021-12-21T06:10:38.509Z"
   },
   {
    "duration": 1457,
    "start_time": "2021-12-21T06:12:01.954Z"
   },
   {
    "duration": 3,
    "start_time": "2021-12-21T06:12:03.414Z"
   },
   {
    "duration": 524,
    "start_time": "2021-12-21T06:12:03.420Z"
   },
   {
    "duration": 15,
    "start_time": "2021-12-21T06:12:03.946Z"
   },
   {
    "duration": 28,
    "start_time": "2021-12-21T06:12:03.964Z"
   },
   {
    "duration": 43,
    "start_time": "2021-12-21T06:12:03.994Z"
   },
   {
    "duration": 51,
    "start_time": "2021-12-21T06:12:04.040Z"
   },
   {
    "duration": 26,
    "start_time": "2021-12-21T06:12:04.095Z"
   },
   {
    "duration": 7,
    "start_time": "2021-12-21T06:12:04.124Z"
   },
   {
    "duration": 18,
    "start_time": "2021-12-21T06:12:04.165Z"
   },
   {
    "duration": 25,
    "start_time": "2021-12-21T06:12:04.186Z"
   },
   {
    "duration": 78,
    "start_time": "2021-12-21T06:12:04.214Z"
   },
   {
    "duration": 5,
    "start_time": "2021-12-21T06:12:04.295Z"
   },
   {
    "duration": 13,
    "start_time": "2021-12-21T06:12:04.303Z"
   },
   {
    "duration": 50,
    "start_time": "2021-12-21T06:12:04.319Z"
   },
   {
    "duration": 23,
    "start_time": "2021-12-21T06:12:04.372Z"
   },
   {
    "duration": 29,
    "start_time": "2021-12-21T06:12:04.397Z"
   },
   {
    "duration": 49,
    "start_time": "2021-12-21T06:12:04.429Z"
   },
   {
    "duration": 28,
    "start_time": "2021-12-21T06:12:04.481Z"
   },
   {
    "duration": 10,
    "start_time": "2021-12-21T06:12:04.511Z"
   },
   {
    "duration": 41,
    "start_time": "2021-12-21T06:12:04.523Z"
   },
   {
    "duration": 8,
    "start_time": "2021-12-21T06:12:04.567Z"
   },
   {
    "duration": 9,
    "start_time": "2021-12-21T06:12:04.581Z"
   },
   {
    "duration": 18,
    "start_time": "2021-12-21T06:12:04.593Z"
   },
   {
    "duration": 60,
    "start_time": "2021-12-21T06:12:04.614Z"
   },
   {
    "duration": 21,
    "start_time": "2021-12-21T06:12:04.676Z"
   },
   {
    "duration": 27,
    "start_time": "2021-12-21T06:12:04.699Z"
   },
   {
    "duration": 5,
    "start_time": "2021-12-21T06:12:04.728Z"
   },
   {
    "duration": 12,
    "start_time": "2021-12-21T06:12:04.762Z"
   },
   {
    "duration": 20,
    "start_time": "2021-12-21T06:12:04.776Z"
   },
   {
    "duration": 16,
    "start_time": "2021-12-21T06:12:04.800Z"
   },
   {
    "duration": 6,
    "start_time": "2021-12-21T06:12:04.819Z"
   },
   {
    "duration": 10,
    "start_time": "2021-12-21T06:12:04.828Z"
   },
   {
    "duration": 7,
    "start_time": "2021-12-21T06:12:04.864Z"
   },
   {
    "duration": 21,
    "start_time": "2021-12-21T06:12:04.874Z"
   },
   {
    "duration": 22,
    "start_time": "2021-12-21T06:12:04.898Z"
   },
   {
    "duration": 41,
    "start_time": "2021-12-21T06:12:04.923Z"
   },
   {
    "duration": 33,
    "start_time": "2021-12-21T06:12:04.967Z"
   },
   {
    "duration": 17,
    "start_time": "2021-12-21T06:12:05.002Z"
   },
   {
    "duration": 31,
    "start_time": "2021-12-21T06:12:05.021Z"
   },
   {
    "duration": 20,
    "start_time": "2021-12-21T06:12:05.054Z"
   },
   {
    "duration": 24,
    "start_time": "2021-12-21T06:12:05.076Z"
   },
   {
    "duration": 19,
    "start_time": "2021-12-21T06:12:05.102Z"
   },
   {
    "duration": 27,
    "start_time": "2021-12-21T06:12:05.123Z"
   },
   {
    "duration": 21,
    "start_time": "2021-12-21T06:12:05.153Z"
   },
   {
    "duration": 17,
    "start_time": "2021-12-21T06:12:05.176Z"
   },
   {
    "duration": 24,
    "start_time": "2021-12-21T06:12:05.196Z"
   },
   {
    "duration": 25,
    "start_time": "2021-12-21T06:12:05.222Z"
   },
   {
    "duration": 21,
    "start_time": "2021-12-21T06:12:05.249Z"
   },
   {
    "duration": 34,
    "start_time": "2021-12-21T06:12:05.273Z"
   },
   {
    "duration": 21,
    "start_time": "2021-12-21T06:12:05.310Z"
   },
   {
    "duration": 40,
    "start_time": "2021-12-21T06:12:05.333Z"
   },
   {
    "duration": 19,
    "start_time": "2021-12-21T06:12:05.376Z"
   },
   {
    "duration": 42,
    "start_time": "2021-12-21T06:12:05.397Z"
   },
   {
    "duration": 9,
    "start_time": "2021-12-21T06:12:05.441Z"
   },
   {
    "duration": 26,
    "start_time": "2021-12-21T06:12:05.452Z"
   },
   {
    "duration": 9,
    "start_time": "2021-12-21T06:12:05.481Z"
   },
   {
    "duration": 21,
    "start_time": "2021-12-21T06:12:05.492Z"
   },
   {
    "duration": 23,
    "start_time": "2021-12-21T06:12:05.516Z"
   },
   {
    "duration": 31,
    "start_time": "2021-12-21T06:12:05.542Z"
   },
   {
    "duration": 21,
    "start_time": "2021-12-21T06:12:05.576Z"
   },
   {
    "duration": 398,
    "start_time": "2021-12-21T06:12:05.600Z"
   },
   {
    "duration": 348,
    "start_time": "2021-12-21T06:13:54.790Z"
   },
   {
    "duration": 352,
    "start_time": "2021-12-21T06:14:10.993Z"
   },
   {
    "duration": 666,
    "start_time": "2021-12-21T06:27:02.999Z"
   },
   {
    "duration": 684,
    "start_time": "2021-12-21T06:27:33.550Z"
   },
   {
    "duration": 671,
    "start_time": "2021-12-21T06:27:51.774Z"
   },
   {
    "duration": 736,
    "start_time": "2021-12-21T06:28:38.580Z"
   },
   {
    "duration": 959,
    "start_time": "2021-12-21T06:29:02.486Z"
   },
   {
    "duration": 1132,
    "start_time": "2021-12-21T06:29:37.798Z"
   },
   {
    "duration": 569,
    "start_time": "2021-12-21T06:29:50.044Z"
   },
   {
    "duration": 632,
    "start_time": "2021-12-21T06:30:46.277Z"
   },
   {
    "duration": 724,
    "start_time": "2021-12-21T06:32:08.764Z"
   },
   {
    "duration": 1011,
    "start_time": "2021-12-21T06:32:32.990Z"
   },
   {
    "duration": 874,
    "start_time": "2021-12-21T06:37:51.090Z"
   },
   {
    "duration": 408,
    "start_time": "2021-12-21T06:39:17.284Z"
   },
   {
    "duration": 314,
    "start_time": "2021-12-21T06:39:26.379Z"
   },
   {
    "duration": 342,
    "start_time": "2021-12-21T06:40:24.419Z"
   },
   {
    "duration": 609,
    "start_time": "2021-12-21T06:41:18.530Z"
   },
   {
    "duration": 362,
    "start_time": "2021-12-21T06:41:36.595Z"
   },
   {
    "duration": 327,
    "start_time": "2021-12-21T06:41:58.977Z"
   },
   {
    "duration": 433,
    "start_time": "2021-12-21T06:42:26.033Z"
   },
   {
    "duration": 735,
    "start_time": "2021-12-21T06:43:59.930Z"
   },
   {
    "duration": 355,
    "start_time": "2021-12-21T06:44:52.346Z"
   },
   {
    "duration": 542,
    "start_time": "2021-12-21T06:45:18.379Z"
   },
   {
    "duration": 781,
    "start_time": "2021-12-21T06:45:49.160Z"
   },
   {
    "duration": 553,
    "start_time": "2021-12-21T06:46:03.073Z"
   },
   {
    "duration": 723,
    "start_time": "2021-12-21T06:46:28.217Z"
   },
   {
    "duration": 433,
    "start_time": "2021-12-21T06:46:41.858Z"
   },
   {
    "duration": 389,
    "start_time": "2021-12-21T06:52:25.226Z"
   },
   {
    "duration": 378,
    "start_time": "2021-12-21T06:52:42.416Z"
   },
   {
    "duration": 485,
    "start_time": "2021-12-21T06:53:28.009Z"
   },
   {
    "duration": 631,
    "start_time": "2021-12-21T06:53:57.733Z"
   },
   {
    "duration": 357,
    "start_time": "2021-12-21T06:54:30.446Z"
   },
   {
    "duration": 8123,
    "start_time": "2021-12-21T06:54:59.206Z"
   },
   {
    "duration": 499,
    "start_time": "2021-12-21T06:55:15.813Z"
   },
   {
    "duration": 449,
    "start_time": "2021-12-21T06:56:08.592Z"
   },
   {
    "duration": 454,
    "start_time": "2021-12-21T06:57:08.538Z"
   },
   {
    "duration": 698,
    "start_time": "2021-12-21T06:59:14.746Z"
   },
   {
    "duration": 705,
    "start_time": "2021-12-21T07:00:27.052Z"
   },
   {
    "duration": 1047,
    "start_time": "2021-12-21T07:00:45.191Z"
   },
   {
    "duration": 714,
    "start_time": "2021-12-21T07:01:01.102Z"
   },
   {
    "duration": 436,
    "start_time": "2021-12-21T07:01:12.998Z"
   },
   {
    "duration": 443,
    "start_time": "2021-12-21T07:02:01.476Z"
   },
   {
    "duration": 808,
    "start_time": "2021-12-21T07:02:44.755Z"
   },
   {
    "duration": 441,
    "start_time": "2021-12-21T07:03:02.779Z"
   },
   {
    "duration": 439,
    "start_time": "2021-12-21T07:03:58.474Z"
   },
   {
    "duration": 443,
    "start_time": "2021-12-21T07:05:33.931Z"
   },
   {
    "duration": 440,
    "start_time": "2021-12-21T07:05:41.965Z"
   },
   {
    "duration": 408,
    "start_time": "2021-12-21T07:08:48.730Z"
   },
   {
    "duration": 492,
    "start_time": "2021-12-21T07:09:03.017Z"
   },
   {
    "duration": 611,
    "start_time": "2021-12-21T07:09:16.274Z"
   },
   {
    "duration": 854,
    "start_time": "2021-12-21T07:11:23.994Z"
   },
   {
    "duration": 431,
    "start_time": "2021-12-21T07:11:32.984Z"
   },
   {
    "duration": 548,
    "start_time": "2021-12-21T07:12:26.785Z"
   },
   {
    "duration": 434,
    "start_time": "2021-12-21T07:12:42.313Z"
   },
   {
    "duration": 479,
    "start_time": "2021-12-21T07:13:02.560Z"
   },
   {
    "duration": 499,
    "start_time": "2021-12-21T07:13:23.297Z"
   },
   {
    "duration": 501,
    "start_time": "2021-12-21T07:14:36.085Z"
   },
   {
    "duration": 903,
    "start_time": "2021-12-21T07:14:51.682Z"
   },
   {
    "duration": 1075,
    "start_time": "2021-12-21T07:15:12.088Z"
   },
   {
    "duration": 713,
    "start_time": "2021-12-21T07:15:32.872Z"
   },
   {
    "duration": 427,
    "start_time": "2021-12-21T07:15:47.089Z"
   },
   {
    "duration": 354,
    "start_time": "2021-12-21T07:15:59.544Z"
   },
   {
    "duration": 344,
    "start_time": "2021-12-21T07:16:18.444Z"
   },
   {
    "duration": 9,
    "start_time": "2021-12-21T07:18:05.353Z"
   },
   {
    "duration": 9,
    "start_time": "2021-12-21T07:18:23.062Z"
   },
   {
    "duration": 382,
    "start_time": "2021-12-21T07:19:09.080Z"
   },
   {
    "duration": 12,
    "start_time": "2021-12-21T07:19:43.183Z"
   },
   {
    "duration": 643,
    "start_time": "2021-12-21T07:20:05.312Z"
   },
   {
    "duration": 30,
    "start_time": "2021-12-21T07:22:37.806Z"
   },
   {
    "duration": 21,
    "start_time": "2021-12-21T07:22:55.262Z"
   },
   {
    "duration": 29,
    "start_time": "2021-12-21T07:23:19.550Z"
   },
   {
    "duration": 1516,
    "start_time": "2021-12-21T07:23:25.637Z"
   },
   {
    "duration": 3,
    "start_time": "2021-12-21T07:23:27.155Z"
   },
   {
    "duration": 525,
    "start_time": "2021-12-21T07:23:27.164Z"
   },
   {
    "duration": 15,
    "start_time": "2021-12-21T07:23:27.692Z"
   },
   {
    "duration": 40,
    "start_time": "2021-12-21T07:23:27.709Z"
   },
   {
    "duration": 45,
    "start_time": "2021-12-21T07:23:27.752Z"
   },
   {
    "duration": 34,
    "start_time": "2021-12-21T07:23:27.799Z"
   },
   {
    "duration": 40,
    "start_time": "2021-12-21T07:23:27.835Z"
   },
   {
    "duration": 6,
    "start_time": "2021-12-21T07:23:27.879Z"
   },
   {
    "duration": 18,
    "start_time": "2021-12-21T07:23:27.889Z"
   },
   {
    "duration": 60,
    "start_time": "2021-12-21T07:23:27.910Z"
   },
   {
    "duration": 31,
    "start_time": "2021-12-21T07:23:27.973Z"
   },
   {
    "duration": 4,
    "start_time": "2021-12-21T07:23:28.007Z"
   },
   {
    "duration": 16,
    "start_time": "2021-12-21T07:23:28.014Z"
   },
   {
    "duration": 39,
    "start_time": "2021-12-21T07:23:28.033Z"
   },
   {
    "duration": 23,
    "start_time": "2021-12-21T07:23:28.075Z"
   },
   {
    "duration": 29,
    "start_time": "2021-12-21T07:23:28.101Z"
   },
   {
    "duration": 49,
    "start_time": "2021-12-21T07:23:28.133Z"
   },
   {
    "duration": 30,
    "start_time": "2021-12-21T07:23:28.184Z"
   },
   {
    "duration": 10,
    "start_time": "2021-12-21T07:23:28.216Z"
   },
   {
    "duration": 41,
    "start_time": "2021-12-21T07:23:28.229Z"
   },
   {
    "duration": 10,
    "start_time": "2021-12-21T07:23:28.272Z"
   },
   {
    "duration": 11,
    "start_time": "2021-12-21T07:23:28.284Z"
   },
   {
    "duration": 18,
    "start_time": "2021-12-21T07:23:28.298Z"
   },
   {
    "duration": 62,
    "start_time": "2021-12-21T07:23:28.319Z"
   },
   {
    "duration": 22,
    "start_time": "2021-12-21T07:23:28.383Z"
   },
   {
    "duration": 26,
    "start_time": "2021-12-21T07:23:28.412Z"
   },
   {
    "duration": 5,
    "start_time": "2021-12-21T07:23:28.462Z"
   },
   {
    "duration": 8,
    "start_time": "2021-12-21T07:23:28.470Z"
   },
   {
    "duration": 11,
    "start_time": "2021-12-21T07:23:28.481Z"
   },
   {
    "duration": 9,
    "start_time": "2021-12-21T07:23:28.494Z"
   },
   {
    "duration": 8,
    "start_time": "2021-12-21T07:23:28.506Z"
   },
   {
    "duration": 47,
    "start_time": "2021-12-21T07:23:28.516Z"
   },
   {
    "duration": 9,
    "start_time": "2021-12-21T07:23:28.567Z"
   },
   {
    "duration": 20,
    "start_time": "2021-12-21T07:23:28.579Z"
   },
   {
    "duration": 15,
    "start_time": "2021-12-21T07:23:28.601Z"
   },
   {
    "duration": 45,
    "start_time": "2021-12-21T07:23:28.619Z"
   },
   {
    "duration": 16,
    "start_time": "2021-12-21T07:23:28.667Z"
   },
   {
    "duration": 5,
    "start_time": "2021-12-21T07:23:28.686Z"
   },
   {
    "duration": 17,
    "start_time": "2021-12-21T07:23:28.693Z"
   },
   {
    "duration": 53,
    "start_time": "2021-12-21T07:23:28.713Z"
   },
   {
    "duration": 13,
    "start_time": "2021-12-21T07:23:28.768Z"
   },
   {
    "duration": 12,
    "start_time": "2021-12-21T07:23:28.783Z"
   },
   {
    "duration": 9,
    "start_time": "2021-12-21T07:23:28.797Z"
   },
   {
    "duration": 9,
    "start_time": "2021-12-21T07:23:28.809Z"
   },
   {
    "duration": 50,
    "start_time": "2021-12-21T07:23:28.820Z"
   },
   {
    "duration": 3,
    "start_time": "2021-12-21T07:23:28.872Z"
   },
   {
    "duration": 10,
    "start_time": "2021-12-21T07:23:28.877Z"
   },
   {
    "duration": 10,
    "start_time": "2021-12-21T07:23:28.889Z"
   },
   {
    "duration": 19,
    "start_time": "2021-12-21T07:23:28.901Z"
   },
   {
    "duration": 45,
    "start_time": "2021-12-21T07:23:28.922Z"
   },
   {
    "duration": 9,
    "start_time": "2021-12-21T07:23:28.970Z"
   },
   {
    "duration": 9,
    "start_time": "2021-12-21T07:23:28.981Z"
   },
   {
    "duration": 16,
    "start_time": "2021-12-21T07:23:28.992Z"
   },
   {
    "duration": 7,
    "start_time": "2021-12-21T07:23:29.011Z"
   },
   {
    "duration": 11,
    "start_time": "2021-12-21T07:23:29.064Z"
   },
   {
    "duration": 7,
    "start_time": "2021-12-21T07:23:29.078Z"
   },
   {
    "duration": 11,
    "start_time": "2021-12-21T07:23:29.087Z"
   },
   {
    "duration": 73,
    "start_time": "2021-12-21T07:23:29.101Z"
   },
   {
    "duration": 19,
    "start_time": "2021-12-21T07:23:29.176Z"
   },
   {
    "duration": 27,
    "start_time": "2021-12-21T07:23:29.197Z"
   },
   {
    "duration": 371,
    "start_time": "2021-12-21T07:23:29.227Z"
   },
   {
    "duration": 704,
    "start_time": "2021-12-21T07:23:29.601Z"
   },
   {
    "duration": 467,
    "start_time": "2021-12-21T07:23:30.307Z"
   },
   {
    "duration": 543,
    "start_time": "2021-12-21T07:23:30.776Z"
   },
   {
    "duration": 12,
    "start_time": "2021-12-21T07:23:31.322Z"
   },
   {
    "duration": 504,
    "start_time": "2021-12-21T07:23:31.336Z"
   },
   {
    "duration": 429,
    "start_time": "2021-12-21T07:26:56.287Z"
   },
   {
    "duration": 27,
    "start_time": "2021-12-21T07:27:55.471Z"
   },
   {
    "duration": 33,
    "start_time": "2021-12-21T07:29:04.526Z"
   },
   {
    "duration": 32,
    "start_time": "2021-12-21T07:31:29.592Z"
   },
   {
    "duration": 22,
    "start_time": "2021-12-21T07:48:59.689Z"
   },
   {
    "duration": 17,
    "start_time": "2021-12-21T07:55:27.792Z"
   },
   {
    "duration": 308,
    "start_time": "2021-12-21T07:58:54.647Z"
   },
   {
    "duration": 14,
    "start_time": "2021-12-21T07:59:17.526Z"
   },
   {
    "duration": 12,
    "start_time": "2021-12-21T08:01:57.984Z"
   },
   {
    "duration": 16,
    "start_time": "2021-12-21T08:02:20.582Z"
   },
   {
    "duration": 430,
    "start_time": "2021-12-21T10:12:44.654Z"
   },
   {
    "duration": 746,
    "start_time": "2021-12-21T10:16:13.336Z"
   },
   {
    "duration": 438,
    "start_time": "2021-12-21T10:16:41.512Z"
   },
   {
    "duration": 484,
    "start_time": "2021-12-21T10:17:42.873Z"
   },
   {
    "duration": 1580,
    "start_time": "2021-12-21T10:18:03.590Z"
   },
   {
    "duration": 1165,
    "start_time": "2021-12-21T10:20:06.308Z"
   },
   {
    "duration": 693,
    "start_time": "2021-12-21T10:20:20.932Z"
   },
   {
    "duration": 603,
    "start_time": "2021-12-21T10:20:41.153Z"
   },
   {
    "duration": 420,
    "start_time": "2021-12-21T10:20:55.992Z"
   },
   {
    "duration": 382,
    "start_time": "2021-12-21T10:21:13.220Z"
   },
   {
    "duration": 700,
    "start_time": "2021-12-21T10:23:08.266Z"
   },
   {
    "duration": 478,
    "start_time": "2021-12-21T10:23:23.297Z"
   },
   {
    "duration": 681,
    "start_time": "2021-12-21T10:26:41.708Z"
   },
   {
    "duration": 395,
    "start_time": "2021-12-21T10:27:18.395Z"
   },
   {
    "duration": 487,
    "start_time": "2021-12-21T10:27:58.609Z"
   },
   {
    "duration": 15,
    "start_time": "2021-12-21T10:36:34.579Z"
   },
   {
    "duration": 13,
    "start_time": "2021-12-21T10:36:59.629Z"
   },
   {
    "duration": 14,
    "start_time": "2021-12-21T10:37:32.423Z"
   },
   {
    "duration": 15,
    "start_time": "2021-12-21T10:44:33.242Z"
   },
   {
    "duration": 356,
    "start_time": "2021-12-21T10:55:58.418Z"
   },
   {
    "duration": 299,
    "start_time": "2021-12-21T10:56:45.330Z"
   },
   {
    "duration": 22,
    "start_time": "2021-12-21T10:58:05.628Z"
   },
   {
    "duration": 709,
    "start_time": "2021-12-21T10:59:27.582Z"
   },
   {
    "duration": 26,
    "start_time": "2021-12-21T11:00:10.380Z"
   },
   {
    "duration": 17,
    "start_time": "2021-12-21T11:00:58.364Z"
   },
   {
    "duration": 306,
    "start_time": "2021-12-21T11:02:28.835Z"
   },
   {
    "duration": 18,
    "start_time": "2021-12-21T11:02:33.329Z"
   },
   {
    "duration": 308,
    "start_time": "2021-12-21T11:02:35.684Z"
   },
   {
    "duration": 396,
    "start_time": "2021-12-21T11:02:41.730Z"
   },
   {
    "duration": 10,
    "start_time": "2021-12-21T11:03:09.739Z"
   },
   {
    "duration": 7,
    "start_time": "2021-12-21T11:03:45.139Z"
   },
   {
    "duration": 11,
    "start_time": "2021-12-21T11:03:59.618Z"
   },
   {
    "duration": 363,
    "start_time": "2021-12-21T11:04:18.186Z"
   },
   {
    "duration": 7,
    "start_time": "2021-12-21T11:04:27.145Z"
   },
   {
    "duration": 11,
    "start_time": "2021-12-21T11:04:31.995Z"
   },
   {
    "duration": 5,
    "start_time": "2021-12-21T11:05:01.715Z"
   },
   {
    "duration": 11,
    "start_time": "2021-12-21T11:05:04.050Z"
   },
   {
    "duration": 4,
    "start_time": "2021-12-21T11:08:54.217Z"
   },
   {
    "duration": 4,
    "start_time": "2021-12-21T11:09:06.544Z"
   },
   {
    "duration": 6,
    "start_time": "2021-12-21T11:09:23.937Z"
   },
   {
    "duration": 7,
    "start_time": "2021-12-21T11:10:38.888Z"
   },
   {
    "duration": 5,
    "start_time": "2021-12-21T11:10:44.447Z"
   },
   {
    "duration": 291,
    "start_time": "2021-12-21T11:13:21.497Z"
   },
   {
    "duration": 5,
    "start_time": "2021-12-21T11:13:35.738Z"
   },
   {
    "duration": 18,
    "start_time": "2021-12-21T11:13:53.921Z"
   },
   {
    "duration": 14,
    "start_time": "2021-12-21T11:13:57.199Z"
   },
   {
    "duration": 526,
    "start_time": "2021-12-21T11:14:50.945Z"
   },
   {
    "duration": 9,
    "start_time": "2021-12-21T11:15:03.737Z"
   },
   {
    "duration": 5,
    "start_time": "2021-12-21T11:15:17.489Z"
   },
   {
    "duration": 16,
    "start_time": "2021-12-21T11:15:28.968Z"
   },
   {
    "duration": 5,
    "start_time": "2021-12-21T11:15:58.992Z"
   },
   {
    "duration": 5,
    "start_time": "2021-12-21T11:17:51.338Z"
   },
   {
    "duration": 352,
    "start_time": "2021-12-21T11:18:04.394Z"
   },
   {
    "duration": 5,
    "start_time": "2021-12-21T11:18:22.810Z"
   },
   {
    "duration": 11,
    "start_time": "2021-12-21T11:21:25.743Z"
   },
   {
    "duration": 6,
    "start_time": "2021-12-21T11:24:38.261Z"
   },
   {
    "duration": 4,
    "start_time": "2021-12-21T11:24:44.077Z"
   },
   {
    "duration": 10,
    "start_time": "2021-12-21T11:24:46.421Z"
   },
   {
    "duration": 398,
    "start_time": "2021-12-21T11:27:53.053Z"
   },
   {
    "duration": 5,
    "start_time": "2021-12-21T11:28:00.284Z"
   },
   {
    "duration": 5,
    "start_time": "2021-12-21T11:28:02.880Z"
   },
   {
    "duration": 11,
    "start_time": "2021-12-21T11:28:08.268Z"
   },
   {
    "duration": 10,
    "start_time": "2021-12-21T11:30:53.511Z"
   },
   {
    "duration": 272,
    "start_time": "2021-12-21T11:40:49.664Z"
   },
   {
    "duration": 302,
    "start_time": "2021-12-21T11:41:25.240Z"
   },
   {
    "duration": 5,
    "start_time": "2021-12-21T12:05:14.506Z"
   },
   {
    "duration": 8,
    "start_time": "2021-12-21T12:34:19.649Z"
   },
   {
    "duration": 12,
    "start_time": "2021-12-21T12:34:21.833Z"
   },
   {
    "duration": 8,
    "start_time": "2021-12-21T12:36:40.888Z"
   },
   {
    "duration": 11,
    "start_time": "2021-12-21T12:36:44.083Z"
   },
   {
    "duration": 6,
    "start_time": "2021-12-21T12:42:50.063Z"
   },
   {
    "duration": 12,
    "start_time": "2021-12-21T12:43:30.000Z"
   },
   {
    "duration": 1813,
    "start_time": "2021-12-21T16:10:00.023Z"
   },
   {
    "duration": 664,
    "start_time": "2021-12-21T16:10:01.838Z"
   },
   {
    "duration": 21,
    "start_time": "2021-12-21T16:10:02.505Z"
   },
   {
    "duration": 41,
    "start_time": "2021-12-21T16:10:02.530Z"
   },
   {
    "duration": 53,
    "start_time": "2021-12-21T16:10:02.575Z"
   },
   {
    "duration": 51,
    "start_time": "2021-12-21T16:10:02.631Z"
   },
   {
    "duration": 9,
    "start_time": "2021-12-21T16:10:02.685Z"
   },
   {
    "duration": 14,
    "start_time": "2021-12-21T16:10:02.697Z"
   },
   {
    "duration": 61,
    "start_time": "2021-12-21T16:10:02.717Z"
   },
   {
    "duration": 36,
    "start_time": "2021-12-21T16:10:02.783Z"
   },
   {
    "duration": 5,
    "start_time": "2021-12-21T16:10:02.821Z"
   },
   {
    "duration": 35,
    "start_time": "2021-12-21T16:10:02.829Z"
   },
   {
    "duration": 14,
    "start_time": "2021-12-21T16:10:02.867Z"
   },
   {
    "duration": 24,
    "start_time": "2021-12-21T16:10:02.884Z"
   },
   {
    "duration": 71,
    "start_time": "2021-12-21T16:10:02.911Z"
   },
   {
    "duration": 27,
    "start_time": "2021-12-21T16:10:02.985Z"
   },
   {
    "duration": 63,
    "start_time": "2021-12-21T16:10:03.015Z"
   },
   {
    "duration": 11,
    "start_time": "2021-12-21T16:10:03.081Z"
   },
   {
    "duration": 33,
    "start_time": "2021-12-21T16:10:03.095Z"
   },
   {
    "duration": 10,
    "start_time": "2021-12-21T16:10:03.131Z"
   },
   {
    "duration": 22,
    "start_time": "2021-12-21T16:10:03.144Z"
   },
   {
    "duration": 22,
    "start_time": "2021-12-21T16:10:03.169Z"
   },
   {
    "duration": 26,
    "start_time": "2021-12-21T16:10:03.194Z"
   },
   {
    "duration": 53,
    "start_time": "2021-12-21T16:10:03.222Z"
   },
   {
    "duration": 31,
    "start_time": "2021-12-21T16:10:03.278Z"
   },
   {
    "duration": 7,
    "start_time": "2021-12-21T16:10:03.312Z"
   },
   {
    "duration": 33,
    "start_time": "2021-12-21T16:10:03.327Z"
   },
   {
    "duration": 14,
    "start_time": "2021-12-21T16:10:03.364Z"
   },
   {
    "duration": 13,
    "start_time": "2021-12-21T16:10:03.381Z"
   },
   {
    "duration": 11,
    "start_time": "2021-12-21T16:10:03.397Z"
   },
   {
    "duration": 13,
    "start_time": "2021-12-21T16:10:03.411Z"
   },
   {
    "duration": 35,
    "start_time": "2021-12-21T16:10:03.427Z"
   },
   {
    "duration": 17,
    "start_time": "2021-12-21T16:10:03.465Z"
   },
   {
    "duration": 20,
    "start_time": "2021-12-21T16:10:03.485Z"
   },
   {
    "duration": 54,
    "start_time": "2021-12-21T16:10:03.508Z"
   },
   {
    "duration": 29,
    "start_time": "2021-12-21T16:10:03.567Z"
   },
   {
    "duration": 9,
    "start_time": "2021-12-21T16:10:03.599Z"
   },
   {
    "duration": 21,
    "start_time": "2021-12-21T16:10:03.611Z"
   },
   {
    "duration": 36,
    "start_time": "2021-12-21T16:10:03.636Z"
   },
   {
    "duration": 12,
    "start_time": "2021-12-21T16:10:03.676Z"
   },
   {
    "duration": 13,
    "start_time": "2021-12-21T16:10:03.690Z"
   },
   {
    "duration": 11,
    "start_time": "2021-12-21T16:10:03.705Z"
   },
   {
    "duration": 45,
    "start_time": "2021-12-21T16:10:03.718Z"
   },
   {
    "duration": 13,
    "start_time": "2021-12-21T16:10:03.765Z"
   },
   {
    "duration": 18,
    "start_time": "2021-12-21T16:10:03.781Z"
   },
   {
    "duration": 20,
    "start_time": "2021-12-21T16:10:03.802Z"
   },
   {
    "duration": 59,
    "start_time": "2021-12-21T16:10:03.825Z"
   },
   {
    "duration": 38,
    "start_time": "2021-12-21T16:10:03.889Z"
   },
   {
    "duration": 64,
    "start_time": "2021-12-21T16:10:03.930Z"
   },
   {
    "duration": 16,
    "start_time": "2021-12-21T16:10:03.997Z"
   },
   {
    "duration": 70,
    "start_time": "2021-12-21T16:10:04.016Z"
   },
   {
    "duration": 10,
    "start_time": "2021-12-21T16:10:04.090Z"
   },
   {
    "duration": 14,
    "start_time": "2021-12-21T16:10:04.103Z"
   },
   {
    "duration": 418,
    "start_time": "2021-12-21T16:10:04.119Z"
   },
   {
    "duration": 621,
    "start_time": "2021-12-21T16:10:04.540Z"
   },
   {
    "duration": 780,
    "start_time": "2021-12-21T16:10:05.164Z"
   },
   {
    "duration": 607,
    "start_time": "2021-12-21T16:10:05.946Z"
   },
   {
    "duration": 8,
    "start_time": "2021-12-21T16:10:06.560Z"
   },
   {
    "duration": 402,
    "start_time": "2021-12-21T16:10:06.571Z"
   },
   {
    "duration": 20,
    "start_time": "2021-12-21T16:10:06.976Z"
   },
   {
    "duration": 12,
    "start_time": "2021-12-21T16:10:06.998Z"
   },
   {
    "duration": 48,
    "start_time": "2021-12-21T16:10:07.013Z"
   },
   {
    "duration": 13,
    "start_time": "2021-12-21T16:10:07.063Z"
   },
   {
    "duration": 581,
    "start_time": "2021-12-21T16:12:31.322Z"
   },
   {
    "duration": 1126,
    "start_time": "2021-12-21T16:13:58.318Z"
   },
   {
    "duration": 663,
    "start_time": "2021-12-21T16:14:18.019Z"
   },
   {
    "duration": 877,
    "start_time": "2021-12-21T16:15:35.705Z"
   },
   {
    "duration": 1133,
    "start_time": "2021-12-21T16:15:52.956Z"
   },
   {
    "duration": 913,
    "start_time": "2021-12-21T16:16:23.699Z"
   },
   {
    "duration": 527,
    "start_time": "2021-12-21T16:16:39.112Z"
   },
   {
    "duration": 522,
    "start_time": "2021-12-21T16:17:26.488Z"
   },
   {
    "duration": 1314,
    "start_time": "2021-12-21T17:47:14.203Z"
   },
   {
    "duration": 541,
    "start_time": "2021-12-21T17:47:15.520Z"
   },
   {
    "duration": 15,
    "start_time": "2021-12-21T17:47:16.064Z"
   },
   {
    "duration": 28,
    "start_time": "2021-12-21T17:47:16.082Z"
   },
   {
    "duration": 75,
    "start_time": "2021-12-21T17:47:16.113Z"
   },
   {
    "duration": 33,
    "start_time": "2021-12-21T17:47:16.191Z"
   },
   {
    "duration": 6,
    "start_time": "2021-12-21T17:47:16.226Z"
   },
   {
    "duration": 36,
    "start_time": "2021-12-21T17:47:16.235Z"
   },
   {
    "duration": 27,
    "start_time": "2021-12-21T17:47:16.277Z"
   },
   {
    "duration": 57,
    "start_time": "2021-12-21T17:47:16.308Z"
   },
   {
    "duration": 6,
    "start_time": "2021-12-21T17:47:16.368Z"
   },
   {
    "duration": 13,
    "start_time": "2021-12-21T17:47:16.377Z"
   },
   {
    "duration": 16,
    "start_time": "2021-12-21T17:47:16.393Z"
   },
   {
    "duration": 75,
    "start_time": "2021-12-21T17:47:16.411Z"
   },
   {
    "duration": 30,
    "start_time": "2021-12-21T17:47:16.488Z"
   },
   {
    "duration": 52,
    "start_time": "2021-12-21T17:47:16.522Z"
   },
   {
    "duration": 35,
    "start_time": "2021-12-21T17:47:16.576Z"
   },
   {
    "duration": 12,
    "start_time": "2021-12-21T17:47:16.614Z"
   },
   {
    "duration": 37,
    "start_time": "2021-12-21T17:47:16.629Z"
   },
   {
    "duration": 9,
    "start_time": "2021-12-21T17:47:16.669Z"
   },
   {
    "duration": 10,
    "start_time": "2021-12-21T17:47:16.680Z"
   },
   {
    "duration": 18,
    "start_time": "2021-12-21T17:47:16.693Z"
   },
   {
    "duration": 62,
    "start_time": "2021-12-21T17:47:16.713Z"
   },
   {
    "duration": 22,
    "start_time": "2021-12-21T17:47:16.777Z"
   },
   {
    "duration": 29,
    "start_time": "2021-12-21T17:47:16.801Z"
   },
   {
    "duration": 32,
    "start_time": "2021-12-21T17:47:16.833Z"
   },
   {
    "duration": 8,
    "start_time": "2021-12-21T17:47:16.873Z"
   },
   {
    "duration": 14,
    "start_time": "2021-12-21T17:47:16.885Z"
   },
   {
    "duration": 12,
    "start_time": "2021-12-21T17:47:16.902Z"
   },
   {
    "duration": 6,
    "start_time": "2021-12-21T17:47:16.960Z"
   },
   {
    "duration": 8,
    "start_time": "2021-12-21T17:47:16.970Z"
   },
   {
    "duration": 11,
    "start_time": "2021-12-21T17:47:16.980Z"
   },
   {
    "duration": 13,
    "start_time": "2021-12-21T17:47:16.994Z"
   },
   {
    "duration": 49,
    "start_time": "2021-12-21T17:47:17.010Z"
   },
   {
    "duration": 9,
    "start_time": "2021-12-21T17:47:17.062Z"
   },
   {
    "duration": 14,
    "start_time": "2021-12-21T17:47:17.073Z"
   },
   {
    "duration": 5,
    "start_time": "2021-12-21T17:47:17.089Z"
   },
   {
    "duration": 15,
    "start_time": "2021-12-21T17:47:17.097Z"
   },
   {
    "duration": 54,
    "start_time": "2021-12-21T17:47:17.114Z"
   },
   {
    "duration": 10,
    "start_time": "2021-12-21T17:47:17.170Z"
   },
   {
    "duration": 11,
    "start_time": "2021-12-21T17:47:17.183Z"
   },
   {
    "duration": 8,
    "start_time": "2021-12-21T17:47:17.197Z"
   },
   {
    "duration": 55,
    "start_time": "2021-12-21T17:47:17.208Z"
   },
   {
    "duration": 9,
    "start_time": "2021-12-21T17:47:17.266Z"
   },
   {
    "duration": 10,
    "start_time": "2021-12-21T17:47:17.278Z"
   },
   {
    "duration": 13,
    "start_time": "2021-12-21T17:47:17.291Z"
   },
   {
    "duration": 67,
    "start_time": "2021-12-21T17:47:17.307Z"
   },
   {
    "duration": 33,
    "start_time": "2021-12-21T17:47:17.377Z"
   },
   {
    "duration": 56,
    "start_time": "2021-12-21T17:47:17.413Z"
   },
   {
    "duration": 8,
    "start_time": "2021-12-21T17:47:17.471Z"
   },
   {
    "duration": 16,
    "start_time": "2021-12-21T17:47:17.482Z"
   },
   {
    "duration": 617,
    "start_time": "2021-12-21T17:47:17.501Z"
   },
   {
    "duration": 606,
    "start_time": "2021-12-21T17:47:18.121Z"
   },
   {
    "duration": 9,
    "start_time": "2021-12-21T17:47:18.729Z"
   },
   {
    "duration": 499,
    "start_time": "2021-12-21T17:47:18.741Z"
   },
   {
    "duration": 31,
    "start_time": "2021-12-21T17:47:19.243Z"
   },
   {
    "duration": 11,
    "start_time": "2021-12-21T17:47:19.277Z"
   },
   {
    "duration": 9,
    "start_time": "2021-12-21T17:47:19.291Z"
   },
   {
    "duration": 11,
    "start_time": "2021-12-21T17:47:19.302Z"
   },
   {
    "duration": 384,
    "start_time": "2021-12-22T05:36:13.784Z"
   },
   {
    "duration": 1087,
    "start_time": "2021-12-22T05:36:23.476Z"
   },
   {
    "duration": 409,
    "start_time": "2021-12-22T05:36:24.565Z"
   },
   {
    "duration": 11,
    "start_time": "2021-12-22T05:36:24.975Z"
   },
   {
    "duration": 22,
    "start_time": "2021-12-22T05:36:24.987Z"
   },
   {
    "duration": 31,
    "start_time": "2021-12-22T05:36:25.011Z"
   },
   {
    "duration": 23,
    "start_time": "2021-12-22T05:36:25.043Z"
   },
   {
    "duration": 5,
    "start_time": "2021-12-22T05:36:25.067Z"
   },
   {
    "duration": 7,
    "start_time": "2021-12-22T05:36:25.075Z"
   },
   {
    "duration": 40,
    "start_time": "2021-12-22T05:36:25.084Z"
   },
   {
    "duration": 23,
    "start_time": "2021-12-22T05:36:25.125Z"
   },
   {
    "duration": 3,
    "start_time": "2021-12-22T05:36:25.149Z"
   },
   {
    "duration": 8,
    "start_time": "2021-12-22T05:36:25.154Z"
   },
   {
    "duration": 8,
    "start_time": "2021-12-22T05:36:25.163Z"
   },
   {
    "duration": 50,
    "start_time": "2021-12-22T05:36:25.172Z"
   },
   {
    "duration": 20,
    "start_time": "2021-12-22T05:36:25.223Z"
   },
   {
    "duration": 16,
    "start_time": "2021-12-22T05:36:25.245Z"
   },
   {
    "duration": 22,
    "start_time": "2021-12-22T05:36:25.263Z"
   },
   {
    "duration": 24,
    "start_time": "2021-12-22T05:36:25.286Z"
   },
   {
    "duration": 7,
    "start_time": "2021-12-22T05:36:25.312Z"
   },
   {
    "duration": 10,
    "start_time": "2021-12-22T05:36:25.320Z"
   },
   {
    "duration": 7,
    "start_time": "2021-12-22T05:36:25.332Z"
   },
   {
    "duration": 15,
    "start_time": "2021-12-22T05:36:25.341Z"
   },
   {
    "duration": 20,
    "start_time": "2021-12-22T05:36:25.360Z"
   },
   {
    "duration": 15,
    "start_time": "2021-12-22T05:36:25.407Z"
   },
   {
    "duration": 20,
    "start_time": "2021-12-22T05:36:25.424Z"
   },
   {
    "duration": 4,
    "start_time": "2021-12-22T05:36:25.446Z"
   },
   {
    "duration": 6,
    "start_time": "2021-12-22T05:36:25.452Z"
   },
   {
    "duration": 8,
    "start_time": "2021-12-22T05:36:25.460Z"
   },
   {
    "duration": 6,
    "start_time": "2021-12-22T05:36:25.470Z"
   },
   {
    "duration": 4,
    "start_time": "2021-12-22T05:36:25.506Z"
   },
   {
    "duration": 5,
    "start_time": "2021-12-22T05:36:25.511Z"
   },
   {
    "duration": 5,
    "start_time": "2021-12-22T05:36:25.518Z"
   },
   {
    "duration": 9,
    "start_time": "2021-12-22T05:36:25.524Z"
   },
   {
    "duration": 9,
    "start_time": "2021-12-22T05:36:25.534Z"
   },
   {
    "duration": 7,
    "start_time": "2021-12-22T05:36:25.545Z"
   },
   {
    "duration": 9,
    "start_time": "2021-12-22T05:36:25.553Z"
   },
   {
    "duration": 4,
    "start_time": "2021-12-22T05:36:25.564Z"
   },
   {
    "duration": 11,
    "start_time": "2021-12-22T05:36:25.606Z"
   },
   {
    "duration": 7,
    "start_time": "2021-12-22T05:36:25.619Z"
   },
   {
    "duration": 6,
    "start_time": "2021-12-22T05:36:25.628Z"
   },
   {
    "duration": 6,
    "start_time": "2021-12-22T05:36:25.636Z"
   },
   {
    "duration": 4,
    "start_time": "2021-12-22T05:36:25.644Z"
   },
   {
    "duration": 5,
    "start_time": "2021-12-22T05:36:25.650Z"
   },
   {
    "duration": 4,
    "start_time": "2021-12-22T05:36:25.657Z"
   },
   {
    "duration": 45,
    "start_time": "2021-12-22T05:36:25.663Z"
   },
   {
    "duration": 8,
    "start_time": "2021-12-22T05:36:25.710Z"
   },
   {
    "duration": 18,
    "start_time": "2021-12-22T05:36:25.719Z"
   },
   {
    "duration": 482,
    "start_time": "2021-12-22T05:36:25.739Z"
   },
   {
    "duration": -681,
    "start_time": "2021-12-22T05:36:26.905Z"
   },
   {
    "duration": -690,
    "start_time": "2021-12-22T05:36:26.915Z"
   },
   {
    "duration": -733,
    "start_time": "2021-12-22T05:36:26.959Z"
   },
   {
    "duration": -736,
    "start_time": "2021-12-22T05:36:26.963Z"
   },
   {
    "duration": -745,
    "start_time": "2021-12-22T05:36:26.972Z"
   },
   {
    "duration": -747,
    "start_time": "2021-12-22T05:36:26.975Z"
   },
   {
    "duration": -748,
    "start_time": "2021-12-22T05:36:26.977Z"
   },
   {
    "duration": -749,
    "start_time": "2021-12-22T05:36:26.979Z"
   },
   {
    "duration": -750,
    "start_time": "2021-12-22T05:36:26.981Z"
   },
   {
    "duration": -753,
    "start_time": "2021-12-22T05:36:26.984Z"
   },
   {
    "duration": -762,
    "start_time": "2021-12-22T05:36:26.994Z"
   },
   {
    "duration": -767,
    "start_time": "2021-12-22T05:36:27.000Z"
   },
   {
    "duration": 359,
    "start_time": "2021-12-22T05:37:28.232Z"
   },
   {
    "duration": 21,
    "start_time": "2021-12-22T05:38:04.224Z"
   },
   {
    "duration": 383,
    "start_time": "2021-12-22T05:39:19.071Z"
   },
   {
    "duration": 16,
    "start_time": "2021-12-22T05:39:47.630Z"
   },
   {
    "duration": 15,
    "start_time": "2021-12-22T05:42:13.174Z"
   },
   {
    "duration": 9,
    "start_time": "2021-12-22T05:42:46.278Z"
   },
   {
    "duration": 1069,
    "start_time": "2021-12-22T05:43:28.887Z"
   },
   {
    "duration": 417,
    "start_time": "2021-12-22T05:43:29.958Z"
   },
   {
    "duration": 11,
    "start_time": "2021-12-22T05:43:30.377Z"
   },
   {
    "duration": 28,
    "start_time": "2021-12-22T05:43:30.390Z"
   },
   {
    "duration": 30,
    "start_time": "2021-12-22T05:43:30.420Z"
   },
   {
    "duration": 24,
    "start_time": "2021-12-22T05:43:30.452Z"
   },
   {
    "duration": 6,
    "start_time": "2021-12-22T05:43:30.477Z"
   },
   {
    "duration": 32,
    "start_time": "2021-12-22T05:43:30.484Z"
   },
   {
    "duration": 23,
    "start_time": "2021-12-22T05:43:30.518Z"
   },
   {
    "duration": 24,
    "start_time": "2021-12-22T05:43:30.543Z"
   },
   {
    "duration": 3,
    "start_time": "2021-12-22T05:43:30.569Z"
   },
   {
    "duration": 20,
    "start_time": "2021-12-22T05:43:30.573Z"
   },
   {
    "duration": 16,
    "start_time": "2021-12-22T05:43:30.595Z"
   },
   {
    "duration": 23,
    "start_time": "2021-12-22T05:43:30.613Z"
   },
   {
    "duration": 21,
    "start_time": "2021-12-22T05:43:30.638Z"
   },
   {
    "duration": 18,
    "start_time": "2021-12-22T05:43:30.660Z"
   },
   {
    "duration": 43,
    "start_time": "2021-12-22T05:43:30.680Z"
   },
   {
    "duration": 7,
    "start_time": "2021-12-22T05:43:30.725Z"
   },
   {
    "duration": 10,
    "start_time": "2021-12-22T05:43:30.734Z"
   },
   {
    "duration": 14,
    "start_time": "2021-12-22T05:43:30.745Z"
   },
   {
    "duration": 13,
    "start_time": "2021-12-22T05:43:30.760Z"
   },
   {
    "duration": 18,
    "start_time": "2021-12-22T05:43:30.775Z"
   },
   {
    "duration": 17,
    "start_time": "2021-12-22T05:43:30.806Z"
   },
   {
    "duration": 22,
    "start_time": "2021-12-22T05:43:30.825Z"
   },
   {
    "duration": 22,
    "start_time": "2021-12-22T05:43:30.848Z"
   },
   {
    "duration": 4,
    "start_time": "2021-12-22T05:43:30.872Z"
   },
   {
    "duration": 7,
    "start_time": "2021-12-22T05:43:30.879Z"
   },
   {
    "duration": 7,
    "start_time": "2021-12-22T05:43:30.908Z"
   },
   {
    "duration": 7,
    "start_time": "2021-12-22T05:43:30.917Z"
   },
   {
    "duration": 6,
    "start_time": "2021-12-22T05:43:30.926Z"
   },
   {
    "duration": 6,
    "start_time": "2021-12-22T05:43:30.933Z"
   },
   {
    "duration": 5,
    "start_time": "2021-12-22T05:43:30.941Z"
   },
   {
    "duration": 9,
    "start_time": "2021-12-22T05:43:30.948Z"
   },
   {
    "duration": 10,
    "start_time": "2021-12-22T05:43:30.958Z"
   },
   {
    "duration": 40,
    "start_time": "2021-12-22T05:43:30.970Z"
   },
   {
    "duration": 9,
    "start_time": "2021-12-22T05:43:31.011Z"
   },
   {
    "duration": 7,
    "start_time": "2021-12-22T05:43:31.022Z"
   },
   {
    "duration": 11,
    "start_time": "2021-12-22T05:43:31.031Z"
   },
   {
    "duration": 10,
    "start_time": "2021-12-22T05:43:31.044Z"
   },
   {
    "duration": 8,
    "start_time": "2021-12-22T05:43:31.056Z"
   },
   {
    "duration": 7,
    "start_time": "2021-12-22T05:43:31.066Z"
   },
   {
    "duration": 35,
    "start_time": "2021-12-22T05:43:31.074Z"
   },
   {
    "duration": 8,
    "start_time": "2021-12-22T05:43:31.111Z"
   },
   {
    "duration": 5,
    "start_time": "2021-12-22T05:43:31.121Z"
   },
   {
    "duration": 7,
    "start_time": "2021-12-22T05:43:31.128Z"
   },
   {
    "duration": 9,
    "start_time": "2021-12-22T05:43:31.137Z"
   },
   {
    "duration": 15,
    "start_time": "2021-12-22T05:43:31.148Z"
   },
   {
    "duration": 44,
    "start_time": "2021-12-22T05:43:31.164Z"
   },
   {
    "duration": 22,
    "start_time": "2021-12-22T05:43:31.209Z"
   },
   {
    "duration": 18,
    "start_time": "2021-12-22T05:43:31.233Z"
   },
   {
    "duration": 6,
    "start_time": "2021-12-22T05:43:31.252Z"
   },
   {
    "duration": 9,
    "start_time": "2021-12-22T05:43:31.260Z"
   },
   {
    "duration": 409,
    "start_time": "2021-12-22T05:43:31.271Z"
   },
   {
    "duration": 415,
    "start_time": "2021-12-22T05:43:31.682Z"
   },
   {
    "duration": 11,
    "start_time": "2021-12-22T05:43:32.099Z"
   },
   {
    "duration": 337,
    "start_time": "2021-12-22T05:43:32.112Z"
   },
   {
    "duration": 14,
    "start_time": "2021-12-22T05:43:32.451Z"
   },
   {
    "duration": 9,
    "start_time": "2021-12-22T05:43:32.466Z"
   },
   {
    "duration": 32,
    "start_time": "2021-12-22T05:43:32.477Z"
   },
   {
    "duration": 9,
    "start_time": "2021-12-22T05:43:32.511Z"
   },
   {
    "duration": 126,
    "start_time": "2021-12-22T05:48:22.485Z"
   },
   {
    "duration": 437,
    "start_time": "2021-12-22T05:48:28.212Z"
   },
   {
    "duration": 344,
    "start_time": "2021-12-22T05:48:35.823Z"
   },
   {
    "duration": 9,
    "start_time": "2021-12-22T05:48:50.723Z"
   },
   {
    "duration": 15,
    "start_time": "2021-12-22T05:49:05.619Z"
   },
   {
    "duration": 124,
    "start_time": "2021-12-22T05:50:15.806Z"
   },
   {
    "duration": 116,
    "start_time": "2021-12-22T05:50:21.408Z"
   },
   {
    "duration": 16,
    "start_time": "2021-12-22T05:50:33.092Z"
   },
   {
    "duration": 10,
    "start_time": "2021-12-22T05:50:50.541Z"
   },
   {
    "duration": 392,
    "start_time": "2021-12-22T05:51:23.004Z"
   },
   {
    "duration": 8,
    "start_time": "2021-12-22T06:07:14.054Z"
   },
   {
    "duration": 12,
    "start_time": "2021-12-22T06:09:02.277Z"
   },
   {
    "duration": 8,
    "start_time": "2021-12-22T06:25:29.590Z"
   },
   {
    "duration": 1306,
    "start_time": "2021-12-22T07:38:39.596Z"
   },
   {
    "duration": 451,
    "start_time": "2021-12-22T07:38:40.906Z"
   },
   {
    "duration": 12,
    "start_time": "2021-12-22T07:38:41.360Z"
   },
   {
    "duration": 22,
    "start_time": "2021-12-22T07:38:41.374Z"
   },
   {
    "duration": 34,
    "start_time": "2021-12-22T07:38:41.398Z"
   },
   {
    "duration": 25,
    "start_time": "2021-12-22T07:38:41.434Z"
   },
   {
    "duration": 6,
    "start_time": "2021-12-22T07:38:41.461Z"
   },
   {
    "duration": 9,
    "start_time": "2021-12-22T07:38:41.469Z"
   },
   {
    "duration": 39,
    "start_time": "2021-12-22T07:38:41.481Z"
   },
   {
    "duration": 24,
    "start_time": "2021-12-22T07:38:41.522Z"
   },
   {
    "duration": 3,
    "start_time": "2021-12-22T07:38:41.547Z"
   },
   {
    "duration": 10,
    "start_time": "2021-12-22T07:38:41.552Z"
   },
   {
    "duration": 14,
    "start_time": "2021-12-22T07:38:41.564Z"
   },
   {
    "duration": 43,
    "start_time": "2021-12-22T07:38:41.580Z"
   },
   {
    "duration": 22,
    "start_time": "2021-12-22T07:38:41.625Z"
   },
   {
    "duration": 20,
    "start_time": "2021-12-22T07:38:41.648Z"
   },
   {
    "duration": 46,
    "start_time": "2021-12-22T07:38:41.670Z"
   },
   {
    "duration": 7,
    "start_time": "2021-12-22T07:38:41.718Z"
   },
   {
    "duration": 12,
    "start_time": "2021-12-22T07:38:41.726Z"
   },
   {
    "duration": 6,
    "start_time": "2021-12-22T07:38:41.740Z"
   },
   {
    "duration": 7,
    "start_time": "2021-12-22T07:38:41.748Z"
   },
   {
    "duration": 49,
    "start_time": "2021-12-22T07:38:41.757Z"
   },
   {
    "duration": 19,
    "start_time": "2021-12-22T07:38:41.811Z"
   },
   {
    "duration": 17,
    "start_time": "2021-12-22T07:38:41.832Z"
   },
   {
    "duration": 22,
    "start_time": "2021-12-22T07:38:41.851Z"
   },
   {
    "duration": 4,
    "start_time": "2021-12-22T07:38:41.875Z"
   },
   {
    "duration": 31,
    "start_time": "2021-12-22T07:38:41.880Z"
   },
   {
    "duration": 11,
    "start_time": "2021-12-22T07:38:41.914Z"
   },
   {
    "duration": 9,
    "start_time": "2021-12-22T07:38:41.927Z"
   },
   {
    "duration": 7,
    "start_time": "2021-12-22T07:38:41.938Z"
   },
   {
    "duration": 6,
    "start_time": "2021-12-22T07:38:41.947Z"
   },
   {
    "duration": 7,
    "start_time": "2021-12-22T07:38:41.956Z"
   },
   {
    "duration": 42,
    "start_time": "2021-12-22T07:38:41.965Z"
   },
   {
    "duration": 11,
    "start_time": "2021-12-22T07:38:42.009Z"
   },
   {
    "duration": 9,
    "start_time": "2021-12-22T07:38:42.022Z"
   },
   {
    "duration": 11,
    "start_time": "2021-12-22T07:38:42.033Z"
   },
   {
    "duration": 5,
    "start_time": "2021-12-22T07:38:42.046Z"
   },
   {
    "duration": 15,
    "start_time": "2021-12-22T07:38:42.053Z"
   },
   {
    "duration": 12,
    "start_time": "2021-12-22T07:38:42.107Z"
   },
   {
    "duration": 10,
    "start_time": "2021-12-22T07:38:42.121Z"
   },
   {
    "duration": 9,
    "start_time": "2021-12-22T07:38:42.133Z"
   },
   {
    "duration": 5,
    "start_time": "2021-12-22T07:38:42.145Z"
   },
   {
    "duration": 12,
    "start_time": "2021-12-22T07:38:42.152Z"
   },
   {
    "duration": 7,
    "start_time": "2021-12-22T07:38:42.166Z"
   },
   {
    "duration": 37,
    "start_time": "2021-12-22T07:38:42.175Z"
   },
   {
    "duration": 11,
    "start_time": "2021-12-22T07:38:42.214Z"
   },
   {
    "duration": 24,
    "start_time": "2021-12-22T07:38:42.227Z"
   },
   {
    "duration": 13,
    "start_time": "2021-12-22T07:38:42.253Z"
   },
   {
    "duration": 58,
    "start_time": "2021-12-22T07:38:42.267Z"
   },
   {
    "duration": 18,
    "start_time": "2021-12-22T07:38:42.326Z"
   },
   {
    "duration": 6,
    "start_time": "2021-12-22T07:38:42.346Z"
   },
   {
    "duration": 9,
    "start_time": "2021-12-22T07:38:42.354Z"
   },
   {
    "duration": 439,
    "start_time": "2021-12-22T07:38:42.365Z"
   },
   {
    "duration": 407,
    "start_time": "2021-12-22T07:38:42.807Z"
   },
   {
    "duration": 8,
    "start_time": "2021-12-22T07:38:43.216Z"
   },
   {
    "duration": 339,
    "start_time": "2021-12-22T07:38:43.226Z"
   },
   {
    "duration": 12,
    "start_time": "2021-12-22T07:38:43.567Z"
   },
   {
    "duration": 27,
    "start_time": "2021-12-22T07:38:43.581Z"
   },
   {
    "duration": 8,
    "start_time": "2021-12-22T07:38:43.609Z"
   },
   {
    "duration": 9,
    "start_time": "2021-12-22T07:38:43.619Z"
   },
   {
    "duration": 7,
    "start_time": "2021-12-22T07:42:31.536Z"
   },
   {
    "duration": 7,
    "start_time": "2021-12-22T07:43:52.726Z"
   },
   {
    "duration": 7,
    "start_time": "2021-12-22T07:44:35.966Z"
   },
   {
    "duration": 9,
    "start_time": "2021-12-22T07:45:01.559Z"
   },
   {
    "duration": 1085,
    "start_time": "2021-12-22T07:58:34.962Z"
   },
   {
    "duration": 435,
    "start_time": "2021-12-22T07:58:36.048Z"
   },
   {
    "duration": 12,
    "start_time": "2021-12-22T07:58:36.485Z"
   },
   {
    "duration": 24,
    "start_time": "2021-12-22T07:58:36.499Z"
   },
   {
    "duration": 30,
    "start_time": "2021-12-22T07:58:36.525Z"
   },
   {
    "duration": 23,
    "start_time": "2021-12-22T07:58:36.557Z"
   },
   {
    "duration": 6,
    "start_time": "2021-12-22T07:58:36.582Z"
   },
   {
    "duration": 8,
    "start_time": "2021-12-22T07:58:36.608Z"
   },
   {
    "duration": 30,
    "start_time": "2021-12-22T07:58:36.618Z"
   },
   {
    "duration": 2,
    "start_time": "2021-12-22T07:58:36.650Z"
   },
   {
    "duration": 10,
    "start_time": "2021-12-22T07:58:36.654Z"
   },
   {
    "duration": 9,
    "start_time": "2021-12-22T07:58:36.666Z"
   },
   {
    "duration": 43,
    "start_time": "2021-12-22T07:58:36.676Z"
   },
   {
    "duration": 25,
    "start_time": "2021-12-22T07:58:36.720Z"
   },
   {
    "duration": 18,
    "start_time": "2021-12-22T07:58:36.747Z"
   },
   {
    "duration": 21,
    "start_time": "2021-12-22T07:58:36.767Z"
   },
   {
    "duration": 9,
    "start_time": "2021-12-22T07:58:36.806Z"
   },
   {
    "duration": 7,
    "start_time": "2021-12-22T07:58:36.817Z"
   },
   {
    "duration": 8,
    "start_time": "2021-12-22T07:58:36.825Z"
   },
   {
    "duration": 17,
    "start_time": "2021-12-22T07:58:36.835Z"
   },
   {
    "duration": 17,
    "start_time": "2021-12-22T07:58:36.854Z"
   },
   {
    "duration": 40,
    "start_time": "2021-12-22T07:58:36.872Z"
   },
   {
    "duration": 20,
    "start_time": "2021-12-22T07:58:36.915Z"
   },
   {
    "duration": 5,
    "start_time": "2021-12-22T07:58:36.937Z"
   },
   {
    "duration": 8,
    "start_time": "2021-12-22T07:58:36.943Z"
   },
   {
    "duration": 7,
    "start_time": "2021-12-22T07:58:36.952Z"
   },
   {
    "duration": 46,
    "start_time": "2021-12-22T07:58:36.961Z"
   },
   {
    "duration": 4,
    "start_time": "2021-12-22T07:58:37.009Z"
   },
   {
    "duration": 6,
    "start_time": "2021-12-22T07:58:37.014Z"
   },
   {
    "duration": 5,
    "start_time": "2021-12-22T07:58:37.021Z"
   },
   {
    "duration": 9,
    "start_time": "2021-12-22T07:58:37.028Z"
   },
   {
    "duration": 10,
    "start_time": "2021-12-22T07:58:37.038Z"
   },
   {
    "duration": 7,
    "start_time": "2021-12-22T07:58:37.050Z"
   },
   {
    "duration": 10,
    "start_time": "2021-12-22T07:58:37.059Z"
   },
   {
    "duration": 37,
    "start_time": "2021-12-22T07:58:37.070Z"
   },
   {
    "duration": 10,
    "start_time": "2021-12-22T07:58:37.109Z"
   },
   {
    "duration": 9,
    "start_time": "2021-12-22T07:58:37.121Z"
   },
   {
    "duration": 6,
    "start_time": "2021-12-22T07:58:37.131Z"
   },
   {
    "duration": 9,
    "start_time": "2021-12-22T07:58:37.138Z"
   },
   {
    "duration": 4,
    "start_time": "2021-12-22T07:58:37.149Z"
   },
   {
    "duration": 17,
    "start_time": "2021-12-22T07:58:37.154Z"
   },
   {
    "duration": 5,
    "start_time": "2021-12-22T07:58:37.172Z"
   },
   {
    "duration": 31,
    "start_time": "2021-12-22T07:58:37.178Z"
   },
   {
    "duration": 8,
    "start_time": "2021-12-22T07:58:37.210Z"
   },
   {
    "duration": 15,
    "start_time": "2021-12-22T07:58:37.219Z"
   },
   {
    "duration": 20,
    "start_time": "2021-12-22T07:58:37.236Z"
   },
   {
    "duration": 17,
    "start_time": "2021-12-22T07:58:37.258Z"
   },
   {
    "duration": 6,
    "start_time": "2021-12-22T07:58:37.306Z"
   },
   {
    "duration": 11,
    "start_time": "2021-12-22T07:58:37.313Z"
   },
   {
    "duration": 377,
    "start_time": "2021-12-22T07:58:37.325Z"
   },
   {
    "duration": 386,
    "start_time": "2021-12-22T07:58:37.704Z"
   },
   {
    "duration": 6,
    "start_time": "2021-12-22T07:58:38.092Z"
   },
   {
    "duration": 333,
    "start_time": "2021-12-22T07:58:38.107Z"
   },
   {
    "duration": 12,
    "start_time": "2021-12-22T07:58:38.442Z"
   },
   {
    "duration": 9,
    "start_time": "2021-12-22T07:58:38.456Z"
   },
   {
    "duration": 7,
    "start_time": "2021-12-22T07:58:38.467Z"
   },
   {
    "duration": 33,
    "start_time": "2021-12-22T07:58:38.475Z"
   },
   {
    "duration": 211,
    "start_time": "2021-12-23T03:46:40.925Z"
   },
   {
    "duration": 1046,
    "start_time": "2021-12-23T03:46:46.296Z"
   },
   {
    "duration": 393,
    "start_time": "2021-12-23T03:46:47.343Z"
   },
   {
    "duration": 11,
    "start_time": "2021-12-23T03:46:47.738Z"
   },
   {
    "duration": 21,
    "start_time": "2021-12-23T03:46:47.751Z"
   },
   {
    "duration": 31,
    "start_time": "2021-12-23T03:46:47.774Z"
   },
   {
    "duration": 22,
    "start_time": "2021-12-23T03:46:47.806Z"
   },
   {
    "duration": 5,
    "start_time": "2021-12-23T03:46:47.830Z"
   },
   {
    "duration": 8,
    "start_time": "2021-12-23T03:46:47.838Z"
   },
   {
    "duration": 47,
    "start_time": "2021-12-23T03:46:47.848Z"
   },
   {
    "duration": 3,
    "start_time": "2021-12-23T03:46:47.896Z"
   },
   {
    "duration": 9,
    "start_time": "2021-12-23T03:46:47.901Z"
   },
   {
    "duration": 9,
    "start_time": "2021-12-23T03:46:47.911Z"
   },
   {
    "duration": 17,
    "start_time": "2021-12-23T03:46:47.921Z"
   },
   {
    "duration": 20,
    "start_time": "2021-12-23T03:46:47.940Z"
   },
   {
    "duration": 45,
    "start_time": "2021-12-23T03:46:47.961Z"
   },
   {
    "duration": 22,
    "start_time": "2021-12-23T03:46:48.008Z"
   },
   {
    "duration": 5,
    "start_time": "2021-12-23T03:46:48.032Z"
   },
   {
    "duration": 8,
    "start_time": "2021-12-23T03:46:48.038Z"
   },
   {
    "duration": 7,
    "start_time": "2021-12-23T03:46:48.048Z"
   },
   {
    "duration": 41,
    "start_time": "2021-12-23T03:46:48.057Z"
   },
   {
    "duration": 17,
    "start_time": "2021-12-23T03:46:48.100Z"
   },
   {
    "duration": 16,
    "start_time": "2021-12-23T03:46:48.118Z"
   },
   {
    "duration": 22,
    "start_time": "2021-12-23T03:46:48.137Z"
   },
   {
    "duration": 30,
    "start_time": "2021-12-23T03:46:48.162Z"
   },
   {
    "duration": 7,
    "start_time": "2021-12-23T03:46:48.193Z"
   },
   {
    "duration": 9,
    "start_time": "2021-12-23T03:46:48.202Z"
   },
   {
    "duration": 7,
    "start_time": "2021-12-23T03:46:48.213Z"
   },
   {
    "duration": 5,
    "start_time": "2021-12-23T03:46:48.221Z"
   },
   {
    "duration": 5,
    "start_time": "2021-12-23T03:46:48.228Z"
   },
   {
    "duration": 5,
    "start_time": "2021-12-23T03:46:48.235Z"
   },
   {
    "duration": 9,
    "start_time": "2021-12-23T03:46:48.242Z"
   },
   {
    "duration": 43,
    "start_time": "2021-12-23T03:46:48.252Z"
   },
   {
    "duration": 7,
    "start_time": "2021-12-23T03:46:48.297Z"
   },
   {
    "duration": 10,
    "start_time": "2021-12-23T03:46:48.306Z"
   },
   {
    "duration": 3,
    "start_time": "2021-12-23T03:46:48.318Z"
   },
   {
    "duration": 10,
    "start_time": "2021-12-23T03:46:48.323Z"
   },
   {
    "duration": 8,
    "start_time": "2021-12-23T03:46:48.334Z"
   },
   {
    "duration": 6,
    "start_time": "2021-12-23T03:46:48.343Z"
   },
   {
    "duration": 40,
    "start_time": "2021-12-23T03:46:48.350Z"
   },
   {
    "duration": 5,
    "start_time": "2021-12-23T03:46:48.392Z"
   },
   {
    "duration": 8,
    "start_time": "2021-12-23T03:46:48.398Z"
   },
   {
    "duration": 5,
    "start_time": "2021-12-23T03:46:48.407Z"
   },
   {
    "duration": 7,
    "start_time": "2021-12-23T03:46:48.413Z"
   },
   {
    "duration": 7,
    "start_time": "2021-12-23T03:46:48.422Z"
   },
   {
    "duration": 14,
    "start_time": "2021-12-23T03:46:48.431Z"
   },
   {
    "duration": 51,
    "start_time": "2021-12-23T03:46:48.446Z"
   },
   {
    "duration": 16,
    "start_time": "2021-12-23T03:46:48.498Z"
   },
   {
    "duration": 6,
    "start_time": "2021-12-23T03:46:48.515Z"
   },
   {
    "duration": 10,
    "start_time": "2021-12-23T03:46:48.522Z"
   },
   {
    "duration": 454,
    "start_time": "2021-12-23T03:46:48.533Z"
   },
   {
    "duration": 408,
    "start_time": "2021-12-23T03:46:48.991Z"
   },
   {
    "duration": 6,
    "start_time": "2021-12-23T03:46:49.400Z"
   },
   {
    "duration": 340,
    "start_time": "2021-12-23T03:46:49.408Z"
   },
   {
    "duration": 12,
    "start_time": "2021-12-23T03:46:49.750Z"
   },
   {
    "duration": 9,
    "start_time": "2021-12-23T03:46:49.764Z"
   },
   {
    "duration": 7,
    "start_time": "2021-12-23T03:46:49.791Z"
   },
   {
    "duration": 8,
    "start_time": "2021-12-23T03:46:49.800Z"
   },
   {
    "duration": 400,
    "start_time": "2021-12-23T03:47:03.308Z"
   },
   {
    "duration": 429,
    "start_time": "2021-12-23T03:47:15.062Z"
   },
   {
    "duration": 1047,
    "start_time": "2021-12-23T07:09:56.089Z"
   },
   {
    "duration": 431,
    "start_time": "2021-12-23T07:09:57.137Z"
   },
   {
    "duration": 10,
    "start_time": "2021-12-23T07:09:57.571Z"
   },
   {
    "duration": 22,
    "start_time": "2021-12-23T07:09:57.583Z"
   },
   {
    "duration": 30,
    "start_time": "2021-12-23T07:09:57.606Z"
   },
   {
    "duration": 292,
    "start_time": "2021-12-23T07:09:57.638Z"
   },
   {
    "duration": -332,
    "start_time": "2021-12-23T07:09:58.265Z"
   },
   {
    "duration": -336,
    "start_time": "2021-12-23T07:09:58.270Z"
   },
   {
    "duration": -337,
    "start_time": "2021-12-23T07:09:58.272Z"
   },
   {
    "duration": -339,
    "start_time": "2021-12-23T07:09:58.275Z"
   },
   {
    "duration": -340,
    "start_time": "2021-12-23T07:09:58.277Z"
   },
   {
    "duration": -345,
    "start_time": "2021-12-23T07:09:58.282Z"
   },
   {
    "duration": -346,
    "start_time": "2021-12-23T07:09:58.284Z"
   },
   {
    "duration": -347,
    "start_time": "2021-12-23T07:09:58.287Z"
   },
   {
    "duration": -348,
    "start_time": "2021-12-23T07:09:58.289Z"
   },
   {
    "duration": -351,
    "start_time": "2021-12-23T07:09:58.293Z"
   },
   {
    "duration": -353,
    "start_time": "2021-12-23T07:09:58.296Z"
   },
   {
    "duration": -355,
    "start_time": "2021-12-23T07:09:58.299Z"
   },
   {
    "duration": -356,
    "start_time": "2021-12-23T07:09:58.301Z"
   },
   {
    "duration": -358,
    "start_time": "2021-12-23T07:09:58.304Z"
   },
   {
    "duration": -360,
    "start_time": "2021-12-23T07:09:58.307Z"
   },
   {
    "duration": -370,
    "start_time": "2021-12-23T07:09:58.317Z"
   },
   {
    "duration": -374,
    "start_time": "2021-12-23T07:09:58.322Z"
   },
   {
    "duration": -376,
    "start_time": "2021-12-23T07:09:58.325Z"
   },
   {
    "duration": -377,
    "start_time": "2021-12-23T07:09:58.327Z"
   },
   {
    "duration": -379,
    "start_time": "2021-12-23T07:09:58.330Z"
   },
   {
    "duration": -380,
    "start_time": "2021-12-23T07:09:58.332Z"
   },
   {
    "duration": -382,
    "start_time": "2021-12-23T07:09:58.335Z"
   },
   {
    "duration": -383,
    "start_time": "2021-12-23T07:09:58.337Z"
   },
   {
    "duration": -384,
    "start_time": "2021-12-23T07:09:58.339Z"
   },
   {
    "duration": -385,
    "start_time": "2021-12-23T07:09:58.341Z"
   },
   {
    "duration": -387,
    "start_time": "2021-12-23T07:09:58.344Z"
   },
   {
    "duration": -389,
    "start_time": "2021-12-23T07:09:58.347Z"
   },
   {
    "duration": -390,
    "start_time": "2021-12-23T07:09:58.349Z"
   },
   {
    "duration": -392,
    "start_time": "2021-12-23T07:09:58.352Z"
   },
   {
    "duration": -393,
    "start_time": "2021-12-23T07:09:58.354Z"
   },
   {
    "duration": -394,
    "start_time": "2021-12-23T07:09:58.356Z"
   },
   {
    "duration": -395,
    "start_time": "2021-12-23T07:09:58.358Z"
   },
   {
    "duration": -396,
    "start_time": "2021-12-23T07:09:58.360Z"
   },
   {
    "duration": -399,
    "start_time": "2021-12-23T07:09:58.363Z"
   },
   {
    "duration": -400,
    "start_time": "2021-12-23T07:09:58.365Z"
   },
   {
    "duration": -402,
    "start_time": "2021-12-23T07:09:58.368Z"
   },
   {
    "duration": -379,
    "start_time": "2021-12-23T07:09:58.370Z"
   },
   {
    "duration": -380,
    "start_time": "2021-12-23T07:09:58.372Z"
   },
   {
    "duration": -381,
    "start_time": "2021-12-23T07:09:58.374Z"
   },
   {
    "duration": -382,
    "start_time": "2021-12-23T07:09:58.376Z"
   },
   {
    "duration": -384,
    "start_time": "2021-12-23T07:09:58.379Z"
   },
   {
    "duration": -387,
    "start_time": "2021-12-23T07:09:58.383Z"
   },
   {
    "duration": -389,
    "start_time": "2021-12-23T07:09:58.385Z"
   },
   {
    "duration": -391,
    "start_time": "2021-12-23T07:09:58.388Z"
   },
   {
    "duration": -392,
    "start_time": "2021-12-23T07:09:58.390Z"
   },
   {
    "duration": -394,
    "start_time": "2021-12-23T07:09:58.393Z"
   },
   {
    "duration": -395,
    "start_time": "2021-12-23T07:09:58.395Z"
   },
   {
    "duration": -397,
    "start_time": "2021-12-23T07:09:58.398Z"
   },
   {
    "duration": -399,
    "start_time": "2021-12-23T07:09:58.400Z"
   },
   {
    "duration": -400,
    "start_time": "2021-12-23T07:09:58.402Z"
   },
   {
    "duration": -402,
    "start_time": "2021-12-23T07:09:58.405Z"
   },
   {
    "duration": -403,
    "start_time": "2021-12-23T07:09:58.407Z"
   },
   {
    "duration": 25,
    "start_time": "2021-12-23T07:10:31.580Z"
   },
   {
    "duration": 32,
    "start_time": "2021-12-23T07:11:49.123Z"
   },
   {
    "duration": 26,
    "start_time": "2021-12-23T07:13:35.842Z"
   },
   {
    "duration": 28,
    "start_time": "2021-12-23T07:15:04.608Z"
   },
   {
    "duration": 28,
    "start_time": "2021-12-23T07:16:17.754Z"
   },
   {
    "duration": 1098,
    "start_time": "2021-12-23T07:16:36.173Z"
   },
   {
    "duration": 450,
    "start_time": "2021-12-23T07:16:37.272Z"
   },
   {
    "duration": 10,
    "start_time": "2021-12-23T07:16:37.724Z"
   },
   {
    "duration": 47,
    "start_time": "2021-12-23T07:16:37.735Z"
   },
   {
    "duration": 59,
    "start_time": "2021-12-23T07:16:37.784Z"
   },
   {
    "duration": 22,
    "start_time": "2021-12-23T07:16:37.845Z"
   },
   {
    "duration": 14,
    "start_time": "2021-12-23T07:16:37.869Z"
   },
   {
    "duration": 31,
    "start_time": "2021-12-23T07:16:37.885Z"
   },
   {
    "duration": 74,
    "start_time": "2021-12-23T07:16:37.918Z"
   },
   {
    "duration": 11,
    "start_time": "2021-12-23T07:16:37.994Z"
   },
   {
    "duration": 26,
    "start_time": "2021-12-23T07:16:38.007Z"
   },
   {
    "duration": 40,
    "start_time": "2021-12-23T07:16:38.035Z"
   },
   {
    "duration": 27,
    "start_time": "2021-12-23T07:16:38.077Z"
   },
   {
    "duration": 20,
    "start_time": "2021-12-23T07:16:38.107Z"
   },
   {
    "duration": 18,
    "start_time": "2021-12-23T07:16:38.129Z"
   },
   {
    "duration": 23,
    "start_time": "2021-12-23T07:16:38.148Z"
   },
   {
    "duration": 6,
    "start_time": "2021-12-23T07:16:38.191Z"
   },
   {
    "duration": 9,
    "start_time": "2021-12-23T07:16:38.198Z"
   },
   {
    "duration": 10,
    "start_time": "2021-12-23T07:16:38.209Z"
   },
   {
    "duration": 16,
    "start_time": "2021-12-23T07:16:38.220Z"
   },
   {
    "duration": 18,
    "start_time": "2021-12-23T07:16:38.238Z"
   },
   {
    "duration": 43,
    "start_time": "2021-12-23T07:16:38.258Z"
   },
   {
    "duration": 21,
    "start_time": "2021-12-23T07:16:38.306Z"
   },
   {
    "duration": 5,
    "start_time": "2021-12-23T07:16:38.329Z"
   },
   {
    "duration": 18,
    "start_time": "2021-12-23T07:16:38.336Z"
   },
   {
    "duration": 15,
    "start_time": "2021-12-23T07:16:38.356Z"
   },
   {
    "duration": 20,
    "start_time": "2021-12-23T07:16:38.372Z"
   },
   {
    "duration": 10,
    "start_time": "2021-12-23T07:16:38.394Z"
   },
   {
    "duration": 12,
    "start_time": "2021-12-23T07:16:38.405Z"
   },
   {
    "duration": 14,
    "start_time": "2021-12-23T07:16:38.419Z"
   },
   {
    "duration": 22,
    "start_time": "2021-12-23T07:16:38.435Z"
   },
   {
    "duration": 12,
    "start_time": "2021-12-23T07:16:38.459Z"
   },
   {
    "duration": 14,
    "start_time": "2021-12-23T07:16:38.473Z"
   },
   {
    "duration": 10,
    "start_time": "2021-12-23T07:16:38.488Z"
   },
   {
    "duration": 5,
    "start_time": "2021-12-23T07:16:38.500Z"
   },
   {
    "duration": 11,
    "start_time": "2021-12-23T07:16:38.507Z"
   },
   {
    "duration": 12,
    "start_time": "2021-12-23T07:16:38.519Z"
   },
   {
    "duration": 8,
    "start_time": "2021-12-23T07:16:38.532Z"
   },
   {
    "duration": 8,
    "start_time": "2021-12-23T07:16:38.541Z"
   },
   {
    "duration": 5,
    "start_time": "2021-12-23T07:16:38.551Z"
   },
   {
    "duration": 42,
    "start_time": "2021-12-23T07:16:38.557Z"
   },
   {
    "duration": 13,
    "start_time": "2021-12-23T07:16:38.600Z"
   },
   {
    "duration": 12,
    "start_time": "2021-12-23T07:16:38.615Z"
   },
   {
    "duration": 13,
    "start_time": "2021-12-23T07:16:38.629Z"
   },
   {
    "duration": 24,
    "start_time": "2021-12-23T07:16:38.644Z"
   },
   {
    "duration": 31,
    "start_time": "2021-12-23T07:16:38.669Z"
   },
   {
    "duration": 19,
    "start_time": "2021-12-23T07:16:38.702Z"
   },
   {
    "duration": 6,
    "start_time": "2021-12-23T07:16:38.723Z"
   },
   {
    "duration": 18,
    "start_time": "2021-12-23T07:16:38.731Z"
   },
   {
    "duration": 440,
    "start_time": "2021-12-23T07:16:38.751Z"
   },
   {
    "duration": 417,
    "start_time": "2021-12-23T07:16:39.192Z"
   },
   {
    "duration": 5,
    "start_time": "2021-12-23T07:16:39.611Z"
   },
   {
    "duration": 347,
    "start_time": "2021-12-23T07:16:39.618Z"
   },
   {
    "duration": 11,
    "start_time": "2021-12-23T07:16:39.967Z"
   },
   {
    "duration": 22,
    "start_time": "2021-12-23T07:16:39.979Z"
   },
   {
    "duration": 12,
    "start_time": "2021-12-23T07:16:40.003Z"
   },
   {
    "duration": 16,
    "start_time": "2021-12-23T07:16:40.017Z"
   },
   {
    "duration": 5003,
    "start_time": "2021-12-23T07:17:45.497Z"
   },
   {
    "duration": 1003,
    "start_time": "2021-12-23T07:18:09.149Z"
   },
   {
    "duration": 418,
    "start_time": "2021-12-23T07:18:10.154Z"
   },
   {
    "duration": 12,
    "start_time": "2021-12-23T07:18:10.574Z"
   },
   {
    "duration": 24,
    "start_time": "2021-12-23T07:18:10.588Z"
   },
   {
    "duration": 40,
    "start_time": "2021-12-23T07:18:10.614Z"
   },
   {
    "duration": 44,
    "start_time": "2021-12-23T07:18:10.656Z"
   },
   {
    "duration": 6,
    "start_time": "2021-12-23T07:18:10.702Z"
   },
   {
    "duration": 10,
    "start_time": "2021-12-23T07:18:10.710Z"
   },
   {
    "duration": 42,
    "start_time": "2021-12-23T07:18:10.722Z"
   },
   {
    "duration": 3,
    "start_time": "2021-12-23T07:18:10.766Z"
   },
   {
    "duration": 22,
    "start_time": "2021-12-23T07:18:10.771Z"
   },
   {
    "duration": 12,
    "start_time": "2021-12-23T07:18:10.795Z"
   },
   {
    "duration": 20,
    "start_time": "2021-12-23T07:18:10.809Z"
   },
   {
    "duration": 22,
    "start_time": "2021-12-23T07:18:10.830Z"
   },
   {
    "duration": 38,
    "start_time": "2021-12-23T07:18:10.853Z"
   },
   {
    "duration": 24,
    "start_time": "2021-12-23T07:18:10.893Z"
   },
   {
    "duration": 5,
    "start_time": "2021-12-23T07:18:10.919Z"
   },
   {
    "duration": 8,
    "start_time": "2021-12-23T07:18:10.926Z"
   },
   {
    "duration": 8,
    "start_time": "2021-12-23T07:18:10.936Z"
   },
   {
    "duration": 18,
    "start_time": "2021-12-23T07:18:10.946Z"
   },
   {
    "duration": 18,
    "start_time": "2021-12-23T07:18:10.991Z"
   },
   {
    "duration": 15,
    "start_time": "2021-12-23T07:18:11.011Z"
   },
   {
    "duration": 22,
    "start_time": "2021-12-23T07:18:11.027Z"
   },
   {
    "duration": 4,
    "start_time": "2021-12-23T07:18:11.051Z"
   },
   {
    "duration": 36,
    "start_time": "2021-12-23T07:18:11.056Z"
   },
   {
    "duration": 28,
    "start_time": "2021-12-23T07:18:11.094Z"
   },
   {
    "duration": 28,
    "start_time": "2021-12-23T07:18:11.127Z"
   },
   {
    "duration": 16,
    "start_time": "2021-12-23T07:18:11.157Z"
   },
   {
    "duration": 18,
    "start_time": "2021-12-23T07:18:11.175Z"
   },
   {
    "duration": 14,
    "start_time": "2021-12-23T07:18:11.195Z"
   },
   {
    "duration": 14,
    "start_time": "2021-12-23T07:18:11.211Z"
   },
   {
    "duration": 34,
    "start_time": "2021-12-23T07:18:11.227Z"
   },
   {
    "duration": 19,
    "start_time": "2021-12-23T07:18:11.262Z"
   },
   {
    "duration": 24,
    "start_time": "2021-12-23T07:18:11.283Z"
   },
   {
    "duration": 20,
    "start_time": "2021-12-23T07:18:11.308Z"
   },
   {
    "duration": 11,
    "start_time": "2021-12-23T07:18:11.330Z"
   },
   {
    "duration": 23,
    "start_time": "2021-12-23T07:18:11.342Z"
   },
   {
    "duration": 25,
    "start_time": "2021-12-23T07:18:11.367Z"
   },
   {
    "duration": 24,
    "start_time": "2021-12-23T07:18:11.394Z"
   },
   {
    "duration": 16,
    "start_time": "2021-12-23T07:18:11.420Z"
   },
   {
    "duration": 9,
    "start_time": "2021-12-23T07:18:11.437Z"
   },
   {
    "duration": 10,
    "start_time": "2021-12-23T07:18:11.448Z"
   },
   {
    "duration": 9,
    "start_time": "2021-12-23T07:18:11.460Z"
   },
   {
    "duration": 11,
    "start_time": "2021-12-23T07:18:11.470Z"
   },
   {
    "duration": 14,
    "start_time": "2021-12-23T07:18:11.483Z"
   },
   {
    "duration": 21,
    "start_time": "2021-12-23T07:18:11.499Z"
   },
   {
    "duration": 18,
    "start_time": "2021-12-23T07:18:11.521Z"
   },
   {
    "duration": 6,
    "start_time": "2021-12-23T07:18:11.540Z"
   },
   {
    "duration": 11,
    "start_time": "2021-12-23T07:18:11.548Z"
   },
   {
    "duration": 434,
    "start_time": "2021-12-23T07:18:11.560Z"
   },
   {
    "duration": 411,
    "start_time": "2021-12-23T07:18:11.996Z"
   },
   {
    "duration": 6,
    "start_time": "2021-12-23T07:18:12.408Z"
   },
   {
    "duration": 347,
    "start_time": "2021-12-23T07:18:12.416Z"
   },
   {
    "duration": 11,
    "start_time": "2021-12-23T07:18:12.764Z"
   },
   {
    "duration": 19,
    "start_time": "2021-12-23T07:18:12.777Z"
   },
   {
    "duration": 7,
    "start_time": "2021-12-23T07:18:12.797Z"
   },
   {
    "duration": 7,
    "start_time": "2021-12-23T07:18:12.806Z"
   },
   {
    "duration": 4425,
    "start_time": "2021-12-23T07:18:52.146Z"
   },
   {
    "duration": 1051,
    "start_time": "2021-12-23T07:19:08.200Z"
   },
   {
    "duration": 405,
    "start_time": "2021-12-23T07:19:09.253Z"
   },
   {
    "duration": 11,
    "start_time": "2021-12-23T07:19:09.660Z"
   },
   {
    "duration": 49,
    "start_time": "2021-12-23T07:19:09.673Z"
   },
   {
    "duration": 39,
    "start_time": "2021-12-23T07:19:09.724Z"
   },
   {
    "duration": 38,
    "start_time": "2021-12-23T07:19:09.765Z"
   },
   {
    "duration": 5,
    "start_time": "2021-12-23T07:19:09.805Z"
   },
   {
    "duration": 8,
    "start_time": "2021-12-23T07:19:09.812Z"
   },
   {
    "duration": 29,
    "start_time": "2021-12-23T07:19:09.822Z"
   },
   {
    "duration": 3,
    "start_time": "2021-12-23T07:19:09.852Z"
   },
   {
    "duration": 35,
    "start_time": "2021-12-23T07:19:09.856Z"
   },
   {
    "duration": 7,
    "start_time": "2021-12-23T07:19:09.893Z"
   },
   {
    "duration": 39,
    "start_time": "2021-12-23T07:19:09.902Z"
   },
   {
    "duration": 19,
    "start_time": "2021-12-23T07:19:09.943Z"
   },
   {
    "duration": 37,
    "start_time": "2021-12-23T07:19:09.963Z"
   },
   {
    "duration": 23,
    "start_time": "2021-12-23T07:19:10.002Z"
   },
   {
    "duration": 6,
    "start_time": "2021-12-23T07:19:10.027Z"
   },
   {
    "duration": 8,
    "start_time": "2021-12-23T07:19:10.035Z"
   },
   {
    "duration": 12,
    "start_time": "2021-12-23T07:19:10.045Z"
   },
   {
    "duration": 54,
    "start_time": "2021-12-23T07:19:10.058Z"
   },
   {
    "duration": 19,
    "start_time": "2021-12-23T07:19:10.114Z"
   },
   {
    "duration": 15,
    "start_time": "2021-12-23T07:19:10.134Z"
   },
   {
    "duration": 48,
    "start_time": "2021-12-23T07:19:10.153Z"
   },
   {
    "duration": 3,
    "start_time": "2021-12-23T07:19:10.204Z"
   },
   {
    "duration": 10,
    "start_time": "2021-12-23T07:19:10.209Z"
   },
   {
    "duration": 9,
    "start_time": "2021-12-23T07:19:10.220Z"
   },
   {
    "duration": 7,
    "start_time": "2021-12-23T07:19:10.231Z"
   },
   {
    "duration": 5,
    "start_time": "2021-12-23T07:19:10.240Z"
   },
   {
    "duration": 11,
    "start_time": "2021-12-23T07:19:10.247Z"
   },
   {
    "duration": 7,
    "start_time": "2021-12-23T07:19:10.260Z"
   },
   {
    "duration": 32,
    "start_time": "2021-12-23T07:19:10.269Z"
   },
   {
    "duration": 12,
    "start_time": "2021-12-23T07:19:10.303Z"
   },
   {
    "duration": 8,
    "start_time": "2021-12-23T07:19:10.317Z"
   },
   {
    "duration": 10,
    "start_time": "2021-12-23T07:19:10.327Z"
   },
   {
    "duration": 4,
    "start_time": "2021-12-23T07:19:10.339Z"
   },
   {
    "duration": 11,
    "start_time": "2021-12-23T07:19:10.345Z"
   },
   {
    "duration": 43,
    "start_time": "2021-12-23T07:19:10.358Z"
   },
   {
    "duration": 8,
    "start_time": "2021-12-23T07:19:10.402Z"
   },
   {
    "duration": 7,
    "start_time": "2021-12-23T07:19:10.412Z"
   },
   {
    "duration": 4,
    "start_time": "2021-12-23T07:19:10.420Z"
   },
   {
    "duration": 8,
    "start_time": "2021-12-23T07:19:10.426Z"
   },
   {
    "duration": 14,
    "start_time": "2021-12-23T07:19:10.435Z"
   },
   {
    "duration": 7,
    "start_time": "2021-12-23T07:19:10.450Z"
   },
   {
    "duration": 38,
    "start_time": "2021-12-23T07:19:10.458Z"
   },
   {
    "duration": 16,
    "start_time": "2021-12-23T07:19:10.499Z"
   },
   {
    "duration": 21,
    "start_time": "2021-12-23T07:19:10.516Z"
   },
   {
    "duration": 17,
    "start_time": "2021-12-23T07:19:10.538Z"
   },
   {
    "duration": 6,
    "start_time": "2021-12-23T07:19:10.557Z"
   },
   {
    "duration": 9,
    "start_time": "2021-12-23T07:19:10.592Z"
   },
   {
    "duration": 393,
    "start_time": "2021-12-23T07:19:10.603Z"
   },
   {
    "duration": 399,
    "start_time": "2021-12-23T07:19:10.997Z"
   },
   {
    "duration": 6,
    "start_time": "2021-12-23T07:19:11.397Z"
   },
   {
    "duration": 360,
    "start_time": "2021-12-23T07:19:11.405Z"
   },
   {
    "duration": 11,
    "start_time": "2021-12-23T07:19:11.766Z"
   },
   {
    "duration": 18,
    "start_time": "2021-12-23T07:19:11.779Z"
   },
   {
    "duration": 7,
    "start_time": "2021-12-23T07:19:11.798Z"
   },
   {
    "duration": 8,
    "start_time": "2021-12-23T07:19:11.807Z"
   },
   {
    "duration": 5313,
    "start_time": "2021-12-23T07:19:34.223Z"
   },
   {
    "duration": 1081,
    "start_time": "2021-12-23T07:19:51.681Z"
   },
   {
    "duration": 413,
    "start_time": "2021-12-23T07:19:52.764Z"
   },
   {
    "duration": 12,
    "start_time": "2021-12-23T07:19:53.179Z"
   },
   {
    "duration": 20,
    "start_time": "2021-12-23T07:19:53.192Z"
   },
   {
    "duration": 30,
    "start_time": "2021-12-23T07:19:53.214Z"
   },
   {
    "duration": 24,
    "start_time": "2021-12-23T07:19:53.245Z"
   },
   {
    "duration": 24,
    "start_time": "2021-12-23T07:19:53.270Z"
   },
   {
    "duration": 9,
    "start_time": "2021-12-23T07:19:53.296Z"
   },
   {
    "duration": 29,
    "start_time": "2021-12-23T07:19:53.307Z"
   },
   {
    "duration": 3,
    "start_time": "2021-12-23T07:19:53.338Z"
   },
   {
    "duration": 10,
    "start_time": "2021-12-23T07:19:53.342Z"
   },
   {
    "duration": 10,
    "start_time": "2021-12-23T07:19:53.354Z"
   },
   {
    "duration": 16,
    "start_time": "2021-12-23T07:19:53.392Z"
   },
   {
    "duration": 20,
    "start_time": "2021-12-23T07:19:53.410Z"
   },
   {
    "duration": 19,
    "start_time": "2021-12-23T07:19:53.432Z"
   },
   {
    "duration": 43,
    "start_time": "2021-12-23T07:19:53.452Z"
   },
   {
    "duration": 5,
    "start_time": "2021-12-23T07:19:53.497Z"
   },
   {
    "duration": 7,
    "start_time": "2021-12-23T07:19:53.504Z"
   },
   {
    "duration": 8,
    "start_time": "2021-12-23T07:19:53.512Z"
   },
   {
    "duration": 16,
    "start_time": "2021-12-23T07:19:53.521Z"
   },
   {
    "duration": 17,
    "start_time": "2021-12-23T07:19:53.539Z"
   },
   {
    "duration": 48,
    "start_time": "2021-12-23T07:19:53.558Z"
   },
   {
    "duration": 22,
    "start_time": "2021-12-23T07:19:53.610Z"
   },
   {
    "duration": 4,
    "start_time": "2021-12-23T07:19:53.635Z"
   },
   {
    "duration": 8,
    "start_time": "2021-12-23T07:19:53.641Z"
   },
   {
    "duration": 9,
    "start_time": "2021-12-23T07:19:53.650Z"
   },
   {
    "duration": 31,
    "start_time": "2021-12-23T07:19:53.661Z"
   },
   {
    "duration": 3,
    "start_time": "2021-12-23T07:19:53.694Z"
   },
   {
    "duration": 6,
    "start_time": "2021-12-23T07:19:53.698Z"
   },
   {
    "duration": 5,
    "start_time": "2021-12-23T07:19:53.705Z"
   },
   {
    "duration": 11,
    "start_time": "2021-12-23T07:19:53.712Z"
   },
   {
    "duration": 10,
    "start_time": "2021-12-23T07:19:53.724Z"
   },
   {
    "duration": 7,
    "start_time": "2021-12-23T07:19:53.736Z"
   },
   {
    "duration": 9,
    "start_time": "2021-12-23T07:19:53.744Z"
   },
   {
    "duration": 37,
    "start_time": "2021-12-23T07:19:53.755Z"
   },
   {
    "duration": 10,
    "start_time": "2021-12-23T07:19:53.794Z"
   },
   {
    "duration": 9,
    "start_time": "2021-12-23T07:19:53.806Z"
   },
   {
    "duration": 6,
    "start_time": "2021-12-23T07:19:53.817Z"
   },
   {
    "duration": 6,
    "start_time": "2021-12-23T07:19:53.825Z"
   },
   {
    "duration": 4,
    "start_time": "2021-12-23T07:19:53.833Z"
   },
   {
    "duration": 7,
    "start_time": "2021-12-23T07:19:53.839Z"
   },
   {
    "duration": 4,
    "start_time": "2021-12-23T07:19:53.848Z"
   },
   {
    "duration": 37,
    "start_time": "2021-12-23T07:19:53.854Z"
   },
   {
    "duration": 8,
    "start_time": "2021-12-23T07:19:53.893Z"
   },
   {
    "duration": 15,
    "start_time": "2021-12-23T07:19:53.903Z"
   },
   {
    "duration": 20,
    "start_time": "2021-12-23T07:19:53.919Z"
   },
   {
    "duration": 16,
    "start_time": "2021-12-23T07:19:53.941Z"
   },
   {
    "duration": 36,
    "start_time": "2021-12-23T07:19:53.958Z"
   },
   {
    "duration": 16,
    "start_time": "2021-12-23T07:19:53.996Z"
   },
   {
    "duration": 385,
    "start_time": "2021-12-23T07:19:54.014Z"
   },
   {
    "duration": 399,
    "start_time": "2021-12-23T07:19:54.401Z"
   },
   {
    "duration": 6,
    "start_time": "2021-12-23T07:19:54.802Z"
   },
   {
    "duration": 337,
    "start_time": "2021-12-23T07:19:54.810Z"
   },
   {
    "duration": 12,
    "start_time": "2021-12-23T07:19:55.148Z"
   },
   {
    "duration": 26,
    "start_time": "2021-12-23T07:19:55.161Z"
   },
   {
    "duration": 13,
    "start_time": "2021-12-23T07:19:55.188Z"
   },
   {
    "duration": 7,
    "start_time": "2021-12-23T07:19:55.203Z"
   },
   {
    "duration": 4587,
    "start_time": "2021-12-23T07:23:16.438Z"
   },
   {
    "duration": 4930,
    "start_time": "2021-12-23T07:23:31.221Z"
   },
   {
    "duration": 1054,
    "start_time": "2021-12-23T07:23:48.581Z"
   },
   {
    "duration": 410,
    "start_time": "2021-12-23T07:23:49.637Z"
   },
   {
    "duration": 12,
    "start_time": "2021-12-23T07:23:50.049Z"
   },
   {
    "duration": 29,
    "start_time": "2021-12-23T07:23:50.062Z"
   },
   {
    "duration": 33,
    "start_time": "2021-12-23T07:23:50.093Z"
   },
   {
    "duration": 25,
    "start_time": "2021-12-23T07:23:50.128Z"
   },
   {
    "duration": 45,
    "start_time": "2021-12-23T07:23:50.154Z"
   },
   {
    "duration": 6,
    "start_time": "2021-12-23T07:23:50.203Z"
   },
   {
    "duration": 9,
    "start_time": "2021-12-23T07:23:50.211Z"
   },
   {
    "duration": 32,
    "start_time": "2021-12-23T07:23:50.222Z"
   },
   {
    "duration": 3,
    "start_time": "2021-12-23T07:23:50.258Z"
   },
   {
    "duration": 35,
    "start_time": "2021-12-23T07:23:50.262Z"
   },
   {
    "duration": 7,
    "start_time": "2021-12-23T07:23:50.299Z"
   },
   {
    "duration": 17,
    "start_time": "2021-12-23T07:23:50.308Z"
   },
   {
    "duration": 21,
    "start_time": "2021-12-23T07:23:50.327Z"
   },
   {
    "duration": 46,
    "start_time": "2021-12-23T07:23:50.349Z"
   },
   {
    "duration": 22,
    "start_time": "2021-12-23T07:23:50.397Z"
   },
   {
    "duration": 5,
    "start_time": "2021-12-23T07:23:50.421Z"
   },
   {
    "duration": 8,
    "start_time": "2021-12-23T07:23:50.427Z"
   },
   {
    "duration": 8,
    "start_time": "2021-12-23T07:23:50.436Z"
   },
   {
    "duration": 15,
    "start_time": "2021-12-23T07:23:50.445Z"
   },
   {
    "duration": 46,
    "start_time": "2021-12-23T07:23:50.462Z"
   },
   {
    "duration": 15,
    "start_time": "2021-12-23T07:23:50.512Z"
   },
   {
    "duration": 23,
    "start_time": "2021-12-23T07:23:50.529Z"
   },
   {
    "duration": 5,
    "start_time": "2021-12-23T07:23:50.553Z"
   },
   {
    "duration": 37,
    "start_time": "2021-12-23T07:23:50.560Z"
   },
   {
    "duration": 9,
    "start_time": "2021-12-23T07:23:50.599Z"
   },
   {
    "duration": 7,
    "start_time": "2021-12-23T07:23:50.610Z"
   },
   {
    "duration": 5,
    "start_time": "2021-12-23T07:23:50.618Z"
   },
   {
    "duration": 5,
    "start_time": "2021-12-23T07:23:50.625Z"
   },
   {
    "duration": 5,
    "start_time": "2021-12-23T07:23:50.632Z"
   },
   {
    "duration": 10,
    "start_time": "2021-12-23T07:23:50.639Z"
   },
   {
    "duration": 11,
    "start_time": "2021-12-23T07:23:50.691Z"
   },
   {
    "duration": 8,
    "start_time": "2021-12-23T07:23:50.704Z"
   },
   {
    "duration": 10,
    "start_time": "2021-12-23T07:23:50.714Z"
   },
   {
    "duration": 5,
    "start_time": "2021-12-23T07:23:50.726Z"
   },
   {
    "duration": 12,
    "start_time": "2021-12-23T07:23:50.733Z"
   },
   {
    "duration": 46,
    "start_time": "2021-12-23T07:23:50.747Z"
   },
   {
    "duration": 9,
    "start_time": "2021-12-23T07:23:50.795Z"
   },
   {
    "duration": 9,
    "start_time": "2021-12-23T07:23:50.805Z"
   },
   {
    "duration": 5,
    "start_time": "2021-12-23T07:23:50.816Z"
   },
   {
    "duration": 13,
    "start_time": "2021-12-23T07:23:50.823Z"
   },
   {
    "duration": 8,
    "start_time": "2021-12-23T07:23:50.837Z"
   },
   {
    "duration": 7,
    "start_time": "2021-12-23T07:23:50.847Z"
   },
   {
    "duration": 41,
    "start_time": "2021-12-23T07:23:50.855Z"
   },
   {
    "duration": 16,
    "start_time": "2021-12-23T07:23:50.897Z"
   },
   {
    "duration": 20,
    "start_time": "2021-12-23T07:23:50.914Z"
   },
   {
    "duration": 16,
    "start_time": "2021-12-23T07:23:50.935Z"
   },
   {
    "duration": 5,
    "start_time": "2021-12-23T07:23:50.953Z"
   },
   {
    "duration": 7,
    "start_time": "2021-12-23T07:23:50.991Z"
   },
   {
    "duration": 404,
    "start_time": "2021-12-23T07:23:51.000Z"
   },
   {
    "duration": 419,
    "start_time": "2021-12-23T07:23:51.406Z"
   },
   {
    "duration": 6,
    "start_time": "2021-12-23T07:23:51.827Z"
   },
   {
    "duration": 397,
    "start_time": "2021-12-23T07:23:51.835Z"
   },
   {
    "duration": 11,
    "start_time": "2021-12-23T07:23:52.234Z"
   },
   {
    "duration": 8,
    "start_time": "2021-12-23T07:23:52.247Z"
   },
   {
    "duration": 7,
    "start_time": "2021-12-23T07:23:52.256Z"
   },
   {
    "duration": 32,
    "start_time": "2021-12-23T07:23:52.265Z"
   },
   {
    "duration": 265,
    "start_time": "2021-12-23T07:27:09.181Z"
   },
   {
    "duration": 1043,
    "start_time": "2021-12-23T07:27:14.204Z"
   },
   {
    "duration": 409,
    "start_time": "2021-12-23T07:27:15.249Z"
   },
   {
    "duration": 10,
    "start_time": "2021-12-23T07:27:15.660Z"
   },
   {
    "duration": 23,
    "start_time": "2021-12-23T07:27:15.672Z"
   },
   {
    "duration": 31,
    "start_time": "2021-12-23T07:27:15.697Z"
   },
   {
    "duration": 23,
    "start_time": "2021-12-23T07:27:15.729Z"
   },
   {
    "duration": 39,
    "start_time": "2021-12-23T07:27:15.753Z"
   },
   {
    "duration": 6,
    "start_time": "2021-12-23T07:27:15.794Z"
   },
   {
    "duration": 10,
    "start_time": "2021-12-23T07:27:15.802Z"
   },
   {
    "duration": 40,
    "start_time": "2021-12-23T07:27:15.813Z"
   },
   {
    "duration": 1323,
    "start_time": "2021-12-23T07:27:15.854Z"
   },
   {
    "duration": -329,
    "start_time": "2021-12-23T07:27:17.509Z"
   },
   {
    "duration": -332,
    "start_time": "2021-12-23T07:27:17.513Z"
   },
   {
    "duration": -338,
    "start_time": "2021-12-23T07:27:17.520Z"
   },
   {
    "duration": -345,
    "start_time": "2021-12-23T07:27:17.528Z"
   },
   {
    "duration": -350,
    "start_time": "2021-12-23T07:27:17.534Z"
   },
   {
    "duration": -351,
    "start_time": "2021-12-23T07:27:17.536Z"
   },
   {
    "duration": -352,
    "start_time": "2021-12-23T07:27:17.538Z"
   },
   {
    "duration": -354,
    "start_time": "2021-12-23T07:27:17.541Z"
   },
   {
    "duration": -356,
    "start_time": "2021-12-23T07:27:17.544Z"
   },
   {
    "duration": -358,
    "start_time": "2021-12-23T07:27:17.547Z"
   },
   {
    "duration": -360,
    "start_time": "2021-12-23T07:27:17.550Z"
   },
   {
    "duration": -362,
    "start_time": "2021-12-23T07:27:17.553Z"
   },
   {
    "duration": -364,
    "start_time": "2021-12-23T07:27:17.556Z"
   },
   {
    "duration": -365,
    "start_time": "2021-12-23T07:27:17.558Z"
   },
   {
    "duration": -367,
    "start_time": "2021-12-23T07:27:17.561Z"
   },
   {
    "duration": -368,
    "start_time": "2021-12-23T07:27:17.563Z"
   },
   {
    "duration": -370,
    "start_time": "2021-12-23T07:27:17.566Z"
   },
   {
    "duration": -380,
    "start_time": "2021-12-23T07:27:17.576Z"
   },
   {
    "duration": -385,
    "start_time": "2021-12-23T07:27:17.582Z"
   },
   {
    "duration": -390,
    "start_time": "2021-12-23T07:27:17.588Z"
   },
   {
    "duration": -392,
    "start_time": "2021-12-23T07:27:17.591Z"
   },
   {
    "duration": -393,
    "start_time": "2021-12-23T07:27:17.593Z"
   },
   {
    "duration": -397,
    "start_time": "2021-12-23T07:27:17.598Z"
   },
   {
    "duration": -399,
    "start_time": "2021-12-23T07:27:17.601Z"
   },
   {
    "duration": -402,
    "start_time": "2021-12-23T07:27:17.605Z"
   },
   {
    "duration": -403,
    "start_time": "2021-12-23T07:27:17.607Z"
   },
   {
    "duration": -404,
    "start_time": "2021-12-23T07:27:17.609Z"
   },
   {
    "duration": -406,
    "start_time": "2021-12-23T07:27:17.612Z"
   },
   {
    "duration": -408,
    "start_time": "2021-12-23T07:27:17.615Z"
   },
   {
    "duration": -409,
    "start_time": "2021-12-23T07:27:17.617Z"
   },
   {
    "duration": -410,
    "start_time": "2021-12-23T07:27:17.619Z"
   },
   {
    "duration": -412,
    "start_time": "2021-12-23T07:27:17.622Z"
   },
   {
    "duration": -412,
    "start_time": "2021-12-23T07:27:17.624Z"
   },
   {
    "duration": -413,
    "start_time": "2021-12-23T07:27:17.626Z"
   },
   {
    "duration": -432,
    "start_time": "2021-12-23T07:27:17.645Z"
   },
   {
    "duration": -437,
    "start_time": "2021-12-23T07:27:17.651Z"
   },
   {
    "duration": -438,
    "start_time": "2021-12-23T07:27:17.654Z"
   },
   {
    "duration": -439,
    "start_time": "2021-12-23T07:27:17.656Z"
   },
   {
    "duration": -441,
    "start_time": "2021-12-23T07:27:17.659Z"
   },
   {
    "duration": -442,
    "start_time": "2021-12-23T07:27:17.661Z"
   },
   {
    "duration": -445,
    "start_time": "2021-12-23T07:27:17.665Z"
   },
   {
    "duration": -446,
    "start_time": "2021-12-23T07:27:17.667Z"
   },
   {
    "duration": -447,
    "start_time": "2021-12-23T07:27:17.669Z"
   },
   {
    "duration": -448,
    "start_time": "2021-12-23T07:27:17.671Z"
   },
   {
    "duration": -449,
    "start_time": "2021-12-23T07:27:17.673Z"
   },
   {
    "duration": -451,
    "start_time": "2021-12-23T07:27:17.676Z"
   },
   {
    "duration": -452,
    "start_time": "2021-12-23T07:27:17.679Z"
   },
   {
    "duration": 24,
    "start_time": "2021-12-23T07:29:40.997Z"
   },
   {
    "duration": 3,
    "start_time": "2021-12-23T07:29:52.462Z"
   },
   {
    "duration": 7,
    "start_time": "2021-12-23T07:29:57.436Z"
   },
   {
    "duration": 253,
    "start_time": "2021-12-23T07:30:44.155Z"
   },
   {
    "duration": 1081,
    "start_time": "2021-12-23T07:30:50.061Z"
   },
   {
    "duration": 415,
    "start_time": "2021-12-23T07:30:51.143Z"
   },
   {
    "duration": 11,
    "start_time": "2021-12-23T07:30:51.560Z"
   },
   {
    "duration": 26,
    "start_time": "2021-12-23T07:30:51.573Z"
   },
   {
    "duration": 33,
    "start_time": "2021-12-23T07:30:51.601Z"
   },
   {
    "duration": 22,
    "start_time": "2021-12-23T07:30:51.636Z"
   },
   {
    "duration": 38,
    "start_time": "2021-12-23T07:30:51.660Z"
   },
   {
    "duration": 5,
    "start_time": "2021-12-23T07:30:51.701Z"
   },
   {
    "duration": 8,
    "start_time": "2021-12-23T07:30:51.709Z"
   },
   {
    "duration": 42,
    "start_time": "2021-12-23T07:30:51.719Z"
   },
   {
    "duration": 32,
    "start_time": "2021-12-23T07:30:51.762Z"
   },
   {
    "duration": 808,
    "start_time": "2021-12-23T07:30:51.796Z"
   },
   {
    "duration": -334,
    "start_time": "2021-12-23T07:30:52.942Z"
   },
   {
    "duration": -348,
    "start_time": "2021-12-23T07:30:52.958Z"
   },
   {
    "duration": -353,
    "start_time": "2021-12-23T07:30:52.965Z"
   },
   {
    "duration": -356,
    "start_time": "2021-12-23T07:30:52.969Z"
   },
   {
    "duration": -357,
    "start_time": "2021-12-23T07:30:52.972Z"
   },
   {
    "duration": -358,
    "start_time": "2021-12-23T07:30:52.974Z"
   },
   {
    "duration": -359,
    "start_time": "2021-12-23T07:30:52.977Z"
   },
   {
    "duration": -360,
    "start_time": "2021-12-23T07:30:52.979Z"
   },
   {
    "duration": -360,
    "start_time": "2021-12-23T07:30:52.981Z"
   },
   {
    "duration": -364,
    "start_time": "2021-12-23T07:30:52.986Z"
   },
   {
    "duration": -365,
    "start_time": "2021-12-23T07:30:52.989Z"
   },
   {
    "duration": -367,
    "start_time": "2021-12-23T07:30:52.992Z"
   },
   {
    "duration": -367,
    "start_time": "2021-12-23T07:30:52.994Z"
   },
   {
    "duration": -370,
    "start_time": "2021-12-23T07:30:52.998Z"
   },
   {
    "duration": -375,
    "start_time": "2021-12-23T07:30:53.004Z"
   },
   {
    "duration": -376,
    "start_time": "2021-12-23T07:30:53.007Z"
   },
   {
    "duration": -378,
    "start_time": "2021-12-23T07:30:53.010Z"
   },
   {
    "duration": -378,
    "start_time": "2021-12-23T07:30:53.012Z"
   },
   {
    "duration": -390,
    "start_time": "2021-12-23T07:30:53.025Z"
   },
   {
    "duration": -392,
    "start_time": "2021-12-23T07:30:53.028Z"
   },
   {
    "duration": -393,
    "start_time": "2021-12-23T07:30:53.031Z"
   },
   {
    "duration": -396,
    "start_time": "2021-12-23T07:30:53.035Z"
   },
   {
    "duration": -400,
    "start_time": "2021-12-23T07:30:53.041Z"
   },
   {
    "duration": -401,
    "start_time": "2021-12-23T07:30:53.043Z"
   },
   {
    "duration": -403,
    "start_time": "2021-12-23T07:30:53.046Z"
   },
   {
    "duration": -407,
    "start_time": "2021-12-23T07:30:53.051Z"
   },
   {
    "duration": -412,
    "start_time": "2021-12-23T07:30:53.057Z"
   },
   {
    "duration": -426,
    "start_time": "2021-12-23T07:30:53.072Z"
   },
   {
    "duration": -427,
    "start_time": "2021-12-23T07:30:53.074Z"
   },
   {
    "duration": -429,
    "start_time": "2021-12-23T07:30:53.077Z"
   },
   {
    "duration": -430,
    "start_time": "2021-12-23T07:30:53.079Z"
   },
   {
    "duration": -433,
    "start_time": "2021-12-23T07:30:53.082Z"
   },
   {
    "duration": -438,
    "start_time": "2021-12-23T07:30:53.088Z"
   },
   {
    "duration": -440,
    "start_time": "2021-12-23T07:30:53.090Z"
   },
   {
    "duration": -402,
    "start_time": "2021-12-23T07:30:53.093Z"
   },
   {
    "duration": -403,
    "start_time": "2021-12-23T07:30:53.096Z"
   },
   {
    "duration": -405,
    "start_time": "2021-12-23T07:30:53.099Z"
   },
   {
    "duration": -412,
    "start_time": "2021-12-23T07:30:53.106Z"
   },
   {
    "duration": -414,
    "start_time": "2021-12-23T07:30:53.109Z"
   },
   {
    "duration": -416,
    "start_time": "2021-12-23T07:30:53.112Z"
   },
   {
    "duration": -420,
    "start_time": "2021-12-23T07:30:53.117Z"
   },
   {
    "duration": -423,
    "start_time": "2021-12-23T07:30:53.121Z"
   },
   {
    "duration": -440,
    "start_time": "2021-12-23T07:30:53.138Z"
   },
   {
    "duration": -442,
    "start_time": "2021-12-23T07:30:53.141Z"
   },
   {
    "duration": -444,
    "start_time": "2021-12-23T07:30:53.144Z"
   },
   {
    "duration": -445,
    "start_time": "2021-12-23T07:30:53.146Z"
   },
   {
    "duration": -446,
    "start_time": "2021-12-23T07:30:53.148Z"
   },
   {
    "duration": 1059,
    "start_time": "2021-12-23T07:32:20.460Z"
   },
   {
    "duration": 413,
    "start_time": "2021-12-23T07:32:21.521Z"
   },
   {
    "duration": 11,
    "start_time": "2021-12-23T07:32:21.936Z"
   },
   {
    "duration": 41,
    "start_time": "2021-12-23T07:32:21.949Z"
   },
   {
    "duration": 30,
    "start_time": "2021-12-23T07:32:21.991Z"
   },
   {
    "duration": 23,
    "start_time": "2021-12-23T07:32:22.023Z"
   },
   {
    "duration": 24,
    "start_time": "2021-12-23T07:32:22.047Z"
   },
   {
    "duration": 22,
    "start_time": "2021-12-23T07:32:22.073Z"
   },
   {
    "duration": 36,
    "start_time": "2021-12-23T07:32:22.097Z"
   },
   {
    "duration": 66,
    "start_time": "2021-12-23T07:32:22.135Z"
   },
   {
    "duration": 8,
    "start_time": "2021-12-23T07:32:22.202Z"
   },
   {
    "duration": 795,
    "start_time": "2021-12-23T07:32:22.211Z"
   },
   {
    "duration": -872,
    "start_time": "2021-12-23T07:32:23.882Z"
   },
   {
    "duration": -873,
    "start_time": "2021-12-23T07:32:23.884Z"
   },
   {
    "duration": -874,
    "start_time": "2021-12-23T07:32:23.887Z"
   },
   {
    "duration": -877,
    "start_time": "2021-12-23T07:32:23.891Z"
   },
   {
    "duration": -879,
    "start_time": "2021-12-23T07:32:23.895Z"
   },
   {
    "duration": -881,
    "start_time": "2021-12-23T07:32:23.898Z"
   },
   {
    "duration": -882,
    "start_time": "2021-12-23T07:32:23.901Z"
   },
   {
    "duration": -883,
    "start_time": "2021-12-23T07:32:23.903Z"
   },
   {
    "duration": -884,
    "start_time": "2021-12-23T07:32:23.906Z"
   },
   {
    "duration": -886,
    "start_time": "2021-12-23T07:32:23.909Z"
   },
   {
    "duration": -887,
    "start_time": "2021-12-23T07:32:23.912Z"
   },
   {
    "duration": -888,
    "start_time": "2021-12-23T07:32:23.914Z"
   },
   {
    "duration": -889,
    "start_time": "2021-12-23T07:32:23.917Z"
   },
   {
    "duration": -890,
    "start_time": "2021-12-23T07:32:23.919Z"
   },
   {
    "duration": -891,
    "start_time": "2021-12-23T07:32:23.922Z"
   },
   {
    "duration": -893,
    "start_time": "2021-12-23T07:32:23.925Z"
   },
   {
    "duration": -893,
    "start_time": "2021-12-23T07:32:23.927Z"
   },
   {
    "duration": -894,
    "start_time": "2021-12-23T07:32:23.930Z"
   },
   {
    "duration": -895,
    "start_time": "2021-12-23T07:32:23.932Z"
   },
   {
    "duration": -897,
    "start_time": "2021-12-23T07:32:23.935Z"
   },
   {
    "duration": -898,
    "start_time": "2021-12-23T07:32:23.938Z"
   },
   {
    "duration": -900,
    "start_time": "2021-12-23T07:32:23.941Z"
   },
   {
    "duration": -901,
    "start_time": "2021-12-23T07:32:23.944Z"
   },
   {
    "duration": -902,
    "start_time": "2021-12-23T07:32:23.946Z"
   },
   {
    "duration": -903,
    "start_time": "2021-12-23T07:32:23.949Z"
   },
   {
    "duration": -905,
    "start_time": "2021-12-23T07:32:23.952Z"
   },
   {
    "duration": -907,
    "start_time": "2021-12-23T07:32:23.955Z"
   },
   {
    "duration": -909,
    "start_time": "2021-12-23T07:32:23.958Z"
   },
   {
    "duration": -910,
    "start_time": "2021-12-23T07:32:23.960Z"
   },
   {
    "duration": -912,
    "start_time": "2021-12-23T07:32:23.962Z"
   },
   {
    "duration": -874,
    "start_time": "2021-12-23T07:32:23.966Z"
   },
   {
    "duration": -906,
    "start_time": "2021-12-23T07:32:23.999Z"
   },
   {
    "duration": -915,
    "start_time": "2021-12-23T07:32:24.009Z"
   },
   {
    "duration": -918,
    "start_time": "2021-12-23T07:32:24.013Z"
   },
   {
    "duration": -920,
    "start_time": "2021-12-23T07:32:24.016Z"
   },
   {
    "duration": -921,
    "start_time": "2021-12-23T07:32:24.018Z"
   },
   {
    "duration": -927,
    "start_time": "2021-12-23T07:32:24.025Z"
   },
   {
    "duration": -928,
    "start_time": "2021-12-23T07:32:24.027Z"
   },
   {
    "duration": -930,
    "start_time": "2021-12-23T07:32:24.030Z"
   },
   {
    "duration": -931,
    "start_time": "2021-12-23T07:32:24.032Z"
   },
   {
    "duration": -933,
    "start_time": "2021-12-23T07:32:24.035Z"
   },
   {
    "duration": -934,
    "start_time": "2021-12-23T07:32:24.038Z"
   },
   {
    "duration": -936,
    "start_time": "2021-12-23T07:32:24.041Z"
   },
   {
    "duration": -937,
    "start_time": "2021-12-23T07:32:24.043Z"
   },
   {
    "duration": -939,
    "start_time": "2021-12-23T07:32:24.046Z"
   },
   {
    "duration": -941,
    "start_time": "2021-12-23T07:32:24.049Z"
   },
   {
    "duration": -943,
    "start_time": "2021-12-23T07:32:24.052Z"
   },
   {
    "duration": 3,
    "start_time": "2021-12-23T07:38:28.509Z"
   },
   {
    "duration": 979,
    "start_time": "2021-12-23T07:38:40.855Z"
   },
   {
    "duration": 395,
    "start_time": "2021-12-23T07:38:41.835Z"
   },
   {
    "duration": 10,
    "start_time": "2021-12-23T07:38:42.232Z"
   },
   {
    "duration": 20,
    "start_time": "2021-12-23T07:38:42.244Z"
   },
   {
    "duration": 29,
    "start_time": "2021-12-23T07:38:42.265Z"
   },
   {
    "duration": 22,
    "start_time": "2021-12-23T07:38:42.296Z"
   },
   {
    "duration": 22,
    "start_time": "2021-12-23T07:38:42.319Z"
   },
   {
    "duration": 5,
    "start_time": "2021-12-23T07:38:42.344Z"
   },
   {
    "duration": 8,
    "start_time": "2021-12-23T07:38:42.350Z"
   },
   {
    "duration": 62,
    "start_time": "2021-12-23T07:38:42.360Z"
   },
   {
    "duration": 2,
    "start_time": "2021-12-23T07:38:42.423Z"
   },
   {
    "duration": 5,
    "start_time": "2021-12-23T07:38:42.427Z"
   },
   {
    "duration": 11,
    "start_time": "2021-12-23T07:38:42.434Z"
   },
   {
    "duration": 8,
    "start_time": "2021-12-23T07:38:42.446Z"
   },
   {
    "duration": 37,
    "start_time": "2021-12-23T07:38:42.455Z"
   },
   {
    "duration": 20,
    "start_time": "2021-12-23T07:38:42.493Z"
   },
   {
    "duration": 17,
    "start_time": "2021-12-23T07:38:42.515Z"
   },
   {
    "duration": 22,
    "start_time": "2021-12-23T07:38:42.534Z"
   },
   {
    "duration": 5,
    "start_time": "2021-12-23T07:38:42.557Z"
   },
   {
    "duration": 28,
    "start_time": "2021-12-23T07:38:42.564Z"
   },
   {
    "duration": 7,
    "start_time": "2021-12-23T07:38:42.594Z"
   },
   {
    "duration": 15,
    "start_time": "2021-12-23T07:38:42.602Z"
   },
   {
    "duration": 17,
    "start_time": "2021-12-23T07:38:42.621Z"
   },
   {
    "duration": 14,
    "start_time": "2021-12-23T07:38:42.640Z"
   },
   {
    "duration": 49,
    "start_time": "2021-12-23T07:38:42.656Z"
   },
   {
    "duration": 4,
    "start_time": "2021-12-23T07:38:42.707Z"
   },
   {
    "duration": 9,
    "start_time": "2021-12-23T07:38:42.712Z"
   },
   {
    "duration": 11,
    "start_time": "2021-12-23T07:38:42.723Z"
   },
   {
    "duration": 7,
    "start_time": "2021-12-23T07:38:42.736Z"
   },
   {
    "duration": 5,
    "start_time": "2021-12-23T07:38:42.745Z"
   },
   {
    "duration": 6,
    "start_time": "2021-12-23T07:38:42.751Z"
   },
   {
    "duration": 34,
    "start_time": "2021-12-23T07:38:42.758Z"
   },
   {
    "duration": 8,
    "start_time": "2021-12-23T07:38:42.793Z"
   },
   {
    "duration": 11,
    "start_time": "2021-12-23T07:38:42.803Z"
   },
   {
    "duration": 8,
    "start_time": "2021-12-23T07:38:42.815Z"
   },
   {
    "duration": 10,
    "start_time": "2021-12-23T07:38:42.825Z"
   },
   {
    "duration": 6,
    "start_time": "2021-12-23T07:38:42.837Z"
   },
   {
    "duration": 10,
    "start_time": "2021-12-23T07:38:42.845Z"
   },
   {
    "duration": 78,
    "start_time": "2021-12-23T07:38:42.857Z"
   },
   {
    "duration": 38,
    "start_time": "2021-12-23T07:38:42.937Z"
   },
   {
    "duration": 61,
    "start_time": "2021-12-23T07:38:42.977Z"
   },
   {
    "duration": 83,
    "start_time": "2021-12-23T07:38:43.039Z"
   },
   {
    "duration": 59,
    "start_time": "2021-12-23T07:38:43.124Z"
   },
   {
    "duration": 824,
    "start_time": "2021-12-23T07:38:43.191Z"
   },
   {
    "duration": 5021,
    "start_time": "2021-12-23T07:38:44.017Z"
   },
   {
    "duration": -334,
    "start_time": "2021-12-23T07:38:49.374Z"
   },
   {
    "duration": -340,
    "start_time": "2021-12-23T07:38:49.381Z"
   },
   {
    "duration": -346,
    "start_time": "2021-12-23T07:38:49.388Z"
   },
   {
    "duration": -351,
    "start_time": "2021-12-23T07:38:49.394Z"
   },
   {
    "duration": -353,
    "start_time": "2021-12-23T07:38:49.397Z"
   },
   {
    "duration": -364,
    "start_time": "2021-12-23T07:38:49.408Z"
   },
   {
    "duration": -370,
    "start_time": "2021-12-23T07:38:49.415Z"
   },
   {
    "duration": -372,
    "start_time": "2021-12-23T07:38:49.418Z"
   },
   {
    "duration": -374,
    "start_time": "2021-12-23T07:38:49.421Z"
   },
   {
    "duration": -377,
    "start_time": "2021-12-23T07:38:49.425Z"
   },
   {
    "duration": -378,
    "start_time": "2021-12-23T07:38:49.427Z"
   },
   {
    "duration": -380,
    "start_time": "2021-12-23T07:38:49.430Z"
   },
   {
    "duration": -381,
    "start_time": "2021-12-23T07:38:49.432Z"
   },
   {
    "duration": -383,
    "start_time": "2021-12-23T07:38:49.435Z"
   },
   {
    "duration": 1024,
    "start_time": "2021-12-23T07:39:51.513Z"
   },
   {
    "duration": 427,
    "start_time": "2021-12-23T07:39:52.539Z"
   },
   {
    "duration": 10,
    "start_time": "2021-12-23T07:39:52.970Z"
   },
   {
    "duration": 29,
    "start_time": "2021-12-23T07:39:52.982Z"
   },
   {
    "duration": 31,
    "start_time": "2021-12-23T07:39:53.012Z"
   },
   {
    "duration": 21,
    "start_time": "2021-12-23T07:39:53.045Z"
   },
   {
    "duration": 39,
    "start_time": "2021-12-23T07:39:53.068Z"
   },
   {
    "duration": 6,
    "start_time": "2021-12-23T07:39:53.111Z"
   },
   {
    "duration": 10,
    "start_time": "2021-12-23T07:39:53.120Z"
   },
   {
    "duration": 60,
    "start_time": "2021-12-23T07:39:53.132Z"
   },
   {
    "duration": 3,
    "start_time": "2021-12-23T07:39:53.194Z"
   },
   {
    "duration": 6,
    "start_time": "2021-12-23T07:39:53.198Z"
   },
   {
    "duration": 12,
    "start_time": "2021-12-23T07:39:53.205Z"
   },
   {
    "duration": 10,
    "start_time": "2021-12-23T07:39:53.219Z"
   },
   {
    "duration": 21,
    "start_time": "2021-12-23T07:39:53.230Z"
   },
   {
    "duration": 39,
    "start_time": "2021-12-23T07:39:53.253Z"
   },
   {
    "duration": 17,
    "start_time": "2021-12-23T07:39:53.294Z"
   },
   {
    "duration": 24,
    "start_time": "2021-12-23T07:39:53.312Z"
   },
   {
    "duration": 5,
    "start_time": "2021-12-23T07:39:53.337Z"
   },
   {
    "duration": 11,
    "start_time": "2021-12-23T07:39:53.343Z"
   },
   {
    "duration": 9,
    "start_time": "2021-12-23T07:39:53.356Z"
   },
   {
    "duration": 33,
    "start_time": "2021-12-23T07:39:53.366Z"
   },
   {
    "duration": 19,
    "start_time": "2021-12-23T07:39:53.400Z"
   },
   {
    "duration": 15,
    "start_time": "2021-12-23T07:39:53.420Z"
   },
   {
    "duration": 21,
    "start_time": "2021-12-23T07:39:53.436Z"
   },
   {
    "duration": 3,
    "start_time": "2021-12-23T07:39:53.461Z"
   },
   {
    "duration": 31,
    "start_time": "2021-12-23T07:39:53.466Z"
   },
   {
    "duration": 9,
    "start_time": "2021-12-23T07:39:53.499Z"
   },
   {
    "duration": 9,
    "start_time": "2021-12-23T07:39:53.510Z"
   },
   {
    "duration": 8,
    "start_time": "2021-12-23T07:39:53.520Z"
   },
   {
    "duration": 6,
    "start_time": "2021-12-23T07:39:53.530Z"
   },
   {
    "duration": 6,
    "start_time": "2021-12-23T07:39:53.538Z"
   },
   {
    "duration": 10,
    "start_time": "2021-12-23T07:39:53.546Z"
   },
   {
    "duration": 39,
    "start_time": "2021-12-23T07:39:53.558Z"
   },
   {
    "duration": 9,
    "start_time": "2021-12-23T07:39:53.598Z"
   },
   {
    "duration": 11,
    "start_time": "2021-12-23T07:39:53.608Z"
   },
   {
    "duration": 4,
    "start_time": "2021-12-23T07:39:53.621Z"
   },
   {
    "duration": 12,
    "start_time": "2021-12-23T07:39:53.626Z"
   },
   {
    "duration": 74,
    "start_time": "2021-12-23T07:39:53.640Z"
   },
   {
    "duration": 38,
    "start_time": "2021-12-23T07:39:53.716Z"
   },
   {
    "duration": 62,
    "start_time": "2021-12-23T07:39:53.756Z"
   },
   {
    "duration": 81,
    "start_time": "2021-12-23T07:39:53.819Z"
   },
   {
    "duration": 59,
    "start_time": "2021-12-23T07:39:53.902Z"
   },
   {
    "duration": 847,
    "start_time": "2021-12-23T07:39:53.963Z"
   },
   {
    "duration": 4421,
    "start_time": "2021-12-23T07:39:54.812Z"
   },
   {
    "duration": -2393,
    "start_time": "2021-12-23T07:40:01.628Z"
   },
   {
    "duration": -2397,
    "start_time": "2021-12-23T07:40:01.633Z"
   },
   {
    "duration": -2404,
    "start_time": "2021-12-23T07:40:01.641Z"
   },
   {
    "duration": -2406,
    "start_time": "2021-12-23T07:40:01.644Z"
   },
   {
    "duration": -2410,
    "start_time": "2021-12-23T07:40:01.649Z"
   },
   {
    "duration": -2412,
    "start_time": "2021-12-23T07:40:01.652Z"
   },
   {
    "duration": -2413,
    "start_time": "2021-12-23T07:40:01.654Z"
   },
   {
    "duration": -2414,
    "start_time": "2021-12-23T07:40:01.656Z"
   },
   {
    "duration": -2416,
    "start_time": "2021-12-23T07:40:01.659Z"
   },
   {
    "duration": -2418,
    "start_time": "2021-12-23T07:40:01.662Z"
   },
   {
    "duration": -2418,
    "start_time": "2021-12-23T07:40:01.664Z"
   },
   {
    "duration": -2420,
    "start_time": "2021-12-23T07:40:01.667Z"
   },
   {
    "duration": -2423,
    "start_time": "2021-12-23T07:40:01.670Z"
   },
   {
    "duration": -2423,
    "start_time": "2021-12-23T07:40:01.672Z"
   },
   {
    "duration": 1052,
    "start_time": "2021-12-23T07:41:39.752Z"
   },
   {
    "duration": 417,
    "start_time": "2021-12-23T07:41:40.806Z"
   },
   {
    "duration": 11,
    "start_time": "2021-12-23T07:41:41.228Z"
   },
   {
    "duration": 23,
    "start_time": "2021-12-23T07:41:41.240Z"
   },
   {
    "duration": 30,
    "start_time": "2021-12-23T07:41:41.264Z"
   },
   {
    "duration": 22,
    "start_time": "2021-12-23T07:41:41.296Z"
   },
   {
    "duration": 23,
    "start_time": "2021-12-23T07:41:41.321Z"
   },
   {
    "duration": 5,
    "start_time": "2021-12-23T07:41:41.346Z"
   },
   {
    "duration": 8,
    "start_time": "2021-12-23T07:41:41.353Z"
   },
   {
    "duration": 56,
    "start_time": "2021-12-23T07:41:41.363Z"
   },
   {
    "duration": 2,
    "start_time": "2021-12-23T07:41:41.421Z"
   },
   {
    "duration": 5,
    "start_time": "2021-12-23T07:41:41.424Z"
   },
   {
    "duration": 10,
    "start_time": "2021-12-23T07:41:41.431Z"
   },
   {
    "duration": 8,
    "start_time": "2021-12-23T07:41:41.442Z"
   },
   {
    "duration": 44,
    "start_time": "2021-12-23T07:41:41.452Z"
   },
   {
    "duration": 20,
    "start_time": "2021-12-23T07:41:41.498Z"
   },
   {
    "duration": 17,
    "start_time": "2021-12-23T07:41:41.520Z"
   },
   {
    "duration": 23,
    "start_time": "2021-12-23T07:41:41.538Z"
   },
   {
    "duration": 29,
    "start_time": "2021-12-23T07:41:41.563Z"
   },
   {
    "duration": 7,
    "start_time": "2021-12-23T07:41:41.594Z"
   },
   {
    "duration": 8,
    "start_time": "2021-12-23T07:41:41.602Z"
   },
   {
    "duration": 14,
    "start_time": "2021-12-23T07:41:41.614Z"
   },
   {
    "duration": 16,
    "start_time": "2021-12-23T07:41:41.630Z"
   },
   {
    "duration": 14,
    "start_time": "2021-12-23T07:41:41.647Z"
   },
   {
    "duration": 50,
    "start_time": "2021-12-23T07:41:41.662Z"
   },
   {
    "duration": 4,
    "start_time": "2021-12-23T07:41:41.714Z"
   },
   {
    "duration": 8,
    "start_time": "2021-12-23T07:41:41.720Z"
   },
   {
    "duration": 9,
    "start_time": "2021-12-23T07:41:41.730Z"
   },
   {
    "duration": 7,
    "start_time": "2021-12-23T07:41:41.740Z"
   },
   {
    "duration": 6,
    "start_time": "2021-12-23T07:41:41.748Z"
   },
   {
    "duration": 5,
    "start_time": "2021-12-23T07:41:41.755Z"
   },
   {
    "duration": 4,
    "start_time": "2021-12-23T07:41:41.792Z"
   },
   {
    "duration": 11,
    "start_time": "2021-12-23T07:41:41.797Z"
   },
   {
    "duration": 11,
    "start_time": "2021-12-23T07:41:41.809Z"
   },
   {
    "duration": 8,
    "start_time": "2021-12-23T07:41:41.821Z"
   },
   {
    "duration": 12,
    "start_time": "2021-12-23T07:41:41.830Z"
   },
   {
    "duration": 4,
    "start_time": "2021-12-23T07:41:41.844Z"
   },
   {
    "duration": 41,
    "start_time": "2021-12-23T07:41:41.850Z"
   },
   {
    "duration": 10,
    "start_time": "2021-12-23T07:41:41.893Z"
   },
   {
    "duration": 7,
    "start_time": "2021-12-23T07:41:41.905Z"
   },
   {
    "duration": 8,
    "start_time": "2021-12-23T07:41:41.914Z"
   },
   {
    "duration": 5,
    "start_time": "2021-12-23T07:41:41.924Z"
   },
   {
    "duration": 8,
    "start_time": "2021-12-23T07:41:41.930Z"
   },
   {
    "duration": 5,
    "start_time": "2021-12-23T07:41:41.940Z"
   },
   {
    "duration": 48,
    "start_time": "2021-12-23T07:41:41.946Z"
   },
   {
    "duration": 9,
    "start_time": "2021-12-23T07:41:41.995Z"
   },
   {
    "duration": 14,
    "start_time": "2021-12-23T07:41:42.006Z"
   },
   {
    "duration": 20,
    "start_time": "2021-12-23T07:41:42.022Z"
   },
   {
    "duration": 14,
    "start_time": "2021-12-23T07:41:42.044Z"
   },
   {
    "duration": 5,
    "start_time": "2021-12-23T07:41:42.060Z"
   },
   {
    "duration": 7,
    "start_time": "2021-12-23T07:41:42.092Z"
   },
   {
    "duration": 396,
    "start_time": "2021-12-23T07:41:42.100Z"
   },
   {
    "duration": 415,
    "start_time": "2021-12-23T07:41:42.498Z"
   },
   {
    "duration": 6,
    "start_time": "2021-12-23T07:41:42.915Z"
   },
   {
    "duration": 354,
    "start_time": "2021-12-23T07:41:42.922Z"
   },
   {
    "duration": 15,
    "start_time": "2021-12-23T07:41:43.277Z"
   },
   {
    "duration": 8,
    "start_time": "2021-12-23T07:41:43.294Z"
   },
   {
    "duration": 6,
    "start_time": "2021-12-23T07:41:43.304Z"
   },
   {
    "duration": 7,
    "start_time": "2021-12-23T07:41:43.311Z"
   },
   {
    "duration": 12,
    "start_time": "2021-12-23T07:42:38.002Z"
   },
   {
    "duration": 282,
    "start_time": "2021-12-23T07:45:21.359Z"
   },
   {
    "duration": 2,
    "start_time": "2021-12-23T07:45:53.191Z"
   },
   {
    "duration": 195,
    "start_time": "2021-12-23T07:48:52.239Z"
   },
   {
    "duration": 179,
    "start_time": "2021-12-23T07:48:59.199Z"
   },
   {
    "duration": 234,
    "start_time": "2021-12-23T07:49:34.461Z"
   },
   {
    "duration": 192,
    "start_time": "2021-12-23T07:50:02.165Z"
   },
   {
    "duration": 4,
    "start_time": "2021-12-23T07:50:49.709Z"
   },
   {
    "duration": 181,
    "start_time": "2021-12-23T07:51:27.780Z"
   },
   {
    "duration": 1063,
    "start_time": "2021-12-23T07:51:40.585Z"
   },
   {
    "duration": 406,
    "start_time": "2021-12-23T07:51:41.649Z"
   },
   {
    "duration": 10,
    "start_time": "2021-12-23T07:51:42.057Z"
   },
   {
    "duration": 23,
    "start_time": "2021-12-23T07:51:42.069Z"
   },
   {
    "duration": 30,
    "start_time": "2021-12-23T07:51:42.093Z"
   },
   {
    "duration": 22,
    "start_time": "2021-12-23T07:51:42.124Z"
   },
   {
    "duration": 23,
    "start_time": "2021-12-23T07:51:42.147Z"
   },
   {
    "duration": 22,
    "start_time": "2021-12-23T07:51:42.172Z"
   },
   {
    "duration": 8,
    "start_time": "2021-12-23T07:51:42.196Z"
   },
   {
    "duration": 29,
    "start_time": "2021-12-23T07:51:42.206Z"
   },
   {
    "duration": 2,
    "start_time": "2021-12-23T07:51:42.237Z"
   },
   {
    "duration": 4,
    "start_time": "2021-12-23T07:51:42.241Z"
   },
   {
    "duration": 12,
    "start_time": "2021-12-23T07:51:42.247Z"
   },
   {
    "duration": 33,
    "start_time": "2021-12-23T07:51:42.261Z"
   },
   {
    "duration": 17,
    "start_time": "2021-12-23T07:51:42.296Z"
   },
   {
    "duration": 19,
    "start_time": "2021-12-23T07:51:42.314Z"
   },
   {
    "duration": 16,
    "start_time": "2021-12-23T07:51:42.335Z"
   },
   {
    "duration": 46,
    "start_time": "2021-12-23T07:51:42.353Z"
   },
   {
    "duration": 5,
    "start_time": "2021-12-23T07:51:42.401Z"
   },
   {
    "duration": 7,
    "start_time": "2021-12-23T07:51:42.407Z"
   },
   {
    "duration": 10,
    "start_time": "2021-12-23T07:51:42.415Z"
   },
   {
    "duration": 15,
    "start_time": "2021-12-23T07:51:42.426Z"
   },
   {
    "duration": 16,
    "start_time": "2021-12-23T07:51:42.444Z"
   },
   {
    "duration": 39,
    "start_time": "2021-12-23T07:51:42.462Z"
   },
   {
    "duration": 23,
    "start_time": "2021-12-23T07:51:42.502Z"
   },
   {
    "duration": 4,
    "start_time": "2021-12-23T07:51:42.527Z"
   },
   {
    "duration": 9,
    "start_time": "2021-12-23T07:51:42.532Z"
   },
   {
    "duration": 10,
    "start_time": "2021-12-23T07:51:42.542Z"
   },
   {
    "duration": 6,
    "start_time": "2021-12-23T07:51:42.553Z"
   },
   {
    "duration": 33,
    "start_time": "2021-12-23T07:51:42.561Z"
   },
   {
    "duration": 5,
    "start_time": "2021-12-23T07:51:42.596Z"
   },
   {
    "duration": 5,
    "start_time": "2021-12-23T07:51:42.603Z"
   },
   {
    "duration": 9,
    "start_time": "2021-12-23T07:51:42.610Z"
   },
   {
    "duration": 11,
    "start_time": "2021-12-23T07:51:42.620Z"
   },
   {
    "duration": 7,
    "start_time": "2021-12-23T07:51:42.632Z"
   },
   {
    "duration": 4,
    "start_time": "2021-12-23T07:51:42.640Z"
   },
   {
    "duration": 10,
    "start_time": "2021-12-23T07:51:42.646Z"
   },
   {
    "duration": 34,
    "start_time": "2021-12-23T07:51:42.657Z"
   },
   {
    "duration": 10,
    "start_time": "2021-12-23T07:51:42.693Z"
   },
   {
    "duration": 8,
    "start_time": "2021-12-23T07:51:42.704Z"
   },
   {
    "duration": 6,
    "start_time": "2021-12-23T07:51:42.713Z"
   },
   {
    "duration": 4,
    "start_time": "2021-12-23T07:51:42.721Z"
   },
   {
    "duration": 7,
    "start_time": "2021-12-23T07:51:42.726Z"
   },
   {
    "duration": 4,
    "start_time": "2021-12-23T07:51:42.735Z"
   },
   {
    "duration": 5,
    "start_time": "2021-12-23T07:51:42.740Z"
   },
   {
    "duration": 49,
    "start_time": "2021-12-23T07:51:42.746Z"
   },
   {
    "duration": 15,
    "start_time": "2021-12-23T07:51:42.796Z"
   },
   {
    "duration": 20,
    "start_time": "2021-12-23T07:51:42.812Z"
   },
   {
    "duration": 15,
    "start_time": "2021-12-23T07:51:42.833Z"
   },
   {
    "duration": 5,
    "start_time": "2021-12-23T07:51:42.850Z"
   },
   {
    "duration": 35,
    "start_time": "2021-12-23T07:51:42.857Z"
   },
   {
    "duration": 403,
    "start_time": "2021-12-23T07:51:42.894Z"
   },
   {
    "duration": 400,
    "start_time": "2021-12-23T07:51:43.299Z"
   },
   {
    "duration": 6,
    "start_time": "2021-12-23T07:51:43.701Z"
   },
   {
    "duration": 333,
    "start_time": "2021-12-23T07:51:43.709Z"
   },
   {
    "duration": 10,
    "start_time": "2021-12-23T07:51:44.044Z"
   },
   {
    "duration": 8,
    "start_time": "2021-12-23T07:51:44.056Z"
   },
   {
    "duration": 26,
    "start_time": "2021-12-23T07:51:44.065Z"
   },
   {
    "duration": 7,
    "start_time": "2021-12-23T07:51:44.093Z"
   },
   {
    "duration": 11,
    "start_time": "2021-12-23T07:52:04.587Z"
   },
   {
    "duration": 7,
    "start_time": "2021-12-23T07:53:13.907Z"
   },
   {
    "duration": 14,
    "start_time": "2021-12-23T07:53:59.651Z"
   },
   {
    "duration": 13,
    "start_time": "2021-12-23T07:56:34.354Z"
   },
   {
    "duration": 1061,
    "start_time": "2021-12-23T07:57:05.894Z"
   },
   {
    "duration": 397,
    "start_time": "2021-12-23T07:57:06.957Z"
   },
   {
    "duration": 11,
    "start_time": "2021-12-23T07:57:07.357Z"
   },
   {
    "duration": 22,
    "start_time": "2021-12-23T07:57:07.370Z"
   },
   {
    "duration": 32,
    "start_time": "2021-12-23T07:57:07.394Z"
   },
   {
    "duration": 24,
    "start_time": "2021-12-23T07:57:07.428Z"
   },
   {
    "duration": 48,
    "start_time": "2021-12-23T07:57:07.454Z"
   },
   {
    "duration": 6,
    "start_time": "2021-12-23T07:57:07.505Z"
   },
   {
    "duration": 10,
    "start_time": "2021-12-23T07:57:07.514Z"
   },
   {
    "duration": 36,
    "start_time": "2021-12-23T07:57:07.526Z"
   },
   {
    "duration": 2,
    "start_time": "2021-12-23T07:57:07.564Z"
   },
   {
    "duration": 30,
    "start_time": "2021-12-23T07:57:07.568Z"
   },
   {
    "duration": 11,
    "start_time": "2021-12-23T07:57:07.600Z"
   },
   {
    "duration": 15,
    "start_time": "2021-12-23T07:57:07.612Z"
   },
   {
    "duration": 18,
    "start_time": "2021-12-23T07:57:07.628Z"
   },
   {
    "duration": 19,
    "start_time": "2021-12-23T07:57:07.647Z"
   },
   {
    "duration": 36,
    "start_time": "2021-12-23T07:57:07.668Z"
   },
   {
    "duration": 23,
    "start_time": "2021-12-23T07:57:07.706Z"
   },
   {
    "duration": 5,
    "start_time": "2021-12-23T07:57:07.730Z"
   },
   {
    "duration": 7,
    "start_time": "2021-12-23T07:57:07.737Z"
   },
   {
    "duration": 9,
    "start_time": "2021-12-23T07:57:07.745Z"
   },
   {
    "duration": 44,
    "start_time": "2021-12-23T07:57:07.755Z"
   },
   {
    "duration": 16,
    "start_time": "2021-12-23T07:57:07.803Z"
   },
   {
    "duration": 14,
    "start_time": "2021-12-23T07:57:07.821Z"
   },
   {
    "duration": 21,
    "start_time": "2021-12-23T07:57:07.837Z"
   },
   {
    "duration": 4,
    "start_time": "2021-12-23T07:57:07.860Z"
   },
   {
    "duration": 33,
    "start_time": "2021-12-23T07:57:07.865Z"
   },
   {
    "duration": 8,
    "start_time": "2021-12-23T07:57:07.900Z"
   },
   {
    "duration": 9,
    "start_time": "2021-12-23T07:57:07.910Z"
   },
   {
    "duration": 5,
    "start_time": "2021-12-23T07:57:07.921Z"
   },
   {
    "duration": 6,
    "start_time": "2021-12-23T07:57:07.928Z"
   },
   {
    "duration": 5,
    "start_time": "2021-12-23T07:57:07.936Z"
   },
   {
    "duration": 9,
    "start_time": "2021-12-23T07:57:07.943Z"
   },
   {
    "duration": 43,
    "start_time": "2021-12-23T07:57:07.953Z"
   },
   {
    "duration": 8,
    "start_time": "2021-12-23T07:57:07.998Z"
   },
   {
    "duration": 6,
    "start_time": "2021-12-23T07:57:08.007Z"
   },
   {
    "duration": 17,
    "start_time": "2021-12-23T07:57:08.014Z"
   },
   {
    "duration": 8,
    "start_time": "2021-12-23T07:57:08.033Z"
   },
   {
    "duration": 35,
    "start_time": "2021-12-23T07:57:08.043Z"
   },
   {
    "duration": 35,
    "start_time": "2021-12-23T07:57:08.079Z"
   },
   {
    "duration": 20,
    "start_time": "2021-12-23T07:57:08.116Z"
   },
   {
    "duration": 18,
    "start_time": "2021-12-23T07:57:08.138Z"
   },
   {
    "duration": 7,
    "start_time": "2021-12-23T07:57:08.157Z"
   },
   {
    "duration": 7,
    "start_time": "2021-12-23T07:57:08.165Z"
   },
   {
    "duration": 261,
    "start_time": "2021-12-23T07:57:08.173Z"
   },
   {
    "duration": -340,
    "start_time": "2021-12-23T07:57:08.776Z"
   },
   {
    "duration": -346,
    "start_time": "2021-12-23T07:57:08.783Z"
   },
   {
    "duration": -349,
    "start_time": "2021-12-23T07:57:08.786Z"
   },
   {
    "duration": -350,
    "start_time": "2021-12-23T07:57:08.788Z"
   },
   {
    "duration": -351,
    "start_time": "2021-12-23T07:57:08.790Z"
   },
   {
    "duration": -352,
    "start_time": "2021-12-23T07:57:08.792Z"
   },
   {
    "duration": -354,
    "start_time": "2021-12-23T07:57:08.795Z"
   },
   {
    "duration": -355,
    "start_time": "2021-12-23T07:57:08.797Z"
   },
   {
    "duration": -356,
    "start_time": "2021-12-23T07:57:08.799Z"
   },
   {
    "duration": -358,
    "start_time": "2021-12-23T07:57:08.802Z"
   },
   {
    "duration": -359,
    "start_time": "2021-12-23T07:57:08.804Z"
   },
   {
    "duration": -360,
    "start_time": "2021-12-23T07:57:08.806Z"
   },
   {
    "duration": -362,
    "start_time": "2021-12-23T07:57:08.809Z"
   },
   {
    "duration": -363,
    "start_time": "2021-12-23T07:57:08.811Z"
   },
   {
    "duration": -364,
    "start_time": "2021-12-23T07:57:08.813Z"
   },
   {
    "duration": -365,
    "start_time": "2021-12-23T07:57:08.815Z"
   },
   {
    "duration": 5,
    "start_time": "2021-12-23T07:59:37.996Z"
   },
   {
    "duration": 8,
    "start_time": "2021-12-23T08:01:16.500Z"
   },
   {
    "duration": 206,
    "start_time": "2021-12-23T08:01:58.893Z"
   },
   {
    "duration": 1033,
    "start_time": "2021-12-23T08:02:10.203Z"
   },
   {
    "duration": 406,
    "start_time": "2021-12-23T08:02:11.238Z"
   },
   {
    "duration": 11,
    "start_time": "2021-12-23T08:02:11.648Z"
   },
   {
    "duration": 28,
    "start_time": "2021-12-23T08:02:11.660Z"
   },
   {
    "duration": 31,
    "start_time": "2021-12-23T08:02:11.689Z"
   },
   {
    "duration": 23,
    "start_time": "2021-12-23T08:02:11.721Z"
   },
   {
    "duration": 24,
    "start_time": "2021-12-23T08:02:11.746Z"
   },
   {
    "duration": 22,
    "start_time": "2021-12-23T08:02:11.772Z"
   },
   {
    "duration": 8,
    "start_time": "2021-12-23T08:02:11.796Z"
   },
   {
    "duration": 29,
    "start_time": "2021-12-23T08:02:11.806Z"
   },
   {
    "duration": 3,
    "start_time": "2021-12-23T08:02:11.836Z"
   },
   {
    "duration": 6,
    "start_time": "2021-12-23T08:02:11.840Z"
   },
   {
    "duration": 258,
    "start_time": "2021-12-23T08:02:11.847Z"
   },
   {
    "duration": -389,
    "start_time": "2021-12-23T08:02:12.497Z"
   },
   {
    "duration": -390,
    "start_time": "2021-12-23T08:02:12.500Z"
   },
   {
    "duration": -392,
    "start_time": "2021-12-23T08:02:12.503Z"
   },
   {
    "duration": -394,
    "start_time": "2021-12-23T08:02:12.506Z"
   },
   {
    "duration": -397,
    "start_time": "2021-12-23T08:02:12.511Z"
   },
   {
    "duration": -400,
    "start_time": "2021-12-23T08:02:12.515Z"
   },
   {
    "duration": -401,
    "start_time": "2021-12-23T08:02:12.518Z"
   },
   {
    "duration": -404,
    "start_time": "2021-12-23T08:02:12.522Z"
   },
   {
    "duration": -406,
    "start_time": "2021-12-23T08:02:12.525Z"
   },
   {
    "duration": -407,
    "start_time": "2021-12-23T08:02:12.528Z"
   },
   {
    "duration": -409,
    "start_time": "2021-12-23T08:02:12.531Z"
   },
   {
    "duration": -409,
    "start_time": "2021-12-23T08:02:12.533Z"
   },
   {
    "duration": -410,
    "start_time": "2021-12-23T08:02:12.535Z"
   },
   {
    "duration": -412,
    "start_time": "2021-12-23T08:02:12.538Z"
   },
   {
    "duration": -413,
    "start_time": "2021-12-23T08:02:12.541Z"
   },
   {
    "duration": -414,
    "start_time": "2021-12-23T08:02:12.543Z"
   },
   {
    "duration": -415,
    "start_time": "2021-12-23T08:02:12.546Z"
   },
   {
    "duration": -416,
    "start_time": "2021-12-23T08:02:12.548Z"
   },
   {
    "duration": -417,
    "start_time": "2021-12-23T08:02:12.551Z"
   },
   {
    "duration": -418,
    "start_time": "2021-12-23T08:02:12.553Z"
   },
   {
    "duration": -418,
    "start_time": "2021-12-23T08:02:12.555Z"
   },
   {
    "duration": -424,
    "start_time": "2021-12-23T08:02:12.562Z"
   },
   {
    "duration": -434,
    "start_time": "2021-12-23T08:02:12.573Z"
   },
   {
    "duration": -439,
    "start_time": "2021-12-23T08:02:12.580Z"
   },
   {
    "duration": -441,
    "start_time": "2021-12-23T08:02:12.583Z"
   },
   {
    "duration": -441,
    "start_time": "2021-12-23T08:02:12.585Z"
   },
   {
    "duration": -443,
    "start_time": "2021-12-23T08:02:12.588Z"
   },
   {
    "duration": -445,
    "start_time": "2021-12-23T08:02:12.591Z"
   },
   {
    "duration": -449,
    "start_time": "2021-12-23T08:02:12.596Z"
   },
   {
    "duration": -408,
    "start_time": "2021-12-23T08:02:12.599Z"
   },
   {
    "duration": -409,
    "start_time": "2021-12-23T08:02:12.601Z"
   },
   {
    "duration": -411,
    "start_time": "2021-12-23T08:02:12.604Z"
   },
   {
    "duration": -412,
    "start_time": "2021-12-23T08:02:12.606Z"
   },
   {
    "duration": -414,
    "start_time": "2021-12-23T08:02:12.609Z"
   },
   {
    "duration": -416,
    "start_time": "2021-12-23T08:02:12.612Z"
   },
   {
    "duration": -417,
    "start_time": "2021-12-23T08:02:12.614Z"
   },
   {
    "duration": -419,
    "start_time": "2021-12-23T08:02:12.617Z"
   },
   {
    "duration": -420,
    "start_time": "2021-12-23T08:02:12.619Z"
   },
   {
    "duration": -422,
    "start_time": "2021-12-23T08:02:12.622Z"
   },
   {
    "duration": -422,
    "start_time": "2021-12-23T08:02:12.624Z"
   },
   {
    "duration": -424,
    "start_time": "2021-12-23T08:02:12.627Z"
   },
   {
    "duration": -425,
    "start_time": "2021-12-23T08:02:12.629Z"
   },
   {
    "duration": -427,
    "start_time": "2021-12-23T08:02:12.632Z"
   },
   {
    "duration": -428,
    "start_time": "2021-12-23T08:02:12.634Z"
   },
   {
    "duration": -429,
    "start_time": "2021-12-23T08:02:12.636Z"
   },
   {
    "duration": -430,
    "start_time": "2021-12-23T08:02:12.638Z"
   },
   {
    "duration": -432,
    "start_time": "2021-12-23T08:02:12.641Z"
   },
   {
    "duration": -434,
    "start_time": "2021-12-23T08:02:12.644Z"
   },
   {
    "duration": -435,
    "start_time": "2021-12-23T08:02:12.646Z"
   },
   {
    "duration": -436,
    "start_time": "2021-12-23T08:02:12.648Z"
   },
   {
    "duration": 182,
    "start_time": "2021-12-23T08:02:54.948Z"
   },
   {
    "duration": 1022,
    "start_time": "2021-12-23T08:03:11.829Z"
   },
   {
    "duration": 396,
    "start_time": "2021-12-23T08:03:12.853Z"
   },
   {
    "duration": 11,
    "start_time": "2021-12-23T08:03:13.251Z"
   },
   {
    "duration": 23,
    "start_time": "2021-12-23T08:03:13.264Z"
   },
   {
    "duration": 31,
    "start_time": "2021-12-23T08:03:13.289Z"
   },
   {
    "duration": 23,
    "start_time": "2021-12-23T08:03:13.321Z"
   },
   {
    "duration": 23,
    "start_time": "2021-12-23T08:03:13.346Z"
   },
   {
    "duration": 21,
    "start_time": "2021-12-23T08:03:13.371Z"
   },
   {
    "duration": 9,
    "start_time": "2021-12-23T08:03:13.394Z"
   },
   {
    "duration": 39,
    "start_time": "2021-12-23T08:03:13.404Z"
   },
   {
    "duration": 2,
    "start_time": "2021-12-23T08:03:13.445Z"
   },
   {
    "duration": 6,
    "start_time": "2021-12-23T08:03:13.449Z"
   },
   {
    "duration": 7,
    "start_time": "2021-12-23T08:03:13.457Z"
   },
   {
    "duration": 27,
    "start_time": "2021-12-23T08:03:13.466Z"
   },
   {
    "duration": 10,
    "start_time": "2021-12-23T08:03:13.494Z"
   },
   {
    "duration": 19,
    "start_time": "2021-12-23T08:03:13.506Z"
   },
   {
    "duration": 20,
    "start_time": "2021-12-23T08:03:13.527Z"
   },
   {
    "duration": 18,
    "start_time": "2021-12-23T08:03:13.548Z"
   },
   {
    "duration": 46,
    "start_time": "2021-12-23T08:03:13.567Z"
   },
   {
    "duration": 6,
    "start_time": "2021-12-23T08:03:13.614Z"
   },
   {
    "duration": 12,
    "start_time": "2021-12-23T08:03:13.621Z"
   },
   {
    "duration": 11,
    "start_time": "2021-12-23T08:03:13.635Z"
   },
   {
    "duration": 15,
    "start_time": "2021-12-23T08:03:13.650Z"
   },
   {
    "duration": 37,
    "start_time": "2021-12-23T08:03:13.668Z"
   },
   {
    "duration": 15,
    "start_time": "2021-12-23T08:03:13.707Z"
   },
   {
    "duration": 22,
    "start_time": "2021-12-23T08:03:13.723Z"
   },
   {
    "duration": 4,
    "start_time": "2021-12-23T08:03:13.746Z"
   },
   {
    "duration": 12,
    "start_time": "2021-12-23T08:03:13.752Z"
   },
   {
    "duration": 28,
    "start_time": "2021-12-23T08:03:13.765Z"
   },
   {
    "duration": 8,
    "start_time": "2021-12-23T08:03:13.794Z"
   },
   {
    "duration": 7,
    "start_time": "2021-12-23T08:03:13.804Z"
   },
   {
    "duration": 6,
    "start_time": "2021-12-23T08:03:13.812Z"
   },
   {
    "duration": 6,
    "start_time": "2021-12-23T08:03:13.819Z"
   },
   {
    "duration": 10,
    "start_time": "2021-12-23T08:03:13.826Z"
   },
   {
    "duration": 12,
    "start_time": "2021-12-23T08:03:13.838Z"
   },
   {
    "duration": 6,
    "start_time": "2021-12-23T08:03:13.851Z"
   },
   {
    "duration": 35,
    "start_time": "2021-12-23T08:03:13.858Z"
   },
   {
    "duration": 10,
    "start_time": "2021-12-23T08:03:13.894Z"
   },
   {
    "duration": 8,
    "start_time": "2021-12-23T08:03:13.905Z"
   },
   {
    "duration": 12,
    "start_time": "2021-12-23T08:03:13.914Z"
   },
   {
    "duration": 13,
    "start_time": "2021-12-23T08:03:13.928Z"
   },
   {
    "duration": 7,
    "start_time": "2021-12-23T08:03:13.942Z"
   },
   {
    "duration": 43,
    "start_time": "2021-12-23T08:03:13.950Z"
   },
   {
    "duration": 7,
    "start_time": "2021-12-23T08:03:13.995Z"
   },
   {
    "duration": 8,
    "start_time": "2021-12-23T08:03:14.003Z"
   },
   {
    "duration": 6,
    "start_time": "2021-12-23T08:03:14.012Z"
   },
   {
    "duration": 8,
    "start_time": "2021-12-23T08:03:14.020Z"
   },
   {
    "duration": 7,
    "start_time": "2021-12-23T08:03:14.029Z"
   },
   {
    "duration": 4713,
    "start_time": "2021-12-23T08:03:14.037Z"
   },
   {
    "duration": -378,
    "start_time": "2021-12-23T08:03:19.130Z"
   },
   {
    "duration": -424,
    "start_time": "2021-12-23T08:03:19.177Z"
   },
   {
    "duration": -427,
    "start_time": "2021-12-23T08:03:19.181Z"
   },
   {
    "duration": -431,
    "start_time": "2021-12-23T08:03:19.186Z"
   },
   {
    "duration": -435,
    "start_time": "2021-12-23T08:03:19.191Z"
   },
   {
    "duration": -436,
    "start_time": "2021-12-23T08:03:19.193Z"
   },
   {
    "duration": -440,
    "start_time": "2021-12-23T08:03:19.198Z"
   },
   {
    "duration": -445,
    "start_time": "2021-12-23T08:03:19.204Z"
   },
   {
    "duration": -448,
    "start_time": "2021-12-23T08:03:19.208Z"
   },
   {
    "duration": -451,
    "start_time": "2021-12-23T08:03:19.212Z"
   },
   {
    "duration": -454,
    "start_time": "2021-12-23T08:03:19.216Z"
   },
   {
    "duration": -460,
    "start_time": "2021-12-23T08:03:19.223Z"
   },
   {
    "duration": -462,
    "start_time": "2021-12-23T08:03:19.226Z"
   },
   {
    "duration": -464,
    "start_time": "2021-12-23T08:03:19.229Z"
   },
   {
    "duration": 8,
    "start_time": "2021-12-23T08:03:34.240Z"
   },
   {
    "duration": 5318,
    "start_time": "2021-12-23T08:06:06.876Z"
   },
   {
    "duration": -380,
    "start_time": "2021-12-23T08:06:12.576Z"
   },
   {
    "duration": 1000,
    "start_time": "2021-12-23T08:06:16.751Z"
   },
   {
    "duration": 413,
    "start_time": "2021-12-23T08:06:17.753Z"
   },
   {
    "duration": 10,
    "start_time": "2021-12-23T08:06:18.169Z"
   },
   {
    "duration": 22,
    "start_time": "2021-12-23T08:06:18.181Z"
   },
   {
    "duration": 31,
    "start_time": "2021-12-23T08:06:18.205Z"
   },
   {
    "duration": 22,
    "start_time": "2021-12-23T08:06:18.237Z"
   },
   {
    "duration": 40,
    "start_time": "2021-12-23T08:06:18.261Z"
   },
   {
    "duration": 5,
    "start_time": "2021-12-23T08:06:18.303Z"
   },
   {
    "duration": 8,
    "start_time": "2021-12-23T08:06:18.311Z"
   },
   {
    "duration": 40,
    "start_time": "2021-12-23T08:06:18.321Z"
   },
   {
    "duration": 2,
    "start_time": "2021-12-23T08:06:18.363Z"
   },
   {
    "duration": 24,
    "start_time": "2021-12-23T08:06:18.367Z"
   },
   {
    "duration": 7,
    "start_time": "2021-12-23T08:06:18.393Z"
   },
   {
    "duration": 12,
    "start_time": "2021-12-23T08:06:18.402Z"
   },
   {
    "duration": 19,
    "start_time": "2021-12-23T08:06:18.415Z"
   },
   {
    "duration": 20,
    "start_time": "2021-12-23T08:06:18.436Z"
   },
   {
    "duration": 39,
    "start_time": "2021-12-23T08:06:18.457Z"
   },
   {
    "duration": 24,
    "start_time": "2021-12-23T08:06:18.497Z"
   },
   {
    "duration": 6,
    "start_time": "2021-12-23T08:06:18.522Z"
   },
   {
    "duration": 7,
    "start_time": "2021-12-23T08:06:18.530Z"
   },
   {
    "duration": 7,
    "start_time": "2021-12-23T08:06:18.539Z"
   },
   {
    "duration": 19,
    "start_time": "2021-12-23T08:06:18.548Z"
   },
   {
    "duration": 37,
    "start_time": "2021-12-23T08:06:18.570Z"
   },
   {
    "duration": 14,
    "start_time": "2021-12-23T08:06:18.610Z"
   },
   {
    "duration": 22,
    "start_time": "2021-12-23T08:06:18.626Z"
   },
   {
    "duration": 4,
    "start_time": "2021-12-23T08:06:18.649Z"
   },
   {
    "duration": 14,
    "start_time": "2021-12-23T08:06:18.655Z"
   },
   {
    "duration": 7,
    "start_time": "2021-12-23T08:06:18.692Z"
   },
   {
    "duration": 20,
    "start_time": "2021-12-23T08:06:18.700Z"
   },
   {
    "duration": 7,
    "start_time": "2021-12-23T08:06:18.721Z"
   },
   {
    "duration": 7,
    "start_time": "2021-12-23T08:06:18.729Z"
   },
   {
    "duration": 8,
    "start_time": "2021-12-23T08:06:18.737Z"
   },
   {
    "duration": 10,
    "start_time": "2021-12-23T08:06:18.747Z"
   },
   {
    "duration": 12,
    "start_time": "2021-12-23T08:06:18.758Z"
   },
   {
    "duration": 19,
    "start_time": "2021-12-23T08:06:18.772Z"
   },
   {
    "duration": 9,
    "start_time": "2021-12-23T08:06:18.793Z"
   },
   {
    "duration": 15,
    "start_time": "2021-12-23T08:06:18.803Z"
   },
   {
    "duration": 5,
    "start_time": "2021-12-23T08:06:18.819Z"
   },
   {
    "duration": 10,
    "start_time": "2021-12-23T08:06:18.826Z"
   },
   {
    "duration": 19,
    "start_time": "2021-12-23T08:06:18.838Z"
   },
   {
    "duration": 11,
    "start_time": "2021-12-23T08:06:18.859Z"
   },
   {
    "duration": 67,
    "start_time": "2021-12-23T08:06:18.871Z"
   },
   {
    "duration": 60,
    "start_time": "2021-12-23T08:06:18.939Z"
   },
   {
    "duration": 54,
    "start_time": "2021-12-23T08:06:19.001Z"
   },
   {
    "duration": 98,
    "start_time": "2021-12-23T08:06:19.057Z"
   },
   {
    "duration": 266,
    "start_time": "2021-12-23T08:06:19.157Z"
   },
   {
    "duration": -341,
    "start_time": "2021-12-23T08:06:19.765Z"
   },
   {
    "duration": -343,
    "start_time": "2021-12-23T08:06:19.768Z"
   },
   {
    "duration": -344,
    "start_time": "2021-12-23T08:06:19.770Z"
   },
   {
    "duration": -345,
    "start_time": "2021-12-23T08:06:19.772Z"
   },
   {
    "duration": -347,
    "start_time": "2021-12-23T08:06:19.775Z"
   },
   {
    "duration": -348,
    "start_time": "2021-12-23T08:06:19.777Z"
   },
   {
    "duration": -351,
    "start_time": "2021-12-23T08:06:19.781Z"
   },
   {
    "duration": -353,
    "start_time": "2021-12-23T08:06:19.783Z"
   },
   {
    "duration": -354,
    "start_time": "2021-12-23T08:06:19.785Z"
   },
   {
    "duration": -356,
    "start_time": "2021-12-23T08:06:19.788Z"
   },
   {
    "duration": -357,
    "start_time": "2021-12-23T08:06:19.790Z"
   },
   {
    "duration": -358,
    "start_time": "2021-12-23T08:06:19.792Z"
   },
   {
    "duration": -361,
    "start_time": "2021-12-23T08:06:19.796Z"
   },
   {
    "duration": -362,
    "start_time": "2021-12-23T08:06:19.798Z"
   },
   {
    "duration": -364,
    "start_time": "2021-12-23T08:06:19.800Z"
   },
   {
    "duration": -366,
    "start_time": "2021-12-23T08:06:19.803Z"
   },
   {
    "duration": 30,
    "start_time": "2021-12-23T08:13:13.346Z"
   },
   {
    "duration": 1046,
    "start_time": "2021-12-23T08:13:26.892Z"
   },
   {
    "duration": 410,
    "start_time": "2021-12-23T08:13:27.940Z"
   },
   {
    "duration": 10,
    "start_time": "2021-12-23T08:13:28.352Z"
   },
   {
    "duration": 23,
    "start_time": "2021-12-23T08:13:28.363Z"
   },
   {
    "duration": 32,
    "start_time": "2021-12-23T08:13:28.387Z"
   },
   {
    "duration": 22,
    "start_time": "2021-12-23T08:13:28.421Z"
   },
   {
    "duration": 24,
    "start_time": "2021-12-23T08:13:28.444Z"
   },
   {
    "duration": 5,
    "start_time": "2021-12-23T08:13:28.470Z"
   },
   {
    "duration": 8,
    "start_time": "2021-12-23T08:13:28.492Z"
   },
   {
    "duration": 28,
    "start_time": "2021-12-23T08:13:28.502Z"
   },
   {
    "duration": 2,
    "start_time": "2021-12-23T08:13:28.532Z"
   },
   {
    "duration": 10,
    "start_time": "2021-12-23T08:13:28.535Z"
   },
   {
    "duration": 9,
    "start_time": "2021-12-23T08:13:28.547Z"
   },
   {
    "duration": 46,
    "start_time": "2021-12-23T08:13:28.557Z"
   },
   {
    "duration": 19,
    "start_time": "2021-12-23T08:13:28.605Z"
   },
   {
    "duration": 16,
    "start_time": "2021-12-23T08:13:28.626Z"
   },
   {
    "duration": 22,
    "start_time": "2021-12-23T08:13:28.644Z"
   },
   {
    "duration": 27,
    "start_time": "2021-12-23T08:13:28.668Z"
   },
   {
    "duration": 8,
    "start_time": "2021-12-23T08:13:28.696Z"
   },
   {
    "duration": 10,
    "start_time": "2021-12-23T08:13:28.705Z"
   },
   {
    "duration": 15,
    "start_time": "2021-12-23T08:13:28.716Z"
   },
   {
    "duration": 16,
    "start_time": "2021-12-23T08:13:28.733Z"
   },
   {
    "duration": 43,
    "start_time": "2021-12-23T08:13:28.753Z"
   },
   {
    "duration": 21,
    "start_time": "2021-12-23T08:13:28.798Z"
   },
   {
    "duration": 4,
    "start_time": "2021-12-23T08:13:28.820Z"
   },
   {
    "duration": 9,
    "start_time": "2021-12-23T08:13:28.825Z"
   },
   {
    "duration": 9,
    "start_time": "2021-12-23T08:13:28.835Z"
   },
   {
    "duration": 8,
    "start_time": "2021-12-23T08:13:28.845Z"
   },
   {
    "duration": 7,
    "start_time": "2021-12-23T08:13:28.854Z"
   },
   {
    "duration": 29,
    "start_time": "2021-12-23T08:13:28.862Z"
   },
   {
    "duration": 3,
    "start_time": "2021-12-23T08:13:28.893Z"
   },
   {
    "duration": 10,
    "start_time": "2021-12-23T08:13:28.898Z"
   },
   {
    "duration": 13,
    "start_time": "2021-12-23T08:13:28.909Z"
   },
   {
    "duration": 7,
    "start_time": "2021-12-23T08:13:28.924Z"
   },
   {
    "duration": 5,
    "start_time": "2021-12-23T08:13:28.932Z"
   },
   {
    "duration": 10,
    "start_time": "2021-12-23T08:13:28.938Z"
   },
   {
    "duration": 5,
    "start_time": "2021-12-23T08:13:28.949Z"
   },
   {
    "duration": 12,
    "start_time": "2021-12-23T08:13:28.955Z"
   },
   {
    "duration": 11,
    "start_time": "2021-12-23T08:13:28.992Z"
   },
   {
    "duration": 6,
    "start_time": "2021-12-23T08:13:29.005Z"
   },
   {
    "duration": 10,
    "start_time": "2021-12-23T08:13:29.013Z"
   },
   {
    "duration": 7,
    "start_time": "2021-12-23T08:13:29.025Z"
   },
   {
    "duration": 7,
    "start_time": "2021-12-23T08:13:29.034Z"
   },
   {
    "duration": 5,
    "start_time": "2021-12-23T08:13:29.042Z"
   },
   {
    "duration": 46,
    "start_time": "2021-12-23T08:13:29.049Z"
   },
   {
    "duration": 8,
    "start_time": "2021-12-23T08:13:29.097Z"
   },
   {
    "duration": 5484,
    "start_time": "2021-12-23T08:13:29.106Z"
   },
   {
    "duration": -389,
    "start_time": "2021-12-23T08:13:34.982Z"
   },
   {
    "duration": -391,
    "start_time": "2021-12-23T08:13:34.985Z"
   },
   {
    "duration": -395,
    "start_time": "2021-12-23T08:13:34.991Z"
   },
   {
    "duration": -398,
    "start_time": "2021-12-23T08:13:34.995Z"
   },
   {
    "duration": -399,
    "start_time": "2021-12-23T08:13:34.998Z"
   },
   {
    "duration": -400,
    "start_time": "2021-12-23T08:13:35.000Z"
   },
   {
    "duration": -402,
    "start_time": "2021-12-23T08:13:35.004Z"
   },
   {
    "duration": -408,
    "start_time": "2021-12-23T08:13:35.011Z"
   },
   {
    "duration": -409,
    "start_time": "2021-12-23T08:13:35.014Z"
   },
   {
    "duration": -411,
    "start_time": "2021-12-23T08:13:35.017Z"
   },
   {
    "duration": -415,
    "start_time": "2021-12-23T08:13:35.023Z"
   },
   {
    "duration": -419,
    "start_time": "2021-12-23T08:13:35.028Z"
   },
   {
    "duration": -419,
    "start_time": "2021-12-23T08:13:35.030Z"
   },
   {
    "duration": -421,
    "start_time": "2021-12-23T08:13:35.033Z"
   },
   {
    "duration": 1004,
    "start_time": "2021-12-23T08:14:56.635Z"
   },
   {
    "duration": 419,
    "start_time": "2021-12-23T08:14:57.643Z"
   },
   {
    "duration": 11,
    "start_time": "2021-12-23T08:14:58.065Z"
   },
   {
    "duration": 39,
    "start_time": "2021-12-23T08:14:58.078Z"
   },
   {
    "duration": 32,
    "start_time": "2021-12-23T08:14:58.119Z"
   },
   {
    "duration": 23,
    "start_time": "2021-12-23T08:14:58.153Z"
   },
   {
    "duration": 33,
    "start_time": "2021-12-23T08:14:58.177Z"
   },
   {
    "duration": 5,
    "start_time": "2021-12-23T08:14:58.212Z"
   },
   {
    "duration": 14,
    "start_time": "2021-12-23T08:14:58.219Z"
   },
   {
    "duration": 50,
    "start_time": "2021-12-23T08:14:58.235Z"
   },
   {
    "duration": 2,
    "start_time": "2021-12-23T08:14:58.286Z"
   },
   {
    "duration": 22,
    "start_time": "2021-12-23T08:14:58.290Z"
   },
   {
    "duration": 24,
    "start_time": "2021-12-23T08:14:58.314Z"
   },
   {
    "duration": 37,
    "start_time": "2021-12-23T08:14:58.340Z"
   },
   {
    "duration": 24,
    "start_time": "2021-12-23T08:14:58.379Z"
   },
   {
    "duration": 28,
    "start_time": "2021-12-23T08:14:58.405Z"
   },
   {
    "duration": 24,
    "start_time": "2021-12-23T08:14:58.435Z"
   },
   {
    "duration": 14,
    "start_time": "2021-12-23T08:14:58.461Z"
   },
   {
    "duration": 25,
    "start_time": "2021-12-23T08:14:58.477Z"
   },
   {
    "duration": 18,
    "start_time": "2021-12-23T08:14:58.503Z"
   },
   {
    "duration": 45,
    "start_time": "2021-12-23T08:14:58.523Z"
   },
   {
    "duration": 30,
    "start_time": "2021-12-23T08:14:58.570Z"
   },
   {
    "duration": 15,
    "start_time": "2021-12-23T08:14:58.604Z"
   },
   {
    "duration": 22,
    "start_time": "2021-12-23T08:14:58.621Z"
   },
   {
    "duration": 4,
    "start_time": "2021-12-23T08:14:58.645Z"
   },
   {
    "duration": 9,
    "start_time": "2021-12-23T08:14:58.651Z"
   },
   {
    "duration": 32,
    "start_time": "2021-12-23T08:14:58.661Z"
   },
   {
    "duration": 6,
    "start_time": "2021-12-23T08:14:58.694Z"
   },
   {
    "duration": 6,
    "start_time": "2021-12-23T08:14:58.702Z"
   },
   {
    "duration": 5,
    "start_time": "2021-12-23T08:14:58.710Z"
   },
   {
    "duration": 6,
    "start_time": "2021-12-23T08:14:58.717Z"
   },
   {
    "duration": 9,
    "start_time": "2021-12-23T08:14:58.725Z"
   },
   {
    "duration": 12,
    "start_time": "2021-12-23T08:14:58.736Z"
   },
   {
    "duration": 15,
    "start_time": "2021-12-23T08:14:58.750Z"
   },
   {
    "duration": 6,
    "start_time": "2021-12-23T08:14:58.766Z"
   },
   {
    "duration": 26,
    "start_time": "2021-12-23T08:14:58.773Z"
   },
   {
    "duration": 5,
    "start_time": "2021-12-23T08:14:58.801Z"
   },
   {
    "duration": 12,
    "start_time": "2021-12-23T08:14:58.808Z"
   },
   {
    "duration": 14,
    "start_time": "2021-12-23T08:14:58.821Z"
   },
   {
    "duration": 7,
    "start_time": "2021-12-23T08:14:58.836Z"
   },
   {
    "duration": 13,
    "start_time": "2021-12-23T08:14:58.844Z"
   },
   {
    "duration": 35,
    "start_time": "2021-12-23T08:14:58.858Z"
   },
   {
    "duration": 8,
    "start_time": "2021-12-23T08:14:58.895Z"
   },
   {
    "duration": 5,
    "start_time": "2021-12-23T08:14:58.904Z"
   },
   {
    "duration": 9,
    "start_time": "2021-12-23T08:14:58.911Z"
   },
   {
    "duration": 6,
    "start_time": "2021-12-23T08:14:58.921Z"
   },
   {
    "duration": 4638,
    "start_time": "2021-12-23T08:14:58.928Z"
   },
   {
    "duration": -373,
    "start_time": "2021-12-23T08:15:03.942Z"
   },
   {
    "duration": -377,
    "start_time": "2021-12-23T08:15:03.947Z"
   },
   {
    "duration": -378,
    "start_time": "2021-12-23T08:15:03.949Z"
   },
   {
    "duration": -380,
    "start_time": "2021-12-23T08:15:03.952Z"
   },
   {
    "duration": -381,
    "start_time": "2021-12-23T08:15:03.954Z"
   },
   {
    "duration": -383,
    "start_time": "2021-12-23T08:15:03.957Z"
   },
   {
    "duration": -385,
    "start_time": "2021-12-23T08:15:03.960Z"
   },
   {
    "duration": -386,
    "start_time": "2021-12-23T08:15:03.962Z"
   },
   {
    "duration": -388,
    "start_time": "2021-12-23T08:15:03.965Z"
   },
   {
    "duration": -390,
    "start_time": "2021-12-23T08:15:03.968Z"
   },
   {
    "duration": -391,
    "start_time": "2021-12-23T08:15:03.970Z"
   },
   {
    "duration": -393,
    "start_time": "2021-12-23T08:15:03.973Z"
   },
   {
    "duration": -395,
    "start_time": "2021-12-23T08:15:03.976Z"
   },
   {
    "duration": -396,
    "start_time": "2021-12-23T08:15:03.978Z"
   },
   {
    "duration": 186,
    "start_time": "2021-12-23T08:19:05.998Z"
   },
   {
    "duration": 1062,
    "start_time": "2021-12-23T08:19:17.375Z"
   },
   {
    "duration": 418,
    "start_time": "2021-12-23T08:19:18.439Z"
   },
   {
    "duration": 10,
    "start_time": "2021-12-23T08:19:18.859Z"
   },
   {
    "duration": 29,
    "start_time": "2021-12-23T08:19:18.871Z"
   },
   {
    "duration": 30,
    "start_time": "2021-12-23T08:19:18.902Z"
   },
   {
    "duration": 22,
    "start_time": "2021-12-23T08:19:18.933Z"
   },
   {
    "duration": 43,
    "start_time": "2021-12-23T08:19:18.957Z"
   },
   {
    "duration": 5,
    "start_time": "2021-12-23T08:19:19.003Z"
   },
   {
    "duration": 9,
    "start_time": "2021-12-23T08:19:19.010Z"
   },
   {
    "duration": 30,
    "start_time": "2021-12-23T08:19:19.020Z"
   },
   {
    "duration": 3,
    "start_time": "2021-12-23T08:19:19.051Z"
   },
   {
    "duration": 12,
    "start_time": "2021-12-23T08:19:19.055Z"
   },
   {
    "duration": 9,
    "start_time": "2021-12-23T08:19:19.091Z"
   },
   {
    "duration": 17,
    "start_time": "2021-12-23T08:19:19.102Z"
   },
   {
    "duration": 22,
    "start_time": "2021-12-23T08:19:19.120Z"
   },
   {
    "duration": 47,
    "start_time": "2021-12-23T08:19:19.144Z"
   },
   {
    "duration": 24,
    "start_time": "2021-12-23T08:19:19.193Z"
   },
   {
    "duration": 7,
    "start_time": "2021-12-23T08:19:19.218Z"
   },
   {
    "duration": 8,
    "start_time": "2021-12-23T08:19:19.227Z"
   },
   {
    "duration": 8,
    "start_time": "2021-12-23T08:19:19.237Z"
   },
   {
    "duration": 52,
    "start_time": "2021-12-23T08:19:19.246Z"
   },
   {
    "duration": 28,
    "start_time": "2021-12-23T08:19:19.300Z"
   },
   {
    "duration": 14,
    "start_time": "2021-12-23T08:19:19.332Z"
   },
   {
    "duration": 23,
    "start_time": "2021-12-23T08:19:19.348Z"
   },
   {
    "duration": 19,
    "start_time": "2021-12-23T08:19:19.373Z"
   },
   {
    "duration": 6,
    "start_time": "2021-12-23T08:19:19.393Z"
   },
   {
    "duration": 8,
    "start_time": "2021-12-23T08:19:19.401Z"
   },
   {
    "duration": 7,
    "start_time": "2021-12-23T08:19:19.411Z"
   },
   {
    "duration": 5,
    "start_time": "2021-12-23T08:19:19.419Z"
   },
   {
    "duration": 4,
    "start_time": "2021-12-23T08:19:19.426Z"
   },
   {
    "duration": 5,
    "start_time": "2021-12-23T08:19:19.432Z"
   },
   {
    "duration": 9,
    "start_time": "2021-12-23T08:19:19.438Z"
   },
   {
    "duration": 11,
    "start_time": "2021-12-23T08:19:19.449Z"
   },
   {
    "duration": 7,
    "start_time": "2021-12-23T08:19:19.491Z"
   },
   {
    "duration": 7,
    "start_time": "2021-12-23T08:19:19.500Z"
   },
   {
    "duration": 10,
    "start_time": "2021-12-23T08:19:19.509Z"
   },
   {
    "duration": 11,
    "start_time": "2021-12-23T08:19:19.521Z"
   },
   {
    "duration": 7,
    "start_time": "2021-12-23T08:19:19.534Z"
   },
   {
    "duration": 7,
    "start_time": "2021-12-23T08:19:19.542Z"
   },
   {
    "duration": 4,
    "start_time": "2021-12-23T08:19:19.550Z"
   },
   {
    "duration": 38,
    "start_time": "2021-12-23T08:19:19.556Z"
   },
   {
    "duration": 5,
    "start_time": "2021-12-23T08:19:19.596Z"
   },
   {
    "duration": 4747,
    "start_time": "2021-12-23T08:19:19.602Z"
   },
   {
    "duration": -375,
    "start_time": "2021-12-23T08:19:24.726Z"
   },
   {
    "duration": -382,
    "start_time": "2021-12-23T08:19:24.734Z"
   },
   {
    "duration": -383,
    "start_time": "2021-12-23T08:19:24.736Z"
   },
   {
    "duration": -384,
    "start_time": "2021-12-23T08:19:24.738Z"
   },
   {
    "duration": -387,
    "start_time": "2021-12-23T08:19:24.741Z"
   },
   {
    "duration": -390,
    "start_time": "2021-12-23T08:19:24.745Z"
   },
   {
    "duration": -393,
    "start_time": "2021-12-23T08:19:24.749Z"
   },
   {
    "duration": -394,
    "start_time": "2021-12-23T08:19:24.751Z"
   },
   {
    "duration": -397,
    "start_time": "2021-12-23T08:19:24.754Z"
   },
   {
    "duration": -399,
    "start_time": "2021-12-23T08:19:24.757Z"
   },
   {
    "duration": -399,
    "start_time": "2021-12-23T08:19:24.759Z"
   },
   {
    "duration": -401,
    "start_time": "2021-12-23T08:19:24.762Z"
   },
   {
    "duration": -403,
    "start_time": "2021-12-23T08:19:24.764Z"
   },
   {
    "duration": -404,
    "start_time": "2021-12-23T08:19:24.766Z"
   },
   {
    "duration": 1078,
    "start_time": "2021-12-23T08:19:35.869Z"
   },
   {
    "duration": 418,
    "start_time": "2021-12-23T08:19:36.949Z"
   },
   {
    "duration": 12,
    "start_time": "2021-12-23T08:19:37.369Z"
   },
   {
    "duration": 47,
    "start_time": "2021-12-23T08:19:37.384Z"
   },
   {
    "duration": 44,
    "start_time": "2021-12-23T08:19:37.433Z"
   },
   {
    "duration": 29,
    "start_time": "2021-12-23T08:19:37.479Z"
   },
   {
    "duration": 34,
    "start_time": "2021-12-23T08:19:37.511Z"
   },
   {
    "duration": 7,
    "start_time": "2021-12-23T08:19:37.547Z"
   },
   {
    "duration": 31,
    "start_time": "2021-12-23T08:19:37.562Z"
   },
   {
    "duration": 47,
    "start_time": "2021-12-23T08:19:37.596Z"
   },
   {
    "duration": 2,
    "start_time": "2021-12-23T08:19:37.645Z"
   },
   {
    "duration": 23,
    "start_time": "2021-12-23T08:19:37.649Z"
   },
   {
    "duration": 27,
    "start_time": "2021-12-23T08:19:37.674Z"
   },
   {
    "duration": 23,
    "start_time": "2021-12-23T08:19:37.702Z"
   },
   {
    "duration": 23,
    "start_time": "2021-12-23T08:19:37.726Z"
   },
   {
    "duration": 18,
    "start_time": "2021-12-23T08:19:37.752Z"
   },
   {
    "duration": 38,
    "start_time": "2021-12-23T08:19:37.772Z"
   },
   {
    "duration": 5,
    "start_time": "2021-12-23T08:19:37.812Z"
   },
   {
    "duration": 16,
    "start_time": "2021-12-23T08:19:37.819Z"
   },
   {
    "duration": 23,
    "start_time": "2021-12-23T08:19:37.837Z"
   },
   {
    "duration": 28,
    "start_time": "2021-12-23T08:19:37.862Z"
   },
   {
    "duration": 50,
    "start_time": "2021-12-23T08:19:37.891Z"
   },
   {
    "duration": 25,
    "start_time": "2021-12-23T08:19:37.943Z"
   },
   {
    "duration": 39,
    "start_time": "2021-12-23T08:19:37.970Z"
   },
   {
    "duration": 4,
    "start_time": "2021-12-23T08:19:38.010Z"
   },
   {
    "duration": 21,
    "start_time": "2021-12-23T08:19:38.016Z"
   },
   {
    "duration": 32,
    "start_time": "2021-12-23T08:19:38.041Z"
   },
   {
    "duration": 12,
    "start_time": "2021-12-23T08:19:38.075Z"
   },
   {
    "duration": 9,
    "start_time": "2021-12-23T08:19:38.089Z"
   },
   {
    "duration": 16,
    "start_time": "2021-12-23T08:19:38.099Z"
   },
   {
    "duration": 20,
    "start_time": "2021-12-23T08:19:38.116Z"
   },
   {
    "duration": 21,
    "start_time": "2021-12-23T08:19:38.139Z"
   },
   {
    "duration": 25,
    "start_time": "2021-12-23T08:19:38.162Z"
   },
   {
    "duration": 12,
    "start_time": "2021-12-23T08:19:38.189Z"
   },
   {
    "duration": 14,
    "start_time": "2021-12-23T08:19:38.203Z"
   },
   {
    "duration": 18,
    "start_time": "2021-12-23T08:19:38.219Z"
   },
   {
    "duration": 17,
    "start_time": "2021-12-23T08:19:38.238Z"
   },
   {
    "duration": 20,
    "start_time": "2021-12-23T08:19:38.257Z"
   },
   {
    "duration": 24,
    "start_time": "2021-12-23T08:19:38.279Z"
   },
   {
    "duration": 12,
    "start_time": "2021-12-23T08:19:38.305Z"
   },
   {
    "duration": 25,
    "start_time": "2021-12-23T08:19:38.319Z"
   },
   {
    "duration": 15,
    "start_time": "2021-12-23T08:19:38.346Z"
   },
   {
    "duration": 4960,
    "start_time": "2021-12-23T08:19:38.363Z"
   },
   {
    "duration": -376,
    "start_time": "2021-12-23T08:19:43.702Z"
   },
   {
    "duration": -383,
    "start_time": "2021-12-23T08:19:43.710Z"
   },
   {
    "duration": -385,
    "start_time": "2021-12-23T08:19:43.714Z"
   },
   {
    "duration": -387,
    "start_time": "2021-12-23T08:19:43.717Z"
   },
   {
    "duration": -387,
    "start_time": "2021-12-23T08:19:43.719Z"
   },
   {
    "duration": -389,
    "start_time": "2021-12-23T08:19:43.722Z"
   },
   {
    "duration": -392,
    "start_time": "2021-12-23T08:19:43.726Z"
   },
   {
    "duration": -392,
    "start_time": "2021-12-23T08:19:43.728Z"
   },
   {
    "duration": -393,
    "start_time": "2021-12-23T08:19:43.730Z"
   },
   {
    "duration": -394,
    "start_time": "2021-12-23T08:19:43.732Z"
   },
   {
    "duration": -394,
    "start_time": "2021-12-23T08:19:43.734Z"
   },
   {
    "duration": -395,
    "start_time": "2021-12-23T08:19:43.736Z"
   },
   {
    "duration": -396,
    "start_time": "2021-12-23T08:19:43.738Z"
   },
   {
    "duration": -398,
    "start_time": "2021-12-23T08:19:43.742Z"
   },
   {
    "duration": 1029,
    "start_time": "2021-12-23T08:20:34.107Z"
   },
   {
    "duration": 406,
    "start_time": "2021-12-23T08:20:35.137Z"
   },
   {
    "duration": 10,
    "start_time": "2021-12-23T08:20:35.545Z"
   },
   {
    "duration": 20,
    "start_time": "2021-12-23T08:20:35.557Z"
   },
   {
    "duration": 30,
    "start_time": "2021-12-23T08:20:35.579Z"
   },
   {
    "duration": 23,
    "start_time": "2021-12-23T08:20:35.610Z"
   },
   {
    "duration": 23,
    "start_time": "2021-12-23T08:20:35.634Z"
   },
   {
    "duration": 5,
    "start_time": "2021-12-23T08:20:35.659Z"
   },
   {
    "duration": 30,
    "start_time": "2021-12-23T08:20:35.666Z"
   },
   {
    "duration": 29,
    "start_time": "2021-12-23T08:20:35.698Z"
   },
   {
    "duration": 2,
    "start_time": "2021-12-23T08:20:35.728Z"
   },
   {
    "duration": 11,
    "start_time": "2021-12-23T08:20:35.732Z"
   },
   {
    "duration": 9,
    "start_time": "2021-12-23T08:20:35.745Z"
   },
   {
    "duration": 40,
    "start_time": "2021-12-23T08:20:35.755Z"
   },
   {
    "duration": 21,
    "start_time": "2021-12-23T08:20:35.797Z"
   },
   {
    "duration": 17,
    "start_time": "2021-12-23T08:20:35.820Z"
   },
   {
    "duration": 21,
    "start_time": "2021-12-23T08:20:35.839Z"
   },
   {
    "duration": 5,
    "start_time": "2021-12-23T08:20:35.862Z"
   },
   {
    "duration": 28,
    "start_time": "2021-12-23T08:20:35.869Z"
   },
   {
    "duration": 12,
    "start_time": "2021-12-23T08:20:35.899Z"
   },
   {
    "duration": 16,
    "start_time": "2021-12-23T08:20:35.913Z"
   },
   {
    "duration": 18,
    "start_time": "2021-12-23T08:20:35.931Z"
   },
   {
    "duration": 39,
    "start_time": "2021-12-23T08:20:35.954Z"
   },
   {
    "duration": 22,
    "start_time": "2021-12-23T08:20:35.995Z"
   },
   {
    "duration": 4,
    "start_time": "2021-12-23T08:20:36.018Z"
   },
   {
    "duration": 9,
    "start_time": "2021-12-23T08:20:36.024Z"
   },
   {
    "duration": 14,
    "start_time": "2021-12-23T08:20:36.034Z"
   },
   {
    "duration": 10,
    "start_time": "2021-12-23T08:20:36.049Z"
   },
   {
    "duration": 6,
    "start_time": "2021-12-23T08:20:36.060Z"
   },
   {
    "duration": 7,
    "start_time": "2021-12-23T08:20:36.068Z"
   },
   {
    "duration": 6,
    "start_time": "2021-12-23T08:20:36.092Z"
   },
   {
    "duration": 11,
    "start_time": "2021-12-23T08:20:36.100Z"
   },
   {
    "duration": 10,
    "start_time": "2021-12-23T08:20:36.112Z"
   },
   {
    "duration": 9,
    "start_time": "2021-12-23T08:20:36.124Z"
   },
   {
    "duration": 9,
    "start_time": "2021-12-23T08:20:36.134Z"
   },
   {
    "duration": 13,
    "start_time": "2021-12-23T08:20:36.145Z"
   },
   {
    "duration": 10,
    "start_time": "2021-12-23T08:20:36.160Z"
   },
   {
    "duration": 7,
    "start_time": "2021-12-23T08:20:36.192Z"
   },
   {
    "duration": 6,
    "start_time": "2021-12-23T08:20:36.201Z"
   },
   {
    "duration": 4,
    "start_time": "2021-12-23T08:20:36.209Z"
   },
   {
    "duration": 7,
    "start_time": "2021-12-23T08:20:36.214Z"
   },
   {
    "duration": 5,
    "start_time": "2021-12-23T08:20:36.222Z"
   },
   {
    "duration": 4473,
    "start_time": "2021-12-23T08:20:36.229Z"
   },
   {
    "duration": -361,
    "start_time": "2021-12-23T08:20:41.064Z"
   },
   {
    "duration": -369,
    "start_time": "2021-12-23T08:20:41.073Z"
   },
   {
    "duration": -371,
    "start_time": "2021-12-23T08:20:41.076Z"
   },
   {
    "duration": -373,
    "start_time": "2021-12-23T08:20:41.079Z"
   },
   {
    "duration": -374,
    "start_time": "2021-12-23T08:20:41.081Z"
   },
   {
    "duration": -377,
    "start_time": "2021-12-23T08:20:41.085Z"
   },
   {
    "duration": -380,
    "start_time": "2021-12-23T08:20:41.088Z"
   },
   {
    "duration": -382,
    "start_time": "2021-12-23T08:20:41.091Z"
   },
   {
    "duration": -383,
    "start_time": "2021-12-23T08:20:41.093Z"
   },
   {
    "duration": -385,
    "start_time": "2021-12-23T08:20:41.095Z"
   },
   {
    "duration": -386,
    "start_time": "2021-12-23T08:20:41.097Z"
   },
   {
    "duration": -388,
    "start_time": "2021-12-23T08:20:41.100Z"
   },
   {
    "duration": -397,
    "start_time": "2021-12-23T08:20:41.110Z"
   },
   {
    "duration": -405,
    "start_time": "2021-12-23T08:20:41.119Z"
   },
   {
    "duration": 998,
    "start_time": "2021-12-23T08:22:54.934Z"
   },
   {
    "duration": 413,
    "start_time": "2021-12-23T08:22:55.934Z"
   },
   {
    "duration": 11,
    "start_time": "2021-12-23T08:22:56.351Z"
   },
   {
    "duration": 22,
    "start_time": "2021-12-23T08:22:56.363Z"
   },
   {
    "duration": 30,
    "start_time": "2021-12-23T08:22:56.387Z"
   },
   {
    "duration": 21,
    "start_time": "2021-12-23T08:22:56.419Z"
   },
   {
    "duration": 24,
    "start_time": "2021-12-23T08:22:56.442Z"
   },
   {
    "duration": 23,
    "start_time": "2021-12-23T08:22:56.468Z"
   },
   {
    "duration": 8,
    "start_time": "2021-12-23T08:22:56.493Z"
   },
   {
    "duration": 28,
    "start_time": "2021-12-23T08:22:56.503Z"
   },
   {
    "duration": 2,
    "start_time": "2021-12-23T08:22:56.533Z"
   },
   {
    "duration": 9,
    "start_time": "2021-12-23T08:22:56.536Z"
   },
   {
    "duration": 8,
    "start_time": "2021-12-23T08:22:56.547Z"
   },
   {
    "duration": 46,
    "start_time": "2021-12-23T08:22:56.556Z"
   },
   {
    "duration": 20,
    "start_time": "2021-12-23T08:22:56.604Z"
   },
   {
    "duration": 17,
    "start_time": "2021-12-23T08:22:56.625Z"
   },
   {
    "duration": 21,
    "start_time": "2021-12-23T08:22:56.644Z"
   },
   {
    "duration": 27,
    "start_time": "2021-12-23T08:22:56.667Z"
   },
   {
    "duration": 7,
    "start_time": "2021-12-23T08:22:56.696Z"
   },
   {
    "duration": 6,
    "start_time": "2021-12-23T08:22:56.705Z"
   },
   {
    "duration": 15,
    "start_time": "2021-12-23T08:22:56.712Z"
   },
   {
    "duration": 17,
    "start_time": "2021-12-23T08:22:56.731Z"
   },
   {
    "duration": 41,
    "start_time": "2021-12-23T08:22:56.750Z"
   },
   {
    "duration": 21,
    "start_time": "2021-12-23T08:22:56.793Z"
   },
   {
    "duration": 4,
    "start_time": "2021-12-23T08:22:56.815Z"
   },
   {
    "duration": 9,
    "start_time": "2021-12-23T08:22:56.820Z"
   },
   {
    "duration": 13,
    "start_time": "2021-12-23T08:22:56.830Z"
   },
   {
    "duration": 6,
    "start_time": "2021-12-23T08:22:56.845Z"
   },
   {
    "duration": 6,
    "start_time": "2021-12-23T08:22:56.852Z"
   },
   {
    "duration": 4,
    "start_time": "2021-12-23T08:22:56.860Z"
   },
   {
    "duration": 26,
    "start_time": "2021-12-23T08:22:56.865Z"
   },
   {
    "duration": 11,
    "start_time": "2021-12-23T08:22:56.893Z"
   },
   {
    "duration": 11,
    "start_time": "2021-12-23T08:22:56.905Z"
   },
   {
    "duration": 7,
    "start_time": "2021-12-23T08:22:56.918Z"
   },
   {
    "duration": 6,
    "start_time": "2021-12-23T08:22:56.927Z"
   },
   {
    "duration": 17,
    "start_time": "2021-12-23T08:22:56.935Z"
   },
   {
    "duration": 9,
    "start_time": "2021-12-23T08:22:56.953Z"
   },
   {
    "duration": 32,
    "start_time": "2021-12-23T08:22:56.964Z"
   },
   {
    "duration": 7,
    "start_time": "2021-12-23T08:22:56.997Z"
   },
   {
    "duration": 4,
    "start_time": "2021-12-23T08:22:57.005Z"
   },
   {
    "duration": 5,
    "start_time": "2021-12-23T08:22:57.011Z"
   },
   {
    "duration": 6,
    "start_time": "2021-12-23T08:22:57.017Z"
   },
   {
    "duration": 4,
    "start_time": "2021-12-23T08:22:57.025Z"
   },
   {
    "duration": 12,
    "start_time": "2021-12-23T08:22:57.031Z"
   },
   {
    "duration": 46,
    "start_time": "2021-12-23T08:22:57.045Z"
   },
   {
    "duration": 20,
    "start_time": "2021-12-23T08:22:57.093Z"
   },
   {
    "duration": 16,
    "start_time": "2021-12-23T08:22:57.115Z"
   },
   {
    "duration": 6,
    "start_time": "2021-12-23T08:22:57.132Z"
   },
   {
    "duration": 8,
    "start_time": "2021-12-23T08:22:57.140Z"
   },
   {
    "duration": 441,
    "start_time": "2021-12-23T08:22:57.150Z"
   },
   {
    "duration": 405,
    "start_time": "2021-12-23T08:22:57.592Z"
   },
   {
    "duration": 6,
    "start_time": "2021-12-23T08:22:57.999Z"
   },
   {
    "duration": 340,
    "start_time": "2021-12-23T08:22:58.007Z"
   },
   {
    "duration": 11,
    "start_time": "2021-12-23T08:22:58.348Z"
   },
   {
    "duration": 8,
    "start_time": "2021-12-23T08:22:58.361Z"
   },
   {
    "duration": 25,
    "start_time": "2021-12-23T08:22:58.370Z"
   },
   {
    "duration": 7,
    "start_time": "2021-12-23T08:22:58.396Z"
   },
   {
    "duration": 28,
    "start_time": "2021-12-23T08:42:21.614Z"
   },
   {
    "duration": 13,
    "start_time": "2021-12-23T08:43:03.665Z"
   },
   {
    "duration": 259,
    "start_time": "2021-12-23T08:55:33.233Z"
   },
   {
    "duration": 192,
    "start_time": "2021-12-23T08:55:50.650Z"
   },
   {
    "duration": 10,
    "start_time": "2021-12-23T08:57:08.600Z"
   },
   {
    "duration": 13,
    "start_time": "2021-12-23T08:57:39.163Z"
   },
   {
    "duration": 11,
    "start_time": "2021-12-23T08:58:03.743Z"
   },
   {
    "duration": 13,
    "start_time": "2021-12-23T08:58:08.174Z"
   },
   {
    "duration": 11,
    "start_time": "2021-12-23T08:59:21.658Z"
   },
   {
    "duration": 12,
    "start_time": "2021-12-23T08:59:23.229Z"
   },
   {
    "duration": 1045,
    "start_time": "2021-12-23T08:59:43.198Z"
   },
   {
    "duration": 411,
    "start_time": "2021-12-23T08:59:44.245Z"
   },
   {
    "duration": 12,
    "start_time": "2021-12-23T08:59:44.658Z"
   },
   {
    "duration": 23,
    "start_time": "2021-12-23T08:59:44.672Z"
   },
   {
    "duration": 31,
    "start_time": "2021-12-23T08:59:44.697Z"
   },
   {
    "duration": 23,
    "start_time": "2021-12-23T08:59:44.730Z"
   },
   {
    "duration": 39,
    "start_time": "2021-12-23T08:59:44.755Z"
   },
   {
    "duration": 5,
    "start_time": "2021-12-23T08:59:44.796Z"
   },
   {
    "duration": 8,
    "start_time": "2021-12-23T08:59:44.803Z"
   },
   {
    "duration": 29,
    "start_time": "2021-12-23T08:59:44.812Z"
   },
   {
    "duration": 3,
    "start_time": "2021-12-23T08:59:44.842Z"
   },
   {
    "duration": 9,
    "start_time": "2021-12-23T08:59:44.846Z"
   },
   {
    "duration": 36,
    "start_time": "2021-12-23T08:59:44.857Z"
   },
   {
    "duration": 18,
    "start_time": "2021-12-23T08:59:44.895Z"
   },
   {
    "duration": 21,
    "start_time": "2021-12-23T08:59:44.914Z"
   },
   {
    "duration": 17,
    "start_time": "2021-12-23T08:59:44.936Z"
   },
   {
    "duration": 42,
    "start_time": "2021-12-23T08:59:44.954Z"
   },
   {
    "duration": 6,
    "start_time": "2021-12-23T08:59:44.998Z"
   },
   {
    "duration": 22,
    "start_time": "2021-12-23T08:59:45.007Z"
   },
   {
    "duration": 9,
    "start_time": "2021-12-23T08:59:45.030Z"
   },
   {
    "duration": 17,
    "start_time": "2021-12-23T08:59:45.041Z"
   },
   {
    "duration": 19,
    "start_time": "2021-12-23T08:59:45.059Z"
   },
   {
    "duration": 14,
    "start_time": "2021-12-23T08:59:45.093Z"
   },
   {
    "duration": 21,
    "start_time": "2021-12-23T08:59:45.109Z"
   },
   {
    "duration": 4,
    "start_time": "2021-12-23T08:59:45.131Z"
   },
   {
    "duration": 10,
    "start_time": "2021-12-23T08:59:45.136Z"
   },
   {
    "duration": 11,
    "start_time": "2021-12-23T08:59:45.147Z"
   },
   {
    "duration": 32,
    "start_time": "2021-12-23T08:59:45.160Z"
   },
   {
    "duration": 3,
    "start_time": "2021-12-23T08:59:45.194Z"
   },
   {
    "duration": 5,
    "start_time": "2021-12-23T08:59:45.199Z"
   },
   {
    "duration": 6,
    "start_time": "2021-12-23T08:59:45.205Z"
   },
   {
    "duration": 10,
    "start_time": "2021-12-23T08:59:45.213Z"
   },
   {
    "duration": 9,
    "start_time": "2021-12-23T08:59:45.224Z"
   },
   {
    "duration": 9,
    "start_time": "2021-12-23T08:59:45.235Z"
   },
   {
    "duration": 4,
    "start_time": "2021-12-23T08:59:45.245Z"
   },
   {
    "duration": 13,
    "start_time": "2021-12-23T08:59:45.250Z"
   },
   {
    "duration": 9,
    "start_time": "2021-12-23T08:59:45.292Z"
   },
   {
    "duration": 7,
    "start_time": "2021-12-23T08:59:45.302Z"
   },
   {
    "duration": 7,
    "start_time": "2021-12-23T08:59:45.311Z"
   },
   {
    "duration": 13,
    "start_time": "2021-12-23T08:59:45.319Z"
   },
   {
    "duration": 7,
    "start_time": "2021-12-23T08:59:45.333Z"
   },
   {
    "duration": 8,
    "start_time": "2021-12-23T08:59:45.341Z"
   },
   {
    "duration": 5,
    "start_time": "2021-12-23T08:59:45.350Z"
   },
   {
    "duration": 37,
    "start_time": "2021-12-23T08:59:45.357Z"
   },
   {
    "duration": 12,
    "start_time": "2021-12-23T08:59:45.396Z"
   },
   {
    "duration": 13,
    "start_time": "2021-12-23T08:59:45.410Z"
   },
   {
    "duration": 21,
    "start_time": "2021-12-23T08:59:45.425Z"
   },
   {
    "duration": 44,
    "start_time": "2021-12-23T08:59:45.448Z"
   },
   {
    "duration": 7,
    "start_time": "2021-12-23T08:59:45.493Z"
   },
   {
    "duration": 11,
    "start_time": "2021-12-23T08:59:45.501Z"
   },
   {
    "duration": 393,
    "start_time": "2021-12-23T08:59:45.513Z"
   },
   {
    "duration": 402,
    "start_time": "2021-12-23T08:59:45.908Z"
   },
   {
    "duration": 6,
    "start_time": "2021-12-23T08:59:46.312Z"
   },
   {
    "duration": 330,
    "start_time": "2021-12-23T08:59:46.319Z"
   },
   {
    "duration": 11,
    "start_time": "2021-12-23T08:59:46.651Z"
   },
   {
    "duration": 8,
    "start_time": "2021-12-23T08:59:46.663Z"
   },
   {
    "duration": 23,
    "start_time": "2021-12-23T08:59:46.673Z"
   },
   {
    "duration": 8,
    "start_time": "2021-12-23T08:59:46.698Z"
   },
   {
    "duration": 1020,
    "start_time": "2021-12-23T09:47:41.917Z"
   },
   {
    "duration": 411,
    "start_time": "2021-12-23T09:47:42.939Z"
   },
   {
    "duration": 10,
    "start_time": "2021-12-23T09:47:43.352Z"
   },
   {
    "duration": 19,
    "start_time": "2021-12-23T09:47:43.364Z"
   },
   {
    "duration": 30,
    "start_time": "2021-12-23T09:47:43.385Z"
   },
   {
    "duration": 22,
    "start_time": "2021-12-23T09:47:43.417Z"
   },
   {
    "duration": 23,
    "start_time": "2021-12-23T09:47:43.441Z"
   },
   {
    "duration": 6,
    "start_time": "2021-12-23T09:47:43.466Z"
   },
   {
    "duration": 25,
    "start_time": "2021-12-23T09:47:43.473Z"
   },
   {
    "duration": 31,
    "start_time": "2021-12-23T09:47:43.499Z"
   },
   {
    "duration": 2,
    "start_time": "2021-12-23T09:47:43.532Z"
   },
   {
    "duration": 10,
    "start_time": "2021-12-23T09:47:43.536Z"
   },
   {
    "duration": 9,
    "start_time": "2021-12-23T09:47:43.547Z"
   },
   {
    "duration": 34,
    "start_time": "2021-12-23T09:47:43.557Z"
   },
   {
    "duration": 19,
    "start_time": "2021-12-23T09:47:43.593Z"
   },
   {
    "duration": 16,
    "start_time": "2021-12-23T09:47:43.614Z"
   },
   {
    "duration": 20,
    "start_time": "2021-12-23T09:47:43.632Z"
   },
   {
    "duration": 5,
    "start_time": "2021-12-23T09:47:43.654Z"
   },
   {
    "duration": 33,
    "start_time": "2021-12-23T09:47:43.661Z"
   },
   {
    "duration": 7,
    "start_time": "2021-12-23T09:47:43.696Z"
   },
   {
    "duration": 14,
    "start_time": "2021-12-23T09:47:43.705Z"
   },
   {
    "duration": 17,
    "start_time": "2021-12-23T09:47:43.721Z"
   },
   {
    "duration": 14,
    "start_time": "2021-12-23T09:47:43.742Z"
   },
   {
    "duration": 50,
    "start_time": "2021-12-23T09:47:43.758Z"
   },
   {
    "duration": 4,
    "start_time": "2021-12-23T09:47:43.809Z"
   },
   {
    "duration": 8,
    "start_time": "2021-12-23T09:47:43.815Z"
   },
   {
    "duration": 9,
    "start_time": "2021-12-23T09:47:43.824Z"
   },
   {
    "duration": 7,
    "start_time": "2021-12-23T09:47:43.835Z"
   },
   {
    "duration": 6,
    "start_time": "2021-12-23T09:47:43.843Z"
   },
   {
    "duration": 5,
    "start_time": "2021-12-23T09:47:43.850Z"
   },
   {
    "duration": 10,
    "start_time": "2021-12-23T09:47:43.856Z"
   },
   {
    "duration": 10,
    "start_time": "2021-12-23T09:47:43.892Z"
   },
   {
    "duration": 11,
    "start_time": "2021-12-23T09:47:43.903Z"
   },
   {
    "duration": 7,
    "start_time": "2021-12-23T09:47:43.915Z"
   },
   {
    "duration": 6,
    "start_time": "2021-12-23T09:47:43.923Z"
   },
   {
    "duration": 10,
    "start_time": "2021-12-23T09:47:43.930Z"
   },
   {
    "duration": 9,
    "start_time": "2021-12-23T09:47:43.941Z"
   },
   {
    "duration": 5,
    "start_time": "2021-12-23T09:47:43.952Z"
   },
   {
    "duration": 34,
    "start_time": "2021-12-23T09:47:43.959Z"
   },
   {
    "duration": 9,
    "start_time": "2021-12-23T09:47:43.995Z"
   },
   {
    "duration": 7,
    "start_time": "2021-12-23T09:47:44.005Z"
   },
   {
    "duration": 5,
    "start_time": "2021-12-23T09:47:44.013Z"
   },
   {
    "duration": 6,
    "start_time": "2021-12-23T09:47:44.019Z"
   },
   {
    "duration": 12,
    "start_time": "2021-12-23T09:47:44.026Z"
   },
   {
    "duration": 11,
    "start_time": "2021-12-23T09:47:44.039Z"
   },
   {
    "duration": 45,
    "start_time": "2021-12-23T09:47:44.051Z"
   },
   {
    "duration": 20,
    "start_time": "2021-12-23T09:47:44.098Z"
   },
   {
    "duration": 15,
    "start_time": "2021-12-23T09:47:44.120Z"
   },
   {
    "duration": 6,
    "start_time": "2021-12-23T09:47:44.136Z"
   },
   {
    "duration": 10,
    "start_time": "2021-12-23T09:47:44.143Z"
   },
   {
    "duration": 439,
    "start_time": "2021-12-23T09:47:44.154Z"
   },
   {
    "duration": 414,
    "start_time": "2021-12-23T09:47:44.595Z"
   },
   {
    "duration": 6,
    "start_time": "2021-12-23T09:47:45.011Z"
   },
   {
    "duration": 361,
    "start_time": "2021-12-23T09:47:45.019Z"
   },
   {
    "duration": 17,
    "start_time": "2021-12-23T09:47:45.382Z"
   },
   {
    "duration": 10,
    "start_time": "2021-12-23T09:47:45.401Z"
   },
   {
    "duration": 8,
    "start_time": "2021-12-23T09:47:45.413Z"
   },
   {
    "duration": 9,
    "start_time": "2021-12-23T09:47:45.422Z"
   },
   {
    "duration": 3498,
    "start_time": "2021-12-23T12:01:52.165Z"
   },
   {
    "duration": 22,
    "start_time": "2021-12-23T12:03:24.965Z"
   },
   {
    "duration": 24,
    "start_time": "2021-12-23T12:03:33.700Z"
   },
   {
    "duration": 12,
    "start_time": "2021-12-23T12:03:58.436Z"
   },
   {
    "duration": 25,
    "start_time": "2021-12-23T12:04:02.004Z"
   },
   {
    "duration": 250,
    "start_time": "2021-12-23T12:05:05.221Z"
   },
   {
    "duration": 1035,
    "start_time": "2021-12-23T12:05:16.224Z"
   },
   {
    "duration": 463,
    "start_time": "2021-12-23T12:05:17.261Z"
   },
   {
    "duration": 11,
    "start_time": "2021-12-23T12:05:17.726Z"
   },
   {
    "duration": 24,
    "start_time": "2021-12-23T12:05:17.739Z"
   },
   {
    "duration": 32,
    "start_time": "2021-12-23T12:05:17.764Z"
   },
   {
    "duration": 24,
    "start_time": "2021-12-23T12:05:17.797Z"
   },
   {
    "duration": 23,
    "start_time": "2021-12-23T12:05:17.823Z"
   },
   {
    "duration": 5,
    "start_time": "2021-12-23T12:05:17.849Z"
   },
   {
    "duration": 12,
    "start_time": "2021-12-23T12:05:17.856Z"
   },
   {
    "duration": 30,
    "start_time": "2021-12-23T12:05:17.892Z"
   },
   {
    "duration": 3,
    "start_time": "2021-12-23T12:05:17.924Z"
   },
   {
    "duration": 9,
    "start_time": "2021-12-23T12:05:17.930Z"
   },
   {
    "duration": 8,
    "start_time": "2021-12-23T12:05:17.941Z"
   },
   {
    "duration": 50,
    "start_time": "2021-12-23T12:05:17.952Z"
   },
   {
    "duration": 21,
    "start_time": "2021-12-23T12:05:18.004Z"
   },
   {
    "duration": 19,
    "start_time": "2021-12-23T12:05:18.027Z"
   },
   {
    "duration": 43,
    "start_time": "2021-12-23T12:05:18.048Z"
   },
   {
    "duration": 6,
    "start_time": "2021-12-23T12:05:18.093Z"
   },
   {
    "duration": 8,
    "start_time": "2021-12-23T12:05:18.101Z"
   },
   {
    "duration": 8,
    "start_time": "2021-12-23T12:05:18.111Z"
   },
   {
    "duration": 15,
    "start_time": "2021-12-23T12:05:18.121Z"
   },
   {
    "duration": 58,
    "start_time": "2021-12-23T12:05:18.138Z"
   },
   {
    "duration": 18,
    "start_time": "2021-12-23T12:05:18.201Z"
   },
   {
    "duration": 21,
    "start_time": "2021-12-23T12:05:18.222Z"
   },
   {
    "duration": 5,
    "start_time": "2021-12-23T12:05:18.245Z"
   },
   {
    "duration": 9,
    "start_time": "2021-12-23T12:05:18.251Z"
   },
   {
    "duration": 35,
    "start_time": "2021-12-23T12:05:18.262Z"
   },
   {
    "duration": 8,
    "start_time": "2021-12-23T12:05:18.300Z"
   },
   {
    "duration": 8,
    "start_time": "2021-12-23T12:05:18.309Z"
   },
   {
    "duration": 5,
    "start_time": "2021-12-23T12:05:18.319Z"
   },
   {
    "duration": 6,
    "start_time": "2021-12-23T12:05:18.325Z"
   },
   {
    "duration": 13,
    "start_time": "2021-12-23T12:05:18.333Z"
   },
   {
    "duration": 13,
    "start_time": "2021-12-23T12:05:18.348Z"
   },
   {
    "duration": 10,
    "start_time": "2021-12-23T12:05:18.392Z"
   },
   {
    "duration": 6,
    "start_time": "2021-12-23T12:05:18.404Z"
   },
   {
    "duration": 16,
    "start_time": "2021-12-23T12:05:18.412Z"
   },
   {
    "duration": 11,
    "start_time": "2021-12-23T12:05:18.430Z"
   },
   {
    "duration": 6,
    "start_time": "2021-12-23T12:05:18.443Z"
   },
   {
    "duration": 40,
    "start_time": "2021-12-23T12:05:18.451Z"
   },
   {
    "duration": 6,
    "start_time": "2021-12-23T12:05:18.493Z"
   },
   {
    "duration": 7,
    "start_time": "2021-12-23T12:05:18.501Z"
   },
   {
    "duration": 6,
    "start_time": "2021-12-23T12:05:18.510Z"
   },
   {
    "duration": 11,
    "start_time": "2021-12-23T12:05:18.518Z"
   },
   {
    "duration": 26,
    "start_time": "2021-12-23T12:05:18.530Z"
   },
   {
    "duration": 33,
    "start_time": "2021-12-23T12:05:18.558Z"
   },
   {
    "duration": 13,
    "start_time": "2021-12-23T12:05:18.593Z"
   },
   {
    "duration": 23,
    "start_time": "2021-12-23T12:05:18.608Z"
   },
   {
    "duration": 17,
    "start_time": "2021-12-23T12:05:18.633Z"
   },
   {
    "duration": 260,
    "start_time": "2021-12-23T12:05:18.652Z"
   },
   {
    "duration": -1685,
    "start_time": "2021-12-23T12:05:20.599Z"
   },
   {
    "duration": -1686,
    "start_time": "2021-12-23T12:05:20.602Z"
   },
   {
    "duration": -1688,
    "start_time": "2021-12-23T12:05:20.605Z"
   },
   {
    "duration": -1693,
    "start_time": "2021-12-23T12:05:20.611Z"
   },
   {
    "duration": -1696,
    "start_time": "2021-12-23T12:05:20.615Z"
   },
   {
    "duration": -1698,
    "start_time": "2021-12-23T12:05:20.618Z"
   },
   {
    "duration": -1699,
    "start_time": "2021-12-23T12:05:20.620Z"
   },
   {
    "duration": -1702,
    "start_time": "2021-12-23T12:05:20.624Z"
   },
   {
    "duration": -1704,
    "start_time": "2021-12-23T12:05:20.627Z"
   },
   {
    "duration": 195,
    "start_time": "2021-12-23T12:05:36.405Z"
   },
   {
    "duration": 12,
    "start_time": "2021-12-23T12:06:02.054Z"
   },
   {
    "duration": 13,
    "start_time": "2021-12-23T12:06:13.013Z"
   },
   {
    "duration": 88,
    "start_time": "2021-12-23T12:07:18.917Z"
   },
   {
    "duration": 7,
    "start_time": "2021-12-23T12:09:00.181Z"
   },
   {
    "duration": 12,
    "start_time": "2021-12-23T12:09:04.851Z"
   },
   {
    "duration": 7,
    "start_time": "2021-12-23T12:09:17.643Z"
   },
   {
    "duration": 8,
    "start_time": "2021-12-23T12:09:19.900Z"
   },
   {
    "duration": 8,
    "start_time": "2021-12-23T12:09:22.884Z"
   },
   {
    "duration": 10,
    "start_time": "2021-12-23T12:13:01.786Z"
   },
   {
    "duration": 13,
    "start_time": "2021-12-23T12:13:04.700Z"
   },
   {
    "duration": 8,
    "start_time": "2021-12-23T12:13:35.896Z"
   },
   {
    "duration": 8,
    "start_time": "2021-12-23T12:14:44.115Z"
   },
   {
    "duration": 8,
    "start_time": "2021-12-23T12:14:56.459Z"
   },
   {
    "duration": 2,
    "start_time": "2021-12-23T12:15:27.847Z"
   },
   {
    "duration": 4,
    "start_time": "2021-12-23T12:15:30.084Z"
   },
   {
    "duration": 4676,
    "start_time": "2021-12-23T12:15:44.322Z"
   },
   {
    "duration": -529,
    "start_time": "2021-12-23T12:15:49.529Z"
   },
   {
    "duration": 209,
    "start_time": "2021-12-23T12:16:11.907Z"
   },
   {
    "duration": 3,
    "start_time": "2021-12-23T12:16:42.116Z"
   },
   {
    "duration": 5,
    "start_time": "2021-12-23T12:16:44.619Z"
   },
   {
    "duration": 2,
    "start_time": "2021-12-23T12:16:56.137Z"
   },
   {
    "duration": 3,
    "start_time": "2021-12-23T12:16:59.003Z"
   },
   {
    "duration": 7,
    "start_time": "2021-12-23T12:18:08.103Z"
   },
   {
    "duration": 4,
    "start_time": "2021-12-23T12:18:13.385Z"
   },
   {
    "duration": 8,
    "start_time": "2021-12-23T12:18:20.076Z"
   },
   {
    "duration": 4,
    "start_time": "2021-12-23T12:18:21.726Z"
   },
   {
    "duration": 8,
    "start_time": "2021-12-23T12:18:33.125Z"
   },
   {
    "duration": 8,
    "start_time": "2021-12-23T12:22:49.770Z"
   },
   {
    "duration": 8,
    "start_time": "2021-12-23T12:23:02.809Z"
   },
   {
    "duration": 9,
    "start_time": "2021-12-23T12:23:48.379Z"
   },
   {
    "duration": 175,
    "start_time": "2021-12-23T12:27:35.262Z"
   },
   {
    "duration": 376,
    "start_time": "2021-12-23T12:27:59.315Z"
   },
   {
    "duration": 379,
    "start_time": "2021-12-23T12:28:41.512Z"
   },
   {
    "duration": 416,
    "start_time": "2021-12-23T12:28:51.776Z"
   },
   {
    "duration": 460,
    "start_time": "2021-12-23T12:29:37.591Z"
   },
   {
    "duration": 442,
    "start_time": "2021-12-23T12:29:49.911Z"
   },
   {
    "duration": 417,
    "start_time": "2021-12-23T12:29:58.097Z"
   },
   {
    "duration": 518,
    "start_time": "2021-12-23T12:30:27.067Z"
   },
   {
    "duration": 412,
    "start_time": "2021-12-23T12:30:43.023Z"
   },
   {
    "duration": 501,
    "start_time": "2021-12-23T12:30:55.487Z"
   },
   {
    "duration": 396,
    "start_time": "2021-12-23T12:31:22.118Z"
   },
   {
    "duration": 448,
    "start_time": "2021-12-23T12:32:40.038Z"
   },
   {
    "duration": 411,
    "start_time": "2021-12-23T12:33:59.807Z"
   },
   {
    "duration": 8,
    "start_time": "2021-12-23T12:35:25.470Z"
   },
   {
    "duration": 8,
    "start_time": "2021-12-23T12:35:27.718Z"
   },
   {
    "duration": 8,
    "start_time": "2021-12-23T12:35:46.101Z"
   },
   {
    "duration": 8,
    "start_time": "2021-12-23T12:35:48.925Z"
   },
   {
    "duration": 507,
    "start_time": "2021-12-23T12:36:07.021Z"
   },
   {
    "duration": 376,
    "start_time": "2021-12-23T12:36:59.871Z"
   },
   {
    "duration": 379,
    "start_time": "2021-12-23T12:37:52.196Z"
   },
   {
    "duration": 323,
    "start_time": "2021-12-23T14:28:21.176Z"
   },
   {
    "duration": 1046,
    "start_time": "2021-12-23T14:28:27.260Z"
   },
   {
    "duration": 396,
    "start_time": "2021-12-23T14:28:28.307Z"
   },
   {
    "duration": 10,
    "start_time": "2021-12-23T14:28:28.706Z"
   },
   {
    "duration": 20,
    "start_time": "2021-12-23T14:28:28.718Z"
   },
   {
    "duration": 31,
    "start_time": "2021-12-23T14:28:28.740Z"
   },
   {
    "duration": 24,
    "start_time": "2021-12-23T14:28:28.773Z"
   },
   {
    "duration": 23,
    "start_time": "2021-12-23T14:28:28.799Z"
   },
   {
    "duration": 5,
    "start_time": "2021-12-23T14:28:28.825Z"
   },
   {
    "duration": 36,
    "start_time": "2021-12-23T14:28:28.832Z"
   },
   {
    "duration": 31,
    "start_time": "2021-12-23T14:28:28.869Z"
   },
   {
    "duration": 3,
    "start_time": "2021-12-23T14:28:28.901Z"
   },
   {
    "duration": 11,
    "start_time": "2021-12-23T14:28:28.906Z"
   },
   {
    "duration": 8,
    "start_time": "2021-12-23T14:28:28.920Z"
   },
   {
    "duration": 39,
    "start_time": "2021-12-23T14:28:28.929Z"
   },
   {
    "duration": 20,
    "start_time": "2021-12-23T14:28:28.969Z"
   },
   {
    "duration": 18,
    "start_time": "2021-12-23T14:28:28.991Z"
   },
   {
    "duration": 20,
    "start_time": "2021-12-23T14:28:29.010Z"
   },
   {
    "duration": 28,
    "start_time": "2021-12-23T14:28:29.032Z"
   },
   {
    "duration": 8,
    "start_time": "2021-12-23T14:28:29.062Z"
   },
   {
    "duration": 10,
    "start_time": "2021-12-23T14:28:29.072Z"
   },
   {
    "duration": 18,
    "start_time": "2021-12-23T14:28:29.083Z"
   },
   {
    "duration": 19,
    "start_time": "2021-12-23T14:28:29.103Z"
   },
   {
    "duration": 43,
    "start_time": "2021-12-23T14:28:29.126Z"
   },
   {
    "duration": 20,
    "start_time": "2021-12-23T14:28:29.171Z"
   },
   {
    "duration": 3,
    "start_time": "2021-12-23T14:28:29.193Z"
   },
   {
    "duration": 11,
    "start_time": "2021-12-23T14:28:29.198Z"
   },
   {
    "duration": 11,
    "start_time": "2021-12-23T14:28:29.210Z"
   },
   {
    "duration": 7,
    "start_time": "2021-12-23T14:28:29.223Z"
   },
   {
    "duration": 32,
    "start_time": "2021-12-23T14:28:29.232Z"
   },
   {
    "duration": 9,
    "start_time": "2021-12-23T14:28:29.266Z"
   },
   {
    "duration": 7,
    "start_time": "2021-12-23T14:28:29.276Z"
   },
   {
    "duration": 13,
    "start_time": "2021-12-23T14:28:29.285Z"
   },
   {
    "duration": 13,
    "start_time": "2021-12-23T14:28:29.300Z"
   },
   {
    "duration": 9,
    "start_time": "2021-12-23T14:28:29.315Z"
   },
   {
    "duration": 7,
    "start_time": "2021-12-23T14:28:29.326Z"
   },
   {
    "duration": 17,
    "start_time": "2021-12-23T14:28:29.335Z"
   },
   {
    "duration": 8,
    "start_time": "2021-12-23T14:28:29.360Z"
   },
   {
    "duration": 6,
    "start_time": "2021-12-23T14:28:29.370Z"
   },
   {
    "duration": 6,
    "start_time": "2021-12-23T14:28:29.378Z"
   },
   {
    "duration": 4,
    "start_time": "2021-12-23T14:28:29.385Z"
   },
   {
    "duration": 7,
    "start_time": "2021-12-23T14:28:29.390Z"
   },
   {
    "duration": 15,
    "start_time": "2021-12-23T14:28:29.399Z"
   },
   {
    "duration": 6,
    "start_time": "2021-12-23T14:28:29.416Z"
   },
   {
    "duration": 14,
    "start_time": "2021-12-23T14:28:29.423Z"
   },
   {
    "duration": 33,
    "start_time": "2021-12-23T14:28:29.439Z"
   },
   {
    "duration": 18,
    "start_time": "2021-12-23T14:28:29.474Z"
   },
   {
    "duration": 21,
    "start_time": "2021-12-23T14:28:29.494Z"
   },
   {
    "duration": 44,
    "start_time": "2021-12-23T14:28:29.517Z"
   },
   {
    "duration": 7,
    "start_time": "2021-12-23T14:28:29.562Z"
   },
   {
    "duration": 12,
    "start_time": "2021-12-23T14:28:29.571Z"
   },
   {
    "duration": 396,
    "start_time": "2021-12-23T14:28:29.584Z"
   },
   {
    "duration": 625,
    "start_time": "2021-12-23T14:28:29.981Z"
   },
   {
    "duration": -501,
    "start_time": "2021-12-23T14:28:31.109Z"
   },
   {
    "duration": -508,
    "start_time": "2021-12-23T14:28:31.117Z"
   },
   {
    "duration": -522,
    "start_time": "2021-12-23T14:28:31.132Z"
   },
   {
    "duration": -531,
    "start_time": "2021-12-23T14:28:31.142Z"
   },
   {
    "duration": -537,
    "start_time": "2021-12-23T14:28:31.149Z"
   },
   {
    "duration": -545,
    "start_time": "2021-12-23T14:28:31.158Z"
   },
   {
    "duration": 441,
    "start_time": "2021-12-23T14:29:12.419Z"
   },
   {
    "duration": 529,
    "start_time": "2021-12-23T14:29:33.235Z"
   },
   {
    "duration": 443,
    "start_time": "2021-12-23T14:30:56.395Z"
   },
   {
    "duration": 508,
    "start_time": "2021-12-23T14:31:29.530Z"
   },
   {
    "duration": 514,
    "start_time": "2021-12-23T14:36:38.852Z"
   },
   {
    "duration": 410,
    "start_time": "2021-12-23T14:37:29.752Z"
   },
   {
    "duration": 400,
    "start_time": "2021-12-23T14:37:41.376Z"
   },
   {
    "duration": 445,
    "start_time": "2021-12-23T14:38:30.111Z"
   },
   {
    "duration": 546,
    "start_time": "2021-12-23T14:39:29.510Z"
   },
   {
    "duration": 398,
    "start_time": "2021-12-23T14:39:44.226Z"
   },
   {
    "duration": 493,
    "start_time": "2021-12-23T14:40:21.187Z"
   },
   {
    "duration": 413,
    "start_time": "2021-12-23T14:40:30.103Z"
   },
   {
    "duration": 381,
    "start_time": "2021-12-23T14:41:52.182Z"
   },
   {
    "duration": 382,
    "start_time": "2021-12-23T14:42:46.589Z"
   },
   {
    "duration": 405,
    "start_time": "2021-12-23T14:43:07.496Z"
   },
   {
    "duration": 410,
    "start_time": "2021-12-23T14:43:32.174Z"
   },
   {
    "duration": 471,
    "start_time": "2021-12-23T14:43:45.202Z"
   },
   {
    "duration": 444,
    "start_time": "2021-12-23T14:44:20.516Z"
   },
   {
    "duration": 421,
    "start_time": "2021-12-23T14:44:37.686Z"
   },
   {
    "duration": 397,
    "start_time": "2021-12-23T14:45:14.974Z"
   },
   {
    "duration": 5,
    "start_time": "2021-12-23T14:46:33.210Z"
   },
   {
    "duration": 8,
    "start_time": "2021-12-23T14:46:36.459Z"
   },
   {
    "duration": 418,
    "start_time": "2021-12-23T14:46:48.836Z"
   },
   {
    "duration": 453,
    "start_time": "2021-12-23T14:48:09.118Z"
   },
   {
    "duration": 368,
    "start_time": "2021-12-23T14:48:33.734Z"
   },
   {
    "duration": 459,
    "start_time": "2021-12-23T14:48:53.971Z"
   },
   {
    "duration": 373,
    "start_time": "2021-12-23T14:49:07.699Z"
   },
   {
    "duration": 387,
    "start_time": "2021-12-23T14:49:37.633Z"
   },
   {
    "duration": 7,
    "start_time": "2021-12-23T14:57:34.071Z"
   },
   {
    "duration": 1045,
    "start_time": "2021-12-23T14:57:40.377Z"
   },
   {
    "duration": 409,
    "start_time": "2021-12-23T14:57:41.424Z"
   },
   {
    "duration": 11,
    "start_time": "2021-12-23T14:57:41.838Z"
   },
   {
    "duration": 23,
    "start_time": "2021-12-23T14:57:41.850Z"
   },
   {
    "duration": 33,
    "start_time": "2021-12-23T14:57:41.874Z"
   },
   {
    "duration": 23,
    "start_time": "2021-12-23T14:57:41.909Z"
   },
   {
    "duration": 40,
    "start_time": "2021-12-23T14:57:41.934Z"
   },
   {
    "duration": 5,
    "start_time": "2021-12-23T14:57:41.976Z"
   },
   {
    "duration": 15,
    "start_time": "2021-12-23T14:57:41.982Z"
   },
   {
    "duration": 27,
    "start_time": "2021-12-23T14:57:41.999Z"
   },
   {
    "duration": 3,
    "start_time": "2021-12-23T14:57:42.028Z"
   },
   {
    "duration": 28,
    "start_time": "2021-12-23T14:57:42.033Z"
   },
   {
    "duration": 8,
    "start_time": "2021-12-23T14:57:42.063Z"
   },
   {
    "duration": 17,
    "start_time": "2021-12-23T14:57:42.072Z"
   },
   {
    "duration": 19,
    "start_time": "2021-12-23T14:57:42.090Z"
   },
   {
    "duration": 16,
    "start_time": "2021-12-23T14:57:42.111Z"
   },
   {
    "duration": 44,
    "start_time": "2021-12-23T14:57:42.129Z"
   },
   {
    "duration": 8,
    "start_time": "2021-12-23T14:57:42.175Z"
   },
   {
    "duration": 7,
    "start_time": "2021-12-23T14:57:42.184Z"
   },
   {
    "duration": 9,
    "start_time": "2021-12-23T14:57:42.193Z"
   },
   {
    "duration": 15,
    "start_time": "2021-12-23T14:57:42.204Z"
   },
   {
    "duration": 37,
    "start_time": "2021-12-23T14:57:42.223Z"
   },
   {
    "duration": 14,
    "start_time": "2021-12-23T14:57:42.263Z"
   },
   {
    "duration": 21,
    "start_time": "2021-12-23T14:57:42.279Z"
   },
   {
    "duration": 4,
    "start_time": "2021-12-23T14:57:42.302Z"
   },
   {
    "duration": 13,
    "start_time": "2021-12-23T14:57:42.308Z"
   },
   {
    "duration": 9,
    "start_time": "2021-12-23T14:57:42.323Z"
   },
   {
    "duration": 29,
    "start_time": "2021-12-23T14:57:42.334Z"
   },
   {
    "duration": 6,
    "start_time": "2021-12-23T14:57:42.365Z"
   },
   {
    "duration": 7,
    "start_time": "2021-12-23T14:57:42.372Z"
   },
   {
    "duration": 8,
    "start_time": "2021-12-23T14:57:42.381Z"
   },
   {
    "duration": 12,
    "start_time": "2021-12-23T14:57:42.391Z"
   },
   {
    "duration": 15,
    "start_time": "2021-12-23T14:57:42.404Z"
   },
   {
    "duration": 7,
    "start_time": "2021-12-23T14:57:42.420Z"
   },
   {
    "duration": 5,
    "start_time": "2021-12-23T14:57:42.429Z"
   },
   {
    "duration": 29,
    "start_time": "2021-12-23T14:57:42.436Z"
   },
   {
    "duration": 10,
    "start_time": "2021-12-23T14:57:42.468Z"
   },
   {
    "duration": 8,
    "start_time": "2021-12-23T14:57:42.480Z"
   },
   {
    "duration": 8,
    "start_time": "2021-12-23T14:57:42.489Z"
   },
   {
    "duration": 5,
    "start_time": "2021-12-23T14:57:42.499Z"
   },
   {
    "duration": 6,
    "start_time": "2021-12-23T14:57:42.506Z"
   },
   {
    "duration": 6,
    "start_time": "2021-12-23T14:57:42.514Z"
   },
   {
    "duration": 42,
    "start_time": "2021-12-23T14:57:42.522Z"
   },
   {
    "duration": 13,
    "start_time": "2021-12-23T14:57:42.566Z"
   },
   {
    "duration": 11,
    "start_time": "2021-12-23T14:57:42.581Z"
   },
   {
    "duration": 13,
    "start_time": "2021-12-23T14:57:42.593Z"
   },
   {
    "duration": 24,
    "start_time": "2021-12-23T14:57:42.607Z"
   },
   {
    "duration": 41,
    "start_time": "2021-12-23T14:57:42.632Z"
   },
   {
    "duration": 7,
    "start_time": "2021-12-23T14:57:42.674Z"
   },
   {
    "duration": 12,
    "start_time": "2021-12-23T14:57:42.682Z"
   },
   {
    "duration": 409,
    "start_time": "2021-12-23T14:57:42.695Z"
   },
   {
    "duration": 429,
    "start_time": "2021-12-23T14:57:43.106Z"
   },
   {
    "duration": 7,
    "start_time": "2021-12-23T14:57:43.537Z"
   },
   {
    "duration": 385,
    "start_time": "2021-12-23T14:57:43.546Z"
   },
   {
    "duration": 12,
    "start_time": "2021-12-23T14:57:43.934Z"
   },
   {
    "duration": 18,
    "start_time": "2021-12-23T14:57:43.948Z"
   },
   {
    "duration": 10,
    "start_time": "2021-12-23T14:57:43.968Z"
   },
   {
    "duration": 14,
    "start_time": "2021-12-23T14:57:43.979Z"
   },
   {
    "duration": 1061,
    "start_time": "2022-04-28T14:13:12.390Z"
   },
   {
    "duration": 389,
    "start_time": "2022-04-28T14:13:13.453Z"
   },
   {
    "duration": 12,
    "start_time": "2022-04-28T14:13:13.844Z"
   },
   {
    "duration": 35,
    "start_time": "2022-04-28T14:13:13.858Z"
   },
   {
    "duration": 32,
    "start_time": "2022-04-28T14:13:13.895Z"
   },
   {
    "duration": 27,
    "start_time": "2022-04-28T14:13:13.929Z"
   },
   {
    "duration": 25,
    "start_time": "2022-04-28T14:13:13.958Z"
   },
   {
    "duration": 18,
    "start_time": "2022-04-28T14:13:13.984Z"
   },
   {
    "duration": 35,
    "start_time": "2022-04-28T14:13:14.003Z"
   },
   {
    "duration": 32,
    "start_time": "2022-04-28T14:13:14.041Z"
   },
   {
    "duration": 9,
    "start_time": "2022-04-28T14:13:14.074Z"
   },
   {
    "duration": 29,
    "start_time": "2022-04-28T14:13:14.085Z"
   },
   {
    "duration": 23,
    "start_time": "2022-04-28T14:13:14.116Z"
   },
   {
    "duration": 53,
    "start_time": "2022-04-28T14:13:14.141Z"
   },
   {
    "duration": 52,
    "start_time": "2022-04-28T14:13:14.195Z"
   },
   {
    "duration": 22,
    "start_time": "2022-04-28T14:13:14.249Z"
   },
   {
    "duration": 17,
    "start_time": "2022-04-28T14:13:14.273Z"
   },
   {
    "duration": 7,
    "start_time": "2022-04-28T14:13:14.291Z"
   },
   {
    "duration": 26,
    "start_time": "2022-04-28T14:13:14.300Z"
   },
   {
    "duration": 17,
    "start_time": "2022-04-28T14:13:14.328Z"
   },
   {
    "duration": 32,
    "start_time": "2022-04-28T14:13:14.347Z"
   },
   {
    "duration": 28,
    "start_time": "2022-04-28T14:13:14.381Z"
   },
   {
    "duration": 23,
    "start_time": "2022-04-28T14:13:14.412Z"
   },
   {
    "duration": 30,
    "start_time": "2022-04-28T14:13:14.437Z"
   },
   {
    "duration": 4,
    "start_time": "2022-04-28T14:13:14.469Z"
   },
   {
    "duration": 30,
    "start_time": "2022-04-28T14:13:14.475Z"
   },
   {
    "duration": 32,
    "start_time": "2022-04-28T14:13:14.508Z"
   },
   {
    "duration": 41,
    "start_time": "2022-04-28T14:13:14.545Z"
   },
   {
    "duration": 25,
    "start_time": "2022-04-28T14:13:14.587Z"
   },
   {
    "duration": 26,
    "start_time": "2022-04-28T14:13:14.615Z"
   },
   {
    "duration": 19,
    "start_time": "2022-04-28T14:13:14.643Z"
   },
   {
    "duration": 25,
    "start_time": "2022-04-28T14:13:14.664Z"
   },
   {
    "duration": 38,
    "start_time": "2022-04-28T14:13:14.691Z"
   },
   {
    "duration": 32,
    "start_time": "2022-04-28T14:13:14.732Z"
   },
   {
    "duration": 14,
    "start_time": "2022-04-28T14:13:14.766Z"
   },
   {
    "duration": 53,
    "start_time": "2022-04-28T14:13:14.782Z"
   },
   {
    "duration": 14,
    "start_time": "2022-04-28T14:13:14.837Z"
   },
   {
    "duration": 11,
    "start_time": "2022-04-28T14:13:14.853Z"
   },
   {
    "duration": 14,
    "start_time": "2022-04-28T14:13:14.866Z"
   },
   {
    "duration": 10,
    "start_time": "2022-04-28T14:13:14.882Z"
   },
   {
    "duration": 28,
    "start_time": "2022-04-28T14:13:14.894Z"
   },
   {
    "duration": 11,
    "start_time": "2022-04-28T14:13:14.924Z"
   },
   {
    "duration": 20,
    "start_time": "2022-04-28T14:13:14.937Z"
   },
   {
    "duration": 24,
    "start_time": "2022-04-28T14:13:14.960Z"
   },
   {
    "duration": 33,
    "start_time": "2022-04-28T14:13:14.986Z"
   },
   {
    "duration": 24,
    "start_time": "2022-04-28T14:13:15.022Z"
   },
   {
    "duration": 34,
    "start_time": "2022-04-28T14:13:15.048Z"
   },
   {
    "duration": 29,
    "start_time": "2022-04-28T14:13:15.084Z"
   },
   {
    "duration": 11,
    "start_time": "2022-04-28T14:13:15.115Z"
   },
   {
    "duration": 29,
    "start_time": "2022-04-28T14:13:15.128Z"
   },
   {
    "duration": 392,
    "start_time": "2022-04-28T14:13:15.158Z"
   },
   {
    "duration": 408,
    "start_time": "2022-04-28T14:13:15.552Z"
   },
   {
    "duration": 5,
    "start_time": "2022-04-28T14:13:15.962Z"
   },
   {
    "duration": 375,
    "start_time": "2022-04-28T14:13:15.969Z"
   },
   {
    "duration": 11,
    "start_time": "2022-04-28T14:13:16.346Z"
   },
   {
    "duration": 9,
    "start_time": "2022-04-28T14:13:16.358Z"
   },
   {
    "duration": 8,
    "start_time": "2022-04-28T14:13:16.369Z"
   },
   {
    "duration": 10,
    "start_time": "2022-04-28T14:13:16.378Z"
   }
  ],
  "kernelspec": {
   "display_name": "Python 3",
   "language": "python",
   "name": "python3"
  },
  "language_info": {
   "codemirror_mode": {
    "name": "ipython",
    "version": 3
   },
   "file_extension": ".py",
   "mimetype": "text/x-python",
   "name": "python",
   "nbconvert_exporter": "python",
   "pygments_lexer": "ipython3",
   "version": "3.8.8"
  },
  "toc": {
   "base_numbering": 1,
   "nav_menu": {},
   "number_sections": true,
   "sideBar": true,
   "skip_h1_title": true,
   "title_cell": "Table of Contents",
   "title_sidebar": "Contents",
   "toc_cell": false,
   "toc_position": {
    "height": "calc(100% - 180px)",
    "left": "10px",
    "top": "150px",
    "width": "245px"
   },
   "toc_section_display": true,
   "toc_window_display": true
  }
 },
 "nbformat": 4,
 "nbformat_minor": 2
}
