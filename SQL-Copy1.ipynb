{
 "cells": [
  {
   "cell_type": "markdown",
   "id": "132275bb",
   "metadata": {},
   "source": [
    "# SQL - финальный проект"
   ]
  },
  {
   "cell_type": "markdown",
   "id": "c67e53b3",
   "metadata": {},
   "source": [
    "## Цели\n",
    "Подключиться к БД SQL postgres \n",
    "\n",
    "Выполнить задания используя запросы SQL, вывести ответы в pandas"
   ]
  },
  {
   "cell_type": "markdown",
   "id": "03a225f2",
   "metadata": {},
   "source": [
    "## Описание\n",
    "БД содержит информацию о крупном сервисе  для чтения книг по подписке (книгах, издательствах, авторах, а также пользовательские\n",
    "обзоры книг). "
   ]
  },
  {
   "cell_type": "markdown",
   "id": "501d734f",
   "metadata": {},
   "source": [
    "## Анализ БД"
   ]
  },
  {
   "cell_type": "code",
   "execution_count": 1,
   "id": "31c2ec9f",
   "metadata": {},
   "outputs": [],
   "source": [
    "# импортируем библиотеки\n",
    "import pandas as pd\n",
    "from sqlalchemy import create_engine"
   ]
  },
  {
   "cell_type": "code",
   "execution_count": 2,
   "id": "babd2498",
   "metadata": {},
   "outputs": [],
   "source": [
    "# устанавливаем параметры\n",
    "db_config = {'user': 'praktikum_student', # имя пользователя\n",
    " 'pwd': 'Sdf4$2;d-d30pp', # пароль\n",
    " 'host': 'rc1b-wcoijxj3yxfsf3fs.mdb.yandexcloud.net',\n",
    " 'port': 6432, # порт подключения\n",
    " 'db': 'data-analyst-final-project-db'} # название базы данных\n",
    "connection_string = 'postgresql://{}:{}@{}:{}/{}'.format(db_config['user'],\n",
    " db_config['pwd'],\n",
    " db_config['host'],\n",
    " db_config['port'],\n",
    " db_config['db'])\n",
    "# сохраняем коннектор\n",
    "engine = create_engine(connection_string, connect_args={'sslmode':'require'}) "
   ]
  },
  {
   "cell_type": "code",
   "execution_count": 3,
   "id": "f044edf9",
   "metadata": {},
   "outputs": [],
   "source": [
    "#функция для вывода информации о таблице \n",
    "def db(query):\n",
    "    table = pd.io.sql.read_sql(query, con=engine)\n",
    "    return display(table.head()), table.info()\n",
    "\n",
    "#функция для решения задачи\n",
    "def answer(query):\n",
    "    return pd.io.sql.read_sql(query, con=engine)"
   ]
  },
  {
   "cell_type": "markdown",
   "id": "c4df2670",
   "metadata": {},
   "source": [
    "### books"
   ]
  },
  {
   "cell_type": "code",
   "execution_count": 4,
   "id": "7222dd6e",
   "metadata": {},
   "outputs": [
    {
     "data": {
      "text/html": [
       "<div>\n",
       "<style scoped>\n",
       "    .dataframe tbody tr th:only-of-type {\n",
       "        vertical-align: middle;\n",
       "    }\n",
       "\n",
       "    .dataframe tbody tr th {\n",
       "        vertical-align: top;\n",
       "    }\n",
       "\n",
       "    .dataframe thead th {\n",
       "        text-align: right;\n",
       "    }\n",
       "</style>\n",
       "<table border=\"1\" class=\"dataframe\">\n",
       "  <thead>\n",
       "    <tr style=\"text-align: right;\">\n",
       "      <th></th>\n",
       "      <th>author_id</th>\n",
       "      <th>title</th>\n",
       "      <th>num_pages</th>\n",
       "      <th>publication_date</th>\n",
       "      <th>publisher_id</th>\n",
       "    </tr>\n",
       "    <tr>\n",
       "      <th>book_id</th>\n",
       "      <th></th>\n",
       "      <th></th>\n",
       "      <th></th>\n",
       "      <th></th>\n",
       "      <th></th>\n",
       "    </tr>\n",
       "  </thead>\n",
       "  <tbody>\n",
       "    <tr>\n",
       "      <th>1</th>\n",
       "      <td>546</td>\n",
       "      <td>'Salem's Lot</td>\n",
       "      <td>594</td>\n",
       "      <td>2005-11-01</td>\n",
       "      <td>93</td>\n",
       "    </tr>\n",
       "    <tr>\n",
       "      <th>2</th>\n",
       "      <td>465</td>\n",
       "      <td>1 000 Places to See Before You Die</td>\n",
       "      <td>992</td>\n",
       "      <td>2003-05-22</td>\n",
       "      <td>336</td>\n",
       "    </tr>\n",
       "    <tr>\n",
       "      <th>3</th>\n",
       "      <td>407</td>\n",
       "      <td>13 Little Blue Envelopes (Little Blue Envelope...</td>\n",
       "      <td>322</td>\n",
       "      <td>2010-12-21</td>\n",
       "      <td>135</td>\n",
       "    </tr>\n",
       "    <tr>\n",
       "      <th>4</th>\n",
       "      <td>82</td>\n",
       "      <td>1491: New Revelations of the Americas Before C...</td>\n",
       "      <td>541</td>\n",
       "      <td>2006-10-10</td>\n",
       "      <td>309</td>\n",
       "    </tr>\n",
       "    <tr>\n",
       "      <th>5</th>\n",
       "      <td>125</td>\n",
       "      <td>1776</td>\n",
       "      <td>386</td>\n",
       "      <td>2006-07-04</td>\n",
       "      <td>268</td>\n",
       "    </tr>\n",
       "  </tbody>\n",
       "</table>\n",
       "</div>"
      ],
      "text/plain": [
       "         author_id                                              title  \\\n",
       "book_id                                                                 \n",
       "1              546                                       'Salem's Lot   \n",
       "2              465                 1 000 Places to See Before You Die   \n",
       "3              407  13 Little Blue Envelopes (Little Blue Envelope...   \n",
       "4               82  1491: New Revelations of the Americas Before C...   \n",
       "5              125                                               1776   \n",
       "\n",
       "         num_pages publication_date  publisher_id  \n",
       "book_id                                            \n",
       "1              594       2005-11-01            93  \n",
       "2              992       2003-05-22           336  \n",
       "3              322       2010-12-21           135  \n",
       "4              541       2006-10-10           309  \n",
       "5              386       2006-07-04           268  "
      ]
     },
     "metadata": {},
     "output_type": "display_data"
    },
    {
     "name": "stdout",
     "output_type": "stream",
     "text": [
      "<class 'pandas.core.frame.DataFrame'>\n",
      "Int64Index: 1000 entries, 1 to 1000\n",
      "Data columns (total 5 columns):\n",
      " #   Column            Non-Null Count  Dtype \n",
      "---  ------            --------------  ----- \n",
      " 0   author_id         1000 non-null   int64 \n",
      " 1   title             1000 non-null   object\n",
      " 2   num_pages         1000 non-null   int64 \n",
      " 3   publication_date  1000 non-null   object\n",
      " 4   publisher_id      1000 non-null   int64 \n",
      "dtypes: int64(3), object(2)\n",
      "memory usage: 46.9+ KB\n"
     ]
    }
   ],
   "source": [
    "# выгружаем бд полностью для анализа\n",
    "query = ''' SELECT *\n",
    "            FROM books\n",
    "        '''\n",
    "books = pd.io.sql.read_sql(query, con=engine, index_col='book_id')\n",
    "\n",
    "display(books.head())\n",
    "books.info()"
   ]
  },
  {
   "cell_type": "markdown",
   "id": "ad0b5764",
   "metadata": {},
   "source": [
    "В books 1000 уникальных книг"
   ]
  },
  {
   "cell_type": "markdown",
   "id": "9e316f70",
   "metadata": {},
   "source": [
    "### authors"
   ]
  },
  {
   "cell_type": "code",
   "execution_count": 5,
   "id": "3e6454c6",
   "metadata": {},
   "outputs": [
    {
     "data": {
      "text/html": [
       "<div>\n",
       "<style scoped>\n",
       "    .dataframe tbody tr th:only-of-type {\n",
       "        vertical-align: middle;\n",
       "    }\n",
       "\n",
       "    .dataframe tbody tr th {\n",
       "        vertical-align: top;\n",
       "    }\n",
       "\n",
       "    .dataframe thead th {\n",
       "        text-align: right;\n",
       "    }\n",
       "</style>\n",
       "<table border=\"1\" class=\"dataframe\">\n",
       "  <thead>\n",
       "    <tr style=\"text-align: right;\">\n",
       "      <th></th>\n",
       "      <th>author</th>\n",
       "    </tr>\n",
       "    <tr>\n",
       "      <th>author_id</th>\n",
       "      <th></th>\n",
       "    </tr>\n",
       "  </thead>\n",
       "  <tbody>\n",
       "    <tr>\n",
       "      <th>1</th>\n",
       "      <td>A.S. Byatt</td>\n",
       "    </tr>\n",
       "    <tr>\n",
       "      <th>2</th>\n",
       "      <td>Aesop/Laura Harris/Laura Gibbs</td>\n",
       "    </tr>\n",
       "    <tr>\n",
       "      <th>3</th>\n",
       "      <td>Agatha Christie</td>\n",
       "    </tr>\n",
       "    <tr>\n",
       "      <th>4</th>\n",
       "      <td>Alan Brennert</td>\n",
       "    </tr>\n",
       "    <tr>\n",
       "      <th>5</th>\n",
       "      <td>Alan Moore/David   Lloyd</td>\n",
       "    </tr>\n",
       "  </tbody>\n",
       "</table>\n",
       "</div>"
      ],
      "text/plain": [
       "                                   author\n",
       "author_id                                \n",
       "1                              A.S. Byatt\n",
       "2          Aesop/Laura Harris/Laura Gibbs\n",
       "3                         Agatha Christie\n",
       "4                           Alan Brennert\n",
       "5                Alan Moore/David   Lloyd"
      ]
     },
     "metadata": {},
     "output_type": "display_data"
    },
    {
     "name": "stdout",
     "output_type": "stream",
     "text": [
      "<class 'pandas.core.frame.DataFrame'>\n",
      "Int64Index: 636 entries, 1 to 636\n",
      "Data columns (total 1 columns):\n",
      " #   Column  Non-Null Count  Dtype \n",
      "---  ------  --------------  ----- \n",
      " 0   author  636 non-null    object\n",
      "dtypes: object(1)\n",
      "memory usage: 9.9+ KB\n"
     ]
    }
   ],
   "source": [
    "query = ''' SELECT *\n",
    "            FROM authors\n",
    "        '''\n",
    "authors = pd.io.sql.read_sql(query, con=engine, index_col='author_id')\n",
    "\n",
    "display(authors.head())\n",
    "authors.info()"
   ]
  },
  {
   "cell_type": "markdown",
   "id": "762238c0",
   "metadata": {},
   "source": [
    "В authors 636 уникальных авторов. Проверим, что столько же и в books (понадобится, когда будем соединять таблицы)"
   ]
  },
  {
   "cell_type": "code",
   "execution_count": 6,
   "id": "eb3dfe05",
   "metadata": {},
   "outputs": [
    {
     "data": {
      "text/plain": [
       "636"
      ]
     },
     "execution_count": 6,
     "metadata": {},
     "output_type": "execute_result"
    }
   ],
   "source": [
    "books['author_id'].nunique()"
   ]
  },
  {
   "cell_type": "code",
   "execution_count": 7,
   "id": "a4059150",
   "metadata": {},
   "outputs": [
    {
     "data": {
      "text/html": [
       "<div>\n",
       "<style scoped>\n",
       "    .dataframe tbody tr th:only-of-type {\n",
       "        vertical-align: middle;\n",
       "    }\n",
       "\n",
       "    .dataframe tbody tr th {\n",
       "        vertical-align: top;\n",
       "    }\n",
       "\n",
       "    .dataframe thead th {\n",
       "        text-align: right;\n",
       "    }\n",
       "</style>\n",
       "<table border=\"1\" class=\"dataframe\">\n",
       "  <thead>\n",
       "    <tr style=\"text-align: right;\">\n",
       "      <th></th>\n",
       "      <th>authors_count</th>\n",
       "    </tr>\n",
       "  </thead>\n",
       "  <tbody>\n",
       "    <tr>\n",
       "      <th>0</th>\n",
       "      <td>636</td>\n",
       "    </tr>\n",
       "  </tbody>\n",
       "</table>\n",
       "</div>"
      ],
      "text/plain": [
       "   authors_count\n",
       "0            636"
      ]
     },
     "execution_count": 7,
     "metadata": {},
     "output_type": "execute_result"
    }
   ],
   "source": [
    "#ту же самую проверку можно сделать в SQL, не выгружая всю таблицу в pandas\n",
    "query = ''' SELECT COUNT(DISTINCT(author_id)) AS authors_count\n",
    "            FROM books\n",
    "        '''\n",
    "answer(query)"
   ]
  },
  {
   "cell_type": "markdown",
   "id": "e0e40303",
   "metadata": {},
   "source": [
    "### ratings"
   ]
  },
  {
   "cell_type": "code",
   "execution_count": 8,
   "id": "d0ea39ae",
   "metadata": {},
   "outputs": [
    {
     "data": {
      "text/html": [
       "<div>\n",
       "<style scoped>\n",
       "    .dataframe tbody tr th:only-of-type {\n",
       "        vertical-align: middle;\n",
       "    }\n",
       "\n",
       "    .dataframe tbody tr th {\n",
       "        vertical-align: top;\n",
       "    }\n",
       "\n",
       "    .dataframe thead th {\n",
       "        text-align: right;\n",
       "    }\n",
       "</style>\n",
       "<table border=\"1\" class=\"dataframe\">\n",
       "  <thead>\n",
       "    <tr style=\"text-align: right;\">\n",
       "      <th></th>\n",
       "      <th>book_id</th>\n",
       "      <th>username</th>\n",
       "      <th>rating</th>\n",
       "    </tr>\n",
       "    <tr>\n",
       "      <th>rating_id</th>\n",
       "      <th></th>\n",
       "      <th></th>\n",
       "      <th></th>\n",
       "    </tr>\n",
       "  </thead>\n",
       "  <tbody>\n",
       "    <tr>\n",
       "      <th>1</th>\n",
       "      <td>1</td>\n",
       "      <td>ryanfranco</td>\n",
       "      <td>4</td>\n",
       "    </tr>\n",
       "    <tr>\n",
       "      <th>2</th>\n",
       "      <td>1</td>\n",
       "      <td>grantpatricia</td>\n",
       "      <td>2</td>\n",
       "    </tr>\n",
       "    <tr>\n",
       "      <th>3</th>\n",
       "      <td>1</td>\n",
       "      <td>brandtandrea</td>\n",
       "      <td>5</td>\n",
       "    </tr>\n",
       "    <tr>\n",
       "      <th>4</th>\n",
       "      <td>2</td>\n",
       "      <td>lorichen</td>\n",
       "      <td>3</td>\n",
       "    </tr>\n",
       "    <tr>\n",
       "      <th>5</th>\n",
       "      <td>2</td>\n",
       "      <td>mariokeller</td>\n",
       "      <td>2</td>\n",
       "    </tr>\n",
       "  </tbody>\n",
       "</table>\n",
       "</div>"
      ],
      "text/plain": [
       "           book_id       username  rating\n",
       "rating_id                                \n",
       "1                1     ryanfranco       4\n",
       "2                1  grantpatricia       2\n",
       "3                1   brandtandrea       5\n",
       "4                2       lorichen       3\n",
       "5                2    mariokeller       2"
      ]
     },
     "metadata": {},
     "output_type": "display_data"
    },
    {
     "name": "stdout",
     "output_type": "stream",
     "text": [
      "<class 'pandas.core.frame.DataFrame'>\n",
      "Int64Index: 6456 entries, 1 to 6456\n",
      "Data columns (total 3 columns):\n",
      " #   Column    Non-Null Count  Dtype \n",
      "---  ------    --------------  ----- \n",
      " 0   book_id   6456 non-null   int64 \n",
      " 1   username  6456 non-null   object\n",
      " 2   rating    6456 non-null   int64 \n",
      "dtypes: int64(2), object(1)\n",
      "memory usage: 201.8+ KB\n"
     ]
    }
   ],
   "source": [
    "query = ''' SELECT *\n",
    "            FROM ratings\n",
    "        '''\n",
    "\n",
    "ratings = pd.io.sql.read_sql(query, con=engine, index_col='rating_id')\n",
    "\n",
    "display(ratings.head())\n",
    "ratings.info()"
   ]
  },
  {
   "cell_type": "code",
   "execution_count": 9,
   "id": "11b69487",
   "metadata": {},
   "outputs": [
    {
     "data": {
      "text/plain": [
       "1000"
      ]
     },
     "execution_count": 9,
     "metadata": {},
     "output_type": "execute_result"
    }
   ],
   "source": [
    "ratings['book_id'].nunique() #уникальных книг столько же, сколько и в books"
   ]
  },
  {
   "cell_type": "code",
   "execution_count": 10,
   "id": "4898e15c",
   "metadata": {},
   "outputs": [
    {
     "data": {
      "text/html": [
       "<div>\n",
       "<style scoped>\n",
       "    .dataframe tbody tr th:only-of-type {\n",
       "        vertical-align: middle;\n",
       "    }\n",
       "\n",
       "    .dataframe tbody tr th {\n",
       "        vertical-align: top;\n",
       "    }\n",
       "\n",
       "    .dataframe thead th {\n",
       "        text-align: right;\n",
       "    }\n",
       "</style>\n",
       "<table border=\"1\" class=\"dataframe\">\n",
       "  <thead>\n",
       "    <tr style=\"text-align: right;\">\n",
       "      <th></th>\n",
       "      <th>book_count</th>\n",
       "    </tr>\n",
       "  </thead>\n",
       "  <tbody>\n",
       "    <tr>\n",
       "      <th>0</th>\n",
       "      <td>1000</td>\n",
       "    </tr>\n",
       "  </tbody>\n",
       "</table>\n",
       "</div>"
      ],
      "text/plain": [
       "   book_count\n",
       "0        1000"
      ]
     },
     "execution_count": 10,
     "metadata": {},
     "output_type": "execute_result"
    }
   ],
   "source": [
    "#ту же самую проверку можно сделать в SQL, не выгружая всю таблицу в pandas\n",
    "query = ''' SELECT COUNT(DISTINCT(book_id)) AS book_count\n",
    "            FROM ratings\n",
    "        '''\n",
    "\n",
    "book_count = pd.io.sql.read_sql(query, con=engine)\n",
    "\n",
    "book_count"
   ]
  },
  {
   "cell_type": "code",
   "execution_count": 11,
   "id": "bde079e1",
   "metadata": {},
   "outputs": [
    {
     "data": {
      "text/plain": [
       "True    6456\n",
       "Name: book_id, dtype: int64"
      ]
     },
     "execution_count": 11,
     "metadata": {},
     "output_type": "execute_result"
    }
   ],
   "source": [
    "#все книги в ratings из таблицы books\n",
    "ratings['book_id'].isin(books.index).value_counts()"
   ]
  },
  {
   "cell_type": "markdown",
   "id": "0d26b63b",
   "metadata": {},
   "source": [
    "В rating 6456 уникальных оценок. Книги теже самые, что и в books"
   ]
  },
  {
   "cell_type": "markdown",
   "id": "312d384e",
   "metadata": {},
   "source": [
    "### reviews"
   ]
  },
  {
   "cell_type": "code",
   "execution_count": 12,
   "id": "6ce71ac6",
   "metadata": {},
   "outputs": [
    {
     "data": {
      "text/html": [
       "<div>\n",
       "<style scoped>\n",
       "    .dataframe tbody tr th:only-of-type {\n",
       "        vertical-align: middle;\n",
       "    }\n",
       "\n",
       "    .dataframe tbody tr th {\n",
       "        vertical-align: top;\n",
       "    }\n",
       "\n",
       "    .dataframe thead th {\n",
       "        text-align: right;\n",
       "    }\n",
       "</style>\n",
       "<table border=\"1\" class=\"dataframe\">\n",
       "  <thead>\n",
       "    <tr style=\"text-align: right;\">\n",
       "      <th></th>\n",
       "      <th>book_id</th>\n",
       "      <th>username</th>\n",
       "      <th>text</th>\n",
       "    </tr>\n",
       "    <tr>\n",
       "      <th>review_id</th>\n",
       "      <th></th>\n",
       "      <th></th>\n",
       "      <th></th>\n",
       "    </tr>\n",
       "  </thead>\n",
       "  <tbody>\n",
       "    <tr>\n",
       "      <th>1</th>\n",
       "      <td>1</td>\n",
       "      <td>brandtandrea</td>\n",
       "      <td>Mention society tell send professor analysis. ...</td>\n",
       "    </tr>\n",
       "    <tr>\n",
       "      <th>2</th>\n",
       "      <td>1</td>\n",
       "      <td>ryanfranco</td>\n",
       "      <td>Foot glass pretty audience hit themselves. Amo...</td>\n",
       "    </tr>\n",
       "    <tr>\n",
       "      <th>3</th>\n",
       "      <td>2</td>\n",
       "      <td>lorichen</td>\n",
       "      <td>Listen treat keep worry. Miss husband tax but ...</td>\n",
       "    </tr>\n",
       "    <tr>\n",
       "      <th>4</th>\n",
       "      <td>3</td>\n",
       "      <td>johnsonamanda</td>\n",
       "      <td>Finally month interesting blue could nature cu...</td>\n",
       "    </tr>\n",
       "    <tr>\n",
       "      <th>5</th>\n",
       "      <td>3</td>\n",
       "      <td>scotttamara</td>\n",
       "      <td>Nation purpose heavy give wait song will. List...</td>\n",
       "    </tr>\n",
       "  </tbody>\n",
       "</table>\n",
       "</div>"
      ],
      "text/plain": [
       "           book_id       username  \\\n",
       "review_id                           \n",
       "1                1   brandtandrea   \n",
       "2                1     ryanfranco   \n",
       "3                2       lorichen   \n",
       "4                3  johnsonamanda   \n",
       "5                3    scotttamara   \n",
       "\n",
       "                                                        text  \n",
       "review_id                                                     \n",
       "1          Mention society tell send professor analysis. ...  \n",
       "2          Foot glass pretty audience hit themselves. Amo...  \n",
       "3          Listen treat keep worry. Miss husband tax but ...  \n",
       "4          Finally month interesting blue could nature cu...  \n",
       "5          Nation purpose heavy give wait song will. List...  "
      ]
     },
     "metadata": {},
     "output_type": "display_data"
    },
    {
     "name": "stdout",
     "output_type": "stream",
     "text": [
      "<class 'pandas.core.frame.DataFrame'>\n",
      "Int64Index: 2793 entries, 1 to 2793\n",
      "Data columns (total 3 columns):\n",
      " #   Column    Non-Null Count  Dtype \n",
      "---  ------    --------------  ----- \n",
      " 0   book_id   2793 non-null   int64 \n",
      " 1   username  2793 non-null   object\n",
      " 2   text      2793 non-null   object\n",
      "dtypes: int64(1), object(2)\n",
      "memory usage: 87.3+ KB\n"
     ]
    }
   ],
   "source": [
    "query = ''' SELECT *\n",
    "            FROM reviews\n",
    "        '''\n",
    "\n",
    "reviews = pd.io.sql.read_sql(query, con=engine, index_col='review_id')\n",
    "\n",
    "display(reviews.head())\n",
    "reviews.info()"
   ]
  },
  {
   "cell_type": "code",
   "execution_count": 13,
   "id": "b826d79d",
   "metadata": {},
   "outputs": [
    {
     "data": {
      "text/plain": [
       "994"
      ]
     },
     "execution_count": 13,
     "metadata": {},
     "output_type": "execute_result"
    }
   ],
   "source": [
    "reviews['book_id'].nunique()"
   ]
  },
  {
   "cell_type": "code",
   "execution_count": 14,
   "id": "738508b1",
   "metadata": {},
   "outputs": [
    {
     "data": {
      "text/html": [
       "<div>\n",
       "<style scoped>\n",
       "    .dataframe tbody tr th:only-of-type {\n",
       "        vertical-align: middle;\n",
       "    }\n",
       "\n",
       "    .dataframe tbody tr th {\n",
       "        vertical-align: top;\n",
       "    }\n",
       "\n",
       "    .dataframe thead th {\n",
       "        text-align: right;\n",
       "    }\n",
       "</style>\n",
       "<table border=\"1\" class=\"dataframe\">\n",
       "  <thead>\n",
       "    <tr style=\"text-align: right;\">\n",
       "      <th></th>\n",
       "      <th>book_count</th>\n",
       "    </tr>\n",
       "  </thead>\n",
       "  <tbody>\n",
       "    <tr>\n",
       "      <th>0</th>\n",
       "      <td>994</td>\n",
       "    </tr>\n",
       "  </tbody>\n",
       "</table>\n",
       "</div>"
      ],
      "text/plain": [
       "   book_count\n",
       "0         994"
      ]
     },
     "execution_count": 14,
     "metadata": {},
     "output_type": "execute_result"
    }
   ],
   "source": [
    "#ту же самую проверку можно сделать в SQL, не выгружая всю таблицу в pandas\n",
    "query = ''' SELECT COUNT(DISTINCT(book_id)) AS book_count\n",
    "            FROM reviews\n",
    "        '''\n",
    "\n",
    "book_count = pd.io.sql.read_sql(query, con=engine)\n",
    "\n",
    "book_count"
   ]
  },
  {
   "cell_type": "code",
   "execution_count": 15,
   "id": "c065acf0",
   "metadata": {},
   "outputs": [
    {
     "data": {
      "text/plain": [
       "True    2793\n",
       "Name: book_id, dtype: int64"
      ]
     },
     "execution_count": 15,
     "metadata": {},
     "output_type": "execute_result"
    }
   ],
   "source": [
    "reviews['book_id'].isin(books.index).value_counts()"
   ]
  },
  {
   "cell_type": "markdown",
   "id": "d9737354",
   "metadata": {},
   "source": [
    "В reviews 2793 отзывов. Книг 994 - т.е. часть книг (1000-994=6) не попала таблицу reviews. Ниже id книг, которые есть в таблицах books, ratings, но нет в reviews. "
   ]
  },
  {
   "cell_type": "code",
   "execution_count": 16,
   "id": "0a5373de",
   "metadata": {},
   "outputs": [
    {
     "data": {
      "text/html": [
       "<div>\n",
       "<style scoped>\n",
       "    .dataframe tbody tr th:only-of-type {\n",
       "        vertical-align: middle;\n",
       "    }\n",
       "\n",
       "    .dataframe tbody tr th {\n",
       "        vertical-align: top;\n",
       "    }\n",
       "\n",
       "    .dataframe thead th {\n",
       "        text-align: right;\n",
       "    }\n",
       "</style>\n",
       "<table border=\"1\" class=\"dataframe\">\n",
       "  <thead>\n",
       "    <tr style=\"text-align: right;\">\n",
       "      <th></th>\n",
       "      <th>book_id</th>\n",
       "    </tr>\n",
       "  </thead>\n",
       "  <tbody>\n",
       "  </tbody>\n",
       "</table>\n",
       "</div>"
      ],
      "text/plain": [
       "Empty DataFrame\n",
       "Columns: [book_id]\n",
       "Index: []"
      ]
     },
     "execution_count": 16,
     "metadata": {},
     "output_type": "execute_result"
    }
   ],
   "source": [
    "#ту же самую проверку можно сделать в SQL, не выгружая всю таблицу в pandas\n",
    "query = ''' SELECT book_id\n",
    "            FROM reviews\n",
    "            WHERE book_id NOT IN (SELECT book_id\n",
    "                                   FROM books)\n",
    "        '''\n",
    "\n",
    "books_wo_reviews = pd.io.sql.read_sql(query, con=engine)\n",
    "\n",
    "books_wo_reviews"
   ]
  },
  {
   "cell_type": "code",
   "execution_count": 17,
   "id": "2d3d86ea",
   "metadata": {},
   "outputs": [
    {
     "data": {
      "text/html": [
       "<div>\n",
       "<style scoped>\n",
       "    .dataframe tbody tr th:only-of-type {\n",
       "        vertical-align: middle;\n",
       "    }\n",
       "\n",
       "    .dataframe tbody tr th {\n",
       "        vertical-align: top;\n",
       "    }\n",
       "\n",
       "    .dataframe thead th {\n",
       "        text-align: right;\n",
       "    }\n",
       "</style>\n",
       "<table border=\"1\" class=\"dataframe\">\n",
       "  <thead>\n",
       "    <tr style=\"text-align: right;\">\n",
       "      <th></th>\n",
       "      <th>book_id</th>\n",
       "    </tr>\n",
       "  </thead>\n",
       "  <tbody>\n",
       "    <tr>\n",
       "      <th>0</th>\n",
       "      <td>83</td>\n",
       "    </tr>\n",
       "    <tr>\n",
       "      <th>1</th>\n",
       "      <td>191</td>\n",
       "    </tr>\n",
       "    <tr>\n",
       "      <th>2</th>\n",
       "      <td>221</td>\n",
       "    </tr>\n",
       "    <tr>\n",
       "      <th>3</th>\n",
       "      <td>387</td>\n",
       "    </tr>\n",
       "    <tr>\n",
       "      <th>4</th>\n",
       "      <td>672</td>\n",
       "    </tr>\n",
       "    <tr>\n",
       "      <th>5</th>\n",
       "      <td>808</td>\n",
       "    </tr>\n",
       "  </tbody>\n",
       "</table>\n",
       "</div>"
      ],
      "text/plain": [
       "   book_id\n",
       "0       83\n",
       "1      191\n",
       "2      221\n",
       "3      387\n",
       "4      672\n",
       "5      808"
      ]
     },
     "execution_count": 17,
     "metadata": {},
     "output_type": "execute_result"
    }
   ],
   "source": [
    "#ту же самую проверку можно сделать в SQL, не выгружая всю таблицу в pandas\n",
    "query = ''' SELECT book_id\n",
    "            FROM books\n",
    "            WHERE book_id NOT IN (SELECT book_id\n",
    "                                   FROM reviews)\n",
    "        '''\n",
    "\n",
    "books_wo_reviews = pd.io.sql.read_sql(query, con=engine)\n",
    "\n",
    "books_wo_reviews"
   ]
  },
  {
   "cell_type": "code",
   "execution_count": 18,
   "id": "0e4adcef",
   "metadata": {},
   "outputs": [
    {
     "data": {
      "text/plain": [
       "array([ 83, 191, 221, 387, 672, 808])"
      ]
     },
     "execution_count": 18,
     "metadata": {},
     "output_type": "execute_result"
    }
   ],
   "source": [
    "ratings[~ratings['book_id'].isin(reviews['book_id'])]['book_id'].unique()"
   ]
  },
  {
   "cell_type": "code",
   "execution_count": 19,
   "id": "93c14247",
   "metadata": {},
   "outputs": [
    {
     "data": {
      "text/html": [
       "<div>\n",
       "<style scoped>\n",
       "    .dataframe tbody tr th:only-of-type {\n",
       "        vertical-align: middle;\n",
       "    }\n",
       "\n",
       "    .dataframe tbody tr th {\n",
       "        vertical-align: top;\n",
       "    }\n",
       "\n",
       "    .dataframe thead th {\n",
       "        text-align: right;\n",
       "    }\n",
       "</style>\n",
       "<table border=\"1\" class=\"dataframe\">\n",
       "  <thead>\n",
       "    <tr style=\"text-align: right;\">\n",
       "      <th></th>\n",
       "      <th>books_wo_reviews</th>\n",
       "    </tr>\n",
       "  </thead>\n",
       "  <tbody>\n",
       "    <tr>\n",
       "      <th>0</th>\n",
       "      <td>83</td>\n",
       "    </tr>\n",
       "    <tr>\n",
       "      <th>1</th>\n",
       "      <td>191</td>\n",
       "    </tr>\n",
       "    <tr>\n",
       "      <th>2</th>\n",
       "      <td>221</td>\n",
       "    </tr>\n",
       "    <tr>\n",
       "      <th>3</th>\n",
       "      <td>387</td>\n",
       "    </tr>\n",
       "    <tr>\n",
       "      <th>4</th>\n",
       "      <td>672</td>\n",
       "    </tr>\n",
       "    <tr>\n",
       "      <th>5</th>\n",
       "      <td>808</td>\n",
       "    </tr>\n",
       "  </tbody>\n",
       "</table>\n",
       "</div>"
      ],
      "text/plain": [
       "   books_wo_reviews\n",
       "0                83\n",
       "1               191\n",
       "2               221\n",
       "3               387\n",
       "4               672\n",
       "5               808"
      ]
     },
     "execution_count": 19,
     "metadata": {},
     "output_type": "execute_result"
    }
   ],
   "source": [
    "#ту же самую проверку можно сделать в SQL, не выгружая всю таблицу в pandas\n",
    "query = ''' SELECT DISTINCT r.book_id AS books_wo_reviews ---ы\n",
    "            FROM ratings AS r\n",
    "            LEFT JOIN reviews AS rev on r.book_id=rev.book_id\n",
    "            WHERE rev.book_id IS NULL\n",
    "        '''\n",
    "\n",
    "books_wo_reviews = pd.io.sql.read_sql(query, con=engine)\n",
    "\n",
    "books_wo_reviews"
   ]
  },
  {
   "cell_type": "markdown",
   "id": "f77eec0a",
   "metadata": {},
   "source": [
    "### publishers"
   ]
  },
  {
   "cell_type": "code",
   "execution_count": 20,
   "id": "52611696",
   "metadata": {},
   "outputs": [
    {
     "data": {
      "text/html": [
       "<div>\n",
       "<style scoped>\n",
       "    .dataframe tbody tr th:only-of-type {\n",
       "        vertical-align: middle;\n",
       "    }\n",
       "\n",
       "    .dataframe tbody tr th {\n",
       "        vertical-align: top;\n",
       "    }\n",
       "\n",
       "    .dataframe thead th {\n",
       "        text-align: right;\n",
       "    }\n",
       "</style>\n",
       "<table border=\"1\" class=\"dataframe\">\n",
       "  <thead>\n",
       "    <tr style=\"text-align: right;\">\n",
       "      <th></th>\n",
       "      <th>publisher</th>\n",
       "    </tr>\n",
       "    <tr>\n",
       "      <th>publisher_id</th>\n",
       "      <th></th>\n",
       "    </tr>\n",
       "  </thead>\n",
       "  <tbody>\n",
       "    <tr>\n",
       "      <th>1</th>\n",
       "      <td>Ace</td>\n",
       "    </tr>\n",
       "    <tr>\n",
       "      <th>2</th>\n",
       "      <td>Ace Book</td>\n",
       "    </tr>\n",
       "    <tr>\n",
       "      <th>3</th>\n",
       "      <td>Ace Books</td>\n",
       "    </tr>\n",
       "    <tr>\n",
       "      <th>4</th>\n",
       "      <td>Ace Hardcover</td>\n",
       "    </tr>\n",
       "    <tr>\n",
       "      <th>5</th>\n",
       "      <td>Addison Wesley Publishing Company</td>\n",
       "    </tr>\n",
       "  </tbody>\n",
       "</table>\n",
       "</div>"
      ],
      "text/plain": [
       "                                      publisher\n",
       "publisher_id                                   \n",
       "1                                           Ace\n",
       "2                                      Ace Book\n",
       "3                                     Ace Books\n",
       "4                                 Ace Hardcover\n",
       "5             Addison Wesley Publishing Company"
      ]
     },
     "metadata": {},
     "output_type": "display_data"
    },
    {
     "name": "stdout",
     "output_type": "stream",
     "text": [
      "<class 'pandas.core.frame.DataFrame'>\n",
      "Int64Index: 340 entries, 1 to 340\n",
      "Data columns (total 1 columns):\n",
      " #   Column     Non-Null Count  Dtype \n",
      "---  ------     --------------  ----- \n",
      " 0   publisher  340 non-null    object\n",
      "dtypes: object(1)\n",
      "memory usage: 5.3+ KB\n"
     ]
    }
   ],
   "source": [
    "query = ''' SELECT *\n",
    "            FROM publishers\n",
    "        '''\n",
    "\n",
    "publishers = pd.io.sql.read_sql(query, con=engine, index_col='publisher_id')\n",
    "\n",
    "display(publishers.head())\n",
    "publishers.info()"
   ]
  },
  {
   "cell_type": "code",
   "execution_count": 21,
   "id": "ee221c93",
   "metadata": {},
   "outputs": [
    {
     "data": {
      "text/plain": [
       "340"
      ]
     },
     "execution_count": 21,
     "metadata": {},
     "output_type": "execute_result"
    }
   ],
   "source": [
    "books['publisher_id'].nunique()"
   ]
  },
  {
   "cell_type": "code",
   "execution_count": 22,
   "id": "f1241870",
   "metadata": {},
   "outputs": [
    {
     "data": {
      "text/plain": [
       "True    1000\n",
       "Name: publisher_id, dtype: int64"
      ]
     },
     "execution_count": 22,
     "metadata": {},
     "output_type": "execute_result"
    }
   ],
   "source": [
    "books['publisher_id'].isin(publishers.index).value_counts()"
   ]
  },
  {
   "cell_type": "markdown",
   "id": "55edf0f8",
   "metadata": {},
   "source": [
    "В publishers 340 издательств, те же самые, что и в books"
   ]
  },
  {
   "cell_type": "code",
   "execution_count": 23,
   "id": "ae47ccc0",
   "metadata": {},
   "outputs": [
    {
     "data": {
      "text/plain": [
       "160"
      ]
     },
     "execution_count": 23,
     "metadata": {},
     "output_type": "execute_result"
    }
   ],
   "source": [
    "ratings['username'].nunique()"
   ]
  },
  {
   "cell_type": "code",
   "execution_count": 24,
   "id": "340e6f62",
   "metadata": {},
   "outputs": [
    {
     "data": {
      "text/plain": [
       "160"
      ]
     },
     "execution_count": 24,
     "metadata": {},
     "output_type": "execute_result"
    }
   ],
   "source": [
    "reviews['username'].nunique()"
   ]
  },
  {
   "cell_type": "code",
   "execution_count": 25,
   "id": "4c77a980",
   "metadata": {},
   "outputs": [
    {
     "data": {
      "text/plain": [
       "True"
      ]
     },
     "execution_count": 25,
     "metadata": {},
     "output_type": "execute_result"
    }
   ],
   "source": [
    "#из pd.Series c пользователями сделали списки, отсортировали их по алфавиту и сравнили друг с другом. \n",
    "list(ratings['username'].unique()).sort() == list(reviews['username'].unique()).sort()\n",
    "#результат: удостоверились что пользователи оставляющие обзоры и оценки - это те же самые пользователи. "
   ]
  },
  {
   "cell_type": "code",
   "execution_count": 26,
   "id": "5440a6a8",
   "metadata": {},
   "outputs": [
    {
     "data": {
      "text/html": [
       "<div>\n",
       "<style scoped>\n",
       "    .dataframe tbody tr th:only-of-type {\n",
       "        vertical-align: middle;\n",
       "    }\n",
       "\n",
       "    .dataframe tbody tr th {\n",
       "        vertical-align: top;\n",
       "    }\n",
       "\n",
       "    .dataframe thead th {\n",
       "        text-align: right;\n",
       "    }\n",
       "</style>\n",
       "<table border=\"1\" class=\"dataframe\">\n",
       "  <thead>\n",
       "    <tr style=\"text-align: right;\">\n",
       "      <th></th>\n",
       "      <th>user_count</th>\n",
       "    </tr>\n",
       "  </thead>\n",
       "  <tbody>\n",
       "    <tr>\n",
       "      <th>0</th>\n",
       "      <td>160</td>\n",
       "    </tr>\n",
       "  </tbody>\n",
       "</table>\n",
       "</div>"
      ],
      "text/plain": [
       "   user_count\n",
       "0         160"
      ]
     },
     "execution_count": 26,
     "metadata": {},
     "output_type": "execute_result"
    }
   ],
   "source": [
    "#ту же самую проверку можно сделать в SQL, не выгружая всю таблицу в pandas\n",
    "query = ''' SELECT COUNT(DISTINCT r.username) AS user_count\n",
    "            FROM ratings AS r\n",
    "            INNER JOIN reviews AS rev on r.username=rev.username\n",
    "        '''\n",
    "\n",
    "user_count = pd.io.sql.read_sql(query, con=engine)\n",
    "\n",
    "user_count"
   ]
  },
  {
   "cell_type": "markdown",
   "id": "978a67fe",
   "metadata": {},
   "source": [
    "## Задание №1\n",
    "Посчитайте, сколько книг вышло после 1 января 2000 года"
   ]
  },
  {
   "cell_type": "code",
   "execution_count": 27,
   "id": "031174c3",
   "metadata": {},
   "outputs": [
    {
     "name": "stdout",
     "output_type": "stream",
     "text": [
      "после 1 января 2000 года вышло:\n"
     ]
    },
    {
     "data": {
      "text/html": [
       "<div>\n",
       "<style scoped>\n",
       "    .dataframe tbody tr th:only-of-type {\n",
       "        vertical-align: middle;\n",
       "    }\n",
       "\n",
       "    .dataframe tbody tr th {\n",
       "        vertical-align: top;\n",
       "    }\n",
       "\n",
       "    .dataframe thead th {\n",
       "        text-align: right;\n",
       "    }\n",
       "</style>\n",
       "<table border=\"1\" class=\"dataframe\">\n",
       "  <thead>\n",
       "    <tr style=\"text-align: right;\">\n",
       "      <th></th>\n",
       "      <th>count</th>\n",
       "    </tr>\n",
       "  </thead>\n",
       "  <tbody>\n",
       "    <tr>\n",
       "      <th>0</th>\n",
       "      <td>819</td>\n",
       "    </tr>\n",
       "  </tbody>\n",
       "</table>\n",
       "</div>"
      ],
      "text/plain": [
       "   count\n",
       "0    819"
      ]
     },
     "execution_count": 27,
     "metadata": {},
     "output_type": "execute_result"
    }
   ],
   "source": [
    "query = ''' SELECT COUNT(*)\n",
    "            FROM books\n",
    "            WHERE publication_date > DATE '2000-01-01';\n",
    "        '''\n",
    "print('после 1 января 2000 года вышло:')\n",
    "answer(query)"
   ]
  },
  {
   "cell_type": "markdown",
   "id": "c8c6102e",
   "metadata": {},
   "source": [
    "## Задание №2\n",
    "Для каждой книги посчитайте количество обзоров и среднюю оценку"
   ]
  },
  {
   "cell_type": "code",
   "execution_count": 28,
   "id": "83fbf1a1",
   "metadata": {},
   "outputs": [
    {
     "name": "stdout",
     "output_type": "stream",
     "text": [
      "выводим первые строки таблицы с количеством обзоров и средней оценкой книг:\n"
     ]
    },
    {
     "data": {
      "text/html": [
       "<div>\n",
       "<style scoped>\n",
       "    .dataframe tbody tr th:only-of-type {\n",
       "        vertical-align: middle;\n",
       "    }\n",
       "\n",
       "    .dataframe tbody tr th {\n",
       "        vertical-align: top;\n",
       "    }\n",
       "\n",
       "    .dataframe thead th {\n",
       "        text-align: right;\n",
       "    }\n",
       "</style>\n",
       "<table border=\"1\" class=\"dataframe\">\n",
       "  <thead>\n",
       "    <tr style=\"text-align: right;\">\n",
       "      <th></th>\n",
       "      <th>title</th>\n",
       "      <th>avg_rating</th>\n",
       "      <th>review_count</th>\n",
       "    </tr>\n",
       "    <tr>\n",
       "      <th>book_id</th>\n",
       "      <th></th>\n",
       "      <th></th>\n",
       "      <th></th>\n",
       "    </tr>\n",
       "  </thead>\n",
       "  <tbody>\n",
       "    <tr>\n",
       "      <th>1</th>\n",
       "      <td>'Salem's Lot</td>\n",
       "      <td>3.666667</td>\n",
       "      <td>2</td>\n",
       "    </tr>\n",
       "    <tr>\n",
       "      <th>2</th>\n",
       "      <td>1 000 Places to See Before You Die</td>\n",
       "      <td>2.500000</td>\n",
       "      <td>1</td>\n",
       "    </tr>\n",
       "    <tr>\n",
       "      <th>3</th>\n",
       "      <td>13 Little Blue Envelopes (Little Blue Envelope...</td>\n",
       "      <td>4.666667</td>\n",
       "      <td>3</td>\n",
       "    </tr>\n",
       "    <tr>\n",
       "      <th>4</th>\n",
       "      <td>1491: New Revelations of the Americas Before C...</td>\n",
       "      <td>4.500000</td>\n",
       "      <td>2</td>\n",
       "    </tr>\n",
       "    <tr>\n",
       "      <th>5</th>\n",
       "      <td>1776</td>\n",
       "      <td>4.000000</td>\n",
       "      <td>4</td>\n",
       "    </tr>\n",
       "  </tbody>\n",
       "</table>\n",
       "</div>"
      ],
      "text/plain": [
       "                                                     title  avg_rating  \\\n",
       "book_id                                                                  \n",
       "1                                             'Salem's Lot    3.666667   \n",
       "2                       1 000 Places to See Before You Die    2.500000   \n",
       "3        13 Little Blue Envelopes (Little Blue Envelope...    4.666667   \n",
       "4        1491: New Revelations of the Americas Before C...    4.500000   \n",
       "5                                                     1776    4.000000   \n",
       "\n",
       "         review_count  \n",
       "book_id                \n",
       "1                   2  \n",
       "2                   1  \n",
       "3                   3  \n",
       "4                   2  \n",
       "5                   4  "
      ]
     },
     "execution_count": 28,
     "metadata": {},
     "output_type": "execute_result"
    }
   ],
   "source": [
    "query = ''' SELECT r.book_id, \n",
    "                   b.title,\n",
    "                   AVG(r.rating) AS avg_rating, --- средняя оценка\n",
    "                   COUNT(DISTINCT rev.text) AS review_count --- количество обзоров\n",
    "            FROM ratings AS r\n",
    "                 INNER JOIN books AS b ON b.book_id = r.book_id --- объединение ratings и books (чтобы подцепить название книги)\n",
    "                 LEFT JOIN reviews AS rev ON r.book_id = rev.book_id --- объединние с reviews\n",
    "            GROUP BY r.book_id, b.title --- группировка по книгам\n",
    "        '''\n",
    "answer = pd.io.sql.read_sql(query, con=engine, index_col='book_id')\n",
    "print('выводим первые строки таблицы с количеством обзоров и средней оценкой книг:')\n",
    "answer.head()"
   ]
  },
  {
   "cell_type": "code",
   "execution_count": 29,
   "id": "3f249079",
   "metadata": {},
   "outputs": [
    {
     "data": {
      "text/plain": [
       "2793"
      ]
     },
     "execution_count": 29,
     "metadata": {},
     "output_type": "execute_result"
    }
   ],
   "source": [
    "answer['review_count'].sum()"
   ]
  },
  {
   "cell_type": "code",
   "execution_count": 30,
   "id": "3bcff35b",
   "metadata": {},
   "outputs": [
    {
     "data": {
      "text/plain": [
       "2793"
      ]
     },
     "execution_count": 30,
     "metadata": {},
     "output_type": "execute_result"
    }
   ],
   "source": [
    "reviews.shape[0]"
   ]
  },
  {
   "cell_type": "markdown",
   "id": "5c934bb8",
   "metadata": {},
   "source": [
    "books и rating соединяем INNER JOIN т.к. у них одинаковый набор книг. Reviews к ним присоединяем с помощью LEFT JOIN, чтобы книги, которых нет в reviews не потерялись. "
   ]
  },
  {
   "cell_type": "code",
   "execution_count": 31,
   "id": "b63f88d1",
   "metadata": {},
   "outputs": [
    {
     "data": {
      "text/html": [
       "<div>\n",
       "<style scoped>\n",
       "    .dataframe tbody tr th:only-of-type {\n",
       "        vertical-align: middle;\n",
       "    }\n",
       "\n",
       "    .dataframe tbody tr th {\n",
       "        vertical-align: top;\n",
       "    }\n",
       "\n",
       "    .dataframe thead th {\n",
       "        text-align: right;\n",
       "    }\n",
       "</style>\n",
       "<table border=\"1\" class=\"dataframe\">\n",
       "  <thead>\n",
       "    <tr style=\"text-align: right;\">\n",
       "      <th></th>\n",
       "      <th>title</th>\n",
       "      <th>avg_rating</th>\n",
       "      <th>review_count</th>\n",
       "    </tr>\n",
       "    <tr>\n",
       "      <th>book_id</th>\n",
       "      <th></th>\n",
       "      <th></th>\n",
       "      <th></th>\n",
       "    </tr>\n",
       "  </thead>\n",
       "  <tbody>\n",
       "    <tr>\n",
       "      <th>83</th>\n",
       "      <td>Anne Rice's The Vampire Lestat: A Graphic Novel</td>\n",
       "      <td>3.666667</td>\n",
       "      <td>0</td>\n",
       "    </tr>\n",
       "  </tbody>\n",
       "</table>\n",
       "</div>"
      ],
      "text/plain": [
       "                                                   title  avg_rating  \\\n",
       "book_id                                                                \n",
       "83       Anne Rice's The Vampire Lestat: A Graphic Novel    3.666667   \n",
       "\n",
       "         review_count  \n",
       "book_id                \n",
       "83                  0  "
      ]
     },
     "execution_count": 31,
     "metadata": {},
     "output_type": "execute_result"
    }
   ],
   "source": [
    "#проверяем как отобразились книги, которых нет в reviews - у них 0 в количестве обзоров - все корректно.\n",
    "answer.query('book_id == 83')"
   ]
  },
  {
   "cell_type": "code",
   "execution_count": 32,
   "id": "c97bea78",
   "metadata": {},
   "outputs": [
    {
     "data": {
      "text/plain": [
       "340"
      ]
     },
     "execution_count": 32,
     "metadata": {},
     "output_type": "execute_result"
    }
   ],
   "source": [
    "books['publisher_id'].nunique()"
   ]
  },
  {
   "cell_type": "markdown",
   "id": "3048020d",
   "metadata": {},
   "source": [
    "## Задание 3\n",
    "Определите издательство, которое выпустило наибольшее число книг толще 50 страниц — так вы исключите из анализа брошюры"
   ]
  },
  {
   "cell_type": "code",
   "execution_count": 33,
   "id": "755b3d26",
   "metadata": {},
   "outputs": [
    {
     "name": "stdout",
     "output_type": "stream",
     "text": [
      "издательство, выпустившие наибольшее количество книг толще 50 страниц:\n"
     ]
    },
    {
     "data": {
      "text/html": [
       "<div>\n",
       "<style scoped>\n",
       "    .dataframe tbody tr th:only-of-type {\n",
       "        vertical-align: middle;\n",
       "    }\n",
       "\n",
       "    .dataframe tbody tr th {\n",
       "        vertical-align: top;\n",
       "    }\n",
       "\n",
       "    .dataframe thead th {\n",
       "        text-align: right;\n",
       "    }\n",
       "</style>\n",
       "<table border=\"1\" class=\"dataframe\">\n",
       "  <thead>\n",
       "    <tr style=\"text-align: right;\">\n",
       "      <th></th>\n",
       "      <th>publisher</th>\n",
       "      <th>book_count</th>\n",
       "    </tr>\n",
       "  </thead>\n",
       "  <tbody>\n",
       "    <tr>\n",
       "      <th>0</th>\n",
       "      <td>Penguin Books</td>\n",
       "      <td>42</td>\n",
       "    </tr>\n",
       "  </tbody>\n",
       "</table>\n",
       "</div>"
      ],
      "text/plain": [
       "       publisher  book_count\n",
       "0  Penguin Books          42"
      ]
     },
     "execution_count": 33,
     "metadata": {},
     "output_type": "execute_result"
    }
   ],
   "source": [
    "query = ''' SELECT p.publisher,\n",
    "                   COUNT(b.title) AS book_count --- количество книг, выпущенное издательством\n",
    "            FROM books AS b\n",
    "                 INNER JOIN publishers AS p ON b.publisher_id = p.publisher_id \n",
    "            WHERE b.num_pages > 50 --- выбираем книги со страницами больше 50\n",
    "            GROUP BY p.publisher_id --- группировка по издательству\n",
    "            ORDER BY book_count DESC --- сортировка по убыванию\n",
    "            LIMIT 1 --- выбираем одно издательство\n",
    "        '''\n",
    "print('издательство, выпустившие наибольшее количество книг толще 50 страниц:')\n",
    "answer = pd.io.sql.read_sql(query, con=engine)\n",
    "answer"
   ]
  },
  {
   "cell_type": "markdown",
   "id": "a24de1d6",
   "metadata": {},
   "source": [
    "Количество издательств в books и publishers совпадают, поэтому INNER JOIN"
   ]
  },
  {
   "cell_type": "code",
   "execution_count": 34,
   "id": "9ddc11a6",
   "metadata": {},
   "outputs": [
    {
     "data": {
      "text/plain": [
       "636"
      ]
     },
     "execution_count": 34,
     "metadata": {},
     "output_type": "execute_result"
    }
   ],
   "source": [
    "books['author_id'].nunique()"
   ]
  },
  {
   "cell_type": "code",
   "execution_count": 35,
   "id": "577140e8",
   "metadata": {},
   "outputs": [
    {
     "data": {
      "text/plain": [
       "636"
      ]
     },
     "execution_count": 35,
     "metadata": {},
     "output_type": "execute_result"
    }
   ],
   "source": [
    "authors.shape[0]"
   ]
  },
  {
   "cell_type": "markdown",
   "id": "7a78df71",
   "metadata": {},
   "source": [
    "## Задание № 4\n",
    "Определите автора с самой высокой средней оценкой книг — учитывайте\n",
    "только книги с 50 и более оценками"
   ]
  },
  {
   "cell_type": "code",
   "execution_count": 36,
   "id": "74834eff",
   "metadata": {},
   "outputs": [
    {
     "name": "stdout",
     "output_type": "stream",
     "text": [
      "Автор с самой высокой средней оценкой книг (учитываются книги только книги с 50 и более оценками):\n"
     ]
    },
    {
     "data": {
      "text/html": [
       "<div>\n",
       "<style scoped>\n",
       "    .dataframe tbody tr th:only-of-type {\n",
       "        vertical-align: middle;\n",
       "    }\n",
       "\n",
       "    .dataframe tbody tr th {\n",
       "        vertical-align: top;\n",
       "    }\n",
       "\n",
       "    .dataframe thead th {\n",
       "        text-align: right;\n",
       "    }\n",
       "</style>\n",
       "<table border=\"1\" class=\"dataframe\">\n",
       "  <thead>\n",
       "    <tr style=\"text-align: right;\">\n",
       "      <th></th>\n",
       "      <th>author</th>\n",
       "      <th>book_rating</th>\n",
       "    </tr>\n",
       "  </thead>\n",
       "  <tbody>\n",
       "    <tr>\n",
       "      <th>0</th>\n",
       "      <td>J.K. Rowling/Mary GrandPré</td>\n",
       "      <td>4.287097</td>\n",
       "    </tr>\n",
       "  </tbody>\n",
       "</table>\n",
       "</div>"
      ],
      "text/plain": [
       "                       author  book_rating\n",
       "0  J.K. Rowling/Mary GrandPré     4.287097"
      ]
     },
     "execution_count": 36,
     "metadata": {},
     "output_type": "execute_result"
    }
   ],
   "source": [
    "query = ''' WITH\n",
    "            b AS (SELECT *\n",
    "                FROM books\n",
    "                WHERE book_id IN (SELECT book_id\n",
    "                                 FROM ratings \n",
    "                                 GROUP BY book_id\n",
    "                                 HAVING COUNT(rating) >= 50))\n",
    "            SELECT a.author, \n",
    "                   AVG(r.rating) AS book_rating\n",
    "            FROM b\n",
    "                 INNER JOIN authors AS a ON b.author_id = a.author_id\n",
    "                 INNER JOIN ratings as r ON b.book_id = r.book_id\n",
    "            GROUP BY a.author\n",
    "            ORDER BY book_rating DESC\n",
    "            LIMIT 1\n",
    "        '''\n",
    "print('Автор с самой высокой средней оценкой книг (учитываются книги только книги с 50 и более оценками):')\n",
    "answer = pd.io.sql.read_sql(query, con=engine)\n",
    "answer"
   ]
  },
  {
   "cell_type": "markdown",
   "id": "a95f29af",
   "metadata": {},
   "source": [
    "## Задание 5\n",
    "Посчитайте среднее количество обзоров от пользователей, которые поставили\n",
    "больше 50 оценок."
   ]
  },
  {
   "cell_type": "code",
   "execution_count": 37,
   "id": "f096e79f",
   "metadata": {},
   "outputs": [
    {
     "name": "stdout",
     "output_type": "stream",
     "text": [
      "среднее количество обзоров от пользователей, которые поставили больше 50 оценок:\n"
     ]
    },
    {
     "data": {
      "text/html": [
       "<div>\n",
       "<style scoped>\n",
       "    .dataframe tbody tr th:only-of-type {\n",
       "        vertical-align: middle;\n",
       "    }\n",
       "\n",
       "    .dataframe tbody tr th {\n",
       "        vertical-align: top;\n",
       "    }\n",
       "\n",
       "    .dataframe thead th {\n",
       "        text-align: right;\n",
       "    }\n",
       "</style>\n",
       "<table border=\"1\" class=\"dataframe\">\n",
       "  <thead>\n",
       "    <tr style=\"text-align: right;\">\n",
       "      <th></th>\n",
       "      <th>avg</th>\n",
       "    </tr>\n",
       "  </thead>\n",
       "  <tbody>\n",
       "    <tr>\n",
       "      <th>0</th>\n",
       "      <td>24.222222</td>\n",
       "    </tr>\n",
       "  </tbody>\n",
       "</table>\n",
       "</div>"
      ],
      "text/plain": [
       "         avg\n",
       "0  24.222222"
      ]
     },
     "execution_count": 37,
     "metadata": {},
     "output_type": "execute_result"
    }
   ],
   "source": [
    "query = '''SELECT AVG(users.reviews_count) --- среднее количество обзоров пользователей \n",
    "        FROM \n",
    "        (SELECT username, \n",
    "                COUNT(text) AS reviews_count\n",
    "        FROM reviews\n",
    "        WHERE username IN (SELECT username --- пользователи поставившие больше 50 оценок\n",
    "                           FROM ratings\n",
    "                           GROUP by username\n",
    "                           HAVING COUNT(rating) >= 50)\n",
    "        GROUP BY username) AS users\n",
    "        '''\n",
    "print('среднее количество обзоров от пользователей, которые поставили больше 50 оценок:')\n",
    "answer = pd.io.sql.read_sql(query, con=engine)\n",
    "answer"
   ]
  },
  {
   "cell_type": "code",
   "execution_count": null,
   "id": "9ec47810",
   "metadata": {},
   "outputs": [],
   "source": []
  }
 ],
 "metadata": {
  "ExecuteTimeLog": [
   {
    "duration": 488,
    "start_time": "2022-05-24T13:01:41.591Z"
   },
   {
    "duration": 41,
    "start_time": "2022-05-24T13:01:42.080Z"
   },
   {
    "duration": 3,
    "start_time": "2022-05-24T13:01:42.123Z"
   },
   {
    "duration": 80,
    "start_time": "2022-05-24T13:01:42.128Z"
   },
   {
    "duration": 17,
    "start_time": "2022-05-24T13:01:42.209Z"
   },
   {
    "duration": 4,
    "start_time": "2022-05-24T13:01:42.228Z"
   },
   {
    "duration": 12,
    "start_time": "2022-05-24T13:01:42.234Z"
   },
   {
    "duration": 29,
    "start_time": "2022-05-24T13:01:42.248Z"
   },
   {
    "duration": 5,
    "start_time": "2022-05-24T13:01:42.279Z"
   },
   {
    "duration": 10,
    "start_time": "2022-05-24T13:01:42.287Z"
   },
   {
    "duration": 7,
    "start_time": "2022-05-24T13:01:42.327Z"
   },
   {
    "duration": 32,
    "start_time": "2022-05-24T13:01:42.335Z"
   },
   {
    "duration": 4,
    "start_time": "2022-05-24T13:01:42.368Z"
   },
   {
    "duration": 15,
    "start_time": "2022-05-24T13:01:42.373Z"
   },
   {
    "duration": 5,
    "start_time": "2022-05-24T13:01:42.389Z"
   },
   {
    "duration": 12,
    "start_time": "2022-05-24T13:01:42.395Z"
   },
   {
    "duration": 11,
    "start_time": "2022-05-24T13:01:42.427Z"
   },
   {
    "duration": 5,
    "start_time": "2022-05-24T13:01:42.439Z"
   },
   {
    "duration": 13,
    "start_time": "2022-05-24T13:01:42.445Z"
   },
   {
    "duration": 16,
    "start_time": "2022-05-24T13:01:42.459Z"
   },
   {
    "duration": 4,
    "start_time": "2022-05-24T13:01:42.477Z"
   },
   {
    "duration": 9,
    "start_time": "2022-05-24T13:01:42.482Z"
   },
   {
    "duration": 7,
    "start_time": "2022-05-24T13:01:42.492Z"
   },
   {
    "duration": 5,
    "start_time": "2022-05-24T13:01:42.527Z"
   },
   {
    "duration": 10,
    "start_time": "2022-05-24T13:01:42.533Z"
   },
   {
    "duration": 63,
    "start_time": "2022-05-24T13:01:42.545Z"
   },
   {
    "duration": 11,
    "start_time": "2022-05-24T13:01:42.610Z"
   },
   {
    "duration": 36,
    "start_time": "2022-05-24T13:01:42.623Z"
   },
   {
    "duration": 9,
    "start_time": "2022-05-24T13:01:42.661Z"
   },
   {
    "duration": 4,
    "start_time": "2022-05-24T13:01:42.672Z"
   },
   {
    "duration": 13,
    "start_time": "2022-05-24T13:01:42.677Z"
   },
   {
    "duration": 4,
    "start_time": "2022-05-24T13:01:42.692Z"
   },
   {
    "duration": 6,
    "start_time": "2022-05-24T13:01:42.698Z"
   },
   {
    "duration": 68,
    "start_time": "2022-05-24T13:01:42.705Z"
   },
   {
    "duration": 18,
    "start_time": "2022-05-24T13:01:42.774Z"
   },
   {
    "duration": 42,
    "start_time": "2022-05-24T13:02:33.476Z"
   },
   {
    "duration": 18,
    "start_time": "2022-05-24T13:03:20.888Z"
   },
   {
    "duration": 15,
    "start_time": "2022-05-24T13:03:26.804Z"
   },
   {
    "duration": 474,
    "start_time": "2022-05-24T13:25:44.180Z"
   },
   {
    "duration": 41,
    "start_time": "2022-05-24T13:25:44.657Z"
   },
   {
    "duration": 3,
    "start_time": "2022-05-24T13:25:44.699Z"
   },
   {
    "duration": 256,
    "start_time": "2022-05-24T13:25:44.704Z"
   },
   {
    "duration": 70,
    "start_time": "2022-05-24T13:25:44.966Z"
   },
   {
    "duration": 4,
    "start_time": "2022-05-24T13:25:45.038Z"
   },
   {
    "duration": 70,
    "start_time": "2022-05-24T13:25:45.044Z"
   },
   {
    "duration": 104,
    "start_time": "2022-05-24T13:25:45.115Z"
   },
   {
    "duration": 5,
    "start_time": "2022-05-24T13:25:45.221Z"
   },
   {
    "duration": 71,
    "start_time": "2022-05-24T13:25:45.228Z"
   },
   {
    "duration": 7,
    "start_time": "2022-05-24T13:25:45.301Z"
   },
   {
    "duration": 94,
    "start_time": "2022-05-24T13:25:45.309Z"
   },
   {
    "duration": 5,
    "start_time": "2022-05-24T13:25:45.405Z"
   },
   {
    "duration": 70,
    "start_time": "2022-05-24T13:25:45.413Z"
   },
   {
    "duration": 7,
    "start_time": "2022-05-24T13:25:45.484Z"
   },
   {
    "duration": 70,
    "start_time": "2022-05-24T13:25:45.493Z"
   },
   {
    "duration": 63,
    "start_time": "2022-05-24T13:25:45.564Z"
   },
   {
    "duration": 6,
    "start_time": "2022-05-24T13:25:45.629Z"
   },
   {
    "duration": 67,
    "start_time": "2022-05-24T13:25:45.636Z"
   },
   {
    "duration": 70,
    "start_time": "2022-05-24T13:25:45.705Z"
   },
   {
    "duration": 6,
    "start_time": "2022-05-24T13:25:45.776Z"
   },
   {
    "duration": 13,
    "start_time": "2022-05-24T13:25:45.783Z"
   },
   {
    "duration": 6,
    "start_time": "2022-05-24T13:25:45.798Z"
   },
   {
    "duration": 6,
    "start_time": "2022-05-24T13:25:45.806Z"
   },
   {
    "duration": 10,
    "start_time": "2022-05-24T13:25:45.814Z"
   },
   {
    "duration": 117,
    "start_time": "2022-05-24T13:25:45.826Z"
   },
   {
    "duration": 70,
    "start_time": "2022-05-24T13:25:45.945Z"
   },
   {
    "duration": 92,
    "start_time": "2022-05-24T13:25:46.018Z"
   },
   {
    "duration": 10,
    "start_time": "2022-05-24T13:25:46.112Z"
   },
   {
    "duration": 4,
    "start_time": "2022-05-24T13:25:46.123Z"
   },
   {
    "duration": 66,
    "start_time": "2022-05-24T13:25:46.129Z"
   },
   {
    "duration": 4,
    "start_time": "2022-05-24T13:25:46.197Z"
   },
   {
    "duration": 8,
    "start_time": "2022-05-24T13:25:46.203Z"
   },
   {
    "duration": 144,
    "start_time": "2022-05-24T13:25:46.213Z"
   },
   {
    "duration": 68,
    "start_time": "2022-05-24T13:25:46.358Z"
   },
   {
    "duration": 600,
    "start_time": "2022-05-24T13:27:37.389Z"
   },
   {
    "duration": 409,
    "start_time": "2022-05-24T13:27:50.052Z"
   },
   {
    "duration": 104,
    "start_time": "2022-05-24T13:28:36.394Z"
   },
   {
    "duration": 4,
    "start_time": "2022-05-24T13:28:43.451Z"
   },
   {
    "duration": 105,
    "start_time": "2022-05-24T13:29:20.279Z"
   },
   {
    "duration": 4,
    "start_time": "2022-05-24T13:29:30.029Z"
   },
   {
    "duration": 3,
    "start_time": "2022-05-24T13:30:08.122Z"
   },
   {
    "duration": 133,
    "start_time": "2022-05-24T13:36:27.902Z"
   },
   {
    "duration": 306,
    "start_time": "2022-05-24T13:37:13.709Z"
   },
   {
    "duration": 329,
    "start_time": "2022-05-24T13:37:42.360Z"
   },
   {
    "duration": 92,
    "start_time": "2022-05-24T13:44:09.697Z"
   },
   {
    "duration": 109,
    "start_time": "2022-05-24T13:44:57.147Z"
   },
   {
    "duration": 86,
    "start_time": "2022-05-24T13:45:30.557Z"
   },
   {
    "duration": 114,
    "start_time": "2022-05-24T13:45:49.291Z"
   },
   {
    "duration": 67,
    "start_time": "2022-05-24T13:46:49.248Z"
   },
   {
    "duration": 121,
    "start_time": "2022-05-24T13:48:02.594Z"
   },
   {
    "duration": 62,
    "start_time": "2022-05-24T13:48:20.727Z"
   },
   {
    "duration": 64,
    "start_time": "2022-05-24T13:48:33.373Z"
   },
   {
    "duration": 489,
    "start_time": "2022-05-24T14:02:58.168Z"
   },
   {
    "duration": 41,
    "start_time": "2022-05-24T14:02:58.659Z"
   },
   {
    "duration": 4,
    "start_time": "2022-05-24T14:02:58.702Z"
   },
   {
    "duration": 256,
    "start_time": "2022-05-24T14:02:58.708Z"
   },
   {
    "duration": 69,
    "start_time": "2022-05-24T14:02:58.968Z"
   },
   {
    "duration": 5,
    "start_time": "2022-05-24T14:02:59.039Z"
   },
   {
    "duration": 66,
    "start_time": "2022-05-24T14:02:59.046Z"
   },
   {
    "duration": 91,
    "start_time": "2022-05-24T14:02:59.114Z"
   },
   {
    "duration": 5,
    "start_time": "2022-05-24T14:02:59.206Z"
   },
   {
    "duration": 77,
    "start_time": "2022-05-24T14:02:59.212Z"
   },
   {
    "duration": 5,
    "start_time": "2022-05-24T14:02:59.291Z"
   },
   {
    "duration": 98,
    "start_time": "2022-05-24T14:02:59.297Z"
   },
   {
    "duration": 4,
    "start_time": "2022-05-24T14:02:59.397Z"
   },
   {
    "duration": 71,
    "start_time": "2022-05-24T14:02:59.404Z"
   },
   {
    "duration": 6,
    "start_time": "2022-05-24T14:02:59.477Z"
   },
   {
    "duration": 73,
    "start_time": "2022-05-24T14:02:59.485Z"
   },
   {
    "duration": 64,
    "start_time": "2022-05-24T14:02:59.561Z"
   },
   {
    "duration": 6,
    "start_time": "2022-05-24T14:02:59.627Z"
   },
   {
    "duration": 69,
    "start_time": "2022-05-24T14:02:59.635Z"
   },
   {
    "duration": 71,
    "start_time": "2022-05-24T14:02:59.705Z"
   },
   {
    "duration": 5,
    "start_time": "2022-05-24T14:02:59.777Z"
   },
   {
    "duration": 9,
    "start_time": "2022-05-24T14:02:59.783Z"
   },
   {
    "duration": 10,
    "start_time": "2022-05-24T14:02:59.793Z"
   },
   {
    "duration": 7,
    "start_time": "2022-05-24T14:02:59.805Z"
   },
   {
    "duration": 7,
    "start_time": "2022-05-24T14:02:59.814Z"
   },
   {
    "duration": 121,
    "start_time": "2022-05-24T14:02:59.822Z"
   },
   {
    "duration": 65,
    "start_time": "2022-05-24T14:02:59.945Z"
   },
   {
    "duration": 169,
    "start_time": "2022-05-24T14:03:00.011Z"
   },
   {
    "duration": 4,
    "start_time": "2022-05-24T14:03:00.182Z"
   },
   {
    "duration": 20,
    "start_time": "2022-05-24T14:03:00.188Z"
   },
   {
    "duration": 19,
    "start_time": "2022-05-24T14:03:00.210Z"
   },
   {
    "duration": 7,
    "start_time": "2022-05-24T14:03:00.230Z"
   },
   {
    "duration": 77,
    "start_time": "2022-05-24T14:03:00.239Z"
   },
   {
    "duration": 5,
    "start_time": "2022-05-24T14:03:00.317Z"
   },
   {
    "duration": 16,
    "start_time": "2022-05-24T14:03:00.323Z"
   },
   {
    "duration": 73,
    "start_time": "2022-05-24T14:03:00.341Z"
   },
   {
    "duration": 66,
    "start_time": "2022-05-24T14:03:00.415Z"
   },
   {
    "duration": 112,
    "start_time": "2022-05-24T14:03:53.267Z"
   },
   {
    "duration": 617,
    "start_time": "2022-05-24T14:08:47.418Z"
   },
   {
    "duration": 53,
    "start_time": "2022-05-24T14:08:48.038Z"
   },
   {
    "duration": 4,
    "start_time": "2022-05-24T14:08:48.094Z"
   },
   {
    "duration": 289,
    "start_time": "2022-05-24T14:08:48.101Z"
   },
   {
    "duration": 78,
    "start_time": "2022-05-24T14:08:48.392Z"
   },
   {
    "duration": 6,
    "start_time": "2022-05-24T14:08:48.473Z"
   },
   {
    "duration": 73,
    "start_time": "2022-05-24T14:08:48.481Z"
   },
   {
    "duration": 99,
    "start_time": "2022-05-24T14:08:48.556Z"
   },
   {
    "duration": 7,
    "start_time": "2022-05-24T14:08:48.657Z"
   },
   {
    "duration": 81,
    "start_time": "2022-05-24T14:08:48.666Z"
   },
   {
    "duration": 8,
    "start_time": "2022-05-24T14:08:48.749Z"
   },
   {
    "duration": 113,
    "start_time": "2022-05-24T14:08:48.759Z"
   },
   {
    "duration": 5,
    "start_time": "2022-05-24T14:08:48.874Z"
   },
   {
    "duration": 86,
    "start_time": "2022-05-24T14:08:48.881Z"
   },
   {
    "duration": 10,
    "start_time": "2022-05-24T14:08:48.969Z"
   },
   {
    "duration": 84,
    "start_time": "2022-05-24T14:08:48.981Z"
   },
   {
    "duration": 68,
    "start_time": "2022-05-24T14:08:49.067Z"
   },
   {
    "duration": 8,
    "start_time": "2022-05-24T14:08:49.137Z"
   },
   {
    "duration": 78,
    "start_time": "2022-05-24T14:08:49.147Z"
   },
   {
    "duration": 71,
    "start_time": "2022-05-24T14:08:49.227Z"
   },
   {
    "duration": 13,
    "start_time": "2022-05-24T14:08:49.300Z"
   },
   {
    "duration": 10,
    "start_time": "2022-05-24T14:08:49.315Z"
   },
   {
    "duration": 22,
    "start_time": "2022-05-24T14:08:49.327Z"
   },
   {
    "duration": 14,
    "start_time": "2022-05-24T14:08:49.351Z"
   },
   {
    "duration": 16,
    "start_time": "2022-05-24T14:08:49.367Z"
   },
   {
    "duration": 116,
    "start_time": "2022-05-24T14:08:49.384Z"
   },
   {
    "duration": 66,
    "start_time": "2022-05-24T14:08:49.502Z"
   },
   {
    "duration": 102,
    "start_time": "2022-05-24T14:08:49.573Z"
   },
   {
    "duration": 4,
    "start_time": "2022-05-24T14:08:49.677Z"
   },
   {
    "duration": 9,
    "start_time": "2022-05-24T14:08:49.683Z"
   },
   {
    "duration": 11,
    "start_time": "2022-05-24T14:08:49.694Z"
   },
   {
    "duration": 4,
    "start_time": "2022-05-24T14:08:49.707Z"
   },
   {
    "duration": 121,
    "start_time": "2022-05-24T14:08:49.714Z"
   },
   {
    "duration": 6,
    "start_time": "2022-05-24T14:08:49.838Z"
   },
   {
    "duration": 15,
    "start_time": "2022-05-24T14:08:49.845Z"
   },
   {
    "duration": 79,
    "start_time": "2022-05-24T14:08:49.862Z"
   },
   {
    "duration": 70,
    "start_time": "2022-05-24T14:08:49.943Z"
   },
   {
    "duration": 548,
    "start_time": "2022-05-24T14:11:43.507Z"
   },
   {
    "duration": 43,
    "start_time": "2022-05-24T14:11:44.057Z"
   },
   {
    "duration": 4,
    "start_time": "2022-05-24T14:11:44.102Z"
   },
   {
    "duration": 288,
    "start_time": "2022-05-24T14:11:44.109Z"
   },
   {
    "duration": 78,
    "start_time": "2022-05-24T14:11:44.399Z"
   },
   {
    "duration": 6,
    "start_time": "2022-05-24T14:11:44.478Z"
   },
   {
    "duration": 72,
    "start_time": "2022-05-24T14:11:44.485Z"
   },
   {
    "duration": 99,
    "start_time": "2022-05-24T14:11:44.559Z"
   },
   {
    "duration": 5,
    "start_time": "2022-05-24T14:11:44.659Z"
   },
   {
    "duration": 73,
    "start_time": "2022-05-24T14:11:44.666Z"
   },
   {
    "duration": 6,
    "start_time": "2022-05-24T14:11:44.740Z"
   },
   {
    "duration": 95,
    "start_time": "2022-05-24T14:11:44.747Z"
   },
   {
    "duration": 4,
    "start_time": "2022-05-24T14:11:44.845Z"
   },
   {
    "duration": 82,
    "start_time": "2022-05-24T14:11:44.851Z"
   },
   {
    "duration": 7,
    "start_time": "2022-05-24T14:11:44.935Z"
   },
   {
    "duration": 80,
    "start_time": "2022-05-24T14:11:44.944Z"
   },
   {
    "duration": 79,
    "start_time": "2022-05-24T14:11:45.026Z"
   },
   {
    "duration": 6,
    "start_time": "2022-05-24T14:11:45.107Z"
   },
   {
    "duration": 76,
    "start_time": "2022-05-24T14:11:45.115Z"
   },
   {
    "duration": 76,
    "start_time": "2022-05-24T14:11:45.193Z"
   },
   {
    "duration": 5,
    "start_time": "2022-05-24T14:11:45.272Z"
   },
   {
    "duration": 17,
    "start_time": "2022-05-24T14:11:45.279Z"
   },
   {
    "duration": 13,
    "start_time": "2022-05-24T14:11:45.298Z"
   },
   {
    "duration": 7,
    "start_time": "2022-05-24T14:11:45.313Z"
   },
   {
    "duration": 10,
    "start_time": "2022-05-24T14:11:45.322Z"
   },
   {
    "duration": 119,
    "start_time": "2022-05-24T14:11:45.334Z"
   },
   {
    "duration": 68,
    "start_time": "2022-05-24T14:11:45.454Z"
   },
   {
    "duration": 105,
    "start_time": "2022-05-24T14:11:45.525Z"
   },
   {
    "duration": 4,
    "start_time": "2022-05-24T14:11:45.632Z"
   },
   {
    "duration": 7,
    "start_time": "2022-05-24T14:11:45.637Z"
   },
   {
    "duration": 13,
    "start_time": "2022-05-24T14:11:45.646Z"
   },
   {
    "duration": 8,
    "start_time": "2022-05-24T14:11:45.660Z"
   },
   {
    "duration": 125,
    "start_time": "2022-05-24T14:11:45.669Z"
   },
   {
    "duration": 4,
    "start_time": "2022-05-24T14:11:45.796Z"
   },
   {
    "duration": 11,
    "start_time": "2022-05-24T14:11:45.802Z"
   },
   {
    "duration": 77,
    "start_time": "2022-05-24T14:11:45.815Z"
   },
   {
    "duration": 73,
    "start_time": "2022-05-24T14:11:45.894Z"
   }
  ],
  "kernelspec": {
   "display_name": "Python 3",
   "language": "python",
   "name": "python3"
  },
  "language_info": {
   "codemirror_mode": {
    "name": "ipython",
    "version": 3
   },
   "file_extension": ".py",
   "mimetype": "text/x-python",
   "name": "python",
   "nbconvert_exporter": "python",
   "pygments_lexer": "ipython3",
   "version": "3.8.8"
  },
  "toc": {
   "base_numbering": 1,
   "nav_menu": {},
   "number_sections": false,
   "sideBar": true,
   "skip_h1_title": false,
   "title_cell": "Table of Contents",
   "title_sidebar": "Contents",
   "toc_cell": false,
   "toc_position": {},
   "toc_section_display": true,
   "toc_window_display": true
  }
 },
 "nbformat": 4,
 "nbformat_minor": 5
}
