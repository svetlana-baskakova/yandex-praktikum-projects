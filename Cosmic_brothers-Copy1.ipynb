{
 "cells": [
  {
   "cell_type": "markdown",
   "metadata": {},
   "source": [
    "# КОСМИЧЕСКИЕ БРАТЬЯ"
   ]
  },
  {
   "cell_type": "markdown",
   "metadata": {},
   "source": [
    "## Материалы"
   ]
  },
  {
   "cell_type": "markdown",
   "metadata": {},
   "source": [
    "[Презентация] https://disk.yandex.ru/i/nCtmTabymZg0ig \n",
    "\n",
    "[Дашборд] https://public.tableau.com/authoring/Cosmic_brothers/Dashboard1#1\n"
   ]
  },
  {
   "cell_type": "markdown",
   "metadata": {},
   "source": [
    "## Описание проекта"
   ]
  },
  {
   "cell_type": "markdown",
   "metadata": {},
   "source": [
    "Для новой мобильной игры Космические братья нужно проанализировать поведение игроков (какие стратегии игры выбирают, какие объекты строят, сколько времени проводят в игре...). Предполагается, что в приложении будет происходить показ рекламы на экране с выбором типа объекта для постройки.\n",
    "\n",
    "В датасете представлены данные по игре пользователей на первом уровне. **Завершение первого уровня** требует от игрока выполнения одного из двух условий:\n",
    "* **Победа над первым врагом**\n",
    "* **Реализация проекта - разработка орбитальной сборки спутников**\n",
    "\n",
    "### Описание данных\n",
    "*удалено по требованиям правообладателя*\n",
    "\n",
    "### Задачи\n",
    "\n",
    "***Исследование - Проанализируйте поведения игроков в зависимости от источника перехода.***\n",
    "1. Проведите исследовательский анализ данных;\n",
    "2. Проанализируйте влияние источника перехода в игру на поведение пользователя;\n",
    "3. Проверьте гипотезу: ***время завершения уровня различается в зависимости способа прохождения***:\n",
    "* через реализацию проекта,\n",
    "* через победу над первым игроком.\n",
    "4. Сформулируйте ***собственную статистическую гипотезу***. Дополните её нулевой и альтернативной гипотезами. Проверьте гипотезу с помощью статистического теста.\n",
    "5. Проанализируйте возможности размещения рекламы при постройке объектов\n",
    "***По итогам исследования подготовьте*** \n",
    "* ***презентацию***, в формате pdf \n",
    "* ***дашборд:*** *(выбрала только один набор для дашборда)*\n",
    "    1. Диаграмма распределения количества построенных объектов\n",
    "    2. Добавьте индикатор количества пользователей\n",
    "    3. Добавьте фильтр дашборда по признаку завершения уровня"
   ]
  },
  {
   "cell_type": "markdown",
   "metadata": {},
   "source": [
    "## Загрузка и предобработка данных"
   ]
  },
  {
   "cell_type": "code",
   "execution_count": 1,
   "metadata": {},
   "outputs": [],
   "source": [
    "import pandas as pd\n",
    "import matplotlib.pyplot as plt\n",
    "import seaborn as sns\n",
    "import plotly.express as px\n",
    "pd.set_option('display.float_format', '{:,.2f}'.format)\n",
    "import warnings\n",
    "from datetime import datetime, timedelta\n",
    "warnings.filterwarnings('ignore')\n",
    "import numpy as np\n",
    "import scipy.stats as stats\n",
    "import math\n",
    "import itertools"
   ]
  },
  {
   "cell_type": "markdown",
   "metadata": {},
   "source": [
    "### cost"
   ]
  },
  {
   "cell_type": "code",
   "execution_count": 2,
   "metadata": {},
   "outputs": [
    {
     "data": {
      "text/html": [
       "<div>\n",
       "<style scoped>\n",
       "    .dataframe tbody tr th:only-of-type {\n",
       "        vertical-align: middle;\n",
       "    }\n",
       "\n",
       "    .dataframe tbody tr th {\n",
       "        vertical-align: top;\n",
       "    }\n",
       "\n",
       "    .dataframe thead th {\n",
       "        text-align: right;\n",
       "    }\n",
       "</style>\n",
       "<table border=\"1\" class=\"dataframe\">\n",
       "  <thead>\n",
       "    <tr style=\"text-align: right;\">\n",
       "      <th></th>\n",
       "      <th>source</th>\n",
       "      <th>day</th>\n",
       "      <th>cost</th>\n",
       "    </tr>\n",
       "  </thead>\n",
       "  <tbody>\n",
       "    <tr>\n",
       "      <th>0</th>\n",
       "      <td>facebook_ads</td>\n",
       "      <td>2020-05-03</td>\n",
       "      <td>935.88</td>\n",
       "    </tr>\n",
       "    <tr>\n",
       "      <th>1</th>\n",
       "      <td>facebook_ads</td>\n",
       "      <td>2020-05-04</td>\n",
       "      <td>548.35</td>\n",
       "    </tr>\n",
       "    <tr>\n",
       "      <th>2</th>\n",
       "      <td>facebook_ads</td>\n",
       "      <td>2020-05-05</td>\n",
       "      <td>260.19</td>\n",
       "    </tr>\n",
       "    <tr>\n",
       "      <th>3</th>\n",
       "      <td>facebook_ads</td>\n",
       "      <td>2020-05-06</td>\n",
       "      <td>177.98</td>\n",
       "    </tr>\n",
       "    <tr>\n",
       "      <th>4</th>\n",
       "      <td>facebook_ads</td>\n",
       "      <td>2020-05-07</td>\n",
       "      <td>111.77</td>\n",
       "    </tr>\n",
       "  </tbody>\n",
       "</table>\n",
       "</div>"
      ],
      "text/plain": [
       "         source         day   cost\n",
       "0  facebook_ads  2020-05-03 935.88\n",
       "1  facebook_ads  2020-05-04 548.35\n",
       "2  facebook_ads  2020-05-05 260.19\n",
       "3  facebook_ads  2020-05-06 177.98\n",
       "4  facebook_ads  2020-05-07 111.77"
      ]
     },
     "metadata": {},
     "output_type": "display_data"
    },
    {
     "name": "stdout",
     "output_type": "stream",
     "text": [
      "<class 'pandas.core.frame.DataFrame'>\n",
      "RangeIndex: 28 entries, 0 to 27\n",
      "Data columns (total 3 columns):\n",
      " #   Column  Non-Null Count  Dtype  \n",
      "---  ------  --------------  -----  \n",
      " 0   source  28 non-null     object \n",
      " 1   day     28 non-null     object \n",
      " 2   cost    28 non-null     float64\n",
      "dtypes: float64(1), object(2)\n",
      "memory usage: 800.0+ bytes\n"
     ]
    },
    {
     "data": {
      "text/plain": [
       "None"
      ]
     },
     "metadata": {},
     "output_type": "display_data"
    },
    {
     "data": {
      "text/plain": [
       "(None, None)"
      ]
     },
     "execution_count": 2,
     "metadata": {},
     "output_type": "execute_result"
    }
   ],
   "source": [
    "try: \n",
    "    cost = pd.read_csv('/datasets/ad_costs.csv')\n",
    "except:\n",
    "    cost = pd.read_csv('ad_costs.csv')\n",
    "    \n",
    "def first(df):\n",
    "    return display(df.head()), display(df.info())\n",
    "                                        \n",
    "first(cost)"
   ]
  },
  {
   "cell_type": "code",
   "execution_count": 3,
   "metadata": {},
   "outputs": [
    {
     "data": {
      "text/plain": [
       "array(['facebook_ads', 'instagram_new_adverts', 'yandex_direct',\n",
       "       'youtube_channel_reklama'], dtype=object)"
      ]
     },
     "execution_count": 3,
     "metadata": {},
     "output_type": "execute_result"
    }
   ],
   "source": [
    "#смотрим уникальные значения в столбце - варианты источников\n",
    "cost['source'].unique()"
   ]
  },
  {
   "cell_type": "code",
   "execution_count": 4,
   "metadata": {},
   "outputs": [
    {
     "data": {
      "text/plain": [
       "array(['2020-05-03', '2020-05-04', '2020-05-05', '2020-05-06',\n",
       "       '2020-05-07', '2020-05-08', '2020-05-09'], dtype=object)"
      ]
     },
     "execution_count": 4,
     "metadata": {},
     "output_type": "execute_result"
    }
   ],
   "source": [
    "#cмотрим в какие даты привлекались пользователи\n",
    "cost['day'].unique()"
   ]
  },
  {
   "cell_type": "code",
   "execution_count": 5,
   "metadata": {},
   "outputs": [
    {
     "data": {
      "text/html": [
       "<div>\n",
       "<style scoped>\n",
       "    .dataframe tbody tr th:only-of-type {\n",
       "        vertical-align: middle;\n",
       "    }\n",
       "\n",
       "    .dataframe tbody tr th {\n",
       "        vertical-align: top;\n",
       "    }\n",
       "\n",
       "    .dataframe thead th {\n",
       "        text-align: right;\n",
       "    }\n",
       "</style>\n",
       "<table border=\"1\" class=\"dataframe\">\n",
       "  <thead>\n",
       "    <tr style=\"text-align: right;\">\n",
       "      <th></th>\n",
       "      <th>source</th>\n",
       "      <th>day</th>\n",
       "      <th>cost</th>\n",
       "    </tr>\n",
       "  </thead>\n",
       "  <tbody>\n",
       "  </tbody>\n",
       "</table>\n",
       "</div>"
      ],
      "text/plain": [
       "Empty DataFrame\n",
       "Columns: [source, day, cost]\n",
       "Index: []"
      ]
     },
     "execution_count": 5,
     "metadata": {},
     "output_type": "execute_result"
    }
   ],
   "source": [
    "#проверяем, есть ли дубликаты\n",
    "cost[cost.duplicated(keep = False)] "
   ]
  },
  {
   "cell_type": "code",
   "execution_count": 6,
   "metadata": {},
   "outputs": [],
   "source": [
    "#переводим дату в формат datetime\n",
    "cost['day'] = pd.to_datetime(cost['day']).dt.date"
   ]
  },
  {
   "cell_type": "markdown",
   "metadata": {},
   "source": [
    "Клиенты привлекались по четырем источникам в течение недели с 3 мая по 9 мая включительно. Всего в датасете 28 строк (4 источников * 7 дней). Пропусков и дубликатов нет."
   ]
  },
  {
   "cell_type": "markdown",
   "metadata": {},
   "source": [
    "### game"
   ]
  },
  {
   "cell_type": "code",
   "execution_count": 7,
   "metadata": {},
   "outputs": [
    {
     "data": {
      "text/html": [
       "<div>\n",
       "<style scoped>\n",
       "    .dataframe tbody tr th:only-of-type {\n",
       "        vertical-align: middle;\n",
       "    }\n",
       "\n",
       "    .dataframe tbody tr th {\n",
       "        vertical-align: top;\n",
       "    }\n",
       "\n",
       "    .dataframe thead th {\n",
       "        text-align: right;\n",
       "    }\n",
       "</style>\n",
       "<table border=\"1\" class=\"dataframe\">\n",
       "  <thead>\n",
       "    <tr style=\"text-align: right;\">\n",
       "      <th></th>\n",
       "      <th>event_datetime</th>\n",
       "      <th>event</th>\n",
       "      <th>building_type</th>\n",
       "      <th>user_id</th>\n",
       "      <th>project_type</th>\n",
       "    </tr>\n",
       "  </thead>\n",
       "  <tbody>\n",
       "    <tr>\n",
       "      <th>0</th>\n",
       "      <td>2020-05-04 00:00:01</td>\n",
       "      <td>building</td>\n",
       "      <td>assembly_shop</td>\n",
       "      <td>55e92310-cb8e-4754-b622-597e124b03de</td>\n",
       "      <td>NaN</td>\n",
       "    </tr>\n",
       "    <tr>\n",
       "      <th>1</th>\n",
       "      <td>2020-05-04 00:00:03</td>\n",
       "      <td>building</td>\n",
       "      <td>assembly_shop</td>\n",
       "      <td>c07b1c10-f477-44dc-81dc-ec82254b1347</td>\n",
       "      <td>NaN</td>\n",
       "    </tr>\n",
       "    <tr>\n",
       "      <th>2</th>\n",
       "      <td>2020-05-04 00:00:16</td>\n",
       "      <td>building</td>\n",
       "      <td>assembly_shop</td>\n",
       "      <td>6edd42cc-e753-4ff6-a947-2107cd560710</td>\n",
       "      <td>NaN</td>\n",
       "    </tr>\n",
       "    <tr>\n",
       "      <th>3</th>\n",
       "      <td>2020-05-04 00:00:16</td>\n",
       "      <td>building</td>\n",
       "      <td>assembly_shop</td>\n",
       "      <td>92c69003-d60a-444a-827f-8cc51bf6bf4c</td>\n",
       "      <td>NaN</td>\n",
       "    </tr>\n",
       "    <tr>\n",
       "      <th>4</th>\n",
       "      <td>2020-05-04 00:00:35</td>\n",
       "      <td>building</td>\n",
       "      <td>assembly_shop</td>\n",
       "      <td>cdc6bb92-0ccb-4490-9866-ef142f09139d</td>\n",
       "      <td>NaN</td>\n",
       "    </tr>\n",
       "  </tbody>\n",
       "</table>\n",
       "</div>"
      ],
      "text/plain": [
       "        event_datetime     event  building_type  \\\n",
       "0  2020-05-04 00:00:01  building  assembly_shop   \n",
       "1  2020-05-04 00:00:03  building  assembly_shop   \n",
       "2  2020-05-04 00:00:16  building  assembly_shop   \n",
       "3  2020-05-04 00:00:16  building  assembly_shop   \n",
       "4  2020-05-04 00:00:35  building  assembly_shop   \n",
       "\n",
       "                                user_id project_type  \n",
       "0  55e92310-cb8e-4754-b622-597e124b03de          NaN  \n",
       "1  c07b1c10-f477-44dc-81dc-ec82254b1347          NaN  \n",
       "2  6edd42cc-e753-4ff6-a947-2107cd560710          NaN  \n",
       "3  92c69003-d60a-444a-827f-8cc51bf6bf4c          NaN  \n",
       "4  cdc6bb92-0ccb-4490-9866-ef142f09139d          NaN  "
      ]
     },
     "metadata": {},
     "output_type": "display_data"
    },
    {
     "name": "stdout",
     "output_type": "stream",
     "text": [
      "<class 'pandas.core.frame.DataFrame'>\n",
      "RangeIndex: 135640 entries, 0 to 135639\n",
      "Data columns (total 5 columns):\n",
      " #   Column          Non-Null Count   Dtype \n",
      "---  ------          --------------   ----- \n",
      " 0   event_datetime  135640 non-null  object\n",
      " 1   event           135640 non-null  object\n",
      " 2   building_type   127957 non-null  object\n",
      " 3   user_id         135640 non-null  object\n",
      " 4   project_type    1866 non-null    object\n",
      "dtypes: object(5)\n",
      "memory usage: 5.2+ MB\n"
     ]
    },
    {
     "data": {
      "text/plain": [
       "None"
      ]
     },
     "metadata": {},
     "output_type": "display_data"
    },
    {
     "data": {
      "text/plain": [
       "(None, None)"
      ]
     },
     "execution_count": 7,
     "metadata": {},
     "output_type": "execute_result"
    }
   ],
   "source": [
    "try: \n",
    "    game = pd.read_csv('/datasets/game_actions.csv')\n",
    "except:\n",
    "    game = pd.read_csv('game_actions.csv')\n",
    "    \n",
    "def first(df):\n",
    "    return display(df.head()), display(df.info())\n",
    "                                        \n",
    "first(game)"
   ]
  },
  {
   "cell_type": "code",
   "execution_count": 8,
   "metadata": {},
   "outputs": [
    {
     "data": {
      "text/plain": [
       "array(['building', 'finished_stage_1', 'project'], dtype=object)"
      ]
     },
     "execution_count": 8,
     "metadata": {},
     "output_type": "execute_result"
    }
   ],
   "source": [
    "#смотрим варианты событий\n",
    "game['event'].unique()"
   ]
  },
  {
   "cell_type": "code",
   "execution_count": 9,
   "metadata": {},
   "outputs": [
    {
     "data": {
      "text/plain": [
       "array(['assembly_shop', 'spaceport', nan, 'research_center'], dtype=object)"
      ]
     },
     "execution_count": 9,
     "metadata": {},
     "output_type": "execute_result"
    }
   ],
   "source": [
    "#cмотрим варианты строений\n",
    "game['building_type'].unique()"
   ]
  },
  {
   "cell_type": "code",
   "execution_count": 10,
   "metadata": {},
   "outputs": [
    {
     "data": {
      "text/plain": [
       "array([nan, 'satellite_orbital_assembly'], dtype=object)"
      ]
     },
     "execution_count": 10,
     "metadata": {},
     "output_type": "execute_result"
    }
   ],
   "source": [
    "#варианты заполнения project_type, в нем больше всего пропусков\n",
    "game['project_type'].unique()"
   ]
  },
  {
   "cell_type": "code",
   "execution_count": 11,
   "metadata": {},
   "outputs": [
    {
     "data": {
      "text/html": [
       "<div>\n",
       "<style scoped>\n",
       "    .dataframe tbody tr th:only-of-type {\n",
       "        vertical-align: middle;\n",
       "    }\n",
       "\n",
       "    .dataframe tbody tr th {\n",
       "        vertical-align: top;\n",
       "    }\n",
       "\n",
       "    .dataframe thead th {\n",
       "        text-align: right;\n",
       "    }\n",
       "</style>\n",
       "<table border=\"1\" class=\"dataframe\">\n",
       "  <thead>\n",
       "    <tr style=\"text-align: right;\">\n",
       "      <th></th>\n",
       "      <th>event_datetime</th>\n",
       "      <th>event</th>\n",
       "      <th>building_type</th>\n",
       "      <th>user_id</th>\n",
       "      <th>project_type</th>\n",
       "    </tr>\n",
       "  </thead>\n",
       "  <tbody>\n",
       "    <tr>\n",
       "      <th>74890</th>\n",
       "      <td>2020-05-10 18:41:56</td>\n",
       "      <td>building</td>\n",
       "      <td>research_center</td>\n",
       "      <td>c9af55d2-b0ae-4bb4-b3d5-f32aa9ac03af</td>\n",
       "      <td>NaN</td>\n",
       "    </tr>\n",
       "    <tr>\n",
       "      <th>74891</th>\n",
       "      <td>2020-05-10 18:41:56</td>\n",
       "      <td>building</td>\n",
       "      <td>research_center</td>\n",
       "      <td>c9af55d2-b0ae-4bb4-b3d5-f32aa9ac03af</td>\n",
       "      <td>NaN</td>\n",
       "    </tr>\n",
       "  </tbody>\n",
       "</table>\n",
       "</div>"
      ],
      "text/plain": [
       "            event_datetime     event    building_type  \\\n",
       "74890  2020-05-10 18:41:56  building  research_center   \n",
       "74891  2020-05-10 18:41:56  building  research_center   \n",
       "\n",
       "                                    user_id project_type  \n",
       "74890  c9af55d2-b0ae-4bb4-b3d5-f32aa9ac03af          NaN  \n",
       "74891  c9af55d2-b0ae-4bb4-b3d5-f32aa9ac03af          NaN  "
      ]
     },
     "execution_count": 11,
     "metadata": {},
     "output_type": "execute_result"
    }
   ],
   "source": [
    "#проверяем, есть ли дубликаты\n",
    "game[game.duplicated(keep = False)] "
   ]
  },
  {
   "cell_type": "code",
   "execution_count": 12,
   "metadata": {},
   "outputs": [],
   "source": [
    "#удаляем дубликаты\n",
    "game = game.drop_duplicates().reset_index(drop = True)"
   ]
  },
  {
   "cell_type": "code",
   "execution_count": 13,
   "metadata": {},
   "outputs": [],
   "source": [
    "#переводим в формат datetime, нам нужна только дата\n",
    "game['date'] = pd.to_datetime(game['event_datetime']).dt.date"
   ]
  },
  {
   "cell_type": "code",
   "execution_count": 14,
   "metadata": {},
   "outputs": [
    {
     "data": {
      "text/plain": [
       "datetime.date(2020, 5, 4)"
      ]
     },
     "execution_count": 14,
     "metadata": {},
     "output_type": "execute_result"
    }
   ],
   "source": [
    "#минимальная дата\n",
    "game['date'].min()"
   ]
  },
  {
   "cell_type": "code",
   "execution_count": 15,
   "metadata": {},
   "outputs": [
    {
     "data": {
      "text/plain": [
       "datetime.date(2020, 6, 5)"
      ]
     },
     "execution_count": 15,
     "metadata": {},
     "output_type": "execute_result"
    }
   ],
   "source": [
    "#максимальная дата\n",
    "game['date'].max()"
   ]
  },
  {
   "cell_type": "markdown",
   "metadata": {},
   "source": [
    "Всего в таблице 135640 строк. Cтрока - это действие совершенное юзером (или event). Представлена деятельность привлеченных юзеров в течение месяца. С 4 мая по 5 июня. \n",
    "\n",
    "Пропуски в building_type oзначают, что это действие юзера - не строительство. Делать с ними ничего не будем. \n",
    "\n",
    "Пропуски в project_type означают, что действие совершенное юзером - это не завершение проекта. Т.е. этот столбец заполнен, если event = project. Тоже с ними делать ничего не будем. "
   ]
  },
  {
   "cell_type": "markdown",
   "metadata": {},
   "source": [
    "### source"
   ]
  },
  {
   "cell_type": "code",
   "execution_count": 16,
   "metadata": {},
   "outputs": [
    {
     "data": {
      "text/html": [
       "<div>\n",
       "<style scoped>\n",
       "    .dataframe tbody tr th:only-of-type {\n",
       "        vertical-align: middle;\n",
       "    }\n",
       "\n",
       "    .dataframe tbody tr th {\n",
       "        vertical-align: top;\n",
       "    }\n",
       "\n",
       "    .dataframe thead th {\n",
       "        text-align: right;\n",
       "    }\n",
       "</style>\n",
       "<table border=\"1\" class=\"dataframe\">\n",
       "  <thead>\n",
       "    <tr style=\"text-align: right;\">\n",
       "      <th></th>\n",
       "      <th>user_id</th>\n",
       "      <th>source</th>\n",
       "    </tr>\n",
       "  </thead>\n",
       "  <tbody>\n",
       "    <tr>\n",
       "      <th>0</th>\n",
       "      <td>0001f83c-c6ac-4621-b7f0-8a28b283ac30</td>\n",
       "      <td>facebook_ads</td>\n",
       "    </tr>\n",
       "    <tr>\n",
       "      <th>1</th>\n",
       "      <td>00151b4f-ba38-44a8-a650-d7cf130a0105</td>\n",
       "      <td>yandex_direct</td>\n",
       "    </tr>\n",
       "    <tr>\n",
       "      <th>2</th>\n",
       "      <td>001aaea6-3d14-43f1-8ca8-7f48820f17aa</td>\n",
       "      <td>youtube_channel_reklama</td>\n",
       "    </tr>\n",
       "    <tr>\n",
       "      <th>3</th>\n",
       "      <td>001d39dc-366c-4021-9604-6a3b9ff01e25</td>\n",
       "      <td>instagram_new_adverts</td>\n",
       "    </tr>\n",
       "    <tr>\n",
       "      <th>4</th>\n",
       "      <td>002f508f-67b6-479f-814b-b05f00d4e995</td>\n",
       "      <td>facebook_ads</td>\n",
       "    </tr>\n",
       "  </tbody>\n",
       "</table>\n",
       "</div>"
      ],
      "text/plain": [
       "                                user_id                   source\n",
       "0  0001f83c-c6ac-4621-b7f0-8a28b283ac30             facebook_ads\n",
       "1  00151b4f-ba38-44a8-a650-d7cf130a0105            yandex_direct\n",
       "2  001aaea6-3d14-43f1-8ca8-7f48820f17aa  youtube_channel_reklama\n",
       "3  001d39dc-366c-4021-9604-6a3b9ff01e25    instagram_new_adverts\n",
       "4  002f508f-67b6-479f-814b-b05f00d4e995             facebook_ads"
      ]
     },
     "metadata": {},
     "output_type": "display_data"
    },
    {
     "name": "stdout",
     "output_type": "stream",
     "text": [
      "<class 'pandas.core.frame.DataFrame'>\n",
      "RangeIndex: 13576 entries, 0 to 13575\n",
      "Data columns (total 2 columns):\n",
      " #   Column   Non-Null Count  Dtype \n",
      "---  ------   --------------  ----- \n",
      " 0   user_id  13576 non-null  object\n",
      " 1   source   13576 non-null  object\n",
      "dtypes: object(2)\n",
      "memory usage: 212.2+ KB\n"
     ]
    },
    {
     "data": {
      "text/plain": [
       "None"
      ]
     },
     "metadata": {},
     "output_type": "display_data"
    },
    {
     "data": {
      "text/plain": [
       "(None, None)"
      ]
     },
     "execution_count": 16,
     "metadata": {},
     "output_type": "execute_result"
    }
   ],
   "source": [
    "try: \n",
    "    source = pd.read_csv('/datasets/user_source.csv')\n",
    "except:\n",
    "    source = pd.read_csv('user_source.csv')\n",
    "    \n",
    "def first(df):\n",
    "    return display(df.head()), display(df.info())\n",
    "                                        \n",
    "first(source)"
   ]
  },
  {
   "cell_type": "code",
   "execution_count": 17,
   "metadata": {},
   "outputs": [
    {
     "data": {
      "text/plain": [
       "array(['facebook_ads', 'yandex_direct', 'youtube_channel_reklama',\n",
       "       'instagram_new_adverts'], dtype=object)"
      ]
     },
     "execution_count": 17,
     "metadata": {},
     "output_type": "execute_result"
    }
   ],
   "source": [
    "#удостоверились, что те же самые источники\n",
    "source['source'].unique()"
   ]
  },
  {
   "cell_type": "code",
   "execution_count": 18,
   "metadata": {},
   "outputs": [
    {
     "data": {
      "text/html": [
       "<div>\n",
       "<style scoped>\n",
       "    .dataframe tbody tr th:only-of-type {\n",
       "        vertical-align: middle;\n",
       "    }\n",
       "\n",
       "    .dataframe tbody tr th {\n",
       "        vertical-align: top;\n",
       "    }\n",
       "\n",
       "    .dataframe thead th {\n",
       "        text-align: right;\n",
       "    }\n",
       "</style>\n",
       "<table border=\"1\" class=\"dataframe\">\n",
       "  <thead>\n",
       "    <tr style=\"text-align: right;\">\n",
       "      <th></th>\n",
       "      <th>user_id</th>\n",
       "      <th>source</th>\n",
       "    </tr>\n",
       "  </thead>\n",
       "  <tbody>\n",
       "  </tbody>\n",
       "</table>\n",
       "</div>"
      ],
      "text/plain": [
       "Empty DataFrame\n",
       "Columns: [user_id, source]\n",
       "Index: []"
      ]
     },
     "execution_count": 18,
     "metadata": {},
     "output_type": "execute_result"
    }
   ],
   "source": [
    "#нет дубликатов\n",
    "source[source.duplicated(keep = False)] "
   ]
  },
  {
   "cell_type": "code",
   "execution_count": 19,
   "metadata": {},
   "outputs": [
    {
     "data": {
      "text/plain": [
       "13576"
      ]
     },
     "execution_count": 19,
     "metadata": {},
     "output_type": "execute_result"
    }
   ],
   "source": [
    "# удостоверились, что один юзер - один источник\n",
    "source['user_id'].nunique()"
   ]
  },
  {
   "cell_type": "code",
   "execution_count": 20,
   "metadata": {},
   "outputs": [
    {
     "data": {
      "text/html": [
       "<div>\n",
       "<style scoped>\n",
       "    .dataframe tbody tr th:only-of-type {\n",
       "        vertical-align: middle;\n",
       "    }\n",
       "\n",
       "    .dataframe tbody tr th {\n",
       "        vertical-align: top;\n",
       "    }\n",
       "\n",
       "    .dataframe thead th {\n",
       "        text-align: right;\n",
       "    }\n",
       "</style>\n",
       "<table border=\"1\" class=\"dataframe\">\n",
       "  <thead>\n",
       "    <tr style=\"text-align: right;\">\n",
       "      <th></th>\n",
       "      <th>user_id</th>\n",
       "      <th>source</th>\n",
       "    </tr>\n",
       "  </thead>\n",
       "  <tbody>\n",
       "  </tbody>\n",
       "</table>\n",
       "</div>"
      ],
      "text/plain": [
       "Empty DataFrame\n",
       "Columns: [user_id, source]\n",
       "Index: []"
      ]
     },
     "execution_count": 20,
     "metadata": {},
     "output_type": "execute_result"
    }
   ],
   "source": [
    "#удостоверились, что данные по тем же самым юзерам, что и в датасете game\n",
    "source[~source['user_id'].isin(game['user_id'])]"
   ]
  },
  {
   "cell_type": "markdown",
   "metadata": {},
   "source": [
    "### Вывод\n",
    "Датасеты готовы к анализу"
   ]
  },
  {
   "cell_type": "markdown",
   "metadata": {},
   "source": [
    "## Исследовательский анализ данных"
   ]
  },
  {
   "cell_type": "markdown",
   "metadata": {},
   "source": [
    "### Длительность прохождения первого уровня \n",
    "<a class=\"anchor\" id=\"MU\"></a>"
   ]
  },
  {
   "cell_type": "code",
   "execution_count": 21,
   "metadata": {
    "scrolled": true
   },
   "outputs": [
    {
     "data": {
      "text/html": [
       "<div>\n",
       "<style scoped>\n",
       "    .dataframe tbody tr th:only-of-type {\n",
       "        vertical-align: middle;\n",
       "    }\n",
       "\n",
       "    .dataframe tbody tr th {\n",
       "        vertical-align: top;\n",
       "    }\n",
       "\n",
       "    .dataframe thead th {\n",
       "        text-align: right;\n",
       "    }\n",
       "</style>\n",
       "<table border=\"1\" class=\"dataframe\">\n",
       "  <thead>\n",
       "    <tr style=\"text-align: right;\">\n",
       "      <th></th>\n",
       "      <th>user_id</th>\n",
       "      <th>building</th>\n",
       "      <th>finished_stage_1</th>\n",
       "      <th>project</th>\n",
       "      <th>source</th>\n",
       "      <th>time</th>\n",
       "    </tr>\n",
       "  </thead>\n",
       "  <tbody>\n",
       "    <tr>\n",
       "      <th>0</th>\n",
       "      <td>0001f83c-c6ac-4621-b7f0-8a28b283ac30</td>\n",
       "      <td>2020-05-06</td>\n",
       "      <td>NaN</td>\n",
       "      <td>NaN</td>\n",
       "      <td>facebook_ads</td>\n",
       "      <td>NaT</td>\n",
       "    </tr>\n",
       "    <tr>\n",
       "      <th>1</th>\n",
       "      <td>00151b4f-ba38-44a8-a650-d7cf130a0105</td>\n",
       "      <td>2020-05-06</td>\n",
       "      <td>NaN</td>\n",
       "      <td>NaN</td>\n",
       "      <td>yandex_direct</td>\n",
       "      <td>NaT</td>\n",
       "    </tr>\n",
       "    <tr>\n",
       "      <th>2</th>\n",
       "      <td>001aaea6-3d14-43f1-8ca8-7f48820f17aa</td>\n",
       "      <td>2020-05-05</td>\n",
       "      <td>NaN</td>\n",
       "      <td>NaN</td>\n",
       "      <td>youtube_channel_reklama</td>\n",
       "      <td>NaT</td>\n",
       "    </tr>\n",
       "    <tr>\n",
       "      <th>3</th>\n",
       "      <td>001d39dc-366c-4021-9604-6a3b9ff01e25</td>\n",
       "      <td>2020-05-05</td>\n",
       "      <td>2020-05-12</td>\n",
       "      <td>NaN</td>\n",
       "      <td>instagram_new_adverts</td>\n",
       "      <td>7 days</td>\n",
       "    </tr>\n",
       "    <tr>\n",
       "      <th>4</th>\n",
       "      <td>002f508f-67b6-479f-814b-b05f00d4e995</td>\n",
       "      <td>2020-05-05</td>\n",
       "      <td>NaN</td>\n",
       "      <td>NaN</td>\n",
       "      <td>facebook_ads</td>\n",
       "      <td>NaT</td>\n",
       "    </tr>\n",
       "  </tbody>\n",
       "</table>\n",
       "</div>"
      ],
      "text/plain": [
       "                                user_id    building finished_stage_1 project  \\\n",
       "0  0001f83c-c6ac-4621-b7f0-8a28b283ac30  2020-05-06              NaN     NaN   \n",
       "1  00151b4f-ba38-44a8-a650-d7cf130a0105  2020-05-06              NaN     NaN   \n",
       "2  001aaea6-3d14-43f1-8ca8-7f48820f17aa  2020-05-05              NaN     NaN   \n",
       "3  001d39dc-366c-4021-9604-6a3b9ff01e25  2020-05-05       2020-05-12     NaN   \n",
       "4  002f508f-67b6-479f-814b-b05f00d4e995  2020-05-05              NaN     NaN   \n",
       "\n",
       "                    source   time  \n",
       "0             facebook_ads    NaT  \n",
       "1            yandex_direct    NaT  \n",
       "2  youtube_channel_reklama    NaT  \n",
       "3    instagram_new_adverts 7 days  \n",
       "4             facebook_ads    NaT  "
      ]
     },
     "execution_count": 21,
     "metadata": {},
     "output_type": "execute_result"
    }
   ],
   "source": [
    "#создаем сводную таблицу, сгруппированную по user_id, \n",
    "#в building будет дата, когда юзер начал играть\n",
    "#в finished_stage_1 - дата прохождения первого уровня\n",
    "#в project - дата окончание проекта.\n",
    "user = game.pivot_table(index='user_id', columns='event', \\\n",
    "                        values='date', aggfunc='first')\n",
    "user = user.merge(source, on='user_id') #присоединили данные об источнике\n",
    "user['time'] = user['finished_stage_1'] - user['building'] #время прохождения первого уровня\n",
    "user.head()"
   ]
  },
  {
   "cell_type": "markdown",
   "metadata": {},
   "source": [
    "Если первый уровень пройден посредством завершения проекта - будет заполнен столбец project. \n",
    "\n",
    "Если finished_stage_1 заполнен и не заполнен project - уровень пройден посредством победы. \n",
    "\n",
    "В остальных случаях уровень не пройден."
   ]
  },
  {
   "cell_type": "code",
   "execution_count": 22,
   "metadata": {},
   "outputs": [
    {
     "name": "stdout",
     "output_type": "stream",
     "text": [
      "медианное время - стратегия победы: 11.0\n"
     ]
    }
   ],
   "source": [
    "#pd.Series с длительностью прохождения уровня, выбравших стартегию победы\n",
    "list_victory = user[(~user['time'].isna()) & (user['project'].isna())].set_index('user_id')['time'].dt.days\n",
    "print('медианное время - стратегия победы:', list_victory.median())"
   ]
  },
  {
   "cell_type": "code",
   "execution_count": 23,
   "metadata": {},
   "outputs": [
    {
     "name": "stdout",
     "output_type": "stream",
     "text": [
      "медианное время - cтратегия реализации проекта: 13.0\n"
     ]
    }
   ],
   "source": [
    "#pd.Series с длительностью прохождения уровня, выбравших стартегию завершение проекта\n",
    "list_project = user[(~user['project'].isna())].set_index('user_id')['time'].dt.days\n",
    "print('медианное время - cтратегия реализации проекта:', list_project.median())"
   ]
  },
  {
   "cell_type": "code",
   "execution_count": 24,
   "metadata": {},
   "outputs": [
    {
     "data": {
      "image/png": "[encoded data removed]",
      "text/plain": [
       "<Figure size 432x288 with 1 Axes>"
      ]
     },
     "metadata": {
      "needs_background": "light"
     },
     "output_type": "display_data"
    }
   ],
   "source": [
    "#гистограмма прохождения первого уровня, в зависимости от выбранной стратегии\n",
    "#на этом графике количество пользовтелей по оси у абсолютное, поэтому можно сравнить размер двух групп\n",
    "ax = list_victory.hist(bins = 10)\n",
    "list_project.hist(ax=ax, bins = 10)\n",
    "plt.title('Распределение продолжительности прохождения первого уровня')\n",
    "plt.legend(['Победа', 'Проект'])\n",
    "plt.xlabel('длительность, дней')\n",
    "plt.ylabel('Количество пользователей');"
   ]
  },
  {
   "cell_type": "code",
   "execution_count": 25,
   "metadata": {},
   "outputs": [
    {
     "data": {
      "image/png": "[encoded data removed]",
      "text/plain": [
       "<Figure size 1080x720 with 1 Axes>"
      ]
     },
     "metadata": {
      "needs_background": "light"
     },
     "output_type": "display_data"
    }
   ],
   "source": [
    "#плотность распределения продолжительности в зависимости от выбранной стратиегии\n",
    "#сравниваем характер распределения \n",
    "plt.figure(figsize = (15,10))\n",
    "sns.distplot(list_victory, ax = plt.subplot(2, 1, 1))\n",
    "sns.distplot(list_project, ax = plt.subplot(2, 1, 1))\n",
    "plt.legend(['Победа', 'Проект']);"
   ]
  },
  {
   "cell_type": "code",
   "execution_count": 26,
   "metadata": {},
   "outputs": [
    {
     "name": "stdout",
     "output_type": "stream",
     "text": [
      "Выбравших стратегию победы в 2 раза больше, чем выбравших проект\n"
     ]
    }
   ],
   "source": [
    "q = round(list_victory.count()/list_project.count())\n",
    "print(f'Выбравших стратегию победы в {q} раза больше, чем выбравших проект') "
   ]
  },
  {
   "cell_type": "markdown",
   "metadata": {},
   "source": [
    "**Вывод.** Получается, что стратегия выполнения проекта удлиняет время прохождения на два дня. (Насколько эта разница статистически значима, проверим с помощью статистического теста в следующем [разделе](#time)). При этом тех, кто выбрал стратегию проекта в два раза меньше, чем выбравших стратегию победы. Можно сделать вывод о том, что пройти первый уровень победив другого участника проще, чем выполнив проект."
   ]
  },
  {
   "cell_type": "markdown",
   "metadata": {},
   "source": [
    "### Среднее время проведенное в игре"
   ]
  },
  {
   "cell_type": "markdown",
   "metadata": {},
   "source": [
    "Длительность прохождения уровня мы уже проанализировали. Но в целом тех, кто вообще прошел уровень меньше половины. Давайте посмотрим, сколько дней в целом пользователь проводит в игре, в независимости от его успешности.\n",
    "\n",
    "*(Так как у нас нет данных по началу и окончанию сессии, есть только момент времени совершения определенного действия, мы не можем посчитать сколько времени (в часах, минутах) игрок проводит в игре. Можем только отследить период в днях и количество действий.\n",
    "*  "
   ]
  },
  {
   "cell_type": "code",
   "execution_count": 27,
   "metadata": {},
   "outputs": [
    {
     "name": "stdout",
     "output_type": "stream",
     "text": [
      "медианное время - все игроки: duration   10.00\n",
      "dtype: float64\n"
     ]
    }
   ],
   "source": [
    "#сгруппируем по юзеру и найдем первую и последнюю дату, когда игрок совершал действия.\n",
    "user_all = game.groupby('user_id').agg({'date' : ['min' , 'max']})\n",
    "user_all.columns = ['first', 'last']\n",
    "\"\"\"\"\"длительность нахождения в игре, в днях посчитнана как период между первой и последней датой совершения действия \n",
    "по строительству. \n",
    "(допущение: в этот период будут входить и дни, когда объекты не строились, тк в эти дни игрок мог входить в игру \n",
    " и совершать другие действия, не учитывающиеся в датасете)\"\"\"\"\"\n",
    "user_all['duration'] = (user_all['last'] - user_all['first']).dt.days \n",
    "user_all = user_all.merge(source, on='user_id')\n",
    "list_all = user_all.set_index('user_id')#['duration'].dt.days\n",
    "print('медианное время - все игроки:', list_all.median())"
   ]
  },
  {
   "cell_type": "code",
   "execution_count": 28,
   "metadata": {},
   "outputs": [
    {
     "data": {
      "text/html": [
       "<div>\n",
       "<style scoped>\n",
       "    .dataframe tbody tr th:only-of-type {\n",
       "        vertical-align: middle;\n",
       "    }\n",
       "\n",
       "    .dataframe tbody tr th {\n",
       "        vertical-align: top;\n",
       "    }\n",
       "\n",
       "    .dataframe thead th {\n",
       "        text-align: right;\n",
       "    }\n",
       "</style>\n",
       "<table border=\"1\" class=\"dataframe\">\n",
       "  <thead>\n",
       "    <tr style=\"text-align: right;\">\n",
       "      <th></th>\n",
       "      <th>duration</th>\n",
       "    </tr>\n",
       "    <tr>\n",
       "      <th>source</th>\n",
       "      <th></th>\n",
       "    </tr>\n",
       "  </thead>\n",
       "  <tbody>\n",
       "    <tr>\n",
       "      <th>facebook_ads</th>\n",
       "      <td>10.68</td>\n",
       "    </tr>\n",
       "    <tr>\n",
       "      <th>instagram_new_adverts</th>\n",
       "      <td>10.75</td>\n",
       "    </tr>\n",
       "    <tr>\n",
       "      <th>yandex_direct</th>\n",
       "      <td>10.57</td>\n",
       "    </tr>\n",
       "    <tr>\n",
       "      <th>youtube_channel_reklama</th>\n",
       "      <td>10.55</td>\n",
       "    </tr>\n",
       "  </tbody>\n",
       "</table>\n",
       "</div>"
      ],
      "text/plain": [
       "                         duration\n",
       "source                           \n",
       "facebook_ads                10.68\n",
       "instagram_new_adverts       10.75\n",
       "yandex_direct               10.57\n",
       "youtube_channel_reklama     10.55"
      ]
     },
     "execution_count": 28,
     "metadata": {},
     "output_type": "execute_result"
    }
   ],
   "source": [
    "user_all.groupby('source').agg({'duration' : 'mean'})"
   ]
  },
  {
   "cell_type": "markdown",
   "metadata": {},
   "source": [
    "В среднем все игроки активно проводят в игре 10 дней, в не зависимости от прохождения первого уровня. Источник не влияет на это время."
   ]
  },
  {
   "cell_type": "code",
   "execution_count": 29,
   "metadata": {},
   "outputs": [
    {
     "data": {
      "text/html": [
       "<div>\n",
       "<style scoped>\n",
       "    .dataframe tbody tr th:only-of-type {\n",
       "        vertical-align: middle;\n",
       "    }\n",
       "\n",
       "    .dataframe tbody tr th {\n",
       "        vertical-align: top;\n",
       "    }\n",
       "\n",
       "    .dataframe thead th {\n",
       "        text-align: right;\n",
       "    }\n",
       "</style>\n",
       "<table border=\"1\" class=\"dataframe\">\n",
       "  <thead>\n",
       "    <tr style=\"text-align: right;\">\n",
       "      <th></th>\n",
       "      <th>date</th>\n",
       "    </tr>\n",
       "    <tr>\n",
       "      <th>source</th>\n",
       "      <th></th>\n",
       "    </tr>\n",
       "  </thead>\n",
       "  <tbody>\n",
       "    <tr>\n",
       "      <th>facebook_ads</th>\n",
       "      <td>7.09</td>\n",
       "    </tr>\n",
       "    <tr>\n",
       "      <th>instagram_new_adverts</th>\n",
       "      <td>7.07</td>\n",
       "    </tr>\n",
       "    <tr>\n",
       "      <th>yandex_direct</th>\n",
       "      <td>6.98</td>\n",
       "    </tr>\n",
       "    <tr>\n",
       "      <th>youtube_channel_reklama</th>\n",
       "      <td>6.93</td>\n",
       "    </tr>\n",
       "  </tbody>\n",
       "</table>\n",
       "</div>"
      ],
      "text/plain": [
       "                         date\n",
       "source                       \n",
       "facebook_ads             7.09\n",
       "instagram_new_adverts    7.07\n",
       "yandex_direct            6.98\n",
       "youtube_channel_reklama  6.93"
      ]
     },
     "execution_count": 29,
     "metadata": {},
     "output_type": "execute_result"
    }
   ],
   "source": [
    "game.groupby('user_id').agg({'date' : 'nunique'}).merge(source, on='user_id').groupby('source').agg({'date' : 'mean'})"
   ]
  },
  {
   "cell_type": "code",
   "execution_count": 30,
   "metadata": {},
   "outputs": [
    {
     "name": "stdout",
     "output_type": "stream",
     "text": [
      "медианное время - выбывшие игроки: 10.0\n"
     ]
    }
   ],
   "source": [
    "#посчитаем время нахождения в игре для не прошедших первый уровень\n",
    "user_churn = user_all.set_index('user_id')\\\n",
    ".query('index not in @list_victory.index and user_id not in @list_project.index')\n",
    "list_churn = user_churn['duration']#.dt.days\n",
    "print('медианное время - выбывшие игроки:', list_churn.median())"
   ]
  },
  {
   "cell_type": "markdown",
   "metadata": {},
   "source": [
    "Игроки, которые не прошли первый уровень также проводят в игре 10 дней (медиана). "
   ]
  },
  {
   "cell_type": "code",
   "execution_count": 31,
   "metadata": {},
   "outputs": [
    {
     "data": {
      "image/png": "[encoded data removed]",
      "text/plain": [
       "<Figure size 1080x360 with 3 Axes>"
      ]
     },
     "metadata": {
      "needs_background": "light"
     },
     "output_type": "display_data"
    }
   ],
   "source": [
    "plt.figure(figsize = (15,5))\n",
    "plt.suptitle('Распределение длительности нахождения в игре')\n",
    "ax1 = plt.subplot(1, 3, 1)\n",
    "list_churn.plot(kind='hist', grid=True, ax=ax1, color='yellow')\n",
    "plt.ylabel('Количество пользователей')\n",
    "plt.xlabel('Длительность, дней')\n",
    "plt.title('Не прошли уровень - отток')\n",
    "ax2 = plt.subplot(1, 3, 2, sharey=ax1)\n",
    "list_victory.plot(kind='hist', grid=True, ax=ax2, color='pink', sharey=ax1)\n",
    "plt.title('Прошли - победа')\n",
    "ax3 = plt.subplot(1, 3, 3, sharey=ax1)\n",
    "list_project.plot(kind='hist', grid=True, ax=ax3, color='purple', sharey=ax1)\n",
    "plt.title('Прошли - проект');\n"
   ]
  },
  {
   "cell_type": "markdown",
   "metadata": {},
   "source": [
    "Большинство игроков все-таки не проходят уровень, но довольно продолжительное время (в среднем(10 дней) находятся в игре и строят объекты. Этот факт можно использовать для монетизации - размещения рекламы в игре."
   ]
  },
  {
   "cell_type": "markdown",
   "metadata": {},
   "source": [
    "### Динамика активности пользователей\n",
    "график <a class=\"anchor\" id=\"chart\"></a>"
   ]
  },
  {
   "cell_type": "code",
   "execution_count": 32,
   "metadata": {},
   "outputs": [
    {
     "data": {
      "image/png": "[encoded data removed]",
      "text/plain": [
       "<Figure size 1080x360 with 1 Axes>"
      ]
     },
     "metadata": {
      "needs_background": "light"
     },
     "output_type": "display_data"
    }
   ],
   "source": [
    "# общая динамика активности пользователей\n",
    "game.groupby('date').agg({'user_id':'count'}).plot(figsize=(15,5), legend=False)\n",
    "plt.title('Общая динамика активности пользователей')\n",
    "plt.ylabel('количество действий совершенных пользователями');"
   ]
  },
  {
   "cell_type": "code",
   "execution_count": 33,
   "metadata": {},
   "outputs": [
    {
     "data": {
      "image/png": "[encoded data removed]",
      "text/plain": [
       "<Figure size 1080x360 with 1 Axes>"
      ]
     },
     "metadata": {
      "needs_background": "light"
     },
     "output_type": "display_data"
    }
   ],
   "source": [
    "game.groupby('date').agg({'user_id':'nunique'}).plot(figsize=(15,5), legend=False)\n",
    "plt.title('Динамика ежедневного количества пользователей зашедших в приложение')\n",
    "plt.ylabel('Количество пользоватлелей');"
   ]
  },
  {
   "cell_type": "code",
   "execution_count": 34,
   "metadata": {},
   "outputs": [
    {
     "data": {
      "image/png": "[encoded data removed]",
      "text/plain": [
       "<Figure size 1080x360 with 1 Axes>"
      ]
     },
     "metadata": {
      "needs_background": "light"
     },
     "output_type": "display_data"
    }
   ],
   "source": [
    "timing = game.groupby('date').agg({'user_id':['nunique', 'count']})\n",
    "timing.columns = ['user', 'event']\n",
    "\n",
    "# расчет среднего количества действий, совершенных 1 пользователем\n",
    "timing['event_per_user'] = timing['event'] / timing['user']\n",
    "timing['event_per_user'].plot(figsize=(15,5))\n",
    "plt.title('Динамика среднего количества действий, совершенного одним пользователеоем')\n",
    "plt.ylabel('Количество действий');"
   ]
  },
  {
   "cell_type": "markdown",
   "metadata": {},
   "source": [
    "В первую неделю, когда были показы рекламы игры, мы видим увеличение числа юзеров. Впоследствии мы видим спад их количества. Средняя же активность одного юзера постоянна она колеблется от 1.6 до 1.2 действий в день. T.e.  есть небольшое количество пользователей, которые постоянно заходят в приложение и играют."
   ]
  },
  {
   "cell_type": "code",
   "execution_count": 35,
   "metadata": {},
   "outputs": [
    {
     "data": {
      "image/png": "[encoded data removed]",
      "text/plain": [
       "<Figure size 1080x360 with 1 Axes>"
      ]
     },
     "metadata": {
      "needs_background": "light"
     },
     "output_type": "display_data"
    }
   ],
   "source": [
    "#посмотрим на динамика привлечения новых юзеров\n",
    "#в 'building' отображается дата первого строительства объекта. Тк все игроки, в независимости \n",
    "#от стратегии строят. Будем считать эту дату - датой привлечения юзера\n",
    "new_users = user.groupby('building').agg({'user_id' : 'count'})\n",
    "new_users.plot(figsize=(15,5), legend=False)\n",
    "plt.title('Динамика привлечения новых юзеров')\n",
    "plt.xlabel('first_date')\n",
    "plt.ylabel('Количество пользователей');"
   ]
  },
  {
   "cell_type": "markdown",
   "metadata": {},
   "source": [
    "Новые игроки приходили только во время показа рекламы, и то мы под конец рекламной компании мы видим экспоненциальный спад их прихода. Видимо аудитория посмотрела рекламу в первые пару дней и решила заходить в игру или нет тогда же. "
   ]
  },
  {
   "cell_type": "markdown",
   "metadata": {},
   "source": [
    "### Среднея стоимость и количество привлеченных пользователей в динамике "
   ]
  },
  {
   "cell_type": "code",
   "execution_count": 36,
   "metadata": {
    "scrolled": true
   },
   "outputs": [
    {
     "data": {
      "text/html": [
       "<div>\n",
       "<style scoped>\n",
       "    .dataframe tbody tr th:only-of-type {\n",
       "        vertical-align: middle;\n",
       "    }\n",
       "\n",
       "    .dataframe tbody tr th {\n",
       "        vertical-align: top;\n",
       "    }\n",
       "\n",
       "    .dataframe thead th {\n",
       "        text-align: right;\n",
       "    }\n",
       "</style>\n",
       "<table border=\"1\" class=\"dataframe\">\n",
       "  <thead>\n",
       "    <tr style=\"text-align: right;\">\n",
       "      <th></th>\n",
       "      <th>day</th>\n",
       "      <th>source</th>\n",
       "      <th>user_id</th>\n",
       "      <th>cost</th>\n",
       "      <th>cost_per_user</th>\n",
       "    </tr>\n",
       "  </thead>\n",
       "  <tbody>\n",
       "    <tr>\n",
       "      <th>31</th>\n",
       "      <td>2020-05-03</td>\n",
       "      <td>youtube_channel_reklama</td>\n",
       "      <td>NaN</td>\n",
       "      <td>454.22</td>\n",
       "      <td>NaN</td>\n",
       "    </tr>\n",
       "    <tr>\n",
       "      <th>29</th>\n",
       "      <td>2020-05-03</td>\n",
       "      <td>instagram_new_adverts</td>\n",
       "      <td>NaN</td>\n",
       "      <td>943.20</td>\n",
       "      <td>NaN</td>\n",
       "    </tr>\n",
       "    <tr>\n",
       "      <th>28</th>\n",
       "      <td>2020-05-03</td>\n",
       "      <td>facebook_ads</td>\n",
       "      <td>NaN</td>\n",
       "      <td>935.88</td>\n",
       "      <td>NaN</td>\n",
       "    </tr>\n",
       "    <tr>\n",
       "      <th>30</th>\n",
       "      <td>2020-05-03</td>\n",
       "      <td>yandex_direct</td>\n",
       "      <td>NaN</td>\n",
       "      <td>969.14</td>\n",
       "      <td>NaN</td>\n",
       "    </tr>\n",
       "    <tr>\n",
       "      <th>0</th>\n",
       "      <td>2020-05-04</td>\n",
       "      <td>facebook_ads</td>\n",
       "      <td>1,184.00</td>\n",
       "      <td>548.35</td>\n",
       "      <td>0.46</td>\n",
       "    </tr>\n",
       "    <tr>\n",
       "      <th>1</th>\n",
       "      <td>2020-05-04</td>\n",
       "      <td>instagram_new_adverts</td>\n",
       "      <td>1,452.00</td>\n",
       "      <td>502.93</td>\n",
       "      <td>0.35</td>\n",
       "    </tr>\n",
       "    <tr>\n",
       "      <th>2</th>\n",
       "      <td>2020-05-04</td>\n",
       "      <td>yandex_direct</td>\n",
       "      <td>2,078.00</td>\n",
       "      <td>554.65</td>\n",
       "      <td>0.27</td>\n",
       "    </tr>\n",
       "    <tr>\n",
       "      <th>3</th>\n",
       "      <td>2020-05-04</td>\n",
       "      <td>youtube_channel_reklama</td>\n",
       "      <td>1,146.00</td>\n",
       "      <td>259.07</td>\n",
       "      <td>0.23</td>\n",
       "    </tr>\n",
       "    <tr>\n",
       "      <th>5</th>\n",
       "      <td>2020-05-05</td>\n",
       "      <td>instagram_new_adverts</td>\n",
       "      <td>796.00</td>\n",
       "      <td>313.97</td>\n",
       "      <td>0.39</td>\n",
       "    </tr>\n",
       "    <tr>\n",
       "      <th>6</th>\n",
       "      <td>2020-05-05</td>\n",
       "      <td>yandex_direct</td>\n",
       "      <td>1,208.00</td>\n",
       "      <td>308.23</td>\n",
       "      <td>0.26</td>\n",
       "    </tr>\n",
       "    <tr>\n",
       "      <th>7</th>\n",
       "      <td>2020-05-05</td>\n",
       "      <td>youtube_channel_reklama</td>\n",
       "      <td>663.00</td>\n",
       "      <td>147.04</td>\n",
       "      <td>0.22</td>\n",
       "    </tr>\n",
       "    <tr>\n",
       "      <th>4</th>\n",
       "      <td>2020-05-05</td>\n",
       "      <td>facebook_ads</td>\n",
       "      <td>694.00</td>\n",
       "      <td>260.19</td>\n",
       "      <td>0.37</td>\n",
       "    </tr>\n",
       "    <tr>\n",
       "      <th>8</th>\n",
       "      <td>2020-05-06</td>\n",
       "      <td>facebook_ads</td>\n",
       "      <td>345.00</td>\n",
       "      <td>177.98</td>\n",
       "      <td>0.52</td>\n",
       "    </tr>\n",
       "    <tr>\n",
       "      <th>9</th>\n",
       "      <td>2020-05-06</td>\n",
       "      <td>instagram_new_adverts</td>\n",
       "      <td>472.00</td>\n",
       "      <td>173.07</td>\n",
       "      <td>0.37</td>\n",
       "    </tr>\n",
       "    <tr>\n",
       "      <th>10</th>\n",
       "      <td>2020-05-06</td>\n",
       "      <td>yandex_direct</td>\n",
       "      <td>664.00</td>\n",
       "      <td>180.92</td>\n",
       "      <td>0.27</td>\n",
       "    </tr>\n",
       "    <tr>\n",
       "      <th>11</th>\n",
       "      <td>2020-05-06</td>\n",
       "      <td>youtube_channel_reklama</td>\n",
       "      <td>366.00</td>\n",
       "      <td>88.51</td>\n",
       "      <td>0.24</td>\n",
       "    </tr>\n",
       "    <tr>\n",
       "      <th>15</th>\n",
       "      <td>2020-05-07</td>\n",
       "      <td>youtube_channel_reklama</td>\n",
       "      <td>220.00</td>\n",
       "      <td>55.74</td>\n",
       "      <td>0.25</td>\n",
       "    </tr>\n",
       "    <tr>\n",
       "      <th>14</th>\n",
       "      <td>2020-05-07</td>\n",
       "      <td>yandex_direct</td>\n",
       "      <td>395.00</td>\n",
       "      <td>114.43</td>\n",
       "      <td>0.29</td>\n",
       "    </tr>\n",
       "    <tr>\n",
       "      <th>13</th>\n",
       "      <td>2020-05-07</td>\n",
       "      <td>instagram_new_adverts</td>\n",
       "      <td>270.00</td>\n",
       "      <td>109.92</td>\n",
       "      <td>0.41</td>\n",
       "    </tr>\n",
       "    <tr>\n",
       "      <th>12</th>\n",
       "      <td>2020-05-07</td>\n",
       "      <td>facebook_ads</td>\n",
       "      <td>224.00</td>\n",
       "      <td>111.77</td>\n",
       "      <td>0.50</td>\n",
       "    </tr>\n",
       "    <tr>\n",
       "      <th>17</th>\n",
       "      <td>2020-05-08</td>\n",
       "      <td>instagram_new_adverts</td>\n",
       "      <td>175.00</td>\n",
       "      <td>71.58</td>\n",
       "      <td>0.41</td>\n",
       "    </tr>\n",
       "    <tr>\n",
       "      <th>19</th>\n",
       "      <td>2020-05-08</td>\n",
       "      <td>youtube_channel_reklama</td>\n",
       "      <td>135.00</td>\n",
       "      <td>40.22</td>\n",
       "      <td>0.30</td>\n",
       "    </tr>\n",
       "    <tr>\n",
       "      <th>16</th>\n",
       "      <td>2020-05-08</td>\n",
       "      <td>facebook_ads</td>\n",
       "      <td>139.00</td>\n",
       "      <td>68.01</td>\n",
       "      <td>0.49</td>\n",
       "    </tr>\n",
       "    <tr>\n",
       "      <th>18</th>\n",
       "      <td>2020-05-08</td>\n",
       "      <td>yandex_direct</td>\n",
       "      <td>239.00</td>\n",
       "      <td>62.96</td>\n",
       "      <td>0.26</td>\n",
       "    </tr>\n",
       "    <tr>\n",
       "      <th>20</th>\n",
       "      <td>2020-05-09</td>\n",
       "      <td>facebook_ads</td>\n",
       "      <td>84.00</td>\n",
       "      <td>38.72</td>\n",
       "      <td>0.46</td>\n",
       "    </tr>\n",
       "    <tr>\n",
       "      <th>21</th>\n",
       "      <td>2020-05-09</td>\n",
       "      <td>instagram_new_adverts</td>\n",
       "      <td>112.00</td>\n",
       "      <td>46.78</td>\n",
       "      <td>0.42</td>\n",
       "    </tr>\n",
       "    <tr>\n",
       "      <th>22</th>\n",
       "      <td>2020-05-09</td>\n",
       "      <td>yandex_direct</td>\n",
       "      <td>144.00</td>\n",
       "      <td>42.78</td>\n",
       "      <td>0.30</td>\n",
       "    </tr>\n",
       "    <tr>\n",
       "      <th>23</th>\n",
       "      <td>2020-05-09</td>\n",
       "      <td>youtube_channel_reklama</td>\n",
       "      <td>100.00</td>\n",
       "      <td>23.31</td>\n",
       "      <td>0.23</td>\n",
       "    </tr>\n",
       "    <tr>\n",
       "      <th>24</th>\n",
       "      <td>2020-05-10</td>\n",
       "      <td>facebook_ads</td>\n",
       "      <td>56.00</td>\n",
       "      <td>NaN</td>\n",
       "      <td>NaN</td>\n",
       "    </tr>\n",
       "    <tr>\n",
       "      <th>25</th>\n",
       "      <td>2020-05-10</td>\n",
       "      <td>instagram_new_adverts</td>\n",
       "      <td>70.00</td>\n",
       "      <td>NaN</td>\n",
       "      <td>NaN</td>\n",
       "    </tr>\n",
       "    <tr>\n",
       "      <th>26</th>\n",
       "      <td>2020-05-10</td>\n",
       "      <td>yandex_direct</td>\n",
       "      <td>89.00</td>\n",
       "      <td>NaN</td>\n",
       "      <td>NaN</td>\n",
       "    </tr>\n",
       "    <tr>\n",
       "      <th>27</th>\n",
       "      <td>2020-05-10</td>\n",
       "      <td>youtube_channel_reklama</td>\n",
       "      <td>56.00</td>\n",
       "      <td>NaN</td>\n",
       "      <td>NaN</td>\n",
       "    </tr>\n",
       "  </tbody>\n",
       "</table>\n",
       "</div>"
      ],
      "text/plain": [
       "           day                   source  user_id   cost  cost_per_user\n",
       "31  2020-05-03  youtube_channel_reklama      NaN 454.22            NaN\n",
       "29  2020-05-03    instagram_new_adverts      NaN 943.20            NaN\n",
       "28  2020-05-03             facebook_ads      NaN 935.88            NaN\n",
       "30  2020-05-03            yandex_direct      NaN 969.14            NaN\n",
       "0   2020-05-04             facebook_ads 1,184.00 548.35           0.46\n",
       "1   2020-05-04    instagram_new_adverts 1,452.00 502.93           0.35\n",
       "2   2020-05-04            yandex_direct 2,078.00 554.65           0.27\n",
       "3   2020-05-04  youtube_channel_reklama 1,146.00 259.07           0.23\n",
       "5   2020-05-05    instagram_new_adverts   796.00 313.97           0.39\n",
       "6   2020-05-05            yandex_direct 1,208.00 308.23           0.26\n",
       "7   2020-05-05  youtube_channel_reklama   663.00 147.04           0.22\n",
       "4   2020-05-05             facebook_ads   694.00 260.19           0.37\n",
       "8   2020-05-06             facebook_ads   345.00 177.98           0.52\n",
       "9   2020-05-06    instagram_new_adverts   472.00 173.07           0.37\n",
       "10  2020-05-06            yandex_direct   664.00 180.92           0.27\n",
       "11  2020-05-06  youtube_channel_reklama   366.00  88.51           0.24\n",
       "15  2020-05-07  youtube_channel_reklama   220.00  55.74           0.25\n",
       "14  2020-05-07            yandex_direct   395.00 114.43           0.29\n",
       "13  2020-05-07    instagram_new_adverts   270.00 109.92           0.41\n",
       "12  2020-05-07             facebook_ads   224.00 111.77           0.50\n",
       "17  2020-05-08    instagram_new_adverts   175.00  71.58           0.41\n",
       "19  2020-05-08  youtube_channel_reklama   135.00  40.22           0.30\n",
       "16  2020-05-08             facebook_ads   139.00  68.01           0.49\n",
       "18  2020-05-08            yandex_direct   239.00  62.96           0.26\n",
       "20  2020-05-09             facebook_ads    84.00  38.72           0.46\n",
       "21  2020-05-09    instagram_new_adverts   112.00  46.78           0.42\n",
       "22  2020-05-09            yandex_direct   144.00  42.78           0.30\n",
       "23  2020-05-09  youtube_channel_reklama   100.00  23.31           0.23\n",
       "24  2020-05-10             facebook_ads    56.00    NaN            NaN\n",
       "25  2020-05-10    instagram_new_adverts    70.00    NaN            NaN\n",
       "26  2020-05-10            yandex_direct    89.00    NaN            NaN\n",
       "27  2020-05-10  youtube_channel_reklama    56.00    NaN            NaN"
      ]
     },
     "execution_count": 36,
     "metadata": {},
     "output_type": "execute_result"
    }
   ],
   "source": [
    "#сводная таблица для динамики стоимости привлечения и количества привлеченных юзеров\n",
    "#c разбивкой по источникам\n",
    "new_user_cost = user.groupby(['building', 'source'])\\\n",
    ".agg({'user_id' : 'count'}).reset_index().rename(columns={'building':'day'})\n",
    "#объединяем количество юзеров со стоимостью\n",
    "new_user_cost = new_user_cost.merge(cost, on= ['day', 'source'], how ='outer')\n",
    "new_user_cost = new_user_cost.sort_values(by = 'day')\n",
    "#рассчитываем стоимость привлечения одного юзера для каждого дня\n",
    "new_user_cost['cost_per_user'] = new_user_cost['cost'] / new_user_cost['user_id']\n",
    "new_user_cost"
   ]
  },
  {
   "cell_type": "code",
   "execution_count": 37,
   "metadata": {},
   "outputs": [
    {
     "data": {
      "text/plain": [
       "13576.0"
      ]
     },
     "execution_count": 37,
     "metadata": {},
     "output_type": "execute_result"
    }
   ],
   "source": [
    "#проверка - должно получится общее число уникальных пользователей\n",
    "new_user_cost['user_id'].sum()"
   ]
  },
  {
   "cell_type": "code",
   "execution_count": 38,
   "metadata": {},
   "outputs": [
    {
     "data": {
      "image/png": "[encoded data removed]",
      "text/plain": [
       "<Figure size 360x288 with 1 Axes>"
      ]
     },
     "metadata": {
      "needs_background": "light"
     },
     "output_type": "display_data"
    }
   ],
   "source": [
    "plt.figure(figsize=(5, 4))\n",
    "sns.scatterplot(data=new_user_cost, x='day', y='cost_per_user', hue='source', size='user_id', sizes=(50, 500))\n",
    "plt.xticks(rotation=45)\n",
    "plt.grid(True)\n",
    "plt.legend(bbox_to_anchor= (1.03, 1) )\n",
    "plt.title('Средняя стоимость и объем привлечения пользователей в динамике');"
   ]
  },
  {
   "cell_type": "markdown",
   "metadata": {},
   "source": [
    "Мы видим, что почти у всех источников стоимость привлечения одного юзера немного растет в последние дни, а количество привлеченных юзеров наоборот уменьшается. Можно сделать вывод, что рекламная компания наиболее эффективна в первые дня три. \n",
    "\n",
    "*Еще, судя по сводной таблице выше можно сделать вывод, что существует лаг в 1 день. Т.е. стоимость кликов относится к 3 мая, но в этот день нет привлечения новых юзеров. И наоборот, в последний день 10 мая, есть новые юзеры, но нет оплаченных кликов. Для оценки этой закономерности мало данных, поэтому оставили как есть и первый и последний день не учитываем при построении графика.*"
   ]
  },
  {
   "cell_type": "markdown",
   "metadata": {},
   "source": [
    "### Retention_rate в зависимости от источника"
   ]
  },
  {
   "cell_type": "markdown",
   "metadata": {},
   "source": [
    "Для начала посмотрим в общем, как различаются источники по количеству привлеченных пользователей\n",
    "<a class=\"anchor\" id=\"chart-1\"></a>"
   ]
  },
  {
   "cell_type": "code",
   "execution_count": 39,
   "metadata": {},
   "outputs": [
    {
     "data": {
      "image/png": "[encoded data removed]",
      "text/plain": [
       "<Figure size 576x216 with 1 Axes>"
      ]
     },
     "metadata": {
      "needs_background": "light"
     },
     "output_type": "display_data"
    }
   ],
   "source": [
    "#сводная таблица, сколько источника привлекли уникальных пользователей\n",
    "report = game.merge(source, on=['user_id'])\n",
    "report.groupby('source').agg({'user_id' : 'nunique'}).plot(kind='bar', figsize=(8,3))\n",
    "plt.title('Количество привлеченных пользователей в разбивке по источникам')\n",
    "plt.ylabel('Количество пользователей');"
   ]
  },
  {
   "cell_type": "markdown",
   "metadata": {},
   "source": [
    "И сделаем сводную таблицу средней стоимости привлечения одного пользователя в разбивке по источникам."
   ]
  },
  {
   "cell_type": "code",
   "execution_count": 40,
   "metadata": {},
   "outputs": [
    {
     "data": {
      "text/html": [
       "<div>\n",
       "<style scoped>\n",
       "    .dataframe tbody tr th:only-of-type {\n",
       "        vertical-align: middle;\n",
       "    }\n",
       "\n",
       "    .dataframe tbody tr th {\n",
       "        vertical-align: top;\n",
       "    }\n",
       "\n",
       "    .dataframe thead th {\n",
       "        text-align: right;\n",
       "    }\n",
       "</style>\n",
       "<table border=\"1\" class=\"dataframe\">\n",
       "  <thead>\n",
       "    <tr style=\"text-align: right;\">\n",
       "      <th></th>\n",
       "      <th>user_id</th>\n",
       "      <th>cost</th>\n",
       "      <th>cost_per_user</th>\n",
       "    </tr>\n",
       "    <tr>\n",
       "      <th>source</th>\n",
       "      <th></th>\n",
       "      <th></th>\n",
       "      <th></th>\n",
       "    </tr>\n",
       "  </thead>\n",
       "  <tbody>\n",
       "    <tr>\n",
       "      <th>facebook_ads</th>\n",
       "      <td>2726</td>\n",
       "      <td>2,140.90</td>\n",
       "      <td>0.79</td>\n",
       "    </tr>\n",
       "    <tr>\n",
       "      <th>instagram_new_adverts</th>\n",
       "      <td>3347</td>\n",
       "      <td>2,161.44</td>\n",
       "      <td>0.65</td>\n",
       "    </tr>\n",
       "    <tr>\n",
       "      <th>yandex_direct</th>\n",
       "      <td>4817</td>\n",
       "      <td>2,233.11</td>\n",
       "      <td>0.46</td>\n",
       "    </tr>\n",
       "    <tr>\n",
       "      <th>youtube_channel_reklama</th>\n",
       "      <td>2686</td>\n",
       "      <td>1,068.12</td>\n",
       "      <td>0.40</td>\n",
       "    </tr>\n",
       "  </tbody>\n",
       "</table>\n",
       "</div>"
      ],
      "text/plain": [
       "                         user_id     cost  cost_per_user\n",
       "source                                                  \n",
       "facebook_ads                2726 2,140.90           0.79\n",
       "instagram_new_adverts       3347 2,161.44           0.65\n",
       "yandex_direct               4817 2,233.11           0.46\n",
       "youtube_channel_reklama     2686 1,068.12           0.40"
      ]
     },
     "execution_count": 40,
     "metadata": {},
     "output_type": "execute_result"
    }
   ],
   "source": [
    "report_group = report.groupby('source').agg({'user_id' : 'nunique'}) #количество пользователей\n",
    "cost_group = cost.groupby('source').agg({'cost' : 'sum'}) #стоимость привлечения\n",
    "report_group = report_group.merge(cost_group, on='source')\n",
    "#расчет стоимости привлечения одного пользователя\n",
    "report_group['cost_per_user'] = report_group['cost'] / report_group['user_id']\n",
    "report_group"
   ]
  },
  {
   "cell_type": "markdown",
   "metadata": {},
   "source": [
    "Источник **Yandex_direct** является лидером, он привлек больше всего пользователей и он один из самых дешевых. **Facebook_ads** намного дороже и привлек меньше всего пользователей"
   ]
  },
  {
   "cell_type": "markdown",
   "metadata": {},
   "source": [
    "**Коэффициент удержания** <a class=\"anchor\" id=\"retention\"></a> (retention_rate) мы посчитаем как отношение количества игроков, прошедших первый уровень к общему количеству игроков. Мы увидели, что среднее время прохождения уровня это 11 - 13 дней в зависимости от стратегии. Данные у нас за месяц. Поэтому, можно сделать вывод, что если человек не прошел первый уровень за это время, значит он не заинтересовался игрой. Так же мы видим, что активность юзеров с течением времени значительно падает - люди или перестают играть, или переходят на другой уровень. "
   ]
  },
  {
   "cell_type": "code",
   "execution_count": 41,
   "metadata": {},
   "outputs": [
    {
     "data": {
      "text/html": [
       "<div>\n",
       "<style scoped>\n",
       "    .dataframe tbody tr th:only-of-type {\n",
       "        vertical-align: middle;\n",
       "    }\n",
       "\n",
       "    .dataframe tbody tr th {\n",
       "        vertical-align: top;\n",
       "    }\n",
       "\n",
       "    .dataframe thead th {\n",
       "        text-align: right;\n",
       "    }\n",
       "</style>\n",
       "<table border=\"1\" class=\"dataframe\">\n",
       "  <thead>\n",
       "    <tr style=\"text-align: right;\">\n",
       "      <th></th>\n",
       "      <th>finished_stage_1</th>\n",
       "      <th>building</th>\n",
       "      <th>project</th>\n",
       "      <th>retention</th>\n",
       "      <th>victory</th>\n",
       "      <th>strategy</th>\n",
       "    </tr>\n",
       "    <tr>\n",
       "      <th>source</th>\n",
       "      <th></th>\n",
       "      <th></th>\n",
       "      <th></th>\n",
       "      <th></th>\n",
       "      <th></th>\n",
       "      <th></th>\n",
       "    </tr>\n",
       "  </thead>\n",
       "  <tbody>\n",
       "    <tr>\n",
       "      <th>facebook_ads</th>\n",
       "      <td>1150</td>\n",
       "      <td>2726</td>\n",
       "      <td>391</td>\n",
       "      <td>0.42</td>\n",
       "      <td>0.66</td>\n",
       "      <td>0.34</td>\n",
       "    </tr>\n",
       "    <tr>\n",
       "      <th>instagram_new_adverts</th>\n",
       "      <td>1466</td>\n",
       "      <td>3347</td>\n",
       "      <td>476</td>\n",
       "      <td>0.44</td>\n",
       "      <td>0.68</td>\n",
       "      <td>0.32</td>\n",
       "    </tr>\n",
       "    <tr>\n",
       "      <th>yandex_direct</th>\n",
       "      <td>2042</td>\n",
       "      <td>4817</td>\n",
       "      <td>620</td>\n",
       "      <td>0.42</td>\n",
       "      <td>0.70</td>\n",
       "      <td>0.30</td>\n",
       "    </tr>\n",
       "    <tr>\n",
       "      <th>youtube_channel_reklama</th>\n",
       "      <td>1159</td>\n",
       "      <td>2686</td>\n",
       "      <td>379</td>\n",
       "      <td>0.43</td>\n",
       "      <td>0.67</td>\n",
       "      <td>0.33</td>\n",
       "    </tr>\n",
       "  </tbody>\n",
       "</table>\n",
       "</div>"
      ],
      "text/plain": [
       "                         finished_stage_1  building  project  retention  \\\n",
       "source                                                                    \n",
       "facebook_ads                         1150      2726      391       0.42   \n",
       "instagram_new_adverts                1466      3347      476       0.44   \n",
       "yandex_direct                        2042      4817      620       0.42   \n",
       "youtube_channel_reklama              1159      2686      379       0.43   \n",
       "\n",
       "                         victory  strategy  \n",
       "source                                      \n",
       "facebook_ads                0.66      0.34  \n",
       "instagram_new_adverts       0.68      0.32  \n",
       "yandex_direct               0.70      0.30  \n",
       "youtube_channel_reklama     0.67      0.33  "
      ]
     },
     "metadata": {},
     "output_type": "display_data"
    },
    {
     "data": {
      "text/html": [
       "<div>\n",
       "<style scoped>\n",
       "    .dataframe tbody tr th:only-of-type {\n",
       "        vertical-align: middle;\n",
       "    }\n",
       "\n",
       "    .dataframe tbody tr th {\n",
       "        vertical-align: top;\n",
       "    }\n",
       "\n",
       "    .dataframe thead th {\n",
       "        text-align: right;\n",
       "    }\n",
       "</style>\n",
       "<table border=\"1\" class=\"dataframe\">\n",
       "  <thead>\n",
       "    <tr style=\"text-align: right;\">\n",
       "      <th></th>\n",
       "      <th>retention</th>\n",
       "      <th>strategy</th>\n",
       "      <th>cost_per_user</th>\n",
       "    </tr>\n",
       "    <tr>\n",
       "      <th>source</th>\n",
       "      <th></th>\n",
       "      <th></th>\n",
       "      <th></th>\n",
       "    </tr>\n",
       "  </thead>\n",
       "  <tbody>\n",
       "    <tr>\n",
       "      <th>facebook_ads</th>\n",
       "      <td>0.42</td>\n",
       "      <td>0.34</td>\n",
       "      <td>0.79</td>\n",
       "    </tr>\n",
       "    <tr>\n",
       "      <th>instagram_new_adverts</th>\n",
       "      <td>0.44</td>\n",
       "      <td>0.32</td>\n",
       "      <td>0.65</td>\n",
       "    </tr>\n",
       "    <tr>\n",
       "      <th>yandex_direct</th>\n",
       "      <td>0.42</td>\n",
       "      <td>0.30</td>\n",
       "      <td>0.46</td>\n",
       "    </tr>\n",
       "    <tr>\n",
       "      <th>youtube_channel_reklama</th>\n",
       "      <td>0.43</td>\n",
       "      <td>0.33</td>\n",
       "      <td>0.40</td>\n",
       "    </tr>\n",
       "  </tbody>\n",
       "</table>\n",
       "</div>"
      ],
      "text/plain": [
       "                         retention  strategy  cost_per_user\n",
       "source                                                     \n",
       "facebook_ads                  0.42      0.34           0.79\n",
       "instagram_new_adverts         0.44      0.32           0.65\n",
       "yandex_direct                 0.42      0.30           0.46\n",
       "youtube_channel_reklama       0.43      0.33           0.40"
      ]
     },
     "execution_count": 41,
     "metadata": {},
     "output_type": "execute_result"
    }
   ],
   "source": [
    "#группируем по источникам\n",
    "#'finished_stage_1' : 'count' - количество пользоватлей прошедших первый уровень\n",
    "#'building' : 'count' - количество пользователей - всего\n",
    "#'project' : 'count' - количество пользователей выполнивших проект\n",
    "user_group = user.groupby('source')\\\n",
    ".agg({'finished_stage_1' : 'count',\\\n",
    "      'building' : 'count',\\\n",
    "      'project' : 'count'}) \n",
    "#доля прошедших первый уровень\n",
    "user_group['retention'] = user_group['finished_stage_1'] / user_group['building']\n",
    "#доля выбравших стратиеги победы\n",
    "user_group['victory'] = (user_group['finished_stage_1'] - user_group['project'])/user_group['finished_stage_1']\n",
    "#доля выбравших проект в прошедших первый уровень\n",
    "user_group['strategy'] = user_group['project']/user_group['finished_stage_1']\n",
    "display(user_group)\n",
    "user_group_ratios = user_group[['retention', 'strategy']].merge(report_group['cost_per_user'], on='source')\n",
    "user_group_ratios"
   ]
  },
  {
   "cell_type": "code",
   "execution_count": 42,
   "metadata": {},
   "outputs": [
    {
     "data": {
      "text/plain": [
       "True"
      ]
     },
     "execution_count": 42,
     "metadata": {},
     "output_type": "execute_result"
    }
   ],
   "source": [
    "#проверка \n",
    "report_group['user_id'].sum() == user_group['building'].sum() == game['user_id'].nunique()"
   ]
  },
  {
   "cell_type": "code",
   "execution_count": 43,
   "metadata": {},
   "outputs": [
    {
     "data": {
      "text/plain": [
       "True"
      ]
     },
     "execution_count": 43,
     "metadata": {},
     "output_type": "execute_result"
    }
   ],
   "source": [
    "#проверка\n",
    "report_group['cost'].sum() == cost['cost'].sum()"
   ]
  },
  {
   "cell_type": "markdown",
   "metadata": {},
   "source": [
    "Кажется, что retention не зависит от выбора источника. Он колеблется от 42 до 43 процентов.  Насколько разница статистически значима, покажет [z-test](#z-test-1)"
   ]
  },
  {
   "cell_type": "markdown",
   "metadata": {},
   "source": [
    "### Количество построеных объектов, в зависимости от выбранной стратегии\n",
    "<a class=\"anchor\" id=\"project_ratio\"></a>"
   ]
  },
  {
   "cell_type": "code",
   "execution_count": 44,
   "metadata": {},
   "outputs": [
    {
     "data": {
      "image/png": "[encoded data removed]",
      "text/plain": [
       "<Figure size 432x288 with 1 Axes>"
      ]
     },
     "metadata": {
      "needs_background": "light"
     },
     "output_type": "display_data"
    }
   ],
   "source": [
    "#количество объектов, тех, кто выбрал победу\n",
    "build_victory = game.query('user_id in @list_victory.index').groupby('user_id')\\\n",
    ".agg({'building_type':'count'})\n",
    "\n",
    "#количество объектов, тех, кто выбрал проект\n",
    "build_project = game.query('user_id in @list_project.index').groupby('user_id')\\\n",
    ".agg({'building_type':'count'})\n",
    "\n",
    "#количество объектов, тех, кто не прошел первый уровень\n",
    "build_churn = game.query('user_id not in @list_victory.index and user_id not in @list_project.index')\\\n",
    ".groupby('user_id').agg({'building_type':'count'})\n",
    "\n",
    "ax = build_victory.hist(bins = 10)\n",
    "build_project.hist(ax=ax, bins = 10)\n",
    "plt.title('Распределение количества построенных объектов в зависимости от выбранной стратегии')\n",
    "plt.legend(['Победа', 'Проект'])\n",
    "plt.xlabel('Количество объектов')\n",
    "plt.ylabel('Количество пользователей');"
   ]
  },
  {
   "cell_type": "markdown",
   "metadata": {},
   "source": [
    "На этом гарфике хорошо видно различие двух стратегий "
   ]
  },
  {
   "cell_type": "code",
   "execution_count": 45,
   "metadata": {},
   "outputs": [
    {
     "data": {
      "image/png": "[encoded data removed]",
      "text/plain": [
       "<Figure size 432x288 with 1 Axes>"
      ]
     },
     "metadata": {
      "needs_background": "light"
     },
     "output_type": "display_data"
    }
   ],
   "source": [
    "build_churn.hist(color='green')\n",
    "plt.title('Распределение количества построенных объектов, пользователей, которые не прошли первый уровень')\n",
    "plt.legend(['Не прошли первый уровень - отток'])\n",
    "plt.xlabel('Количество объектов')\n",
    "plt.ylabel('Количество пользователей');"
   ]
  },
  {
   "cell_type": "code",
   "execution_count": 46,
   "metadata": {},
   "outputs": [
    {
     "data": {
      "image/png": "[encoded data removed]",
      "text/plain": [
       "<Figure size 1080x360 with 3 Axes>"
      ]
     },
     "metadata": {
      "needs_background": "light"
     },
     "output_type": "display_data"
    }
   ],
   "source": [
    "plt.figure(figsize = (15,5))\n",
    "plt.suptitle('Распределение количества построенных объектов пользователями')\n",
    "ax1 = plt.subplot(1, 3, 1)\n",
    "build_churn.hist(grid=True, ax=ax1, color='green')\n",
    "plt.ylabel('Количество пользователей')\n",
    "plt.xlabel('Количество объектов')\n",
    "plt.title('Не прошли уровень - отток')\n",
    "ax2 = plt.subplot(1, 3, 2, sharey=ax1)\n",
    "build_victory.hist(grid=True, ax=ax2, color='blue', sharey=ax1)\n",
    "plt.title('Прошли - победа')\n",
    "ax3 = plt.subplot(1, 3, 3, sharey=ax1)\n",
    "build_project.hist(grid=True, ax=ax3, color='orange', sharey=ax1)\n",
    "plt.title('Прошли - проект');"
   ]
  },
  {
   "cell_type": "code",
   "execution_count": 47,
   "metadata": {},
   "outputs": [
    {
     "name": "stdout",
     "output_type": "stream",
     "text": [
      "медианное количество построенных объектов\n",
      "\n",
      "\n",
      "не прошли уровень - отток: building_type   8.00\n",
      "dtype: float64\n",
      "прошли - победа: building_type   10.00\n",
      "dtype: float64\n",
      "прошли - проект: building_type   12.00\n",
      "dtype: float64\n"
     ]
    }
   ],
   "source": [
    "print('медианное количество построенных объектов')\n",
    "print('\\n')\n",
    "print('не прошли уровень - отток:', build_churn.median())\n",
    "print('прошли - победа:', build_victory.median())\n",
    "print('прошли - проект:', build_project.median())"
   ]
  },
  {
   "cell_type": "code",
   "execution_count": 48,
   "metadata": {},
   "outputs": [
    {
     "data": {
      "text/html": [
       "<div>\n",
       "<style scoped>\n",
       "    .dataframe tbody tr th:only-of-type {\n",
       "        vertical-align: middle;\n",
       "    }\n",
       "\n",
       "    .dataframe tbody tr th {\n",
       "        vertical-align: top;\n",
       "    }\n",
       "\n",
       "    .dataframe thead th {\n",
       "        text-align: right;\n",
       "    }\n",
       "</style>\n",
       "<table border=\"1\" class=\"dataframe\">\n",
       "  <thead>\n",
       "    <tr style=\"text-align: right;\">\n",
       "      <th></th>\n",
       "      <th>building_type</th>\n",
       "    </tr>\n",
       "  </thead>\n",
       "  <tbody>\n",
       "    <tr>\n",
       "      <th>0</th>\n",
       "      <td>6</td>\n",
       "    </tr>\n",
       "  </tbody>\n",
       "</table>\n",
       "</div>"
      ],
      "text/plain": [
       "   building_type\n",
       "0              6"
      ]
     },
     "execution_count": 48,
     "metadata": {},
     "output_type": "execute_result"
    }
   ],
   "source": [
    "build_churn.mode()"
   ]
  },
  {
   "cell_type": "code",
   "execution_count": 49,
   "metadata": {},
   "outputs": [
    {
     "data": {
      "image/png": "[encoded data removed]",
      "text/plain": [
       "<Figure size 1080x720 with 1 Axes>"
      ]
     },
     "metadata": {
      "needs_background": "light"
     },
     "output_type": "display_data"
    }
   ],
   "source": [
    "#сравниваем характер распределения количества объектов, в зависимотси от выбранной стратегии\n",
    "plt.figure(figsize = (15,10))\n",
    "sns.distplot(build_victory, ax = plt.subplot(2, 1, 1))\n",
    "sns.distplot(build_project, ax = plt.subplot(2, 1, 1))\n",
    "sns.distplot(build_churn, ax = plt.subplot(2, 1, 1))\n",
    "plt.legend(['Победа', 'Проект', 'Не прошли уровень - отток']);"
   ]
  },
  {
   "cell_type": "markdown",
   "metadata": {},
   "source": [
    "Кажется, что у этих двух стратегий в среднем длительность разная. Но статистический тест в следующем разделе даст научно подкрепленный ответ, что разница в два дня - это статистически значимая разница. Распределения стратегии Проект более плотное.\n",
    "\n",
    "У категории пользователей, которые не прошли уровень распределение более равномерное, менее плотное. Могли строить разное количество объектов."
   ]
  },
  {
   "cell_type": "code",
   "execution_count": 50,
   "metadata": {},
   "outputs": [
    {
     "data": {
      "text/html": [
       "<div>\n",
       "<style scoped>\n",
       "    .dataframe tbody tr th:only-of-type {\n",
       "        vertical-align: middle;\n",
       "    }\n",
       "\n",
       "    .dataframe tbody tr th {\n",
       "        vertical-align: top;\n",
       "    }\n",
       "\n",
       "    .dataframe thead th {\n",
       "        text-align: right;\n",
       "    }\n",
       "</style>\n",
       "<table border=\"1\" class=\"dataframe\">\n",
       "  <thead>\n",
       "    <tr style=\"text-align: right;\">\n",
       "      <th></th>\n",
       "      <th>finished_stage_1</th>\n",
       "      <th>project</th>\n",
       "      <th>strategy</th>\n",
       "    </tr>\n",
       "    <tr>\n",
       "      <th>source</th>\n",
       "      <th></th>\n",
       "      <th></th>\n",
       "      <th></th>\n",
       "    </tr>\n",
       "  </thead>\n",
       "  <tbody>\n",
       "    <tr>\n",
       "      <th>facebook_ads</th>\n",
       "      <td>1150</td>\n",
       "      <td>391</td>\n",
       "      <td>0.34</td>\n",
       "    </tr>\n",
       "    <tr>\n",
       "      <th>instagram_new_adverts</th>\n",
       "      <td>1466</td>\n",
       "      <td>476</td>\n",
       "      <td>0.32</td>\n",
       "    </tr>\n",
       "    <tr>\n",
       "      <th>yandex_direct</th>\n",
       "      <td>2042</td>\n",
       "      <td>620</td>\n",
       "      <td>0.30</td>\n",
       "    </tr>\n",
       "    <tr>\n",
       "      <th>youtube_channel_reklama</th>\n",
       "      <td>1159</td>\n",
       "      <td>379</td>\n",
       "      <td>0.33</td>\n",
       "    </tr>\n",
       "  </tbody>\n",
       "</table>\n",
       "</div>"
      ],
      "text/plain": [
       "                         finished_stage_1  project  strategy\n",
       "source                                                      \n",
       "facebook_ads                         1150      391      0.34\n",
       "instagram_new_adverts                1466      476      0.32\n",
       "yandex_direct                        2042      620      0.30\n",
       "youtube_channel_reklama              1159      379      0.33"
      ]
     },
     "execution_count": 50,
     "metadata": {},
     "output_type": "execute_result"
    }
   ],
   "source": [
    "#проанализируем, влияет ли источник на выбор одной из двух стратегии\n",
    "user_strategy = user.groupby('source').agg({'finished_stage_1' : 'count', 'project' : 'count'})\n",
    "#считаем долю выбравших проект, в общем числе прошедших уровень\n",
    "user_strategy['strategy'] = user_strategy['project'] / user_strategy['finished_stage_1']\n",
    "user_strategy"
   ]
  },
  {
   "cell_type": "markdown",
   "metadata": {},
   "source": [
    "Если игрок выбирает стратегию **победы**, то в среднем он строит **10 объектов**, но количество построенных объектов это не обязательное условие, можно и с 2мя объектами победить. \n",
    "\n",
    "Чтобы пройти уровень посредством **завершения проекта,** нужно построить **как минимум 10 объектов, в среднем строят 12**. \n",
    "\n",
    "Для сравнения, **те, кто не прошли первый уровень**, строили **в среднем 8 объектов**, c наиболее часто встречающимся количеством 6. После 6 ти на гистограмме мы видим резкое падение, что означает, видимо, что после этого игрокам становилось неинтересно и они прекращали играть. \n",
    "\n",
    "Т.е. получается, чтобы рекламой охватить как можно большую аудиторию нужно показывать рекламу при строительстве первых 10ти объектов. Только нужно, конечно, удостовериться, чтобы она была ненавязчивой и не отпугивала игроков."
   ]
  },
  {
   "cell_type": "markdown",
   "metadata": {},
   "source": [
    "Мы посчитали долю выбравших стратегию проекта в прошедших первый уровень в разбивке зависимости от источников. Это тоже важно для оценки эффективности источника, потому что **стратегия проекта** предполагает большее строительство объектов и следовательно больше возможностей для показа рекламы. Т.е чем больше эта доля тем больший потенциал для монетизации. Разброс доли получился от 0.3 до 0.34. Насколько эта разница статистически значимая, нам покажет стат тест в следующем [разделе](#z-test-2)"
   ]
  },
  {
   "cell_type": "markdown",
   "metadata": {},
   "source": [
    "### Тип построеных объектов"
   ]
  },
  {
   "cell_type": "code",
   "execution_count": 51,
   "metadata": {},
   "outputs": [],
   "source": [
    "#сделаем сводную таблицу, счетающую количество объектов разного типа, построенных одним игроком\n",
    "building = game.pivot_table(index='user_id', columns='building_type', values='event_datetime', aggfunc='count')\n",
    "building = building.fillna(0) #заменяем пропуски на нули для суммирования\n",
    "building['total'] = building['assembly_shop'] + building['research_center'] + building['spaceport']\n",
    "#добавим источник \n",
    "building = building.merge(source, on='user_id')\n",
    "#добавим категоризацию \n",
    "def cat(user):\n",
    "    if user in list_victory.index:\n",
    "        return 'victory' #прошел первый уровень, победив\n",
    "    if user in list_project.index:\n",
    "        return 'project' #прошел первый уровень, выполнив проект\n",
    "    return 'churn' #не прошел первый уровень\n",
    "building['cat'] = building['user_id'].apply(cat)"
   ]
  },
  {
   "cell_type": "code",
   "execution_count": 52,
   "metadata": {},
   "outputs": [
    {
     "data": {
      "image/png": "[encoded data removed]",
      "text/plain": [
       "<Figure size 432x288 with 1 Axes>"
      ]
     },
     "metadata": {
      "needs_background": "light"
     },
     "output_type": "display_data"
    }
   ],
   "source": [
    "building_type = building.groupby('source').agg({'assembly_shop':'sum', 'research_center':'sum', 'spaceport':'sum'})\n",
    "building_type.plot(kind='bar', stacked=True)\n",
    "plt.title('Анализ количества и типов построенных объектов в зависимости от источника')\n",
    "plt.ylabel('Количество построенных объектов всего');"
   ]
  },
  {
   "cell_type": "markdown",
   "metadata": {},
   "source": [
    "Соотношение количества построенных объектов в разбивке по источникам аналогично соотношению количеству игроков, привлеченных [разными источниками](#chart-1). Это говорит о том, что пользователи строят примерно одинаковое количество объектов в независимости от источника. \n",
    "\n",
    "Больше всего строят spaceport и assembly shop"
   ]
  },
  {
   "cell_type": "markdown",
   "metadata": {},
   "source": [
    "<div class=\"alert alert-info\"> <b>Комментарий студента:</b> Согласна, с процентами было бы намного полезней. Но то, что я находила в matplotlib, как вставлять проценты - очень муторно, сложно с какими-то дикими циклами. В plotly, тоже какие-то сложности у меня с этим были..... </div> "
   ]
  },
  {
   "cell_type": "markdown",
   "metadata": {},
   "source": [
    "<div class=\"alert alert-success\">\n",
    "<b>Комментарий ревьюера v2:</b>☀️\n",
    "    \n",
    "Отлично, что попыталась найти балан по затратам времени и визуальной составляющей\n",
    "</div>\n"
   ]
  },
  {
   "cell_type": "code",
   "execution_count": 53,
   "metadata": {
    "scrolled": true
   },
   "outputs": [
    {
     "name": "stdout",
     "output_type": "stream",
     "text": [
      "Распределения количества построенных объектов по типам в зависимости от выбранной стратегии\n"
     ]
    },
    {
     "data": {
      "image/png": "[encoded data removed]",
      "text/plain": [
       "<Figure size 360x144 with 1 Axes>"
      ]
     },
     "metadata": {
      "needs_background": "light"
     },
     "output_type": "display_data"
    },
    {
     "data": {
      "image/png": "[encoded data removed]",
      "text/plain": [
       "<Figure size 360x144 with 1 Axes>"
      ]
     },
     "metadata": {
      "needs_background": "light"
     },
     "output_type": "display_data"
    },
    {
     "data": {
      "image/png": "[encoded data removed]",
      "text/plain": [
       "<Figure size 360x144 with 1 Axes>"
      ]
     },
     "metadata": {
      "needs_background": "light"
     },
     "output_type": "display_data"
    }
   ],
   "source": [
    "cols = ['assembly_shop', 'research_center', 'spaceport']\n",
    "cats = building['cat'].unique()\n",
    "print('Распределения количества построенных объектов по типам в зависимости от выбранной стратегии')\n",
    "for cat in cats:\n",
    "    for col in cols:\n",
    "        building.query('cat==@cat')[col].plot(kind='hist', alpha=0.5, figsize=(5,2), xticks=range(11))\n",
    "        plt.legend(cols)\n",
    "        plt.title(cat)\n",
    "        plt.xlabel('Количество объектов')\n",
    "        plt.ylabel('Количество игроков')\n",
    "    plt.show()"
   ]
  },
  {
   "cell_type": "markdown",
   "metadata": {},
   "source": [
    "В целом те, кто не прошли первый уровень или выбрали стратегию победы над другими игроками имеют похожее распределение по типам объектов. Они или вообще не строят reserach_center или делают это редко. Распределение строительства двух других типов объектов схожее. Различие только в том, что у тех, кто не прошли уровень распределение немного скошено влево. У выбравших победу - более нормальное. Те, кто завершил проект, должны построить хотя бы один research_center и их распределение скошено немного вправо для двух других типов объектов.\n",
    "У всех игроков количество построенных spaceport не превышает 10, assembly_shop - не больше 7, research_center не больше 5."
   ]
  },
  {
   "cell_type": "markdown",
   "metadata": {},
   "source": [
    "### Вывод"
   ]
  },
  {
   "cell_type": "markdown",
   "metadata": {},
   "source": [
    "Источники различаются по:\n",
    "* количеству привлеченных пользователей (лидер это Yandex_direct)\n",
    "* по цене привлечения (самые дешевые это Yandex_direct и Youtube)\n",
    "\n",
    "Количество дней, проведенное игроком в игре не зависит от источника.\n",
    "\n",
    "Также мы проанализировали эффективность привлечения пользователей в динамике. Выяснилось, что в первые дни рекламной компании привлекалось больше пользователей и стоимость кликов была меньше, чем в последние дни. Причем падения количества пользователей было очень резким. Из этого можно сделать вывод, что можно сократить сроки размещения рекламы.\n",
    "\n",
    "Поведения игрока различается от выбора стратегии игры (победа над другими игроками или реализация проекта). Если игрок выбирает проект, то длительность прохождения игры у него увеличивается на 2 дня (от 11 до 13). Также ему приходится строить больше различных объектов - минимум 10. (В среднем 12.) Выбравшие стратегию победы в среднем строят 10 объектов, но могут и меньше.\n",
    "\n",
    "*В следующем разделе мы проверим гипотезу о том, что время прохождения первого уровня различается в зависимости от стратегии в целом для генеральной совокупности, что полученная разница между выборочными средними статистически значима.*\n",
    "\n",
    "Т.е. получается, что игроки, выбравшие проект - будут видеть рекламу чаще. \n",
    "\n",
    "\n",
    "Мы рассчитали коэффициент удержания - долю прошедших первый уровень. Для разных источников он почти одинаковый.\n",
    "\n",
    "Также мы рассчитали долю игроков выбравших стратегию реализации проекта в прошедших первый уровень, она также почти не различается для разных источников. *В следующем разделе мы проверим гипотезы о равенстве долей с помощью статистических тестов.*\n",
    "\n",
    "Также мы оценили категорию игроков, которые не прошли первый уровень. В целом их активность не намного меньше игроков, которые прошли первый уровень, что хорошо для будущей монетизации. Охват аудитории будет большой. Они:\n",
    "* проводят в игре в среднем 10 дней\n",
    "* строят в среднем 8 объектов"
   ]
  },
  {
   "cell_type": "markdown",
   "metadata": {},
   "source": [
    "## Статистический анализ"
   ]
  },
  {
   "cell_type": "markdown",
   "metadata": {},
   "source": [
    "### Время завершения уровня различается от способа прохождения. "
   ]
  },
  {
   "cell_type": "markdown",
   "metadata": {},
   "source": [
    "тест МаннаУитни <a class=\"anchor\" id=\"time\"></a>\n",
    "\n",
    "В предыдущем [разделе](#MU) мы:\n",
    "* посчитали среднюю длительность прохождения для каждой из двух стратегий \n",
    "* создали два pd.Series для теста МаннаУитни для определения на сколько статистически значимой является разница между двумя этими величинами. \n",
    "\n",
    "Теста МаннаУитни был выбран потому, что:\n",
    "* он может быть использован для выборок разного размера\n",
    "* выборки могут не быть нормально распределены\n",
    "* он нечувствителен к выбросам как t-test. (поэтому выбросы не убирали)\n",
    "\n",
    "**Нулевая гипотеза:** среденнее время, необходимое для прохождения уровня не зависит от выбранной стратегии\n",
    "\n",
    "**Альтернативная гипотеза:** Игроки выбравшие стратегию завершения проекта, тратят на прохождения первого уровня больше времени, чем игроки выбравшие стратегию победы над другими участниками\n",
    "\n",
    "**Альфа = 5%.** Если p-value будет меньше уровня значимости, мы отвергнем нулевую гипотезу.\n",
    "\n",
    "**P-value** - вероятность при которой при данных выборочных средних (11 и 13 дней) генеральные совокупности равны."
   ]
  },
  {
   "cell_type": "code",
   "execution_count": 54,
   "metadata": {},
   "outputs": [
    {
     "data": {
      "image/png": "[encoded data removed]",
      "text/plain": [
       "<Figure size 1080x720 with 1 Axes>"
      ]
     },
     "metadata": {
      "needs_background": "light"
     },
     "output_type": "display_data"
    }
   ],
   "source": [
    "#плотность распределения продолжительности в зависимости от выбранной стратиегии\n",
    "#сравниваем характер распределения \n",
    "plt.figure(figsize = (15,10))\n",
    "sns.distplot(list_victory, ax = plt.subplot(2, 1, 1))\n",
    "sns.distplot(list_project, ax = plt.subplot(2, 1, 1))\n",
    "plt.legend(['Победа', 'Проект']);"
   ]
  },
  {
   "cell_type": "code",
   "execution_count": 55,
   "metadata": {},
   "outputs": [
    {
     "name": "stdout",
     "output_type": "stream",
     "text": [
      "p-value: 4.7866103584542195e-105\n"
     ]
    }
   ],
   "source": [
    "#находим p-value теста МаннаУитни\n",
    "print('p-value:',(stats.mannwhitneyu(list_victory, list_project)[1]))"
   ]
  },
  {
   "cell_type": "markdown",
   "metadata": {},
   "source": [
    "**Вывод.**\n",
    "\n",
    "**P-value** получается очень маленькое, почти 0, меньше 5% - гипотезу о равенстве длительности прохождения первого уровня у игроков, выбравших разные стратегии отвергаем. Принимаем альтернативную гипотезу. В принципе это и было видно по гистограмам распределения выборочных данных за месяц и выборочным средним."
   ]
  },
  {
   "cell_type": "markdown",
   "metadata": {},
   "source": [
    "### Retention_rate не зависит от источника привлечения. "
   ]
  },
  {
   "cell_type": "markdown",
   "metadata": {},
   "source": [
    "z-test <a class=\"anchor\" id=\"z-test-1\"></a>\n",
    "\n",
    "Коэффициент удержания мы посчитали [здесь](#retention). Сравнивать коэффициент удеражние у различных источников мы будем попарно с помощью z-test, тк он представляет собой долю. \n",
    "\n",
    "**Z-test** позволяет нам это сделать:\n",
    "* Выборки, по которым посчитаны доли могут быть разных размеров\n",
    "* Нормальное распределение выборок не обязательно\n",
    "\n",
    "**Нулевая гипотеза** - Коэффициенты удеражания разных источников равны между собой. \n",
    "\n",
    "**Поправка бонферони.** Тест будет множественным. Количество сравнений будет 6. Чтобы не повысить вероятность ошибки первого рода (отвергнута верная нулевая гипотеза), уровень значимость альфа (мы возьмем 10%) разделим на 6. \n",
    "\n",
    "Если посчитанное **p-value** будет меньше уровня значимости - значит есть основания опровергнуть нулевую гипотезу о равенстве долей. "
   ]
  },
  {
   "cell_type": "code",
   "execution_count": 56,
   "metadata": {},
   "outputs": [],
   "source": [
    "# функция z-теста\n",
    "def check_hypothesis (successes1, successes2, trials1, trials2):\n",
    "    p1 = successes1/trials1\n",
    "    p2 = successes2/trials2\n",
    "    p_combined = (successes1 + successes2)/(trials1 + trials2)\n",
    "    difference = p1 - p2\n",
    "    z_value = difference / math.sqrt(p_combined*(1 - p_combined)*(1/trials1 + 1/trials2))\n",
    "    distr = stats.norm(0, 1)\n",
    "    p_value = (1 - distr.cdf(abs(z_value)))*2\n",
    "    return p_value"
   ]
  },
  {
   "cell_type": "code",
   "execution_count": 57,
   "metadata": {},
   "outputs": [
    {
     "data": {
      "text/html": [
       "<div>\n",
       "<style scoped>\n",
       "    .dataframe tbody tr th:only-of-type {\n",
       "        vertical-align: middle;\n",
       "    }\n",
       "\n",
       "    .dataframe tbody tr th {\n",
       "        vertical-align: top;\n",
       "    }\n",
       "\n",
       "    .dataframe thead th {\n",
       "        text-align: right;\n",
       "    }\n",
       "</style>\n",
       "<table border=\"1\" class=\"dataframe\">\n",
       "  <thead>\n",
       "    <tr style=\"text-align: right;\">\n",
       "      <th></th>\n",
       "      <th>finished_stage_1</th>\n",
       "      <th>building</th>\n",
       "      <th>project</th>\n",
       "      <th>retention</th>\n",
       "      <th>victory</th>\n",
       "      <th>strategy</th>\n",
       "    </tr>\n",
       "    <tr>\n",
       "      <th>source</th>\n",
       "      <th></th>\n",
       "      <th></th>\n",
       "      <th></th>\n",
       "      <th></th>\n",
       "      <th></th>\n",
       "      <th></th>\n",
       "    </tr>\n",
       "  </thead>\n",
       "  <tbody>\n",
       "    <tr>\n",
       "      <th>facebook_ads</th>\n",
       "      <td>1150</td>\n",
       "      <td>2726</td>\n",
       "      <td>391</td>\n",
       "      <td>0.42</td>\n",
       "      <td>0.66</td>\n",
       "      <td>0.34</td>\n",
       "    </tr>\n",
       "    <tr>\n",
       "      <th>instagram_new_adverts</th>\n",
       "      <td>1466</td>\n",
       "      <td>3347</td>\n",
       "      <td>476</td>\n",
       "      <td>0.44</td>\n",
       "      <td>0.68</td>\n",
       "      <td>0.32</td>\n",
       "    </tr>\n",
       "    <tr>\n",
       "      <th>yandex_direct</th>\n",
       "      <td>2042</td>\n",
       "      <td>4817</td>\n",
       "      <td>620</td>\n",
       "      <td>0.42</td>\n",
       "      <td>0.70</td>\n",
       "      <td>0.30</td>\n",
       "    </tr>\n",
       "    <tr>\n",
       "      <th>youtube_channel_reklama</th>\n",
       "      <td>1159</td>\n",
       "      <td>2686</td>\n",
       "      <td>379</td>\n",
       "      <td>0.43</td>\n",
       "      <td>0.67</td>\n",
       "      <td>0.33</td>\n",
       "    </tr>\n",
       "  </tbody>\n",
       "</table>\n",
       "</div>"
      ],
      "text/plain": [
       "                         finished_stage_1  building  project  retention  \\\n",
       "source                                                                    \n",
       "facebook_ads                         1150      2726      391       0.42   \n",
       "instagram_new_adverts                1466      3347      476       0.44   \n",
       "yandex_direct                        2042      4817      620       0.42   \n",
       "youtube_channel_reklama              1159      2686      379       0.43   \n",
       "\n",
       "                         victory  strategy  \n",
       "source                                      \n",
       "facebook_ads                0.66      0.34  \n",
       "instagram_new_adverts       0.68      0.32  \n",
       "yandex_direct               0.70      0.30  \n",
       "youtube_channel_reklama     0.67      0.33  "
      ]
     },
     "execution_count": 57,
     "metadata": {},
     "output_type": "execute_result"
    }
   ],
   "source": [
    "#сводные данные для теста\n",
    "user_group"
   ]
  },
  {
   "cell_type": "code",
   "execution_count": 58,
   "metadata": {},
   "outputs": [
    {
     "name": "stdout",
     "output_type": "stream",
     "text": [
      "alpha_bonferoni: 0.02\n"
     ]
    }
   ],
   "source": [
    "alpha_bonferoni = round(0.1/6, 2)\n",
    "print('alpha_bonferoni:', alpha_bonferoni)"
   ]
  },
  {
   "cell_type": "code",
   "execution_count": 59,
   "metadata": {},
   "outputs": [
    {
     "name": "stdout",
     "output_type": "stream",
     "text": [
      "facebook_ads  and  instagram_new_adverts\n",
      "p-value: 0.21\n",
      "\n",
      "\n",
      "facebook_ads  and  yandex_direct\n",
      "p-value: 0.86\n",
      "\n",
      "\n",
      "facebook_ads  and  youtube_channel_reklama\n",
      "p-value: 0.47\n",
      "\n",
      "\n",
      "instagram_new_adverts  and  yandex_direct\n",
      "p-value: 0.21\n",
      "\n",
      "\n",
      "instagram_new_adverts  and  youtube_channel_reklama\n",
      "p-value: 0.61\n",
      "\n",
      "\n",
      "yandex_direct  and  youtube_channel_reklama\n",
      "p-value: 0.52\n",
      "\n",
      "\n"
     ]
    }
   ],
   "source": [
    "#создаем пары из четырех источников для сравнения долей\n",
    "pairs = list(itertools.combinations(user_group.index, 2))\n",
    "\n",
    "#применяем z-test к каждой паре\n",
    "for pair in pairs:\n",
    "    print(pair[0], ' and ', pair[1])\n",
    "    print('p-value:', '{0:.2f}'.format(check_hypothesis(user_group.loc[pair[0], 'finished_stage_1'],\\\n",
    "                user_group.loc[pair[1], 'finished_stage_1'],\\\n",
    "                user_group.loc[pair[0], 'building'],\\\n",
    "                user_group.loc[pair[1], 'building'])))\n",
    "    print('\\n')"
   ]
  },
  {
   "cell_type": "markdown",
   "metadata": {},
   "source": [
    "**Вывод.**\n",
    "\n",
    "Все полученные **p-value** больше уровня значимости с поправкой бонферони - не отвергаем нулевую гипотезу о равенстве долей. Коэффициент удержания не зависит от выбранного источника."
   ]
  },
  {
   "cell_type": "markdown",
   "metadata": {},
   "source": [
    "### Выбор стратегии пользователем не зависит от канала привлечения. "
   ]
  },
  {
   "cell_type": "markdown",
   "metadata": {},
   "source": [
    "z-test <a class=\"anchor\" id=\"z-test-2\"></a>\n",
    "\n",
    "Долю выбравших проект, в общем количестве прошедших первый уровень мы посчитали [здесь](#project_ratio). Этот коэффициент мы сравним с помощью z-test у всех источников попарно. Расчеты будут аналогичные как и у z-test retention_rate. \n",
    "\n",
    "**Нулевая гипотеза** - Доля выбравших стратегию завершения проекта разных источников одинакова для всех источников."
   ]
  },
  {
   "cell_type": "code",
   "execution_count": 60,
   "metadata": {},
   "outputs": [
    {
     "name": "stdout",
     "output_type": "stream",
     "text": [
      "facebook_ads  and  instagram_new_adverts\n",
      "p-value: 0.41\n",
      "\n",
      "\n",
      "facebook_ads  and  yandex_direct\n",
      "p-value: 0.03\n",
      "\n",
      "\n",
      "facebook_ads  and  youtube_channel_reklama\n",
      "p-value: 0.51\n",
      "\n",
      "\n",
      "instagram_new_adverts  and  yandex_direct\n",
      "p-value: 0.18\n",
      "\n",
      "\n",
      "instagram_new_adverts  and  youtube_channel_reklama\n",
      "p-value: 0.90\n",
      "\n",
      "\n",
      "yandex_direct  and  youtube_channel_reklama\n",
      "p-value: 0.17\n",
      "\n",
      "\n"
     ]
    }
   ],
   "source": [
    "#создаем пары из четырех источников для сравнения долей\n",
    "#применяем z-test к каждой паре\n",
    "for pair in pairs:\n",
    "    print(pair[0], ' and ', pair[1])\n",
    "    print('p-value:', '{0:.2f}'.format(check_hypothesis(user_group.loc[pair[0], 'project'],\\\n",
    "                user_group.loc[pair[1], 'project'],\\\n",
    "                user_group.loc[pair[0], 'finished_stage_1'],\\\n",
    "                user_group.loc[pair[1], 'finished_stage_1'])))\n",
    "    print('\\n')"
   ]
  },
  {
   "cell_type": "markdown",
   "metadata": {},
   "source": [
    "**Вывод.**\n",
    "\n",
    "Все полученные **p-value** больше уровня значимости с поправкой бонферони - не отвергаем нулевую гипотезу о равенстве долей. Выбор стратегии не зависит от выбранного источника."
   ]
  },
  {
   "cell_type": "markdown",
   "metadata": {},
   "source": [
    "## Вывод"
   ]
  },
  {
   "cell_type": "code",
   "execution_count": 61,
   "metadata": {},
   "outputs": [
    {
     "data": {
      "text/html": [
       "<div>\n",
       "<style scoped>\n",
       "    .dataframe tbody tr th:only-of-type {\n",
       "        vertical-align: middle;\n",
       "    }\n",
       "\n",
       "    .dataframe tbody tr th {\n",
       "        vertical-align: top;\n",
       "    }\n",
       "\n",
       "    .dataframe thead th {\n",
       "        text-align: right;\n",
       "    }\n",
       "</style>\n",
       "<table border=\"1\" class=\"dataframe\">\n",
       "  <thead>\n",
       "    <tr style=\"text-align: right;\">\n",
       "      <th></th>\n",
       "      <th>retention</th>\n",
       "      <th>strategy</th>\n",
       "      <th>cost_per_user</th>\n",
       "    </tr>\n",
       "    <tr>\n",
       "      <th>source</th>\n",
       "      <th></th>\n",
       "      <th></th>\n",
       "      <th></th>\n",
       "    </tr>\n",
       "  </thead>\n",
       "  <tbody>\n",
       "    <tr>\n",
       "      <th>facebook_ads</th>\n",
       "      <td>0.42</td>\n",
       "      <td>0.34</td>\n",
       "      <td>0.79</td>\n",
       "    </tr>\n",
       "    <tr>\n",
       "      <th>instagram_new_adverts</th>\n",
       "      <td>0.44</td>\n",
       "      <td>0.32</td>\n",
       "      <td>0.65</td>\n",
       "    </tr>\n",
       "    <tr>\n",
       "      <th>yandex_direct</th>\n",
       "      <td>0.42</td>\n",
       "      <td>0.30</td>\n",
       "      <td>0.46</td>\n",
       "    </tr>\n",
       "    <tr>\n",
       "      <th>youtube_channel_reklama</th>\n",
       "      <td>0.43</td>\n",
       "      <td>0.33</td>\n",
       "      <td>0.40</td>\n",
       "    </tr>\n",
       "  </tbody>\n",
       "</table>\n",
       "</div>"
      ],
      "text/plain": [
       "                         retention  strategy  cost_per_user\n",
       "source                                                     \n",
       "facebook_ads                  0.42      0.34           0.79\n",
       "instagram_new_adverts         0.44      0.32           0.65\n",
       "yandex_direct                 0.42      0.30           0.46\n",
       "youtube_channel_reklama       0.43      0.33           0.40"
      ]
     },
     "metadata": {},
     "output_type": "display_data"
    }
   ],
   "source": [
    "display(user_group_ratios)"
   ]
  },
  {
   "cell_type": "markdown",
   "metadata": {},
   "source": [
    "***Какой источник лучше с точки зрения эффективности?***\n",
    "Мы выяснили, что источники значимо различаются только ценой привлечения юзера. Выбор источника привлечения не влияет на коэффициент удержания(прохождения уровня). Также не влияет на выбор стратегии, которая будет использоваться игроком. Т.е. не будет влиять ни на длительность прохождения уровня, ни на количество построенных объектов. Следовательно, нужно выбирать самые дешевые источники - Yandex и Youtube.\n",
    "\n",
    "***Размещение рекламы.***\n",
    "В среднем игрок на превом уровне строит от 8 (не прошли уровень) до 12 (реализация проекта) объектов. При среднем времени прохождения первого уровня от 11 до 13 дней. Также игрок, который вообще не прошел уровнеь остается в игре в среднем 10 дней. Поэтому показывать рекламу при каждом выборе объекта для строительства является хорошим выбором. Это происходит в среднем менее двух раз за день и реклама не будет слишком частой и навязчивой.\n",
    "\n",
    "Выручка от размещения рекламы приходящаяся на одного пользователя не должна быть меньше стоимости его привлечения."
   ]
  },
  {
   "cell_type": "code",
   "execution_count": null,
   "metadata": {},
   "outputs": [],
   "source": []
  }
 ],
 "metadata": {
  "ExecuteTimeLog": [
   {
    "duration": 1571,
    "start_time": "2022-05-12T07:44:38.645Z"
   },
   {
    "duration": 39,
    "start_time": "2022-05-12T07:46:17.607Z"
   },
   {
    "duration": 101,
    "start_time": "2022-05-12T07:50:35.404Z"
   },
   {
    "duration": 4,
    "start_time": "2022-05-12T07:51:00.550Z"
   },
   {
    "duration": 4,
    "start_time": "2022-05-12T07:51:56.767Z"
   },
   {
    "duration": 5,
    "start_time": "2022-05-12T07:52:21.669Z"
   },
   {
    "duration": 25,
    "start_time": "2022-05-12T07:57:13.892Z"
   },
   {
    "duration": 20,
    "start_time": "2022-05-12T07:57:34.383Z"
   },
   {
    "duration": 5,
    "start_time": "2022-05-12T07:57:44.991Z"
   },
   {
    "duration": 15,
    "start_time": "2022-05-12T07:57:55.787Z"
   },
   {
    "duration": 6,
    "start_time": "2022-05-12T07:58:12.839Z"
   },
   {
    "duration": 10,
    "start_time": "2022-05-12T07:58:26.978Z"
   },
   {
    "duration": 6,
    "start_time": "2022-05-12T07:59:09.237Z"
   },
   {
    "duration": 11,
    "start_time": "2022-05-12T08:04:47.487Z"
   },
   {
    "duration": 448,
    "start_time": "2022-05-12T08:08:07.338Z"
   },
   {
    "duration": 23,
    "start_time": "2022-05-12T08:08:32.019Z"
   },
   {
    "duration": 9,
    "start_time": "2022-05-12T08:08:53.462Z"
   },
   {
    "duration": 18,
    "start_time": "2022-05-12T08:09:04.857Z"
   },
   {
    "duration": 111,
    "start_time": "2022-05-12T08:09:42.394Z"
   },
   {
    "duration": 103,
    "start_time": "2022-05-12T08:11:36.733Z"
   },
   {
    "duration": 88,
    "start_time": "2022-05-12T08:11:46.538Z"
   },
   {
    "duration": 76,
    "start_time": "2022-05-12T08:17:11.382Z"
   },
   {
    "duration": 15,
    "start_time": "2022-05-12T08:17:29.536Z"
   },
   {
    "duration": 34,
    "start_time": "2022-05-12T08:17:53.026Z"
   },
   {
    "duration": 5,
    "start_time": "2022-05-12T08:18:26.883Z"
   },
   {
    "duration": 15,
    "start_time": "2022-05-12T08:18:31.346Z"
   },
   {
    "duration": 13,
    "start_time": "2022-05-12T08:18:36.251Z"
   },
   {
    "duration": 5,
    "start_time": "2022-05-12T08:18:43.080Z"
   },
   {
    "duration": 62,
    "start_time": "2022-05-12T08:19:06.417Z"
   },
   {
    "duration": 28,
    "start_time": "2022-05-12T08:20:09.445Z"
   },
   {
    "duration": 3384,
    "start_time": "2022-05-12T08:21:34.268Z"
   },
   {
    "duration": 6,
    "start_time": "2022-05-12T08:21:44.299Z"
   },
   {
    "duration": 16,
    "start_time": "2022-05-12T08:21:54.868Z"
   },
   {
    "duration": 13,
    "start_time": "2022-05-12T08:22:04.203Z"
   },
   {
    "duration": 17,
    "start_time": "2022-05-12T08:22:18.434Z"
   },
   {
    "duration": 17,
    "start_time": "2022-05-12T08:23:51.695Z"
   },
   {
    "duration": 21,
    "start_time": "2022-05-12T08:24:07.632Z"
   },
   {
    "duration": 19,
    "start_time": "2022-05-12T08:24:34.996Z"
   },
   {
    "duration": 15,
    "start_time": "2022-05-12T08:24:46.113Z"
   },
   {
    "duration": 10,
    "start_time": "2022-05-12T08:35:41.357Z"
   },
   {
    "duration": 4,
    "start_time": "2022-05-12T08:35:45.872Z"
   },
   {
    "duration": 51,
    "start_time": "2022-05-12T08:40:09.389Z"
   },
   {
    "duration": 5,
    "start_time": "2022-05-12T08:40:46.510Z"
   },
   {
    "duration": 5,
    "start_time": "2022-05-12T08:42:28.987Z"
   },
   {
    "duration": 12,
    "start_time": "2022-05-12T08:42:40.787Z"
   },
   {
    "duration": 8,
    "start_time": "2022-05-12T08:43:09.083Z"
   },
   {
    "duration": 12,
    "start_time": "2022-05-12T08:43:14.934Z"
   },
   {
    "duration": 13,
    "start_time": "2022-05-12T08:45:40.513Z"
   },
   {
    "duration": 15,
    "start_time": "2022-05-12T08:47:26.589Z"
   },
   {
    "duration": 1388,
    "start_time": "2022-05-12T09:20:36.491Z"
   },
   {
    "duration": 84,
    "start_time": "2022-05-12T09:20:37.881Z"
   },
   {
    "duration": 5,
    "start_time": "2022-05-12T09:20:37.968Z"
   },
   {
    "duration": 7,
    "start_time": "2022-05-12T09:20:37.976Z"
   },
   {
    "duration": 13,
    "start_time": "2022-05-12T09:20:37.985Z"
   },
   {
    "duration": 8,
    "start_time": "2022-05-12T09:20:38.001Z"
   },
   {
    "duration": 2960,
    "start_time": "2022-05-12T09:20:38.011Z"
   },
   {
    "duration": 18,
    "start_time": "2022-05-12T09:20:40.973Z"
   },
   {
    "duration": 41,
    "start_time": "2022-05-12T09:20:40.993Z"
   },
   {
    "duration": 22,
    "start_time": "2022-05-12T09:20:41.040Z"
   },
   {
    "duration": 130,
    "start_time": "2022-05-12T09:20:41.064Z"
   },
   {
    "duration": 119,
    "start_time": "2022-05-12T09:20:41.197Z"
   },
   {
    "duration": 86,
    "start_time": "2022-05-12T09:20:41.317Z"
   },
   {
    "duration": 33,
    "start_time": "2022-05-12T09:20:41.405Z"
   },
   {
    "duration": 27,
    "start_time": "2022-05-12T09:20:41.439Z"
   },
   {
    "duration": 165,
    "start_time": "2022-05-12T09:20:41.468Z"
   },
   {
    "duration": 6,
    "start_time": "2022-05-12T09:20:41.635Z"
   },
   {
    "duration": 17,
    "start_time": "2022-05-12T09:20:41.644Z"
   },
   {
    "duration": 11,
    "start_time": "2022-05-12T09:20:41.664Z"
   },
   {
    "duration": 15,
    "start_time": "2022-05-12T09:20:41.677Z"
   },
   {
    "duration": 180,
    "start_time": "2022-05-12T09:22:37.672Z"
   },
   {
    "duration": 137,
    "start_time": "2022-05-12T09:23:04.427Z"
   },
   {
    "duration": 126,
    "start_time": "2022-05-12T09:23:50.781Z"
   },
   {
    "duration": 31,
    "start_time": "2022-05-12T09:35:36.538Z"
   },
   {
    "duration": 151,
    "start_time": "2022-05-12T09:35:51.342Z"
   },
   {
    "duration": 14,
    "start_time": "2022-05-12T09:38:02.964Z"
   },
   {
    "duration": 126,
    "start_time": "2022-05-12T09:39:04.671Z"
   },
   {
    "duration": 24,
    "start_time": "2022-05-12T09:39:09.541Z"
   },
   {
    "duration": 16,
    "start_time": "2022-05-12T09:39:27.351Z"
   },
   {
    "duration": 9,
    "start_time": "2022-05-12T09:39:42.870Z"
   },
   {
    "duration": 11,
    "start_time": "2022-05-12T09:40:56.866Z"
   },
   {
    "duration": 11,
    "start_time": "2022-05-12T09:41:43.453Z"
   },
   {
    "duration": 147,
    "start_time": "2022-05-12T09:49:16.178Z"
   },
   {
    "duration": 121,
    "start_time": "2022-05-12T09:50:04.460Z"
   },
   {
    "duration": 12,
    "start_time": "2022-05-12T09:50:53.274Z"
   },
   {
    "duration": 18,
    "start_time": "2022-05-12T09:51:06.025Z"
   },
   {
    "duration": 215,
    "start_time": "2022-05-12T09:51:20.698Z"
   },
   {
    "duration": 224,
    "start_time": "2022-05-12T09:51:43.636Z"
   },
   {
    "duration": 176,
    "start_time": "2022-05-12T09:52:02.010Z"
   },
   {
    "duration": 268,
    "start_time": "2022-05-12T09:52:13.925Z"
   },
   {
    "duration": 280,
    "start_time": "2022-05-12T09:52:24.778Z"
   },
   {
    "duration": 168,
    "start_time": "2022-05-12T09:52:52.521Z"
   },
   {
    "duration": 210,
    "start_time": "2022-05-12T09:58:24.433Z"
   },
   {
    "duration": 200,
    "start_time": "2022-05-12T09:58:35.936Z"
   },
   {
    "duration": 277,
    "start_time": "2022-05-12T09:58:45.512Z"
   },
   {
    "duration": 442,
    "start_time": "2022-05-12T09:58:53.696Z"
   },
   {
    "duration": 447,
    "start_time": "2022-05-12T09:59:09.104Z"
   },
   {
    "duration": 5,
    "start_time": "2022-05-12T10:01:12.303Z"
   },
   {
    "duration": 8,
    "start_time": "2022-05-12T10:01:31.240Z"
   },
   {
    "duration": 16,
    "start_time": "2022-05-12T10:06:23.412Z"
   },
   {
    "duration": 8,
    "start_time": "2022-05-12T10:07:57.246Z"
   },
   {
    "duration": 4,
    "start_time": "2022-05-12T10:08:22.182Z"
   },
   {
    "duration": 255,
    "start_time": "2022-05-12T10:18:35.925Z"
   },
   {
    "duration": 34,
    "start_time": "2022-05-12T10:18:43.227Z"
   },
   {
    "duration": 13,
    "start_time": "2022-05-12T10:19:09.991Z"
   },
   {
    "duration": 15,
    "start_time": "2022-05-12T10:19:20.642Z"
   },
   {
    "duration": 141,
    "start_time": "2022-05-12T10:19:26.451Z"
   },
   {
    "duration": 309,
    "start_time": "2022-05-12T10:19:29.633Z"
   },
   {
    "duration": 38,
    "start_time": "2022-05-12T10:24:45.452Z"
   },
   {
    "duration": 57,
    "start_time": "2022-05-12T10:25:26.380Z"
   },
   {
    "duration": 166,
    "start_time": "2022-05-12T10:25:40.690Z"
   },
   {
    "duration": 45,
    "start_time": "2022-05-12T10:26:33.736Z"
   },
   {
    "duration": 191,
    "start_time": "2022-05-12T10:27:24.012Z"
   },
   {
    "duration": 203,
    "start_time": "2022-05-12T10:28:02.831Z"
   },
   {
    "duration": 277,
    "start_time": "2022-05-12T10:30:46.435Z"
   },
   {
    "duration": 371,
    "start_time": "2022-05-12T10:31:07.224Z"
   },
   {
    "duration": 253,
    "start_time": "2022-05-12T10:31:19.929Z"
   },
   {
    "duration": 230,
    "start_time": "2022-05-12T10:31:28.872Z"
   },
   {
    "duration": 279,
    "start_time": "2022-05-12T10:33:02.904Z"
   },
   {
    "duration": 20,
    "start_time": "2022-05-12T10:39:30.118Z"
   },
   {
    "duration": 16,
    "start_time": "2022-05-12T10:41:35.521Z"
   },
   {
    "duration": 15,
    "start_time": "2022-05-12T10:41:52.494Z"
   },
   {
    "duration": 65,
    "start_time": "2022-05-12T10:46:08.144Z"
   },
   {
    "duration": 70,
    "start_time": "2022-05-12T10:46:34.611Z"
   },
   {
    "duration": 79,
    "start_time": "2022-05-12T10:47:03.628Z"
   },
   {
    "duration": 24,
    "start_time": "2022-05-12T10:47:43.532Z"
   },
   {
    "duration": 317,
    "start_time": "2022-05-12T10:49:26.515Z"
   },
   {
    "duration": 152,
    "start_time": "2022-05-12T10:50:07.804Z"
   },
   {
    "duration": 262,
    "start_time": "2022-05-12T10:59:15.352Z"
   },
   {
    "duration": 216,
    "start_time": "2022-05-12T10:59:25.083Z"
   },
   {
    "duration": 171,
    "start_time": "2022-05-12T10:59:31.946Z"
   },
   {
    "duration": 190,
    "start_time": "2022-05-12T10:59:44.796Z"
   },
   {
    "duration": 249,
    "start_time": "2022-05-12T11:00:55.465Z"
   },
   {
    "duration": 353,
    "start_time": "2022-05-12T11:01:18.370Z"
   },
   {
    "duration": 333,
    "start_time": "2022-05-12T11:01:52.266Z"
   },
   {
    "duration": 6,
    "start_time": "2022-05-12T11:03:52.785Z"
   },
   {
    "duration": 12,
    "start_time": "2022-05-12T11:06:13.625Z"
   },
   {
    "duration": 15,
    "start_time": "2022-05-12T11:06:45.425Z"
   },
   {
    "duration": 11,
    "start_time": "2022-05-12T11:15:31.750Z"
   },
   {
    "duration": 283,
    "start_time": "2022-05-12T11:30:33.892Z"
   },
   {
    "duration": 393,
    "start_time": "2022-05-12T11:32:41.061Z"
   },
   {
    "duration": 224,
    "start_time": "2022-05-12T11:33:40.713Z"
   },
   {
    "duration": 88,
    "start_time": "2022-05-12T11:39:49.866Z"
   },
   {
    "duration": 87,
    "start_time": "2022-05-12T11:40:45.756Z"
   },
   {
    "duration": 115,
    "start_time": "2022-05-12T11:45:03.541Z"
   },
   {
    "duration": 70,
    "start_time": "2022-05-12T11:45:15.690Z"
   },
   {
    "duration": 3473,
    "start_time": "2022-05-12T11:46:31.886Z"
   },
   {
    "duration": 89,
    "start_time": "2022-05-12T11:47:40.119Z"
   },
   {
    "duration": 68,
    "start_time": "2022-05-12T11:49:22.465Z"
   },
   {
    "duration": 63,
    "start_time": "2022-05-12T11:49:35.559Z"
   },
   {
    "duration": 60,
    "start_time": "2022-05-12T11:51:45.104Z"
   },
   {
    "duration": 963,
    "start_time": "2022-05-12T11:51:54.495Z"
   },
   {
    "duration": 62,
    "start_time": "2022-05-12T11:52:04.903Z"
   },
   {
    "duration": 65,
    "start_time": "2022-05-12T11:52:17.584Z"
   },
   {
    "duration": 63,
    "start_time": "2022-05-12T11:53:12.544Z"
   },
   {
    "duration": 224,
    "start_time": "2022-05-12T11:54:06.127Z"
   },
   {
    "duration": 216,
    "start_time": "2022-05-12T11:54:56.688Z"
   },
   {
    "duration": 254,
    "start_time": "2022-05-12T11:58:20.640Z"
   },
   {
    "duration": 893,
    "start_time": "2022-05-12T11:58:38.277Z"
   },
   {
    "duration": 587,
    "start_time": "2022-05-12T11:59:03.542Z"
   },
   {
    "duration": 12,
    "start_time": "2022-05-12T12:10:05.131Z"
   },
   {
    "duration": 10,
    "start_time": "2022-05-12T12:10:28.627Z"
   },
   {
    "duration": 9,
    "start_time": "2022-05-12T12:10:51.972Z"
   },
   {
    "duration": 9,
    "start_time": "2022-05-12T12:11:21.171Z"
   },
   {
    "duration": 18,
    "start_time": "2022-05-12T12:11:44.220Z"
   },
   {
    "duration": 190,
    "start_time": "2022-05-12T12:11:57.925Z"
   },
   {
    "duration": 191,
    "start_time": "2022-05-12T12:12:22.221Z"
   },
   {
    "duration": 9,
    "start_time": "2022-05-12T12:16:20.916Z"
   },
   {
    "duration": 5,
    "start_time": "2022-05-12T12:16:25.346Z"
   },
   {
    "duration": 6,
    "start_time": "2022-05-12T12:16:45.587Z"
   },
   {
    "duration": 194,
    "start_time": "2022-05-12T12:20:27.379Z"
   },
   {
    "duration": 4907,
    "start_time": "2022-05-12T12:20:31.402Z"
   },
   {
    "duration": 4,
    "start_time": "2022-05-12T12:20:53.977Z"
   },
   {
    "duration": 17,
    "start_time": "2022-05-12T12:28:24.128Z"
   },
   {
    "duration": 15,
    "start_time": "2022-05-12T12:28:42.555Z"
   },
   {
    "duration": 5,
    "start_time": "2022-05-12T12:29:26.647Z"
   },
   {
    "duration": 13,
    "start_time": "2022-05-12T12:29:36.895Z"
   },
   {
    "duration": 14,
    "start_time": "2022-05-12T12:29:51.255Z"
   },
   {
    "duration": 14,
    "start_time": "2022-05-12T12:29:54.527Z"
   },
   {
    "duration": 9,
    "start_time": "2022-05-12T12:32:27.847Z"
   },
   {
    "duration": 13,
    "start_time": "2022-05-12T12:34:45.669Z"
   },
   {
    "duration": 11,
    "start_time": "2022-05-12T12:34:55.089Z"
   },
   {
    "duration": 15,
    "start_time": "2022-05-12T12:38:28.410Z"
   },
   {
    "duration": 18,
    "start_time": "2022-05-12T12:38:39.463Z"
   },
   {
    "duration": 9,
    "start_time": "2022-05-12T12:38:51.231Z"
   },
   {
    "duration": 11,
    "start_time": "2022-05-12T12:38:59.863Z"
   },
   {
    "duration": 16,
    "start_time": "2022-05-12T12:39:36.469Z"
   },
   {
    "duration": 18,
    "start_time": "2022-05-12T12:40:21.414Z"
   },
   {
    "duration": 1375,
    "start_time": "2022-05-12T12:40:40.193Z"
   },
   {
    "duration": 38,
    "start_time": "2022-05-12T12:40:41.570Z"
   },
   {
    "duration": 12,
    "start_time": "2022-05-12T12:40:41.610Z"
   },
   {
    "duration": 5,
    "start_time": "2022-05-12T12:40:41.624Z"
   },
   {
    "duration": 8,
    "start_time": "2022-05-12T12:40:41.632Z"
   },
   {
    "duration": 5,
    "start_time": "2022-05-12T12:40:41.641Z"
   },
   {
    "duration": 283,
    "start_time": "2022-05-12T12:40:41.648Z"
   },
   {
    "duration": 12,
    "start_time": "2022-05-12T12:40:41.932Z"
   },
   {
    "duration": 9,
    "start_time": "2022-05-12T12:40:41.946Z"
   },
   {
    "duration": 18,
    "start_time": "2022-05-12T12:40:41.957Z"
   },
   {
    "duration": 161,
    "start_time": "2022-05-12T12:40:41.977Z"
   },
   {
    "duration": 116,
    "start_time": "2022-05-12T12:40:42.140Z"
   },
   {
    "duration": 72,
    "start_time": "2022-05-12T12:40:42.259Z"
   },
   {
    "duration": 15,
    "start_time": "2022-05-12T12:40:42.334Z"
   },
   {
    "duration": 14,
    "start_time": "2022-05-12T12:40:42.351Z"
   },
   {
    "duration": 59,
    "start_time": "2022-05-12T12:40:42.367Z"
   },
   {
    "duration": 6,
    "start_time": "2022-05-12T12:40:42.428Z"
   },
   {
    "duration": 16,
    "start_time": "2022-05-12T12:40:42.435Z"
   },
   {
    "duration": 8,
    "start_time": "2022-05-12T12:40:42.453Z"
   },
   {
    "duration": 15,
    "start_time": "2022-05-12T12:40:42.463Z"
   },
   {
    "duration": 366,
    "start_time": "2022-05-12T12:40:42.480Z"
   },
   {
    "duration": 247,
    "start_time": "2022-05-12T12:40:42.848Z"
   },
   {
    "duration": 904,
    "start_time": "2022-05-12T12:40:43.096Z"
   },
   {
    "duration": 5,
    "start_time": "2022-05-12T12:40:44.003Z"
   },
   {
    "duration": 235,
    "start_time": "2022-05-12T12:40:44.010Z"
   },
   {
    "duration": 294,
    "start_time": "2022-05-12T12:40:44.247Z"
   },
   {
    "duration": 191,
    "start_time": "2022-05-12T12:40:44.544Z"
   },
   {
    "duration": 0,
    "start_time": "2022-05-12T12:40:44.738Z"
   },
   {
    "duration": 0,
    "start_time": "2022-05-12T12:40:44.739Z"
   },
   {
    "duration": 0,
    "start_time": "2022-05-12T12:40:44.740Z"
   },
   {
    "duration": 0,
    "start_time": "2022-05-12T12:40:44.742Z"
   },
   {
    "duration": 0,
    "start_time": "2022-05-12T12:40:44.744Z"
   },
   {
    "duration": 0,
    "start_time": "2022-05-12T12:40:44.745Z"
   },
   {
    "duration": 0,
    "start_time": "2022-05-12T12:40:44.746Z"
   },
   {
    "duration": 0,
    "start_time": "2022-05-12T12:40:44.748Z"
   },
   {
    "duration": 0,
    "start_time": "2022-05-12T12:40:44.749Z"
   },
   {
    "duration": 0,
    "start_time": "2022-05-12T12:40:44.751Z"
   },
   {
    "duration": 0,
    "start_time": "2022-05-12T12:40:44.752Z"
   },
   {
    "duration": 0,
    "start_time": "2022-05-12T12:40:44.753Z"
   },
   {
    "duration": 0,
    "start_time": "2022-05-12T12:40:44.755Z"
   },
   {
    "duration": 0,
    "start_time": "2022-05-12T12:40:44.756Z"
   },
   {
    "duration": 18,
    "start_time": "2022-05-12T12:41:52.154Z"
   },
   {
    "duration": 15,
    "start_time": "2022-05-12T12:42:29.441Z"
   },
   {
    "duration": 8,
    "start_time": "2022-05-12T12:43:30.544Z"
   },
   {
    "duration": 8,
    "start_time": "2022-05-12T12:44:50.912Z"
   },
   {
    "duration": 12,
    "start_time": "2022-05-12T12:45:07.551Z"
   },
   {
    "duration": 10,
    "start_time": "2022-05-12T12:45:25.254Z"
   },
   {
    "duration": 10,
    "start_time": "2022-05-12T12:45:41.952Z"
   },
   {
    "duration": 14,
    "start_time": "2022-05-12T12:45:56.101Z"
   },
   {
    "duration": 1508,
    "start_time": "2022-05-12T12:46:12.481Z"
   },
   {
    "duration": 57,
    "start_time": "2022-05-12T12:46:13.992Z"
   },
   {
    "duration": 5,
    "start_time": "2022-05-12T12:46:14.051Z"
   },
   {
    "duration": 12,
    "start_time": "2022-05-12T12:46:14.059Z"
   },
   {
    "duration": 9,
    "start_time": "2022-05-12T12:46:14.074Z"
   },
   {
    "duration": 10,
    "start_time": "2022-05-12T12:46:14.085Z"
   },
   {
    "duration": 348,
    "start_time": "2022-05-12T12:46:14.097Z"
   },
   {
    "duration": 12,
    "start_time": "2022-05-12T12:46:14.447Z"
   },
   {
    "duration": 12,
    "start_time": "2022-05-12T12:46:14.461Z"
   },
   {
    "duration": 21,
    "start_time": "2022-05-12T12:46:14.475Z"
   },
   {
    "duration": 170,
    "start_time": "2022-05-12T12:46:14.499Z"
   },
   {
    "duration": 164,
    "start_time": "2022-05-12T12:46:14.672Z"
   },
   {
    "duration": 95,
    "start_time": "2022-05-12T12:46:14.838Z"
   },
   {
    "duration": 14,
    "start_time": "2022-05-12T12:46:14.943Z"
   },
   {
    "duration": 15,
    "start_time": "2022-05-12T12:46:14.960Z"
   },
   {
    "duration": 62,
    "start_time": "2022-05-12T12:46:14.978Z"
   },
   {
    "duration": 7,
    "start_time": "2022-05-12T12:46:15.043Z"
   },
   {
    "duration": 20,
    "start_time": "2022-05-12T12:46:15.052Z"
   },
   {
    "duration": 12,
    "start_time": "2022-05-12T12:46:15.074Z"
   },
   {
    "duration": 66,
    "start_time": "2022-05-12T12:46:15.088Z"
   },
   {
    "duration": 351,
    "start_time": "2022-05-12T12:46:15.157Z"
   },
   {
    "duration": 393,
    "start_time": "2022-05-12T12:46:15.510Z"
   },
   {
    "duration": 721,
    "start_time": "2022-05-12T12:46:15.905Z"
   },
   {
    "duration": 7,
    "start_time": "2022-05-12T12:46:16.629Z"
   },
   {
    "duration": 265,
    "start_time": "2022-05-12T12:46:16.638Z"
   },
   {
    "duration": 257,
    "start_time": "2022-05-12T12:46:16.906Z"
   },
   {
    "duration": 10,
    "start_time": "2022-05-12T12:46:17.166Z"
   },
   {
    "duration": 16,
    "start_time": "2022-05-12T12:46:17.178Z"
   },
   {
    "duration": 33,
    "start_time": "2022-05-12T12:46:17.196Z"
   },
   {
    "duration": 254,
    "start_time": "2022-05-12T12:46:17.236Z"
   },
   {
    "duration": 360,
    "start_time": "2022-05-12T12:46:17.493Z"
   },
   {
    "duration": 5,
    "start_time": "2022-05-12T12:46:17.855Z"
   },
   {
    "duration": 313,
    "start_time": "2022-05-12T12:46:17.862Z"
   },
   {
    "duration": 183,
    "start_time": "2022-05-12T12:46:18.177Z"
   },
   {
    "duration": 501,
    "start_time": "2022-05-12T12:46:18.362Z"
   },
   {
    "duration": 14,
    "start_time": "2022-05-12T12:46:18.864Z"
   },
   {
    "duration": 8,
    "start_time": "2022-05-12T12:46:18.881Z"
   },
   {
    "duration": 482,
    "start_time": "2022-05-12T12:46:18.892Z"
   },
   {
    "duration": 17,
    "start_time": "2022-05-12T12:46:19.376Z"
   },
   {
    "duration": 3,
    "start_time": "2022-05-12T12:46:19.395Z"
   },
   {
    "duration": 46,
    "start_time": "2022-05-12T12:46:19.402Z"
   },
   {
    "duration": 14,
    "start_time": "2022-05-12T12:47:00.414Z"
   },
   {
    "duration": 15,
    "start_time": "2022-05-12T12:47:23.544Z"
   },
   {
    "duration": 10,
    "start_time": "2022-05-12T12:47:33.181Z"
   },
   {
    "duration": 1462,
    "start_time": "2022-05-12T12:47:39.936Z"
   },
   {
    "duration": 38,
    "start_time": "2022-05-12T12:47:41.400Z"
   },
   {
    "duration": 8,
    "start_time": "2022-05-12T12:47:41.439Z"
   },
   {
    "duration": 7,
    "start_time": "2022-05-12T12:47:41.449Z"
   },
   {
    "duration": 16,
    "start_time": "2022-05-12T12:47:41.457Z"
   },
   {
    "duration": 17,
    "start_time": "2022-05-12T12:47:41.476Z"
   },
   {
    "duration": 362,
    "start_time": "2022-05-12T12:47:41.496Z"
   },
   {
    "duration": 18,
    "start_time": "2022-05-12T12:47:41.860Z"
   },
   {
    "duration": 41,
    "start_time": "2022-05-12T12:47:41.881Z"
   },
   {
    "duration": 20,
    "start_time": "2022-05-12T12:47:41.927Z"
   },
   {
    "duration": 147,
    "start_time": "2022-05-12T12:47:41.949Z"
   },
   {
    "duration": 119,
    "start_time": "2022-05-12T12:47:42.098Z"
   },
   {
    "duration": 82,
    "start_time": "2022-05-12T12:47:42.221Z"
   },
   {
    "duration": 26,
    "start_time": "2022-05-12T12:47:42.305Z"
   },
   {
    "duration": 22,
    "start_time": "2022-05-12T12:47:42.334Z"
   },
   {
    "duration": 40,
    "start_time": "2022-05-12T12:47:42.360Z"
   },
   {
    "duration": 8,
    "start_time": "2022-05-12T12:47:42.422Z"
   },
   {
    "duration": 25,
    "start_time": "2022-05-12T12:47:42.432Z"
   },
   {
    "duration": 12,
    "start_time": "2022-05-12T12:47:42.459Z"
   },
   {
    "duration": 23,
    "start_time": "2022-05-12T12:47:42.473Z"
   },
   {
    "duration": 354,
    "start_time": "2022-05-12T12:47:42.523Z"
   },
   {
    "duration": 275,
    "start_time": "2022-05-12T12:47:42.879Z"
   },
   {
    "duration": 641,
    "start_time": "2022-05-12T12:47:43.156Z"
   },
   {
    "duration": 5,
    "start_time": "2022-05-12T12:47:43.799Z"
   },
   {
    "duration": 187,
    "start_time": "2022-05-12T12:47:43.806Z"
   },
   {
    "duration": 217,
    "start_time": "2022-05-12T12:47:43.995Z"
   },
   {
    "duration": 16,
    "start_time": "2022-05-12T12:47:44.214Z"
   },
   {
    "duration": 16,
    "start_time": "2022-05-12T12:47:44.235Z"
   },
   {
    "duration": 11,
    "start_time": "2022-05-12T12:47:44.252Z"
   },
   {
    "duration": 365,
    "start_time": "2022-05-12T12:47:44.265Z"
   },
   {
    "duration": 421,
    "start_time": "2022-05-12T12:47:44.632Z"
   },
   {
    "duration": 6,
    "start_time": "2022-05-12T12:47:45.055Z"
   },
   {
    "duration": 284,
    "start_time": "2022-05-12T12:47:45.063Z"
   },
   {
    "duration": 166,
    "start_time": "2022-05-12T12:47:45.349Z"
   },
   {
    "duration": 369,
    "start_time": "2022-05-12T12:47:45.523Z"
   },
   {
    "duration": 11,
    "start_time": "2022-05-12T12:47:45.893Z"
   },
   {
    "duration": 11,
    "start_time": "2022-05-12T12:47:45.922Z"
   },
   {
    "duration": 331,
    "start_time": "2022-05-12T12:47:45.936Z"
   },
   {
    "duration": 15,
    "start_time": "2022-05-12T12:47:46.270Z"
   },
   {
    "duration": 3,
    "start_time": "2022-05-12T12:47:46.287Z"
   },
   {
    "duration": 46,
    "start_time": "2022-05-12T12:47:46.292Z"
   },
   {
    "duration": 118,
    "start_time": "2022-05-12T12:49:30.215Z"
   },
   {
    "duration": 183,
    "start_time": "2022-05-12T12:49:50.773Z"
   },
   {
    "duration": 233,
    "start_time": "2022-05-12T12:50:10.856Z"
   },
   {
    "duration": 349,
    "start_time": "2022-05-12T12:50:25.728Z"
   },
   {
    "duration": 17,
    "start_time": "2022-05-12T12:51:05.791Z"
   },
   {
    "duration": 9,
    "start_time": "2022-05-12T12:51:24.150Z"
   },
   {
    "duration": 16,
    "start_time": "2022-05-12T12:51:34.558Z"
   },
   {
    "duration": 1363,
    "start_time": "2022-05-12T12:52:58.946Z"
   },
   {
    "duration": 40,
    "start_time": "2022-05-12T12:53:00.311Z"
   },
   {
    "duration": 6,
    "start_time": "2022-05-12T12:53:00.352Z"
   },
   {
    "duration": 15,
    "start_time": "2022-05-12T12:53:00.361Z"
   },
   {
    "duration": 19,
    "start_time": "2022-05-12T12:53:00.379Z"
   },
   {
    "duration": 22,
    "start_time": "2022-05-12T12:53:00.401Z"
   },
   {
    "duration": 274,
    "start_time": "2022-05-12T12:53:00.425Z"
   },
   {
    "duration": 24,
    "start_time": "2022-05-12T12:53:00.701Z"
   },
   {
    "duration": 9,
    "start_time": "2022-05-12T12:53:00.727Z"
   },
   {
    "duration": 23,
    "start_time": "2022-05-12T12:53:00.739Z"
   },
   {
    "duration": 101,
    "start_time": "2022-05-12T12:53:00.763Z"
   },
   {
    "duration": 117,
    "start_time": "2022-05-12T12:53:00.866Z"
   },
   {
    "duration": 70,
    "start_time": "2022-05-12T12:53:00.985Z"
   },
   {
    "duration": 28,
    "start_time": "2022-05-12T12:53:01.057Z"
   },
   {
    "duration": 32,
    "start_time": "2022-05-12T12:53:01.087Z"
   },
   {
    "duration": 74,
    "start_time": "2022-05-12T12:53:01.121Z"
   },
   {
    "duration": 6,
    "start_time": "2022-05-12T12:53:01.197Z"
   },
   {
    "duration": 30,
    "start_time": "2022-05-12T12:53:01.205Z"
   },
   {
    "duration": 12,
    "start_time": "2022-05-12T12:53:01.238Z"
   },
   {
    "duration": 24,
    "start_time": "2022-05-12T12:53:01.253Z"
   },
   {
    "duration": 545,
    "start_time": "2022-05-12T12:53:01.279Z"
   },
   {
    "duration": 246,
    "start_time": "2022-05-12T12:53:01.826Z"
   },
   {
    "duration": 554,
    "start_time": "2022-05-12T12:53:02.073Z"
   },
   {
    "duration": 4,
    "start_time": "2022-05-12T12:53:02.629Z"
   },
   {
    "duration": 162,
    "start_time": "2022-05-12T12:53:02.635Z"
   },
   {
    "duration": 190,
    "start_time": "2022-05-12T12:53:02.798Z"
   },
   {
    "duration": 16,
    "start_time": "2022-05-12T12:53:02.990Z"
   },
   {
    "duration": 12,
    "start_time": "2022-05-12T12:53:03.024Z"
   },
   {
    "duration": 19,
    "start_time": "2022-05-12T12:53:03.038Z"
   },
   {
    "duration": 233,
    "start_time": "2022-05-12T12:53:03.059Z"
   },
   {
    "duration": 290,
    "start_time": "2022-05-12T12:53:03.294Z"
   },
   {
    "duration": 4,
    "start_time": "2022-05-12T12:53:03.587Z"
   },
   {
    "duration": 255,
    "start_time": "2022-05-12T12:53:03.593Z"
   },
   {
    "duration": 161,
    "start_time": "2022-05-12T12:53:03.850Z"
   },
   {
    "duration": 340,
    "start_time": "2022-05-12T12:53:04.013Z"
   },
   {
    "duration": 11,
    "start_time": "2022-05-12T12:53:04.355Z"
   },
   {
    "duration": 7,
    "start_time": "2022-05-12T12:53:04.368Z"
   },
   {
    "duration": 317,
    "start_time": "2022-05-12T12:53:04.377Z"
   },
   {
    "duration": 26,
    "start_time": "2022-05-12T12:53:04.696Z"
   },
   {
    "duration": 3,
    "start_time": "2022-05-12T12:53:04.724Z"
   },
   {
    "duration": 30,
    "start_time": "2022-05-12T12:53:04.729Z"
   },
   {
    "duration": 1926,
    "start_time": "2022-05-12T15:29:46.670Z"
   },
   {
    "duration": 54,
    "start_time": "2022-05-12T15:29:48.599Z"
   },
   {
    "duration": 6,
    "start_time": "2022-05-12T15:29:48.655Z"
   },
   {
    "duration": 9,
    "start_time": "2022-05-12T15:29:48.664Z"
   },
   {
    "duration": 14,
    "start_time": "2022-05-12T15:29:48.675Z"
   },
   {
    "duration": 6,
    "start_time": "2022-05-12T15:29:48.692Z"
   },
   {
    "duration": 448,
    "start_time": "2022-05-12T15:29:48.704Z"
   },
   {
    "duration": 16,
    "start_time": "2022-05-12T15:29:49.155Z"
   },
   {
    "duration": 12,
    "start_time": "2022-05-12T15:29:49.173Z"
   },
   {
    "duration": 15,
    "start_time": "2022-05-12T15:29:49.191Z"
   },
   {
    "duration": 162,
    "start_time": "2022-05-12T15:29:49.209Z"
   },
   {
    "duration": 150,
    "start_time": "2022-05-12T15:29:49.374Z"
   },
   {
    "duration": 97,
    "start_time": "2022-05-12T15:29:49.527Z"
   },
   {
    "duration": 28,
    "start_time": "2022-05-12T15:29:49.626Z"
   },
   {
    "duration": 16,
    "start_time": "2022-05-12T15:29:49.657Z"
   },
   {
    "duration": 102,
    "start_time": "2022-05-12T15:29:49.675Z"
   },
   {
    "duration": 7,
    "start_time": "2022-05-12T15:29:49.780Z"
   },
   {
    "duration": 18,
    "start_time": "2022-05-12T15:29:49.790Z"
   },
   {
    "duration": 44,
    "start_time": "2022-05-12T15:29:49.810Z"
   },
   {
    "duration": 18,
    "start_time": "2022-05-12T15:29:49.856Z"
   },
   {
    "duration": 503,
    "start_time": "2022-05-12T15:29:49.876Z"
   },
   {
    "duration": 365,
    "start_time": "2022-05-12T15:29:50.381Z"
   },
   {
    "duration": 1424,
    "start_time": "2022-05-12T15:29:50.751Z"
   },
   {
    "duration": 7,
    "start_time": "2022-05-12T15:29:52.179Z"
   },
   {
    "duration": 322,
    "start_time": "2022-05-12T15:29:52.189Z"
   },
   {
    "duration": 461,
    "start_time": "2022-05-12T15:29:52.514Z"
   },
   {
    "duration": 34,
    "start_time": "2022-05-12T15:29:52.978Z"
   },
   {
    "duration": 45,
    "start_time": "2022-05-12T15:29:53.019Z"
   },
   {
    "duration": 15,
    "start_time": "2022-05-12T15:29:53.067Z"
   },
   {
    "duration": 503,
    "start_time": "2022-05-12T15:29:53.085Z"
   },
   {
    "duration": 503,
    "start_time": "2022-05-12T15:29:53.592Z"
   },
   {
    "duration": 7,
    "start_time": "2022-05-12T15:29:54.097Z"
   },
   {
    "duration": 390,
    "start_time": "2022-05-12T15:29:54.107Z"
   },
   {
    "duration": 248,
    "start_time": "2022-05-12T15:29:54.500Z"
   },
   {
    "duration": 896,
    "start_time": "2022-05-12T15:29:54.750Z"
   },
   {
    "duration": 17,
    "start_time": "2022-05-12T15:29:55.652Z"
   },
   {
    "duration": 14,
    "start_time": "2022-05-12T15:29:55.671Z"
   },
   {
    "duration": 614,
    "start_time": "2022-05-12T15:29:55.687Z"
   },
   {
    "duration": 18,
    "start_time": "2022-05-12T15:29:56.304Z"
   },
   {
    "duration": 16,
    "start_time": "2022-05-12T15:29:56.324Z"
   },
   {
    "duration": 26,
    "start_time": "2022-05-12T15:29:56.352Z"
   },
   {
    "duration": 161,
    "start_time": "2022-05-12T15:32:12.266Z"
   },
   {
    "duration": 20,
    "start_time": "2022-05-12T15:33:01.159Z"
   },
   {
    "duration": 23,
    "start_time": "2022-05-12T15:33:25.319Z"
   },
   {
    "duration": 7,
    "start_time": "2022-05-12T15:33:47.464Z"
   },
   {
    "duration": 28,
    "start_time": "2022-05-12T15:34:13.784Z"
   },
   {
    "duration": 6,
    "start_time": "2022-05-12T15:34:46.544Z"
   },
   {
    "duration": 6,
    "start_time": "2022-05-12T15:35:00.830Z"
   },
   {
    "duration": 7,
    "start_time": "2022-05-12T15:35:19.903Z"
   },
   {
    "duration": 27,
    "start_time": "2022-05-12T15:36:00.624Z"
   },
   {
    "duration": 8,
    "start_time": "2022-05-12T15:36:09.295Z"
   },
   {
    "duration": 34,
    "start_time": "2022-05-12T15:36:14.734Z"
   },
   {
    "duration": 26,
    "start_time": "2022-05-12T15:39:51.270Z"
   },
   {
    "duration": 26,
    "start_time": "2022-05-12T15:41:54.944Z"
   },
   {
    "duration": 45,
    "start_time": "2022-05-12T15:47:10.677Z"
   },
   {
    "duration": 36,
    "start_time": "2022-05-12T15:48:11.562Z"
   },
   {
    "duration": 33,
    "start_time": "2022-05-12T15:48:20.459Z"
   },
   {
    "duration": 14,
    "start_time": "2022-05-12T15:49:13.748Z"
   },
   {
    "duration": 33,
    "start_time": "2022-05-12T15:50:10.360Z"
   },
   {
    "duration": 6,
    "start_time": "2022-05-12T15:50:22.108Z"
   },
   {
    "duration": 35,
    "start_time": "2022-05-12T15:51:12.635Z"
   },
   {
    "duration": 24,
    "start_time": "2022-05-12T15:55:08.052Z"
   },
   {
    "duration": 725,
    "start_time": "2022-05-12T15:56:26.153Z"
   },
   {
    "duration": 12,
    "start_time": "2022-05-12T15:56:45.433Z"
   },
   {
    "duration": 989,
    "start_time": "2022-05-12T15:56:56.954Z"
   },
   {
    "duration": 11,
    "start_time": "2022-05-12T15:57:31.010Z"
   },
   {
    "duration": 192,
    "start_time": "2022-05-12T15:57:49.650Z"
   },
   {
    "duration": 36,
    "start_time": "2022-05-12T15:58:08.138Z"
   },
   {
    "duration": 474,
    "start_time": "2022-05-12T16:01:42.111Z"
   },
   {
    "duration": 550,
    "start_time": "2022-05-12T16:03:17.079Z"
   },
   {
    "duration": 880,
    "start_time": "2022-05-12T16:03:59.968Z"
   },
   {
    "duration": 552,
    "start_time": "2022-05-12T16:04:11.080Z"
   },
   {
    "duration": 561,
    "start_time": "2022-05-12T16:05:21.359Z"
   },
   {
    "duration": 107,
    "start_time": "2022-05-12T16:06:49.400Z"
   },
   {
    "duration": 1490,
    "start_time": "2022-05-12T16:07:03.863Z"
   },
   {
    "duration": 555,
    "start_time": "2022-05-12T16:07:17.416Z"
   },
   {
    "duration": 662,
    "start_time": "2022-05-12T16:08:43.574Z"
   },
   {
    "duration": 609,
    "start_time": "2022-05-12T16:08:56.782Z"
   },
   {
    "duration": 685,
    "start_time": "2022-05-12T16:09:11.784Z"
   },
   {
    "duration": 550,
    "start_time": "2022-05-12T16:09:23.095Z"
   },
   {
    "duration": 598,
    "start_time": "2022-05-12T16:10:24.527Z"
   },
   {
    "duration": 684,
    "start_time": "2022-05-12T16:10:49.254Z"
   },
   {
    "duration": 2170,
    "start_time": "2022-05-12T16:31:18.698Z"
   },
   {
    "duration": 55,
    "start_time": "2022-05-12T16:31:20.871Z"
   },
   {
    "duration": 5,
    "start_time": "2022-05-12T16:31:20.928Z"
   },
   {
    "duration": 13,
    "start_time": "2022-05-12T16:31:20.937Z"
   },
   {
    "duration": 21,
    "start_time": "2022-05-12T16:31:20.952Z"
   },
   {
    "duration": 12,
    "start_time": "2022-05-12T16:31:20.975Z"
   },
   {
    "duration": 446,
    "start_time": "2022-05-12T16:31:20.989Z"
   },
   {
    "duration": 21,
    "start_time": "2022-05-12T16:31:21.437Z"
   },
   {
    "duration": 67,
    "start_time": "2022-05-12T16:31:21.460Z"
   },
   {
    "duration": 16,
    "start_time": "2022-05-12T16:31:21.533Z"
   },
   {
    "duration": 124,
    "start_time": "2022-05-12T16:31:21.551Z"
   },
   {
    "duration": 148,
    "start_time": "2022-05-12T16:31:21.677Z"
   },
   {
    "duration": 94,
    "start_time": "2022-05-12T16:31:21.828Z"
   },
   {
    "duration": 31,
    "start_time": "2022-05-12T16:31:21.925Z"
   },
   {
    "duration": 41,
    "start_time": "2022-05-12T16:31:21.959Z"
   },
   {
    "duration": 147,
    "start_time": "2022-05-12T16:31:22.002Z"
   },
   {
    "duration": 8,
    "start_time": "2022-05-12T16:31:22.152Z"
   },
   {
    "duration": 42,
    "start_time": "2022-05-12T16:31:22.163Z"
   },
   {
    "duration": 13,
    "start_time": "2022-05-12T16:31:22.207Z"
   },
   {
    "duration": 36,
    "start_time": "2022-05-12T16:31:22.222Z"
   },
   {
    "duration": 505,
    "start_time": "2022-05-12T16:31:22.261Z"
   },
   {
    "duration": 377,
    "start_time": "2022-05-12T16:31:22.769Z"
   },
   {
    "duration": 959,
    "start_time": "2022-05-12T16:31:23.151Z"
   },
   {
    "duration": 8,
    "start_time": "2022-05-12T16:31:24.113Z"
   },
   {
    "duration": 238,
    "start_time": "2022-05-12T16:31:24.124Z"
   },
   {
    "duration": 323,
    "start_time": "2022-05-12T16:31:24.364Z"
   },
   {
    "duration": 39,
    "start_time": "2022-05-12T16:31:24.689Z"
   },
   {
    "duration": 25,
    "start_time": "2022-05-12T16:31:24.732Z"
   },
   {
    "duration": 726,
    "start_time": "2022-05-12T16:31:24.758Z"
   },
   {
    "duration": 16,
    "start_time": "2022-05-12T16:31:25.486Z"
   },
   {
    "duration": 10,
    "start_time": "2022-05-12T16:31:25.504Z"
   },
   {
    "duration": 279,
    "start_time": "2022-05-12T16:31:25.516Z"
   },
   {
    "duration": 525,
    "start_time": "2022-05-12T16:31:25.797Z"
   },
   {
    "duration": 26,
    "start_time": "2022-05-12T16:31:26.325Z"
   },
   {
    "duration": 380,
    "start_time": "2022-05-12T16:31:26.353Z"
   },
   {
    "duration": 252,
    "start_time": "2022-05-12T16:31:26.736Z"
   },
   {
    "duration": 563,
    "start_time": "2022-05-12T16:31:26.991Z"
   },
   {
    "duration": 19,
    "start_time": "2022-05-12T16:31:27.557Z"
   },
   {
    "duration": 11,
    "start_time": "2022-05-12T16:31:27.579Z"
   },
   {
    "duration": 524,
    "start_time": "2022-05-12T16:31:27.593Z"
   },
   {
    "duration": 37,
    "start_time": "2022-05-12T16:31:28.120Z"
   },
   {
    "duration": 4,
    "start_time": "2022-05-12T16:31:28.160Z"
   },
   {
    "duration": 47,
    "start_time": "2022-05-13T05:10:07.297Z"
   },
   {
    "duration": 1397,
    "start_time": "2022-05-13T05:10:13.486Z"
   },
   {
    "duration": 35,
    "start_time": "2022-05-13T05:10:14.885Z"
   },
   {
    "duration": 5,
    "start_time": "2022-05-13T05:10:14.922Z"
   },
   {
    "duration": 7,
    "start_time": "2022-05-13T05:10:14.929Z"
   },
   {
    "duration": 24,
    "start_time": "2022-05-13T05:10:14.938Z"
   },
   {
    "duration": 5,
    "start_time": "2022-05-13T05:10:14.964Z"
   },
   {
    "duration": 247,
    "start_time": "2022-05-13T05:10:14.970Z"
   },
   {
    "duration": 10,
    "start_time": "2022-05-13T05:10:15.219Z"
   },
   {
    "duration": 9,
    "start_time": "2022-05-13T05:10:15.231Z"
   },
   {
    "duration": 10,
    "start_time": "2022-05-13T05:10:15.264Z"
   },
   {
    "duration": 90,
    "start_time": "2022-05-13T05:10:15.276Z"
   },
   {
    "duration": 111,
    "start_time": "2022-05-13T05:10:15.367Z"
   },
   {
    "duration": 58,
    "start_time": "2022-05-13T05:10:15.480Z"
   },
   {
    "duration": 23,
    "start_time": "2022-05-13T05:10:15.540Z"
   },
   {
    "duration": 12,
    "start_time": "2022-05-13T05:10:15.565Z"
   },
   {
    "duration": 39,
    "start_time": "2022-05-13T05:10:15.578Z"
   },
   {
    "duration": 7,
    "start_time": "2022-05-13T05:10:15.621Z"
   },
   {
    "duration": 45,
    "start_time": "2022-05-13T05:10:15.630Z"
   },
   {
    "duration": 14,
    "start_time": "2022-05-13T05:10:15.678Z"
   },
   {
    "duration": 24,
    "start_time": "2022-05-13T05:10:15.696Z"
   },
   {
    "duration": 675,
    "start_time": "2022-05-13T05:10:15.722Z"
   },
   {
    "duration": 0,
    "start_time": "2022-05-13T05:10:16.399Z"
   },
   {
    "duration": 0,
    "start_time": "2022-05-13T05:10:16.402Z"
   },
   {
    "duration": 0,
    "start_time": "2022-05-13T05:10:16.405Z"
   },
   {
    "duration": 0,
    "start_time": "2022-05-13T05:10:16.407Z"
   },
   {
    "duration": 1,
    "start_time": "2022-05-13T05:10:16.409Z"
   },
   {
    "duration": 0,
    "start_time": "2022-05-13T05:10:16.412Z"
   },
   {
    "duration": 0,
    "start_time": "2022-05-13T05:10:16.414Z"
   },
   {
    "duration": 0,
    "start_time": "2022-05-13T05:10:16.416Z"
   },
   {
    "duration": 0,
    "start_time": "2022-05-13T05:10:16.418Z"
   },
   {
    "duration": 0,
    "start_time": "2022-05-13T05:10:16.419Z"
   },
   {
    "duration": 0,
    "start_time": "2022-05-13T05:10:16.420Z"
   },
   {
    "duration": 0,
    "start_time": "2022-05-13T05:10:16.422Z"
   },
   {
    "duration": 0,
    "start_time": "2022-05-13T05:10:16.424Z"
   },
   {
    "duration": 0,
    "start_time": "2022-05-13T05:10:16.425Z"
   },
   {
    "duration": 0,
    "start_time": "2022-05-13T05:10:16.462Z"
   },
   {
    "duration": 0,
    "start_time": "2022-05-13T05:10:16.464Z"
   },
   {
    "duration": 0,
    "start_time": "2022-05-13T05:10:16.465Z"
   },
   {
    "duration": 0,
    "start_time": "2022-05-13T05:10:16.467Z"
   },
   {
    "duration": 0,
    "start_time": "2022-05-13T05:10:16.468Z"
   },
   {
    "duration": 0,
    "start_time": "2022-05-13T05:10:16.469Z"
   },
   {
    "duration": 0,
    "start_time": "2022-05-13T05:10:16.471Z"
   },
   {
    "duration": 207,
    "start_time": "2022-05-13T05:10:34.286Z"
   },
   {
    "duration": 311,
    "start_time": "2022-05-13T05:11:10.141Z"
   },
   {
    "duration": 1291,
    "start_time": "2022-05-13T05:12:25.224Z"
   },
   {
    "duration": 37,
    "start_time": "2022-05-13T05:12:26.517Z"
   },
   {
    "duration": 10,
    "start_time": "2022-05-13T05:12:26.555Z"
   },
   {
    "duration": 31,
    "start_time": "2022-05-13T05:12:26.568Z"
   },
   {
    "duration": 53,
    "start_time": "2022-05-13T05:12:26.601Z"
   },
   {
    "duration": 32,
    "start_time": "2022-05-13T05:12:26.655Z"
   },
   {
    "duration": 282,
    "start_time": "2022-05-13T05:12:26.689Z"
   },
   {
    "duration": 11,
    "start_time": "2022-05-13T05:12:26.973Z"
   },
   {
    "duration": 50,
    "start_time": "2022-05-13T05:12:26.985Z"
   },
   {
    "duration": 28,
    "start_time": "2022-05-13T05:12:27.038Z"
   },
   {
    "duration": 129,
    "start_time": "2022-05-13T05:12:27.067Z"
   },
   {
    "duration": 111,
    "start_time": "2022-05-13T05:12:27.198Z"
   },
   {
    "duration": 86,
    "start_time": "2022-05-13T05:12:27.311Z"
   },
   {
    "duration": 18,
    "start_time": "2022-05-13T05:12:27.401Z"
   },
   {
    "duration": 35,
    "start_time": "2022-05-13T05:12:27.421Z"
   },
   {
    "duration": 81,
    "start_time": "2022-05-13T05:12:27.458Z"
   },
   {
    "duration": 6,
    "start_time": "2022-05-13T05:12:27.541Z"
   },
   {
    "duration": 29,
    "start_time": "2022-05-13T05:12:27.548Z"
   },
   {
    "duration": 38,
    "start_time": "2022-05-13T05:12:27.579Z"
   },
   {
    "duration": 41,
    "start_time": "2022-05-13T05:12:27.619Z"
   },
   {
    "duration": 480,
    "start_time": "2022-05-13T05:12:27.662Z"
   },
   {
    "duration": 313,
    "start_time": "2022-05-13T05:12:28.144Z"
   },
   {
    "duration": 758,
    "start_time": "2022-05-13T05:12:28.459Z"
   },
   {
    "duration": 8,
    "start_time": "2022-05-13T05:12:29.219Z"
   },
   {
    "duration": 173,
    "start_time": "2022-05-13T05:12:29.229Z"
   },
   {
    "duration": 193,
    "start_time": "2022-05-13T05:12:29.405Z"
   },
   {
    "duration": 37,
    "start_time": "2022-05-13T05:12:29.600Z"
   },
   {
    "duration": 5,
    "start_time": "2022-05-13T05:12:29.641Z"
   },
   {
    "duration": 436,
    "start_time": "2022-05-13T05:12:29.647Z"
   },
   {
    "duration": 12,
    "start_time": "2022-05-13T05:12:30.084Z"
   },
   {
    "duration": 40,
    "start_time": "2022-05-13T05:12:30.098Z"
   },
   {
    "duration": 162,
    "start_time": "2022-05-13T05:12:30.139Z"
   },
   {
    "duration": 277,
    "start_time": "2022-05-13T05:12:30.302Z"
   },
   {
    "duration": 5,
    "start_time": "2022-05-13T05:12:30.581Z"
   },
   {
    "duration": 377,
    "start_time": "2022-05-13T05:12:30.588Z"
   },
   {
    "duration": 213,
    "start_time": "2022-05-13T05:12:30.967Z"
   },
   {
    "duration": 563,
    "start_time": "2022-05-13T05:12:31.182Z"
   },
   {
    "duration": 20,
    "start_time": "2022-05-13T05:12:31.747Z"
   },
   {
    "duration": 9,
    "start_time": "2022-05-13T05:12:31.769Z"
   },
   {
    "duration": 522,
    "start_time": "2022-05-13T05:12:31.780Z"
   },
   {
    "duration": 19,
    "start_time": "2022-05-13T05:12:32.305Z"
   },
   {
    "duration": 3,
    "start_time": "2022-05-13T05:12:32.326Z"
   },
   {
    "duration": 250,
    "start_time": "2022-05-13T05:14:06.316Z"
   },
   {
    "duration": 306,
    "start_time": "2022-05-13T05:14:40.650Z"
   },
   {
    "duration": 2411,
    "start_time": "2022-05-13T05:19:28.372Z"
   },
   {
    "duration": 69,
    "start_time": "2022-05-13T05:19:52.934Z"
   },
   {
    "duration": 152,
    "start_time": "2022-05-13T05:20:22.431Z"
   },
   {
    "duration": 65,
    "start_time": "2022-05-13T05:20:37.990Z"
   },
   {
    "duration": 2258,
    "start_time": "2022-05-13T05:20:51.085Z"
   },
   {
    "duration": 2324,
    "start_time": "2022-05-13T05:21:11.926Z"
   },
   {
    "duration": 64,
    "start_time": "2022-05-13T05:21:38.541Z"
   },
   {
    "duration": 89,
    "start_time": "2022-05-13T05:21:51.788Z"
   },
   {
    "duration": 2339,
    "start_time": "2022-05-13T05:22:04.910Z"
   },
   {
    "duration": 2385,
    "start_time": "2022-05-13T05:22:20.900Z"
   },
   {
    "duration": 59,
    "start_time": "2022-05-13T05:22:40.430Z"
   },
   {
    "duration": 205,
    "start_time": "2022-05-13T05:23:48.366Z"
   },
   {
    "duration": 219,
    "start_time": "2022-05-13T05:23:56.132Z"
   },
   {
    "duration": 168,
    "start_time": "2022-05-13T05:30:00.896Z"
   },
   {
    "duration": 153,
    "start_time": "2022-05-13T05:30:22.650Z"
   },
   {
    "duration": 153,
    "start_time": "2022-05-13T05:32:33.345Z"
   },
   {
    "duration": 141,
    "start_time": "2022-05-13T05:32:43.795Z"
   },
   {
    "duration": 130,
    "start_time": "2022-05-13T05:32:49.882Z"
   },
   {
    "duration": 26,
    "start_time": "2022-05-13T05:32:59.356Z"
   },
   {
    "duration": 25,
    "start_time": "2022-05-13T05:35:04.779Z"
   },
   {
    "duration": 333,
    "start_time": "2022-05-13T05:37:24.811Z"
   },
   {
    "duration": 164,
    "start_time": "2022-05-13T05:41:35.061Z"
   },
   {
    "duration": 170,
    "start_time": "2022-05-13T05:44:11.960Z"
   },
   {
    "duration": 257,
    "start_time": "2022-05-13T05:45:20.439Z"
   },
   {
    "duration": 173,
    "start_time": "2022-05-13T05:46:31.495Z"
   },
   {
    "duration": 198,
    "start_time": "2022-05-13T05:47:07.736Z"
   },
   {
    "duration": 588,
    "start_time": "2022-05-13T05:52:36.399Z"
   },
   {
    "duration": 3,
    "start_time": "2022-05-13T05:56:15.958Z"
   },
   {
    "duration": 4,
    "start_time": "2022-05-13T05:56:59.316Z"
   },
   {
    "duration": 4,
    "start_time": "2022-05-13T05:57:09.165Z"
   },
   {
    "duration": 320,
    "start_time": "2022-05-13T05:58:21.909Z"
   },
   {
    "duration": 279,
    "start_time": "2022-05-13T06:02:19.701Z"
   },
   {
    "duration": 274,
    "start_time": "2022-05-13T06:03:34.869Z"
   },
   {
    "duration": 273,
    "start_time": "2022-05-13T06:07:19.523Z"
   },
   {
    "duration": 318,
    "start_time": "2022-05-13T06:08:42.986Z"
   },
   {
    "duration": 440,
    "start_time": "2022-05-13T06:09:00.026Z"
   },
   {
    "duration": 687,
    "start_time": "2022-05-13T06:09:20.475Z"
   },
   {
    "duration": 363,
    "start_time": "2022-05-13T06:11:38.337Z"
   },
   {
    "duration": 301,
    "start_time": "2022-05-13T06:12:58.743Z"
   },
   {
    "duration": 1426,
    "start_time": "2022-05-13T08:26:16.095Z"
   },
   {
    "duration": 57,
    "start_time": "2022-05-13T08:26:17.523Z"
   },
   {
    "duration": 4,
    "start_time": "2022-05-13T08:26:17.581Z"
   },
   {
    "duration": 4,
    "start_time": "2022-05-13T08:26:17.588Z"
   },
   {
    "duration": 9,
    "start_time": "2022-05-13T08:26:17.593Z"
   },
   {
    "duration": 6,
    "start_time": "2022-05-13T08:26:17.604Z"
   },
   {
    "duration": 345,
    "start_time": "2022-05-13T08:26:17.612Z"
   },
   {
    "duration": 11,
    "start_time": "2022-05-13T08:26:17.959Z"
   },
   {
    "duration": 9,
    "start_time": "2022-05-13T08:26:17.972Z"
   },
   {
    "duration": 28,
    "start_time": "2022-05-13T08:26:17.984Z"
   },
   {
    "duration": 81,
    "start_time": "2022-05-13T08:26:18.014Z"
   },
   {
    "duration": 99,
    "start_time": "2022-05-13T08:26:18.108Z"
   },
   {
    "duration": 66,
    "start_time": "2022-05-13T08:26:18.209Z"
   },
   {
    "duration": 13,
    "start_time": "2022-05-13T08:26:18.277Z"
   },
   {
    "duration": 28,
    "start_time": "2022-05-13T08:26:18.292Z"
   },
   {
    "duration": 114,
    "start_time": "2022-05-13T08:26:18.322Z"
   },
   {
    "duration": 5,
    "start_time": "2022-05-13T08:26:18.438Z"
   },
   {
    "duration": 12,
    "start_time": "2022-05-13T08:26:18.445Z"
   },
   {
    "duration": 8,
    "start_time": "2022-05-13T08:26:18.459Z"
   },
   {
    "duration": 15,
    "start_time": "2022-05-13T08:26:18.468Z"
   },
   {
    "duration": 328,
    "start_time": "2022-05-13T08:26:18.508Z"
   },
   {
    "duration": 240,
    "start_time": "2022-05-13T08:26:18.837Z"
   },
   {
    "duration": 260,
    "start_time": "2022-05-13T08:26:19.079Z"
   },
   {
    "duration": 5,
    "start_time": "2022-05-13T08:26:19.340Z"
   },
   {
    "duration": 163,
    "start_time": "2022-05-13T08:26:19.347Z"
   },
   {
    "duration": 191,
    "start_time": "2022-05-13T08:26:19.512Z"
   },
   {
    "duration": 28,
    "start_time": "2022-05-13T08:26:19.707Z"
   },
   {
    "duration": 4,
    "start_time": "2022-05-13T08:26:19.739Z"
   },
   {
    "duration": 440,
    "start_time": "2022-05-13T08:26:19.745Z"
   },
   {
    "duration": 21,
    "start_time": "2022-05-13T08:26:20.187Z"
   },
   {
    "duration": 9,
    "start_time": "2022-05-13T08:26:20.210Z"
   },
   {
    "duration": 220,
    "start_time": "2022-05-13T08:26:20.221Z"
   },
   {
    "duration": 434,
    "start_time": "2022-05-13T08:26:20.443Z"
   },
   {
    "duration": 4,
    "start_time": "2022-05-13T08:26:20.879Z"
   },
   {
    "duration": 308,
    "start_time": "2022-05-13T08:26:20.885Z"
   },
   {
    "duration": 205,
    "start_time": "2022-05-13T08:26:21.195Z"
   },
   {
    "duration": 354,
    "start_time": "2022-05-13T08:26:21.402Z"
   },
   {
    "duration": 12,
    "start_time": "2022-05-13T08:26:21.758Z"
   },
   {
    "duration": 6,
    "start_time": "2022-05-13T08:26:21.771Z"
   },
   {
    "duration": 348,
    "start_time": "2022-05-13T08:26:21.779Z"
   },
   {
    "duration": 13,
    "start_time": "2022-05-13T08:26:22.129Z"
   },
   {
    "duration": 2,
    "start_time": "2022-05-13T08:26:22.144Z"
   },
   {
    "duration": 461,
    "start_time": "2022-05-13T08:27:02.994Z"
   },
   {
    "duration": 14,
    "start_time": "2022-05-13T08:27:35.043Z"
   },
   {
    "duration": 431,
    "start_time": "2022-05-13T08:27:52.226Z"
   },
   {
    "duration": 362,
    "start_time": "2022-05-13T08:29:56.129Z"
   },
   {
    "duration": 356,
    "start_time": "2022-05-13T08:30:07.202Z"
   },
   {
    "duration": 201,
    "start_time": "2022-05-13T08:30:28.969Z"
   },
   {
    "duration": 16,
    "start_time": "2022-05-13T08:39:27.077Z"
   },
   {
    "duration": 13,
    "start_time": "2022-05-13T08:40:45.014Z"
   },
   {
    "duration": 1286,
    "start_time": "2022-05-13T08:40:56.454Z"
   },
   {
    "duration": 11,
    "start_time": "2022-05-13T08:41:04.535Z"
   },
   {
    "duration": 1411,
    "start_time": "2022-05-13T08:41:55.616Z"
   },
   {
    "duration": 561,
    "start_time": "2022-05-13T08:42:15.891Z"
   },
   {
    "duration": 29,
    "start_time": "2022-05-13T08:42:32.566Z"
   },
   {
    "duration": 31,
    "start_time": "2022-05-13T08:42:48.383Z"
   },
   {
    "duration": 66,
    "start_time": "2022-05-13T08:43:24.888Z"
   },
   {
    "duration": 43,
    "start_time": "2022-05-13T08:44:25.392Z"
   },
   {
    "duration": 57,
    "start_time": "2022-05-13T08:46:13.920Z"
   },
   {
    "duration": 323,
    "start_time": "2022-05-13T08:47:28.487Z"
   },
   {
    "duration": 51,
    "start_time": "2022-05-13T08:55:15.264Z"
   },
   {
    "duration": 36134,
    "start_time": "2022-05-13T08:56:06.205Z"
   },
   {
    "duration": 0,
    "start_time": "2022-05-13T08:56:42.342Z"
   },
   {
    "duration": 37,
    "start_time": "2022-05-13T08:56:53.946Z"
   },
   {
    "duration": 5,
    "start_time": "2022-05-13T08:57:05.966Z"
   },
   {
    "duration": 3,
    "start_time": "2022-05-13T08:57:41.397Z"
   },
   {
    "duration": 51,
    "start_time": "2022-05-13T09:00:26.501Z"
   },
   {
    "duration": 6,
    "start_time": "2022-05-13T09:00:30.668Z"
   },
   {
    "duration": 4,
    "start_time": "2022-05-13T09:01:02.580Z"
   },
   {
    "duration": 469,
    "start_time": "2022-05-13T09:01:42.101Z"
   },
   {
    "duration": 92,
    "start_time": "2022-05-13T09:01:52.605Z"
   },
   {
    "duration": 100,
    "start_time": "2022-05-13T09:02:35.251Z"
   },
   {
    "duration": 103,
    "start_time": "2022-05-13T09:02:58.492Z"
   },
   {
    "duration": 92,
    "start_time": "2022-05-13T09:04:35.731Z"
   },
   {
    "duration": 80,
    "start_time": "2022-05-13T09:04:40.356Z"
   },
   {
    "duration": 19,
    "start_time": "2022-05-13T09:05:51.811Z"
   },
   {
    "duration": 87,
    "start_time": "2022-05-13T09:07:11.331Z"
   },
   {
    "duration": 3,
    "start_time": "2022-05-13T09:08:23.019Z"
   },
   {
    "duration": 6,
    "start_time": "2022-05-13T09:08:31.411Z"
   },
   {
    "duration": 13,
    "start_time": "2022-05-13T09:11:47.800Z"
   },
   {
    "duration": 8,
    "start_time": "2022-05-13T09:14:00.258Z"
   },
   {
    "duration": 103,
    "start_time": "2022-05-13T09:22:27.216Z"
   },
   {
    "duration": 118,
    "start_time": "2022-05-13T09:22:40.385Z"
   },
   {
    "duration": 108,
    "start_time": "2022-05-13T09:22:47.223Z"
   },
   {
    "duration": 123,
    "start_time": "2022-05-13T09:23:13.039Z"
   },
   {
    "duration": 114,
    "start_time": "2022-05-13T09:23:48.999Z"
   },
   {
    "duration": 104,
    "start_time": "2022-05-13T09:24:27.426Z"
   },
   {
    "duration": 280,
    "start_time": "2022-05-13T09:24:58.815Z"
   },
   {
    "duration": 100,
    "start_time": "2022-05-13T09:28:47.154Z"
   },
   {
    "duration": 103,
    "start_time": "2022-05-13T09:30:51.006Z"
   },
   {
    "duration": 65,
    "start_time": "2022-05-13T09:32:58.453Z"
   },
   {
    "duration": 83,
    "start_time": "2022-05-13T09:33:11.614Z"
   },
   {
    "duration": 19,
    "start_time": "2022-05-13T09:33:40.966Z"
   },
   {
    "duration": 19,
    "start_time": "2022-05-13T09:33:54.235Z"
   },
   {
    "duration": 1026,
    "start_time": "2022-05-13T09:34:06.863Z"
   },
   {
    "duration": 829,
    "start_time": "2022-05-13T09:34:49.317Z"
   },
   {
    "duration": 811,
    "start_time": "2022-05-13T09:36:32.389Z"
   },
   {
    "duration": 833,
    "start_time": "2022-05-13T09:36:45.326Z"
   },
   {
    "duration": 956,
    "start_time": "2022-05-13T09:36:56.906Z"
   },
   {
    "duration": 844,
    "start_time": "2022-05-13T09:40:09.741Z"
   },
   {
    "duration": 663,
    "start_time": "2022-05-13T09:41:41.685Z"
   },
   {
    "duration": 637,
    "start_time": "2022-05-13T09:41:59.220Z"
   },
   {
    "duration": 700,
    "start_time": "2022-05-13T09:42:07.691Z"
   },
   {
    "duration": 890,
    "start_time": "2022-05-13T09:44:00.859Z"
   },
   {
    "duration": 751,
    "start_time": "2022-05-13T09:44:24.932Z"
   },
   {
    "duration": 742,
    "start_time": "2022-05-13T09:44:42.815Z"
   },
   {
    "duration": 1210,
    "start_time": "2022-05-13T09:50:30.259Z"
   },
   {
    "duration": 29,
    "start_time": "2022-05-13T09:50:31.471Z"
   },
   {
    "duration": 4,
    "start_time": "2022-05-13T09:50:31.507Z"
   },
   {
    "duration": 6,
    "start_time": "2022-05-13T09:50:31.513Z"
   },
   {
    "duration": 9,
    "start_time": "2022-05-13T09:50:31.521Z"
   },
   {
    "duration": 7,
    "start_time": "2022-05-13T09:50:31.532Z"
   },
   {
    "duration": 267,
    "start_time": "2022-05-13T09:50:31.540Z"
   },
   {
    "duration": 11,
    "start_time": "2022-05-13T09:50:31.809Z"
   },
   {
    "duration": 24,
    "start_time": "2022-05-13T09:50:31.821Z"
   },
   {
    "duration": 15,
    "start_time": "2022-05-13T09:50:31.848Z"
   },
   {
    "duration": 87,
    "start_time": "2022-05-13T09:50:31.864Z"
   },
   {
    "duration": 100,
    "start_time": "2022-05-13T09:50:31.953Z"
   },
   {
    "duration": 68,
    "start_time": "2022-05-13T09:50:32.055Z"
   },
   {
    "duration": 12,
    "start_time": "2022-05-13T09:50:32.124Z"
   },
   {
    "duration": 19,
    "start_time": "2022-05-13T09:50:32.138Z"
   },
   {
    "duration": 49,
    "start_time": "2022-05-13T09:50:32.158Z"
   },
   {
    "duration": 4,
    "start_time": "2022-05-13T09:50:32.209Z"
   },
   {
    "duration": 13,
    "start_time": "2022-05-13T09:50:32.215Z"
   },
   {
    "duration": 12,
    "start_time": "2022-05-13T09:50:32.229Z"
   },
   {
    "duration": 16,
    "start_time": "2022-05-13T09:50:32.243Z"
   },
   {
    "duration": 315,
    "start_time": "2022-05-13T09:50:32.260Z"
   },
   {
    "duration": 233,
    "start_time": "2022-05-13T09:50:32.576Z"
   },
   {
    "duration": 245,
    "start_time": "2022-05-13T09:50:32.811Z"
   },
   {
    "duration": 5,
    "start_time": "2022-05-13T09:50:33.057Z"
   },
   {
    "duration": 160,
    "start_time": "2022-05-13T09:50:33.063Z"
   },
   {
    "duration": 195,
    "start_time": "2022-05-13T09:50:33.225Z"
   },
   {
    "duration": 26,
    "start_time": "2022-05-13T09:50:33.422Z"
   },
   {
    "duration": 5,
    "start_time": "2022-05-13T09:50:33.451Z"
   },
   {
    "duration": 425,
    "start_time": "2022-05-13T09:50:33.457Z"
   },
   {
    "duration": 12,
    "start_time": "2022-05-13T09:50:33.884Z"
   },
   {
    "duration": 10,
    "start_time": "2022-05-13T09:50:33.908Z"
   },
   {
    "duration": 218,
    "start_time": "2022-05-13T09:50:33.919Z"
   },
   {
    "duration": 430,
    "start_time": "2022-05-13T09:50:34.139Z"
   },
   {
    "duration": 6,
    "start_time": "2022-05-13T09:50:34.570Z"
   },
   {
    "duration": 366,
    "start_time": "2022-05-13T09:50:34.577Z"
   },
   {
    "duration": 203,
    "start_time": "2022-05-13T09:50:34.944Z"
   },
   {
    "duration": 353,
    "start_time": "2022-05-13T09:50:35.148Z"
   },
   {
    "duration": 12,
    "start_time": "2022-05-13T09:50:35.506Z"
   },
   {
    "duration": 18,
    "start_time": "2022-05-13T09:50:35.519Z"
   },
   {
    "duration": 412,
    "start_time": "2022-05-13T09:50:35.538Z"
   },
   {
    "duration": 14,
    "start_time": "2022-05-13T09:50:35.953Z"
   },
   {
    "duration": 3,
    "start_time": "2022-05-13T09:50:35.968Z"
   },
   {
    "duration": 91,
    "start_time": "2022-05-13T09:50:35.973Z"
   },
   {
    "duration": 332,
    "start_time": "2022-05-13T09:50:36.066Z"
   },
   {
    "duration": 107,
    "start_time": "2022-05-13T09:50:36.400Z"
   },
   {
    "duration": 4,
    "start_time": "2022-05-13T09:50:36.509Z"
   },
   {
    "duration": 13,
    "start_time": "2022-05-13T09:50:36.515Z"
   },
   {
    "duration": 6,
    "start_time": "2022-05-13T09:50:36.530Z"
   },
   {
    "duration": 124,
    "start_time": "2022-05-13T09:50:36.537Z"
   },
   {
    "duration": 283,
    "start_time": "2022-05-13T09:50:36.663Z"
   },
   {
    "duration": 971,
    "start_time": "2022-05-13T09:50:36.947Z"
   },
   {
    "duration": 839,
    "start_time": "2022-05-13T09:50:37.920Z"
   },
   {
    "duration": 8,
    "start_time": "2022-05-13T09:54:27.205Z"
   },
   {
    "duration": 87,
    "start_time": "2022-05-13T10:33:15.254Z"
   },
   {
    "duration": 96,
    "start_time": "2022-05-13T10:33:26.669Z"
   },
   {
    "duration": 105,
    "start_time": "2022-05-13T10:34:24.088Z"
   },
   {
    "duration": 2889,
    "start_time": "2022-05-13T10:37:44.476Z"
   },
   {
    "duration": 2860,
    "start_time": "2022-05-13T10:39:14.868Z"
   },
   {
    "duration": 2639,
    "start_time": "2022-05-13T10:39:56.355Z"
   },
   {
    "duration": 2145,
    "start_time": "2022-05-13T10:40:18.915Z"
   },
   {
    "duration": 107,
    "start_time": "2022-05-13T10:41:32.307Z"
   },
   {
    "duration": 157,
    "start_time": "2022-05-13T10:42:27.684Z"
   },
   {
    "duration": 364,
    "start_time": "2022-05-13T10:42:54.956Z"
   },
   {
    "duration": 152,
    "start_time": "2022-05-13T10:44:50.073Z"
   },
   {
    "duration": 146,
    "start_time": "2022-05-13T10:45:07.738Z"
   },
   {
    "duration": 193,
    "start_time": "2022-05-13T10:45:30.820Z"
   },
   {
    "duration": 600,
    "start_time": "2022-05-13T10:48:46.451Z"
   },
   {
    "duration": 802,
    "start_time": "2022-05-13T10:49:19.857Z"
   },
   {
    "duration": 1076,
    "start_time": "2022-05-13T10:51:54.634Z"
   },
   {
    "duration": 52,
    "start_time": "2022-05-13T10:53:16.903Z"
   },
   {
    "duration": 1335,
    "start_time": "2022-05-13T10:53:23.889Z"
   },
   {
    "duration": 59,
    "start_time": "2022-05-13T10:53:25.227Z"
   },
   {
    "duration": 4,
    "start_time": "2022-05-13T10:53:25.290Z"
   },
   {
    "duration": 6,
    "start_time": "2022-05-13T10:53:25.295Z"
   },
   {
    "duration": 11,
    "start_time": "2022-05-13T10:53:25.302Z"
   },
   {
    "duration": 5,
    "start_time": "2022-05-13T10:53:25.314Z"
   },
   {
    "duration": 332,
    "start_time": "2022-05-13T10:53:25.320Z"
   },
   {
    "duration": 10,
    "start_time": "2022-05-13T10:53:25.654Z"
   },
   {
    "duration": 10,
    "start_time": "2022-05-13T10:53:25.666Z"
   },
   {
    "duration": 12,
    "start_time": "2022-05-13T10:53:25.677Z"
   },
   {
    "duration": 86,
    "start_time": "2022-05-13T10:53:25.708Z"
   },
   {
    "duration": 104,
    "start_time": "2022-05-13T10:53:25.808Z"
   },
   {
    "duration": 65,
    "start_time": "2022-05-13T10:53:25.913Z"
   },
   {
    "duration": 29,
    "start_time": "2022-05-13T10:53:25.979Z"
   },
   {
    "duration": 12,
    "start_time": "2022-05-13T10:53:26.010Z"
   },
   {
    "duration": 188,
    "start_time": "2022-05-13T10:53:26.024Z"
   },
   {
    "duration": 5,
    "start_time": "2022-05-13T10:53:26.213Z"
   },
   {
    "duration": 12,
    "start_time": "2022-05-13T10:53:26.219Z"
   },
   {
    "duration": 7,
    "start_time": "2022-05-13T10:53:26.233Z"
   },
   {
    "duration": 13,
    "start_time": "2022-05-13T10:53:26.241Z"
   },
   {
    "duration": 326,
    "start_time": "2022-05-13T10:53:26.256Z"
   },
   {
    "duration": 244,
    "start_time": "2022-05-13T10:53:26.584Z"
   },
   {
    "duration": 252,
    "start_time": "2022-05-13T10:53:26.829Z"
   },
   {
    "duration": 5,
    "start_time": "2022-05-13T10:53:27.082Z"
   },
   {
    "duration": 156,
    "start_time": "2022-05-13T10:53:27.088Z"
   },
   {
    "duration": 191,
    "start_time": "2022-05-13T10:53:27.246Z"
   },
   {
    "duration": 26,
    "start_time": "2022-05-13T10:53:27.440Z"
   },
   {
    "duration": 4,
    "start_time": "2022-05-13T10:53:27.468Z"
   },
   {
    "duration": 410,
    "start_time": "2022-05-13T10:53:27.473Z"
   },
   {
    "duration": 12,
    "start_time": "2022-05-13T10:53:27.884Z"
   },
   {
    "duration": 18,
    "start_time": "2022-05-13T10:53:27.897Z"
   },
   {
    "duration": 208,
    "start_time": "2022-05-13T10:53:27.916Z"
   },
   {
    "duration": 436,
    "start_time": "2022-05-13T10:53:28.126Z"
   },
   {
    "duration": 4,
    "start_time": "2022-05-13T10:53:28.563Z"
   },
   {
    "duration": 324,
    "start_time": "2022-05-13T10:53:28.569Z"
   },
   {
    "duration": 214,
    "start_time": "2022-05-13T10:53:28.896Z"
   },
   {
    "duration": 388,
    "start_time": "2022-05-13T10:53:29.112Z"
   },
   {
    "duration": 14,
    "start_time": "2022-05-13T10:53:29.501Z"
   },
   {
    "duration": 8,
    "start_time": "2022-05-13T10:53:29.517Z"
   },
   {
    "duration": 414,
    "start_time": "2022-05-13T10:53:29.527Z"
   },
   {
    "duration": 16,
    "start_time": "2022-05-13T10:53:29.943Z"
   },
   {
    "duration": 3,
    "start_time": "2022-05-13T10:53:29.961Z"
   },
   {
    "duration": 83,
    "start_time": "2022-05-13T10:53:29.966Z"
   },
   {
    "duration": 335,
    "start_time": "2022-05-13T10:53:30.051Z"
   },
   {
    "duration": 103,
    "start_time": "2022-05-13T10:53:30.388Z"
   },
   {
    "duration": 3,
    "start_time": "2022-05-13T10:53:30.493Z"
   },
   {
    "duration": 21,
    "start_time": "2022-05-13T10:53:30.498Z"
   },
   {
    "duration": 6,
    "start_time": "2022-05-13T10:53:30.521Z"
   },
   {
    "duration": 119,
    "start_time": "2022-05-13T10:53:30.529Z"
   },
   {
    "duration": 287,
    "start_time": "2022-05-13T10:53:30.650Z"
   },
   {
    "duration": 997,
    "start_time": "2022-05-13T10:53:30.939Z"
   },
   {
    "duration": 806,
    "start_time": "2022-05-13T10:53:31.938Z"
   },
   {
    "duration": 9,
    "start_time": "2022-05-13T10:53:32.746Z"
   },
   {
    "duration": 117,
    "start_time": "2022-05-13T10:53:32.756Z"
   },
   {
    "duration": 0,
    "start_time": "2022-05-13T10:53:32.875Z"
   },
   {
    "duration": 0,
    "start_time": "2022-05-13T10:53:32.877Z"
   },
   {
    "duration": 0,
    "start_time": "2022-05-13T10:53:32.878Z"
   },
   {
    "duration": 109,
    "start_time": "2022-05-13T10:53:59.523Z"
   },
   {
    "duration": 607,
    "start_time": "2022-05-13T10:54:02.293Z"
   },
   {
    "duration": 811,
    "start_time": "2022-05-13T10:54:05.797Z"
   },
   {
    "duration": 907,
    "start_time": "2022-05-13T10:54:40.604Z"
   },
   {
    "duration": 158,
    "start_time": "2022-05-13T10:58:17.058Z"
   },
   {
    "duration": 641,
    "start_time": "2022-05-13T10:59:17.636Z"
   },
   {
    "duration": 476,
    "start_time": "2022-05-13T11:09:19.920Z"
   },
   {
    "duration": 12,
    "start_time": "2022-05-13T11:10:22.842Z"
   },
   {
    "duration": 16,
    "start_time": "2022-05-13T11:10:49.988Z"
   },
   {
    "duration": 75,
    "start_time": "2022-05-13T11:11:17.798Z"
   },
   {
    "duration": 715,
    "start_time": "2022-05-13T11:11:34.319Z"
   },
   {
    "duration": 595,
    "start_time": "2022-05-13T11:11:40.215Z"
   },
   {
    "duration": 558,
    "start_time": "2022-05-13T11:11:50.000Z"
   },
   {
    "duration": 1925,
    "start_time": "2022-05-14T04:07:22.034Z"
   },
   {
    "duration": 60,
    "start_time": "2022-05-14T04:07:23.962Z"
   },
   {
    "duration": 6,
    "start_time": "2022-05-14T04:07:24.024Z"
   },
   {
    "duration": 24,
    "start_time": "2022-05-14T04:07:24.034Z"
   },
   {
    "duration": 14,
    "start_time": "2022-05-14T04:07:24.061Z"
   },
   {
    "duration": 7,
    "start_time": "2022-05-14T04:07:24.077Z"
   },
   {
    "duration": 491,
    "start_time": "2022-05-14T04:07:24.086Z"
   },
   {
    "duration": 20,
    "start_time": "2022-05-14T04:07:24.580Z"
   },
   {
    "duration": 36,
    "start_time": "2022-05-14T04:07:24.603Z"
   },
   {
    "duration": 22,
    "start_time": "2022-05-14T04:07:24.643Z"
   },
   {
    "duration": 148,
    "start_time": "2022-05-14T04:07:24.668Z"
   },
   {
    "duration": 151,
    "start_time": "2022-05-14T04:07:24.825Z"
   },
   {
    "duration": 100,
    "start_time": "2022-05-14T04:07:24.979Z"
   },
   {
    "duration": 16,
    "start_time": "2022-05-14T04:07:25.082Z"
   },
   {
    "duration": 32,
    "start_time": "2022-05-14T04:07:25.101Z"
   },
   {
    "duration": 116,
    "start_time": "2022-05-14T04:07:25.136Z"
   },
   {
    "duration": 8,
    "start_time": "2022-05-14T04:07:25.254Z"
   },
   {
    "duration": 29,
    "start_time": "2022-05-14T04:07:25.264Z"
   },
   {
    "duration": 37,
    "start_time": "2022-05-14T04:07:25.296Z"
   },
   {
    "duration": 20,
    "start_time": "2022-05-14T04:07:25.336Z"
   },
   {
    "duration": 244,
    "start_time": "2022-05-14T04:07:25.359Z"
   },
   {
    "duration": 24,
    "start_time": "2022-05-14T04:07:25.605Z"
   },
   {
    "duration": 13,
    "start_time": "2022-05-14T04:07:25.631Z"
   },
   {
    "duration": 337,
    "start_time": "2022-05-14T04:07:25.646Z"
   },
   {
    "duration": 549,
    "start_time": "2022-05-14T04:07:25.986Z"
   },
   {
    "duration": 5,
    "start_time": "2022-05-14T04:07:26.538Z"
   },
   {
    "duration": 493,
    "start_time": "2022-05-14T04:07:26.546Z"
   },
   {
    "duration": 371,
    "start_time": "2022-05-14T04:07:27.044Z"
   },
   {
    "duration": 391,
    "start_time": "2022-05-14T04:07:27.418Z"
   },
   {
    "duration": 397,
    "start_time": "2022-05-14T04:07:27.812Z"
   },
   {
    "duration": 46,
    "start_time": "2022-05-14T04:07:28.211Z"
   },
   {
    "duration": 6,
    "start_time": "2022-05-14T04:07:28.259Z"
   },
   {
    "duration": 646,
    "start_time": "2022-05-14T04:07:28.268Z"
   },
   {
    "duration": 463,
    "start_time": "2022-05-14T04:07:28.917Z"
   },
   {
    "duration": 327,
    "start_time": "2022-05-14T04:07:29.382Z"
   },
   {
    "duration": 567,
    "start_time": "2022-05-14T04:07:29.712Z"
   },
   {
    "duration": 17,
    "start_time": "2022-05-14T04:07:30.281Z"
   },
   {
    "duration": 10,
    "start_time": "2022-05-14T04:07:30.325Z"
   },
   {
    "duration": 586,
    "start_time": "2022-05-14T04:07:30.338Z"
   },
   {
    "duration": 21,
    "start_time": "2022-05-14T04:07:30.927Z"
   },
   {
    "duration": 131,
    "start_time": "2022-05-14T04:07:30.950Z"
   },
   {
    "duration": 0,
    "start_time": "2022-05-14T04:07:31.084Z"
   },
   {
    "duration": 854,
    "start_time": "2022-05-14T04:07:45.271Z"
   },
   {
    "duration": 347,
    "start_time": "2022-05-14T04:08:54.366Z"
   },
   {
    "duration": 221,
    "start_time": "2022-05-14T04:09:14.102Z"
   },
   {
    "duration": 1328,
    "start_time": "2022-05-14T04:09:15.461Z"
   },
   {
    "duration": 1448,
    "start_time": "2022-05-14T04:10:51.204Z"
   },
   {
    "duration": 8,
    "start_time": "2022-05-14T04:11:35.600Z"
   },
   {
    "duration": 1304,
    "start_time": "2022-05-14T04:11:40.725Z"
   },
   {
    "duration": 892,
    "start_time": "2022-05-14T04:12:28.532Z"
   },
   {
    "duration": 384,
    "start_time": "2022-05-14T04:24:21.265Z"
   },
   {
    "duration": 451,
    "start_time": "2022-05-14T04:27:28.914Z"
   },
   {
    "duration": 506,
    "start_time": "2022-05-14T04:28:14.237Z"
   },
   {
    "duration": 58,
    "start_time": "2022-05-14T04:29:41.730Z"
   },
   {
    "duration": 58,
    "start_time": "2022-05-14T04:31:19.441Z"
   },
   {
    "duration": 62,
    "start_time": "2022-05-14T04:31:48.648Z"
   },
   {
    "duration": 87,
    "start_time": "2022-05-14T04:34:48.634Z"
   },
   {
    "duration": 101,
    "start_time": "2022-05-14T04:35:33.806Z"
   },
   {
    "duration": 6,
    "start_time": "2022-05-14T04:36:31.663Z"
   },
   {
    "duration": 6,
    "start_time": "2022-05-14T04:36:35.989Z"
   },
   {
    "duration": 7,
    "start_time": "2022-05-14T04:36:38.023Z"
   },
   {
    "duration": 108,
    "start_time": "2022-05-14T04:38:22.349Z"
   },
   {
    "duration": 119,
    "start_time": "2022-05-14T04:39:32.272Z"
   },
   {
    "duration": 121,
    "start_time": "2022-05-14T04:39:43.014Z"
   },
   {
    "duration": 1992,
    "start_time": "2022-05-14T04:39:57.288Z"
   },
   {
    "duration": 45,
    "start_time": "2022-05-14T04:39:59.283Z"
   },
   {
    "duration": 6,
    "start_time": "2022-05-14T04:39:59.330Z"
   },
   {
    "duration": 7,
    "start_time": "2022-05-14T04:39:59.339Z"
   },
   {
    "duration": 14,
    "start_time": "2022-05-14T04:39:59.348Z"
   },
   {
    "duration": 10,
    "start_time": "2022-05-14T04:39:59.364Z"
   },
   {
    "duration": 359,
    "start_time": "2022-05-14T04:39:59.376Z"
   },
   {
    "duration": 16,
    "start_time": "2022-05-14T04:39:59.738Z"
   },
   {
    "duration": 14,
    "start_time": "2022-05-14T04:39:59.756Z"
   },
   {
    "duration": 51,
    "start_time": "2022-05-14T04:39:59.775Z"
   },
   {
    "duration": 141,
    "start_time": "2022-05-14T04:39:59.828Z"
   },
   {
    "duration": 153,
    "start_time": "2022-05-14T04:39:59.971Z"
   },
   {
    "duration": 97,
    "start_time": "2022-05-14T04:40:00.127Z"
   },
   {
    "duration": 15,
    "start_time": "2022-05-14T04:40:00.227Z"
   },
   {
    "duration": 29,
    "start_time": "2022-05-14T04:40:00.244Z"
   },
   {
    "duration": 92,
    "start_time": "2022-05-14T04:40:00.276Z"
   },
   {
    "duration": 8,
    "start_time": "2022-05-14T04:40:00.371Z"
   },
   {
    "duration": 48,
    "start_time": "2022-05-14T04:40:00.382Z"
   },
   {
    "duration": 14,
    "start_time": "2022-05-14T04:40:00.433Z"
   },
   {
    "duration": 26,
    "start_time": "2022-05-14T04:40:00.450Z"
   },
   {
    "duration": 251,
    "start_time": "2022-05-14T04:40:00.479Z"
   },
   {
    "duration": 16,
    "start_time": "2022-05-14T04:40:00.732Z"
   },
   {
    "duration": 21,
    "start_time": "2022-05-14T04:40:00.750Z"
   },
   {
    "duration": 323,
    "start_time": "2022-05-14T04:40:00.774Z"
   },
   {
    "duration": 552,
    "start_time": "2022-05-14T04:40:01.099Z"
   },
   {
    "duration": 6,
    "start_time": "2022-05-14T04:40:01.653Z"
   },
   {
    "duration": 496,
    "start_time": "2022-05-14T04:40:01.661Z"
   },
   {
    "duration": 371,
    "start_time": "2022-05-14T04:40:02.162Z"
   },
   {
    "duration": 380,
    "start_time": "2022-05-14T04:40:02.535Z"
   },
   {
    "duration": 419,
    "start_time": "2022-05-14T04:40:02.917Z"
   },
   {
    "duration": 59,
    "start_time": "2022-05-14T04:40:03.339Z"
   },
   {
    "duration": 27,
    "start_time": "2022-05-14T04:40:03.401Z"
   },
   {
    "duration": 638,
    "start_time": "2022-05-14T04:40:03.430Z"
   },
   {
    "duration": 403,
    "start_time": "2022-05-14T04:40:04.071Z"
   },
   {
    "duration": 80,
    "start_time": "2022-05-14T04:40:04.477Z"
   },
   {
    "duration": 127,
    "start_time": "2022-05-14T04:40:04.560Z"
   },
   {
    "duration": 7,
    "start_time": "2022-05-14T04:40:04.689Z"
   },
   {
    "duration": 31,
    "start_time": "2022-05-14T04:40:04.698Z"
   },
   {
    "duration": 26,
    "start_time": "2022-05-14T04:40:04.731Z"
   },
   {
    "duration": 458,
    "start_time": "2022-05-14T04:40:04.759Z"
   },
   {
    "duration": 319,
    "start_time": "2022-05-14T04:40:05.220Z"
   },
   {
    "duration": 557,
    "start_time": "2022-05-14T04:40:05.542Z"
   },
   {
    "duration": 30,
    "start_time": "2022-05-14T04:40:06.102Z"
   },
   {
    "duration": 11,
    "start_time": "2022-05-14T04:40:06.135Z"
   },
   {
    "duration": 585,
    "start_time": "2022-05-14T04:40:06.148Z"
   },
   {
    "duration": 20,
    "start_time": "2022-05-14T04:40:06.736Z"
   },
   {
    "duration": 183,
    "start_time": "2022-05-14T04:40:06.758Z"
   },
   {
    "duration": 1498,
    "start_time": "2022-05-14T04:40:06.943Z"
   },
   {
    "duration": 1671,
    "start_time": "2022-05-14T04:48:29.728Z"
   },
   {
    "duration": 47,
    "start_time": "2022-05-14T04:48:31.402Z"
   },
   {
    "duration": 6,
    "start_time": "2022-05-14T04:48:31.451Z"
   },
   {
    "duration": 10,
    "start_time": "2022-05-14T04:48:31.459Z"
   },
   {
    "duration": 16,
    "start_time": "2022-05-14T04:48:31.471Z"
   },
   {
    "duration": 36,
    "start_time": "2022-05-14T04:48:31.489Z"
   },
   {
    "duration": 353,
    "start_time": "2022-05-14T04:48:31.527Z"
   },
   {
    "duration": 17,
    "start_time": "2022-05-14T04:48:31.882Z"
   },
   {
    "duration": 35,
    "start_time": "2022-05-14T04:48:31.901Z"
   },
   {
    "duration": 16,
    "start_time": "2022-05-14T04:48:31.940Z"
   },
   {
    "duration": 159,
    "start_time": "2022-05-14T04:48:31.958Z"
   },
   {
    "duration": 154,
    "start_time": "2022-05-14T04:48:32.123Z"
   },
   {
    "duration": 96,
    "start_time": "2022-05-14T04:48:32.279Z"
   },
   {
    "duration": 15,
    "start_time": "2022-05-14T04:48:32.378Z"
   },
   {
    "duration": 37,
    "start_time": "2022-05-14T04:48:32.395Z"
   },
   {
    "duration": 53,
    "start_time": "2022-05-14T04:48:32.434Z"
   },
   {
    "duration": 8,
    "start_time": "2022-05-14T04:48:32.490Z"
   },
   {
    "duration": 19,
    "start_time": "2022-05-14T04:48:32.525Z"
   },
   {
    "duration": 16,
    "start_time": "2022-05-14T04:48:32.547Z"
   },
   {
    "duration": 21,
    "start_time": "2022-05-14T04:48:32.565Z"
   },
   {
    "duration": 264,
    "start_time": "2022-05-14T04:48:32.588Z"
   },
   {
    "duration": 15,
    "start_time": "2022-05-14T04:48:32.854Z"
   },
   {
    "duration": 14,
    "start_time": "2022-05-14T04:48:32.871Z"
   },
   {
    "duration": 338,
    "start_time": "2022-05-14T04:48:32.887Z"
   },
   {
    "duration": 661,
    "start_time": "2022-05-14T04:48:33.227Z"
   },
   {
    "duration": 5,
    "start_time": "2022-05-14T04:48:33.890Z"
   },
   {
    "duration": 484,
    "start_time": "2022-05-14T04:48:33.897Z"
   },
   {
    "duration": 379,
    "start_time": "2022-05-14T04:48:34.386Z"
   },
   {
    "duration": 383,
    "start_time": "2022-05-14T04:48:34.767Z"
   },
   {
    "duration": 409,
    "start_time": "2022-05-14T04:48:35.152Z"
   },
   {
    "duration": 39,
    "start_time": "2022-05-14T04:48:35.563Z"
   },
   {
    "duration": 6,
    "start_time": "2022-05-14T04:48:35.625Z"
   },
   {
    "duration": 622,
    "start_time": "2022-05-14T04:48:35.634Z"
   },
   {
    "duration": 410,
    "start_time": "2022-05-14T04:48:36.259Z"
   },
   {
    "duration": 80,
    "start_time": "2022-05-14T04:48:36.672Z"
   },
   {
    "duration": 122,
    "start_time": "2022-05-14T04:48:36.755Z"
   },
   {
    "duration": 8,
    "start_time": "2022-05-14T04:48:36.879Z"
   },
   {
    "duration": 36,
    "start_time": "2022-05-14T04:48:36.890Z"
   },
   {
    "duration": 7,
    "start_time": "2022-05-14T04:48:36.929Z"
   },
   {
    "duration": 479,
    "start_time": "2022-05-14T04:48:36.939Z"
   },
   {
    "duration": 328,
    "start_time": "2022-05-14T04:48:37.425Z"
   },
   {
    "duration": 569,
    "start_time": "2022-05-14T04:48:37.755Z"
   },
   {
    "duration": 19,
    "start_time": "2022-05-14T04:48:38.327Z"
   },
   {
    "duration": 11,
    "start_time": "2022-05-14T04:48:38.349Z"
   },
   {
    "duration": 622,
    "start_time": "2022-05-14T04:48:38.363Z"
   },
   {
    "duration": 38,
    "start_time": "2022-05-14T04:48:38.988Z"
   },
   {
    "duration": 186,
    "start_time": "2022-05-14T04:48:39.029Z"
   },
   {
    "duration": 1047,
    "start_time": "2022-05-14T04:48:39.218Z"
   },
   {
    "duration": 363,
    "start_time": "2022-05-14T04:48:51.493Z"
   },
   {
    "duration": 338,
    "start_time": "2022-05-14T04:49:01.637Z"
   },
   {
    "duration": 72,
    "start_time": "2022-05-14T06:33:37.912Z"
   },
   {
    "duration": 1906,
    "start_time": "2022-05-14T06:33:43.076Z"
   },
   {
    "duration": 61,
    "start_time": "2022-05-14T06:33:44.984Z"
   },
   {
    "duration": 7,
    "start_time": "2022-05-14T06:33:45.047Z"
   },
   {
    "duration": 8,
    "start_time": "2022-05-14T06:33:45.057Z"
   },
   {
    "duration": 25,
    "start_time": "2022-05-14T06:33:45.067Z"
   },
   {
    "duration": 12,
    "start_time": "2022-05-14T06:33:45.094Z"
   },
   {
    "duration": 474,
    "start_time": "2022-05-14T06:33:45.108Z"
   },
   {
    "duration": 16,
    "start_time": "2022-05-14T06:33:45.584Z"
   },
   {
    "duration": 16,
    "start_time": "2022-05-14T06:33:45.603Z"
   },
   {
    "duration": 15,
    "start_time": "2022-05-14T06:33:45.623Z"
   },
   {
    "duration": 156,
    "start_time": "2022-05-14T06:33:45.640Z"
   },
   {
    "duration": 156,
    "start_time": "2022-05-14T06:33:45.798Z"
   },
   {
    "duration": 97,
    "start_time": "2022-05-14T06:33:45.956Z"
   },
   {
    "duration": 31,
    "start_time": "2022-05-14T06:33:46.055Z"
   },
   {
    "duration": 15,
    "start_time": "2022-05-14T06:33:46.088Z"
   },
   {
    "duration": 113,
    "start_time": "2022-05-14T06:33:46.105Z"
   },
   {
    "duration": 7,
    "start_time": "2022-05-14T06:33:46.220Z"
   },
   {
    "duration": 19,
    "start_time": "2022-05-14T06:33:46.229Z"
   },
   {
    "duration": 40,
    "start_time": "2022-05-14T06:33:46.250Z"
   },
   {
    "duration": 19,
    "start_time": "2022-05-14T06:33:46.292Z"
   },
   {
    "duration": 240,
    "start_time": "2022-05-14T06:33:46.313Z"
   },
   {
    "duration": 15,
    "start_time": "2022-05-14T06:33:46.555Z"
   },
   {
    "duration": 12,
    "start_time": "2022-05-14T06:33:46.582Z"
   },
   {
    "duration": 326,
    "start_time": "2022-05-14T06:33:46.596Z"
   },
   {
    "duration": 554,
    "start_time": "2022-05-14T06:33:46.924Z"
   },
   {
    "duration": 6,
    "start_time": "2022-05-14T06:33:47.479Z"
   },
   {
    "duration": 487,
    "start_time": "2022-05-14T06:33:47.487Z"
   },
   {
    "duration": 371,
    "start_time": "2022-05-14T06:33:47.981Z"
   },
   {
    "duration": 388,
    "start_time": "2022-05-14T06:33:48.354Z"
   },
   {
    "duration": 389,
    "start_time": "2022-05-14T06:33:48.745Z"
   },
   {
    "duration": 50,
    "start_time": "2022-05-14T06:33:49.137Z"
   },
   {
    "duration": 7,
    "start_time": "2022-05-14T06:33:49.190Z"
   },
   {
    "duration": 625,
    "start_time": "2022-05-14T06:33:49.200Z"
   },
   {
    "duration": 475,
    "start_time": "2022-05-14T06:33:49.827Z"
   },
   {
    "duration": 61,
    "start_time": "2022-05-14T06:33:50.305Z"
   },
   {
    "duration": 128,
    "start_time": "2022-05-14T06:33:50.368Z"
   },
   {
    "duration": 6,
    "start_time": "2022-05-14T06:33:50.498Z"
   },
   {
    "duration": 22,
    "start_time": "2022-05-14T06:33:50.506Z"
   },
   {
    "duration": 8,
    "start_time": "2022-05-14T06:33:50.530Z"
   },
   {
    "duration": 460,
    "start_time": "2022-05-14T06:33:50.540Z"
   },
   {
    "duration": 321,
    "start_time": "2022-05-14T06:33:51.002Z"
   },
   {
    "duration": 547,
    "start_time": "2022-05-14T06:33:51.325Z"
   },
   {
    "duration": 19,
    "start_time": "2022-05-14T06:33:51.875Z"
   },
   {
    "duration": 9,
    "start_time": "2022-05-14T06:33:51.897Z"
   },
   {
    "duration": 594,
    "start_time": "2022-05-14T06:33:51.908Z"
   },
   {
    "duration": 19,
    "start_time": "2022-05-14T06:33:52.504Z"
   },
   {
    "duration": 182,
    "start_time": "2022-05-14T06:33:52.525Z"
   },
   {
    "duration": 995,
    "start_time": "2022-05-14T06:33:52.710Z"
   },
   {
    "duration": 193,
    "start_time": "2022-05-14T06:43:27.739Z"
   },
   {
    "duration": 121,
    "start_time": "2022-05-14T06:46:46.415Z"
   },
   {
    "duration": 112,
    "start_time": "2022-05-14T06:47:11.627Z"
   },
   {
    "duration": 103,
    "start_time": "2022-05-14T06:47:18.156Z"
   },
   {
    "duration": 98,
    "start_time": "2022-05-14T06:47:34.893Z"
   },
   {
    "duration": 134,
    "start_time": "2022-05-14T06:47:52.675Z"
   },
   {
    "duration": 106,
    "start_time": "2022-05-14T06:48:04.253Z"
   },
   {
    "duration": 106,
    "start_time": "2022-05-14T06:48:19.339Z"
   },
   {
    "duration": 107,
    "start_time": "2022-05-14T06:50:32.189Z"
   },
   {
    "duration": 212,
    "start_time": "2022-05-14T06:51:10.685Z"
   },
   {
    "duration": 101,
    "start_time": "2022-05-14T06:51:22.557Z"
   },
   {
    "duration": 95,
    "start_time": "2022-05-14T06:51:51.987Z"
   },
   {
    "duration": 116,
    "start_time": "2022-05-14T06:53:30.773Z"
   },
   {
    "duration": 44,
    "start_time": "2022-05-14T06:54:31.948Z"
   },
   {
    "duration": 33,
    "start_time": "2022-05-14T06:55:21.076Z"
   },
   {
    "duration": 33,
    "start_time": "2022-05-14T06:58:27.521Z"
   },
   {
    "duration": 49,
    "start_time": "2022-05-14T06:59:32.515Z"
   },
   {
    "duration": 30,
    "start_time": "2022-05-14T07:00:30.562Z"
   },
   {
    "duration": 37,
    "start_time": "2022-05-14T07:01:24.945Z"
   },
   {
    "duration": 6,
    "start_time": "2022-05-14T07:02:14.754Z"
   },
   {
    "duration": 5,
    "start_time": "2022-05-14T07:02:47.874Z"
   },
   {
    "duration": 40,
    "start_time": "2022-05-14T07:03:17.913Z"
   },
   {
    "duration": 98,
    "start_time": "2022-05-14T07:03:50.968Z"
   },
   {
    "duration": 7,
    "start_time": "2022-05-14T07:03:56.399Z"
   },
   {
    "duration": 41,
    "start_time": "2022-05-14T07:04:12.641Z"
   },
   {
    "duration": 1943,
    "start_time": "2022-05-14T07:04:53.704Z"
   },
   {
    "duration": 6,
    "start_time": "2022-05-14T07:05:22.330Z"
   },
   {
    "duration": 11,
    "start_time": "2022-05-14T07:11:08.455Z"
   },
   {
    "duration": 13,
    "start_time": "2022-05-14T07:11:48.271Z"
   },
   {
    "duration": 13,
    "start_time": "2022-05-14T07:11:53.440Z"
   },
   {
    "duration": 11,
    "start_time": "2022-05-14T07:12:27.766Z"
   },
   {
    "duration": 11,
    "start_time": "2022-05-14T07:12:35.447Z"
   },
   {
    "duration": 5,
    "start_time": "2022-05-14T07:22:23.357Z"
   },
   {
    "duration": 6,
    "start_time": "2022-05-14T07:22:28.687Z"
   },
   {
    "duration": 12,
    "start_time": "2022-05-14T07:24:37.970Z"
   },
   {
    "duration": 11,
    "start_time": "2022-05-14T07:31:08.514Z"
   },
   {
    "duration": 8,
    "start_time": "2022-05-14T07:34:41.708Z"
   },
   {
    "duration": 8,
    "start_time": "2022-05-14T07:40:33.218Z"
   },
   {
    "duration": 5,
    "start_time": "2022-05-14T07:41:21.785Z"
   },
   {
    "duration": 13,
    "start_time": "2022-05-14T07:42:56.233Z"
   },
   {
    "duration": 6,
    "start_time": "2022-05-14T07:50:10.408Z"
   },
   {
    "duration": 12,
    "start_time": "2022-05-14T08:06:56.396Z"
   },
   {
    "duration": 5,
    "start_time": "2022-05-14T08:07:07.771Z"
   },
   {
    "duration": 5,
    "start_time": "2022-05-14T08:07:15.700Z"
   },
   {
    "duration": 5,
    "start_time": "2022-05-14T08:07:33.888Z"
   },
   {
    "duration": 5,
    "start_time": "2022-05-14T08:08:10.797Z"
   },
   {
    "duration": 115,
    "start_time": "2022-05-14T08:09:25.229Z"
   },
   {
    "duration": 5,
    "start_time": "2022-05-14T08:09:36.611Z"
   },
   {
    "duration": 6,
    "start_time": "2022-05-14T08:10:57.251Z"
   },
   {
    "duration": 13,
    "start_time": "2022-05-14T08:11:14.059Z"
   },
   {
    "duration": 13,
    "start_time": "2022-05-14T08:11:31.492Z"
   },
   {
    "duration": 7,
    "start_time": "2022-05-14T08:12:06.379Z"
   },
   {
    "duration": 6,
    "start_time": "2022-05-14T08:12:35.604Z"
   },
   {
    "duration": 13,
    "start_time": "2022-05-14T08:15:58.545Z"
   },
   {
    "duration": 16,
    "start_time": "2022-05-14T08:16:13.059Z"
   },
   {
    "duration": 106,
    "start_time": "2022-05-14T08:18:02.618Z"
   },
   {
    "duration": 19,
    "start_time": "2022-05-14T08:18:09.938Z"
   },
   {
    "duration": 21,
    "start_time": "2022-05-14T08:18:26.684Z"
   },
   {
    "duration": 19,
    "start_time": "2022-05-14T08:18:47.281Z"
   },
   {
    "duration": 22,
    "start_time": "2022-05-14T08:18:57.018Z"
   },
   {
    "duration": 19,
    "start_time": "2022-05-14T08:19:13.658Z"
   },
   {
    "duration": 21,
    "start_time": "2022-05-14T08:19:18.210Z"
   },
   {
    "duration": 21,
    "start_time": "2022-05-14T08:21:01.019Z"
   },
   {
    "duration": 1667,
    "start_time": "2022-05-14T08:21:26.679Z"
   },
   {
    "duration": 46,
    "start_time": "2022-05-14T08:21:28.349Z"
   },
   {
    "duration": 6,
    "start_time": "2022-05-14T08:21:28.397Z"
   },
   {
    "duration": 13,
    "start_time": "2022-05-14T08:21:28.406Z"
   },
   {
    "duration": 37,
    "start_time": "2022-05-14T08:21:28.421Z"
   },
   {
    "duration": 12,
    "start_time": "2022-05-14T08:21:28.460Z"
   },
   {
    "duration": 345,
    "start_time": "2022-05-14T08:21:28.474Z"
   },
   {
    "duration": 17,
    "start_time": "2022-05-14T08:21:28.822Z"
   },
   {
    "duration": 12,
    "start_time": "2022-05-14T08:21:28.841Z"
   },
   {
    "duration": 17,
    "start_time": "2022-05-14T08:21:28.884Z"
   },
   {
    "duration": 148,
    "start_time": "2022-05-14T08:21:28.904Z"
   },
   {
    "duration": 157,
    "start_time": "2022-05-14T08:21:29.054Z"
   },
   {
    "duration": 104,
    "start_time": "2022-05-14T08:21:29.213Z"
   },
   {
    "duration": 19,
    "start_time": "2022-05-14T08:21:29.320Z"
   },
   {
    "duration": 47,
    "start_time": "2022-05-14T08:21:29.341Z"
   },
   {
    "duration": 50,
    "start_time": "2022-05-14T08:21:29.391Z"
   },
   {
    "duration": 7,
    "start_time": "2022-05-14T08:21:29.444Z"
   },
   {
    "duration": 17,
    "start_time": "2022-05-14T08:21:29.482Z"
   },
   {
    "duration": 10,
    "start_time": "2022-05-14T08:21:29.501Z"
   },
   {
    "duration": 18,
    "start_time": "2022-05-14T08:21:29.513Z"
   },
   {
    "duration": 248,
    "start_time": "2022-05-14T08:21:29.534Z"
   },
   {
    "duration": 15,
    "start_time": "2022-05-14T08:21:29.785Z"
   },
   {
    "duration": 11,
    "start_time": "2022-05-14T08:21:29.802Z"
   },
   {
    "duration": 347,
    "start_time": "2022-05-14T08:21:29.815Z"
   },
   {
    "duration": 568,
    "start_time": "2022-05-14T08:21:30.165Z"
   },
   {
    "duration": 5,
    "start_time": "2022-05-14T08:21:30.735Z"
   },
   {
    "duration": 503,
    "start_time": "2022-05-14T08:21:30.742Z"
   },
   {
    "duration": 412,
    "start_time": "2022-05-14T08:21:31.253Z"
   },
   {
    "duration": 416,
    "start_time": "2022-05-14T08:21:31.668Z"
   },
   {
    "duration": 525,
    "start_time": "2022-05-14T08:21:32.086Z"
   },
   {
    "duration": 69,
    "start_time": "2022-05-14T08:21:32.613Z"
   },
   {
    "duration": 6,
    "start_time": "2022-05-14T08:21:32.684Z"
   },
   {
    "duration": 622,
    "start_time": "2022-05-14T08:21:32.692Z"
   },
   {
    "duration": 369,
    "start_time": "2022-05-14T08:21:33.316Z"
   },
   {
    "duration": 61,
    "start_time": "2022-05-14T08:21:33.687Z"
   },
   {
    "duration": 58,
    "start_time": "2022-05-14T08:21:33.750Z"
   },
   {
    "duration": 40,
    "start_time": "2022-05-14T08:21:33.811Z"
   },
   {
    "duration": 29,
    "start_time": "2022-05-14T08:21:33.853Z"
   },
   {
    "duration": 450,
    "start_time": "2022-05-14T08:21:33.885Z"
   },
   {
    "duration": 314,
    "start_time": "2022-05-14T08:21:34.338Z"
   },
   {
    "duration": 546,
    "start_time": "2022-05-14T08:21:34.655Z"
   },
   {
    "duration": 17,
    "start_time": "2022-05-14T08:21:35.203Z"
   },
   {
    "duration": 10,
    "start_time": "2022-05-14T08:21:35.222Z"
   },
   {
    "duration": 597,
    "start_time": "2022-05-14T08:21:35.234Z"
   },
   {
    "duration": 20,
    "start_time": "2022-05-14T08:21:35.833Z"
   },
   {
    "duration": 189,
    "start_time": "2022-05-14T08:21:35.855Z"
   },
   {
    "duration": 1007,
    "start_time": "2022-05-14T08:21:36.046Z"
   },
   {
    "duration": 10,
    "start_time": "2022-05-14T08:21:37.055Z"
   },
   {
    "duration": 19,
    "start_time": "2022-05-14T08:21:37.066Z"
   },
   {
    "duration": 15,
    "start_time": "2022-05-14T08:21:37.087Z"
   },
   {
    "duration": 13,
    "start_time": "2022-05-14T08:21:37.104Z"
   },
   {
    "duration": 19,
    "start_time": "2022-05-14T08:21:37.120Z"
   },
   {
    "duration": 8,
    "start_time": "2022-05-14T08:21:37.141Z"
   },
   {
    "duration": 34,
    "start_time": "2022-05-14T08:21:37.152Z"
   },
   {
    "duration": 21,
    "start_time": "2022-05-14T08:21:37.188Z"
   },
   {
    "duration": 14,
    "start_time": "2022-05-14T08:21:37.212Z"
   },
   {
    "duration": 18,
    "start_time": "2022-05-14T08:21:37.228Z"
   },
   {
    "duration": 39,
    "start_time": "2022-05-14T08:21:37.248Z"
   },
   {
    "duration": 1686,
    "start_time": "2022-05-14T08:22:05.461Z"
   },
   {
    "duration": 47,
    "start_time": "2022-05-14T08:22:07.150Z"
   },
   {
    "duration": 6,
    "start_time": "2022-05-14T08:22:07.199Z"
   },
   {
    "duration": 18,
    "start_time": "2022-05-14T08:22:07.208Z"
   },
   {
    "duration": 13,
    "start_time": "2022-05-14T08:22:07.228Z"
   },
   {
    "duration": 8,
    "start_time": "2022-05-14T08:22:07.243Z"
   },
   {
    "duration": 353,
    "start_time": "2022-05-14T08:22:07.253Z"
   },
   {
    "duration": 16,
    "start_time": "2022-05-14T08:22:07.608Z"
   },
   {
    "duration": 13,
    "start_time": "2022-05-14T08:22:07.626Z"
   },
   {
    "duration": 49,
    "start_time": "2022-05-14T08:22:07.643Z"
   },
   {
    "duration": 134,
    "start_time": "2022-05-14T08:22:07.695Z"
   },
   {
    "duration": 150,
    "start_time": "2022-05-14T08:22:07.831Z"
   },
   {
    "duration": 101,
    "start_time": "2022-05-14T08:22:07.984Z"
   },
   {
    "duration": 17,
    "start_time": "2022-05-14T08:22:08.087Z"
   },
   {
    "duration": 15,
    "start_time": "2022-05-14T08:22:08.106Z"
   },
   {
    "duration": 72,
    "start_time": "2022-05-14T08:22:08.123Z"
   },
   {
    "duration": 7,
    "start_time": "2022-05-14T08:22:08.197Z"
   },
   {
    "duration": 20,
    "start_time": "2022-05-14T08:22:08.206Z"
   },
   {
    "duration": 11,
    "start_time": "2022-05-14T08:22:08.228Z"
   },
   {
    "duration": 56,
    "start_time": "2022-05-14T08:22:08.242Z"
   },
   {
    "duration": 219,
    "start_time": "2022-05-14T08:22:08.300Z"
   },
   {
    "duration": 15,
    "start_time": "2022-05-14T08:22:08.522Z"
   },
   {
    "duration": 11,
    "start_time": "2022-05-14T08:22:08.539Z"
   },
   {
    "duration": 325,
    "start_time": "2022-05-14T08:22:08.581Z"
   },
   {
    "duration": 573,
    "start_time": "2022-05-14T08:22:08.908Z"
   },
   {
    "duration": 5,
    "start_time": "2022-05-14T08:22:09.484Z"
   },
   {
    "duration": 490,
    "start_time": "2022-05-14T08:22:09.491Z"
   },
   {
    "duration": 474,
    "start_time": "2022-05-14T08:22:09.987Z"
   },
   {
    "duration": 389,
    "start_time": "2022-05-14T08:22:10.463Z"
   },
   {
    "duration": 493,
    "start_time": "2022-05-14T08:22:10.854Z"
   },
   {
    "duration": 52,
    "start_time": "2022-05-14T08:22:11.349Z"
   },
   {
    "duration": 5,
    "start_time": "2022-05-14T08:22:11.403Z"
   },
   {
    "duration": 730,
    "start_time": "2022-05-14T08:22:11.410Z"
   },
   {
    "duration": 373,
    "start_time": "2022-05-14T08:22:12.143Z"
   },
   {
    "duration": 74,
    "start_time": "2022-05-14T08:22:12.519Z"
   },
   {
    "duration": 40,
    "start_time": "2022-05-14T08:22:12.595Z"
   },
   {
    "duration": 72,
    "start_time": "2022-05-14T08:22:12.637Z"
   },
   {
    "duration": 6,
    "start_time": "2022-05-14T08:22:12.711Z"
   },
   {
    "duration": 468,
    "start_time": "2022-05-14T08:22:12.719Z"
   },
   {
    "duration": 320,
    "start_time": "2022-05-14T08:22:13.189Z"
   },
   {
    "duration": 561,
    "start_time": "2022-05-14T08:22:13.511Z"
   },
   {
    "duration": 19,
    "start_time": "2022-05-14T08:22:14.074Z"
   },
   {
    "duration": 10,
    "start_time": "2022-05-14T08:22:14.095Z"
   },
   {
    "duration": 599,
    "start_time": "2022-05-14T08:22:14.107Z"
   },
   {
    "duration": 20,
    "start_time": "2022-05-14T08:22:14.709Z"
   },
   {
    "duration": 276,
    "start_time": "2022-05-14T08:22:14.731Z"
   },
   {
    "duration": 991,
    "start_time": "2022-05-14T08:22:15.009Z"
   },
   {
    "duration": 10,
    "start_time": "2022-05-14T08:22:16.002Z"
   },
   {
    "duration": 6,
    "start_time": "2022-05-14T08:22:16.014Z"
   },
   {
    "duration": 13,
    "start_time": "2022-05-14T08:22:16.022Z"
   },
   {
    "duration": 10,
    "start_time": "2022-05-14T08:22:16.037Z"
   },
   {
    "duration": 9,
    "start_time": "2022-05-14T08:22:16.082Z"
   },
   {
    "duration": 7,
    "start_time": "2022-05-14T08:22:16.093Z"
   },
   {
    "duration": 17,
    "start_time": "2022-05-14T08:22:16.102Z"
   },
   {
    "duration": 4,
    "start_time": "2022-05-14T08:22:16.121Z"
   },
   {
    "duration": 10,
    "start_time": "2022-05-14T08:22:16.127Z"
   },
   {
    "duration": 53,
    "start_time": "2022-05-14T08:22:16.139Z"
   },
   {
    "duration": 42,
    "start_time": "2022-05-14T08:22:16.196Z"
   },
   {
    "duration": 1849,
    "start_time": "2022-05-15T04:10:33.859Z"
   },
   {
    "duration": 52,
    "start_time": "2022-05-15T04:10:35.711Z"
   },
   {
    "duration": 5,
    "start_time": "2022-05-15T04:10:35.766Z"
   },
   {
    "duration": 22,
    "start_time": "2022-05-15T04:10:35.773Z"
   },
   {
    "duration": 16,
    "start_time": "2022-05-15T04:10:35.797Z"
   },
   {
    "duration": 8,
    "start_time": "2022-05-15T04:10:35.816Z"
   },
   {
    "duration": 799,
    "start_time": "2022-05-15T04:10:35.856Z"
   },
   {
    "duration": 16,
    "start_time": "2022-05-15T04:10:36.658Z"
   },
   {
    "duration": 12,
    "start_time": "2022-05-15T04:10:36.676Z"
   },
   {
    "duration": 17,
    "start_time": "2022-05-15T04:10:36.692Z"
   },
   {
    "duration": 167,
    "start_time": "2022-05-15T04:10:36.711Z"
   },
   {
    "duration": 148,
    "start_time": "2022-05-15T04:10:36.880Z"
   },
   {
    "duration": 100,
    "start_time": "2022-05-15T04:10:37.030Z"
   },
   {
    "duration": 27,
    "start_time": "2022-05-15T04:10:37.132Z"
   },
   {
    "duration": 15,
    "start_time": "2022-05-15T04:10:37.162Z"
   },
   {
    "duration": 81,
    "start_time": "2022-05-15T04:10:37.179Z"
   },
   {
    "duration": 7,
    "start_time": "2022-05-15T04:10:37.262Z"
   },
   {
    "duration": 20,
    "start_time": "2022-05-15T04:10:37.272Z"
   },
   {
    "duration": 11,
    "start_time": "2022-05-15T04:10:37.294Z"
   },
   {
    "duration": 18,
    "start_time": "2022-05-15T04:10:37.356Z"
   },
   {
    "duration": 211,
    "start_time": "2022-05-15T04:10:37.377Z"
   },
   {
    "duration": 17,
    "start_time": "2022-05-15T04:10:37.590Z"
   },
   {
    "duration": 12,
    "start_time": "2022-05-15T04:10:37.610Z"
   },
   {
    "duration": 346,
    "start_time": "2022-05-15T04:10:37.625Z"
   },
   {
    "duration": 557,
    "start_time": "2022-05-15T04:10:37.973Z"
   },
   {
    "duration": 5,
    "start_time": "2022-05-15T04:10:38.532Z"
   },
   {
    "duration": 477,
    "start_time": "2022-05-15T04:10:38.540Z"
   },
   {
    "duration": 693,
    "start_time": "2022-05-15T04:10:39.029Z"
   },
   {
    "duration": 731,
    "start_time": "2022-05-15T04:10:39.725Z"
   },
   {
    "duration": 689,
    "start_time": "2022-05-15T04:10:40.460Z"
   },
   {
    "duration": 71,
    "start_time": "2022-05-15T04:10:41.152Z"
   },
   {
    "duration": 37,
    "start_time": "2022-05-15T04:10:41.226Z"
   },
   {
    "duration": 601,
    "start_time": "2022-05-15T04:10:41.266Z"
   },
   {
    "duration": 357,
    "start_time": "2022-05-15T04:10:41.869Z"
   },
   {
    "duration": 74,
    "start_time": "2022-05-15T04:10:42.228Z"
   },
   {
    "duration": 53,
    "start_time": "2022-05-15T04:10:42.304Z"
   },
   {
    "duration": 39,
    "start_time": "2022-05-15T04:10:42.360Z"
   },
   {
    "duration": 6,
    "start_time": "2022-05-15T04:10:42.401Z"
   },
   {
    "duration": 941,
    "start_time": "2022-05-15T04:10:42.410Z"
   },
   {
    "duration": 637,
    "start_time": "2022-05-15T04:10:43.358Z"
   },
   {
    "duration": 849,
    "start_time": "2022-05-15T04:10:43.998Z"
   },
   {
    "duration": 16,
    "start_time": "2022-05-15T04:10:44.857Z"
   },
   {
    "duration": 10,
    "start_time": "2022-05-15T04:10:44.875Z"
   },
   {
    "duration": 580,
    "start_time": "2022-05-15T04:10:44.887Z"
   },
   {
    "duration": 20,
    "start_time": "2022-05-15T04:10:45.470Z"
   },
   {
    "duration": 176,
    "start_time": "2022-05-15T04:10:45.492Z"
   },
   {
    "duration": 957,
    "start_time": "2022-05-15T04:10:45.670Z"
   },
   {
    "duration": 12,
    "start_time": "2022-05-15T04:10:46.630Z"
   },
   {
    "duration": 6,
    "start_time": "2022-05-15T04:10:46.658Z"
   },
   {
    "duration": 13,
    "start_time": "2022-05-15T04:10:46.665Z"
   },
   {
    "duration": 10,
    "start_time": "2022-05-15T04:10:46.681Z"
   },
   {
    "duration": 13,
    "start_time": "2022-05-15T04:10:46.694Z"
   },
   {
    "duration": 9,
    "start_time": "2022-05-15T04:10:46.709Z"
   },
   {
    "duration": 12,
    "start_time": "2022-05-15T04:10:46.756Z"
   },
   {
    "duration": 12,
    "start_time": "2022-05-15T04:10:46.770Z"
   },
   {
    "duration": 9,
    "start_time": "2022-05-15T04:10:46.784Z"
   },
   {
    "duration": 61,
    "start_time": "2022-05-15T04:10:46.795Z"
   },
   {
    "duration": 21,
    "start_time": "2022-05-15T04:10:46.858Z"
   },
   {
    "duration": 5,
    "start_time": "2022-05-15T04:51:22.444Z"
   },
   {
    "duration": 21,
    "start_time": "2022-05-15T07:36:08.068Z"
   },
   {
    "duration": 1635,
    "start_time": "2022-05-15T07:36:18.878Z"
   },
   {
    "duration": 47,
    "start_time": "2022-05-15T07:36:20.516Z"
   },
   {
    "duration": 7,
    "start_time": "2022-05-15T07:36:20.565Z"
   },
   {
    "duration": 8,
    "start_time": "2022-05-15T07:36:20.576Z"
   },
   {
    "duration": 12,
    "start_time": "2022-05-15T07:36:20.587Z"
   },
   {
    "duration": 56,
    "start_time": "2022-05-15T07:36:20.602Z"
   },
   {
    "duration": 346,
    "start_time": "2022-05-15T07:36:20.661Z"
   },
   {
    "duration": 19,
    "start_time": "2022-05-15T07:36:21.009Z"
   },
   {
    "duration": 39,
    "start_time": "2022-05-15T07:36:21.030Z"
   },
   {
    "duration": 15,
    "start_time": "2022-05-15T07:36:21.076Z"
   },
   {
    "duration": 163,
    "start_time": "2022-05-15T07:36:21.094Z"
   },
   {
    "duration": 151,
    "start_time": "2022-05-15T07:36:21.260Z"
   },
   {
    "duration": 95,
    "start_time": "2022-05-15T07:36:21.413Z"
   },
   {
    "duration": 15,
    "start_time": "2022-05-15T07:36:21.510Z"
   },
   {
    "duration": 36,
    "start_time": "2022-05-15T07:36:21.527Z"
   },
   {
    "duration": 47,
    "start_time": "2022-05-15T07:36:21.565Z"
   },
   {
    "duration": 7,
    "start_time": "2022-05-15T07:36:21.614Z"
   },
   {
    "duration": 46,
    "start_time": "2022-05-15T07:36:21.623Z"
   },
   {
    "duration": 12,
    "start_time": "2022-05-15T07:36:21.671Z"
   },
   {
    "duration": 19,
    "start_time": "2022-05-15T07:36:21.685Z"
   },
   {
    "duration": 252,
    "start_time": "2022-05-15T07:36:21.706Z"
   },
   {
    "duration": 14,
    "start_time": "2022-05-15T07:36:21.960Z"
   },
   {
    "duration": 17,
    "start_time": "2022-05-15T07:36:21.977Z"
   },
   {
    "duration": 348,
    "start_time": "2022-05-15T07:36:21.996Z"
   },
   {
    "duration": 730,
    "start_time": "2022-05-15T07:36:22.346Z"
   },
   {
    "duration": 5,
    "start_time": "2022-05-15T07:36:23.079Z"
   },
   {
    "duration": 726,
    "start_time": "2022-05-15T07:36:23.086Z"
   },
   {
    "duration": 395,
    "start_time": "2022-05-15T07:36:23.818Z"
   },
   {
    "duration": 388,
    "start_time": "2022-05-15T07:36:24.215Z"
   },
   {
    "duration": 395,
    "start_time": "2022-05-15T07:36:24.605Z"
   },
   {
    "duration": 55,
    "start_time": "2022-05-15T07:36:25.002Z"
   },
   {
    "duration": 7,
    "start_time": "2022-05-15T07:36:25.059Z"
   },
   {
    "duration": 634,
    "start_time": "2022-05-15T07:36:25.068Z"
   },
   {
    "duration": 367,
    "start_time": "2022-05-15T07:36:25.705Z"
   },
   {
    "duration": 59,
    "start_time": "2022-05-15T07:36:26.074Z"
   },
   {
    "duration": 57,
    "start_time": "2022-05-15T07:36:26.135Z"
   },
   {
    "duration": 72,
    "start_time": "2022-05-15T07:36:26.195Z"
   },
   {
    "duration": 7,
    "start_time": "2022-05-15T07:36:26.270Z"
   },
   {
    "duration": 471,
    "start_time": "2022-05-15T07:36:26.280Z"
   },
   {
    "duration": 325,
    "start_time": "2022-05-15T07:36:26.757Z"
   },
   {
    "duration": 561,
    "start_time": "2022-05-15T07:36:27.084Z"
   },
   {
    "duration": 23,
    "start_time": "2022-05-15T07:36:27.647Z"
   },
   {
    "duration": 10,
    "start_time": "2022-05-15T07:36:27.673Z"
   },
   {
    "duration": 966,
    "start_time": "2022-05-15T07:36:27.686Z"
   },
   {
    "duration": 29,
    "start_time": "2022-05-15T07:36:28.657Z"
   },
   {
    "duration": 259,
    "start_time": "2022-05-15T07:36:28.689Z"
   },
   {
    "duration": 1647,
    "start_time": "2022-05-15T07:36:28.952Z"
   },
   {
    "duration": 13,
    "start_time": "2022-05-15T07:36:30.602Z"
   },
   {
    "duration": 8,
    "start_time": "2022-05-15T07:36:30.618Z"
   },
   {
    "duration": 40,
    "start_time": "2022-05-15T07:36:30.629Z"
   },
   {
    "duration": 12,
    "start_time": "2022-05-15T07:36:30.672Z"
   },
   {
    "duration": 14,
    "start_time": "2022-05-15T07:36:30.687Z"
   },
   {
    "duration": 8,
    "start_time": "2022-05-15T07:36:30.704Z"
   },
   {
    "duration": 52,
    "start_time": "2022-05-15T07:36:30.715Z"
   },
   {
    "duration": 21,
    "start_time": "2022-05-15T07:36:30.770Z"
   },
   {
    "duration": 15,
    "start_time": "2022-05-15T07:36:30.793Z"
   },
   {
    "duration": 20,
    "start_time": "2022-05-15T07:36:30.811Z"
   },
   {
    "duration": 37,
    "start_time": "2022-05-15T07:36:30.834Z"
   },
   {
    "duration": 21,
    "start_time": "2022-05-15T07:37:02.238Z"
   },
   {
    "duration": 132,
    "start_time": "2022-05-15T07:37:46.558Z"
   },
   {
    "duration": 144,
    "start_time": "2022-05-15T07:38:03.277Z"
   },
   {
    "duration": 20,
    "start_time": "2022-05-15T07:44:51.181Z"
   },
   {
    "duration": 11,
    "start_time": "2022-05-15T08:27:52.620Z"
   },
   {
    "duration": 10,
    "start_time": "2022-05-15T08:28:57.821Z"
   },
   {
    "duration": 851,
    "start_time": "2022-05-15T09:10:48.964Z"
   },
   {
    "duration": 16,
    "start_time": "2022-05-15T09:22:12.852Z"
   },
   {
    "duration": 18,
    "start_time": "2022-05-15T09:24:46.560Z"
   },
   {
    "duration": 1531,
    "start_time": "2022-05-15T09:29:03.709Z"
   },
   {
    "duration": 40,
    "start_time": "2022-05-15T09:29:05.243Z"
   },
   {
    "duration": 6,
    "start_time": "2022-05-15T09:29:05.285Z"
   },
   {
    "duration": 7,
    "start_time": "2022-05-15T09:29:05.294Z"
   },
   {
    "duration": 16,
    "start_time": "2022-05-15T09:29:05.303Z"
   },
   {
    "duration": 40,
    "start_time": "2022-05-15T09:29:05.321Z"
   },
   {
    "duration": 297,
    "start_time": "2022-05-15T09:29:05.363Z"
   },
   {
    "duration": 16,
    "start_time": "2022-05-15T09:29:05.662Z"
   },
   {
    "duration": 12,
    "start_time": "2022-05-15T09:29:05.681Z"
   },
   {
    "duration": 14,
    "start_time": "2022-05-15T09:29:05.699Z"
   },
   {
    "duration": 149,
    "start_time": "2022-05-15T09:29:05.716Z"
   },
   {
    "duration": 132,
    "start_time": "2022-05-15T09:29:05.868Z"
   },
   {
    "duration": 93,
    "start_time": "2022-05-15T09:29:06.003Z"
   },
   {
    "duration": 15,
    "start_time": "2022-05-15T09:29:06.098Z"
   },
   {
    "duration": 16,
    "start_time": "2022-05-15T09:29:06.116Z"
   },
   {
    "duration": 64,
    "start_time": "2022-05-15T09:29:06.134Z"
   },
   {
    "duration": 6,
    "start_time": "2022-05-15T09:29:06.200Z"
   },
   {
    "duration": 21,
    "start_time": "2022-05-15T09:29:06.208Z"
   },
   {
    "duration": 10,
    "start_time": "2022-05-15T09:29:06.257Z"
   },
   {
    "duration": 21,
    "start_time": "2022-05-15T09:29:06.269Z"
   },
   {
    "duration": 201,
    "start_time": "2022-05-15T09:29:06.292Z"
   },
   {
    "duration": 14,
    "start_time": "2022-05-15T09:29:06.495Z"
   },
   {
    "duration": 10,
    "start_time": "2022-05-15T09:29:06.511Z"
   },
   {
    "duration": 306,
    "start_time": "2022-05-15T09:29:06.523Z"
   },
   {
    "duration": 502,
    "start_time": "2022-05-15T09:29:06.831Z"
   },
   {
    "duration": 5,
    "start_time": "2022-05-15T09:29:07.335Z"
   },
   {
    "duration": 438,
    "start_time": "2022-05-15T09:29:07.343Z"
   },
   {
    "duration": 334,
    "start_time": "2022-05-15T09:29:07.786Z"
   },
   {
    "duration": 341,
    "start_time": "2022-05-15T09:29:08.122Z"
   },
   {
    "duration": 356,
    "start_time": "2022-05-15T09:29:08.465Z"
   },
   {
    "duration": 48,
    "start_time": "2022-05-15T09:29:08.823Z"
   },
   {
    "duration": 6,
    "start_time": "2022-05-15T09:29:08.873Z"
   },
   {
    "duration": 553,
    "start_time": "2022-05-15T09:29:08.882Z"
   },
   {
    "duration": 332,
    "start_time": "2022-05-15T09:29:09.438Z"
   },
   {
    "duration": 57,
    "start_time": "2022-05-15T09:29:09.773Z"
   },
   {
    "duration": 58,
    "start_time": "2022-05-15T09:29:09.833Z"
   },
   {
    "duration": 64,
    "start_time": "2022-05-15T09:29:09.893Z"
   },
   {
    "duration": 7,
    "start_time": "2022-05-15T09:29:09.960Z"
   },
   {
    "duration": 415,
    "start_time": "2022-05-15T09:29:09.969Z"
   },
   {
    "duration": 388,
    "start_time": "2022-05-15T09:29:10.387Z"
   },
   {
    "duration": 495,
    "start_time": "2022-05-15T09:29:10.778Z"
   },
   {
    "duration": 15,
    "start_time": "2022-05-15T09:29:11.275Z"
   },
   {
    "duration": 10,
    "start_time": "2022-05-15T09:29:11.292Z"
   },
   {
    "duration": 541,
    "start_time": "2022-05-15T09:29:11.304Z"
   },
   {
    "duration": 22,
    "start_time": "2022-05-15T09:29:11.847Z"
   },
   {
    "duration": 145,
    "start_time": "2022-05-15T09:29:11.872Z"
   },
   {
    "duration": 884,
    "start_time": "2022-05-15T09:29:12.019Z"
   },
   {
    "duration": 10,
    "start_time": "2022-05-15T09:29:12.906Z"
   },
   {
    "duration": 6,
    "start_time": "2022-05-15T09:29:12.918Z"
   },
   {
    "duration": 41,
    "start_time": "2022-05-15T09:29:12.926Z"
   },
   {
    "duration": 10,
    "start_time": "2022-05-15T09:29:12.969Z"
   },
   {
    "duration": 155,
    "start_time": "2022-05-15T09:29:12.981Z"
   },
   {
    "duration": 0,
    "start_time": "2022-05-15T09:29:13.138Z"
   },
   {
    "duration": 18,
    "start_time": "2022-05-15T09:34:54.824Z"
   },
   {
    "duration": 19,
    "start_time": "2022-05-15T09:35:23.421Z"
   },
   {
    "duration": 19,
    "start_time": "2022-05-15T09:39:50.529Z"
   },
   {
    "duration": 15,
    "start_time": "2022-05-15T09:39:57.818Z"
   },
   {
    "duration": 200,
    "start_time": "2022-05-15T09:41:38.017Z"
   },
   {
    "duration": 19,
    "start_time": "2022-05-15T09:44:37.808Z"
   },
   {
    "duration": 126,
    "start_time": "2022-05-15T09:46:25.880Z"
   },
   {
    "duration": 13,
    "start_time": "2022-05-15T09:46:34.057Z"
   },
   {
    "duration": 17,
    "start_time": "2022-05-15T09:47:36.394Z"
   },
   {
    "duration": 11,
    "start_time": "2022-05-15T09:50:11.909Z"
   },
   {
    "duration": 404,
    "start_time": "2022-05-15T09:50:28.910Z"
   },
   {
    "duration": 11,
    "start_time": "2022-05-15T09:50:57.416Z"
   },
   {
    "duration": 18,
    "start_time": "2022-05-15T09:51:10.841Z"
   },
   {
    "duration": 8,
    "start_time": "2022-05-15T09:51:20.799Z"
   },
   {
    "duration": 250,
    "start_time": "2022-05-15T09:53:00.919Z"
   },
   {
    "duration": 265,
    "start_time": "2022-05-15T09:56:04.259Z"
   },
   {
    "duration": 185,
    "start_time": "2022-05-15T10:14:16.827Z"
   },
   {
    "duration": 984,
    "start_time": "2022-05-15T10:17:03.491Z"
   },
   {
    "duration": 1586,
    "start_time": "2022-05-15T10:28:39.582Z"
   },
   {
    "duration": 40,
    "start_time": "2022-05-15T10:28:41.170Z"
   },
   {
    "duration": 6,
    "start_time": "2022-05-15T10:28:41.212Z"
   },
   {
    "duration": 12,
    "start_time": "2022-05-15T10:28:41.221Z"
   },
   {
    "duration": 14,
    "start_time": "2022-05-15T10:28:41.256Z"
   },
   {
    "duration": 7,
    "start_time": "2022-05-15T10:28:41.272Z"
   },
   {
    "duration": 392,
    "start_time": "2022-05-15T10:28:41.281Z"
   },
   {
    "duration": 22,
    "start_time": "2022-05-15T10:28:41.675Z"
   },
   {
    "duration": 29,
    "start_time": "2022-05-15T10:28:41.700Z"
   },
   {
    "duration": 37,
    "start_time": "2022-05-15T10:28:41.734Z"
   },
   {
    "duration": 159,
    "start_time": "2022-05-15T10:28:41.774Z"
   },
   {
    "duration": 173,
    "start_time": "2022-05-15T10:28:41.936Z"
   },
   {
    "duration": 128,
    "start_time": "2022-05-15T10:28:42.112Z"
   },
   {
    "duration": 24,
    "start_time": "2022-05-15T10:28:42.242Z"
   },
   {
    "duration": 19,
    "start_time": "2022-05-15T10:28:42.269Z"
   },
   {
    "duration": 69,
    "start_time": "2022-05-15T10:28:42.290Z"
   },
   {
    "duration": 7,
    "start_time": "2022-05-15T10:28:42.361Z"
   },
   {
    "duration": 19,
    "start_time": "2022-05-15T10:28:42.370Z"
   },
   {
    "duration": 10,
    "start_time": "2022-05-15T10:28:42.391Z"
   },
   {
    "duration": 53,
    "start_time": "2022-05-15T10:28:42.404Z"
   },
   {
    "duration": 202,
    "start_time": "2022-05-15T10:28:42.459Z"
   },
   {
    "duration": 14,
    "start_time": "2022-05-15T10:28:42.663Z"
   },
   {
    "duration": 11,
    "start_time": "2022-05-15T10:28:42.679Z"
   },
   {
    "duration": 413,
    "start_time": "2022-05-15T10:28:42.692Z"
   },
   {
    "duration": 512,
    "start_time": "2022-05-15T10:28:43.107Z"
   },
   {
    "duration": 6,
    "start_time": "2022-05-15T10:28:43.621Z"
   },
   {
    "duration": 450,
    "start_time": "2022-05-15T10:28:43.629Z"
   },
   {
    "duration": 337,
    "start_time": "2022-05-15T10:28:44.084Z"
   },
   {
    "duration": 352,
    "start_time": "2022-05-15T10:28:44.423Z"
   },
   {
    "duration": 370,
    "start_time": "2022-05-15T10:28:44.777Z"
   },
   {
    "duration": 36,
    "start_time": "2022-05-15T10:28:45.157Z"
   },
   {
    "duration": 6,
    "start_time": "2022-05-15T10:28:45.195Z"
   },
   {
    "duration": 582,
    "start_time": "2022-05-15T10:28:45.203Z"
   },
   {
    "duration": 338,
    "start_time": "2022-05-15T10:28:45.787Z"
   },
   {
    "duration": 70,
    "start_time": "2022-05-15T10:28:46.127Z"
   },
   {
    "duration": 37,
    "start_time": "2022-05-15T10:28:46.199Z"
   },
   {
    "duration": 54,
    "start_time": "2022-05-15T10:28:46.238Z"
   },
   {
    "duration": 5,
    "start_time": "2022-05-15T10:28:46.294Z"
   },
   {
    "duration": 483,
    "start_time": "2022-05-15T10:28:46.302Z"
   },
   {
    "duration": 300,
    "start_time": "2022-05-15T10:28:46.788Z"
   },
   {
    "duration": 509,
    "start_time": "2022-05-15T10:28:47.090Z"
   },
   {
    "duration": 15,
    "start_time": "2022-05-15T10:28:47.601Z"
   },
   {
    "duration": 9,
    "start_time": "2022-05-15T10:28:47.618Z"
   },
   {
    "duration": 613,
    "start_time": "2022-05-15T10:28:47.629Z"
   },
   {
    "duration": 25,
    "start_time": "2022-05-15T10:28:48.244Z"
   },
   {
    "duration": 156,
    "start_time": "2022-05-15T10:28:48.271Z"
   },
   {
    "duration": 13,
    "start_time": "2022-05-15T10:28:48.429Z"
   },
   {
    "duration": 282,
    "start_time": "2022-05-15T10:28:48.456Z"
   },
   {
    "duration": 1047,
    "start_time": "2022-05-15T10:28:48.740Z"
   },
   {
    "duration": 9,
    "start_time": "2022-05-15T10:28:49.789Z"
   },
   {
    "duration": 5,
    "start_time": "2022-05-15T10:28:49.801Z"
   },
   {
    "duration": 14,
    "start_time": "2022-05-15T10:28:49.808Z"
   },
   {
    "duration": 4,
    "start_time": "2022-05-15T10:28:49.856Z"
   },
   {
    "duration": 21,
    "start_time": "2022-05-15T10:28:49.862Z"
   },
   {
    "duration": 19,
    "start_time": "2022-05-15T10:28:49.886Z"
   },
   {
    "duration": 52,
    "start_time": "2022-05-15T14:35:26.554Z"
   },
   {
    "duration": 1421,
    "start_time": "2022-05-15T14:35:33.967Z"
   },
   {
    "duration": 42,
    "start_time": "2022-05-15T14:35:35.390Z"
   },
   {
    "duration": 4,
    "start_time": "2022-05-15T14:35:35.433Z"
   },
   {
    "duration": 8,
    "start_time": "2022-05-15T14:35:35.440Z"
   },
   {
    "duration": 15,
    "start_time": "2022-05-15T14:35:35.449Z"
   },
   {
    "duration": 16,
    "start_time": "2022-05-15T14:35:35.465Z"
   },
   {
    "duration": 233,
    "start_time": "2022-05-15T14:35:35.482Z"
   },
   {
    "duration": 10,
    "start_time": "2022-05-15T14:35:35.717Z"
   },
   {
    "duration": 11,
    "start_time": "2022-05-15T14:35:35.729Z"
   },
   {
    "duration": 15,
    "start_time": "2022-05-15T14:35:35.743Z"
   },
   {
    "duration": 107,
    "start_time": "2022-05-15T14:35:35.760Z"
   },
   {
    "duration": 108,
    "start_time": "2022-05-15T14:35:35.868Z"
   },
   {
    "duration": 66,
    "start_time": "2022-05-15T14:35:35.978Z"
   },
   {
    "duration": 11,
    "start_time": "2022-05-15T14:35:36.045Z"
   },
   {
    "duration": 22,
    "start_time": "2022-05-15T14:35:36.058Z"
   },
   {
    "duration": 34,
    "start_time": "2022-05-15T14:35:36.088Z"
   },
   {
    "duration": 5,
    "start_time": "2022-05-15T14:35:36.124Z"
   },
   {
    "duration": 14,
    "start_time": "2022-05-15T14:35:36.131Z"
   },
   {
    "duration": 8,
    "start_time": "2022-05-15T14:35:36.147Z"
   },
   {
    "duration": 44,
    "start_time": "2022-05-15T14:35:36.157Z"
   },
   {
    "duration": 145,
    "start_time": "2022-05-15T14:35:36.203Z"
   },
   {
    "duration": 12,
    "start_time": "2022-05-15T14:35:36.350Z"
   },
   {
    "duration": 15,
    "start_time": "2022-05-15T14:35:36.363Z"
   },
   {
    "duration": 189,
    "start_time": "2022-05-15T14:35:36.389Z"
   },
   {
    "duration": 337,
    "start_time": "2022-05-15T14:35:36.580Z"
   },
   {
    "duration": 3,
    "start_time": "2022-05-15T14:35:36.919Z"
   },
   {
    "duration": 297,
    "start_time": "2022-05-15T14:35:36.924Z"
   },
   {
    "duration": 225,
    "start_time": "2022-05-15T14:35:37.225Z"
   },
   {
    "duration": 232,
    "start_time": "2022-05-15T14:35:37.452Z"
   },
   {
    "duration": 242,
    "start_time": "2022-05-15T14:35:37.687Z"
   },
   {
    "duration": 26,
    "start_time": "2022-05-15T14:35:37.931Z"
   },
   {
    "duration": 4,
    "start_time": "2022-05-15T14:35:37.958Z"
   },
   {
    "duration": 381,
    "start_time": "2022-05-15T14:35:37.964Z"
   },
   {
    "duration": 217,
    "start_time": "2022-05-15T14:35:38.347Z"
   },
   {
    "duration": 44,
    "start_time": "2022-05-15T14:35:38.566Z"
   },
   {
    "duration": 27,
    "start_time": "2022-05-15T14:35:38.612Z"
   },
   {
    "duration": 50,
    "start_time": "2022-05-15T14:35:38.641Z"
   },
   {
    "duration": 6,
    "start_time": "2022-05-15T14:35:38.693Z"
   },
   {
    "duration": 293,
    "start_time": "2022-05-15T14:35:38.703Z"
   },
   {
    "duration": 196,
    "start_time": "2022-05-15T14:35:38.998Z"
   },
   {
    "duration": 523,
    "start_time": "2022-05-15T14:35:39.196Z"
   },
   {
    "duration": 11,
    "start_time": "2022-05-15T14:35:39.721Z"
   },
   {
    "duration": 57,
    "start_time": "2022-05-15T14:35:39.733Z"
   },
   {
    "duration": 829,
    "start_time": "2022-05-15T14:35:39.792Z"
   },
   {
    "duration": 68,
    "start_time": "2022-05-15T14:35:40.623Z"
   },
   {
    "duration": 239,
    "start_time": "2022-05-15T14:35:40.693Z"
   },
   {
    "duration": 13,
    "start_time": "2022-05-15T14:35:40.988Z"
   },
   {
    "duration": 400,
    "start_time": "2022-05-15T14:35:41.003Z"
   },
   {
    "duration": 1425,
    "start_time": "2022-05-15T14:35:41.404Z"
   },
   {
    "duration": 8,
    "start_time": "2022-05-15T14:35:42.830Z"
   },
   {
    "duration": 10,
    "start_time": "2022-05-15T14:35:42.839Z"
   },
   {
    "duration": 5,
    "start_time": "2022-05-15T14:35:42.852Z"
   },
   {
    "duration": 32,
    "start_time": "2022-05-15T14:35:42.858Z"
   },
   {
    "duration": 9,
    "start_time": "2022-05-15T14:35:42.894Z"
   },
   {
    "duration": 20,
    "start_time": "2022-05-15T14:35:42.905Z"
   },
   {
    "duration": 19,
    "start_time": "2022-05-15T14:35:42.927Z"
   },
   {
    "duration": 7,
    "start_time": "2022-05-15T14:39:30.193Z"
   },
   {
    "duration": 8,
    "start_time": "2022-05-15T14:39:42.443Z"
   },
   {
    "duration": 8,
    "start_time": "2022-05-15T14:40:23.335Z"
   },
   {
    "duration": 8,
    "start_time": "2022-05-15T14:40:42.430Z"
   },
   {
    "duration": 8,
    "start_time": "2022-05-15T14:42:27.467Z"
   },
   {
    "duration": 7,
    "start_time": "2022-05-15T14:42:39.497Z"
   },
   {
    "duration": 105,
    "start_time": "2022-05-15T14:45:36.224Z"
   },
   {
    "duration": 5,
    "start_time": "2022-05-15T14:45:44.000Z"
   },
   {
    "duration": 9,
    "start_time": "2022-05-15T14:46:26.310Z"
   },
   {
    "duration": 11,
    "start_time": "2022-05-15T14:46:46.596Z"
   },
   {
    "duration": 14,
    "start_time": "2022-05-15T14:48:32.754Z"
   },
   {
    "duration": 15,
    "start_time": "2022-05-15T14:48:43.738Z"
   },
   {
    "duration": 15,
    "start_time": "2022-05-15T14:48:55.019Z"
   },
   {
    "duration": 14,
    "start_time": "2022-05-15T14:49:20.076Z"
   },
   {
    "duration": 1176,
    "start_time": "2022-05-15T15:02:27.724Z"
   },
   {
    "duration": 30,
    "start_time": "2022-05-15T15:02:28.903Z"
   },
   {
    "duration": 4,
    "start_time": "2022-05-15T15:02:28.934Z"
   },
   {
    "duration": 7,
    "start_time": "2022-05-15T15:02:28.940Z"
   },
   {
    "duration": 12,
    "start_time": "2022-05-15T15:02:28.948Z"
   },
   {
    "duration": 7,
    "start_time": "2022-05-15T15:02:28.961Z"
   },
   {
    "duration": 241,
    "start_time": "2022-05-15T15:02:28.970Z"
   },
   {
    "duration": 10,
    "start_time": "2022-05-15T15:02:29.212Z"
   },
   {
    "duration": 9,
    "start_time": "2022-05-15T15:02:29.223Z"
   },
   {
    "duration": 13,
    "start_time": "2022-05-15T15:02:29.234Z"
   },
   {
    "duration": 107,
    "start_time": "2022-05-15T15:02:29.248Z"
   },
   {
    "duration": 102,
    "start_time": "2022-05-15T15:02:29.357Z"
   },
   {
    "duration": 62,
    "start_time": "2022-05-15T15:02:29.461Z"
   },
   {
    "duration": 11,
    "start_time": "2022-05-15T15:02:29.524Z"
   },
   {
    "duration": 14,
    "start_time": "2022-05-15T15:02:29.536Z"
   },
   {
    "duration": 47,
    "start_time": "2022-05-15T15:02:29.551Z"
   },
   {
    "duration": 4,
    "start_time": "2022-05-15T15:02:29.599Z"
   },
   {
    "duration": 16,
    "start_time": "2022-05-15T15:02:29.605Z"
   },
   {
    "duration": 8,
    "start_time": "2022-05-15T15:02:29.622Z"
   },
   {
    "duration": 14,
    "start_time": "2022-05-15T15:02:29.631Z"
   },
   {
    "duration": 170,
    "start_time": "2022-05-15T15:02:29.646Z"
   },
   {
    "duration": 10,
    "start_time": "2022-05-15T15:02:29.818Z"
   },
   {
    "duration": 9,
    "start_time": "2022-05-15T15:02:29.830Z"
   },
   {
    "duration": 218,
    "start_time": "2022-05-15T15:02:29.840Z"
   },
   {
    "duration": 325,
    "start_time": "2022-05-15T15:02:30.060Z"
   },
   {
    "duration": 3,
    "start_time": "2022-05-15T15:02:30.388Z"
   },
   {
    "duration": 281,
    "start_time": "2022-05-15T15:02:30.393Z"
   },
   {
    "duration": 224,
    "start_time": "2022-05-15T15:02:30.677Z"
   },
   {
    "duration": 235,
    "start_time": "2022-05-15T15:02:30.903Z"
   },
   {
    "duration": 261,
    "start_time": "2022-05-15T15:02:31.140Z"
   },
   {
    "duration": 27,
    "start_time": "2022-05-15T15:02:31.403Z"
   },
   {
    "duration": 3,
    "start_time": "2022-05-15T15:02:31.432Z"
   },
   {
    "duration": 380,
    "start_time": "2022-05-15T15:02:31.437Z"
   },
   {
    "duration": 221,
    "start_time": "2022-05-15T15:02:31.819Z"
   },
   {
    "duration": 49,
    "start_time": "2022-05-15T15:02:32.042Z"
   },
   {
    "duration": 28,
    "start_time": "2022-05-15T15:02:32.093Z"
   },
   {
    "duration": 27,
    "start_time": "2022-05-15T15:02:32.122Z"
   },
   {
    "duration": 4,
    "start_time": "2022-05-15T15:02:32.151Z"
   },
   {
    "duration": 295,
    "start_time": "2022-05-15T15:02:32.156Z"
   },
   {
    "duration": 195,
    "start_time": "2022-05-15T15:02:32.452Z"
   },
   {
    "duration": 328,
    "start_time": "2022-05-15T15:02:32.648Z"
   },
   {
    "duration": 16,
    "start_time": "2022-05-15T15:02:32.978Z"
   },
   {
    "duration": 7,
    "start_time": "2022-05-15T15:02:32.995Z"
   },
   {
    "duration": 350,
    "start_time": "2022-05-15T15:02:33.004Z"
   },
   {
    "duration": 13,
    "start_time": "2022-05-15T15:02:33.356Z"
   },
   {
    "duration": 122,
    "start_time": "2022-05-15T15:02:33.371Z"
   },
   {
    "duration": 9,
    "start_time": "2022-05-15T15:02:33.495Z"
   },
   {
    "duration": 190,
    "start_time": "2022-05-15T15:02:33.506Z"
   },
   {
    "duration": 717,
    "start_time": "2022-05-15T15:02:33.698Z"
   },
   {
    "duration": 8,
    "start_time": "2022-05-15T15:02:34.416Z"
   },
   {
    "duration": 4,
    "start_time": "2022-05-15T15:02:34.425Z"
   },
   {
    "duration": 11,
    "start_time": "2022-05-15T15:02:34.430Z"
   },
   {
    "duration": 7,
    "start_time": "2022-05-15T15:02:34.442Z"
   },
   {
    "duration": 15,
    "start_time": "2022-05-15T15:02:34.450Z"
   },
   {
    "duration": 13,
    "start_time": "2022-05-15T15:02:34.489Z"
   },
   {
    "duration": 9,
    "start_time": "2022-05-15T15:30:54.503Z"
   },
   {
    "duration": 97,
    "start_time": "2022-05-15T15:31:33.993Z"
   },
   {
    "duration": 8,
    "start_time": "2022-05-15T15:31:40.275Z"
   },
   {
    "duration": 9,
    "start_time": "2022-05-15T15:32:49.142Z"
   },
   {
    "duration": 9,
    "start_time": "2022-05-15T15:32:51.350Z"
   },
   {
    "duration": 8,
    "start_time": "2022-05-15T15:47:41.795Z"
   },
   {
    "duration": 8,
    "start_time": "2022-05-15T15:48:09.387Z"
   },
   {
    "duration": 11,
    "start_time": "2022-05-15T15:48:23.330Z"
   },
   {
    "duration": 219,
    "start_time": "2022-05-15T15:53:13.692Z"
   },
   {
    "duration": 313,
    "start_time": "2022-05-15T15:53:29.836Z"
   },
   {
    "duration": 115,
    "start_time": "2022-05-15T15:55:15.417Z"
   },
   {
    "duration": 9,
    "start_time": "2022-05-15T15:55:35.033Z"
   },
   {
    "duration": 339,
    "start_time": "2022-05-15T15:56:25.337Z"
   },
   {
    "duration": 121,
    "start_time": "2022-05-15T15:56:48.368Z"
   },
   {
    "duration": 128,
    "start_time": "2022-05-15T15:57:29.930Z"
   },
   {
    "duration": 131,
    "start_time": "2022-05-15T16:00:03.673Z"
   },
   {
    "duration": 408,
    "start_time": "2022-05-15T16:00:15.160Z"
   },
   {
    "duration": 132,
    "start_time": "2022-05-15T16:01:26.585Z"
   },
   {
    "duration": 196,
    "start_time": "2022-05-15T16:02:04.687Z"
   },
   {
    "duration": 10,
    "start_time": "2022-05-15T16:02:07.903Z"
   },
   {
    "duration": 325,
    "start_time": "2022-05-15T16:02:26.001Z"
   },
   {
    "duration": 182,
    "start_time": "2022-05-15T16:02:43.118Z"
   },
   {
    "duration": 186,
    "start_time": "2022-05-15T16:02:53.671Z"
   },
   {
    "duration": 183,
    "start_time": "2022-05-15T16:03:34.014Z"
   },
   {
    "duration": 175,
    "start_time": "2022-05-15T16:03:47.111Z"
   },
   {
    "duration": 294,
    "start_time": "2022-05-15T16:04:01.239Z"
   },
   {
    "duration": 189,
    "start_time": "2022-05-15T16:04:45.095Z"
   },
   {
    "duration": 290,
    "start_time": "2022-05-15T16:04:55.792Z"
   },
   {
    "duration": 13,
    "start_time": "2022-05-15T16:07:49.358Z"
   },
   {
    "duration": 1178,
    "start_time": "2022-05-15T16:28:56.587Z"
   },
   {
    "duration": 31,
    "start_time": "2022-05-15T16:28:57.767Z"
   },
   {
    "duration": 4,
    "start_time": "2022-05-15T16:28:57.799Z"
   },
   {
    "duration": 8,
    "start_time": "2022-05-15T16:28:57.805Z"
   },
   {
    "duration": 10,
    "start_time": "2022-05-15T16:28:57.814Z"
   },
   {
    "duration": 7,
    "start_time": "2022-05-15T16:28:57.826Z"
   },
   {
    "duration": 245,
    "start_time": "2022-05-15T16:28:57.834Z"
   },
   {
    "duration": 15,
    "start_time": "2022-05-15T16:28:58.090Z"
   },
   {
    "duration": 10,
    "start_time": "2022-05-15T16:28:58.107Z"
   },
   {
    "duration": 14,
    "start_time": "2022-05-15T16:28:58.120Z"
   },
   {
    "duration": 99,
    "start_time": "2022-05-15T16:28:58.135Z"
   },
   {
    "duration": 102,
    "start_time": "2022-05-15T16:28:58.235Z"
   },
   {
    "duration": 66,
    "start_time": "2022-05-15T16:28:58.339Z"
   },
   {
    "duration": 11,
    "start_time": "2022-05-15T16:28:58.407Z"
   },
   {
    "duration": 12,
    "start_time": "2022-05-15T16:28:58.420Z"
   },
   {
    "duration": 34,
    "start_time": "2022-05-15T16:28:58.434Z"
   },
   {
    "duration": 4,
    "start_time": "2022-05-15T16:28:58.489Z"
   },
   {
    "duration": 13,
    "start_time": "2022-05-15T16:28:58.495Z"
   },
   {
    "duration": 7,
    "start_time": "2022-05-15T16:28:58.510Z"
   },
   {
    "duration": 13,
    "start_time": "2022-05-15T16:28:58.519Z"
   },
   {
    "duration": 158,
    "start_time": "2022-05-15T16:28:58.533Z"
   },
   {
    "duration": 10,
    "start_time": "2022-05-15T16:28:58.692Z"
   },
   {
    "duration": 7,
    "start_time": "2022-05-15T16:28:58.704Z"
   },
   {
    "duration": 206,
    "start_time": "2022-05-15T16:28:58.713Z"
   },
   {
    "duration": 324,
    "start_time": "2022-05-15T16:28:58.920Z"
   },
   {
    "duration": 4,
    "start_time": "2022-05-15T16:28:59.245Z"
   },
   {
    "duration": 274,
    "start_time": "2022-05-15T16:28:59.251Z"
   },
   {
    "duration": 219,
    "start_time": "2022-05-15T16:28:59.528Z"
   },
   {
    "duration": 225,
    "start_time": "2022-05-15T16:28:59.749Z"
   },
   {
    "duration": 255,
    "start_time": "2022-05-15T16:28:59.975Z"
   },
   {
    "duration": 26,
    "start_time": "2022-05-15T16:29:00.232Z"
   },
   {
    "duration": 4,
    "start_time": "2022-05-15T16:29:00.260Z"
   },
   {
    "duration": 389,
    "start_time": "2022-05-15T16:29:00.265Z"
   },
   {
    "duration": 213,
    "start_time": "2022-05-15T16:29:00.656Z"
   },
   {
    "duration": 50,
    "start_time": "2022-05-15T16:29:00.870Z"
   },
   {
    "duration": 26,
    "start_time": "2022-05-15T16:29:00.922Z"
   },
   {
    "duration": 46,
    "start_time": "2022-05-15T16:29:00.950Z"
   },
   {
    "duration": 4,
    "start_time": "2022-05-15T16:29:00.998Z"
   },
   {
    "duration": 314,
    "start_time": "2022-05-15T16:29:01.004Z"
   },
   {
    "duration": 190,
    "start_time": "2022-05-15T16:29:01.320Z"
   },
   {
    "duration": 329,
    "start_time": "2022-05-15T16:29:01.512Z"
   },
   {
    "duration": 10,
    "start_time": "2022-05-15T16:29:01.843Z"
   },
   {
    "duration": 17,
    "start_time": "2022-05-15T16:29:01.855Z"
   },
   {
    "duration": 349,
    "start_time": "2022-05-15T16:29:01.874Z"
   },
   {
    "duration": 14,
    "start_time": "2022-05-15T16:29:02.225Z"
   },
   {
    "duration": 121,
    "start_time": "2022-05-15T16:29:02.240Z"
   },
   {
    "duration": 180,
    "start_time": "2022-05-15T16:29:02.363Z"
   },
   {
    "duration": 746,
    "start_time": "2022-05-15T16:29:02.544Z"
   },
   {
    "duration": 7,
    "start_time": "2022-05-15T16:29:03.291Z"
   },
   {
    "duration": 12,
    "start_time": "2022-05-15T16:29:03.300Z"
   },
   {
    "duration": 14,
    "start_time": "2022-05-15T16:29:03.314Z"
   },
   {
    "duration": 18,
    "start_time": "2022-05-15T16:29:03.330Z"
   },
   {
    "duration": 18,
    "start_time": "2022-05-15T16:29:03.350Z"
   },
   {
    "duration": 22,
    "start_time": "2022-05-15T16:29:03.369Z"
   },
   {
    "duration": 4,
    "start_time": "2022-05-15T17:06:21.335Z"
   },
   {
    "duration": 4,
    "start_time": "2022-05-15T17:06:32.679Z"
   },
   {
    "duration": 8,
    "start_time": "2022-05-15T17:20:50.818Z"
   },
   {
    "duration": 8,
    "start_time": "2022-05-15T17:21:02.089Z"
   },
   {
    "duration": 898,
    "start_time": "2022-05-15T17:36:03.800Z"
   },
   {
    "duration": 1871,
    "start_time": "2022-05-15T17:36:14.705Z"
   },
   {
    "duration": 1840,
    "start_time": "2022-05-15T17:38:06.873Z"
   },
   {
    "duration": 1896,
    "start_time": "2022-05-15T17:38:21.040Z"
   },
   {
    "duration": 131,
    "start_time": "2022-05-15T17:39:50.344Z"
   },
   {
    "duration": 114,
    "start_time": "2022-05-15T17:40:00.048Z"
   },
   {
    "duration": 1864,
    "start_time": "2022-05-15T17:40:07.479Z"
   },
   {
    "duration": 5363,
    "start_time": "2022-05-15T17:41:33.814Z"
   },
   {
    "duration": 1907,
    "start_time": "2022-05-15T17:41:57.175Z"
   },
   {
    "duration": 1807,
    "start_time": "2022-05-15T17:42:53.911Z"
   },
   {
    "duration": 13,
    "start_time": "2022-05-15T17:47:27.551Z"
   },
   {
    "duration": 16,
    "start_time": "2022-05-15T17:55:40.805Z"
   },
   {
    "duration": 25,
    "start_time": "2022-05-15T17:55:55.860Z"
   },
   {
    "duration": 19,
    "start_time": "2022-05-15T17:57:13.116Z"
   },
   {
    "duration": 1893,
    "start_time": "2022-05-15T17:58:04.749Z"
   },
   {
    "duration": 17,
    "start_time": "2022-05-15T17:58:10.124Z"
   },
   {
    "duration": 135,
    "start_time": "2022-05-15T18:05:47.843Z"
   },
   {
    "duration": 235,
    "start_time": "2022-05-15T18:09:14.011Z"
   },
   {
    "duration": 1219,
    "start_time": "2022-05-15T18:11:13.327Z"
   },
   {
    "duration": 30,
    "start_time": "2022-05-15T18:11:14.548Z"
   },
   {
    "duration": 9,
    "start_time": "2022-05-15T18:11:14.579Z"
   },
   {
    "duration": 4,
    "start_time": "2022-05-15T18:11:14.591Z"
   },
   {
    "duration": 10,
    "start_time": "2022-05-15T18:11:14.596Z"
   },
   {
    "duration": 22,
    "start_time": "2022-05-15T18:11:14.608Z"
   },
   {
    "duration": 259,
    "start_time": "2022-05-15T18:11:14.631Z"
   },
   {
    "duration": 11,
    "start_time": "2022-05-15T18:11:14.891Z"
   },
   {
    "duration": 10,
    "start_time": "2022-05-15T18:11:14.903Z"
   },
   {
    "duration": 11,
    "start_time": "2022-05-15T18:11:14.915Z"
   },
   {
    "duration": 115,
    "start_time": "2022-05-15T18:11:14.928Z"
   },
   {
    "duration": 112,
    "start_time": "2022-05-15T18:11:15.045Z"
   },
   {
    "duration": 63,
    "start_time": "2022-05-15T18:11:15.159Z"
   },
   {
    "duration": 12,
    "start_time": "2022-05-15T18:11:15.224Z"
   },
   {
    "duration": 16,
    "start_time": "2022-05-15T18:11:15.237Z"
   },
   {
    "duration": 47,
    "start_time": "2022-05-15T18:11:15.255Z"
   },
   {
    "duration": 4,
    "start_time": "2022-05-15T18:11:15.304Z"
   },
   {
    "duration": 14,
    "start_time": "2022-05-15T18:11:15.310Z"
   },
   {
    "duration": 8,
    "start_time": "2022-05-15T18:11:15.325Z"
   },
   {
    "duration": 17,
    "start_time": "2022-05-15T18:11:15.335Z"
   },
   {
    "duration": 1849,
    "start_time": "2022-05-15T18:11:15.353Z"
   },
   {
    "duration": 130,
    "start_time": "2022-05-15T18:11:17.204Z"
   },
   {
    "duration": 0,
    "start_time": "2022-05-15T18:11:17.337Z"
   },
   {
    "duration": 0,
    "start_time": "2022-05-15T18:11:17.338Z"
   },
   {
    "duration": 0,
    "start_time": "2022-05-15T18:11:17.339Z"
   },
   {
    "duration": 0,
    "start_time": "2022-05-15T18:11:17.339Z"
   },
   {
    "duration": 0,
    "start_time": "2022-05-15T18:11:17.340Z"
   },
   {
    "duration": 0,
    "start_time": "2022-05-15T18:11:17.341Z"
   },
   {
    "duration": 0,
    "start_time": "2022-05-15T18:11:17.343Z"
   },
   {
    "duration": 0,
    "start_time": "2022-05-15T18:11:17.344Z"
   },
   {
    "duration": 0,
    "start_time": "2022-05-15T18:11:17.344Z"
   },
   {
    "duration": 0,
    "start_time": "2022-05-15T18:11:17.345Z"
   },
   {
    "duration": 0,
    "start_time": "2022-05-15T18:11:17.346Z"
   },
   {
    "duration": 0,
    "start_time": "2022-05-15T18:11:17.347Z"
   },
   {
    "duration": 0,
    "start_time": "2022-05-15T18:11:17.348Z"
   },
   {
    "duration": 0,
    "start_time": "2022-05-15T18:11:17.349Z"
   },
   {
    "duration": 0,
    "start_time": "2022-05-15T18:11:17.350Z"
   },
   {
    "duration": 0,
    "start_time": "2022-05-15T18:11:17.351Z"
   },
   {
    "duration": 0,
    "start_time": "2022-05-15T18:11:17.352Z"
   },
   {
    "duration": 0,
    "start_time": "2022-05-15T18:11:17.353Z"
   },
   {
    "duration": 0,
    "start_time": "2022-05-15T18:11:17.354Z"
   },
   {
    "duration": 0,
    "start_time": "2022-05-15T18:11:17.388Z"
   },
   {
    "duration": 0,
    "start_time": "2022-05-15T18:11:17.389Z"
   },
   {
    "duration": 0,
    "start_time": "2022-05-15T18:11:17.390Z"
   },
   {
    "duration": 0,
    "start_time": "2022-05-15T18:11:17.392Z"
   },
   {
    "duration": 0,
    "start_time": "2022-05-15T18:11:17.393Z"
   },
   {
    "duration": 0,
    "start_time": "2022-05-15T18:11:17.394Z"
   },
   {
    "duration": 0,
    "start_time": "2022-05-15T18:11:17.395Z"
   },
   {
    "duration": 0,
    "start_time": "2022-05-15T18:11:17.396Z"
   },
   {
    "duration": 0,
    "start_time": "2022-05-15T18:11:17.397Z"
   },
   {
    "duration": 0,
    "start_time": "2022-05-15T18:11:17.398Z"
   },
   {
    "duration": 0,
    "start_time": "2022-05-15T18:11:17.399Z"
   },
   {
    "duration": 0,
    "start_time": "2022-05-15T18:11:17.400Z"
   },
   {
    "duration": 0,
    "start_time": "2022-05-15T18:11:17.401Z"
   },
   {
    "duration": 0,
    "start_time": "2022-05-15T18:11:17.402Z"
   },
   {
    "duration": 0,
    "start_time": "2022-05-15T18:11:17.403Z"
   },
   {
    "duration": 0,
    "start_time": "2022-05-15T18:11:17.404Z"
   },
   {
    "duration": 0,
    "start_time": "2022-05-15T18:11:17.405Z"
   },
   {
    "duration": 0,
    "start_time": "2022-05-15T18:11:17.406Z"
   },
   {
    "duration": 1265,
    "start_time": "2022-05-15T18:13:05.500Z"
   },
   {
    "duration": 32,
    "start_time": "2022-05-15T18:13:06.767Z"
   },
   {
    "duration": 4,
    "start_time": "2022-05-15T18:13:06.800Z"
   },
   {
    "duration": 9,
    "start_time": "2022-05-15T18:13:06.806Z"
   },
   {
    "duration": 9,
    "start_time": "2022-05-15T18:13:06.816Z"
   },
   {
    "duration": 9,
    "start_time": "2022-05-15T18:13:06.827Z"
   },
   {
    "duration": 263,
    "start_time": "2022-05-15T18:13:06.837Z"
   },
   {
    "duration": 10,
    "start_time": "2022-05-15T18:13:07.101Z"
   },
   {
    "duration": 30,
    "start_time": "2022-05-15T18:13:07.112Z"
   },
   {
    "duration": 15,
    "start_time": "2022-05-15T18:13:07.145Z"
   },
   {
    "duration": 83,
    "start_time": "2022-05-15T18:13:07.161Z"
   },
   {
    "duration": 106,
    "start_time": "2022-05-15T18:13:07.246Z"
   },
   {
    "duration": 63,
    "start_time": "2022-05-15T18:13:07.353Z"
   },
   {
    "duration": 11,
    "start_time": "2022-05-15T18:13:07.417Z"
   },
   {
    "duration": 14,
    "start_time": "2022-05-15T18:13:07.430Z"
   },
   {
    "duration": 46,
    "start_time": "2022-05-15T18:13:07.445Z"
   },
   {
    "duration": 4,
    "start_time": "2022-05-15T18:13:07.493Z"
   },
   {
    "duration": 15,
    "start_time": "2022-05-15T18:13:07.499Z"
   },
   {
    "duration": 8,
    "start_time": "2022-05-15T18:13:07.516Z"
   },
   {
    "duration": 15,
    "start_time": "2022-05-15T18:13:07.526Z"
   },
   {
    "duration": 1893,
    "start_time": "2022-05-15T18:13:07.542Z"
   },
   {
    "duration": 117,
    "start_time": "2022-05-15T18:13:09.437Z"
   },
   {
    "duration": 0,
    "start_time": "2022-05-15T18:13:09.557Z"
   },
   {
    "duration": 0,
    "start_time": "2022-05-15T18:13:09.558Z"
   },
   {
    "duration": 0,
    "start_time": "2022-05-15T18:13:09.559Z"
   },
   {
    "duration": 0,
    "start_time": "2022-05-15T18:13:09.560Z"
   },
   {
    "duration": 0,
    "start_time": "2022-05-15T18:13:09.561Z"
   },
   {
    "duration": 0,
    "start_time": "2022-05-15T18:13:09.562Z"
   },
   {
    "duration": 0,
    "start_time": "2022-05-15T18:13:09.563Z"
   },
   {
    "duration": 0,
    "start_time": "2022-05-15T18:13:09.564Z"
   },
   {
    "duration": 0,
    "start_time": "2022-05-15T18:13:09.565Z"
   },
   {
    "duration": 0,
    "start_time": "2022-05-15T18:13:09.566Z"
   },
   {
    "duration": 0,
    "start_time": "2022-05-15T18:13:09.567Z"
   },
   {
    "duration": 0,
    "start_time": "2022-05-15T18:13:09.568Z"
   },
   {
    "duration": 0,
    "start_time": "2022-05-15T18:13:09.589Z"
   },
   {
    "duration": 0,
    "start_time": "2022-05-15T18:13:09.590Z"
   },
   {
    "duration": 0,
    "start_time": "2022-05-15T18:13:09.591Z"
   },
   {
    "duration": 0,
    "start_time": "2022-05-15T18:13:09.592Z"
   },
   {
    "duration": 0,
    "start_time": "2022-05-15T18:13:09.593Z"
   },
   {
    "duration": 0,
    "start_time": "2022-05-15T18:13:09.594Z"
   },
   {
    "duration": 0,
    "start_time": "2022-05-15T18:13:09.595Z"
   },
   {
    "duration": 0,
    "start_time": "2022-05-15T18:13:09.596Z"
   },
   {
    "duration": 0,
    "start_time": "2022-05-15T18:13:09.597Z"
   },
   {
    "duration": 0,
    "start_time": "2022-05-15T18:13:09.598Z"
   },
   {
    "duration": 0,
    "start_time": "2022-05-15T18:13:09.599Z"
   },
   {
    "duration": 0,
    "start_time": "2022-05-15T18:13:09.600Z"
   },
   {
    "duration": 0,
    "start_time": "2022-05-15T18:13:09.601Z"
   },
   {
    "duration": 0,
    "start_time": "2022-05-15T18:13:09.602Z"
   },
   {
    "duration": 0,
    "start_time": "2022-05-15T18:13:09.603Z"
   },
   {
    "duration": 0,
    "start_time": "2022-05-15T18:13:09.604Z"
   },
   {
    "duration": 0,
    "start_time": "2022-05-15T18:13:09.605Z"
   },
   {
    "duration": 0,
    "start_time": "2022-05-15T18:13:09.606Z"
   },
   {
    "duration": 0,
    "start_time": "2022-05-15T18:13:09.607Z"
   },
   {
    "duration": 0,
    "start_time": "2022-05-15T18:13:09.607Z"
   },
   {
    "duration": 0,
    "start_time": "2022-05-15T18:13:09.608Z"
   },
   {
    "duration": 0,
    "start_time": "2022-05-15T18:13:09.609Z"
   },
   {
    "duration": 0,
    "start_time": "2022-05-15T18:13:09.610Z"
   },
   {
    "duration": 0,
    "start_time": "2022-05-15T18:13:09.611Z"
   },
   {
    "duration": 0,
    "start_time": "2022-05-15T18:13:09.612Z"
   },
   {
    "duration": 1247,
    "start_time": "2022-05-15T18:13:26.403Z"
   },
   {
    "duration": 31,
    "start_time": "2022-05-15T18:13:27.652Z"
   },
   {
    "duration": 4,
    "start_time": "2022-05-15T18:13:27.688Z"
   },
   {
    "duration": 6,
    "start_time": "2022-05-15T18:13:27.695Z"
   },
   {
    "duration": 11,
    "start_time": "2022-05-15T18:13:27.703Z"
   },
   {
    "duration": 6,
    "start_time": "2022-05-15T18:13:27.715Z"
   },
   {
    "duration": 268,
    "start_time": "2022-05-15T18:13:27.723Z"
   },
   {
    "duration": 11,
    "start_time": "2022-05-15T18:13:27.992Z"
   },
   {
    "duration": 11,
    "start_time": "2022-05-15T18:13:28.005Z"
   },
   {
    "duration": 13,
    "start_time": "2022-05-15T18:13:28.019Z"
   },
   {
    "duration": 110,
    "start_time": "2022-05-15T18:13:28.034Z"
   },
   {
    "duration": 108,
    "start_time": "2022-05-15T18:13:28.146Z"
   },
   {
    "duration": 68,
    "start_time": "2022-05-15T18:13:28.255Z"
   },
   {
    "duration": 12,
    "start_time": "2022-05-15T18:13:28.325Z"
   },
   {
    "duration": 15,
    "start_time": "2022-05-15T18:13:28.339Z"
   },
   {
    "duration": 49,
    "start_time": "2022-05-15T18:13:28.356Z"
   },
   {
    "duration": 6,
    "start_time": "2022-05-15T18:13:28.407Z"
   },
   {
    "duration": 15,
    "start_time": "2022-05-15T18:13:28.414Z"
   },
   {
    "duration": 8,
    "start_time": "2022-05-15T18:13:28.431Z"
   },
   {
    "duration": 50,
    "start_time": "2022-05-15T18:13:28.440Z"
   },
   {
    "duration": 1935,
    "start_time": "2022-05-15T18:13:28.492Z"
   },
   {
    "duration": 154,
    "start_time": "2022-05-15T18:13:30.429Z"
   },
   {
    "duration": 10,
    "start_time": "2022-05-15T18:13:30.587Z"
   },
   {
    "duration": 12,
    "start_time": "2022-05-15T18:13:30.599Z"
   },
   {
    "duration": 208,
    "start_time": "2022-05-15T18:13:30.613Z"
   },
   {
    "duration": 330,
    "start_time": "2022-05-15T18:13:30.823Z"
   },
   {
    "duration": 4,
    "start_time": "2022-05-15T18:13:31.155Z"
   },
   {
    "duration": 205,
    "start_time": "2022-05-15T18:13:31.162Z"
   },
   {
    "duration": 0,
    "start_time": "2022-05-15T18:13:31.368Z"
   },
   {
    "duration": 0,
    "start_time": "2022-05-15T18:13:31.369Z"
   },
   {
    "duration": 0,
    "start_time": "2022-05-15T18:13:31.371Z"
   },
   {
    "duration": 0,
    "start_time": "2022-05-15T18:13:31.388Z"
   },
   {
    "duration": 0,
    "start_time": "2022-05-15T18:13:31.389Z"
   },
   {
    "duration": 0,
    "start_time": "2022-05-15T18:13:31.391Z"
   },
   {
    "duration": 0,
    "start_time": "2022-05-15T18:13:31.392Z"
   },
   {
    "duration": 0,
    "start_time": "2022-05-15T18:13:31.393Z"
   },
   {
    "duration": 0,
    "start_time": "2022-05-15T18:13:31.394Z"
   },
   {
    "duration": 0,
    "start_time": "2022-05-15T18:13:31.395Z"
   },
   {
    "duration": 0,
    "start_time": "2022-05-15T18:13:31.396Z"
   },
   {
    "duration": 0,
    "start_time": "2022-05-15T18:13:31.397Z"
   },
   {
    "duration": 0,
    "start_time": "2022-05-15T18:13:31.398Z"
   },
   {
    "duration": 0,
    "start_time": "2022-05-15T18:13:31.399Z"
   },
   {
    "duration": 0,
    "start_time": "2022-05-15T18:13:31.400Z"
   },
   {
    "duration": 0,
    "start_time": "2022-05-15T18:13:31.402Z"
   },
   {
    "duration": 0,
    "start_time": "2022-05-15T18:13:31.403Z"
   },
   {
    "duration": 0,
    "start_time": "2022-05-15T18:13:31.404Z"
   },
   {
    "duration": 0,
    "start_time": "2022-05-15T18:13:31.404Z"
   },
   {
    "duration": 0,
    "start_time": "2022-05-15T18:13:31.405Z"
   },
   {
    "duration": 0,
    "start_time": "2022-05-15T18:13:31.406Z"
   },
   {
    "duration": 0,
    "start_time": "2022-05-15T18:13:31.407Z"
   },
   {
    "duration": 0,
    "start_time": "2022-05-15T18:13:31.408Z"
   },
   {
    "duration": 0,
    "start_time": "2022-05-15T18:13:31.409Z"
   },
   {
    "duration": 0,
    "start_time": "2022-05-15T18:13:31.411Z"
   },
   {
    "duration": 0,
    "start_time": "2022-05-15T18:13:31.411Z"
   },
   {
    "duration": 0,
    "start_time": "2022-05-15T18:13:31.413Z"
   },
   {
    "duration": 0,
    "start_time": "2022-05-15T18:13:31.414Z"
   },
   {
    "duration": 0,
    "start_time": "2022-05-15T18:13:31.415Z"
   },
   {
    "duration": 0,
    "start_time": "2022-05-15T18:13:31.416Z"
   },
   {
    "duration": 21,
    "start_time": "2022-05-15T18:14:20.865Z"
   },
   {
    "duration": 249,
    "start_time": "2022-05-15T18:14:26.057Z"
   },
   {
    "duration": 429,
    "start_time": "2022-05-15T18:15:16.690Z"
   },
   {
    "duration": 349,
    "start_time": "2022-05-15T18:16:05.169Z"
   },
   {
    "duration": 1226,
    "start_time": "2022-05-15T18:16:39.627Z"
   },
   {
    "duration": 34,
    "start_time": "2022-05-15T18:16:40.856Z"
   },
   {
    "duration": 5,
    "start_time": "2022-05-15T18:16:40.891Z"
   },
   {
    "duration": 19,
    "start_time": "2022-05-15T18:16:40.898Z"
   },
   {
    "duration": 14,
    "start_time": "2022-05-15T18:16:40.919Z"
   },
   {
    "duration": 8,
    "start_time": "2022-05-15T18:16:40.935Z"
   },
   {
    "duration": 254,
    "start_time": "2022-05-15T18:16:40.945Z"
   },
   {
    "duration": 11,
    "start_time": "2022-05-15T18:16:41.201Z"
   },
   {
    "duration": 10,
    "start_time": "2022-05-15T18:16:41.214Z"
   },
   {
    "duration": 28,
    "start_time": "2022-05-15T18:16:41.227Z"
   },
   {
    "duration": 97,
    "start_time": "2022-05-15T18:16:41.256Z"
   },
   {
    "duration": 117,
    "start_time": "2022-05-15T18:16:41.355Z"
   },
   {
    "duration": 59,
    "start_time": "2022-05-15T18:16:41.474Z"
   },
   {
    "duration": 11,
    "start_time": "2022-05-15T18:16:41.534Z"
   },
   {
    "duration": 18,
    "start_time": "2022-05-15T18:16:41.547Z"
   },
   {
    "duration": 874,
    "start_time": "2022-05-15T18:16:41.566Z"
   },
   {
    "duration": 4,
    "start_time": "2022-05-15T18:16:42.442Z"
   },
   {
    "duration": 14,
    "start_time": "2022-05-15T18:16:42.447Z"
   },
   {
    "duration": 8,
    "start_time": "2022-05-15T18:16:42.462Z"
   },
   {
    "duration": 14,
    "start_time": "2022-05-15T18:16:42.471Z"
   },
   {
    "duration": 1929,
    "start_time": "2022-05-15T18:16:42.486Z"
   },
   {
    "duration": 153,
    "start_time": "2022-05-15T18:16:44.416Z"
   },
   {
    "duration": 19,
    "start_time": "2022-05-15T18:16:44.571Z"
   },
   {
    "duration": 9,
    "start_time": "2022-05-15T18:16:44.591Z"
   },
   {
    "duration": 199,
    "start_time": "2022-05-15T18:16:44.601Z"
   },
   {
    "duration": 325,
    "start_time": "2022-05-15T18:16:44.802Z"
   },
   {
    "duration": 4,
    "start_time": "2022-05-15T18:16:45.129Z"
   },
   {
    "duration": 18,
    "start_time": "2022-05-15T18:16:45.136Z"
   },
   {
    "duration": 363,
    "start_time": "2022-05-15T18:16:45.156Z"
   },
   {
    "duration": 276,
    "start_time": "2022-05-15T18:16:45.521Z"
   },
   {
    "duration": 309,
    "start_time": "2022-05-15T18:16:45.799Z"
   },
   {
    "duration": 230,
    "start_time": "2022-05-15T18:16:46.109Z"
   },
   {
    "duration": 176,
    "start_time": "2022-05-15T18:16:46.341Z"
   },
   {
    "duration": 27,
    "start_time": "2022-05-15T18:16:46.518Z"
   },
   {
    "duration": 3,
    "start_time": "2022-05-15T18:16:46.547Z"
   },
   {
    "duration": 372,
    "start_time": "2022-05-15T18:16:46.552Z"
   },
   {
    "duration": 221,
    "start_time": "2022-05-15T18:16:46.925Z"
   },
   {
    "duration": 51,
    "start_time": "2022-05-15T18:16:47.147Z"
   },
   {
    "duration": 27,
    "start_time": "2022-05-15T18:16:47.200Z"
   },
   {
    "duration": 28,
    "start_time": "2022-05-15T18:16:47.228Z"
   },
   {
    "duration": 4,
    "start_time": "2022-05-15T18:16:47.257Z"
   },
   {
    "duration": 300,
    "start_time": "2022-05-15T18:16:47.262Z"
   },
   {
    "duration": 189,
    "start_time": "2022-05-15T18:16:47.564Z"
   },
   {
    "duration": 320,
    "start_time": "2022-05-15T18:16:47.755Z"
   },
   {
    "duration": 17,
    "start_time": "2022-05-15T18:16:48.077Z"
   },
   {
    "duration": 7,
    "start_time": "2022-05-15T18:16:48.096Z"
   },
   {
    "duration": 354,
    "start_time": "2022-05-15T18:16:48.105Z"
   },
   {
    "duration": 14,
    "start_time": "2022-05-15T18:16:48.460Z"
   },
   {
    "duration": 126,
    "start_time": "2022-05-15T18:16:48.476Z"
   },
   {
    "duration": 278,
    "start_time": "2022-05-15T18:16:48.604Z"
   },
   {
    "duration": 619,
    "start_time": "2022-05-15T18:16:48.887Z"
   },
   {
    "duration": 6,
    "start_time": "2022-05-15T18:16:49.508Z"
   },
   {
    "duration": 5,
    "start_time": "2022-05-15T18:16:49.516Z"
   },
   {
    "duration": 10,
    "start_time": "2022-05-15T18:16:49.523Z"
   },
   {
    "duration": 4,
    "start_time": "2022-05-15T18:16:49.534Z"
   },
   {
    "duration": 14,
    "start_time": "2022-05-15T18:16:49.540Z"
   },
   {
    "duration": 43,
    "start_time": "2022-05-15T18:16:49.555Z"
   },
   {
    "duration": 7,
    "start_time": "2022-05-15T18:16:49.599Z"
   },
   {
    "duration": 374,
    "start_time": "2022-05-15T18:19:03.233Z"
   },
   {
    "duration": 341,
    "start_time": "2022-05-15T18:19:19.942Z"
   },
   {
    "duration": 1205,
    "start_time": "2022-05-15T18:23:02.636Z"
   },
   {
    "duration": 34,
    "start_time": "2022-05-15T18:23:03.843Z"
   },
   {
    "duration": 4,
    "start_time": "2022-05-15T18:23:03.879Z"
   },
   {
    "duration": 7,
    "start_time": "2022-05-15T18:23:03.888Z"
   },
   {
    "duration": 23,
    "start_time": "2022-05-15T18:23:03.897Z"
   },
   {
    "duration": 9,
    "start_time": "2022-05-15T18:23:03.921Z"
   },
   {
    "duration": 249,
    "start_time": "2022-05-15T18:23:03.931Z"
   },
   {
    "duration": 15,
    "start_time": "2022-05-15T18:23:04.181Z"
   },
   {
    "duration": 12,
    "start_time": "2022-05-15T18:23:04.198Z"
   },
   {
    "duration": 13,
    "start_time": "2022-05-15T18:23:04.213Z"
   },
   {
    "duration": 99,
    "start_time": "2022-05-15T18:23:04.227Z"
   },
   {
    "duration": 112,
    "start_time": "2022-05-15T18:23:04.328Z"
   },
   {
    "duration": 63,
    "start_time": "2022-05-15T18:23:04.441Z"
   },
   {
    "duration": 12,
    "start_time": "2022-05-15T18:23:04.506Z"
   },
   {
    "duration": 12,
    "start_time": "2022-05-15T18:23:04.520Z"
   },
   {
    "duration": 54,
    "start_time": "2022-05-15T18:23:04.534Z"
   },
   {
    "duration": 5,
    "start_time": "2022-05-15T18:23:04.590Z"
   },
   {
    "duration": 13,
    "start_time": "2022-05-15T18:23:04.596Z"
   },
   {
    "duration": 8,
    "start_time": "2022-05-15T18:23:04.611Z"
   },
   {
    "duration": 13,
    "start_time": "2022-05-15T18:23:04.620Z"
   },
   {
    "duration": 1915,
    "start_time": "2022-05-15T18:23:04.634Z"
   },
   {
    "duration": 157,
    "start_time": "2022-05-15T18:23:06.551Z"
   },
   {
    "duration": 10,
    "start_time": "2022-05-15T18:23:06.709Z"
   },
   {
    "duration": 8,
    "start_time": "2022-05-15T18:23:06.721Z"
   },
   {
    "duration": 204,
    "start_time": "2022-05-15T18:23:06.730Z"
   },
   {
    "duration": 334,
    "start_time": "2022-05-15T18:23:06.936Z"
   },
   {
    "duration": 4,
    "start_time": "2022-05-15T18:23:07.271Z"
   },
   {
    "duration": 18,
    "start_time": "2022-05-15T18:23:07.287Z"
   },
   {
    "duration": 363,
    "start_time": "2022-05-15T18:23:07.307Z"
   },
   {
    "duration": 278,
    "start_time": "2022-05-15T18:23:07.672Z"
   },
   {
    "duration": 305,
    "start_time": "2022-05-15T18:23:07.952Z"
   },
   {
    "duration": 231,
    "start_time": "2022-05-15T18:23:08.259Z"
   },
   {
    "duration": 187,
    "start_time": "2022-05-15T18:23:08.491Z"
   },
   {
    "duration": 25,
    "start_time": "2022-05-15T18:23:08.687Z"
   },
   {
    "duration": 4,
    "start_time": "2022-05-15T18:23:08.714Z"
   },
   {
    "duration": 394,
    "start_time": "2022-05-15T18:23:08.719Z"
   },
   {
    "duration": 228,
    "start_time": "2022-05-15T18:23:09.115Z"
   },
   {
    "duration": 50,
    "start_time": "2022-05-15T18:23:09.344Z"
   },
   {
    "duration": 27,
    "start_time": "2022-05-15T18:23:09.397Z"
   },
   {
    "duration": 27,
    "start_time": "2022-05-15T18:23:09.426Z"
   },
   {
    "duration": 5,
    "start_time": "2022-05-15T18:23:09.454Z"
   },
   {
    "duration": 314,
    "start_time": "2022-05-15T18:23:09.460Z"
   },
   {
    "duration": 195,
    "start_time": "2022-05-15T18:23:09.775Z"
   },
   {
    "duration": 341,
    "start_time": "2022-05-15T18:23:09.972Z"
   },
   {
    "duration": 10,
    "start_time": "2022-05-15T18:23:10.315Z"
   },
   {
    "duration": 9,
    "start_time": "2022-05-15T18:23:10.327Z"
   },
   {
    "duration": 380,
    "start_time": "2022-05-15T18:23:10.338Z"
   },
   {
    "duration": 14,
    "start_time": "2022-05-15T18:23:10.721Z"
   },
   {
    "duration": 124,
    "start_time": "2022-05-15T18:23:10.737Z"
   },
   {
    "duration": 299,
    "start_time": "2022-05-15T18:23:10.863Z"
   },
   {
    "duration": 652,
    "start_time": "2022-05-15T18:23:11.164Z"
   },
   {
    "duration": 7,
    "start_time": "2022-05-15T18:23:11.818Z"
   },
   {
    "duration": 7,
    "start_time": "2022-05-15T18:23:11.826Z"
   },
   {
    "duration": 10,
    "start_time": "2022-05-15T18:23:11.835Z"
   },
   {
    "duration": 5,
    "start_time": "2022-05-15T18:23:11.846Z"
   },
   {
    "duration": 52,
    "start_time": "2022-05-15T18:23:11.852Z"
   },
   {
    "duration": 21,
    "start_time": "2022-05-15T18:23:11.906Z"
   },
   {
    "duration": 6,
    "start_time": "2022-05-15T18:23:11.929Z"
   },
   {
    "duration": 94,
    "start_time": "2022-05-15T18:24:39.320Z"
   },
   {
    "duration": 18,
    "start_time": "2022-05-15T18:25:35.389Z"
   },
   {
    "duration": 23,
    "start_time": "2022-05-15T18:26:32.752Z"
   },
   {
    "duration": 13,
    "start_time": "2022-05-15T18:26:46.967Z"
   },
   {
    "duration": 11,
    "start_time": "2022-05-15T18:28:03.022Z"
   },
   {
    "duration": 12,
    "start_time": "2022-05-15T18:28:11.287Z"
   },
   {
    "duration": 6,
    "start_time": "2022-05-15T18:28:19.798Z"
   },
   {
    "duration": 11,
    "start_time": "2022-05-15T18:28:33.798Z"
   },
   {
    "duration": 72,
    "start_time": "2022-05-16T04:52:06.351Z"
   },
   {
    "duration": 12,
    "start_time": "2022-05-16T04:52:17.011Z"
   },
   {
    "duration": 1882,
    "start_time": "2022-05-16T04:52:23.116Z"
   },
   {
    "duration": 54,
    "start_time": "2022-05-16T04:52:25.001Z"
   },
   {
    "duration": 5,
    "start_time": "2022-05-16T04:52:25.058Z"
   },
   {
    "duration": 8,
    "start_time": "2022-05-16T04:52:25.066Z"
   },
   {
    "duration": 12,
    "start_time": "2022-05-16T04:52:25.076Z"
   },
   {
    "duration": 6,
    "start_time": "2022-05-16T04:52:25.090Z"
   },
   {
    "duration": 337,
    "start_time": "2022-05-16T04:52:25.098Z"
   },
   {
    "duration": 25,
    "start_time": "2022-05-16T04:52:25.437Z"
   },
   {
    "duration": 12,
    "start_time": "2022-05-16T04:52:25.464Z"
   },
   {
    "duration": 14,
    "start_time": "2022-05-16T04:52:25.480Z"
   },
   {
    "duration": 152,
    "start_time": "2022-05-16T04:52:25.496Z"
   },
   {
    "duration": 146,
    "start_time": "2022-05-16T04:52:25.651Z"
   },
   {
    "duration": 93,
    "start_time": "2022-05-16T04:52:25.799Z"
   },
   {
    "duration": 14,
    "start_time": "2022-05-16T04:52:25.894Z"
   },
   {
    "duration": 14,
    "start_time": "2022-05-16T04:52:25.910Z"
   },
   {
    "duration": 74,
    "start_time": "2022-05-16T04:52:25.926Z"
   },
   {
    "duration": 7,
    "start_time": "2022-05-16T04:52:26.002Z"
   },
   {
    "duration": 21,
    "start_time": "2022-05-16T04:52:26.010Z"
   },
   {
    "duration": 32,
    "start_time": "2022-05-16T04:52:26.033Z"
   },
   {
    "duration": 18,
    "start_time": "2022-05-16T04:52:26.067Z"
   },
   {
    "duration": 3782,
    "start_time": "2022-05-16T04:52:26.087Z"
   },
   {
    "duration": 168,
    "start_time": "2022-05-16T04:52:29.872Z"
   },
   {
    "duration": 0,
    "start_time": "2022-05-16T04:52:30.044Z"
   },
   {
    "duration": 0,
    "start_time": "2022-05-16T04:52:30.045Z"
   },
   {
    "duration": 0,
    "start_time": "2022-05-16T04:52:30.056Z"
   },
   {
    "duration": 0,
    "start_time": "2022-05-16T04:52:30.058Z"
   },
   {
    "duration": 0,
    "start_time": "2022-05-16T04:52:30.059Z"
   },
   {
    "duration": 0,
    "start_time": "2022-05-16T04:52:30.061Z"
   },
   {
    "duration": 0,
    "start_time": "2022-05-16T04:52:30.063Z"
   },
   {
    "duration": 0,
    "start_time": "2022-05-16T04:52:30.065Z"
   },
   {
    "duration": 0,
    "start_time": "2022-05-16T04:52:30.066Z"
   },
   {
    "duration": 0,
    "start_time": "2022-05-16T04:52:30.067Z"
   },
   {
    "duration": 0,
    "start_time": "2022-05-16T04:52:30.069Z"
   },
   {
    "duration": 0,
    "start_time": "2022-05-16T04:52:30.070Z"
   },
   {
    "duration": 0,
    "start_time": "2022-05-16T04:52:30.071Z"
   },
   {
    "duration": 0,
    "start_time": "2022-05-16T04:52:30.072Z"
   },
   {
    "duration": 0,
    "start_time": "2022-05-16T04:52:30.074Z"
   },
   {
    "duration": 0,
    "start_time": "2022-05-16T04:52:30.076Z"
   },
   {
    "duration": 0,
    "start_time": "2022-05-16T04:52:30.078Z"
   },
   {
    "duration": 0,
    "start_time": "2022-05-16T04:52:30.079Z"
   },
   {
    "duration": 0,
    "start_time": "2022-05-16T04:52:30.081Z"
   },
   {
    "duration": 0,
    "start_time": "2022-05-16T04:52:30.082Z"
   },
   {
    "duration": 0,
    "start_time": "2022-05-16T04:52:30.083Z"
   },
   {
    "duration": 0,
    "start_time": "2022-05-16T04:52:30.084Z"
   },
   {
    "duration": 0,
    "start_time": "2022-05-16T04:52:30.086Z"
   },
   {
    "duration": 0,
    "start_time": "2022-05-16T04:52:30.088Z"
   },
   {
    "duration": 0,
    "start_time": "2022-05-16T04:52:30.089Z"
   },
   {
    "duration": 0,
    "start_time": "2022-05-16T04:52:30.091Z"
   },
   {
    "duration": 0,
    "start_time": "2022-05-16T04:52:30.092Z"
   },
   {
    "duration": 0,
    "start_time": "2022-05-16T04:52:30.093Z"
   },
   {
    "duration": 0,
    "start_time": "2022-05-16T04:52:30.157Z"
   },
   {
    "duration": 0,
    "start_time": "2022-05-16T04:52:30.158Z"
   },
   {
    "duration": 0,
    "start_time": "2022-05-16T04:52:30.159Z"
   },
   {
    "duration": 0,
    "start_time": "2022-05-16T04:52:30.161Z"
   },
   {
    "duration": 0,
    "start_time": "2022-05-16T04:52:30.162Z"
   },
   {
    "duration": 0,
    "start_time": "2022-05-16T04:52:30.163Z"
   },
   {
    "duration": 0,
    "start_time": "2022-05-16T04:52:30.164Z"
   },
   {
    "duration": 0,
    "start_time": "2022-05-16T04:52:30.167Z"
   },
   {
    "duration": 0,
    "start_time": "2022-05-16T04:52:30.168Z"
   },
   {
    "duration": 3773,
    "start_time": "2022-05-16T04:53:39.245Z"
   },
   {
    "duration": 13,
    "start_time": "2022-05-16T04:53:44.320Z"
   },
   {
    "duration": 3834,
    "start_time": "2022-05-16T04:54:09.605Z"
   },
   {
    "duration": 1495,
    "start_time": "2022-05-16T04:54:22.391Z"
   },
   {
    "duration": 40,
    "start_time": "2022-05-16T04:54:23.888Z"
   },
   {
    "duration": 6,
    "start_time": "2022-05-16T04:54:23.930Z"
   },
   {
    "duration": 5,
    "start_time": "2022-05-16T04:54:23.956Z"
   },
   {
    "duration": 12,
    "start_time": "2022-05-16T04:54:23.963Z"
   },
   {
    "duration": 8,
    "start_time": "2022-05-16T04:54:23.977Z"
   },
   {
    "duration": 353,
    "start_time": "2022-05-16T04:54:23.988Z"
   },
   {
    "duration": 17,
    "start_time": "2022-05-16T04:54:24.356Z"
   },
   {
    "duration": 13,
    "start_time": "2022-05-16T04:54:24.376Z"
   },
   {
    "duration": 15,
    "start_time": "2022-05-16T04:54:24.395Z"
   },
   {
    "duration": 166,
    "start_time": "2022-05-16T04:54:24.413Z"
   },
   {
    "duration": 149,
    "start_time": "2022-05-16T04:54:24.582Z"
   },
   {
    "duration": 101,
    "start_time": "2022-05-16T04:54:24.733Z"
   },
   {
    "duration": 29,
    "start_time": "2022-05-16T04:54:24.836Z"
   },
   {
    "duration": 14,
    "start_time": "2022-05-16T04:54:24.868Z"
   },
   {
    "duration": 73,
    "start_time": "2022-05-16T04:54:24.884Z"
   },
   {
    "duration": 7,
    "start_time": "2022-05-16T04:54:24.960Z"
   },
   {
    "duration": 16,
    "start_time": "2022-05-16T04:54:24.969Z"
   },
   {
    "duration": 11,
    "start_time": "2022-05-16T04:54:24.988Z"
   },
   {
    "duration": 57,
    "start_time": "2022-05-16T04:54:25.001Z"
   },
   {
    "duration": 3859,
    "start_time": "2022-05-16T04:54:25.060Z"
   },
   {
    "duration": 13,
    "start_time": "2022-05-16T04:54:28.922Z"
   },
   {
    "duration": 213,
    "start_time": "2022-05-16T04:54:28.937Z"
   },
   {
    "duration": 12,
    "start_time": "2022-05-16T04:54:29.156Z"
   },
   {
    "duration": 10,
    "start_time": "2022-05-16T04:54:29.170Z"
   },
   {
    "duration": 328,
    "start_time": "2022-05-16T04:54:29.183Z"
   },
   {
    "duration": 546,
    "start_time": "2022-05-16T04:54:29.513Z"
   },
   {
    "duration": 5,
    "start_time": "2022-05-16T04:54:30.065Z"
   },
   {
    "duration": 190,
    "start_time": "2022-05-16T04:54:30.072Z"
   },
   {
    "duration": 0,
    "start_time": "2022-05-16T04:54:30.264Z"
   },
   {
    "duration": 0,
    "start_time": "2022-05-16T04:54:30.266Z"
   },
   {
    "duration": 0,
    "start_time": "2022-05-16T04:54:30.267Z"
   },
   {
    "duration": 0,
    "start_time": "2022-05-16T04:54:30.269Z"
   },
   {
    "duration": 0,
    "start_time": "2022-05-16T04:54:30.271Z"
   },
   {
    "duration": 1,
    "start_time": "2022-05-16T04:54:30.272Z"
   },
   {
    "duration": 0,
    "start_time": "2022-05-16T04:54:30.274Z"
   },
   {
    "duration": 0,
    "start_time": "2022-05-16T04:54:30.275Z"
   },
   {
    "duration": 0,
    "start_time": "2022-05-16T04:54:30.277Z"
   },
   {
    "duration": 0,
    "start_time": "2022-05-16T04:54:30.279Z"
   },
   {
    "duration": 0,
    "start_time": "2022-05-16T04:54:30.280Z"
   },
   {
    "duration": 0,
    "start_time": "2022-05-16T04:54:30.282Z"
   },
   {
    "duration": 0,
    "start_time": "2022-05-16T04:54:30.284Z"
   },
   {
    "duration": 0,
    "start_time": "2022-05-16T04:54:30.286Z"
   },
   {
    "duration": 0,
    "start_time": "2022-05-16T04:54:30.288Z"
   },
   {
    "duration": 0,
    "start_time": "2022-05-16T04:54:30.289Z"
   },
   {
    "duration": 0,
    "start_time": "2022-05-16T04:54:30.291Z"
   },
   {
    "duration": 0,
    "start_time": "2022-05-16T04:54:30.293Z"
   },
   {
    "duration": 0,
    "start_time": "2022-05-16T04:54:30.294Z"
   },
   {
    "duration": 0,
    "start_time": "2022-05-16T04:54:30.296Z"
   },
   {
    "duration": 0,
    "start_time": "2022-05-16T04:54:30.297Z"
   },
   {
    "duration": 0,
    "start_time": "2022-05-16T04:54:30.299Z"
   },
   {
    "duration": 1,
    "start_time": "2022-05-16T04:54:30.357Z"
   },
   {
    "duration": 0,
    "start_time": "2022-05-16T04:54:30.359Z"
   },
   {
    "duration": 0,
    "start_time": "2022-05-16T04:54:30.361Z"
   },
   {
    "duration": 0,
    "start_time": "2022-05-16T04:54:30.362Z"
   },
   {
    "duration": 0,
    "start_time": "2022-05-16T04:54:30.364Z"
   },
   {
    "duration": 0,
    "start_time": "2022-05-16T04:54:30.365Z"
   },
   {
    "duration": 0,
    "start_time": "2022-05-16T04:54:30.366Z"
   },
   {
    "duration": 0,
    "start_time": "2022-05-16T04:54:30.368Z"
   },
   {
    "duration": 1664,
    "start_time": "2022-05-16T04:55:03.129Z"
   },
   {
    "duration": 42,
    "start_time": "2022-05-16T04:55:04.796Z"
   },
   {
    "duration": 19,
    "start_time": "2022-05-16T04:55:04.840Z"
   },
   {
    "duration": 8,
    "start_time": "2022-05-16T04:55:04.863Z"
   },
   {
    "duration": 10,
    "start_time": "2022-05-16T04:55:04.874Z"
   },
   {
    "duration": 7,
    "start_time": "2022-05-16T04:55:04.887Z"
   },
   {
    "duration": 364,
    "start_time": "2022-05-16T04:55:04.897Z"
   },
   {
    "duration": 17,
    "start_time": "2022-05-16T04:55:05.263Z"
   },
   {
    "duration": 13,
    "start_time": "2022-05-16T04:55:05.282Z"
   },
   {
    "duration": 17,
    "start_time": "2022-05-16T04:55:05.298Z"
   },
   {
    "duration": 162,
    "start_time": "2022-05-16T04:55:05.318Z"
   },
   {
    "duration": 148,
    "start_time": "2022-05-16T04:55:05.482Z"
   },
   {
    "duration": 124,
    "start_time": "2022-05-16T04:55:05.632Z"
   },
   {
    "duration": 15,
    "start_time": "2022-05-16T04:55:05.759Z"
   },
   {
    "duration": 17,
    "start_time": "2022-05-16T04:55:05.776Z"
   },
   {
    "duration": 47,
    "start_time": "2022-05-16T04:55:05.795Z"
   },
   {
    "duration": 14,
    "start_time": "2022-05-16T04:55:05.844Z"
   },
   {
    "duration": 23,
    "start_time": "2022-05-16T04:55:05.860Z"
   },
   {
    "duration": 11,
    "start_time": "2022-05-16T04:55:05.885Z"
   },
   {
    "duration": 19,
    "start_time": "2022-05-16T04:55:05.898Z"
   },
   {
    "duration": 4300,
    "start_time": "2022-05-16T04:55:05.920Z"
   },
   {
    "duration": 14,
    "start_time": "2022-05-16T04:55:10.222Z"
   },
   {
    "duration": 219,
    "start_time": "2022-05-16T04:55:10.238Z"
   },
   {
    "duration": 15,
    "start_time": "2022-05-16T04:55:10.459Z"
   },
   {
    "duration": 12,
    "start_time": "2022-05-16T04:55:10.477Z"
   },
   {
    "duration": 333,
    "start_time": "2022-05-16T04:55:10.492Z"
   },
   {
    "duration": 551,
    "start_time": "2022-05-16T04:55:10.828Z"
   },
   {
    "duration": 5,
    "start_time": "2022-05-16T04:55:11.387Z"
   },
   {
    "duration": 190,
    "start_time": "2022-05-16T04:55:11.395Z"
   },
   {
    "duration": 0,
    "start_time": "2022-05-16T04:55:11.588Z"
   },
   {
    "duration": 0,
    "start_time": "2022-05-16T04:55:11.590Z"
   },
   {
    "duration": 0,
    "start_time": "2022-05-16T04:55:11.593Z"
   },
   {
    "duration": 0,
    "start_time": "2022-05-16T04:55:11.595Z"
   },
   {
    "duration": 0,
    "start_time": "2022-05-16T04:55:11.597Z"
   },
   {
    "duration": 0,
    "start_time": "2022-05-16T04:55:11.599Z"
   },
   {
    "duration": 0,
    "start_time": "2022-05-16T04:55:11.601Z"
   },
   {
    "duration": 1,
    "start_time": "2022-05-16T04:55:11.603Z"
   },
   {
    "duration": 0,
    "start_time": "2022-05-16T04:55:11.606Z"
   },
   {
    "duration": 0,
    "start_time": "2022-05-16T04:55:11.607Z"
   },
   {
    "duration": 0,
    "start_time": "2022-05-16T04:55:11.609Z"
   },
   {
    "duration": 0,
    "start_time": "2022-05-16T04:55:11.612Z"
   },
   {
    "duration": 0,
    "start_time": "2022-05-16T04:55:11.657Z"
   },
   {
    "duration": 0,
    "start_time": "2022-05-16T04:55:11.660Z"
   },
   {
    "duration": 0,
    "start_time": "2022-05-16T04:55:11.661Z"
   },
   {
    "duration": 0,
    "start_time": "2022-05-16T04:55:11.664Z"
   },
   {
    "duration": 1,
    "start_time": "2022-05-16T04:55:11.665Z"
   },
   {
    "duration": 0,
    "start_time": "2022-05-16T04:55:11.667Z"
   },
   {
    "duration": 0,
    "start_time": "2022-05-16T04:55:11.669Z"
   },
   {
    "duration": 0,
    "start_time": "2022-05-16T04:55:11.672Z"
   },
   {
    "duration": 1,
    "start_time": "2022-05-16T04:55:11.673Z"
   },
   {
    "duration": 0,
    "start_time": "2022-05-16T04:55:11.675Z"
   },
   {
    "duration": 0,
    "start_time": "2022-05-16T04:55:11.677Z"
   },
   {
    "duration": 0,
    "start_time": "2022-05-16T04:55:11.679Z"
   },
   {
    "duration": 0,
    "start_time": "2022-05-16T04:55:11.681Z"
   },
   {
    "duration": 0,
    "start_time": "2022-05-16T04:55:11.683Z"
   },
   {
    "duration": 0,
    "start_time": "2022-05-16T04:55:11.685Z"
   },
   {
    "duration": 0,
    "start_time": "2022-05-16T04:55:11.687Z"
   },
   {
    "duration": 0,
    "start_time": "2022-05-16T04:55:11.689Z"
   },
   {
    "duration": 0,
    "start_time": "2022-05-16T04:55:11.691Z"
   },
   {
    "duration": 21,
    "start_time": "2022-05-16T04:55:32.865Z"
   },
   {
    "duration": 1597,
    "start_time": "2022-05-16T04:55:39.169Z"
   },
   {
    "duration": 40,
    "start_time": "2022-05-16T04:55:40.769Z"
   },
   {
    "duration": 6,
    "start_time": "2022-05-16T04:55:40.811Z"
   },
   {
    "duration": 13,
    "start_time": "2022-05-16T04:55:40.820Z"
   },
   {
    "duration": 10,
    "start_time": "2022-05-16T04:55:40.857Z"
   },
   {
    "duration": 7,
    "start_time": "2022-05-16T04:55:40.870Z"
   },
   {
    "duration": 342,
    "start_time": "2022-05-16T04:55:40.879Z"
   },
   {
    "duration": 34,
    "start_time": "2022-05-16T04:55:41.224Z"
   },
   {
    "duration": 13,
    "start_time": "2022-05-16T04:55:41.261Z"
   },
   {
    "duration": 20,
    "start_time": "2022-05-16T04:55:41.276Z"
   },
   {
    "duration": 149,
    "start_time": "2022-05-16T04:55:41.298Z"
   },
   {
    "duration": 142,
    "start_time": "2022-05-16T04:55:41.456Z"
   },
   {
    "duration": 100,
    "start_time": "2022-05-16T04:55:41.600Z"
   },
   {
    "duration": 16,
    "start_time": "2022-05-16T04:55:41.706Z"
   },
   {
    "duration": 39,
    "start_time": "2022-05-16T04:55:41.724Z"
   },
   {
    "duration": 55,
    "start_time": "2022-05-16T04:55:41.765Z"
   },
   {
    "duration": 9,
    "start_time": "2022-05-16T04:55:41.823Z"
   },
   {
    "duration": 19,
    "start_time": "2022-05-16T04:55:41.857Z"
   },
   {
    "duration": 18,
    "start_time": "2022-05-16T04:55:41.878Z"
   },
   {
    "duration": 21,
    "start_time": "2022-05-16T04:55:41.899Z"
   },
   {
    "duration": 4021,
    "start_time": "2022-05-16T04:55:41.923Z"
   },
   {
    "duration": 23,
    "start_time": "2022-05-16T04:55:45.947Z"
   },
   {
    "duration": 209,
    "start_time": "2022-05-16T04:55:45.972Z"
   },
   {
    "duration": 15,
    "start_time": "2022-05-16T04:55:46.183Z"
   },
   {
    "duration": 15,
    "start_time": "2022-05-16T04:55:46.200Z"
   },
   {
    "duration": 331,
    "start_time": "2022-05-16T04:55:46.217Z"
   },
   {
    "duration": 541,
    "start_time": "2022-05-16T04:55:46.555Z"
   },
   {
    "duration": 5,
    "start_time": "2022-05-16T04:55:47.099Z"
   },
   {
    "duration": 35,
    "start_time": "2022-05-16T04:55:47.107Z"
   },
   {
    "duration": 606,
    "start_time": "2022-05-16T04:55:47.144Z"
   },
   {
    "duration": 463,
    "start_time": "2022-05-16T04:55:47.752Z"
   },
   {
    "duration": 431,
    "start_time": "2022-05-16T04:55:48.218Z"
   },
   {
    "duration": 382,
    "start_time": "2022-05-16T04:55:48.651Z"
   },
   {
    "duration": 313,
    "start_time": "2022-05-16T04:55:49.036Z"
   },
   {
    "duration": 39,
    "start_time": "2022-05-16T04:55:49.352Z"
   },
   {
    "duration": 7,
    "start_time": "2022-05-16T04:55:49.393Z"
   },
   {
    "duration": 622,
    "start_time": "2022-05-16T04:55:49.403Z"
   },
   {
    "duration": 356,
    "start_time": "2022-05-16T04:55:50.028Z"
   },
   {
    "duration": 73,
    "start_time": "2022-05-16T04:55:50.387Z"
   },
   {
    "duration": 39,
    "start_time": "2022-05-16T04:55:50.463Z"
   },
   {
    "duration": 65,
    "start_time": "2022-05-16T04:55:50.510Z"
   },
   {
    "duration": 7,
    "start_time": "2022-05-16T04:55:50.578Z"
   },
   {
    "duration": 455,
    "start_time": "2022-05-16T04:55:50.588Z"
   },
   {
    "duration": 313,
    "start_time": "2022-05-16T04:55:51.046Z"
   },
   {
    "duration": 533,
    "start_time": "2022-05-16T04:55:51.362Z"
   },
   {
    "duration": 14,
    "start_time": "2022-05-16T04:55:51.898Z"
   },
   {
    "duration": 16,
    "start_time": "2022-05-16T04:55:51.914Z"
   },
   {
    "duration": 563,
    "start_time": "2022-05-16T04:55:51.956Z"
   },
   {
    "duration": 19,
    "start_time": "2022-05-16T04:55:52.521Z"
   },
   {
    "duration": 160,
    "start_time": "2022-05-16T04:55:52.557Z"
   },
   {
    "duration": 376,
    "start_time": "2022-05-16T04:55:52.719Z"
   },
   {
    "duration": 991,
    "start_time": "2022-05-16T04:55:53.097Z"
   },
   {
    "duration": 9,
    "start_time": "2022-05-16T04:55:54.090Z"
   },
   {
    "duration": 6,
    "start_time": "2022-05-16T04:55:54.101Z"
   },
   {
    "duration": 18,
    "start_time": "2022-05-16T04:55:54.109Z"
   },
   {
    "duration": 27,
    "start_time": "2022-05-16T04:55:54.129Z"
   },
   {
    "duration": 21,
    "start_time": "2022-05-16T04:55:54.158Z"
   },
   {
    "duration": 20,
    "start_time": "2022-05-16T04:55:54.181Z"
   },
   {
    "duration": 9,
    "start_time": "2022-05-16T04:55:54.203Z"
   },
   {
    "duration": 574,
    "start_time": "2022-05-16T04:56:28.614Z"
   },
   {
    "duration": 3992,
    "start_time": "2022-05-16T05:02:43.428Z"
   },
   {
    "duration": 21,
    "start_time": "2022-05-16T05:04:48.123Z"
   },
   {
    "duration": 21,
    "start_time": "2022-05-16T05:06:09.824Z"
   },
   {
    "duration": 529,
    "start_time": "2022-05-16T05:07:16.281Z"
   },
   {
    "duration": 724,
    "start_time": "2022-05-16T05:09:15.698Z"
   },
   {
    "duration": 679,
    "start_time": "2022-05-16T05:09:27.563Z"
   },
   {
    "duration": 611,
    "start_time": "2022-05-16T05:10:50.188Z"
   },
   {
    "duration": 761,
    "start_time": "2022-05-16T05:12:38.953Z"
   },
   {
    "duration": 25,
    "start_time": "2022-05-16T05:13:46.073Z"
   },
   {
    "duration": 622,
    "start_time": "2022-05-16T05:13:59.865Z"
   },
   {
    "duration": 142,
    "start_time": "2022-05-16T05:14:12.548Z"
   },
   {
    "duration": 987,
    "start_time": "2022-05-16T05:14:19.582Z"
   },
   {
    "duration": 719,
    "start_time": "2022-05-16T05:14:47.471Z"
   },
   {
    "duration": 687,
    "start_time": "2022-05-16T05:15:35.393Z"
   },
   {
    "duration": 543,
    "start_time": "2022-05-16T05:16:07.344Z"
   },
   {
    "duration": 817,
    "start_time": "2022-05-16T05:16:49.241Z"
   },
   {
    "duration": 606,
    "start_time": "2022-05-16T05:18:04.864Z"
   },
   {
    "duration": 864,
    "start_time": "2022-05-16T05:19:03.939Z"
   },
   {
    "duration": 1588,
    "start_time": "2022-05-16T05:19:32.698Z"
   },
   {
    "duration": 44,
    "start_time": "2022-05-16T05:19:34.289Z"
   },
   {
    "duration": 20,
    "start_time": "2022-05-16T05:19:34.335Z"
   },
   {
    "duration": 6,
    "start_time": "2022-05-16T05:19:34.359Z"
   },
   {
    "duration": 13,
    "start_time": "2022-05-16T05:19:34.368Z"
   },
   {
    "duration": 6,
    "start_time": "2022-05-16T05:19:34.384Z"
   },
   {
    "duration": 351,
    "start_time": "2022-05-16T05:19:34.392Z"
   },
   {
    "duration": 29,
    "start_time": "2022-05-16T05:19:34.745Z"
   },
   {
    "duration": 13,
    "start_time": "2022-05-16T05:19:34.776Z"
   },
   {
    "duration": 16,
    "start_time": "2022-05-16T05:19:34.795Z"
   },
   {
    "duration": 166,
    "start_time": "2022-05-16T05:19:34.814Z"
   },
   {
    "duration": 155,
    "start_time": "2022-05-16T05:19:34.982Z"
   },
   {
    "duration": 101,
    "start_time": "2022-05-16T05:19:35.139Z"
   },
   {
    "duration": 29,
    "start_time": "2022-05-16T05:19:35.242Z"
   },
   {
    "duration": 19,
    "start_time": "2022-05-16T05:19:35.273Z"
   },
   {
    "duration": 70,
    "start_time": "2022-05-16T05:19:35.295Z"
   },
   {
    "duration": 7,
    "start_time": "2022-05-16T05:19:35.367Z"
   },
   {
    "duration": 22,
    "start_time": "2022-05-16T05:19:35.376Z"
   },
   {
    "duration": 11,
    "start_time": "2022-05-16T05:19:35.400Z"
   },
   {
    "duration": 60,
    "start_time": "2022-05-16T05:19:35.413Z"
   },
   {
    "duration": 212,
    "start_time": "2022-05-16T05:19:35.476Z"
   },
   {
    "duration": 14,
    "start_time": "2022-05-16T05:19:35.690Z"
   },
   {
    "duration": 10,
    "start_time": "2022-05-16T05:19:35.706Z"
   },
   {
    "duration": 542,
    "start_time": "2022-05-16T05:19:35.718Z"
   },
   {
    "duration": 1017,
    "start_time": "2022-05-16T05:19:36.262Z"
   },
   {
    "duration": 6,
    "start_time": "2022-05-16T05:19:37.281Z"
   },
   {
    "duration": 5929,
    "start_time": "2022-05-16T05:19:37.289Z"
   },
   {
    "duration": 14,
    "start_time": "2022-05-16T05:19:43.224Z"
   },
   {
    "duration": 21,
    "start_time": "2022-05-16T05:19:43.256Z"
   },
   {
    "duration": 634,
    "start_time": "2022-05-16T05:19:43.279Z"
   },
   {
    "duration": 470,
    "start_time": "2022-05-16T05:19:43.915Z"
   },
   {
    "duration": 571,
    "start_time": "2022-05-16T05:19:44.388Z"
   },
   {
    "duration": 483,
    "start_time": "2022-05-16T05:19:44.962Z"
   },
   {
    "duration": 396,
    "start_time": "2022-05-16T05:19:45.447Z"
   },
   {
    "duration": 45,
    "start_time": "2022-05-16T05:19:45.846Z"
   },
   {
    "duration": 5,
    "start_time": "2022-05-16T05:19:45.893Z"
   },
   {
    "duration": 730,
    "start_time": "2022-05-16T05:19:45.900Z"
   },
   {
    "duration": 360,
    "start_time": "2022-05-16T05:19:46.632Z"
   },
   {
    "duration": 74,
    "start_time": "2022-05-16T05:19:46.994Z"
   },
   {
    "duration": 36,
    "start_time": "2022-05-16T05:19:47.070Z"
   },
   {
    "duration": 82,
    "start_time": "2022-05-16T05:19:47.109Z"
   },
   {
    "duration": 7,
    "start_time": "2022-05-16T05:19:47.193Z"
   },
   {
    "duration": 583,
    "start_time": "2022-05-16T05:19:47.202Z"
   },
   {
    "duration": 386,
    "start_time": "2022-05-16T05:19:47.788Z"
   },
   {
    "duration": 727,
    "start_time": "2022-05-16T05:19:48.176Z"
   },
   {
    "duration": 14,
    "start_time": "2022-05-16T05:19:48.906Z"
   },
   {
    "duration": 35,
    "start_time": "2022-05-16T05:19:48.922Z"
   },
   {
    "duration": 733,
    "start_time": "2022-05-16T05:19:48.959Z"
   },
   {
    "duration": 23,
    "start_time": "2022-05-16T05:19:49.695Z"
   },
   {
    "duration": 237,
    "start_time": "2022-05-16T05:19:49.721Z"
   },
   {
    "duration": 501,
    "start_time": "2022-05-16T05:19:49.961Z"
   },
   {
    "duration": 1327,
    "start_time": "2022-05-16T05:19:50.464Z"
   },
   {
    "duration": 12,
    "start_time": "2022-05-16T05:19:51.794Z"
   },
   {
    "duration": 7,
    "start_time": "2022-05-16T05:19:51.808Z"
   },
   {
    "duration": 42,
    "start_time": "2022-05-16T05:19:51.817Z"
   },
   {
    "duration": 9,
    "start_time": "2022-05-16T05:19:51.861Z"
   },
   {
    "duration": 24,
    "start_time": "2022-05-16T05:19:51.873Z"
   },
   {
    "duration": 57,
    "start_time": "2022-05-16T05:19:51.899Z"
   },
   {
    "duration": 11,
    "start_time": "2022-05-16T05:19:51.959Z"
   },
   {
    "duration": 14,
    "start_time": "2022-05-16T05:34:35.265Z"
   },
   {
    "duration": 15,
    "start_time": "2022-05-16T05:35:03.248Z"
   },
   {
    "duration": 14,
    "start_time": "2022-05-16T05:35:21.439Z"
   },
   {
    "duration": 163,
    "start_time": "2022-05-16T05:37:13.112Z"
   },
   {
    "duration": 18,
    "start_time": "2022-05-16T05:38:09.250Z"
   },
   {
    "duration": 14,
    "start_time": "2022-05-16T05:38:35.056Z"
   },
   {
    "duration": 82,
    "start_time": "2022-05-16T05:39:08.704Z"
   },
   {
    "duration": 16,
    "start_time": "2022-05-16T05:39:37.297Z"
   },
   {
    "duration": 27716,
    "start_time": "2022-05-16T05:40:08.296Z"
   },
   {
    "duration": 26754,
    "start_time": "2022-05-16T05:42:00.488Z"
   },
   {
    "duration": 26989,
    "start_time": "2022-05-16T05:46:07.037Z"
   },
   {
    "duration": 26995,
    "start_time": "2022-05-16T05:47:00.206Z"
   },
   {
    "duration": 25776,
    "start_time": "2022-05-16T05:47:44.342Z"
   },
   {
    "duration": 26179,
    "start_time": "2022-05-16T05:48:57.762Z"
   },
   {
    "duration": 26541,
    "start_time": "2022-05-16T05:49:42.511Z"
   },
   {
    "duration": 3233,
    "start_time": "2022-05-16T05:50:43.324Z"
   },
   {
    "duration": 14,
    "start_time": "2022-05-16T05:51:37.613Z"
   },
   {
    "duration": 29,
    "start_time": "2022-05-16T05:52:08.653Z"
   },
   {
    "duration": 18,
    "start_time": "2022-05-16T05:54:33.525Z"
   },
   {
    "duration": 14,
    "start_time": "2022-05-16T05:55:15.381Z"
   },
   {
    "duration": 1629,
    "start_time": "2022-05-16T05:55:25.563Z"
   },
   {
    "duration": 45,
    "start_time": "2022-05-16T05:55:27.195Z"
   },
   {
    "duration": 15,
    "start_time": "2022-05-16T05:55:27.243Z"
   },
   {
    "duration": 6,
    "start_time": "2022-05-16T05:55:27.262Z"
   },
   {
    "duration": 13,
    "start_time": "2022-05-16T05:55:27.271Z"
   },
   {
    "duration": 7,
    "start_time": "2022-05-16T05:55:27.287Z"
   },
   {
    "duration": 367,
    "start_time": "2022-05-16T05:55:27.296Z"
   },
   {
    "duration": 19,
    "start_time": "2022-05-16T05:55:27.665Z"
   },
   {
    "duration": 13,
    "start_time": "2022-05-16T05:55:27.686Z"
   },
   {
    "duration": 54,
    "start_time": "2022-05-16T05:55:27.705Z"
   },
   {
    "duration": 128,
    "start_time": "2022-05-16T05:55:27.761Z"
   },
   {
    "duration": 147,
    "start_time": "2022-05-16T05:55:27.891Z"
   },
   {
    "duration": 99,
    "start_time": "2022-05-16T05:55:28.040Z"
   },
   {
    "duration": 29,
    "start_time": "2022-05-16T05:55:28.142Z"
   },
   {
    "duration": 16,
    "start_time": "2022-05-16T05:55:28.174Z"
   },
   {
    "duration": 68,
    "start_time": "2022-05-16T05:55:28.192Z"
   },
   {
    "duration": 7,
    "start_time": "2022-05-16T05:55:28.263Z"
   },
   {
    "duration": 20,
    "start_time": "2022-05-16T05:55:28.272Z"
   },
   {
    "duration": 11,
    "start_time": "2022-05-16T05:55:28.294Z"
   },
   {
    "duration": 55,
    "start_time": "2022-05-16T05:55:28.308Z"
   },
   {
    "duration": 224,
    "start_time": "2022-05-16T05:55:28.365Z"
   },
   {
    "duration": 13,
    "start_time": "2022-05-16T05:55:28.591Z"
   },
   {
    "duration": 10,
    "start_time": "2022-05-16T05:55:28.606Z"
   },
   {
    "duration": 333,
    "start_time": "2022-05-16T05:55:28.618Z"
   },
   {
    "duration": 544,
    "start_time": "2022-05-16T05:55:28.957Z"
   },
   {
    "duration": 6,
    "start_time": "2022-05-16T05:55:29.503Z"
   },
   {
    "duration": 4003,
    "start_time": "2022-05-16T05:55:29.511Z"
   },
   {
    "duration": 14,
    "start_time": "2022-05-16T05:55:33.519Z"
   },
   {
    "duration": 37,
    "start_time": "2022-05-16T05:55:33.536Z"
   },
   {
    "duration": 631,
    "start_time": "2022-05-16T05:55:33.575Z"
   },
   {
    "duration": 14,
    "start_time": "2022-05-16T05:55:34.209Z"
   },
   {
    "duration": 27877,
    "start_time": "2022-05-16T05:55:34.225Z"
   },
   {
    "duration": 26448,
    "start_time": "2022-05-16T05:56:02.104Z"
   },
   {
    "duration": 14,
    "start_time": "2022-05-16T05:56:28.557Z"
   },
   {
    "duration": 2198,
    "start_time": "2022-05-16T05:56:28.574Z"
   },
   {
    "duration": 0,
    "start_time": "2022-05-16T05:56:30.774Z"
   },
   {
    "duration": 0,
    "start_time": "2022-05-16T05:56:30.776Z"
   },
   {
    "duration": 0,
    "start_time": "2022-05-16T05:56:30.778Z"
   },
   {
    "duration": 0,
    "start_time": "2022-05-16T05:56:30.779Z"
   },
   {
    "duration": 0,
    "start_time": "2022-05-16T05:56:30.780Z"
   },
   {
    "duration": 0,
    "start_time": "2022-05-16T05:56:30.782Z"
   },
   {
    "duration": 0,
    "start_time": "2022-05-16T05:56:30.783Z"
   },
   {
    "duration": 0,
    "start_time": "2022-05-16T05:56:30.785Z"
   },
   {
    "duration": 0,
    "start_time": "2022-05-16T05:56:30.788Z"
   },
   {
    "duration": 0,
    "start_time": "2022-05-16T05:56:30.789Z"
   },
   {
    "duration": 0,
    "start_time": "2022-05-16T05:56:30.791Z"
   },
   {
    "duration": 0,
    "start_time": "2022-05-16T05:56:30.792Z"
   },
   {
    "duration": 0,
    "start_time": "2022-05-16T05:56:30.794Z"
   },
   {
    "duration": 0,
    "start_time": "2022-05-16T05:56:30.795Z"
   },
   {
    "duration": 0,
    "start_time": "2022-05-16T05:56:30.797Z"
   },
   {
    "duration": 0,
    "start_time": "2022-05-16T05:56:30.798Z"
   },
   {
    "duration": 0,
    "start_time": "2022-05-16T05:56:30.800Z"
   },
   {
    "duration": 0,
    "start_time": "2022-05-16T05:56:30.802Z"
   },
   {
    "duration": 0,
    "start_time": "2022-05-16T05:56:30.803Z"
   },
   {
    "duration": 0,
    "start_time": "2022-05-16T05:56:30.804Z"
   },
   {
    "duration": 0,
    "start_time": "2022-05-16T05:56:30.806Z"
   },
   {
    "duration": 0,
    "start_time": "2022-05-16T05:56:30.808Z"
   },
   {
    "duration": 0,
    "start_time": "2022-05-16T05:56:30.809Z"
   },
   {
    "duration": 0,
    "start_time": "2022-05-16T05:56:30.811Z"
   },
   {
    "duration": 0,
    "start_time": "2022-05-16T05:56:30.857Z"
   },
   {
    "duration": 0,
    "start_time": "2022-05-16T05:56:30.859Z"
   },
   {
    "duration": 1,
    "start_time": "2022-05-16T05:56:30.860Z"
   },
   {
    "duration": 0,
    "start_time": "2022-05-16T05:56:30.863Z"
   },
   {
    "duration": 0,
    "start_time": "2022-05-16T05:56:30.864Z"
   },
   {
    "duration": 13,
    "start_time": "2022-05-16T05:56:51.605Z"
   },
   {
    "duration": 13,
    "start_time": "2022-05-16T05:57:16.566Z"
   },
   {
    "duration": 12,
    "start_time": "2022-05-16T05:57:29.690Z"
   },
   {
    "duration": 11,
    "start_time": "2022-05-16T05:57:43.992Z"
   },
   {
    "duration": 11,
    "start_time": "2022-05-16T05:57:50.838Z"
   },
   {
    "duration": 13,
    "start_time": "2022-05-16T05:58:09.096Z"
   },
   {
    "duration": 13,
    "start_time": "2022-05-16T05:58:32.302Z"
   },
   {
    "duration": 16,
    "start_time": "2022-05-16T05:58:45.062Z"
   },
   {
    "duration": 12,
    "start_time": "2022-05-16T05:59:13.279Z"
   },
   {
    "duration": 27116,
    "start_time": "2022-05-16T05:59:52.077Z"
   },
   {
    "duration": 15,
    "start_time": "2022-05-16T06:00:54.522Z"
   },
   {
    "duration": 37,
    "start_time": "2022-05-16T06:01:08.980Z"
   },
   {
    "duration": 22,
    "start_time": "2022-05-16T06:01:22.887Z"
   },
   {
    "duration": 564,
    "start_time": "2022-05-16T06:02:08.693Z"
   },
   {
    "duration": 552,
    "start_time": "2022-05-16T06:03:28.484Z"
   },
   {
    "duration": 27,
    "start_time": "2022-05-16T06:03:58.796Z"
   },
   {
    "duration": 26,
    "start_time": "2022-05-16T06:04:26.698Z"
   },
   {
    "duration": 27,
    "start_time": "2022-05-16T06:04:37.810Z"
   },
   {
    "duration": 37,
    "start_time": "2022-05-16T06:04:55.852Z"
   },
   {
    "duration": 2319,
    "start_time": "2022-05-16T06:05:01.047Z"
   },
   {
    "duration": 60,
    "start_time": "2022-05-16T06:05:03.369Z"
   },
   {
    "duration": 6,
    "start_time": "2022-05-16T06:05:03.432Z"
   },
   {
    "duration": 9,
    "start_time": "2022-05-16T06:05:03.455Z"
   },
   {
    "duration": 12,
    "start_time": "2022-05-16T06:05:03.466Z"
   },
   {
    "duration": 16,
    "start_time": "2022-05-16T06:05:03.481Z"
   },
   {
    "duration": 346,
    "start_time": "2022-05-16T06:05:03.499Z"
   },
   {
    "duration": 17,
    "start_time": "2022-05-16T06:05:03.856Z"
   },
   {
    "duration": 13,
    "start_time": "2022-05-16T06:05:03.875Z"
   },
   {
    "duration": 15,
    "start_time": "2022-05-16T06:05:03.892Z"
   },
   {
    "duration": 161,
    "start_time": "2022-05-16T06:05:03.909Z"
   },
   {
    "duration": 153,
    "start_time": "2022-05-16T06:05:04.073Z"
   },
   {
    "duration": 99,
    "start_time": "2022-05-16T06:05:04.228Z"
   },
   {
    "duration": 33,
    "start_time": "2022-05-16T06:05:04.330Z"
   },
   {
    "duration": 16,
    "start_time": "2022-05-16T06:05:04.365Z"
   },
   {
    "duration": 74,
    "start_time": "2022-05-16T06:05:04.383Z"
   },
   {
    "duration": 6,
    "start_time": "2022-05-16T06:05:04.460Z"
   },
   {
    "duration": 22,
    "start_time": "2022-05-16T06:05:04.468Z"
   },
   {
    "duration": 10,
    "start_time": "2022-05-16T06:05:04.492Z"
   },
   {
    "duration": 60,
    "start_time": "2022-05-16T06:05:04.505Z"
   },
   {
    "duration": 227,
    "start_time": "2022-05-16T06:05:04.568Z"
   },
   {
    "duration": 14,
    "start_time": "2022-05-16T06:05:04.797Z"
   },
   {
    "duration": 10,
    "start_time": "2022-05-16T06:05:04.814Z"
   },
   {
    "duration": 448,
    "start_time": "2022-05-16T06:05:04.826Z"
   },
   {
    "duration": 670,
    "start_time": "2022-05-16T06:05:05.277Z"
   },
   {
    "duration": 8,
    "start_time": "2022-05-16T06:05:05.949Z"
   },
   {
    "duration": 4778,
    "start_time": "2022-05-16T06:05:05.960Z"
   },
   {
    "duration": 24,
    "start_time": "2022-05-16T06:05:10.744Z"
   },
   {
    "duration": 23,
    "start_time": "2022-05-16T06:05:10.770Z"
   },
   {
    "duration": 645,
    "start_time": "2022-05-16T06:05:10.796Z"
   },
   {
    "duration": 23,
    "start_time": "2022-05-16T06:05:11.443Z"
   },
   {
    "duration": 29599,
    "start_time": "2022-05-16T06:05:11.468Z"
   },
   {
    "duration": 26177,
    "start_time": "2022-05-16T06:05:41.070Z"
   },
   {
    "duration": 44,
    "start_time": "2022-05-16T06:06:07.249Z"
   },
   {
    "duration": 2432,
    "start_time": "2022-05-16T06:06:07.295Z"
   },
   {
    "duration": 0,
    "start_time": "2022-05-16T06:06:09.730Z"
   },
   {
    "duration": 0,
    "start_time": "2022-05-16T06:06:09.732Z"
   },
   {
    "duration": 0,
    "start_time": "2022-05-16T06:06:09.734Z"
   },
   {
    "duration": 0,
    "start_time": "2022-05-16T06:06:09.735Z"
   },
   {
    "duration": 0,
    "start_time": "2022-05-16T06:06:09.737Z"
   },
   {
    "duration": 0,
    "start_time": "2022-05-16T06:06:09.738Z"
   },
   {
    "duration": 1,
    "start_time": "2022-05-16T06:06:09.740Z"
   },
   {
    "duration": 0,
    "start_time": "2022-05-16T06:06:09.742Z"
   },
   {
    "duration": 0,
    "start_time": "2022-05-16T06:06:09.743Z"
   },
   {
    "duration": 0,
    "start_time": "2022-05-16T06:06:09.745Z"
   },
   {
    "duration": 0,
    "start_time": "2022-05-16T06:06:09.746Z"
   },
   {
    "duration": 0,
    "start_time": "2022-05-16T06:06:09.748Z"
   },
   {
    "duration": 0,
    "start_time": "2022-05-16T06:06:09.749Z"
   },
   {
    "duration": 0,
    "start_time": "2022-05-16T06:06:09.751Z"
   },
   {
    "duration": 0,
    "start_time": "2022-05-16T06:06:09.752Z"
   },
   {
    "duration": 0,
    "start_time": "2022-05-16T06:06:09.754Z"
   },
   {
    "duration": 0,
    "start_time": "2022-05-16T06:06:09.756Z"
   },
   {
    "duration": 0,
    "start_time": "2022-05-16T06:06:09.758Z"
   },
   {
    "duration": 0,
    "start_time": "2022-05-16T06:06:09.759Z"
   },
   {
    "duration": 0,
    "start_time": "2022-05-16T06:06:09.761Z"
   },
   {
    "duration": 0,
    "start_time": "2022-05-16T06:06:09.762Z"
   },
   {
    "duration": 0,
    "start_time": "2022-05-16T06:06:09.764Z"
   },
   {
    "duration": 0,
    "start_time": "2022-05-16T06:06:09.766Z"
   },
   {
    "duration": 0,
    "start_time": "2022-05-16T06:06:09.768Z"
   },
   {
    "duration": 0,
    "start_time": "2022-05-16T06:06:09.769Z"
   },
   {
    "duration": 0,
    "start_time": "2022-05-16T06:06:09.771Z"
   },
   {
    "duration": 0,
    "start_time": "2022-05-16T06:06:09.773Z"
   },
   {
    "duration": 0,
    "start_time": "2022-05-16T06:06:09.775Z"
   },
   {
    "duration": 0,
    "start_time": "2022-05-16T06:06:09.776Z"
   },
   {
    "duration": 39,
    "start_time": "2022-05-16T06:06:30.350Z"
   },
   {
    "duration": 2904,
    "start_time": "2022-05-16T06:06:52.885Z"
   },
   {
    "duration": 55,
    "start_time": "2022-05-16T06:07:17.037Z"
   },
   {
    "duration": 19,
    "start_time": "2022-05-16T06:08:03.245Z"
   },
   {
    "duration": 32,
    "start_time": "2022-05-16T06:09:13.340Z"
   },
   {
    "duration": 57,
    "start_time": "2022-05-16T06:09:43.380Z"
   },
   {
    "duration": 26,
    "start_time": "2022-05-16T06:09:48.231Z"
   },
   {
    "duration": 6,
    "start_time": "2022-05-16T06:10:08.317Z"
   },
   {
    "duration": 23,
    "start_time": "2022-05-16T06:10:17.022Z"
   },
   {
    "duration": 186,
    "start_time": "2022-05-16T06:10:52.991Z"
   },
   {
    "duration": 21,
    "start_time": "2022-05-16T06:11:21.429Z"
   },
   {
    "duration": 15,
    "start_time": "2022-05-16T06:11:42.687Z"
   },
   {
    "duration": 22,
    "start_time": "2022-05-16T06:11:54.668Z"
   },
   {
    "duration": 28,
    "start_time": "2022-05-16T06:12:06.685Z"
   },
   {
    "duration": 12,
    "start_time": "2022-05-16T06:12:59.060Z"
   },
   {
    "duration": 6,
    "start_time": "2022-05-16T06:13:05.260Z"
   },
   {
    "duration": 17,
    "start_time": "2022-05-16T06:13:11.251Z"
   },
   {
    "duration": 14,
    "start_time": "2022-05-16T06:13:25.004Z"
   },
   {
    "duration": 16,
    "start_time": "2022-05-16T06:15:20.876Z"
   },
   {
    "duration": 14,
    "start_time": "2022-05-16T06:16:17.620Z"
   },
   {
    "duration": 28,
    "start_time": "2022-05-16T06:16:30.715Z"
   },
   {
    "duration": 11,
    "start_time": "2022-05-16T06:16:36.747Z"
   },
   {
    "duration": 11,
    "start_time": "2022-05-16T06:17:23.918Z"
   },
   {
    "duration": 7,
    "start_time": "2022-05-16T06:18:47.876Z"
   },
   {
    "duration": 14,
    "start_time": "2022-05-16T06:18:55.123Z"
   },
   {
    "duration": 15,
    "start_time": "2022-05-16T06:18:59.667Z"
   },
   {
    "duration": 26,
    "start_time": "2022-05-16T06:19:08.675Z"
   },
   {
    "duration": 20,
    "start_time": "2022-05-16T06:19:15.114Z"
   },
   {
    "duration": 28,
    "start_time": "2022-05-16T06:19:31.450Z"
   },
   {
    "duration": 11,
    "start_time": "2022-05-16T06:19:33.505Z"
   },
   {
    "duration": 15,
    "start_time": "2022-05-16T06:19:50.915Z"
   },
   {
    "duration": 7,
    "start_time": "2022-05-16T06:23:19.049Z"
   },
   {
    "duration": 26,
    "start_time": "2022-05-16T06:23:52.448Z"
   },
   {
    "duration": 25,
    "start_time": "2022-05-16T06:24:02.505Z"
   },
   {
    "duration": 9,
    "start_time": "2022-05-16T06:24:45.600Z"
   },
   {
    "duration": 9,
    "start_time": "2022-05-16T06:24:53.868Z"
   },
   {
    "duration": 13,
    "start_time": "2022-05-16T06:25:05.677Z"
   },
   {
    "duration": 10,
    "start_time": "2022-05-16T06:25:12.473Z"
   },
   {
    "duration": 26,
    "start_time": "2022-05-16T06:25:44.328Z"
   },
   {
    "duration": 24,
    "start_time": "2022-05-16T06:26:09.793Z"
   },
   {
    "duration": 25,
    "start_time": "2022-05-16T06:26:43.810Z"
   },
   {
    "duration": 24,
    "start_time": "2022-05-16T06:28:45.497Z"
   },
   {
    "duration": 21,
    "start_time": "2022-05-16T06:29:54.896Z"
   },
   {
    "duration": 22,
    "start_time": "2022-05-16T06:31:25.903Z"
   },
   {
    "duration": 29,
    "start_time": "2022-05-16T06:32:08.334Z"
   },
   {
    "duration": 22,
    "start_time": "2022-05-16T06:32:10.656Z"
   },
   {
    "duration": 36,
    "start_time": "2022-05-16T06:32:17.556Z"
   },
   {
    "duration": 66,
    "start_time": "2022-05-16T06:32:20.632Z"
   },
   {
    "duration": 22,
    "start_time": "2022-05-16T06:32:22.903Z"
   },
   {
    "duration": 25,
    "start_time": "2022-05-16T06:32:59.920Z"
   },
   {
    "duration": 26,
    "start_time": "2022-05-16T06:33:16.448Z"
   },
   {
    "duration": 29,
    "start_time": "2022-05-16T06:34:04.208Z"
   },
   {
    "duration": 29,
    "start_time": "2022-05-16T06:34:14.840Z"
   },
   {
    "duration": 27,
    "start_time": "2022-05-16T06:34:16.614Z"
   },
   {
    "duration": 51,
    "start_time": "2022-05-16T06:34:46.695Z"
   },
   {
    "duration": 63,
    "start_time": "2022-05-16T06:35:04.782Z"
   },
   {
    "duration": 61,
    "start_time": "2022-05-16T06:39:21.526Z"
   },
   {
    "duration": 288,
    "start_time": "2022-05-16T06:40:29.502Z"
   },
   {
    "duration": 403,
    "start_time": "2022-05-16T06:41:57.735Z"
   },
   {
    "duration": 311,
    "start_time": "2022-05-16T06:42:24.374Z"
   },
   {
    "duration": 60,
    "start_time": "2022-05-16T06:51:50.973Z"
   },
   {
    "duration": 2649,
    "start_time": "2022-05-16T06:52:12.061Z"
   },
   {
    "duration": 2130,
    "start_time": "2022-05-16T06:53:07.505Z"
   },
   {
    "duration": 36,
    "start_time": "2022-05-16T06:53:20.356Z"
   },
   {
    "duration": 61,
    "start_time": "2022-05-16T06:53:23.276Z"
   },
   {
    "duration": 92,
    "start_time": "2022-05-16T06:53:27.138Z"
   },
   {
    "duration": 89,
    "start_time": "2022-05-16T06:54:19.436Z"
   },
   {
    "duration": 44,
    "start_time": "2022-05-16T06:54:38.372Z"
   },
   {
    "duration": 63,
    "start_time": "2022-05-16T06:54:41.363Z"
   },
   {
    "duration": 98,
    "start_time": "2022-05-16T06:54:44.466Z"
   },
   {
    "duration": 1693,
    "start_time": "2022-05-16T07:01:06.852Z"
   },
   {
    "duration": 41,
    "start_time": "2022-05-16T07:01:08.548Z"
   },
   {
    "duration": 6,
    "start_time": "2022-05-16T07:01:08.592Z"
   },
   {
    "duration": 40,
    "start_time": "2022-05-16T07:01:08.600Z"
   },
   {
    "duration": 29,
    "start_time": "2022-05-16T07:01:08.643Z"
   },
   {
    "duration": 7,
    "start_time": "2022-05-16T07:01:08.674Z"
   },
   {
    "duration": 329,
    "start_time": "2022-05-16T07:01:08.683Z"
   },
   {
    "duration": 17,
    "start_time": "2022-05-16T07:01:09.014Z"
   },
   {
    "duration": 15,
    "start_time": "2022-05-16T07:01:09.057Z"
   },
   {
    "duration": 24,
    "start_time": "2022-05-16T07:01:09.075Z"
   },
   {
    "duration": 190,
    "start_time": "2022-05-16T07:01:09.101Z"
   },
   {
    "duration": 205,
    "start_time": "2022-05-16T07:01:09.293Z"
   },
   {
    "duration": 178,
    "start_time": "2022-05-16T07:01:09.501Z"
   },
   {
    "duration": 15,
    "start_time": "2022-05-16T07:01:09.686Z"
   },
   {
    "duration": 14,
    "start_time": "2022-05-16T07:01:09.703Z"
   },
   {
    "duration": 63,
    "start_time": "2022-05-16T07:01:09.719Z"
   },
   {
    "duration": 6,
    "start_time": "2022-05-16T07:01:09.785Z"
   },
   {
    "duration": 18,
    "start_time": "2022-05-16T07:01:09.794Z"
   },
   {
    "duration": 44,
    "start_time": "2022-05-16T07:01:09.814Z"
   },
   {
    "duration": 19,
    "start_time": "2022-05-16T07:01:09.861Z"
   },
   {
    "duration": 323,
    "start_time": "2022-05-16T07:01:09.882Z"
   },
   {
    "duration": 18,
    "start_time": "2022-05-16T07:01:10.207Z"
   },
   {
    "duration": 34,
    "start_time": "2022-05-16T07:01:10.228Z"
   },
   {
    "duration": 473,
    "start_time": "2022-05-16T07:01:10.265Z"
   },
   {
    "duration": 943,
    "start_time": "2022-05-16T07:01:10.740Z"
   },
   {
    "duration": 6,
    "start_time": "2022-05-16T07:01:11.686Z"
   },
   {
    "duration": 4043,
    "start_time": "2022-05-16T07:01:11.696Z"
   },
   {
    "duration": 28,
    "start_time": "2022-05-16T07:01:15.742Z"
   },
   {
    "duration": 23,
    "start_time": "2022-05-16T07:01:15.773Z"
   },
   {
    "duration": 651,
    "start_time": "2022-05-16T07:01:15.800Z"
   },
   {
    "duration": 471,
    "start_time": "2022-05-16T07:01:16.457Z"
   },
   {
    "duration": 445,
    "start_time": "2022-05-16T07:01:16.930Z"
   },
   {
    "duration": 392,
    "start_time": "2022-05-16T07:01:17.377Z"
   },
   {
    "duration": 309,
    "start_time": "2022-05-16T07:01:17.771Z"
   },
   {
    "duration": 36,
    "start_time": "2022-05-16T07:01:18.083Z"
   },
   {
    "duration": 5,
    "start_time": "2022-05-16T07:01:18.121Z"
   },
   {
    "duration": 632,
    "start_time": "2022-05-16T07:01:18.128Z"
   },
   {
    "duration": 347,
    "start_time": "2022-05-16T07:01:18.762Z"
   },
   {
    "duration": 73,
    "start_time": "2022-05-16T07:01:19.111Z"
   },
   {
    "duration": 38,
    "start_time": "2022-05-16T07:01:19.186Z"
   },
   {
    "duration": 62,
    "start_time": "2022-05-16T07:01:19.229Z"
   },
   {
    "duration": 7,
    "start_time": "2022-05-16T07:01:19.294Z"
   },
   {
    "duration": 471,
    "start_time": "2022-05-16T07:01:19.304Z"
   },
   {
    "duration": 325,
    "start_time": "2022-05-16T07:01:19.778Z"
   },
   {
    "duration": 577,
    "start_time": "2022-05-16T07:01:20.106Z"
   },
   {
    "duration": 13,
    "start_time": "2022-05-16T07:01:20.685Z"
   },
   {
    "duration": 12,
    "start_time": "2022-05-16T07:01:20.700Z"
   },
   {
    "duration": 593,
    "start_time": "2022-05-16T07:01:20.714Z"
   },
   {
    "duration": 18,
    "start_time": "2022-05-16T07:01:21.309Z"
   },
   {
    "duration": 186,
    "start_time": "2022-05-16T07:01:21.329Z"
   },
   {
    "duration": 388,
    "start_time": "2022-05-16T07:01:21.517Z"
   },
   {
    "duration": 1030,
    "start_time": "2022-05-16T07:01:21.907Z"
   },
   {
    "duration": 18,
    "start_time": "2022-05-16T07:01:22.939Z"
   },
   {
    "duration": 6,
    "start_time": "2022-05-16T07:01:22.959Z"
   },
   {
    "duration": 14,
    "start_time": "2022-05-16T07:01:22.967Z"
   },
   {
    "duration": 5,
    "start_time": "2022-05-16T07:01:22.984Z"
   },
   {
    "duration": 18,
    "start_time": "2022-05-16T07:01:22.991Z"
   },
   {
    "duration": 27,
    "start_time": "2022-05-16T07:01:23.057Z"
   },
   {
    "duration": 10,
    "start_time": "2022-05-16T07:01:23.086Z"
   },
   {
    "duration": 81,
    "start_time": "2022-05-16T07:14:22.187Z"
   },
   {
    "duration": 111,
    "start_time": "2022-05-16T07:15:00.982Z"
   },
   {
    "duration": 109,
    "start_time": "2022-05-16T07:15:54.827Z"
   },
   {
    "duration": 4416,
    "start_time": "2022-05-16T07:24:59.530Z"
   },
   {
    "duration": 160,
    "start_time": "2022-05-16T07:30:15.860Z"
   },
   {
    "duration": 6753,
    "start_time": "2022-05-16T07:30:24.975Z"
   },
   {
    "duration": 1653,
    "start_time": "2022-05-16T07:32:51.081Z"
   },
   {
    "duration": 47,
    "start_time": "2022-05-16T07:32:52.737Z"
   },
   {
    "duration": 5,
    "start_time": "2022-05-16T07:32:52.787Z"
   },
   {
    "duration": 6,
    "start_time": "2022-05-16T07:32:52.795Z"
   },
   {
    "duration": 19,
    "start_time": "2022-05-16T07:32:52.803Z"
   },
   {
    "duration": 37,
    "start_time": "2022-05-16T07:32:52.824Z"
   },
   {
    "duration": 350,
    "start_time": "2022-05-16T07:32:52.864Z"
   },
   {
    "duration": 17,
    "start_time": "2022-05-16T07:32:53.216Z"
   },
   {
    "duration": 43,
    "start_time": "2022-05-16T07:32:53.235Z"
   },
   {
    "duration": 15,
    "start_time": "2022-05-16T07:32:53.282Z"
   },
   {
    "duration": 142,
    "start_time": "2022-05-16T07:32:53.299Z"
   },
   {
    "duration": 156,
    "start_time": "2022-05-16T07:32:53.443Z"
   },
   {
    "duration": 103,
    "start_time": "2022-05-16T07:32:53.601Z"
   },
   {
    "duration": 16,
    "start_time": "2022-05-16T07:32:53.706Z"
   },
   {
    "duration": 43,
    "start_time": "2022-05-16T07:32:53.724Z"
   },
   {
    "duration": 47,
    "start_time": "2022-05-16T07:32:53.770Z"
   },
   {
    "duration": 7,
    "start_time": "2022-05-16T07:32:53.819Z"
   },
   {
    "duration": 47,
    "start_time": "2022-05-16T07:32:53.827Z"
   },
   {
    "duration": 11,
    "start_time": "2022-05-16T07:32:53.876Z"
   },
   {
    "duration": 17,
    "start_time": "2022-05-16T07:32:53.889Z"
   },
   {
    "duration": 235,
    "start_time": "2022-05-16T07:32:53.908Z"
   },
   {
    "duration": 22,
    "start_time": "2022-05-16T07:32:54.145Z"
   },
   {
    "duration": 12,
    "start_time": "2022-05-16T07:32:54.170Z"
   },
   {
    "duration": 339,
    "start_time": "2022-05-16T07:32:54.184Z"
   },
   {
    "duration": 580,
    "start_time": "2022-05-16T07:32:54.525Z"
   },
   {
    "duration": 6,
    "start_time": "2022-05-16T07:32:55.107Z"
   },
   {
    "duration": 4212,
    "start_time": "2022-05-16T07:32:55.115Z"
   },
   {
    "duration": 26,
    "start_time": "2022-05-16T07:32:59.332Z"
   },
   {
    "duration": 118,
    "start_time": "2022-05-16T07:32:59.361Z"
   },
   {
    "duration": 23,
    "start_time": "2022-05-16T07:32:59.482Z"
   },
   {
    "duration": 783,
    "start_time": "2022-05-16T07:32:59.508Z"
   },
   {
    "duration": 508,
    "start_time": "2022-05-16T07:33:00.294Z"
   },
   {
    "duration": 480,
    "start_time": "2022-05-16T07:33:00.805Z"
   },
   {
    "duration": 401,
    "start_time": "2022-05-16T07:33:01.287Z"
   },
   {
    "duration": 323,
    "start_time": "2022-05-16T07:33:01.690Z"
   },
   {
    "duration": 50,
    "start_time": "2022-05-16T07:33:02.016Z"
   },
   {
    "duration": 6,
    "start_time": "2022-05-16T07:33:02.069Z"
   },
   {
    "duration": 660,
    "start_time": "2022-05-16T07:33:02.077Z"
   },
   {
    "duration": 368,
    "start_time": "2022-05-16T07:33:02.739Z"
   },
   {
    "duration": 79,
    "start_time": "2022-05-16T07:33:03.109Z"
   },
   {
    "duration": 38,
    "start_time": "2022-05-16T07:33:03.191Z"
   },
   {
    "duration": 68,
    "start_time": "2022-05-16T07:33:03.231Z"
   },
   {
    "duration": 6,
    "start_time": "2022-05-16T07:33:03.301Z"
   },
   {
    "duration": 495,
    "start_time": "2022-05-16T07:33:03.309Z"
   },
   {
    "duration": 332,
    "start_time": "2022-05-16T07:33:03.807Z"
   },
   {
    "duration": 610,
    "start_time": "2022-05-16T07:33:04.141Z"
   },
   {
    "duration": 17,
    "start_time": "2022-05-16T07:33:04.757Z"
   },
   {
    "duration": 10,
    "start_time": "2022-05-16T07:33:04.777Z"
   },
   {
    "duration": 612,
    "start_time": "2022-05-16T07:33:04.789Z"
   },
   {
    "duration": 21,
    "start_time": "2022-05-16T07:33:05.403Z"
   },
   {
    "duration": 192,
    "start_time": "2022-05-16T07:33:05.426Z"
   },
   {
    "duration": 481,
    "start_time": "2022-05-16T07:33:05.621Z"
   },
   {
    "duration": 1390,
    "start_time": "2022-05-16T07:33:06.104Z"
   },
   {
    "duration": 10,
    "start_time": "2022-05-16T07:33:07.496Z"
   },
   {
    "duration": 12,
    "start_time": "2022-05-16T07:33:07.508Z"
   },
   {
    "duration": 30,
    "start_time": "2022-05-16T07:33:07.521Z"
   },
   {
    "duration": 11,
    "start_time": "2022-05-16T07:33:07.561Z"
   },
   {
    "duration": 20,
    "start_time": "2022-05-16T07:33:07.574Z"
   },
   {
    "duration": 19,
    "start_time": "2022-05-16T07:33:07.596Z"
   },
   {
    "duration": 44,
    "start_time": "2022-05-16T07:33:07.617Z"
   },
   {
    "duration": 2006,
    "start_time": "2022-05-17T02:50:35.764Z"
   },
   {
    "duration": 54,
    "start_time": "2022-05-17T02:50:37.773Z"
   },
   {
    "duration": 7,
    "start_time": "2022-05-17T02:50:37.830Z"
   },
   {
    "duration": 19,
    "start_time": "2022-05-17T02:50:37.841Z"
   },
   {
    "duration": 17,
    "start_time": "2022-05-17T02:50:37.863Z"
   },
   {
    "duration": 9,
    "start_time": "2022-05-17T02:50:37.883Z"
   },
   {
    "duration": 361,
    "start_time": "2022-05-17T02:50:37.894Z"
   },
   {
    "duration": 17,
    "start_time": "2022-05-17T02:50:38.257Z"
   },
   {
    "duration": 15,
    "start_time": "2022-05-17T02:50:38.277Z"
   },
   {
    "duration": 15,
    "start_time": "2022-05-17T02:50:38.325Z"
   },
   {
    "duration": 141,
    "start_time": "2022-05-17T02:50:38.343Z"
   },
   {
    "duration": 153,
    "start_time": "2022-05-17T02:50:38.487Z"
   },
   {
    "duration": 103,
    "start_time": "2022-05-17T02:50:38.642Z"
   },
   {
    "duration": 17,
    "start_time": "2022-05-17T02:50:38.748Z"
   },
   {
    "duration": 17,
    "start_time": "2022-05-17T02:50:38.767Z"
   },
   {
    "duration": 74,
    "start_time": "2022-05-17T02:50:38.786Z"
   },
   {
    "duration": 7,
    "start_time": "2022-05-17T02:50:38.862Z"
   },
   {
    "duration": 18,
    "start_time": "2022-05-17T02:50:38.872Z"
   },
   {
    "duration": 39,
    "start_time": "2022-05-17T02:50:38.893Z"
   },
   {
    "duration": 19,
    "start_time": "2022-05-17T02:50:38.934Z"
   },
   {
    "duration": 235,
    "start_time": "2022-05-17T02:50:38.955Z"
   },
   {
    "duration": 17,
    "start_time": "2022-05-17T02:50:39.193Z"
   },
   {
    "duration": 14,
    "start_time": "2022-05-17T02:50:39.225Z"
   },
   {
    "duration": 331,
    "start_time": "2022-05-17T02:50:39.241Z"
   },
   {
    "duration": 560,
    "start_time": "2022-05-17T02:50:39.576Z"
   },
   {
    "duration": 6,
    "start_time": "2022-05-17T02:50:40.139Z"
   },
   {
    "duration": 4290,
    "start_time": "2022-05-17T02:50:40.148Z"
   },
   {
    "duration": 14,
    "start_time": "2022-05-17T02:50:44.444Z"
   },
   {
    "duration": 124,
    "start_time": "2022-05-17T02:50:44.460Z"
   },
   {
    "duration": 39,
    "start_time": "2022-05-17T02:50:44.587Z"
   },
   {
    "duration": 636,
    "start_time": "2022-05-17T02:50:44.628Z"
   },
   {
    "duration": 560,
    "start_time": "2022-05-17T02:50:45.266Z"
   },
   {
    "duration": 368,
    "start_time": "2022-05-17T02:50:45.828Z"
   },
   {
    "duration": 379,
    "start_time": "2022-05-17T02:50:46.199Z"
   },
   {
    "duration": 315,
    "start_time": "2022-05-17T02:50:46.580Z"
   },
   {
    "duration": 51,
    "start_time": "2022-05-17T02:50:46.897Z"
   },
   {
    "duration": 6,
    "start_time": "2022-05-17T02:50:46.950Z"
   },
   {
    "duration": 620,
    "start_time": "2022-05-17T02:50:46.958Z"
   },
   {
    "duration": 358,
    "start_time": "2022-05-17T02:50:47.580Z"
   },
   {
    "duration": 61,
    "start_time": "2022-05-17T02:50:47.940Z"
   },
   {
    "duration": 55,
    "start_time": "2022-05-17T02:50:48.003Z"
   },
   {
    "duration": 65,
    "start_time": "2022-05-17T02:50:48.061Z"
   },
   {
    "duration": 6,
    "start_time": "2022-05-17T02:50:48.128Z"
   },
   {
    "duration": 454,
    "start_time": "2022-05-17T02:50:48.136Z"
   },
   {
    "duration": 321,
    "start_time": "2022-05-17T02:50:48.592Z"
   },
   {
    "duration": 591,
    "start_time": "2022-05-17T02:50:48.914Z"
   },
   {
    "duration": 21,
    "start_time": "2022-05-17T02:50:49.507Z"
   },
   {
    "duration": 11,
    "start_time": "2022-05-17T02:50:49.531Z"
   },
   {
    "duration": 689,
    "start_time": "2022-05-17T02:50:49.544Z"
   },
   {
    "duration": 19,
    "start_time": "2022-05-17T02:50:50.236Z"
   },
   {
    "duration": 193,
    "start_time": "2022-05-17T02:50:50.258Z"
   },
   {
    "duration": 298,
    "start_time": "2022-05-17T02:50:50.453Z"
   },
   {
    "duration": 1030,
    "start_time": "2022-05-17T02:50:50.753Z"
   },
   {
    "duration": 11,
    "start_time": "2022-05-17T02:50:51.785Z"
   },
   {
    "duration": 27,
    "start_time": "2022-05-17T02:50:51.798Z"
   },
   {
    "duration": 20,
    "start_time": "2022-05-17T02:50:51.828Z"
   },
   {
    "duration": 10,
    "start_time": "2022-05-17T02:50:51.850Z"
   },
   {
    "duration": 26,
    "start_time": "2022-05-17T02:50:51.862Z"
   },
   {
    "duration": 24,
    "start_time": "2022-05-17T02:50:51.924Z"
   },
   {
    "duration": 10,
    "start_time": "2022-05-17T02:50:51.951Z"
   },
   {
    "duration": 21,
    "start_time": "2022-05-17T02:52:49.841Z"
   },
   {
    "duration": 38,
    "start_time": "2022-05-17T03:02:07.958Z"
   },
   {
    "duration": 1082,
    "start_time": "2022-05-18T13:54:49.592Z"
   },
   {
    "duration": 83,
    "start_time": "2022-05-18T13:54:50.676Z"
   },
   {
    "duration": 4,
    "start_time": "2022-05-18T13:54:50.761Z"
   },
   {
    "duration": 6,
    "start_time": "2022-05-18T13:54:50.768Z"
   },
   {
    "duration": 8,
    "start_time": "2022-05-18T13:54:50.775Z"
   },
   {
    "duration": 7,
    "start_time": "2022-05-18T13:54:50.784Z"
   },
   {
    "duration": 491,
    "start_time": "2022-05-18T13:54:50.792Z"
   },
   {
    "duration": 11,
    "start_time": "2022-05-18T13:54:51.285Z"
   },
   {
    "duration": 10,
    "start_time": "2022-05-18T13:54:51.298Z"
   },
   {
    "duration": 15,
    "start_time": "2022-05-18T13:54:51.311Z"
   },
   {
    "duration": 102,
    "start_time": "2022-05-18T13:54:51.327Z"
   },
   {
    "duration": 87,
    "start_time": "2022-05-18T13:54:51.431Z"
   },
   {
    "duration": 64,
    "start_time": "2022-05-18T13:54:51.520Z"
   },
   {
    "duration": 10,
    "start_time": "2022-05-18T13:54:51.586Z"
   },
   {
    "duration": 22,
    "start_time": "2022-05-18T13:54:51.597Z"
   },
   {
    "duration": 47,
    "start_time": "2022-05-18T13:54:51.620Z"
   },
   {
    "duration": 5,
    "start_time": "2022-05-18T13:54:51.668Z"
   },
   {
    "duration": 22,
    "start_time": "2022-05-18T13:54:51.674Z"
   },
   {
    "duration": 24,
    "start_time": "2022-05-18T13:54:51.697Z"
   },
   {
    "duration": 18,
    "start_time": "2022-05-18T13:54:51.722Z"
   },
   {
    "duration": 136,
    "start_time": "2022-05-18T13:54:51.741Z"
   },
   {
    "duration": 9,
    "start_time": "2022-05-18T13:54:51.879Z"
   },
   {
    "duration": 26,
    "start_time": "2022-05-18T13:54:51.890Z"
   },
   {
    "duration": 234,
    "start_time": "2022-05-18T13:54:51.917Z"
   },
   {
    "duration": 350,
    "start_time": "2022-05-18T13:54:52.159Z"
   },
   {
    "duration": 4,
    "start_time": "2022-05-18T13:54:52.510Z"
   },
   {
    "duration": 1963,
    "start_time": "2022-05-18T13:54:52.515Z"
   },
   {
    "duration": 9,
    "start_time": "2022-05-18T13:54:54.481Z"
   },
   {
    "duration": 91,
    "start_time": "2022-05-18T13:54:54.491Z"
   },
   {
    "duration": 14,
    "start_time": "2022-05-18T13:54:54.583Z"
   },
   {
    "duration": 355,
    "start_time": "2022-05-18T13:54:54.598Z"
   },
   {
    "duration": 280,
    "start_time": "2022-05-18T13:54:54.954Z"
   },
   {
    "duration": 225,
    "start_time": "2022-05-18T13:54:55.236Z"
   },
   {
    "duration": 222,
    "start_time": "2022-05-18T13:54:55.462Z"
   },
   {
    "duration": 164,
    "start_time": "2022-05-18T13:54:55.686Z"
   },
   {
    "duration": 24,
    "start_time": "2022-05-18T13:54:55.859Z"
   },
   {
    "duration": 20,
    "start_time": "2022-05-18T13:54:55.885Z"
   },
   {
    "duration": 395,
    "start_time": "2022-05-18T13:54:55.906Z"
   },
   {
    "duration": 271,
    "start_time": "2022-05-18T13:54:56.302Z"
   },
   {
    "duration": 35,
    "start_time": "2022-05-18T13:54:56.574Z"
   },
   {
    "duration": 30,
    "start_time": "2022-05-18T13:54:56.610Z"
   },
   {
    "duration": 60,
    "start_time": "2022-05-18T13:54:56.641Z"
   },
   {
    "duration": 16,
    "start_time": "2022-05-18T13:54:56.702Z"
   },
   {
    "duration": 279,
    "start_time": "2022-05-18T13:54:56.719Z"
   },
   {
    "duration": 168,
    "start_time": "2022-05-18T13:54:56.999Z"
   },
   {
    "duration": 305,
    "start_time": "2022-05-18T13:54:57.168Z"
   },
   {
    "duration": 8,
    "start_time": "2022-05-18T13:54:57.474Z"
   },
   {
    "duration": 17,
    "start_time": "2022-05-18T13:54:57.483Z"
   },
   {
    "duration": 318,
    "start_time": "2022-05-18T13:54:57.502Z"
   },
   {
    "duration": 13,
    "start_time": "2022-05-18T13:54:57.822Z"
   },
   {
    "duration": 123,
    "start_time": "2022-05-18T13:54:57.836Z"
   },
   {
    "duration": 190,
    "start_time": "2022-05-18T13:54:57.962Z"
   },
   {
    "duration": 576,
    "start_time": "2022-05-18T13:54:58.158Z"
   },
   {
    "duration": 398,
    "start_time": "2022-05-18T13:54:58.736Z"
   },
   {
    "duration": 8,
    "start_time": "2022-05-18T13:54:59.135Z"
   },
   {
    "duration": 15,
    "start_time": "2022-05-18T13:54:59.145Z"
   },
   {
    "duration": 22,
    "start_time": "2022-05-18T13:54:59.161Z"
   },
   {
    "duration": 18,
    "start_time": "2022-05-18T13:54:59.185Z"
   },
   {
    "duration": 30,
    "start_time": "2022-05-18T13:54:59.204Z"
   },
   {
    "duration": 25,
    "start_time": "2022-05-18T13:54:59.235Z"
   },
   {
    "duration": 28,
    "start_time": "2022-05-18T13:54:59.261Z"
   },
   {
    "duration": 81,
    "start_time": "2022-05-19T11:38:06.599Z"
   },
   {
    "duration": 1739,
    "start_time": "2022-05-19T11:38:13.702Z"
   },
   {
    "duration": 114,
    "start_time": "2022-05-19T11:38:15.444Z"
   },
   {
    "duration": 4,
    "start_time": "2022-05-19T11:38:15.560Z"
   },
   {
    "duration": 7,
    "start_time": "2022-05-19T11:38:15.566Z"
   },
   {
    "duration": 9,
    "start_time": "2022-05-19T11:38:15.574Z"
   },
   {
    "duration": 63,
    "start_time": "2022-05-19T11:38:15.584Z"
   },
   {
    "duration": 1053,
    "start_time": "2022-05-19T11:38:15.649Z"
   },
   {
    "duration": 10,
    "start_time": "2022-05-19T11:38:16.703Z"
   },
   {
    "duration": 12,
    "start_time": "2022-05-19T11:38:16.714Z"
   },
   {
    "duration": 14,
    "start_time": "2022-05-19T11:38:16.729Z"
   },
   {
    "duration": 96,
    "start_time": "2022-05-19T11:38:16.745Z"
   },
   {
    "duration": 141,
    "start_time": "2022-05-19T11:38:16.843Z"
   },
   {
    "duration": 86,
    "start_time": "2022-05-19T11:38:16.986Z"
   },
   {
    "duration": 14,
    "start_time": "2022-05-19T11:38:17.074Z"
   },
   {
    "duration": 68,
    "start_time": "2022-05-19T11:38:17.090Z"
   },
   {
    "duration": 229,
    "start_time": "2022-05-19T11:38:17.160Z"
   },
   {
    "duration": 5,
    "start_time": "2022-05-19T11:38:17.390Z"
   },
   {
    "duration": 17,
    "start_time": "2022-05-19T11:38:17.396Z"
   },
   {
    "duration": 9,
    "start_time": "2022-05-19T11:38:17.414Z"
   },
   {
    "duration": 35,
    "start_time": "2022-05-19T11:38:17.425Z"
   },
   {
    "duration": 154,
    "start_time": "2022-05-19T11:38:17.462Z"
   },
   {
    "duration": 10,
    "start_time": "2022-05-19T11:38:17.617Z"
   },
   {
    "duration": 21,
    "start_time": "2022-05-19T11:38:17.628Z"
   },
   {
    "duration": 290,
    "start_time": "2022-05-19T11:38:17.655Z"
   },
   {
    "duration": 375,
    "start_time": "2022-05-19T11:38:17.950Z"
   },
   {
    "duration": 4,
    "start_time": "2022-05-19T11:38:18.327Z"
   },
   {
    "duration": 2250,
    "start_time": "2022-05-19T11:38:18.332Z"
   },
   {
    "duration": 12,
    "start_time": "2022-05-19T11:38:20.587Z"
   },
   {
    "duration": 107,
    "start_time": "2022-05-19T11:38:20.601Z"
   },
   {
    "duration": 36,
    "start_time": "2022-05-19T11:38:20.710Z"
   },
   {
    "duration": 480,
    "start_time": "2022-05-19T11:38:20.749Z"
   },
   {
    "duration": 346,
    "start_time": "2022-05-19T11:38:21.231Z"
   },
   {
    "duration": 256,
    "start_time": "2022-05-19T11:38:21.579Z"
   },
   {
    "duration": 275,
    "start_time": "2022-05-19T11:38:21.837Z"
   },
   {
    "duration": 217,
    "start_time": "2022-05-19T11:38:22.113Z"
   },
   {
    "duration": 40,
    "start_time": "2022-05-19T11:38:22.332Z"
   },
   {
    "duration": 5,
    "start_time": "2022-05-19T11:38:22.374Z"
   },
   {
    "duration": 457,
    "start_time": "2022-05-19T11:38:22.381Z"
   },
   {
    "duration": 329,
    "start_time": "2022-05-19T11:38:22.841Z"
   },
   {
    "duration": 43,
    "start_time": "2022-05-19T11:38:23.171Z"
   },
   {
    "duration": 55,
    "start_time": "2022-05-19T11:38:23.216Z"
   },
   {
    "duration": 29,
    "start_time": "2022-05-19T11:38:23.273Z"
   },
   {
    "duration": 5,
    "start_time": "2022-05-19T11:38:23.304Z"
   },
   {
    "duration": 321,
    "start_time": "2022-05-19T11:38:23.310Z"
   },
   {
    "duration": 207,
    "start_time": "2022-05-19T11:38:23.632Z"
   },
   {
    "duration": 391,
    "start_time": "2022-05-19T11:38:23.841Z"
   },
   {
    "duration": 16,
    "start_time": "2022-05-19T11:38:24.234Z"
   },
   {
    "duration": 14,
    "start_time": "2022-05-19T11:38:24.252Z"
   },
   {
    "duration": 407,
    "start_time": "2022-05-19T11:38:24.269Z"
   },
   {
    "duration": 15,
    "start_time": "2022-05-19T11:38:24.677Z"
   },
   {
    "duration": 120,
    "start_time": "2022-05-19T11:38:24.693Z"
   },
   {
    "duration": 197,
    "start_time": "2022-05-19T11:38:24.814Z"
   },
   {
    "duration": 743,
    "start_time": "2022-05-19T11:38:25.013Z"
   },
   {
    "duration": 462,
    "start_time": "2022-05-19T11:38:25.762Z"
   },
   {
    "duration": 17,
    "start_time": "2022-05-19T11:38:26.225Z"
   },
   {
    "duration": 11,
    "start_time": "2022-05-19T11:38:26.244Z"
   },
   {
    "duration": 13,
    "start_time": "2022-05-19T11:38:26.257Z"
   },
   {
    "duration": 8,
    "start_time": "2022-05-19T11:38:26.271Z"
   },
   {
    "duration": 20,
    "start_time": "2022-05-19T11:38:26.280Z"
   },
   {
    "duration": 17,
    "start_time": "2022-05-19T11:38:26.302Z"
   },
   {
    "duration": 26,
    "start_time": "2022-05-19T11:38:26.342Z"
   }
  ],
  "kernelspec": {
   "display_name": "Python 3",
   "language": "python",
   "name": "python3"
  },
  "language_info": {
   "codemirror_mode": {
    "name": "ipython",
    "version": 3
   },
   "file_extension": ".py",
   "mimetype": "text/x-python",
   "name": "python",
   "nbconvert_exporter": "python",
   "pygments_lexer": "ipython3",
   "version": "3.8.8"
  },
  "toc": {
   "base_numbering": 1,
   "nav_menu": {},
   "number_sections": true,
   "sideBar": true,
   "skip_h1_title": true,
   "title_cell": "Table of Contents",
   "title_sidebar": "Contents",
   "toc_cell": false,
   "toc_position": {
    "height": "calc(100% - 180px)",
    "left": "10px",
    "top": "150px",
    "width": "164.986px"
   },
   "toc_section_display": true,
   "toc_window_display": true
  }
 },
 "nbformat": 4,
 "nbformat_minor": 2
}
