{
 "cells": [
  {
   "cell_type": "markdown",
   "metadata": {},
   "source": [
    "# Принятие решений в бизнесе. A/B тест."
   ]
  },
  {
   "cell_type": "markdown",
   "metadata": {},
   "source": [
    "Для крупного интернет магазина нужно приоритезировать гипотезы, направленные на повышение продаж, запустить А/В тесты и проанализировать результаты. Используются подходы ICE, RICE, статистический тест Мана-Уитни."
   ]
  },
  {
   "cell_type": "markdown",
   "metadata": {},
   "source": [
    "## Часть 1. Приоретизация гипотез"
   ]
  },
  {
   "cell_type": "markdown",
   "metadata": {},
   "source": [
    "### Описание данных"
   ]
  },
  {
   "cell_type": "markdown",
   "metadata": {},
   "source": [
    "`скрыто`"
   ]
  },
  {
   "cell_type": "code",
   "execution_count": 1,
   "metadata": {},
   "outputs": [],
   "source": [
    "import pandas as pd\n",
    "import matplotlib.pyplot as plt\n",
    "import datetime as dt\n",
    "import numpy as np\n",
    "import seaborn as sns\n",
    "import scipy.stats as stats\n",
    "pd.set_option('display.float_format', '{:,.0f}'.format)\n",
    "pd.set_option('max_colwidth', 120)\n",
    "import warnings\n",
    "warnings.filterwarnings('ignore')"
   ]
  },
  {
   "cell_type": "code",
   "execution_count": 2,
   "metadata": {},
   "outputs": [],
   "source": [
    "data = pd.read_csv('/datasets/hypothesis.csv', sep=',')"
   ]
  },
  {
   "cell_type": "code",
   "execution_count": 3,
   "metadata": {},
   "outputs": [
    {
     "data": {
      "text/html": [
       "<style  type=\"text/css\" >\n",
       "#T_ff360_row0_col0,#T_ff360_row0_col1,#T_ff360_row0_col2,#T_ff360_row0_col3,#T_ff360_row0_col4,#T_ff360_row1_col0,#T_ff360_row1_col1,#T_ff360_row1_col2,#T_ff360_row1_col3,#T_ff360_row1_col4,#T_ff360_row2_col0,#T_ff360_row2_col1,#T_ff360_row2_col2,#T_ff360_row2_col3,#T_ff360_row2_col4,#T_ff360_row3_col0,#T_ff360_row3_col1,#T_ff360_row3_col2,#T_ff360_row3_col3,#T_ff360_row3_col4,#T_ff360_row4_col0,#T_ff360_row4_col1,#T_ff360_row4_col2,#T_ff360_row4_col3,#T_ff360_row4_col4,#T_ff360_row5_col0,#T_ff360_row5_col1,#T_ff360_row5_col2,#T_ff360_row5_col3,#T_ff360_row5_col4,#T_ff360_row6_col0,#T_ff360_row6_col1,#T_ff360_row6_col2,#T_ff360_row6_col3,#T_ff360_row6_col4,#T_ff360_row7_col0,#T_ff360_row7_col1,#T_ff360_row7_col2,#T_ff360_row7_col3,#T_ff360_row7_col4,#T_ff360_row8_col0,#T_ff360_row8_col1,#T_ff360_row8_col2,#T_ff360_row8_col3,#T_ff360_row8_col4{\n",
       "            text-align:  left;\n",
       "        }</style><table id=\"T_ff360_\" ><thead>    <tr>        <th class=\"blank level0\" ></th>        <th class=\"col_heading level0 col0\" >hypothesis</th>        <th class=\"col_heading level0 col1\" >reach</th>        <th class=\"col_heading level0 col2\" >impact</th>        <th class=\"col_heading level0 col3\" >confidence</th>        <th class=\"col_heading level0 col4\" >efforts</th>    </tr></thead><tbody>\n",
       "                <tr>\n",
       "                        <th id=\"T_ff360_level0_row0\" class=\"row_heading level0 row0\" >0</th>\n",
       "                        <td id=\"T_ff360_row0_col0\" class=\"data row0 col0\" >Добавить два новых канала привлечения трафика, что позволит привлекать на 30% больше пользователей</td>\n",
       "                        <td id=\"T_ff360_row0_col1\" class=\"data row0 col1\" >3</td>\n",
       "                        <td id=\"T_ff360_row0_col2\" class=\"data row0 col2\" >10</td>\n",
       "                        <td id=\"T_ff360_row0_col3\" class=\"data row0 col3\" >8</td>\n",
       "                        <td id=\"T_ff360_row0_col4\" class=\"data row0 col4\" >6</td>\n",
       "            </tr>\n",
       "            <tr>\n",
       "                        <th id=\"T_ff360_level0_row1\" class=\"row_heading level0 row1\" >1</th>\n",
       "                        <td id=\"T_ff360_row1_col0\" class=\"data row1 col0\" >Запустить собственную службу доставки, что сократит срок доставки заказов</td>\n",
       "                        <td id=\"T_ff360_row1_col1\" class=\"data row1 col1\" >2</td>\n",
       "                        <td id=\"T_ff360_row1_col2\" class=\"data row1 col2\" >5</td>\n",
       "                        <td id=\"T_ff360_row1_col3\" class=\"data row1 col3\" >4</td>\n",
       "                        <td id=\"T_ff360_row1_col4\" class=\"data row1 col4\" >10</td>\n",
       "            </tr>\n",
       "            <tr>\n",
       "                        <th id=\"T_ff360_level0_row2\" class=\"row_heading level0 row2\" >2</th>\n",
       "                        <td id=\"T_ff360_row2_col0\" class=\"data row2 col0\" >Добавить блоки рекомендаций товаров на сайт интернет магазина, чтобы повысить конверсию и средний чек заказа</td>\n",
       "                        <td id=\"T_ff360_row2_col1\" class=\"data row2 col1\" >8</td>\n",
       "                        <td id=\"T_ff360_row2_col2\" class=\"data row2 col2\" >3</td>\n",
       "                        <td id=\"T_ff360_row2_col3\" class=\"data row2 col3\" >7</td>\n",
       "                        <td id=\"T_ff360_row2_col4\" class=\"data row2 col4\" >3</td>\n",
       "            </tr>\n",
       "            <tr>\n",
       "                        <th id=\"T_ff360_level0_row3\" class=\"row_heading level0 row3\" >3</th>\n",
       "                        <td id=\"T_ff360_row3_col0\" class=\"data row3 col0\" >Изменить структура категорий, что увеличит конверсию, т.к. пользователи быстрее найдут нужный товар</td>\n",
       "                        <td id=\"T_ff360_row3_col1\" class=\"data row3 col1\" >8</td>\n",
       "                        <td id=\"T_ff360_row3_col2\" class=\"data row3 col2\" >3</td>\n",
       "                        <td id=\"T_ff360_row3_col3\" class=\"data row3 col3\" >3</td>\n",
       "                        <td id=\"T_ff360_row3_col4\" class=\"data row3 col4\" >8</td>\n",
       "            </tr>\n",
       "            <tr>\n",
       "                        <th id=\"T_ff360_level0_row4\" class=\"row_heading level0 row4\" >4</th>\n",
       "                        <td id=\"T_ff360_row4_col0\" class=\"data row4 col0\" >Изменить цвет фона главной страницы, чтобы увеличить вовлеченность пользователей</td>\n",
       "                        <td id=\"T_ff360_row4_col1\" class=\"data row4 col1\" >3</td>\n",
       "                        <td id=\"T_ff360_row4_col2\" class=\"data row4 col2\" >1</td>\n",
       "                        <td id=\"T_ff360_row4_col3\" class=\"data row4 col3\" >1</td>\n",
       "                        <td id=\"T_ff360_row4_col4\" class=\"data row4 col4\" >1</td>\n",
       "            </tr>\n",
       "            <tr>\n",
       "                        <th id=\"T_ff360_level0_row5\" class=\"row_heading level0 row5\" >5</th>\n",
       "                        <td id=\"T_ff360_row5_col0\" class=\"data row5 col0\" >Добавить страницу отзывов клиентов о магазине, что позволит увеличить количество заказов</td>\n",
       "                        <td id=\"T_ff360_row5_col1\" class=\"data row5 col1\" >3</td>\n",
       "                        <td id=\"T_ff360_row5_col2\" class=\"data row5 col2\" >2</td>\n",
       "                        <td id=\"T_ff360_row5_col3\" class=\"data row5 col3\" >2</td>\n",
       "                        <td id=\"T_ff360_row5_col4\" class=\"data row5 col4\" >3</td>\n",
       "            </tr>\n",
       "            <tr>\n",
       "                        <th id=\"T_ff360_level0_row6\" class=\"row_heading level0 row6\" >6</th>\n",
       "                        <td id=\"T_ff360_row6_col0\" class=\"data row6 col0\" >Показать на главной странице баннеры с актуальными акциями и распродажами, чтобы увеличить конверсию</td>\n",
       "                        <td id=\"T_ff360_row6_col1\" class=\"data row6 col1\" >5</td>\n",
       "                        <td id=\"T_ff360_row6_col2\" class=\"data row6 col2\" >3</td>\n",
       "                        <td id=\"T_ff360_row6_col3\" class=\"data row6 col3\" >8</td>\n",
       "                        <td id=\"T_ff360_row6_col4\" class=\"data row6 col4\" >3</td>\n",
       "            </tr>\n",
       "            <tr>\n",
       "                        <th id=\"T_ff360_level0_row7\" class=\"row_heading level0 row7\" >7</th>\n",
       "                        <td id=\"T_ff360_row7_col0\" class=\"data row7 col0\" >Добавить форму подписки на все основные страницы, чтобы собрать базу клиентов для email-рассылок</td>\n",
       "                        <td id=\"T_ff360_row7_col1\" class=\"data row7 col1\" >10</td>\n",
       "                        <td id=\"T_ff360_row7_col2\" class=\"data row7 col2\" >7</td>\n",
       "                        <td id=\"T_ff360_row7_col3\" class=\"data row7 col3\" >8</td>\n",
       "                        <td id=\"T_ff360_row7_col4\" class=\"data row7 col4\" >5</td>\n",
       "            </tr>\n",
       "            <tr>\n",
       "                        <th id=\"T_ff360_level0_row8\" class=\"row_heading level0 row8\" >8</th>\n",
       "                        <td id=\"T_ff360_row8_col0\" class=\"data row8 col0\" >Запустить акцию, дающую скидку на товар в день рождения</td>\n",
       "                        <td id=\"T_ff360_row8_col1\" class=\"data row8 col1\" >1</td>\n",
       "                        <td id=\"T_ff360_row8_col2\" class=\"data row8 col2\" >9</td>\n",
       "                        <td id=\"T_ff360_row8_col3\" class=\"data row8 col3\" >9</td>\n",
       "                        <td id=\"T_ff360_row8_col4\" class=\"data row8 col4\" >5</td>\n",
       "            </tr>\n",
       "    </tbody></table>"
      ],
      "text/plain": [
       "<pandas.io.formats.style.Styler at 0x7fcb17167be0>"
      ]
     },
     "execution_count": 3,
     "metadata": {},
     "output_type": "execute_result"
    }
   ],
   "source": [
    "# функция для приведения к общепринятому стилю \n",
    "def style(df):\n",
    "    df.columns = [x.lower().replace(' ', '_') for x in df.columns.values]\n",
    "    df=df.style.set_properties(**{'text-align': 'left'})\n",
    "    return df\n",
    "\n",
    "style(data)"
   ]
  },
  {
   "cell_type": "markdown",
   "metadata": {},
   "source": [
    "Применим подходы ICE и RICE для приоретизации гипотез:\n",
    "\n",
    "\n",
    "**ICE = IMPACT * CONFIDENCE / EFFORTS**\n",
    "\n",
    "\n",
    "**RICE = REACH *  IMPACT * CONFIDENCE / EFFORTS**\n",
    "\n",
    "Различия данных методов в том, что в RICE использутеся еще один критерия REACH - охват аудитории. На какую часть потенциальных покупателей повлияет применение данной гипотезы. Мы посчитаем RICE и ICE и проранжируем гипотезы в зависимости от них."
   ]
  },
  {
   "cell_type": "code",
   "execution_count": 4,
   "metadata": {},
   "outputs": [
    {
     "data": {
      "text/html": [
       "<style  type=\"text/css\" >\n",
       "#T_0cee9_row0_col0,#T_0cee9_row4_col1{\n",
       "            background-color:  #ebf3eb;\n",
       "            color:  #000000;\n",
       "        }#T_0cee9_row0_col1{\n",
       "            background-color:  #b0d6b0;\n",
       "            color:  #000000;\n",
       "        }#T_0cee9_row1_col0,#T_0cee9_row2_col1{\n",
       "            background-color:  #cde5cd;\n",
       "            color:  #000000;\n",
       "        }#T_0cee9_row1_col1,#T_0cee9_row4_col0{\n",
       "            background-color:  #75b975;\n",
       "            color:  #000000;\n",
       "        }#T_0cee9_row2_col0,#T_0cee9_row3_col0{\n",
       "            background-color:  #a1cfa1;\n",
       "            color:  #000000;\n",
       "        }#T_0cee9_row3_col1{\n",
       "            background-color:  #92c892;\n",
       "            color:  #000000;\n",
       "        }#T_0cee9_row5_col0,#T_0cee9_row6_col1{\n",
       "            background-color:  #57ab57;\n",
       "            color:  #000000;\n",
       "        }#T_0cee9_row5_col1{\n",
       "            background-color:  #1d8e1d;\n",
       "            color:  #000000;\n",
       "        }#T_0cee9_row6_col0,#T_0cee9_row7_col0{\n",
       "            background-color:  #2b952b;\n",
       "            color:  #000000;\n",
       "        }#T_0cee9_row7_col1{\n",
       "            background-color:  #3a9c3a;\n",
       "            color:  #000000;\n",
       "        }#T_0cee9_row8_col0,#T_0cee9_row8_col1{\n",
       "            background-color:  #008000;\n",
       "            color:  #f1f1f1;\n",
       "        }</style><table id=\"T_0cee9_\" ><thead>    <tr>        <th class=\"blank level0\" ></th>        <th class=\"col_heading level0 col0\" >rank_rice</th>        <th class=\"col_heading level0 col1\" >rank_ice</th>    </tr>    <tr>        <th class=\"index_name level0\" >hypothesis</th>        <th class=\"blank\" ></th>        <th class=\"blank\" ></th>    </tr></thead><tbody>\n",
       "                <tr>\n",
       "                        <th id=\"T_0cee9_level0_row0\" class=\"row_heading level0 row0\" >Добавить форму подписки на все основные страницы, чтобы собрать базу клиентов для email-рассылок</th>\n",
       "                        <td id=\"T_0cee9_row0_col0\" class=\"data row0 col0\" >1.000000</td>\n",
       "                        <td id=\"T_0cee9_row0_col1\" class=\"data row0 col1\" >3.000000</td>\n",
       "            </tr>\n",
       "            <tr>\n",
       "                        <th id=\"T_0cee9_level0_row1\" class=\"row_heading level0 row1\" >Добавить блоки рекомендаций товаров на сайт интернет магазина, чтобы повысить конверсию и средний чек заказа</th>\n",
       "                        <td id=\"T_0cee9_row1_col0\" class=\"data row1 col0\" >2.000000</td>\n",
       "                        <td id=\"T_0cee9_row1_col1\" class=\"data row1 col1\" >5.000000</td>\n",
       "            </tr>\n",
       "            <tr>\n",
       "                        <th id=\"T_0cee9_level0_row2\" class=\"row_heading level0 row2\" >Добавить два новых канала привлечения трафика, что позволит привлекать на 30% больше пользователей</th>\n",
       "                        <td id=\"T_0cee9_row2_col0\" class=\"data row2 col0\" >3.500000</td>\n",
       "                        <td id=\"T_0cee9_row2_col1\" class=\"data row2 col1\" >2.000000</td>\n",
       "            </tr>\n",
       "            <tr>\n",
       "                        <th id=\"T_0cee9_level0_row3\" class=\"row_heading level0 row3\" >Показать на главной странице баннеры с актуальными акциями и распродажами, чтобы увеличить конверсию</th>\n",
       "                        <td id=\"T_0cee9_row3_col0\" class=\"data row3 col0\" >3.500000</td>\n",
       "                        <td id=\"T_0cee9_row3_col1\" class=\"data row3 col1\" >4.000000</td>\n",
       "            </tr>\n",
       "            <tr>\n",
       "                        <th id=\"T_0cee9_level0_row4\" class=\"row_heading level0 row4\" >Запустить акцию, дающую скидку на товар в день рождения</th>\n",
       "                        <td id=\"T_0cee9_row4_col0\" class=\"data row4 col0\" >5.000000</td>\n",
       "                        <td id=\"T_0cee9_row4_col1\" class=\"data row4 col1\" >1.000000</td>\n",
       "            </tr>\n",
       "            <tr>\n",
       "                        <th id=\"T_0cee9_level0_row5\" class=\"row_heading level0 row5\" >Изменить структура категорий, что увеличит конверсию, т.к. пользователи быстрее найдут нужный товар</th>\n",
       "                        <td id=\"T_0cee9_row5_col0\" class=\"data row5 col0\" >6.000000</td>\n",
       "                        <td id=\"T_0cee9_row5_col1\" class=\"data row5 col1\" >8.000000</td>\n",
       "            </tr>\n",
       "            <tr>\n",
       "                        <th id=\"T_0cee9_level0_row6\" class=\"row_heading level0 row6\" >Запустить собственную службу доставки, что сократит срок доставки заказов</th>\n",
       "                        <td id=\"T_0cee9_row6_col0\" class=\"data row6 col0\" >7.500000</td>\n",
       "                        <td id=\"T_0cee9_row6_col1\" class=\"data row6 col1\" >6.000000</td>\n",
       "            </tr>\n",
       "            <tr>\n",
       "                        <th id=\"T_0cee9_level0_row7\" class=\"row_heading level0 row7\" >Добавить страницу отзывов клиентов о магазине, что позволит увеличить количество заказов</th>\n",
       "                        <td id=\"T_0cee9_row7_col0\" class=\"data row7 col0\" >7.500000</td>\n",
       "                        <td id=\"T_0cee9_row7_col1\" class=\"data row7 col1\" >7.000000</td>\n",
       "            </tr>\n",
       "            <tr>\n",
       "                        <th id=\"T_0cee9_level0_row8\" class=\"row_heading level0 row8\" >Изменить цвет фона главной страницы, чтобы увеличить вовлеченность пользователей</th>\n",
       "                        <td id=\"T_0cee9_row8_col0\" class=\"data row8 col0\" >9.000000</td>\n",
       "                        <td id=\"T_0cee9_row8_col1\" class=\"data row8 col1\" >9.000000</td>\n",
       "            </tr>\n",
       "    </tbody></table>"
      ],
      "text/plain": [
       "<pandas.io.formats.style.Styler at 0x7fca94e93520>"
      ]
     },
     "execution_count": 4,
     "metadata": {},
     "output_type": "execute_result"
    }
   ],
   "source": [
    "cm = sns.light_palette(\"green\", as_cmap=True)\n",
    "# считаем ice\n",
    "data['ice'] = data['impact'] * data['confidence']/data['efforts']\n",
    "# считаем rice\n",
    "data['rice'] = data['reach'] * data['impact'] * data['confidence']/data['efforts']\n",
    "# ранжируем гипотезы \n",
    "data['rank_ice'] = data['ice'].rank(ascending = 0)\n",
    "data['rank_rice'] = data['rice'].rank(ascending = 0)\n",
    "(\n",
    "    data[['rank_rice', 'rank_ice','hypothesis']]\n",
    "    .sort_values(by='rank_rice').set_index('hypothesis', drop=True)\n",
    "    .style.background_gradient(cmap=cm, axis=0)\n",
    ")"
   ]
  },
  {
   "cell_type": "markdown",
   "metadata": {},
   "source": [
    "### Вывод"
   ]
  },
  {
   "cell_type": "markdown",
   "metadata": {},
   "source": [
    "Согласно ICE самыми эффективными оказались гипотезы \"Запустить акцию, дающую скидку в день рождения\" (1), \"Добавить два новых канала привлечения\"(2), \"Добавить форму для для e-mail подписки\"(3). \n",
    "\n",
    "Если учитывать критерий охвата клиентов, то \"Добавить форму для для e-mail подписки\" вырывается на первое место, а \"Добавить блоки рекномендаций товаров на сайт\" На второе. Следом за ними идут сразу две гипотезы, набравшие одинаковое число баллов: \"Добавить два новых канала привлечения\" и \"Показать на главной страницы актуальные акции и распродажи\". Как мы видим \"Запустить акцию, дающую скидку в день рождения\" имеет большой эффект, но у небольшой аудитории."
   ]
  },
  {
   "cell_type": "markdown",
   "metadata": {},
   "source": [
    "## Часть 2. Анализ A/B-теста"
   ]
  },
  {
   "cell_type": "markdown",
   "metadata": {},
   "source": [
    "### Описание данных"
   ]
  },
  {
   "cell_type": "markdown",
   "metadata": {},
   "source": [
    "файл **orders**\n",
    "`cкрыто`\n",
    "\n",
    "файл **visitors**\n",
    "`скрыто`"
   ]
  },
  {
   "cell_type": "markdown",
   "metadata": {},
   "source": [
    "### Предобработка данных"
   ]
  },
  {
   "cell_type": "markdown",
   "metadata": {},
   "source": [
    "#### Формат даты"
   ]
  },
  {
   "cell_type": "code",
   "execution_count": 5,
   "metadata": {},
   "outputs": [
    {
     "data": {
      "text/html": [
       "<div>\n",
       "<style scoped>\n",
       "    .dataframe tbody tr th:only-of-type {\n",
       "        vertical-align: middle;\n",
       "    }\n",
       "\n",
       "    .dataframe tbody tr th {\n",
       "        vertical-align: top;\n",
       "    }\n",
       "\n",
       "    .dataframe thead th {\n",
       "        text-align: right;\n",
       "    }\n",
       "</style>\n",
       "<table border=\"1\" class=\"dataframe\">\n",
       "  <thead>\n",
       "    <tr style=\"text-align: right;\">\n",
       "      <th></th>\n",
       "      <th>transactionId</th>\n",
       "      <th>visitorId</th>\n",
       "      <th>date</th>\n",
       "      <th>revenue</th>\n",
       "      <th>group</th>\n",
       "    </tr>\n",
       "  </thead>\n",
       "  <tbody>\n",
       "    <tr>\n",
       "      <th>0</th>\n",
       "      <td>3667963787</td>\n",
       "      <td>3312258926</td>\n",
       "      <td>2019-08-15</td>\n",
       "      <td>1650</td>\n",
       "      <td>B</td>\n",
       "    </tr>\n",
       "  </tbody>\n",
       "</table>\n",
       "</div>"
      ],
      "text/plain": [
       "   transactionId   visitorId       date  revenue group\n",
       "0     3667963787  3312258926 2019-08-15     1650     B"
      ]
     },
     "execution_count": 5,
     "metadata": {},
     "output_type": "execute_result"
    }
   ],
   "source": [
    "orders = pd.read_csv('/datasets/orders.csv', sep=',')\n",
    "\n",
    "#приведем дату в подходящий формат\n",
    "orders['date'] = orders['date'].map(\n",
    "    lambda x: dt.datetime.strptime(x, '%Y-%m-%d')\n",
    ")\n",
    "orders.head(1)"
   ]
  },
  {
   "cell_type": "code",
   "execution_count": 6,
   "metadata": {
    "scrolled": true
   },
   "outputs": [
    {
     "data": {
      "text/html": [
       "<div>\n",
       "<style scoped>\n",
       "    .dataframe tbody tr th:only-of-type {\n",
       "        vertical-align: middle;\n",
       "    }\n",
       "\n",
       "    .dataframe tbody tr th {\n",
       "        vertical-align: top;\n",
       "    }\n",
       "\n",
       "    .dataframe thead th {\n",
       "        text-align: right;\n",
       "    }\n",
       "</style>\n",
       "<table border=\"1\" class=\"dataframe\">\n",
       "  <thead>\n",
       "    <tr style=\"text-align: right;\">\n",
       "      <th></th>\n",
       "      <th>date</th>\n",
       "      <th>group</th>\n",
       "      <th>visitors</th>\n",
       "    </tr>\n",
       "  </thead>\n",
       "  <tbody>\n",
       "    <tr>\n",
       "      <th>0</th>\n",
       "      <td>2019-08-01</td>\n",
       "      <td>A</td>\n",
       "      <td>719</td>\n",
       "    </tr>\n",
       "  </tbody>\n",
       "</table>\n",
       "</div>"
      ],
      "text/plain": [
       "        date group  visitors\n",
       "0 2019-08-01     A       719"
      ]
     },
     "execution_count": 6,
     "metadata": {},
     "output_type": "execute_result"
    }
   ],
   "source": [
    "visitors = pd.read_csv('/datasets/visitors.csv', sep=',')\n",
    "#приведем дату в подходящий формат\n",
    "visitors['date'] = visitors['date'].map(\n",
    "    lambda x: dt.datetime.strptime(x, '%Y-%m-%d')\n",
    ")\n",
    "visitors.head(1)"
   ]
  },
  {
   "cell_type": "markdown",
   "metadata": {},
   "source": [
    "#### Пропуски"
   ]
  },
  {
   "cell_type": "code",
   "execution_count": 7,
   "metadata": {},
   "outputs": [
    {
     "name": "stdout",
     "output_type": "stream",
     "text": [
      "<class 'pandas.core.frame.DataFrame'>\n",
      "RangeIndex: 1197 entries, 0 to 1196\n",
      "Data columns (total 5 columns):\n",
      " #   Column         Non-Null Count  Dtype         \n",
      "---  ------         --------------  -----         \n",
      " 0   transactionId  1197 non-null   int64         \n",
      " 1   visitorId      1197 non-null   int64         \n",
      " 2   date           1197 non-null   datetime64[ns]\n",
      " 3   revenue        1197 non-null   int64         \n",
      " 4   group          1197 non-null   object        \n",
      "dtypes: datetime64[ns](1), int64(3), object(1)\n",
      "memory usage: 46.9+ KB\n"
     ]
    }
   ],
   "source": [
    "orders.info()"
   ]
  },
  {
   "cell_type": "code",
   "execution_count": 8,
   "metadata": {},
   "outputs": [
    {
     "name": "stdout",
     "output_type": "stream",
     "text": [
      "<class 'pandas.core.frame.DataFrame'>\n",
      "RangeIndex: 62 entries, 0 to 61\n",
      "Data columns (total 3 columns):\n",
      " #   Column    Non-Null Count  Dtype         \n",
      "---  ------    --------------  -----         \n",
      " 0   date      62 non-null     datetime64[ns]\n",
      " 1   group     62 non-null     object        \n",
      " 2   visitors  62 non-null     int64         \n",
      "dtypes: datetime64[ns](1), int64(1), object(1)\n",
      "memory usage: 1.6+ KB\n"
     ]
    }
   ],
   "source": [
    "visitors.info()"
   ]
  },
  {
   "cell_type": "markdown",
   "metadata": {},
   "source": [
    "Пропусков нет"
   ]
  },
  {
   "cell_type": "markdown",
   "metadata": {},
   "source": [
    "#### Проверка дубликатов"
   ]
  },
  {
   "cell_type": "code",
   "execution_count": 9,
   "metadata": {},
   "outputs": [
    {
     "data": {
      "text/html": [
       "<div>\n",
       "<style scoped>\n",
       "    .dataframe tbody tr th:only-of-type {\n",
       "        vertical-align: middle;\n",
       "    }\n",
       "\n",
       "    .dataframe tbody tr th {\n",
       "        vertical-align: top;\n",
       "    }\n",
       "\n",
       "    .dataframe thead th {\n",
       "        text-align: right;\n",
       "    }\n",
       "</style>\n",
       "<table border=\"1\" class=\"dataframe\">\n",
       "  <thead>\n",
       "    <tr style=\"text-align: right;\">\n",
       "      <th></th>\n",
       "      <th>transactionId</th>\n",
       "      <th>visitorId</th>\n",
       "      <th>date</th>\n",
       "      <th>revenue</th>\n",
       "      <th>group</th>\n",
       "    </tr>\n",
       "  </thead>\n",
       "  <tbody>\n",
       "  </tbody>\n",
       "</table>\n",
       "</div>"
      ],
      "text/plain": [
       "Empty DataFrame\n",
       "Columns: [transactionId, visitorId, date, revenue, group]\n",
       "Index: []"
      ]
     },
     "execution_count": 9,
     "metadata": {},
     "output_type": "execute_result"
    }
   ],
   "source": [
    "#Проверим, есть ли дубликаты \n",
    "orders[orders.duplicated(keep = False)] # keep = False выведет все совпадения\n",
    "#таблица пустая - дубликатов нет\n"
   ]
  },
  {
   "cell_type": "code",
   "execution_count": 10,
   "metadata": {},
   "outputs": [
    {
     "data": {
      "text/html": [
       "<div>\n",
       "<style scoped>\n",
       "    .dataframe tbody tr th:only-of-type {\n",
       "        vertical-align: middle;\n",
       "    }\n",
       "\n",
       "    .dataframe tbody tr th {\n",
       "        vertical-align: top;\n",
       "    }\n",
       "\n",
       "    .dataframe thead th {\n",
       "        text-align: right;\n",
       "    }\n",
       "</style>\n",
       "<table border=\"1\" class=\"dataframe\">\n",
       "  <thead>\n",
       "    <tr style=\"text-align: right;\">\n",
       "      <th></th>\n",
       "      <th>date</th>\n",
       "      <th>group</th>\n",
       "      <th>visitors</th>\n",
       "    </tr>\n",
       "  </thead>\n",
       "  <tbody>\n",
       "  </tbody>\n",
       "</table>\n",
       "</div>"
      ],
      "text/plain": [
       "Empty DataFrame\n",
       "Columns: [date, group, visitors]\n",
       "Index: []"
      ]
     },
     "execution_count": 10,
     "metadata": {},
     "output_type": "execute_result"
    }
   ],
   "source": [
    "#Проверим, есть ли дубликаты \n",
    "visitors[visitors.duplicated(keep = False)] # keep = False выведет все совпадения\n",
    "#таблица пустая - дубликатов нет\n"
   ]
  },
  {
   "cell_type": "markdown",
   "metadata": {},
   "source": [
    "#### Качество данных для АВ теста"
   ]
  },
  {
   "cell_type": "code",
   "execution_count": 11,
   "metadata": {},
   "outputs": [
    {
     "data": {
      "text/plain": [
       "1197"
      ]
     },
     "execution_count": 11,
     "metadata": {},
     "output_type": "execute_result"
    }
   ],
   "source": [
    "# Посчитаем количество данных для АВ теста \n",
    "orders.shape[0] #количество заказов"
   ]
  },
  {
   "cell_type": "code",
   "execution_count": 12,
   "metadata": {},
   "outputs": [
    {
     "data": {
      "text/plain": [
       "37652"
      ]
     },
     "execution_count": 12,
     "metadata": {},
     "output_type": "execute_result"
    }
   ],
   "source": [
    "visitors['visitors'].sum() #количество посетителей"
   ]
  },
  {
   "cell_type": "code",
   "execution_count": 13,
   "metadata": {},
   "outputs": [
    {
     "data": {
      "text/html": [
       "<div>\n",
       "<style scoped>\n",
       "    .dataframe tbody tr th:only-of-type {\n",
       "        vertical-align: middle;\n",
       "    }\n",
       "\n",
       "    .dataframe tbody tr th {\n",
       "        vertical-align: top;\n",
       "    }\n",
       "\n",
       "    .dataframe thead th {\n",
       "        text-align: right;\n",
       "    }\n",
       "</style>\n",
       "<table border=\"1\" class=\"dataframe\">\n",
       "  <thead>\n",
       "    <tr style=\"text-align: right;\">\n",
       "      <th></th>\n",
       "      <th>visitors</th>\n",
       "    </tr>\n",
       "    <tr>\n",
       "      <th>group</th>\n",
       "      <th></th>\n",
       "    </tr>\n",
       "  </thead>\n",
       "  <tbody>\n",
       "    <tr>\n",
       "      <th>A</th>\n",
       "      <td>18736</td>\n",
       "    </tr>\n",
       "    <tr>\n",
       "      <th>B</th>\n",
       "      <td>18916</td>\n",
       "    </tr>\n",
       "  </tbody>\n",
       "</table>\n",
       "</div>"
      ],
      "text/plain": [
       "       visitors\n",
       "group          \n",
       "A         18736\n",
       "B         18916"
      ]
     },
     "execution_count": 13,
     "metadata": {},
     "output_type": "execute_result"
    }
   ],
   "source": [
    "visitors.groupby('group').agg({'visitors' : 'sum'}) #количество визитов в группах примерно равно"
   ]
  },
  {
   "cell_type": "code",
   "execution_count": 14,
   "metadata": {},
   "outputs": [
    {
     "data": {
      "text/plain": [
       "B    640\n",
       "A    557\n",
       "Name: group, dtype: int64"
      ]
     },
     "execution_count": 14,
     "metadata": {},
     "output_type": "execute_result"
    }
   ],
   "source": [
    "#Количество заказов в группах  \n",
    "orders['group'].value_counts() "
   ]
  },
  {
   "cell_type": "code",
   "execution_count": 15,
   "metadata": {},
   "outputs": [
    {
     "data": {
      "text/plain": [
       "7"
      ]
     },
     "execution_count": 15,
     "metadata": {},
     "output_type": "execute_result"
    }
   ],
   "source": [
    "#разница между группами по количеству заказов\n",
    "(\n",
    "    round((orders[orders['group'] == 'B']['visitorId'].count()\n",
    "     - orders[orders['group'] == 'A']['visitorId'].count())\n",
    "    /orders.shape[0]*100)\n",
    ")\n"
   ]
  },
  {
   "cell_type": "markdown",
   "metadata": {},
   "source": [
    "Группы не равны между собой. Различие примерно в заказах 7%"
   ]
  },
  {
   "cell_type": "code",
   "execution_count": 16,
   "metadata": {},
   "outputs": [
    {
     "data": {
      "text/plain": [
       "58"
      ]
     },
     "execution_count": 16,
     "metadata": {},
     "output_type": "execute_result"
    }
   ],
   "source": [
    "#посчитаем количество покупателей, находящихся в обоих группах\n",
    "AB_users = orders.groupby('visitorId').agg({'group' : ['nunique', 'unique']})\n",
    "AB_users.columns = ['groups' , 'group_names']\n",
    "AB_users = AB_users.query('groups > 1')\n",
    "AB_users.shape[0]\n"
   ]
  },
  {
   "cell_type": "code",
   "execution_count": 17,
   "metadata": {},
   "outputs": [
    {
     "name": "stdout",
     "output_type": "stream",
     "text": [
      "Покупатели, находящиеся в обоих группах: 6 %\n"
     ]
    }
   ],
   "source": [
    "AB_users_per = round(AB_users.shape[0]/orders['visitorId'].nunique()*100)\n",
    "print(f'Покупатели, находящиеся в обоих группах: {AB_users_per} %')"
   ]
  },
  {
   "cell_type": "markdown",
   "metadata": {},
   "source": [
    "Качество данных оставляет желать лучшего. О размере групп мы можем судить только косвенно. Количество посетителей (visitors) примерно равно, но мы не можем сказать, уникальные это посетители или нет. Конверсию мы будем считать на основании данных о заказах на одного пользователя в конкретный день и количестве посетителей, что тоже не совсем корректно при отстутствии данных об их уникальности.\n",
    "\n",
    "Количество заказов также не равно между группами, с одной стороны, это допустимо, тк может говорить лишь о разнице в конверсии по группам. И, следовательно, для сравнения конверсии подходит. Но для стат. теста, где сравнивается средний чек между группами, уже не совсем хорошо, здесь разница между группами составляет теперь 7%. \n",
    "\n",
    "Также разницу в количестве заказов, нужно иметь в виду при анализе кумулятивной выручки. В группе В выручки больше, просто еще и потому, что группа больше.\n",
    "\n",
    "Также есть большая проблема, с тем, что некоторые покупатели попали в обе группы. И это довольно много 6% от общего количества покупателей. Удалить из теста мы их не можем, так как не можем скорректировать количество посетителей соответственно, тк у нас нет их Id."
   ]
  },
  {
   "cell_type": "markdown",
   "metadata": {},
   "source": [
    "#### Вывод"
   ]
  },
  {
   "cell_type": "markdown",
   "metadata": {},
   "source": [
    "Мы проверили данные на пропуски, дубликаты, привели данные в нужный формат. Проанализировали качество данных. В них есть некоторые недостатки, не превышающие 10% , АB тест проводить будем."
   ]
  },
  {
   "cell_type": "markdown",
   "metadata": {},
   "source": [
    "### AB тест"
   ]
  },
  {
   "cell_type": "markdown",
   "metadata": {},
   "source": [
    "#### Кумулятивная выручки по группам"
   ]
  },
  {
   "cell_type": "code",
   "execution_count": 18,
   "metadata": {},
   "outputs": [
    {
     "data": {
      "image/png": "[encoded data removed]",
      "text/plain": [
       "<Figure size 1080x360 with 1 Axes>"
      ]
     },
     "metadata": {
      "needs_background": "light"
     },
     "output_type": "display_data"
    }
   ],
   "source": [
    "# создаем массив уникальных пар значений дат и групп теста\n",
    "datesGroups = orders[['date','group']].drop_duplicates()\n",
    "\n",
    "# получаем агрегированные кумулятивные по дням данные о заказах \n",
    "ordersAggregated = datesGroups.apply(lambda x: orders[np.logical_and(orders['date'] <= x['date'], orders['group'] == x['group'])].agg({'date' : 'max', 'group' : 'max', 'transactionId' : 'nunique', 'visitorId' : 'nunique', 'revenue' : 'sum'}), axis=1).sort_values(by=['date','group'])\n",
    "\n",
    "# получаем агрегированные кумулятивные по дням данные о посетителях интернет-магазина \n",
    "visitorsAggregated = datesGroups.apply(lambda x: visitors[np.logical_and(visitors['date'] <= x['date'], visitors['group'] == x['group'])].agg({'date' : 'max', 'group' : 'max', 'visitors' : 'sum'}), axis=1).sort_values(by=['date','group'])\n",
    "\n",
    "# объединяем кумулятивные данные в одной таблице и присваиваем ее столбцам понятные названия\n",
    "cumulativeData = ordersAggregated.merge(visitorsAggregated, left_on=['date', 'group'], right_on=['date', 'group'])\n",
    "cumulativeData.columns = ['date', 'group', 'orders', 'buyers', 'revenue', 'visitors']\n",
    "\n",
    "# датафрейм с кумулятивным количеством заказов и кумулятивной выручкой по дням в группе А\n",
    "cumulativeRevenueA = cumulativeData[cumulativeData['group']=='A'][['date','revenue', 'orders']]\n",
    "\n",
    "# датафрейм с кумулятивным количеством заказов и кумулятивной выручкой по дням в группе B\n",
    "cumulativeRevenueB = cumulativeData[cumulativeData['group']=='B'][['date','revenue', 'orders']]\n",
    "\n",
    "plt.figure(figsize = (15,5))\n",
    "# Строим график выручки группы А\n",
    "plt.plot(cumulativeRevenueA['date'], cumulativeRevenueA['revenue'], label='A')\n",
    "\n",
    "# Строим график выручки группы B\n",
    "plt.plot(cumulativeRevenueB['date'], cumulativeRevenueB['revenue'], label='B')\n",
    "\n",
    "plt.annotate('скачок', xy=(dt.date(2019, 8, 17), 2800000), xytext=(dt.date(2019, 8, 10), 3500000),\n",
    "            arrowprops=dict(facecolor='g'))\n",
    "plt.annotate('отрыв', xy=(dt.date(2019, 8, 5), 800000), xytext=(dt.date(2019, 8, 5), 2000000),\n",
    "            arrowprops=dict(facecolor='g')) \n",
    "plt.grid()\n",
    "plt.legend()\n",
    "plt.title('Кумулятивная выручка по группам, у.е.')\n",
    "plt.ylabel('у.е')\n",
    "plt.show();"
   ]
  },
  {
   "cell_type": "markdown",
   "metadata": {},
   "source": [
    "А/B тест проведен по данным за месяц (август 2019). В середние месяца группа B начала уверенно лидировать по кумулятивной выручке. В 20-х числах произошло событие, которе повлекло за собой резкий скачок в выручки группы В. Как мы выяснили ранее группы А и В не равны между собой по количеству заказов, поэтому целесообразнее сравнивать средний чек. "
   ]
  },
  {
   "cell_type": "markdown",
   "metadata": {},
   "source": [
    "#### Кумулятивный средний чек по группам"
   ]
  },
  {
   "cell_type": "code",
   "execution_count": 19,
   "metadata": {},
   "outputs": [
    {
     "data": {
      "image/png": "[encoded data removed]",
      "text/plain": [
       "<Figure size 1080x360 with 1 Axes>"
      ]
     },
     "metadata": {
      "needs_background": "light"
     },
     "output_type": "display_data"
    }
   ],
   "source": [
    "#Построим графики среднего чека по группам — \n",
    "#разделим кумулятивную выручку на кумулятивное число заказов\n",
    "plt.figure(figsize = (15,5))\n",
    "plt.plot(cumulativeRevenueA['date'], cumulativeRevenueA['revenue']/cumulativeRevenueA['orders'], label='A')\n",
    "plt.plot(cumulativeRevenueB['date'], cumulativeRevenueB['revenue']/cumulativeRevenueB['orders'], label='B')\n",
    "plt.legend()\n",
    "\n",
    "plt.annotate('скачок', xy=(dt.date(2019, 8, 18), 7000), xytext=(dt.date(2019, 8, 10), 8000),\n",
    "            arrowprops=dict(facecolor='g'))\n",
    "plt.grid()\n",
    "plt.title('Динамика среднего чека по группам, у.е.')\n",
    "plt.ylabel('у.е.')\n",
    "plt.show();"
   ]
  },
  {
   "cell_type": "markdown",
   "metadata": {},
   "source": [
    "В 20-х числах мы также видим резкое увеличение кумулятивного среднего чека группы В. "
   ]
  },
  {
   "cell_type": "markdown",
   "metadata": {},
   "source": [
    "#### Относительное изменение кумулятивного среднего чека группы B к группе A"
   ]
  },
  {
   "cell_type": "code",
   "execution_count": 20,
   "metadata": {},
   "outputs": [
    {
     "data": {
      "image/png": "[encoded data removed]",
      "text/plain": [
       "<Figure size 1080x360 with 1 Axes>"
      ]
     },
     "metadata": {
      "needs_background": "light"
     },
     "output_type": "display_data"
    }
   ],
   "source": [
    "# собираем данные в одном датафрейме\n",
    "mergedCumulativeRevenue = cumulativeRevenueA.merge(cumulativeRevenueB, left_on='date', right_on='date', how='left', suffixes=['A', 'B'])\n",
    "\n",
    "# cтроим отношение средних чеков\n",
    "plt.figure(figsize = (15,5))\n",
    "plt.plot(mergedCumulativeRevenue['date'], (mergedCumulativeRevenue['revenueB']/mergedCumulativeRevenue['ordersB'])/(mergedCumulativeRevenue['revenueA']/mergedCumulativeRevenue['ordersA'])-1)\n",
    "\n",
    "# добавляем ось X\n",
    "plt.axhline(y=0, color='black', linestyle='--')\n",
    "plt.ylabel('доля относ. изменения')\n",
    "plt.title('Относительное изменение кумулятивного среднего чека группы B к группе A');"
   ]
  },
  {
   "cell_type": "markdown",
   "metadata": {},
   "source": [
    "Анализ относителного изменения среднего чека B к А также показывает превосходство группы Б."
   ]
  },
  {
   "cell_type": "markdown",
   "metadata": {},
   "source": [
    "#### Кумулятивная конверсия по группам. "
   ]
  },
  {
   "cell_type": "code",
   "execution_count": 21,
   "metadata": {},
   "outputs": [
    {
     "data": {
      "image/png": "[encoded data removed]",
      "text/plain": [
       "<Figure size 1080x360 with 1 Axes>"
      ]
     },
     "metadata": {
      "needs_background": "light"
     },
     "output_type": "display_data"
    }
   ],
   "source": [
    "\n",
    "# считаем кумулятивную конверсию\n",
    "cumulativeData['conversion'] = cumulativeData['orders']/cumulativeData['visitors']\n",
    "\n",
    "# отделяем данные по группе A\n",
    "cumulativeDataA = cumulativeData[cumulativeData['group']=='A']\n",
    "\n",
    "# отделяем данные по группе B\n",
    "cumulativeDataB = cumulativeData[cumulativeData['group']=='B']\n",
    "\n",
    "# строим графики\n",
    "plt.figure(figsize = (15,5))\n",
    "plt.plot(cumulativeDataA['date'], cumulativeDataA['conversion'], label='A')\n",
    "plt.plot(cumulativeDataB['date'], cumulativeDataB['conversion'], label='B')\n",
    "plt.grid()\n",
    "plt.ylabel('конверсия, доли, без размерности')\n",
    "plt.title('Кумулятивная конверсия по группам')\n",
    "plt.legend()\n",
    "# задаем масштаб осей\n",
    "plt.axis([dt.date(2019, 8, 1), dt.date(2019, 9, 1), 0, 0.05]);\n"
   ]
  },
  {
   "cell_type": "markdown",
   "metadata": {},
   "source": [
    "Кумулятивная конверсия довольно постоянна - на уровне 3 -3,5% для обоих групп. Конверсия группы B стабильно выше на 0.5%"
   ]
  },
  {
   "cell_type": "markdown",
   "metadata": {},
   "source": [
    "#### Изменение относительной кумулятивной конверсии В к А"
   ]
  },
  {
   "cell_type": "code",
   "execution_count": 23,
   "metadata": {},
   "outputs": [
    {
     "data": {
      "image/png": "[encoded data removed]",
      "text/plain": [
       "<Figure size 1080x360 with 1 Axes>"
      ]
     },
     "metadata": {
      "needs_background": "light"
     },
     "output_type": "display_data"
    }
   ],
   "source": [
    "\n",
    "mergedCumulativeConversions = cumulativeDataA[['date','conversion']].merge(cumulativeDataB[['date','conversion']], left_on='date', right_on='date', how='left', suffixes=['A', 'B'])\n",
    "\n",
    "plt.figure(figsize = (15,5))\n",
    "plt.plot(mergedCumulativeConversions['date'], mergedCumulativeConversions['conversionB']/mergedCumulativeConversions['conversionA']-1)\n",
    "\n",
    "plt.axhline(y=0, color='black', linestyle='--')\n",
    "plt.axhline(y=0.15, color='grey', linestyle='--')\n",
    "plt.axis([dt.date(2019, 8, 1), dt.date(2019, 9, 1), -0.5, 0.5])\n",
    "plt.ylabel('доля относ. изменения, без размерности')\n",
    "plt.title('Изменение относительной кумалятивной конверсия В к А');"
   ]
  },
  {
   "cell_type": "markdown",
   "metadata": {},
   "source": [
    "Конверсия группы B стабильно лучше, чем у группы А"
   ]
  },
  {
   "cell_type": "markdown",
   "metadata": {},
   "source": [
    "#### Количество заказов на одного пользователя "
   ]
  },
  {
   "cell_type": "code",
   "execution_count": 24,
   "metadata": {},
   "outputs": [
    {
     "data": {
      "image/png": "[encoded data removed]",
      "text/plain": [
       "<Figure size 432x288 with 1 Axes>"
      ]
     },
     "metadata": {
      "needs_background": "light"
     },
     "output_type": "display_data"
    }
   ],
   "source": [
    "#считаем количество заказов на одного пользователя\n",
    "ordersByUsers = (\n",
    "    orders.groupby('visitorId', as_index=False)\n",
    "    .agg({'transactionId': pd.Series.nunique})\n",
    ")\n",
    "\n",
    "ordersByUsers.columns = ['visitorId', 'orders']\n",
    "\n",
    "x_values = pd.Series(range(0,len(ordersByUsers)))\n",
    "\n",
    "plt.scatter(x_values, ordersByUsers['orders'])\n",
    "plt.ylabel('заказы, шт')\n",
    "plt.xlabel('уникальные покупатели (по порядковым номерам, произвольно им присовенным)')\n",
    "plt.title('Количество заказов на одного пользователя, шт'); "
   ]
  },
  {
   "cell_type": "markdown",
   "metadata": {},
   "source": [
    "Большинство покупателей не делали более двух-трех заказов за этот месяц."
   ]
  },
  {
   "cell_type": "markdown",
   "metadata": {},
   "source": [
    "#### Посчитайте 95-й и 99-й перцентили количества заказов на пользователя. Выберите границу для определения аномальных пользователей."
   ]
  },
  {
   "cell_type": "code",
   "execution_count": 25,
   "metadata": {},
   "outputs": [
    {
     "name": "stdout",
     "output_type": "stream",
     "text": [
      "[2. 4.]\n"
     ]
    }
   ],
   "source": [
    "print(np.percentile(ordersByUsers['orders'], [95, 99])) "
   ]
  },
  {
   "cell_type": "markdown",
   "metadata": {},
   "source": [
    "Не более 5% пользователей оформляли больше 2 заказов. И 1% пользователей заказывали более 4. \n",
    "Выберем границу 3 заказа."
   ]
  },
  {
   "cell_type": "markdown",
   "metadata": {},
   "source": [
    "#### Стоимость заказа  "
   ]
  },
  {
   "cell_type": "code",
   "execution_count": 26,
   "metadata": {},
   "outputs": [
    {
     "data": {
      "image/png": "[encoded data removed]",
      "text/plain": [
       "<Figure size 432x288 with 1 Axes>"
      ]
     },
     "metadata": {
      "needs_background": "light"
     },
     "output_type": "display_data"
    }
   ],
   "source": [
    "x_values = pd.Series(range(0,len(orders['revenue'])))\n",
    "plt.scatter(x_values, orders['revenue'])\n",
    "plt.ylabel('у.е')\n",
    "plt.xlabel('заказы (по порядковым номерам, произвольно им присвоенным)')\n",
    "plt.title('Стоимость одного заказа, у.е');"
   ]
  },
  {
   "cell_type": "markdown",
   "metadata": {},
   "source": [
    "#### Посчитайте 95-й и 99-й перцентили стоимости заказов. Выберите границу для определения аномальных заказов."
   ]
  },
  {
   "cell_type": "code",
   "execution_count": 27,
   "metadata": {},
   "outputs": [
    {
     "name": "stdout",
     "output_type": "stream",
     "text": [
      "[28000.  58233.2]\n"
     ]
    }
   ],
   "source": [
    "print(np.percentile(orders['revenue'], [95, 99]))"
   ]
  },
  {
   "cell_type": "markdown",
   "metadata": {},
   "source": [
    "Выберем границу 28 000"
   ]
  },
  {
   "cell_type": "markdown",
   "metadata": {},
   "source": [
    "#### Посчитайте статистическую значимость различий в конверсии между группами по «сырым» данным. "
   ]
  },
  {
   "cell_type": "markdown",
   "metadata": {},
   "source": [
    "* Нулевая гипотеза: нет различий в конверсии между группами А и В. \n",
    "* Обратная гипотеза: различия в конверсии между двумя группами есть.\n",
    "\n",
    "Альфа - 5%\n",
    "\n",
    "При p-value меньше aльфа нулевая гипотеза отвергается."
   ]
  },
  {
   "cell_type": "code",
   "execution_count": 28,
   "metadata": {},
   "outputs": [
    {
     "name": "stdout",
     "output_type": "stream",
     "text": [
      "p-value: 0.017\n",
      "относительная разница конверсии В к А: 0.138\n"
     ]
    }
   ],
   "source": [
    "#создаем датасеты, содержащие количество посетителей в каждый день отдельно для двух групп.\n",
    "visitorsADaily = visitors[visitors['group'] == 'A'][['date', 'visitors']]\n",
    "visitorsADaily.columns = ['date', 'visitorsPerDateA']\n",
    "\n",
    "visitorsBDaily = visitors[visitors['group'] == 'B'][['date', 'visitors']]\n",
    "visitorsBDaily.columns = ['date', 'visitorsPerDateB']\n",
    "\n",
    "#создаем датасеты, содержащие количество заказов уникальных посетителей в каждый день \n",
    "#отдельно для двух групп (здесь посетители, оформившие хотя бы один заказ в этот день).\n",
    "ordersADaily = (\n",
    "    orders[orders['group'] == 'A'][['date', 'transactionId', 'visitorId', 'revenue']]\n",
    "    .groupby('date', as_index=False)\n",
    "    .agg({'transactionId': pd.Series.nunique, 'revenue': 'sum'})\n",
    ")\n",
    "ordersADaily.columns = ['date', 'ordersPerDateA', 'revenuePerDateA']\n",
    "\n",
    "ordersBDaily = (\n",
    "    orders[orders['group'] == 'B'][['date', 'transactionId', 'visitorId', 'revenue']]\n",
    "    .groupby('date', as_index=False)\n",
    "    .agg({'transactionId': pd.Series.nunique, 'revenue': 'sum'})\n",
    ")\n",
    "ordersBDaily.columns = ['date', 'ordersPerDateB', 'revenuePerDateB']\n",
    "\n",
    "#создаем список покупателей с количеством заказов\n",
    "ordersByUsersA = (\n",
    "    orders[orders['group'] == 'A']\n",
    "    .groupby('visitorId', as_index=False)\n",
    "    .agg({'transactionId': pd.Series.nunique})\n",
    ")\n",
    "ordersByUsersA.columns = ['visitorId', 'orders']\n",
    "\n",
    "ordersByUsersB = (\n",
    "    orders[orders['group'] == 'B']\n",
    "    .groupby('visitorId', as_index=False)\n",
    "    .agg({'transactionId': pd.Series.nunique})\n",
    ")\n",
    "ordersByUsersB.columns = ['visitorId', 'orders']\n",
    "\n",
    "#создаем список, содержащий:\n",
    "sampleA = pd.concat(\n",
    "    [\n",
    "        #1) количество заказов на одного пользователя\n",
    "        ordersByUsersA['orders'],\n",
    "        #2) нули - для посетителей не сделавших ни одного заказа\n",
    "        pd.Series(\n",
    "            0,\n",
    "            index=np.arange(\n",
    "                #считаем количество посетителей, не сделавших заказ\n",
    "                #(количество посетителей - количество покупателей:количество строк в списке покупателей) )\n",
    "                visitorsADaily['visitorsPerDateA'].sum() - len(ordersByUsersA['orders'])\n",
    "            ),\n",
    "            name='orders',\n",
    "        ),\n",
    "    ],\n",
    "    axis=0,\n",
    ")\n",
    "\n",
    "sampleB = pd.concat(\n",
    "    [\n",
    "        ordersByUsersB['orders'],\n",
    "        pd.Series(\n",
    "            0,\n",
    "            index=np.arange(\n",
    "                visitorsBDaily['visitorsPerDateB'].sum() - len(ordersByUsersB['orders'])\n",
    "            ),\n",
    "            name='orders',\n",
    "        ),\n",
    "    ],\n",
    "    axis=0,\n",
    ")\n",
    "\n",
    "#применяем тест Мана-Уитни к нашим спискам. \n",
    "#Среднее чисел в этих списках будет средней конверсией из визитов в заказы.\n",
    "\n",
    "print('p-value:', \"{0:.3f}\".format(stats.mannwhitneyu(sampleA, sampleB)[1]))\n",
    "\n",
    "print('относительная разница конверсии В к А:', \"{0:.3f}\".format(sampleB.mean() / sampleA.mean() - 1))\n"
   ]
  },
  {
   "cell_type": "markdown",
   "metadata": {},
   "source": [
    "По сырым данным p-value получилось менее 1%, что ниже уровня значимости альфа в 5%, значит отвергаем нулевую гипотезу, что группы А и B равны между собой. Относительный выигрыш группы B равен 13.8% "
   ]
  },
  {
   "cell_type": "markdown",
   "metadata": {},
   "source": [
    "#### Посчитайте статистическую значимость различий в среднем чеке заказа между группами по «сырым» данным."
   ]
  },
  {
   "cell_type": "markdown",
   "metadata": {},
   "source": [
    "* Нулевая гипотеза: нет различий в среднем чеке между группами А и В. \n",
    "* Обратная гипотеза: различия в среднем чеке между двумя группами есть.\n",
    "\n",
    "Альфа - 5%\n",
    "\n",
    "При p-value меньше aльфа нулевая гипотеза отвергается."
   ]
  },
  {
   "cell_type": "code",
   "execution_count": 29,
   "metadata": {},
   "outputs": [
    {
     "name": "stdout",
     "output_type": "stream",
     "text": [
      "0.729\n",
      "0.259\n"
     ]
    }
   ],
   "source": [
    "#применяем тест Мана-Уитни к series из стоимостей заказов, разделенных по группам А и В.\n",
    "print('{0:.3f}'.format(stats.mannwhitneyu(orders[orders['group']=='A']['revenue'], orders[orders['group']=='B']['revenue'])[1]))\n",
    "#считаем относительную разницу в среднем чеке между группами.\n",
    "print('{0:.3f}'.format(orders[orders['group']=='B']['revenue'].mean()/orders[orders['group']=='A']['revenue'].mean()-1)) "
   ]
  },
  {
   "cell_type": "markdown",
   "metadata": {},
   "source": [
    "По сырым данным p-value получилось около 36%, что выше уровня значимости альфа в 5%, значит нет оснований отвергать нулевую гипотезу о равенстве групп. Однако относительный выигрыш группы B равен 26%, очень велик, хоть и статистически не значим."
   ]
  },
  {
   "cell_type": "markdown",
   "metadata": {},
   "source": [
    "#### Посчитайте статистическую значимость различий в конверсии между группами по «очищенным» данным."
   ]
  },
  {
   "cell_type": "markdown",
   "metadata": {},
   "source": [
    "Мы проверим здесь одностороннюю гипотезу теста Мана Уитни, что конверсия группы B больше группы чем у А. \n",
    "* Нулевая гипотеза: нельзя судит о  различиях в конверсии между группами А и В. \n",
    "* Обратная гипотеза: Конверсия группы B больше чем А.\n",
    "\n",
    "Альфа - 2.5%\n",
    "\n",
    "При p-value меньше aльфа нулевая гипотеза отвергается, принимается обратная гипотеза. "
   ]
  },
  {
   "cell_type": "code",
   "execution_count": 30,
   "metadata": {},
   "outputs": [
    {
     "name": "stdout",
     "output_type": "stream",
     "text": [
      "количество выбросов: (63,)\n",
      "Очищенная конверсия, aльфа = 2,5%(односторонний тест Мана-Уитни)\n",
      "p-value: 0.009\n",
      "конверсия B: 0.030\n",
      "конверсия А: 0.027\n"
     ]
    }
   ],
   "source": [
    "#cоздаем список с id покупателей, которые являются выбросами\n",
    "usersWithManyOrders = pd.concat(\n",
    "    [\n",
    "        ordersByUsersA[ordersByUsersA['orders'] > 3]['visitorId'],\n",
    "        ordersByUsersB[ordersByUsersB['orders'] > 3]['visitorId'],\n",
    "    ],\n",
    "    axis=0,\n",
    ")\n",
    "usersWithExpensiveOrders = orders[orders['revenue'] > 28000]['visitorId']\n",
    "abnormalUsers = (\n",
    "    pd.concat([usersWithManyOrders, usersWithExpensiveOrders], axis=0)\n",
    "    .drop_duplicates()\n",
    "    .sort_values()\n",
    ")\n",
    "#print(abnormalUsers.head(5))\n",
    "print('количество выбросов:', abnormalUsers.shape) \n",
    "\n",
    "#исключаем заказы покупателей, которые являются выбросами\n",
    "sampleAFiltered = pd.concat(\n",
    "    [\n",
    "        ordersByUsersA[\n",
    "            np.logical_not(ordersByUsersA['visitorId'].isin(abnormalUsers))\n",
    "        ]['orders'],\n",
    "        pd.Series(\n",
    "            0,\n",
    "            index=np.arange(\n",
    "                visitorsADaily['visitorsPerDateA'].sum() - len(ordersByUsersA['orders'])\n",
    "            ),\n",
    "            name='orders',\n",
    "        ),\n",
    "    ],\n",
    "    axis=0,\n",
    ")\n",
    "\n",
    "sampleBFiltered = pd.concat(\n",
    "    [\n",
    "        ordersByUsersB[\n",
    "            np.logical_not(ordersByUsersB['visitorId'].isin(abnormalUsers))\n",
    "        ]['orders'],\n",
    "        pd.Series(\n",
    "            0,\n",
    "            index=np.arange(\n",
    "                visitorsBDaily['visitorsPerDateB'].sum() - len(ordersByUsersB['orders'])\n",
    "            ),\n",
    "            name='orders',\n",
    "        ),\n",
    "    ],\n",
    "    axis=0,\n",
    ")\n",
    "print('Очищенная конверсия, aльфа = 2,5%(односторонний тест Мана-Уитни)')\n",
    "print('p-value:', '{0:.3f}'.format(stats.mannwhitneyu(sampleAFiltered, sampleBFiltered, True, 'less')[1]))\n",
    "print('конверсия B:', '{0:.3f}'.format(sampleBFiltered.mean()))\n",
    "print('конверсия А:', '{0:.3f}'.format(sampleAFiltered.mean()))"
   ]
  },
  {
   "cell_type": "markdown",
   "metadata": {},
   "source": [
    "То, что мы очистили данные от выбросов не повлияли на результаты теста Мана Уитни, он по прежнему говорит, что разница между конверсиями статистически значима, хоть и не выглядет большой. На очищенных данных мы провели односторонний тест. Он подтвердил, что конверсия группы В больше группы А."
   ]
  },
  {
   "cell_type": "markdown",
   "metadata": {},
   "source": [
    "#### Посчитайте статистическую значимость различий в среднем чеке заказа между группами по «очищенным» данным."
   ]
  },
  {
   "cell_type": "code",
   "execution_count": 31,
   "metadata": {},
   "outputs": [
    {
     "name": "stdout",
     "output_type": "stream",
     "text": [
      "Средний чек, альфа 5% тест Мана-Уитни\n",
      "p-value 0.977\n",
      "относительная разница B к А -0.017\n"
     ]
    }
   ],
   "source": [
    "print('Средний чек, альфа 5% тест Мана-Уитни')\n",
    "print('p-value '\n",
    "    '{0:.3f}'.format(\n",
    "        stats.mannwhitneyu(\n",
    "            orders[\n",
    "                np.logical_and(\n",
    "                    orders['group'] == 'A',\n",
    "                    np.logical_not(orders['visitorId'].isin(abnormalUsers)),\n",
    "                )\n",
    "            ]['revenue'],\n",
    "            orders[\n",
    "                np.logical_and(\n",
    "                    orders['group'] == 'B',\n",
    "                    np.logical_not(orders['visitorId'].isin(abnormalUsers)),\n",
    "                )\n",
    "            ]['revenue'],\n",
    "        )[1]\n",
    "    )\n",
    ")\n",
    "\n",
    "print('относительная разница B к А '\n",
    "    \"{0:.3f}\".format(\n",
    "        orders[\n",
    "            np.logical_and(\n",
    "                orders['group'] == 'B',\n",
    "                np.logical_not(orders['visitorId'].isin(abnormalUsers)),\n",
    "            )\n",
    "        ]['revenue'].mean()\n",
    "        / orders[\n",
    "            np.logical_and(\n",
    "                orders['group'] == 'A',\n",
    "                np.logical_not(orders['visitorId'].isin(abnormalUsers)),\n",
    "            )\n",
    "        ]['revenue'].mean()\n",
    "        - 1\n",
    "    )\n",
    ") "
   ]
  },
  {
   "cell_type": "markdown",
   "metadata": {},
   "source": [
    "Тест Мана Уитни, приминенный к очищенным данным также говорит о том, что гипотеза о равенстве групп не опровергается. Но разница получается намного меньше чем по сырым данным и с другим знаком. Ниже график среднего чека по очищенным данным для иллюстрации."
   ]
  },
  {
   "cell_type": "code",
   "execution_count": 32,
   "metadata": {},
   "outputs": [
    {
     "data": {
      "image/png": "[encoded data removed]",
      "text/plain": [
       "<Figure size 1080x360 with 1 Axes>"
      ]
     },
     "metadata": {
      "needs_background": "light"
     },
     "output_type": "display_data"
    }
   ],
   "source": [
    "orders_filt = orders[np.logical_not(orders['visitorId'].isin(abnormalUsers))]\n",
    "\n",
    "# создаем массив уникальных пар значений дат и групп теста\n",
    "datesGroups = orders_filt[['date','group']].drop_duplicates()\n",
    "\n",
    "# получаем агрегированные кумулятивные по дням данные о заказах \n",
    "ordersAggregated = datesGroups.apply(lambda x: orders_filt[np.logical_and(orders_filt['date'] <= x['date'], orders_filt['group'] == x['group'])].agg({'date' : 'max', 'group' : 'max', 'transactionId' : 'nunique', 'visitorId' : 'nunique', 'revenue' : 'sum'}), axis=1).sort_values(by=['date','group'])\n",
    "\n",
    "# получаем агрегированные кумулятивные по дням данные о посетителях интернет-магазина \n",
    "visitorsAggregated = datesGroups.apply(lambda x: visitors[np.logical_and(visitors['date'] <= x['date'], visitors['group'] == x['group'])].agg({'date' : 'max', 'group' : 'max', 'visitors' : 'sum'}), axis=1).sort_values(by=['date','group'])\n",
    "\n",
    "# объединяем кумулятивные данные в одной таблице и присваиваем ее столбцам понятные названия\n",
    "cumulativeData = ordersAggregated.merge(visitorsAggregated, left_on=['date', 'group'], right_on=['date', 'group'])\n",
    "cumulativeData.columns = ['date', 'group', 'orders', 'buyers', 'revenue', 'visitors']\n",
    "\n",
    "# датафрейм с кумулятивным количеством заказов и кумулятивной выручкой по дням в группе А\n",
    "cumulativeRevenueA = cumulativeData[cumulativeData['group']=='A'][['date','revenue', 'orders']]\n",
    "\n",
    "# датафрейм с кумулятивным количеством заказов и кумулятивной выручкой по дням в группе B\n",
    "cumulativeRevenueB = cumulativeData[cumulativeData['group']=='B'][['date','revenue', 'orders']]\n",
    "\n",
    "plt.figure(figsize = (15,5))\n",
    "plt.plot(cumulativeRevenueA['date'], cumulativeRevenueA['revenue']/cumulativeRevenueA['orders'], label='A')\n",
    "plt.plot(cumulativeRevenueB['date'], cumulativeRevenueB['revenue']/cumulativeRevenueB['orders'], label='B')\n",
    "plt.legend()\n",
    "plt.grid()\n",
    "plt.title('Динамика среднего чека по группам (очищенные данные), у.е.')\n",
    "plt.ylabel('у.e.')\n",
    "plt.show();"
   ]
  },
  {
   "cell_type": "code",
   "execution_count": 33,
   "metadata": {},
   "outputs": [
    {
     "data": {
      "image/png": "[encoded data removed]",
      "text/plain": [
       "<Figure size 1080x360 with 1 Axes>"
      ]
     },
     "metadata": {
      "needs_background": "light"
     },
     "output_type": "display_data"
    }
   ],
   "source": [
    "# собираем данные в одном датафрейме\n",
    "mergedCumulativeRevenue = cumulativeRevenueA.merge(cumulativeRevenueB, left_on='date', right_on='date', how='left', suffixes=['A', 'B'])\n",
    "\n",
    "# cтроим отношение средних чеков\n",
    "plt.figure(figsize = (15,5))\n",
    "plt.plot(mergedCumulativeRevenue['date'], (mergedCumulativeRevenue['revenueB']/mergedCumulativeRevenue['ordersB'])/(mergedCumulativeRevenue['revenueA']/mergedCumulativeRevenue['ordersA'])-1)\n",
    "\n",
    "# добавляем ось X\n",
    "plt.axhline(y=0, color='black', linestyle='--')\n",
    "plt.title('Относительное изменение кумулятивного среднего чека группы B к группе A (очищенные данные)')\n",
    "plt.ylabel('без размерности');"
   ]
  },
  {
   "cell_type": "markdown",
   "metadata": {},
   "source": [
    "#### Примите решение по результатам теста. "
   ]
  },
  {
   "cell_type": "markdown",
   "metadata": {},
   "source": [
    "**Варианты решений:** \n",
    "\n",
    "* 1. Остановить тест, зафиксировать победу одной из групп. \n",
    "\n",
    "* 2. Остановить тест, зафиксировать отсутствие различий между группами. \n",
    "\n",
    "* 3. Продолжить тест."
   ]
  },
  {
   "cell_type": "markdown",
   "metadata": {},
   "source": [
    "**Принято решение остановить тест.**  \n",
    "* По конверсиям группы различаются. Группа B побеждает с небольшим отрывом. \n",
    "* По размеру среднего чека не удалось выявить статистически значимых различий между группами. Тот факт что график кумулятивного среднего чека группы В с середины месяца значительно превышает чек группы А, объясняется выбросами. "
   ]
  },
  {
   "cell_type": "markdown",
   "metadata": {},
   "source": [
    "## Вывод "
   ]
  },
  {
   "cell_type": "markdown",
   "metadata": {},
   "source": [
    "Самыми выигрышными для проверки, согласно подходу RICE оказались гипотезы \"Добавить форму для для e-mail подписки\" и \"Добавить блоки рекномендаций товаров на сайт\".\n",
    "\n",
    "В результате предобработки данных были выявлены замечания, но было решено проводить АB тест ввиду невозможности их поменять. Мы предполагаем, что эти проблемы с данными не критичны, тк. не превышают 10% всех данных.\n",
    "\n",
    "Результаты АB теста:\n",
    "\n",
    "* По конверсиям группы различаются. Группа B побеждает с небольшим отрывом. \n",
    "* По размеру среднего чека не удалось выявить статистически значимых различий между группами. \n"
   ]
  },
  {
   "cell_type": "code",
   "execution_count": null,
   "metadata": {},
   "outputs": [],
   "source": []
  }
 ],
 "metadata": {
  "ExecuteTimeLog": [
   {
    "duration": 430,
    "start_time": "2022-02-22T06:56:13.282Z"
   },
   {
    "duration": 809,
    "start_time": "2022-02-22T06:56:23.086Z"
   },
   {
    "duration": 66,
    "start_time": "2022-02-22T06:56:26.653Z"
   },
   {
    "duration": 22,
    "start_time": "2022-02-22T06:56:29.714Z"
   },
   {
    "duration": 12,
    "start_time": "2022-02-22T06:56:42.935Z"
   },
   {
    "duration": 4,
    "start_time": "2022-02-22T07:00:18.899Z"
   },
   {
    "duration": 31,
    "start_time": "2022-02-22T07:00:21.874Z"
   },
   {
    "duration": 13,
    "start_time": "2022-02-22T07:00:24.006Z"
   },
   {
    "duration": 791,
    "start_time": "2022-02-22T07:00:54.821Z"
   },
   {
    "duration": 3,
    "start_time": "2022-02-22T07:00:55.615Z"
   },
   {
    "duration": 23,
    "start_time": "2022-02-22T07:00:55.624Z"
   },
   {
    "duration": 28,
    "start_time": "2022-02-22T07:00:55.649Z"
   },
   {
    "duration": 814,
    "start_time": "2022-02-22T07:01:21.880Z"
   },
   {
    "duration": 3,
    "start_time": "2022-02-22T07:01:22.697Z"
   },
   {
    "duration": 26,
    "start_time": "2022-02-22T07:01:22.702Z"
   },
   {
    "duration": 21,
    "start_time": "2022-02-22T07:01:22.731Z"
   },
   {
    "duration": 801,
    "start_time": "2022-02-22T07:01:44.576Z"
   },
   {
    "duration": 4,
    "start_time": "2022-02-22T07:01:45.380Z"
   },
   {
    "duration": 24,
    "start_time": "2022-02-22T07:01:45.387Z"
   },
   {
    "duration": 22,
    "start_time": "2022-02-22T07:01:45.414Z"
   },
   {
    "duration": 9430,
    "start_time": "2022-02-22T07:02:42.505Z"
   },
   {
    "duration": 15,
    "start_time": "2022-02-22T07:04:00.756Z"
   },
   {
    "duration": 13,
    "start_time": "2022-02-22T07:04:12.676Z"
   },
   {
    "duration": 13,
    "start_time": "2022-02-22T07:06:03.858Z"
   },
   {
    "duration": 13,
    "start_time": "2022-02-22T07:06:46.379Z"
   },
   {
    "duration": 855,
    "start_time": "2022-02-22T07:07:48.126Z"
   },
   {
    "duration": 4,
    "start_time": "2022-02-22T07:07:48.984Z"
   },
   {
    "duration": 28,
    "start_time": "2022-02-22T07:07:48.991Z"
   },
   {
    "duration": 33,
    "start_time": "2022-02-22T07:07:49.022Z"
   },
   {
    "duration": 16,
    "start_time": "2022-02-22T07:07:49.058Z"
   },
   {
    "duration": 67,
    "start_time": "2022-02-22T07:07:49.076Z"
   },
   {
    "duration": 796,
    "start_time": "2022-02-22T07:08:12.319Z"
   },
   {
    "duration": 5,
    "start_time": "2022-02-22T07:08:13.118Z"
   },
   {
    "duration": 23,
    "start_time": "2022-02-22T07:08:13.127Z"
   },
   {
    "duration": 25,
    "start_time": "2022-02-22T07:08:13.154Z"
   },
   {
    "duration": 39,
    "start_time": "2022-02-22T07:08:13.181Z"
   },
   {
    "duration": 13,
    "start_time": "2022-02-22T07:08:13.222Z"
   },
   {
    "duration": 809,
    "start_time": "2022-02-22T07:08:35.511Z"
   },
   {
    "duration": 4,
    "start_time": "2022-02-22T07:08:36.323Z"
   },
   {
    "duration": 26,
    "start_time": "2022-02-22T07:08:36.330Z"
   },
   {
    "duration": 24,
    "start_time": "2022-02-22T07:08:36.359Z"
   },
   {
    "duration": 16,
    "start_time": "2022-02-22T07:08:36.386Z"
   },
   {
    "duration": 17,
    "start_time": "2022-02-22T07:08:36.404Z"
   },
   {
    "duration": 802,
    "start_time": "2022-02-22T07:09:18.341Z"
   },
   {
    "duration": 4,
    "start_time": "2022-02-22T07:09:19.146Z"
   },
   {
    "duration": 22,
    "start_time": "2022-02-22T07:09:19.153Z"
   },
   {
    "duration": 36,
    "start_time": "2022-02-22T07:09:19.178Z"
   },
   {
    "duration": 15,
    "start_time": "2022-02-22T07:09:19.217Z"
   },
   {
    "duration": 12,
    "start_time": "2022-02-22T07:09:19.235Z"
   },
   {
    "duration": 4,
    "start_time": "2022-02-22T07:09:33.216Z"
   },
   {
    "duration": 757,
    "start_time": "2022-02-22T07:09:45.441Z"
   },
   {
    "duration": 11,
    "start_time": "2022-02-22T07:09:46.200Z"
   },
   {
    "duration": 22,
    "start_time": "2022-02-22T07:09:46.214Z"
   },
   {
    "duration": 21,
    "start_time": "2022-02-22T07:09:46.238Z"
   },
   {
    "duration": 7,
    "start_time": "2022-02-22T07:09:46.261Z"
   },
   {
    "duration": 11,
    "start_time": "2022-02-22T07:09:46.271Z"
   },
   {
    "duration": 791,
    "start_time": "2022-02-22T07:10:41.319Z"
   },
   {
    "duration": 4,
    "start_time": "2022-02-22T07:10:42.113Z"
   },
   {
    "duration": 22,
    "start_time": "2022-02-22T07:10:42.121Z"
   },
   {
    "duration": 25,
    "start_time": "2022-02-22T07:10:42.146Z"
   },
   {
    "duration": 7,
    "start_time": "2022-02-22T07:10:42.173Z"
   },
   {
    "duration": 30,
    "start_time": "2022-02-22T07:10:42.182Z"
   },
   {
    "duration": 799,
    "start_time": "2022-02-22T07:11:17.370Z"
   },
   {
    "duration": 5,
    "start_time": "2022-02-22T07:11:18.172Z"
   },
   {
    "duration": 43,
    "start_time": "2022-02-22T07:11:18.181Z"
   },
   {
    "duration": 38,
    "start_time": "2022-02-22T07:11:18.227Z"
   },
   {
    "duration": 15,
    "start_time": "2022-02-22T07:11:18.268Z"
   },
   {
    "duration": 15,
    "start_time": "2022-02-22T07:11:18.285Z"
   },
   {
    "duration": 746,
    "start_time": "2022-02-22T07:12:21.457Z"
   },
   {
    "duration": 5,
    "start_time": "2022-02-22T07:12:22.206Z"
   },
   {
    "duration": 23,
    "start_time": "2022-02-22T07:12:22.215Z"
   },
   {
    "duration": 24,
    "start_time": "2022-02-22T07:12:22.240Z"
   },
   {
    "duration": 15,
    "start_time": "2022-02-22T07:12:22.267Z"
   },
   {
    "duration": 35,
    "start_time": "2022-02-22T07:12:22.285Z"
   },
   {
    "duration": 461,
    "start_time": "2022-02-22T07:16:28.086Z"
   },
   {
    "duration": 17,
    "start_time": "2022-02-22T07:16:37.536Z"
   },
   {
    "duration": 398,
    "start_time": "2022-02-22T07:17:53.909Z"
   },
   {
    "duration": 18,
    "start_time": "2022-02-22T07:18:20.480Z"
   },
   {
    "duration": 436,
    "start_time": "2022-02-22T07:18:46.095Z"
   },
   {
    "duration": 562,
    "start_time": "2022-02-22T07:19:30.727Z"
   },
   {
    "duration": 363,
    "start_time": "2022-02-22T07:21:52.614Z"
   },
   {
    "duration": 426,
    "start_time": "2022-02-22T07:22:18.455Z"
   },
   {
    "duration": 383,
    "start_time": "2022-02-22T07:22:31.909Z"
   },
   {
    "duration": 394,
    "start_time": "2022-02-22T07:22:53.663Z"
   },
   {
    "duration": 389,
    "start_time": "2022-02-22T07:23:12.704Z"
   },
   {
    "duration": 385,
    "start_time": "2022-02-22T07:23:28.742Z"
   },
   {
    "duration": 361,
    "start_time": "2022-02-22T07:24:47.027Z"
   },
   {
    "duration": 154,
    "start_time": "2022-02-22T07:25:23.091Z"
   },
   {
    "duration": 369,
    "start_time": "2022-02-22T07:26:02.229Z"
   },
   {
    "duration": 18,
    "start_time": "2022-02-22T07:26:20.100Z"
   },
   {
    "duration": 17,
    "start_time": "2022-02-22T07:27:05.087Z"
   },
   {
    "duration": 15,
    "start_time": "2022-02-22T07:29:38.952Z"
   },
   {
    "duration": 15,
    "start_time": "2022-02-22T07:29:49.662Z"
   },
   {
    "duration": 15,
    "start_time": "2022-02-22T07:36:10.079Z"
   },
   {
    "duration": 15,
    "start_time": "2022-02-22T07:37:09.544Z"
   },
   {
    "duration": 18,
    "start_time": "2022-02-22T07:37:24.967Z"
   },
   {
    "duration": 20,
    "start_time": "2022-02-22T07:38:23.643Z"
   },
   {
    "duration": 23,
    "start_time": "2022-02-22T07:42:33.502Z"
   },
   {
    "duration": 22,
    "start_time": "2022-02-22T07:43:09.207Z"
   },
   {
    "duration": 23,
    "start_time": "2022-02-22T07:43:31.609Z"
   },
   {
    "duration": 23,
    "start_time": "2022-02-22T07:44:08.402Z"
   },
   {
    "duration": 22,
    "start_time": "2022-02-22T07:45:32.246Z"
   },
   {
    "duration": 874,
    "start_time": "2022-02-22T07:46:53.452Z"
   },
   {
    "duration": 4,
    "start_time": "2022-02-22T07:46:54.329Z"
   },
   {
    "duration": 34,
    "start_time": "2022-02-22T07:46:54.336Z"
   },
   {
    "duration": 23,
    "start_time": "2022-02-22T07:46:54.373Z"
   },
   {
    "duration": 31,
    "start_time": "2022-02-22T07:46:54.398Z"
   },
   {
    "duration": 22,
    "start_time": "2022-02-22T07:47:43.830Z"
   },
   {
    "duration": 24,
    "start_time": "2022-02-22T07:50:18.333Z"
   },
   {
    "duration": 21,
    "start_time": "2022-02-22T07:50:35.146Z"
   },
   {
    "duration": 24,
    "start_time": "2022-02-22T07:51:19.264Z"
   },
   {
    "duration": 25,
    "start_time": "2022-02-22T07:52:37.469Z"
   },
   {
    "duration": 19,
    "start_time": "2022-02-22T07:56:45.786Z"
   },
   {
    "duration": 28,
    "start_time": "2022-02-22T07:58:26.061Z"
   },
   {
    "duration": 21,
    "start_time": "2022-02-22T07:58:54.823Z"
   },
   {
    "duration": 23,
    "start_time": "2022-02-22T07:59:40.881Z"
   },
   {
    "duration": 1238,
    "start_time": "2022-02-22T08:01:39.805Z"
   },
   {
    "duration": -566,
    "start_time": "2022-02-22T08:01:41.613Z"
   },
   {
    "duration": -568,
    "start_time": "2022-02-22T08:01:41.617Z"
   },
   {
    "duration": -574,
    "start_time": "2022-02-22T08:01:41.624Z"
   },
   {
    "duration": -576,
    "start_time": "2022-02-22T08:01:41.628Z"
   },
   {
    "duration": 777,
    "start_time": "2022-02-22T08:02:12.533Z"
   },
   {
    "duration": 4,
    "start_time": "2022-02-22T08:02:13.313Z"
   },
   {
    "duration": 932,
    "start_time": "2022-02-22T08:02:13.323Z"
   },
   {
    "duration": 15,
    "start_time": "2022-02-22T08:02:14.258Z"
   },
   {
    "duration": 47,
    "start_time": "2022-02-22T08:02:14.276Z"
   },
   {
    "duration": 45,
    "start_time": "2022-02-22T08:02:49.938Z"
   },
   {
    "duration": 55,
    "start_time": "2022-02-22T08:03:06.235Z"
   },
   {
    "duration": 42,
    "start_time": "2022-02-22T08:03:27.801Z"
   },
   {
    "duration": 762,
    "start_time": "2022-02-22T08:03:44.316Z"
   },
   {
    "duration": 5,
    "start_time": "2022-02-22T08:03:45.082Z"
   },
   {
    "duration": 862,
    "start_time": "2022-02-22T08:03:45.091Z"
   },
   {
    "duration": 16,
    "start_time": "2022-02-22T08:03:45.957Z"
   },
   {
    "duration": 55,
    "start_time": "2022-02-22T08:03:45.976Z"
   },
   {
    "duration": 755,
    "start_time": "2022-02-22T08:04:49.958Z"
   },
   {
    "duration": 16,
    "start_time": "2022-02-22T08:05:12.520Z"
   },
   {
    "duration": 406,
    "start_time": "2022-02-22T08:09:54.314Z"
   },
   {
    "duration": 420,
    "start_time": "2022-02-22T08:10:22.118Z"
   },
   {
    "duration": 25,
    "start_time": "2022-02-22T08:10:36.318Z"
   },
   {
    "duration": 634,
    "start_time": "2022-02-22T08:14:43.018Z"
   },
   {
    "duration": 41,
    "start_time": "2022-02-22T08:15:01.217Z"
   },
   {
    "duration": 825,
    "start_time": "2022-02-22T08:15:50.001Z"
   },
   {
    "duration": 4,
    "start_time": "2022-02-22T08:15:50.829Z"
   },
   {
    "duration": 36,
    "start_time": "2022-02-22T08:15:50.836Z"
   },
   {
    "duration": 842,
    "start_time": "2022-02-22T08:15:50.875Z"
   },
   {
    "duration": 33,
    "start_time": "2022-02-22T08:15:51.720Z"
   },
   {
    "duration": 480,
    "start_time": "2022-02-22T08:16:58.408Z"
   },
   {
    "duration": 424,
    "start_time": "2022-02-22T08:17:18.306Z"
   },
   {
    "duration": 22,
    "start_time": "2022-02-22T08:17:43.772Z"
   },
   {
    "duration": 363,
    "start_time": "2022-02-22T08:18:19.879Z"
   },
   {
    "duration": 383,
    "start_time": "2022-02-22T08:18:36.994Z"
   },
   {
    "duration": 802,
    "start_time": "2022-02-22T08:18:49.295Z"
   },
   {
    "duration": 4,
    "start_time": "2022-02-22T08:18:50.100Z"
   },
   {
    "duration": 35,
    "start_time": "2022-02-22T08:18:50.111Z"
   },
   {
    "duration": 1091,
    "start_time": "2022-02-22T08:18:50.148Z"
   },
   {
    "duration": 36,
    "start_time": "2022-02-22T08:18:51.241Z"
   },
   {
    "duration": 21,
    "start_time": "2022-02-22T08:19:35.410Z"
   },
   {
    "duration": 25804,
    "start_time": "2022-02-22T08:35:22.116Z"
   },
   {
    "duration": 11257,
    "start_time": "2022-02-22T08:37:10.939Z"
   },
   {
    "duration": 1496,
    "start_time": "2022-02-22T08:37:51.202Z"
   },
   {
    "duration": 40,
    "start_time": "2022-02-22T08:37:52.700Z"
   },
   {
    "duration": 754,
    "start_time": "2022-02-22T08:37:52.744Z"
   },
   {
    "duration": 522,
    "start_time": "2022-02-22T08:37:53.509Z"
   },
   {
    "duration": 528,
    "start_time": "2022-02-22T08:43:38.992Z"
   },
   {
    "duration": 127,
    "start_time": "2022-02-22T08:46:46.746Z"
   },
   {
    "duration": 446,
    "start_time": "2022-02-22T08:46:53.369Z"
   },
   {
    "duration": 140,
    "start_time": "2022-02-22T08:49:19.753Z"
   },
   {
    "duration": 712,
    "start_time": "2022-02-22T08:49:46.317Z"
   },
   {
    "duration": 1817,
    "start_time": "2022-02-22T08:50:06.877Z"
   },
   {
    "duration": 31,
    "start_time": "2022-02-22T08:50:08.697Z"
   },
   {
    "duration": 861,
    "start_time": "2022-02-22T08:50:08.731Z"
   },
   {
    "duration": 850,
    "start_time": "2022-02-22T08:50:09.596Z"
   },
   {
    "duration": -601,
    "start_time": "2022-02-22T08:50:11.050Z"
   },
   {
    "duration": 4,
    "start_time": "2022-02-22T08:50:36.655Z"
   },
   {
    "duration": 401,
    "start_time": "2022-02-22T08:50:41.518Z"
   },
   {
    "duration": 26,
    "start_time": "2022-02-22T08:51:14.570Z"
   },
   {
    "duration": 375,
    "start_time": "2022-02-22T08:51:31.471Z"
   },
   {
    "duration": 30,
    "start_time": "2022-02-22T08:55:44.944Z"
   },
   {
    "duration": 27,
    "start_time": "2022-02-22T08:56:05.388Z"
   },
   {
    "duration": 557,
    "start_time": "2022-02-22T08:56:25.634Z"
   },
   {
    "duration": 25,
    "start_time": "2022-02-22T08:57:11.213Z"
   },
   {
    "duration": 68,
    "start_time": "2022-02-22T08:58:04.111Z"
   },
   {
    "duration": 27,
    "start_time": "2022-02-22T08:59:08.360Z"
   },
   {
    "duration": 23,
    "start_time": "2022-02-22T08:59:58.953Z"
   },
   {
    "duration": 40,
    "start_time": "2022-02-22T09:01:46.828Z"
   },
   {
    "duration": 4,
    "start_time": "2022-02-22T09:03:30.646Z"
   },
   {
    "duration": 51,
    "start_time": "2022-02-22T09:03:40.872Z"
   },
   {
    "duration": 49,
    "start_time": "2022-02-22T09:04:41.925Z"
   },
   {
    "duration": 43,
    "start_time": "2022-02-22T09:05:05.941Z"
   },
   {
    "duration": 83,
    "start_time": "2022-02-22T09:05:53.270Z"
   },
   {
    "duration": 55,
    "start_time": "2022-02-22T09:06:18.554Z"
   },
   {
    "duration": 139,
    "start_time": "2022-02-22T09:06:33.685Z"
   },
   {
    "duration": 54,
    "start_time": "2022-02-22T09:06:43.481Z"
   },
   {
    "duration": 30,
    "start_time": "2022-02-22T09:07:06.255Z"
   },
   {
    "duration": 40,
    "start_time": "2022-02-22T09:07:37.644Z"
   },
   {
    "duration": 748,
    "start_time": "2022-02-22T09:08:15.247Z"
   },
   {
    "duration": 21,
    "start_time": "2022-02-22T09:08:15.999Z"
   },
   {
    "duration": 834,
    "start_time": "2022-02-22T09:08:16.023Z"
   },
   {
    "duration": 65,
    "start_time": "2022-02-22T09:08:16.860Z"
   },
   {
    "duration": 27,
    "start_time": "2022-02-22T09:08:16.928Z"
   },
   {
    "duration": 50,
    "start_time": "2022-02-22T09:08:35.622Z"
   },
   {
    "duration": 39,
    "start_time": "2022-02-22T09:08:49.558Z"
   },
   {
    "duration": 38,
    "start_time": "2022-02-22T09:09:03.251Z"
   },
   {
    "duration": 42,
    "start_time": "2022-02-22T09:09:14.953Z"
   },
   {
    "duration": 500,
    "start_time": "2022-02-22T09:15:07.493Z"
   },
   {
    "duration": 1627,
    "start_time": "2022-02-22T09:15:15.569Z"
   },
   {
    "duration": 20,
    "start_time": "2022-02-22T09:15:17.199Z"
   },
   {
    "duration": 831,
    "start_time": "2022-02-22T09:15:17.222Z"
   },
   {
    "duration": 60,
    "start_time": "2022-02-22T09:15:18.056Z"
   },
   {
    "duration": 30,
    "start_time": "2022-02-22T09:15:18.120Z"
   },
   {
    "duration": 47,
    "start_time": "2022-02-22T09:18:24.867Z"
   },
   {
    "duration": 42,
    "start_time": "2022-02-22T09:19:00.616Z"
   },
   {
    "duration": 1115,
    "start_time": "2022-02-22T11:55:11.278Z"
   },
   {
    "duration": 17,
    "start_time": "2022-02-22T11:55:12.395Z"
   },
   {
    "duration": 328,
    "start_time": "2022-02-22T11:55:12.415Z"
   },
   {
    "duration": 32,
    "start_time": "2022-02-22T11:55:12.745Z"
   },
   {
    "duration": 18,
    "start_time": "2022-02-22T11:55:12.779Z"
   },
   {
    "duration": 26,
    "start_time": "2022-02-22T11:55:22.568Z"
   },
   {
    "duration": 27,
    "start_time": "2022-02-22T12:02:26.746Z"
   },
   {
    "duration": 16,
    "start_time": "2022-02-22T12:03:35.441Z"
   },
   {
    "duration": 30,
    "start_time": "2022-02-22T12:04:45.670Z"
   },
   {
    "duration": 15,
    "start_time": "2022-02-22T12:04:53.452Z"
   },
   {
    "duration": 3,
    "start_time": "2022-02-22T12:06:31.076Z"
   },
   {
    "duration": 3,
    "start_time": "2022-02-22T12:07:48.575Z"
   },
   {
    "duration": 36,
    "start_time": "2022-02-22T12:09:04.322Z"
   },
   {
    "duration": 1007,
    "start_time": "2022-02-22T12:09:56.893Z"
   },
   {
    "duration": 17,
    "start_time": "2022-02-22T12:10:54.348Z"
   },
   {
    "duration": 49,
    "start_time": "2022-02-22T12:11:18.094Z"
   },
   {
    "duration": 40,
    "start_time": "2022-02-22T12:11:27.574Z"
   },
   {
    "duration": 5812,
    "start_time": "2022-02-22T12:13:04.352Z"
   },
   {
    "duration": 179,
    "start_time": "2022-02-22T12:14:05.611Z"
   },
   {
    "duration": 3,
    "start_time": "2022-02-22T12:14:27.043Z"
   },
   {
    "duration": 357,
    "start_time": "2022-02-22T12:16:20.350Z"
   },
   {
    "duration": 220,
    "start_time": "2022-02-22T12:17:33.005Z"
   },
   {
    "duration": 217,
    "start_time": "2022-02-22T12:17:41.633Z"
   },
   {
    "duration": 228,
    "start_time": "2022-02-22T12:17:49.091Z"
   },
   {
    "duration": 301,
    "start_time": "2022-02-22T12:17:57.854Z"
   },
   {
    "duration": 448,
    "start_time": "2022-02-22T12:19:26.324Z"
   },
   {
    "duration": 279,
    "start_time": "2022-02-22T12:19:57.283Z"
   },
   {
    "duration": 210,
    "start_time": "2022-02-22T12:20:25.206Z"
   },
   {
    "duration": 295,
    "start_time": "2022-02-22T12:20:55.126Z"
   },
   {
    "duration": 83,
    "start_time": "2022-02-22T12:22:07.994Z"
   },
   {
    "duration": 288,
    "start_time": "2022-02-22T12:22:20.806Z"
   },
   {
    "duration": 298,
    "start_time": "2022-02-22T12:22:39.421Z"
   },
   {
    "duration": 447,
    "start_time": "2022-02-22T12:23:14.553Z"
   },
   {
    "duration": 430,
    "start_time": "2022-02-22T12:23:32.834Z"
   },
   {
    "duration": 282,
    "start_time": "2022-02-22T12:24:32.532Z"
   },
   {
    "duration": 301,
    "start_time": "2022-02-22T12:24:52.459Z"
   },
   {
    "duration": 301,
    "start_time": "2022-02-22T12:25:19.441Z"
   },
   {
    "duration": 780,
    "start_time": "2022-02-22T12:26:13.636Z"
   },
   {
    "duration": 228,
    "start_time": "2022-02-22T12:28:06.508Z"
   },
   {
    "duration": 303,
    "start_time": "2022-02-22T12:29:03.774Z"
   },
   {
    "duration": 422,
    "start_time": "2022-02-22T12:31:35.773Z"
   },
   {
    "duration": 307,
    "start_time": "2022-02-22T12:31:40.668Z"
   },
   {
    "duration": 385,
    "start_time": "2022-02-22T12:32:17.229Z"
   },
   {
    "duration": 402,
    "start_time": "2022-02-22T12:34:25.480Z"
   },
   {
    "duration": 294,
    "start_time": "2022-02-22T12:38:26.642Z"
   },
   {
    "duration": 238,
    "start_time": "2022-02-22T12:39:09.595Z"
   },
   {
    "duration": 300,
    "start_time": "2022-02-22T12:39:20.771Z"
   },
   {
    "duration": 306,
    "start_time": "2022-02-22T12:40:32.392Z"
   },
   {
    "duration": 367,
    "start_time": "2022-02-22T12:42:26.422Z"
   },
   {
    "duration": 270,
    "start_time": "2022-02-22T12:42:44.035Z"
   },
   {
    "duration": 285,
    "start_time": "2022-02-22T12:43:07.985Z"
   },
   {
    "duration": 71,
    "start_time": "2022-02-22T12:44:31.544Z"
   },
   {
    "duration": 55,
    "start_time": "2022-02-22T12:44:59.708Z"
   },
   {
    "duration": 659,
    "start_time": "2022-02-22T12:46:14.110Z"
   },
   {
    "duration": 490,
    "start_time": "2022-02-22T12:46:38.707Z"
   },
   {
    "duration": 494,
    "start_time": "2022-02-22T12:47:21.459Z"
   },
   {
    "duration": 511,
    "start_time": "2022-02-22T12:47:50.896Z"
   },
   {
    "duration": 279,
    "start_time": "2022-02-22T12:48:17.024Z"
   },
   {
    "duration": 361,
    "start_time": "2022-02-22T12:50:10.389Z"
   },
   {
    "duration": 417,
    "start_time": "2022-02-22T12:51:06.602Z"
   },
   {
    "duration": 418,
    "start_time": "2022-02-22T12:52:17.517Z"
   },
   {
    "duration": 387,
    "start_time": "2022-02-22T12:52:59.946Z"
   },
   {
    "duration": 487,
    "start_time": "2022-02-22T12:53:04.738Z"
   },
   {
    "duration": 395,
    "start_time": "2022-02-22T12:53:16.904Z"
   },
   {
    "duration": 410,
    "start_time": "2022-02-22T12:55:23.296Z"
   },
   {
    "duration": 4695,
    "start_time": "2022-02-22T12:55:33.783Z"
   },
   {
    "duration": 275,
    "start_time": "2022-02-22T12:56:52.775Z"
   },
   {
    "duration": 304,
    "start_time": "2022-02-22T12:57:03.637Z"
   },
   {
    "duration": 328,
    "start_time": "2022-02-22T12:57:48.218Z"
   },
   {
    "duration": 6170,
    "start_time": "2022-02-22T13:10:06.136Z"
   },
   {
    "duration": 201,
    "start_time": "2022-02-22T13:10:21.528Z"
   },
   {
    "duration": 69,
    "start_time": "2022-02-22T13:13:57.287Z"
   },
   {
    "duration": 63,
    "start_time": "2022-02-22T13:15:47.847Z"
   },
   {
    "duration": 276,
    "start_time": "2022-02-22T13:16:07.595Z"
   },
   {
    "duration": 808,
    "start_time": "2022-02-22T13:16:21.771Z"
   },
   {
    "duration": 241,
    "start_time": "2022-02-22T13:16:47.892Z"
   },
   {
    "duration": 7,
    "start_time": "2022-02-22T13:17:00.263Z"
   },
   {
    "duration": 14,
    "start_time": "2022-02-22T13:17:29.118Z"
   },
   {
    "duration": 12,
    "start_time": "2022-02-22T13:17:57.647Z"
   },
   {
    "duration": 13,
    "start_time": "2022-02-22T13:18:43.441Z"
   },
   {
    "duration": 296,
    "start_time": "2022-02-22T13:20:26.939Z"
   },
   {
    "duration": 357,
    "start_time": "2022-02-22T13:20:46.695Z"
   },
   {
    "duration": 356,
    "start_time": "2022-02-22T13:21:03.595Z"
   },
   {
    "duration": 1445,
    "start_time": "2022-02-24T11:56:54.496Z"
   },
   {
    "duration": 31,
    "start_time": "2022-02-24T11:56:55.944Z"
   },
   {
    "duration": 643,
    "start_time": "2022-02-24T11:56:55.978Z"
   },
   {
    "duration": 58,
    "start_time": "2022-02-24T11:56:56.624Z"
   },
   {
    "duration": 61,
    "start_time": "2022-02-24T11:56:56.685Z"
   },
   {
    "duration": 26,
    "start_time": "2022-02-24T11:56:56.749Z"
   },
   {
    "duration": 1036,
    "start_time": "2022-02-24T11:56:56.777Z"
   },
   {
    "duration": 445,
    "start_time": "2022-02-24T11:56:57.816Z"
   },
   {
    "duration": 555,
    "start_time": "2022-02-24T11:56:58.265Z"
   },
   {
    "duration": 423,
    "start_time": "2022-02-24T11:56:58.822Z"
   },
   {
    "duration": 628,
    "start_time": "2022-02-24T11:56:59.248Z"
   },
   {
    "duration": 403,
    "start_time": "2022-02-24T11:56:59.879Z"
   },
   {
    "duration": 3,
    "start_time": "2022-02-24T11:57:00.285Z"
   },
   {
    "duration": 41,
    "start_time": "2022-02-24T12:13:34.352Z"
   },
   {
    "duration": 1516,
    "start_time": "2022-02-24T12:14:07.467Z"
   },
   {
    "duration": 18,
    "start_time": "2022-02-24T12:14:08.986Z"
   },
   {
    "duration": 637,
    "start_time": "2022-02-24T12:14:09.007Z"
   },
   {
    "duration": 53,
    "start_time": "2022-02-24T12:14:09.647Z"
   },
   {
    "duration": 48,
    "start_time": "2022-02-24T12:14:09.702Z"
   },
   {
    "duration": 22,
    "start_time": "2022-02-24T12:14:09.752Z"
   },
   {
    "duration": 1094,
    "start_time": "2022-02-24T12:14:09.776Z"
   },
   {
    "duration": 541,
    "start_time": "2022-02-24T12:14:10.872Z"
   },
   {
    "duration": 593,
    "start_time": "2022-02-24T12:14:11.416Z"
   },
   {
    "duration": 434,
    "start_time": "2022-02-24T12:14:12.011Z"
   },
   {
    "duration": 615,
    "start_time": "2022-02-24T12:14:12.448Z"
   },
   {
    "duration": 417,
    "start_time": "2022-02-24T12:14:13.066Z"
   },
   {
    "duration": 4,
    "start_time": "2022-02-24T12:14:13.486Z"
   },
   {
    "duration": 415,
    "start_time": "2022-02-24T12:58:12.482Z"
   },
   {
    "duration": 11,
    "start_time": "2022-02-24T12:58:39.166Z"
   },
   {
    "duration": 309,
    "start_time": "2022-02-24T13:00:40.830Z"
   },
   {
    "duration": 281,
    "start_time": "2022-02-24T13:00:47.675Z"
   },
   {
    "duration": 16,
    "start_time": "2022-02-24T13:02:16.865Z"
   },
   {
    "duration": 281,
    "start_time": "2022-02-24T13:02:51.515Z"
   },
   {
    "duration": 10,
    "start_time": "2022-02-24T13:03:11.894Z"
   },
   {
    "duration": 8,
    "start_time": "2022-02-24T13:08:12.281Z"
   },
   {
    "duration": 6,
    "start_time": "2022-02-24T13:09:07.654Z"
   },
   {
    "duration": 8,
    "start_time": "2022-02-24T13:09:39.503Z"
   },
   {
    "duration": 8,
    "start_time": "2022-02-24T13:12:39.441Z"
   },
   {
    "duration": 101,
    "start_time": "2022-02-24T13:38:52.749Z"
   },
   {
    "duration": 750,
    "start_time": "2022-02-24T13:39:57.239Z"
   },
   {
    "duration": 167,
    "start_time": "2022-02-24T13:43:02.261Z"
   },
   {
    "duration": 134,
    "start_time": "2022-02-24T13:45:59.132Z"
   },
   {
    "duration": 485,
    "start_time": "2022-02-24T13:49:56.581Z"
   },
   {
    "duration": 500,
    "start_time": "2022-02-24T13:50:19.934Z"
   },
   {
    "duration": 626,
    "start_time": "2022-02-24T13:51:14.447Z"
   },
   {
    "duration": 170,
    "start_time": "2022-02-24T14:00:44.157Z"
   },
   {
    "duration": 17,
    "start_time": "2022-02-24T14:00:54.579Z"
   },
   {
    "duration": 452,
    "start_time": "2022-02-24T14:03:59.937Z"
   },
   {
    "duration": 290,
    "start_time": "2022-02-24T14:04:59.088Z"
   },
   {
    "duration": 276,
    "start_time": "2022-02-24T14:06:41.273Z"
   },
   {
    "duration": 219,
    "start_time": "2022-02-24T14:07:36.325Z"
   },
   {
    "duration": 565,
    "start_time": "2022-02-24T14:08:09.101Z"
   },
   {
    "duration": 537,
    "start_time": "2022-02-24T14:08:15.913Z"
   },
   {
    "duration": 579,
    "start_time": "2022-02-24T14:13:50.276Z"
   },
   {
    "duration": 6,
    "start_time": "2022-02-24T14:19:41.355Z"
   },
   {
    "duration": 359,
    "start_time": "2022-02-24T14:30:37.093Z"
   },
   {
    "duration": 7162,
    "start_time": "2022-02-24T14:32:22.702Z"
   },
   {
    "duration": 6,
    "start_time": "2022-02-24T14:32:32.242Z"
   },
   {
    "duration": 1432,
    "start_time": "2022-02-26T10:44:11.908Z"
   },
   {
    "duration": 13,
    "start_time": "2022-02-26T10:44:13.343Z"
   },
   {
    "duration": 636,
    "start_time": "2022-02-26T10:44:13.361Z"
   },
   {
    "duration": 44,
    "start_time": "2022-02-26T10:44:14.001Z"
   },
   {
    "duration": 46,
    "start_time": "2022-02-26T10:44:14.061Z"
   },
   {
    "duration": 9,
    "start_time": "2022-02-26T10:44:14.110Z"
   },
   {
    "duration": 440,
    "start_time": "2022-02-26T10:44:14.122Z"
   },
   {
    "duration": -57,
    "start_time": "2022-02-26T10:44:14.623Z"
   },
   {
    "duration": -57,
    "start_time": "2022-02-26T10:44:14.625Z"
   },
   {
    "duration": -58,
    "start_time": "2022-02-26T10:44:14.628Z"
   },
   {
    "duration": -58,
    "start_time": "2022-02-26T10:44:14.630Z"
   },
   {
    "duration": -60,
    "start_time": "2022-02-26T10:44:14.634Z"
   },
   {
    "duration": -59,
    "start_time": "2022-02-26T10:44:14.636Z"
   },
   {
    "duration": -59,
    "start_time": "2022-02-26T10:44:14.638Z"
   },
   {
    "duration": -58,
    "start_time": "2022-02-26T10:44:14.639Z"
   },
   {
    "duration": -57,
    "start_time": "2022-02-26T10:44:14.641Z"
   },
   {
    "duration": -56,
    "start_time": "2022-02-26T10:44:14.642Z"
   },
   {
    "duration": -56,
    "start_time": "2022-02-26T10:44:14.643Z"
   },
   {
    "duration": 1479,
    "start_time": "2022-02-26T10:45:50.466Z"
   },
   {
    "duration": 14,
    "start_time": "2022-02-26T10:45:51.948Z"
   },
   {
    "duration": 666,
    "start_time": "2022-02-26T10:45:51.968Z"
   },
   {
    "duration": 52,
    "start_time": "2022-02-26T10:45:52.637Z"
   },
   {
    "duration": 49,
    "start_time": "2022-02-26T10:45:52.691Z"
   },
   {
    "duration": 9,
    "start_time": "2022-02-26T10:45:52.742Z"
   },
   {
    "duration": 20,
    "start_time": "2022-02-26T10:45:52.761Z"
   },
   {
    "duration": 10,
    "start_time": "2022-02-26T10:45:52.786Z"
   },
   {
    "duration": 1032,
    "start_time": "2022-02-26T10:45:52.799Z"
   },
   {
    "duration": 416,
    "start_time": "2022-02-26T10:45:53.833Z"
   },
   {
    "duration": 553,
    "start_time": "2022-02-26T10:45:54.260Z"
   },
   {
    "duration": 428,
    "start_time": "2022-02-26T10:45:54.815Z"
   },
   {
    "duration": 630,
    "start_time": "2022-02-26T10:45:55.246Z"
   },
   {
    "duration": 585,
    "start_time": "2022-02-26T10:45:55.878Z"
   },
   {
    "duration": 8,
    "start_time": "2022-02-26T10:45:56.466Z"
   },
   {
    "duration": 413,
    "start_time": "2022-02-26T10:45:56.477Z"
   },
   {
    "duration": 7,
    "start_time": "2022-02-26T10:45:56.893Z"
   },
   {
    "duration": 8637,
    "start_time": "2022-02-26T10:45:56.902Z"
   },
   {
    "duration": 1467,
    "start_time": "2022-02-26T11:24:31.818Z"
   },
   {
    "duration": 22,
    "start_time": "2022-02-26T11:24:33.288Z"
   },
   {
    "duration": 772,
    "start_time": "2022-02-26T11:24:33.314Z"
   },
   {
    "duration": 72,
    "start_time": "2022-02-26T11:24:34.091Z"
   },
   {
    "duration": 156,
    "start_time": "2022-02-26T11:24:34.167Z"
   },
   {
    "duration": 79,
    "start_time": "2022-02-26T11:24:34.326Z"
   },
   {
    "duration": 65,
    "start_time": "2022-02-26T11:24:34.409Z"
   },
   {
    "duration": 12,
    "start_time": "2022-02-26T11:24:34.477Z"
   },
   {
    "duration": 1061,
    "start_time": "2022-02-26T11:24:34.494Z"
   },
   {
    "duration": 429,
    "start_time": "2022-02-26T11:24:35.558Z"
   },
   {
    "duration": 552,
    "start_time": "2022-02-26T11:24:35.990Z"
   },
   {
    "duration": 519,
    "start_time": "2022-02-26T11:24:36.545Z"
   },
   {
    "duration": 646,
    "start_time": "2022-02-26T11:24:37.068Z"
   },
   {
    "duration": 621,
    "start_time": "2022-02-26T11:24:37.717Z"
   },
   {
    "duration": 7,
    "start_time": "2022-02-26T11:24:38.341Z"
   },
   {
    "duration": 385,
    "start_time": "2022-02-26T11:24:38.351Z"
   },
   {
    "duration": 6,
    "start_time": "2022-02-26T11:24:38.738Z"
   },
   {
    "duration": 536,
    "start_time": "2022-02-26T11:24:38.746Z"
   },
   {
    "duration": 10055,
    "start_time": "2022-02-26T11:25:52.954Z"
   },
   {
    "duration": 780,
    "start_time": "2022-02-26T11:27:56.526Z"
   },
   {
    "duration": 1541,
    "start_time": "2022-02-26T11:29:00.770Z"
   },
   {
    "duration": 33,
    "start_time": "2022-02-26T11:29:02.314Z"
   },
   {
    "duration": 851,
    "start_time": "2022-02-26T11:29:02.350Z"
   },
   {
    "duration": 49,
    "start_time": "2022-02-26T11:29:03.211Z"
   },
   {
    "duration": 70,
    "start_time": "2022-02-26T11:29:03.262Z"
   },
   {
    "duration": 8,
    "start_time": "2022-02-26T11:29:03.335Z"
   },
   {
    "duration": 30,
    "start_time": "2022-02-26T11:29:03.345Z"
   },
   {
    "duration": 12,
    "start_time": "2022-02-26T11:29:03.378Z"
   },
   {
    "duration": 1055,
    "start_time": "2022-02-26T11:29:03.394Z"
   },
   {
    "duration": 432,
    "start_time": "2022-02-26T11:29:04.452Z"
   },
   {
    "duration": 581,
    "start_time": "2022-02-26T11:29:04.886Z"
   },
   {
    "duration": 455,
    "start_time": "2022-02-26T11:29:05.470Z"
   },
   {
    "duration": 608,
    "start_time": "2022-02-26T11:29:05.928Z"
   },
   {
    "duration": 582,
    "start_time": "2022-02-26T11:29:06.538Z"
   },
   {
    "duration": 6,
    "start_time": "2022-02-26T11:29:07.123Z"
   },
   {
    "duration": 411,
    "start_time": "2022-02-26T11:29:07.133Z"
   },
   {
    "duration": 5,
    "start_time": "2022-02-26T11:29:07.547Z"
   },
   {
    "duration": 315,
    "start_time": "2022-02-26T11:29:07.555Z"
   },
   {
    "duration": 251,
    "start_time": "2022-02-26T11:37:06.502Z"
   },
   {
    "duration": 1030,
    "start_time": "2022-02-26T14:02:35.526Z"
   },
   {
    "duration": 16,
    "start_time": "2022-02-26T14:02:36.558Z"
   },
   {
    "duration": 371,
    "start_time": "2022-02-26T14:02:36.576Z"
   },
   {
    "duration": 23,
    "start_time": "2022-02-26T14:02:36.949Z"
   },
   {
    "duration": 82,
    "start_time": "2022-02-26T14:02:36.973Z"
   },
   {
    "duration": 5,
    "start_time": "2022-02-26T14:02:37.057Z"
   },
   {
    "duration": 23,
    "start_time": "2022-02-26T14:02:37.063Z"
   },
   {
    "duration": 5,
    "start_time": "2022-02-26T14:02:37.088Z"
   },
   {
    "duration": 515,
    "start_time": "2022-02-26T14:02:37.094Z"
   },
   {
    "duration": 224,
    "start_time": "2022-02-26T14:02:37.611Z"
   },
   {
    "duration": 358,
    "start_time": "2022-02-26T14:02:37.837Z"
   },
   {
    "duration": 223,
    "start_time": "2022-02-26T14:02:38.197Z"
   },
   {
    "duration": 436,
    "start_time": "2022-02-26T14:02:38.422Z"
   },
   {
    "duration": 371,
    "start_time": "2022-02-26T14:02:38.859Z"
   },
   {
    "duration": 3,
    "start_time": "2022-02-26T14:02:39.232Z"
   },
   {
    "duration": 274,
    "start_time": "2022-02-26T14:02:39.236Z"
   },
   {
    "duration": 3,
    "start_time": "2022-02-26T14:02:39.511Z"
   },
   {
    "duration": 131,
    "start_time": "2022-02-26T14:02:39.516Z"
   },
   {
    "duration": 8,
    "start_time": "2022-02-26T14:05:06.306Z"
   },
   {
    "duration": 7760,
    "start_time": "2022-02-26T14:08:12.827Z"
   },
   {
    "duration": 6633,
    "start_time": "2022-02-26T14:09:10.642Z"
   },
   {
    "duration": 17,
    "start_time": "2022-02-26T14:10:56.037Z"
   },
   {
    "duration": 17,
    "start_time": "2022-02-26T14:11:45.116Z"
   },
   {
    "duration": 15,
    "start_time": "2022-02-26T14:12:55.466Z"
   },
   {
    "duration": 15,
    "start_time": "2022-02-26T14:13:42.363Z"
   },
   {
    "duration": 17,
    "start_time": "2022-02-26T14:14:06.220Z"
   },
   {
    "duration": 16,
    "start_time": "2022-02-26T14:14:23.684Z"
   },
   {
    "duration": 88,
    "start_time": "2022-02-26T14:19:17.569Z"
   },
   {
    "duration": 8543,
    "start_time": "2022-02-26T14:20:22.532Z"
   },
   {
    "duration": 11,
    "start_time": "2022-02-26T14:20:42.248Z"
   },
   {
    "duration": 119,
    "start_time": "2022-02-26T14:32:58.118Z"
   },
   {
    "duration": 6705,
    "start_time": "2022-02-26T14:33:16.710Z"
   },
   {
    "duration": 6,
    "start_time": "2022-02-26T14:34:19.855Z"
   },
   {
    "duration": 110,
    "start_time": "2022-02-26T14:40:51.408Z"
   },
   {
    "duration": 346,
    "start_time": "2022-02-26T14:42:22.789Z"
   },
   {
    "duration": 330,
    "start_time": "2022-02-26T14:43:23.629Z"
   },
   {
    "duration": 255,
    "start_time": "2022-02-26T14:44:57.148Z"
   },
   {
    "duration": 283,
    "start_time": "2022-02-26T14:45:08.388Z"
   },
   {
    "duration": 494,
    "start_time": "2022-02-26T14:48:35.057Z"
   },
   {
    "duration": 4,
    "start_time": "2022-02-26T15:02:20.674Z"
   },
   {
    "duration": 90,
    "start_time": "2022-02-26T15:16:31.366Z"
   },
   {
    "duration": 17,
    "start_time": "2022-02-26T15:17:14.612Z"
   },
   {
    "duration": 17,
    "start_time": "2022-02-26T15:18:22.837Z"
   },
   {
    "duration": 16,
    "start_time": "2022-02-26T15:19:46.868Z"
   },
   {
    "duration": 17,
    "start_time": "2022-02-26T15:20:47.948Z"
   },
   {
    "duration": 291,
    "start_time": "2022-02-26T15:30:49.305Z"
   },
   {
    "duration": 11,
    "start_time": "2022-02-26T15:31:51.145Z"
   },
   {
    "duration": 16,
    "start_time": "2022-02-26T15:45:43.999Z"
   },
   {
    "duration": 16,
    "start_time": "2022-02-26T15:46:19.577Z"
   },
   {
    "duration": 12,
    "start_time": "2022-02-26T15:47:27.655Z"
   },
   {
    "duration": 14,
    "start_time": "2022-02-26T15:47:45.741Z"
   },
   {
    "duration": 12,
    "start_time": "2022-02-26T15:48:29.854Z"
   },
   {
    "duration": 12,
    "start_time": "2022-02-26T15:48:45.654Z"
   },
   {
    "duration": 12,
    "start_time": "2022-02-26T15:49:32.781Z"
   },
   {
    "duration": 12,
    "start_time": "2022-02-26T15:54:57.602Z"
   },
   {
    "duration": 12,
    "start_time": "2022-02-26T15:55:16.845Z"
   },
   {
    "duration": 505,
    "start_time": "2022-02-26T15:57:05.951Z"
   },
   {
    "duration": 1006,
    "start_time": "2022-02-26T16:04:52.710Z"
   },
   {
    "duration": 26,
    "start_time": "2022-02-26T16:04:53.717Z"
   },
   {
    "duration": 309,
    "start_time": "2022-02-26T16:04:53.745Z"
   },
   {
    "duration": 22,
    "start_time": "2022-02-26T16:04:54.056Z"
   },
   {
    "duration": 50,
    "start_time": "2022-02-26T16:04:54.079Z"
   },
   {
    "duration": 5,
    "start_time": "2022-02-26T16:04:54.130Z"
   },
   {
    "duration": 21,
    "start_time": "2022-02-26T16:04:54.136Z"
   },
   {
    "duration": 505,
    "start_time": "2022-02-26T16:04:54.158Z"
   },
   {
    "duration": 229,
    "start_time": "2022-02-26T16:04:54.665Z"
   },
   {
    "duration": 383,
    "start_time": "2022-02-26T16:04:54.896Z"
   },
   {
    "duration": 216,
    "start_time": "2022-02-26T16:04:55.280Z"
   },
   {
    "duration": 368,
    "start_time": "2022-02-26T16:04:55.498Z"
   },
   {
    "duration": 311,
    "start_time": "2022-02-26T16:04:55.867Z"
   },
   {
    "duration": 3,
    "start_time": "2022-02-26T16:04:56.180Z"
   },
   {
    "duration": 282,
    "start_time": "2022-02-26T16:04:56.185Z"
   },
   {
    "duration": 4,
    "start_time": "2022-02-26T16:04:56.469Z"
   },
   {
    "duration": 135,
    "start_time": "2022-02-26T16:04:56.474Z"
   },
   {
    "duration": 8,
    "start_time": "2022-02-26T16:04:56.611Z"
   },
   {
    "duration": 16,
    "start_time": "2022-02-26T16:04:56.621Z"
   },
   {
    "duration": 11,
    "start_time": "2022-02-26T16:04:56.639Z"
   },
   {
    "duration": 544,
    "start_time": "2022-02-26T16:04:56.652Z"
   },
   {
    "duration": 278,
    "start_time": "2022-02-26T16:14:42.850Z"
   },
   {
    "duration": 385,
    "start_time": "2022-02-26T16:15:03.625Z"
   },
   {
    "duration": 1167,
    "start_time": "2022-02-28T07:14:39.383Z"
   },
   {
    "duration": 12,
    "start_time": "2022-02-28T07:14:40.552Z"
   },
   {
    "duration": 308,
    "start_time": "2022-02-28T07:14:40.567Z"
   },
   {
    "duration": 27,
    "start_time": "2022-02-28T07:14:40.878Z"
   },
   {
    "duration": 39,
    "start_time": "2022-02-28T07:14:40.907Z"
   },
   {
    "duration": 7,
    "start_time": "2022-02-28T07:14:40.958Z"
   },
   {
    "duration": 25,
    "start_time": "2022-02-28T07:14:40.967Z"
   },
   {
    "duration": 637,
    "start_time": "2022-02-28T07:14:40.993Z"
   },
   {
    "duration": 293,
    "start_time": "2022-02-28T07:14:41.633Z"
   },
   {
    "duration": 466,
    "start_time": "2022-02-28T07:14:41.928Z"
   },
   {
    "duration": 277,
    "start_time": "2022-02-28T07:14:42.396Z"
   },
   {
    "duration": 492,
    "start_time": "2022-02-28T07:14:42.675Z"
   },
   {
    "duration": 425,
    "start_time": "2022-02-28T07:14:43.170Z"
   },
   {
    "duration": 4,
    "start_time": "2022-02-28T07:14:43.597Z"
   },
   {
    "duration": 292,
    "start_time": "2022-02-28T07:14:43.603Z"
   },
   {
    "duration": 4,
    "start_time": "2022-02-28T07:14:43.897Z"
   },
   {
    "duration": 161,
    "start_time": "2022-02-28T07:14:43.903Z"
   },
   {
    "duration": 10,
    "start_time": "2022-02-28T07:14:44.066Z"
   },
   {
    "duration": 20,
    "start_time": "2022-02-28T07:14:44.078Z"
   },
   {
    "duration": 14,
    "start_time": "2022-02-28T07:14:44.100Z"
   },
   {
    "duration": 657,
    "start_time": "2022-02-28T07:14:44.116Z"
   },
   {
    "duration": 383,
    "start_time": "2022-02-28T07:14:44.774Z"
   },
   {
    "duration": 339,
    "start_time": "2022-02-28T07:24:29.035Z"
   },
   {
    "duration": 9,
    "start_time": "2022-02-28T07:26:13.795Z"
   },
   {
    "duration": 7,
    "start_time": "2022-02-28T07:26:48.968Z"
   },
   {
    "duration": 181,
    "start_time": "2022-02-28T07:58:03.052Z"
   },
   {
    "duration": 233,
    "start_time": "2022-02-28T07:58:12.545Z"
   },
   {
    "duration": 4,
    "start_time": "2022-02-28T07:58:33.670Z"
   },
   {
    "duration": 208,
    "start_time": "2022-02-28T08:00:26.780Z"
   },
   {
    "duration": 7,
    "start_time": "2022-02-28T08:00:43.555Z"
   },
   {
    "duration": 75,
    "start_time": "2022-02-28T08:01:34.644Z"
   },
   {
    "duration": 9,
    "start_time": "2022-02-28T08:01:47.115Z"
   },
   {
    "duration": 22,
    "start_time": "2022-02-28T08:04:47.801Z"
   },
   {
    "duration": 164,
    "start_time": "2022-02-28T08:15:24.052Z"
   },
   {
    "duration": 178,
    "start_time": "2022-02-28T08:15:44.880Z"
   },
   {
    "duration": 413,
    "start_time": "2022-02-28T08:19:04.709Z"
   },
   {
    "duration": 170,
    "start_time": "2022-02-28T08:19:22.609Z"
   },
   {
    "duration": 164,
    "start_time": "2022-02-28T08:20:39.367Z"
   },
   {
    "duration": 170,
    "start_time": "2022-02-28T08:21:38.014Z"
   },
   {
    "duration": 4,
    "start_time": "2022-02-28T08:22:58.367Z"
   },
   {
    "duration": 4,
    "start_time": "2022-02-28T08:24:08.022Z"
   },
   {
    "duration": 3,
    "start_time": "2022-02-28T08:24:23.891Z"
   },
   {
    "duration": 5130,
    "start_time": "2022-02-28T08:42:53.407Z"
   },
   {
    "duration": 5473,
    "start_time": "2022-02-28T08:50:58.889Z"
   },
   {
    "duration": 63,
    "start_time": "2022-02-28T08:51:20.368Z"
   },
   {
    "duration": 5047,
    "start_time": "2022-02-28T08:51:39.230Z"
   },
   {
    "duration": 82,
    "start_time": "2022-02-28T08:52:12.392Z"
   },
   {
    "duration": 574,
    "start_time": "2022-02-28T08:52:20.824Z"
   },
   {
    "duration": 10,
    "start_time": "2022-02-28T08:52:30.935Z"
   },
   {
    "duration": 8,
    "start_time": "2022-02-28T08:52:42.518Z"
   },
   {
    "duration": 7,
    "start_time": "2022-02-28T08:53:08.384Z"
   },
   {
    "duration": 7,
    "start_time": "2022-02-28T08:53:29.614Z"
   },
   {
    "duration": 9,
    "start_time": "2022-02-28T08:55:10.992Z"
   },
   {
    "duration": 10,
    "start_time": "2022-02-28T08:59:26.519Z"
   },
   {
    "duration": 8,
    "start_time": "2022-02-28T08:59:32.189Z"
   },
   {
    "duration": 6,
    "start_time": "2022-02-28T08:59:49.114Z"
   },
   {
    "duration": 5,
    "start_time": "2022-02-28T09:02:50.387Z"
   },
   {
    "duration": 4876,
    "start_time": "2022-02-28T09:03:51.158Z"
   },
   {
    "duration": 5,
    "start_time": "2022-02-28T09:03:59.676Z"
   },
   {
    "duration": 4,
    "start_time": "2022-02-28T09:04:43.244Z"
   },
   {
    "duration": 5,
    "start_time": "2022-02-28T09:09:57.236Z"
   },
   {
    "duration": 5,
    "start_time": "2022-02-28T09:10:29.683Z"
   },
   {
    "duration": 5,
    "start_time": "2022-02-28T09:13:58.706Z"
   },
   {
    "duration": 8,
    "start_time": "2022-02-28T09:15:02.394Z"
   },
   {
    "duration": 382,
    "start_time": "2022-02-28T09:19:22.841Z"
   },
   {
    "duration": 346,
    "start_time": "2022-02-28T09:19:30.825Z"
   },
   {
    "duration": 7,
    "start_time": "2022-02-28T09:33:51.164Z"
   },
   {
    "duration": 8,
    "start_time": "2022-02-28T09:34:02.452Z"
   },
   {
    "duration": 6,
    "start_time": "2022-02-28T09:34:54.662Z"
   },
   {
    "duration": 5226,
    "start_time": "2022-02-28T09:39:24.549Z"
   },
   {
    "duration": 4,
    "start_time": "2022-02-28T09:40:10.348Z"
   },
   {
    "duration": 105,
    "start_time": "2022-02-28T09:43:03.303Z"
   },
   {
    "duration": 60,
    "start_time": "2022-02-28T09:43:53.347Z"
   },
   {
    "duration": 4,
    "start_time": "2022-02-28T09:44:40.522Z"
   },
   {
    "duration": 64,
    "start_time": "2022-02-28T09:45:31.988Z"
   },
   {
    "duration": 5,
    "start_time": "2022-02-28T09:45:56.227Z"
   },
   {
    "duration": 665,
    "start_time": "2022-02-28T10:22:21.988Z"
   },
   {
    "duration": 528,
    "start_time": "2022-02-28T10:26:25.882Z"
   },
   {
    "duration": 430,
    "start_time": "2022-02-28T10:27:14.716Z"
   },
   {
    "duration": 675,
    "start_time": "2022-02-28T10:28:05.842Z"
   },
   {
    "duration": 518,
    "start_time": "2022-02-28T10:28:16.850Z"
   },
   {
    "duration": 565,
    "start_time": "2022-02-28T10:29:01.480Z"
   },
   {
    "duration": 492,
    "start_time": "2022-02-28T10:29:11.592Z"
   },
   {
    "duration": 380,
    "start_time": "2022-02-28T10:30:43.232Z"
   },
   {
    "duration": 374,
    "start_time": "2022-02-28T10:31:31.560Z"
   },
   {
    "duration": 250,
    "start_time": "2022-02-28T10:32:42.608Z"
   },
   {
    "duration": 283,
    "start_time": "2022-02-28T10:34:45.432Z"
   },
   {
    "duration": 307,
    "start_time": "2022-02-28T10:35:08.287Z"
   },
   {
    "duration": 295,
    "start_time": "2022-02-28T10:35:26.664Z"
   },
   {
    "duration": 1016,
    "start_time": "2022-02-28T10:35:56.000Z"
   },
   {
    "duration": 11,
    "start_time": "2022-02-28T10:35:57.018Z"
   },
   {
    "duration": 337,
    "start_time": "2022-02-28T10:35:57.031Z"
   },
   {
    "duration": 25,
    "start_time": "2022-02-28T10:35:57.370Z"
   },
   {
    "duration": 68,
    "start_time": "2022-02-28T10:35:57.396Z"
   },
   {
    "duration": 15,
    "start_time": "2022-02-28T10:35:57.466Z"
   },
   {
    "duration": 8,
    "start_time": "2022-02-28T10:35:57.483Z"
   },
   {
    "duration": 6,
    "start_time": "2022-02-28T10:35:57.493Z"
   },
   {
    "duration": 9,
    "start_time": "2022-02-28T10:35:57.500Z"
   },
   {
    "duration": 6,
    "start_time": "2022-02-28T10:35:57.511Z"
   },
   {
    "duration": 6,
    "start_time": "2022-02-28T10:35:57.519Z"
   },
   {
    "duration": 33,
    "start_time": "2022-02-28T10:35:57.527Z"
   },
   {
    "duration": 10,
    "start_time": "2022-02-28T10:35:57.561Z"
   },
   {
    "duration": 6,
    "start_time": "2022-02-28T10:35:57.573Z"
   },
   {
    "duration": 11,
    "start_time": "2022-02-28T10:35:57.581Z"
   },
   {
    "duration": 188,
    "start_time": "2022-02-28T10:35:57.593Z"
   },
   {
    "duration": 4,
    "start_time": "2022-02-28T10:35:57.782Z"
   },
   {
    "duration": 659,
    "start_time": "2022-02-28T10:35:57.788Z"
   },
   {
    "duration": 296,
    "start_time": "2022-02-28T10:35:58.448Z"
   },
   {
    "duration": 428,
    "start_time": "2022-02-28T10:35:58.745Z"
   },
   {
    "duration": 254,
    "start_time": "2022-02-28T10:35:59.175Z"
   },
   {
    "duration": 398,
    "start_time": "2022-02-28T10:35:59.431Z"
   },
   {
    "duration": 370,
    "start_time": "2022-02-28T10:35:59.832Z"
   },
   {
    "duration": 4,
    "start_time": "2022-02-28T10:36:00.204Z"
   },
   {
    "duration": 269,
    "start_time": "2022-02-28T10:36:00.210Z"
   },
   {
    "duration": 4,
    "start_time": "2022-02-28T10:36:00.481Z"
   },
   {
    "duration": 155,
    "start_time": "2022-02-28T10:36:00.487Z"
   },
   {
    "duration": 18,
    "start_time": "2022-02-28T10:36:00.643Z"
   },
   {
    "duration": 24,
    "start_time": "2022-02-28T10:36:00.663Z"
   },
   {
    "duration": 30,
    "start_time": "2022-02-28T10:36:00.689Z"
   },
   {
    "duration": 579,
    "start_time": "2022-02-28T10:36:00.720Z"
   },
   {
    "duration": 338,
    "start_time": "2022-02-28T10:36:01.301Z"
   },
   {
    "duration": 331,
    "start_time": "2022-02-28T10:37:58.430Z"
   },
   {
    "duration": 1050,
    "start_time": "2022-02-28T10:38:48.189Z"
   },
   {
    "duration": 15,
    "start_time": "2022-02-28T10:38:49.240Z"
   },
   {
    "duration": 283,
    "start_time": "2022-02-28T10:38:49.257Z"
   },
   {
    "duration": 24,
    "start_time": "2022-02-28T10:38:49.542Z"
   },
   {
    "duration": 46,
    "start_time": "2022-02-28T10:38:49.568Z"
   },
   {
    "duration": 16,
    "start_time": "2022-02-28T10:38:49.615Z"
   },
   {
    "duration": 8,
    "start_time": "2022-02-28T10:38:49.633Z"
   },
   {
    "duration": 7,
    "start_time": "2022-02-28T10:38:49.644Z"
   },
   {
    "duration": 20,
    "start_time": "2022-02-28T10:38:49.653Z"
   },
   {
    "duration": 8,
    "start_time": "2022-02-28T10:38:49.674Z"
   },
   {
    "duration": 6,
    "start_time": "2022-02-28T10:38:49.683Z"
   },
   {
    "duration": 5,
    "start_time": "2022-02-28T10:38:49.690Z"
   },
   {
    "duration": 10,
    "start_time": "2022-02-28T10:38:49.697Z"
   },
   {
    "duration": 11,
    "start_time": "2022-02-28T10:38:49.708Z"
   },
   {
    "duration": 9,
    "start_time": "2022-02-28T10:38:49.721Z"
   },
   {
    "duration": 201,
    "start_time": "2022-02-28T10:38:49.732Z"
   },
   {
    "duration": 3,
    "start_time": "2022-02-28T10:38:49.935Z"
   },
   {
    "duration": 684,
    "start_time": "2022-02-28T10:38:49.940Z"
   },
   {
    "duration": 314,
    "start_time": "2022-02-28T10:38:50.626Z"
   },
   {
    "duration": 441,
    "start_time": "2022-02-28T10:38:50.942Z"
   },
   {
    "duration": 264,
    "start_time": "2022-02-28T10:38:51.384Z"
   },
   {
    "duration": 475,
    "start_time": "2022-02-28T10:38:51.649Z"
   },
   {
    "duration": 426,
    "start_time": "2022-02-28T10:38:52.127Z"
   },
   {
    "duration": 6,
    "start_time": "2022-02-28T10:38:52.555Z"
   },
   {
    "duration": 317,
    "start_time": "2022-02-28T10:38:52.563Z"
   },
   {
    "duration": 4,
    "start_time": "2022-02-28T10:38:52.882Z"
   },
   {
    "duration": 146,
    "start_time": "2022-02-28T10:38:52.887Z"
   },
   {
    "duration": 9,
    "start_time": "2022-02-28T10:38:53.035Z"
   },
   {
    "duration": 26,
    "start_time": "2022-02-28T10:38:53.045Z"
   },
   {
    "duration": 21,
    "start_time": "2022-02-28T10:38:53.073Z"
   },
   {
    "duration": 620,
    "start_time": "2022-02-28T10:38:53.095Z"
   },
   {
    "duration": 357,
    "start_time": "2022-02-28T10:38:53.717Z"
   },
   {
    "duration": 349,
    "start_time": "2022-02-28T10:39:39.771Z"
   },
   {
    "duration": 1081,
    "start_time": "2022-02-28T10:39:53.298Z"
   },
   {
    "duration": 11,
    "start_time": "2022-02-28T10:39:54.380Z"
   },
   {
    "duration": 316,
    "start_time": "2022-02-28T10:39:54.393Z"
   },
   {
    "duration": 24,
    "start_time": "2022-02-28T10:39:54.711Z"
   },
   {
    "duration": 39,
    "start_time": "2022-02-28T10:39:54.737Z"
   },
   {
    "duration": 15,
    "start_time": "2022-02-28T10:39:54.778Z"
   },
   {
    "duration": 15,
    "start_time": "2022-02-28T10:39:54.795Z"
   },
   {
    "duration": 18,
    "start_time": "2022-02-28T10:39:54.813Z"
   },
   {
    "duration": 23,
    "start_time": "2022-02-28T10:39:54.833Z"
   },
   {
    "duration": 17,
    "start_time": "2022-02-28T10:39:54.858Z"
   },
   {
    "duration": 20,
    "start_time": "2022-02-28T10:39:54.877Z"
   },
   {
    "duration": 11,
    "start_time": "2022-02-28T10:39:54.898Z"
   },
   {
    "duration": 25,
    "start_time": "2022-02-28T10:39:54.911Z"
   },
   {
    "duration": 25,
    "start_time": "2022-02-28T10:39:54.937Z"
   },
   {
    "duration": 16,
    "start_time": "2022-02-28T10:39:54.963Z"
   },
   {
    "duration": 190,
    "start_time": "2022-02-28T10:39:54.980Z"
   },
   {
    "duration": 3,
    "start_time": "2022-02-28T10:39:55.171Z"
   },
   {
    "duration": 665,
    "start_time": "2022-02-28T10:39:55.176Z"
   },
   {
    "duration": 297,
    "start_time": "2022-02-28T10:39:55.843Z"
   },
   {
    "duration": 448,
    "start_time": "2022-02-28T10:39:56.141Z"
   },
   {
    "duration": 272,
    "start_time": "2022-02-28T10:39:56.590Z"
   },
   {
    "duration": 448,
    "start_time": "2022-02-28T10:39:56.863Z"
   },
   {
    "duration": 381,
    "start_time": "2022-02-28T10:39:57.315Z"
   },
   {
    "duration": 4,
    "start_time": "2022-02-28T10:39:57.697Z"
   },
   {
    "duration": 281,
    "start_time": "2022-02-28T10:39:57.703Z"
   },
   {
    "duration": 4,
    "start_time": "2022-02-28T10:39:57.985Z"
   },
   {
    "duration": 142,
    "start_time": "2022-02-28T10:39:57.991Z"
   },
   {
    "duration": 9,
    "start_time": "2022-02-28T10:39:58.135Z"
   },
   {
    "duration": 27,
    "start_time": "2022-02-28T10:39:58.146Z"
   },
   {
    "duration": 14,
    "start_time": "2022-02-28T10:39:58.175Z"
   },
   {
    "duration": 603,
    "start_time": "2022-02-28T10:39:58.191Z"
   },
   {
    "duration": 357,
    "start_time": "2022-02-28T10:39:58.796Z"
   },
   {
    "duration": 1071,
    "start_time": "2022-02-28T11:32:57.938Z"
   },
   {
    "duration": 11,
    "start_time": "2022-02-28T11:32:59.010Z"
   },
   {
    "duration": 329,
    "start_time": "2022-02-28T11:32:59.023Z"
   },
   {
    "duration": 27,
    "start_time": "2022-02-28T11:32:59.354Z"
   },
   {
    "duration": 40,
    "start_time": "2022-02-28T11:32:59.383Z"
   },
   {
    "duration": 15,
    "start_time": "2022-02-28T11:32:59.425Z"
   },
   {
    "duration": 7,
    "start_time": "2022-02-28T11:32:59.442Z"
   },
   {
    "duration": 8,
    "start_time": "2022-02-28T11:32:59.451Z"
   },
   {
    "duration": 8,
    "start_time": "2022-02-28T11:32:59.461Z"
   },
   {
    "duration": 6,
    "start_time": "2022-02-28T11:32:59.471Z"
   },
   {
    "duration": 4,
    "start_time": "2022-02-28T11:32:59.479Z"
   },
   {
    "duration": 6,
    "start_time": "2022-02-28T11:32:59.484Z"
   },
   {
    "duration": 10,
    "start_time": "2022-02-28T11:32:59.492Z"
   },
   {
    "duration": 6,
    "start_time": "2022-02-28T11:32:59.504Z"
   },
   {
    "duration": 48,
    "start_time": "2022-02-28T11:32:59.512Z"
   },
   {
    "duration": 186,
    "start_time": "2022-02-28T11:32:59.563Z"
   },
   {
    "duration": 8,
    "start_time": "2022-02-28T11:32:59.751Z"
   },
   {
    "duration": 661,
    "start_time": "2022-02-28T11:32:59.761Z"
   },
   {
    "duration": 302,
    "start_time": "2022-02-28T11:33:00.424Z"
   },
   {
    "duration": 450,
    "start_time": "2022-02-28T11:33:00.728Z"
   },
   {
    "duration": 267,
    "start_time": "2022-02-28T11:33:01.180Z"
   },
   {
    "duration": 426,
    "start_time": "2022-02-28T11:33:01.448Z"
   },
   {
    "duration": 405,
    "start_time": "2022-02-28T11:33:01.877Z"
   },
   {
    "duration": 5,
    "start_time": "2022-02-28T11:33:02.284Z"
   },
   {
    "duration": 302,
    "start_time": "2022-02-28T11:33:02.291Z"
   },
   {
    "duration": 5,
    "start_time": "2022-02-28T11:33:02.595Z"
   },
   {
    "duration": 146,
    "start_time": "2022-02-28T11:33:02.601Z"
   },
   {
    "duration": 13,
    "start_time": "2022-02-28T11:33:02.749Z"
   },
   {
    "duration": 18,
    "start_time": "2022-02-28T11:33:02.763Z"
   },
   {
    "duration": 13,
    "start_time": "2022-02-28T11:33:02.782Z"
   },
   {
    "duration": 592,
    "start_time": "2022-02-28T11:33:02.797Z"
   },
   {
    "duration": 356,
    "start_time": "2022-02-28T11:33:03.391Z"
   },
   {
    "duration": 319,
    "start_time": "2022-02-28T11:46:14.200Z"
   },
   {
    "duration": 19,
    "start_time": "2022-02-28T11:46:21.504Z"
   },
   {
    "duration": 1167,
    "start_time": "2022-02-28T12:03:18.759Z"
   },
   {
    "duration": 11,
    "start_time": "2022-02-28T12:03:19.928Z"
   },
   {
    "duration": 331,
    "start_time": "2022-02-28T12:03:19.941Z"
   },
   {
    "duration": 27,
    "start_time": "2022-02-28T12:03:20.274Z"
   },
   {
    "duration": 38,
    "start_time": "2022-02-28T12:03:20.303Z"
   },
   {
    "duration": 18,
    "start_time": "2022-02-28T12:03:20.342Z"
   },
   {
    "duration": 38,
    "start_time": "2022-02-28T12:03:20.361Z"
   },
   {
    "duration": 18,
    "start_time": "2022-02-28T12:03:20.401Z"
   },
   {
    "duration": 16,
    "start_time": "2022-02-28T12:03:20.422Z"
   },
   {
    "duration": 23,
    "start_time": "2022-02-28T12:03:20.440Z"
   },
   {
    "duration": 19,
    "start_time": "2022-02-28T12:03:20.465Z"
   },
   {
    "duration": 21,
    "start_time": "2022-02-28T12:03:20.486Z"
   },
   {
    "duration": 20,
    "start_time": "2022-02-28T12:03:20.509Z"
   },
   {
    "duration": 19,
    "start_time": "2022-02-28T12:03:20.531Z"
   },
   {
    "duration": 20,
    "start_time": "2022-02-28T12:03:20.552Z"
   },
   {
    "duration": 200,
    "start_time": "2022-02-28T12:03:20.574Z"
   },
   {
    "duration": 4,
    "start_time": "2022-02-28T12:03:20.776Z"
   },
   {
    "duration": 707,
    "start_time": "2022-02-28T12:03:20.781Z"
   },
   {
    "duration": 326,
    "start_time": "2022-02-28T12:03:21.490Z"
   },
   {
    "duration": 463,
    "start_time": "2022-02-28T12:03:21.817Z"
   },
   {
    "duration": 304,
    "start_time": "2022-02-28T12:03:22.281Z"
   },
   {
    "duration": 467,
    "start_time": "2022-02-28T12:03:22.587Z"
   },
   {
    "duration": 442,
    "start_time": "2022-02-28T12:03:23.056Z"
   },
   {
    "duration": 5,
    "start_time": "2022-02-28T12:03:23.500Z"
   },
   {
    "duration": 330,
    "start_time": "2022-02-28T12:03:23.507Z"
   },
   {
    "duration": 4,
    "start_time": "2022-02-28T12:03:23.839Z"
   },
   {
    "duration": 166,
    "start_time": "2022-02-28T12:03:23.846Z"
   },
   {
    "duration": 9,
    "start_time": "2022-02-28T12:03:24.014Z"
   },
   {
    "duration": 36,
    "start_time": "2022-02-28T12:03:24.025Z"
   },
   {
    "duration": 21,
    "start_time": "2022-02-28T12:03:24.062Z"
   },
   {
    "duration": 632,
    "start_time": "2022-02-28T12:03:24.085Z"
   },
   {
    "duration": 368,
    "start_time": "2022-02-28T12:03:24.720Z"
   },
   {
    "duration": 1148,
    "start_time": "2022-03-01T05:52:55.156Z"
   },
   {
    "duration": 17,
    "start_time": "2022-03-01T05:52:56.306Z"
   },
   {
    "duration": 286,
    "start_time": "2022-03-01T05:52:56.325Z"
   },
   {
    "duration": 30,
    "start_time": "2022-03-01T05:52:56.613Z"
   },
   {
    "duration": 48,
    "start_time": "2022-03-01T05:52:56.645Z"
   },
   {
    "duration": 17,
    "start_time": "2022-03-01T05:52:56.694Z"
   },
   {
    "duration": 11,
    "start_time": "2022-03-01T05:52:56.713Z"
   },
   {
    "duration": 7,
    "start_time": "2022-03-01T05:52:56.726Z"
   },
   {
    "duration": 14,
    "start_time": "2022-03-01T05:52:56.735Z"
   },
   {
    "duration": 6,
    "start_time": "2022-03-01T05:52:56.752Z"
   },
   {
    "duration": 14,
    "start_time": "2022-03-01T05:52:56.760Z"
   },
   {
    "duration": 10,
    "start_time": "2022-03-01T05:52:56.776Z"
   },
   {
    "duration": 13,
    "start_time": "2022-03-01T05:52:56.788Z"
   },
   {
    "duration": 12,
    "start_time": "2022-03-01T05:52:56.803Z"
   },
   {
    "duration": 25,
    "start_time": "2022-03-01T05:52:56.818Z"
   },
   {
    "duration": 200,
    "start_time": "2022-03-01T05:52:56.845Z"
   },
   {
    "duration": 5,
    "start_time": "2022-03-01T05:52:57.046Z"
   },
   {
    "duration": 664,
    "start_time": "2022-03-01T05:52:57.052Z"
   },
   {
    "duration": 305,
    "start_time": "2022-03-01T05:52:57.718Z"
   },
   {
    "duration": 437,
    "start_time": "2022-03-01T05:52:58.026Z"
   },
   {
    "duration": 265,
    "start_time": "2022-03-01T05:52:58.465Z"
   },
   {
    "duration": 473,
    "start_time": "2022-03-01T05:52:58.731Z"
   },
   {
    "duration": 356,
    "start_time": "2022-03-01T05:52:59.205Z"
   },
   {
    "duration": 4,
    "start_time": "2022-03-01T05:52:59.562Z"
   },
   {
    "duration": 299,
    "start_time": "2022-03-01T05:52:59.568Z"
   },
   {
    "duration": 4,
    "start_time": "2022-03-01T05:52:59.869Z"
   },
   {
    "duration": 149,
    "start_time": "2022-03-01T05:52:59.876Z"
   },
   {
    "duration": 19,
    "start_time": "2022-03-01T05:53:00.027Z"
   },
   {
    "duration": 28,
    "start_time": "2022-03-01T05:53:00.049Z"
   },
   {
    "duration": 18,
    "start_time": "2022-03-01T05:53:00.079Z"
   },
   {
    "duration": 603,
    "start_time": "2022-03-01T05:53:00.099Z"
   },
   {
    "duration": 406,
    "start_time": "2022-03-01T05:53:00.704Z"
   },
   {
    "duration": 685,
    "start_time": "2022-03-01T05:55:13.752Z"
   },
   {
    "duration": 1145,
    "start_time": "2022-03-01T06:04:26.346Z"
   },
   {
    "duration": 659,
    "start_time": "2022-03-01T06:04:27.493Z"
   },
   {
    "duration": 290,
    "start_time": "2022-03-01T06:04:28.154Z"
   },
   {
    "duration": 27,
    "start_time": "2022-03-01T06:04:28.447Z"
   },
   {
    "duration": 80,
    "start_time": "2022-03-01T06:04:28.476Z"
   },
   {
    "duration": 19,
    "start_time": "2022-03-01T06:04:28.558Z"
   },
   {
    "duration": 9,
    "start_time": "2022-03-01T06:04:28.579Z"
   },
   {
    "duration": 7,
    "start_time": "2022-03-01T06:04:28.592Z"
   },
   {
    "duration": 11,
    "start_time": "2022-03-01T06:04:28.602Z"
   },
   {
    "duration": 31,
    "start_time": "2022-03-01T06:04:28.614Z"
   },
   {
    "duration": 5,
    "start_time": "2022-03-01T06:04:28.647Z"
   },
   {
    "duration": 7,
    "start_time": "2022-03-01T06:04:28.654Z"
   },
   {
    "duration": 10,
    "start_time": "2022-03-01T06:04:28.663Z"
   },
   {
    "duration": 8,
    "start_time": "2022-03-01T06:04:28.674Z"
   },
   {
    "duration": 7,
    "start_time": "2022-03-01T06:04:28.684Z"
   },
   {
    "duration": 207,
    "start_time": "2022-03-01T06:04:28.693Z"
   },
   {
    "duration": 4,
    "start_time": "2022-03-01T06:04:28.902Z"
   },
   {
    "duration": 670,
    "start_time": "2022-03-01T06:04:28.908Z"
   },
   {
    "duration": 317,
    "start_time": "2022-03-01T06:04:29.580Z"
   },
   {
    "duration": 481,
    "start_time": "2022-03-01T06:04:29.900Z"
   },
   {
    "duration": 275,
    "start_time": "2022-03-01T06:04:30.384Z"
   },
   {
    "duration": 449,
    "start_time": "2022-03-01T06:04:30.661Z"
   },
   {
    "duration": 446,
    "start_time": "2022-03-01T06:04:31.114Z"
   },
   {
    "duration": 4,
    "start_time": "2022-03-01T06:04:31.562Z"
   },
   {
    "duration": 300,
    "start_time": "2022-03-01T06:04:31.568Z"
   },
   {
    "duration": 4,
    "start_time": "2022-03-01T06:04:31.870Z"
   },
   {
    "duration": 163,
    "start_time": "2022-03-01T06:04:31.876Z"
   },
   {
    "duration": 10,
    "start_time": "2022-03-01T06:04:32.041Z"
   },
   {
    "duration": 37,
    "start_time": "2022-03-01T06:04:32.053Z"
   },
   {
    "duration": 34,
    "start_time": "2022-03-01T06:04:32.091Z"
   },
   {
    "duration": 614,
    "start_time": "2022-03-01T06:04:32.127Z"
   },
   {
    "duration": 354,
    "start_time": "2022-03-01T06:04:32.743Z"
   },
   {
    "duration": 634,
    "start_time": "2022-03-01T06:05:21.766Z"
   },
   {
    "duration": 284,
    "start_time": "2022-03-01T06:05:36.974Z"
   },
   {
    "duration": 7,
    "start_time": "2022-03-01T06:10:28.110Z"
   },
   {
    "duration": 9,
    "start_time": "2022-03-01T06:14:44.577Z"
   },
   {
    "duration": 5,
    "start_time": "2022-03-01T06:15:02.337Z"
   },
   {
    "duration": 3,
    "start_time": "2022-03-01T06:15:22.867Z"
   },
   {
    "duration": 1108,
    "start_time": "2022-03-01T06:17:22.694Z"
   },
   {
    "duration": 14,
    "start_time": "2022-03-01T06:17:23.804Z"
   },
   {
    "duration": 294,
    "start_time": "2022-03-01T06:17:23.820Z"
   },
   {
    "duration": 33,
    "start_time": "2022-03-01T06:17:24.117Z"
   },
   {
    "duration": 53,
    "start_time": "2022-03-01T06:17:24.153Z"
   },
   {
    "duration": 19,
    "start_time": "2022-03-01T06:17:24.208Z"
   },
   {
    "duration": 54,
    "start_time": "2022-03-01T06:17:24.229Z"
   },
   {
    "duration": 37,
    "start_time": "2022-03-01T06:17:24.285Z"
   },
   {
    "duration": 55,
    "start_time": "2022-03-01T06:17:24.325Z"
   },
   {
    "duration": 49,
    "start_time": "2022-03-01T06:17:24.382Z"
   },
   {
    "duration": 37,
    "start_time": "2022-03-01T06:17:24.433Z"
   },
   {
    "duration": 28,
    "start_time": "2022-03-01T06:17:24.472Z"
   },
   {
    "duration": 41,
    "start_time": "2022-03-01T06:17:24.503Z"
   },
   {
    "duration": 36,
    "start_time": "2022-03-01T06:17:24.546Z"
   },
   {
    "duration": 19,
    "start_time": "2022-03-01T06:17:24.583Z"
   },
   {
    "duration": 180,
    "start_time": "2022-03-01T06:17:24.604Z"
   },
   {
    "duration": 4,
    "start_time": "2022-03-01T06:17:24.785Z"
   },
   {
    "duration": 692,
    "start_time": "2022-03-01T06:17:24.791Z"
   },
   {
    "duration": 302,
    "start_time": "2022-03-01T06:17:25.484Z"
   },
   {
    "duration": 424,
    "start_time": "2022-03-01T06:17:25.788Z"
   },
   {
    "duration": 258,
    "start_time": "2022-03-01T06:17:26.213Z"
   },
   {
    "duration": 431,
    "start_time": "2022-03-01T06:17:26.473Z"
   },
   {
    "duration": 404,
    "start_time": "2022-03-01T06:17:26.907Z"
   },
   {
    "duration": 5,
    "start_time": "2022-03-01T06:17:27.313Z"
   },
   {
    "duration": 338,
    "start_time": "2022-03-01T06:17:27.320Z"
   },
   {
    "duration": 5,
    "start_time": "2022-03-01T06:17:27.659Z"
   },
   {
    "duration": 139,
    "start_time": "2022-03-01T06:17:27.667Z"
   },
   {
    "duration": 9,
    "start_time": "2022-03-01T06:17:27.808Z"
   },
   {
    "duration": 32,
    "start_time": "2022-03-01T06:17:27.819Z"
   },
   {
    "duration": 17,
    "start_time": "2022-03-01T06:17:27.853Z"
   },
   {
    "duration": 590,
    "start_time": "2022-03-01T06:17:27.872Z"
   },
   {
    "duration": 339,
    "start_time": "2022-03-01T06:17:28.464Z"
   },
   {
    "duration": 495,
    "start_time": "2022-03-01T06:20:28.198Z"
   },
   {
    "duration": 1144,
    "start_time": "2022-03-01T06:20:48.652Z"
   },
   {
    "duration": 11,
    "start_time": "2022-03-01T06:20:49.798Z"
   },
   {
    "duration": 350,
    "start_time": "2022-03-01T06:20:49.812Z"
   },
   {
    "duration": 25,
    "start_time": "2022-03-01T06:20:50.165Z"
   },
   {
    "duration": 43,
    "start_time": "2022-03-01T06:20:50.192Z"
   },
   {
    "duration": 18,
    "start_time": "2022-03-01T06:20:50.236Z"
   },
   {
    "duration": 12,
    "start_time": "2022-03-01T06:20:50.256Z"
   },
   {
    "duration": 10,
    "start_time": "2022-03-01T06:20:50.271Z"
   },
   {
    "duration": 10,
    "start_time": "2022-03-01T06:20:50.283Z"
   },
   {
    "duration": 7,
    "start_time": "2022-03-01T06:20:50.294Z"
   },
   {
    "duration": 6,
    "start_time": "2022-03-01T06:20:50.303Z"
   },
   {
    "duration": 28,
    "start_time": "2022-03-01T06:20:50.311Z"
   },
   {
    "duration": 13,
    "start_time": "2022-03-01T06:20:50.341Z"
   },
   {
    "duration": 10,
    "start_time": "2022-03-01T06:20:50.356Z"
   },
   {
    "duration": 8,
    "start_time": "2022-03-01T06:20:50.368Z"
   },
   {
    "duration": 194,
    "start_time": "2022-03-01T06:20:50.378Z"
   },
   {
    "duration": 3,
    "start_time": "2022-03-01T06:20:50.574Z"
   },
   {
    "duration": 680,
    "start_time": "2022-03-01T06:20:50.579Z"
   },
   {
    "duration": 310,
    "start_time": "2022-03-01T06:20:51.261Z"
   },
   {
    "duration": 431,
    "start_time": "2022-03-01T06:20:51.573Z"
   },
   {
    "duration": 280,
    "start_time": "2022-03-01T06:20:52.006Z"
   },
   {
    "duration": 415,
    "start_time": "2022-03-01T06:20:52.288Z"
   },
   {
    "duration": 434,
    "start_time": "2022-03-01T06:20:52.706Z"
   },
   {
    "duration": 4,
    "start_time": "2022-03-01T06:20:53.142Z"
   },
   {
    "duration": 310,
    "start_time": "2022-03-01T06:20:53.148Z"
   },
   {
    "duration": 4,
    "start_time": "2022-03-01T06:20:53.460Z"
   },
   {
    "duration": 150,
    "start_time": "2022-03-01T06:20:53.466Z"
   },
   {
    "duration": 28,
    "start_time": "2022-03-01T06:20:53.618Z"
   },
   {
    "duration": 19,
    "start_time": "2022-03-01T06:20:53.648Z"
   },
   {
    "duration": 14,
    "start_time": "2022-03-01T06:20:53.669Z"
   },
   {
    "duration": 603,
    "start_time": "2022-03-01T06:20:53.685Z"
   },
   {
    "duration": 507,
    "start_time": "2022-03-01T06:20:54.290Z"
   },
   {
    "duration": 461,
    "start_time": "2022-03-01T06:21:21.600Z"
   },
   {
    "duration": 365,
    "start_time": "2022-03-01T06:22:05.600Z"
   },
   {
    "duration": 1166,
    "start_time": "2022-03-01T06:22:13.812Z"
   },
   {
    "duration": 13,
    "start_time": "2022-03-01T06:22:14.980Z"
   },
   {
    "duration": 325,
    "start_time": "2022-03-01T06:22:14.997Z"
   },
   {
    "duration": 37,
    "start_time": "2022-03-01T06:22:15.325Z"
   },
   {
    "duration": 44,
    "start_time": "2022-03-01T06:22:15.364Z"
   },
   {
    "duration": 38,
    "start_time": "2022-03-01T06:22:15.410Z"
   },
   {
    "duration": 17,
    "start_time": "2022-03-01T06:22:15.450Z"
   },
   {
    "duration": 25,
    "start_time": "2022-03-01T06:22:15.469Z"
   },
   {
    "duration": 19,
    "start_time": "2022-03-01T06:22:15.496Z"
   },
   {
    "duration": 17,
    "start_time": "2022-03-01T06:22:15.517Z"
   },
   {
    "duration": 6,
    "start_time": "2022-03-01T06:22:15.536Z"
   },
   {
    "duration": 27,
    "start_time": "2022-03-01T06:22:15.543Z"
   },
   {
    "duration": 28,
    "start_time": "2022-03-01T06:22:15.572Z"
   },
   {
    "duration": 23,
    "start_time": "2022-03-01T06:22:15.602Z"
   },
   {
    "duration": 23,
    "start_time": "2022-03-01T06:22:15.627Z"
   },
   {
    "duration": 180,
    "start_time": "2022-03-01T06:22:15.652Z"
   },
   {
    "duration": 4,
    "start_time": "2022-03-01T06:22:15.834Z"
   },
   {
    "duration": 671,
    "start_time": "2022-03-01T06:22:15.840Z"
   },
   {
    "duration": 306,
    "start_time": "2022-03-01T06:22:16.513Z"
   },
   {
    "duration": 431,
    "start_time": "2022-03-01T06:22:16.821Z"
   },
   {
    "duration": 264,
    "start_time": "2022-03-01T06:22:17.254Z"
   },
   {
    "duration": 461,
    "start_time": "2022-03-01T06:22:17.521Z"
   },
   {
    "duration": 378,
    "start_time": "2022-03-01T06:22:17.984Z"
   },
   {
    "duration": 4,
    "start_time": "2022-03-01T06:22:18.364Z"
   },
   {
    "duration": 293,
    "start_time": "2022-03-01T06:22:18.370Z"
   },
   {
    "duration": 5,
    "start_time": "2022-03-01T06:22:18.665Z"
   },
   {
    "duration": 147,
    "start_time": "2022-03-01T06:22:18.672Z"
   },
   {
    "duration": 17,
    "start_time": "2022-03-01T06:22:18.821Z"
   },
   {
    "duration": 20,
    "start_time": "2022-03-01T06:22:18.840Z"
   },
   {
    "duration": 16,
    "start_time": "2022-03-01T06:22:18.862Z"
   },
   {
    "duration": 617,
    "start_time": "2022-03-01T06:22:18.880Z"
   },
   {
    "duration": 355,
    "start_time": "2022-03-01T06:22:19.498Z"
   },
   {
    "duration": 1244,
    "start_time": "2022-05-04T16:13:38.100Z"
   },
   {
    "duration": 12,
    "start_time": "2022-05-04T16:13:39.346Z"
   },
   {
    "duration": 80,
    "start_time": "2022-05-04T16:13:39.360Z"
   },
   {
    "duration": 30,
    "start_time": "2022-05-04T16:13:39.442Z"
   },
   {
    "duration": 41,
    "start_time": "2022-05-04T16:13:39.474Z"
   },
   {
    "duration": 17,
    "start_time": "2022-05-04T16:13:39.517Z"
   },
   {
    "duration": 12,
    "start_time": "2022-05-04T16:13:39.536Z"
   },
   {
    "duration": 15,
    "start_time": "2022-05-04T16:13:39.550Z"
   },
   {
    "duration": 40,
    "start_time": "2022-05-04T16:13:39.567Z"
   },
   {
    "duration": 8,
    "start_time": "2022-05-04T16:13:39.611Z"
   },
   {
    "duration": 6,
    "start_time": "2022-05-04T16:13:39.620Z"
   },
   {
    "duration": 5,
    "start_time": "2022-05-04T16:13:39.628Z"
   },
   {
    "duration": 10,
    "start_time": "2022-05-04T16:13:39.635Z"
   },
   {
    "duration": 8,
    "start_time": "2022-05-04T16:13:39.647Z"
   },
   {
    "duration": 51,
    "start_time": "2022-05-04T16:13:39.657Z"
   },
   {
    "duration": 66,
    "start_time": "2022-05-04T16:13:39.710Z"
   },
   {
    "duration": 5,
    "start_time": "2022-05-04T16:13:39.777Z"
   },
   {
    "duration": 492,
    "start_time": "2022-05-04T16:13:39.784Z"
   },
   {
    "duration": 112,
    "start_time": "2022-05-04T16:13:40.278Z"
   },
   {
    "duration": 367,
    "start_time": "2022-05-04T16:13:40.392Z"
   },
   {
    "duration": 362,
    "start_time": "2022-05-04T16:13:40.761Z"
   },
   {
    "duration": 0,
    "start_time": "2022-05-04T16:13:41.125Z"
   },
   {
    "duration": 0,
    "start_time": "2022-05-04T16:13:41.126Z"
   },
   {
    "duration": 0,
    "start_time": "2022-05-04T16:13:41.127Z"
   },
   {
    "duration": 0,
    "start_time": "2022-05-04T16:13:41.129Z"
   },
   {
    "duration": 0,
    "start_time": "2022-05-04T16:13:41.130Z"
   },
   {
    "duration": 0,
    "start_time": "2022-05-04T16:13:41.130Z"
   },
   {
    "duration": 0,
    "start_time": "2022-05-04T16:13:41.131Z"
   },
   {
    "duration": 0,
    "start_time": "2022-05-04T16:13:41.133Z"
   },
   {
    "duration": 0,
    "start_time": "2022-05-04T16:13:41.134Z"
   },
   {
    "duration": 0,
    "start_time": "2022-05-04T16:13:41.135Z"
   },
   {
    "duration": 0,
    "start_time": "2022-05-04T16:13:41.136Z"
   },
   {
    "duration": 1198,
    "start_time": "2022-05-04T16:15:43.613Z"
   },
   {
    "duration": 20,
    "start_time": "2022-05-04T16:15:44.813Z"
   },
   {
    "duration": 51,
    "start_time": "2022-05-04T16:15:44.834Z"
   },
   {
    "duration": 30,
    "start_time": "2022-05-04T16:15:44.887Z"
   },
   {
    "duration": 36,
    "start_time": "2022-05-04T16:15:44.918Z"
   },
   {
    "duration": 16,
    "start_time": "2022-05-04T16:15:44.956Z"
   },
   {
    "duration": 11,
    "start_time": "2022-05-04T16:15:44.973Z"
   },
   {
    "duration": 12,
    "start_time": "2022-05-04T16:15:44.986Z"
   },
   {
    "duration": 8,
    "start_time": "2022-05-04T16:15:45.007Z"
   },
   {
    "duration": 9,
    "start_time": "2022-05-04T16:15:45.017Z"
   },
   {
    "duration": 8,
    "start_time": "2022-05-04T16:15:45.028Z"
   },
   {
    "duration": 7,
    "start_time": "2022-05-04T16:15:45.038Z"
   },
   {
    "duration": 9,
    "start_time": "2022-05-04T16:15:45.047Z"
   },
   {
    "duration": 18,
    "start_time": "2022-05-04T16:15:45.058Z"
   },
   {
    "duration": 6,
    "start_time": "2022-05-04T16:15:45.078Z"
   },
   {
    "duration": 80,
    "start_time": "2022-05-04T16:15:45.086Z"
   },
   {
    "duration": 4,
    "start_time": "2022-05-04T16:15:45.168Z"
   },
   {
    "duration": 473,
    "start_time": "2022-05-04T16:15:45.174Z"
   },
   {
    "duration": 107,
    "start_time": "2022-05-04T16:15:45.649Z"
   },
   {
    "duration": 323,
    "start_time": "2022-05-04T16:15:45.757Z"
   },
   {
    "duration": 356,
    "start_time": "2022-05-04T16:15:46.082Z"
   },
   {
    "duration": 0,
    "start_time": "2022-05-04T16:15:46.440Z"
   },
   {
    "duration": 0,
    "start_time": "2022-05-04T16:15:46.441Z"
   },
   {
    "duration": 0,
    "start_time": "2022-05-04T16:15:46.442Z"
   },
   {
    "duration": 0,
    "start_time": "2022-05-04T16:15:46.443Z"
   },
   {
    "duration": 0,
    "start_time": "2022-05-04T16:15:46.444Z"
   },
   {
    "duration": 0,
    "start_time": "2022-05-04T16:15:46.445Z"
   },
   {
    "duration": 0,
    "start_time": "2022-05-04T16:15:46.446Z"
   },
   {
    "duration": 0,
    "start_time": "2022-05-04T16:15:46.447Z"
   },
   {
    "duration": 0,
    "start_time": "2022-05-04T16:15:46.448Z"
   },
   {
    "duration": 0,
    "start_time": "2022-05-04T16:15:46.449Z"
   },
   {
    "duration": 0,
    "start_time": "2022-05-04T16:15:46.450Z"
   },
   {
    "duration": 1228,
    "start_time": "2022-07-25T12:19:25.504Z"
   },
   {
    "duration": 66,
    "start_time": "2022-07-25T12:19:26.734Z"
   },
   {
    "duration": 50,
    "start_time": "2022-07-25T12:19:26.801Z"
   },
   {
    "duration": 20,
    "start_time": "2022-07-25T12:19:26.853Z"
   },
   {
    "duration": 81,
    "start_time": "2022-07-25T12:19:26.875Z"
   },
   {
    "duration": 61,
    "start_time": "2022-07-25T12:19:26.958Z"
   },
   {
    "duration": 12,
    "start_time": "2022-07-25T12:19:27.021Z"
   },
   {
    "duration": 20,
    "start_time": "2022-07-25T12:19:27.034Z"
   },
   {
    "duration": 9,
    "start_time": "2022-07-25T12:19:27.056Z"
   },
   {
    "duration": 6,
    "start_time": "2022-07-25T12:19:27.068Z"
   },
   {
    "duration": 7,
    "start_time": "2022-07-25T12:19:27.075Z"
   },
   {
    "duration": 7,
    "start_time": "2022-07-25T12:19:27.083Z"
   },
   {
    "duration": 9,
    "start_time": "2022-07-25T12:19:27.092Z"
   },
   {
    "duration": 7,
    "start_time": "2022-07-25T12:19:27.102Z"
   },
   {
    "duration": 21,
    "start_time": "2022-07-25T12:19:27.111Z"
   },
   {
    "duration": 63,
    "start_time": "2022-07-25T12:19:27.133Z"
   },
   {
    "duration": 3,
    "start_time": "2022-07-25T12:19:27.198Z"
   },
   {
    "duration": 453,
    "start_time": "2022-07-25T12:19:27.203Z"
   },
   {
    "duration": 111,
    "start_time": "2022-07-25T12:19:27.657Z"
   },
   {
    "duration": 312,
    "start_time": "2022-07-25T12:19:27.769Z"
   },
   {
    "duration": 316,
    "start_time": "2022-07-25T12:19:28.083Z"
   },
   {
    "duration": 0,
    "start_time": "2022-07-25T12:19:28.401Z"
   },
   {
    "duration": 0,
    "start_time": "2022-07-25T12:19:28.402Z"
   },
   {
    "duration": 0,
    "start_time": "2022-07-25T12:19:28.403Z"
   },
   {
    "duration": 0,
    "start_time": "2022-07-25T12:19:28.404Z"
   },
   {
    "duration": 0,
    "start_time": "2022-07-25T12:19:28.405Z"
   },
   {
    "duration": 0,
    "start_time": "2022-07-25T12:19:28.406Z"
   },
   {
    "duration": 0,
    "start_time": "2022-07-25T12:19:28.407Z"
   },
   {
    "duration": 0,
    "start_time": "2022-07-25T12:19:28.408Z"
   },
   {
    "duration": 0,
    "start_time": "2022-07-25T12:19:28.409Z"
   },
   {
    "duration": 0,
    "start_time": "2022-07-25T12:19:28.410Z"
   },
   {
    "duration": 0,
    "start_time": "2022-07-25T12:19:28.432Z"
   },
   {
    "duration": 335,
    "start_time": "2022-07-25T12:24:29.388Z"
   },
   {
    "duration": 8,
    "start_time": "2022-07-25T12:34:08.822Z"
   },
   {
    "duration": 337,
    "start_time": "2022-07-25T12:34:18.461Z"
   },
   {
    "duration": 386,
    "start_time": "2022-07-25T12:34:56.016Z"
   },
   {
    "duration": 371,
    "start_time": "2022-07-25T12:35:32.576Z"
   },
   {
    "duration": 401,
    "start_time": "2022-07-25T12:36:52.801Z"
   },
   {
    "duration": 4,
    "start_time": "2022-07-25T12:39:33.196Z"
   },
   {
    "duration": 10,
    "start_time": "2022-07-25T12:39:42.006Z"
   },
   {
    "duration": 8,
    "start_time": "2022-07-25T12:39:52.069Z"
   },
   {
    "duration": 10,
    "start_time": "2022-07-25T12:39:59.174Z"
   },
   {
    "duration": 7,
    "start_time": "2022-07-25T12:41:48.218Z"
   },
   {
    "duration": 412,
    "start_time": "2022-07-25T12:42:00.286Z"
   },
   {
    "duration": 1021,
    "start_time": "2022-07-25T12:42:14.265Z"
   },
   {
    "duration": 26,
    "start_time": "2022-07-25T12:42:15.287Z"
   },
   {
    "duration": 44,
    "start_time": "2022-07-25T12:42:15.315Z"
   },
   {
    "duration": 19,
    "start_time": "2022-07-25T12:42:15.361Z"
   },
   {
    "duration": 48,
    "start_time": "2022-07-25T12:42:15.382Z"
   },
   {
    "duration": 19,
    "start_time": "2022-07-25T12:42:15.431Z"
   },
   {
    "duration": 10,
    "start_time": "2022-07-25T12:42:15.451Z"
   },
   {
    "duration": 12,
    "start_time": "2022-07-25T12:42:15.462Z"
   },
   {
    "duration": 8,
    "start_time": "2022-07-25T12:42:15.475Z"
   },
   {
    "duration": 6,
    "start_time": "2022-07-25T12:42:15.485Z"
   },
   {
    "duration": 6,
    "start_time": "2022-07-25T12:42:15.492Z"
   },
   {
    "duration": 32,
    "start_time": "2022-07-25T12:42:15.499Z"
   },
   {
    "duration": 7,
    "start_time": "2022-07-25T12:42:15.533Z"
   },
   {
    "duration": 7,
    "start_time": "2022-07-25T12:42:15.543Z"
   },
   {
    "duration": 13,
    "start_time": "2022-07-25T12:42:15.551Z"
   },
   {
    "duration": 71,
    "start_time": "2022-07-25T12:42:15.565Z"
   },
   {
    "duration": 3,
    "start_time": "2022-07-25T12:42:15.638Z"
   },
   {
    "duration": 563,
    "start_time": "2022-07-25T12:42:15.643Z"
   },
   {
    "duration": 0,
    "start_time": "2022-07-25T12:42:16.208Z"
   },
   {
    "duration": 0,
    "start_time": "2022-07-25T12:42:16.210Z"
   },
   {
    "duration": 0,
    "start_time": "2022-07-25T12:42:16.211Z"
   },
   {
    "duration": 0,
    "start_time": "2022-07-25T12:42:16.212Z"
   },
   {
    "duration": 0,
    "start_time": "2022-07-25T12:42:16.213Z"
   },
   {
    "duration": 0,
    "start_time": "2022-07-25T12:42:16.215Z"
   },
   {
    "duration": 0,
    "start_time": "2022-07-25T12:42:16.216Z"
   },
   {
    "duration": 0,
    "start_time": "2022-07-25T12:42:16.231Z"
   },
   {
    "duration": 0,
    "start_time": "2022-07-25T12:42:16.232Z"
   },
   {
    "duration": 0,
    "start_time": "2022-07-25T12:42:16.233Z"
   },
   {
    "duration": 0,
    "start_time": "2022-07-25T12:42:16.234Z"
   },
   {
    "duration": 0,
    "start_time": "2022-07-25T12:42:16.236Z"
   },
   {
    "duration": 0,
    "start_time": "2022-07-25T12:42:16.237Z"
   },
   {
    "duration": 0,
    "start_time": "2022-07-25T12:42:16.238Z"
   },
   {
    "duration": 0,
    "start_time": "2022-07-25T12:42:16.240Z"
   },
   {
    "duration": 434,
    "start_time": "2022-07-25T12:42:36.158Z"
   },
   {
    "duration": 400,
    "start_time": "2022-07-25T12:43:23.273Z"
   },
   {
    "duration": 7,
    "start_time": "2022-07-25T12:43:43.113Z"
   },
   {
    "duration": 7,
    "start_time": "2022-07-25T12:43:57.268Z"
   },
   {
    "duration": 3,
    "start_time": "2022-07-25T12:44:16.472Z"
   },
   {
    "duration": 4,
    "start_time": "2022-07-25T12:44:22.466Z"
   },
   {
    "duration": 422,
    "start_time": "2022-07-25T12:44:46.788Z"
   },
   {
    "duration": 77,
    "start_time": "2022-07-25T12:45:29.166Z"
   },
   {
    "duration": 489,
    "start_time": "2022-07-25T12:45:35.322Z"
   },
   {
    "duration": 1141,
    "start_time": "2022-07-25T12:45:57.096Z"
   },
   {
    "duration": 28,
    "start_time": "2022-07-25T12:45:58.241Z"
   },
   {
    "duration": 44,
    "start_time": "2022-07-25T12:45:58.270Z"
   },
   {
    "duration": 19,
    "start_time": "2022-07-25T12:45:58.316Z"
   },
   {
    "duration": 49,
    "start_time": "2022-07-25T12:45:58.337Z"
   },
   {
    "duration": 20,
    "start_time": "2022-07-25T12:45:58.387Z"
   },
   {
    "duration": 10,
    "start_time": "2022-07-25T12:45:58.408Z"
   },
   {
    "duration": 11,
    "start_time": "2022-07-25T12:45:58.419Z"
   },
   {
    "duration": 8,
    "start_time": "2022-07-25T12:45:58.432Z"
   },
   {
    "duration": 7,
    "start_time": "2022-07-25T12:45:58.442Z"
   },
   {
    "duration": 5,
    "start_time": "2022-07-25T12:45:58.450Z"
   },
   {
    "duration": 5,
    "start_time": "2022-07-25T12:45:58.456Z"
   },
   {
    "duration": 9,
    "start_time": "2022-07-25T12:45:58.463Z"
   },
   {
    "duration": 6,
    "start_time": "2022-07-25T12:45:58.473Z"
   },
   {
    "duration": 7,
    "start_time": "2022-07-25T12:45:58.480Z"
   },
   {
    "duration": 88,
    "start_time": "2022-07-25T12:45:58.488Z"
   },
   {
    "duration": 5,
    "start_time": "2022-07-25T12:45:58.577Z"
   },
   {
    "duration": 614,
    "start_time": "2022-07-25T12:45:58.584Z"
   },
   {
    "duration": 95,
    "start_time": "2022-07-25T12:45:59.200Z"
   },
   {
    "duration": 289,
    "start_time": "2022-07-25T12:45:59.296Z"
   },
   {
    "duration": 309,
    "start_time": "2022-07-25T12:45:59.587Z"
   },
   {
    "duration": 0,
    "start_time": "2022-07-25T12:45:59.898Z"
   },
   {
    "duration": 0,
    "start_time": "2022-07-25T12:45:59.900Z"
   },
   {
    "duration": 0,
    "start_time": "2022-07-25T12:45:59.901Z"
   },
   {
    "duration": 0,
    "start_time": "2022-07-25T12:45:59.903Z"
   },
   {
    "duration": 0,
    "start_time": "2022-07-25T12:45:59.904Z"
   },
   {
    "duration": 0,
    "start_time": "2022-07-25T12:45:59.905Z"
   },
   {
    "duration": 0,
    "start_time": "2022-07-25T12:45:59.907Z"
   },
   {
    "duration": 0,
    "start_time": "2022-07-25T12:45:59.908Z"
   },
   {
    "duration": 0,
    "start_time": "2022-07-25T12:45:59.909Z"
   },
   {
    "duration": 0,
    "start_time": "2022-07-25T12:45:59.930Z"
   },
   {
    "duration": 0,
    "start_time": "2022-07-25T12:45:59.932Z"
   },
   {
    "duration": 229,
    "start_time": "2022-07-25T12:47:15.122Z"
   },
   {
    "duration": 176,
    "start_time": "2022-07-25T12:48:48.258Z"
   },
   {
    "duration": 1016,
    "start_time": "2022-07-25T12:49:11.070Z"
   },
   {
    "duration": 26,
    "start_time": "2022-07-25T12:49:12.088Z"
   },
   {
    "duration": 43,
    "start_time": "2022-07-25T12:49:12.116Z"
   },
   {
    "duration": 19,
    "start_time": "2022-07-25T12:49:12.161Z"
   },
   {
    "duration": 48,
    "start_time": "2022-07-25T12:49:12.183Z"
   },
   {
    "duration": 20,
    "start_time": "2022-07-25T12:49:12.232Z"
   },
   {
    "duration": 10,
    "start_time": "2022-07-25T12:49:12.253Z"
   },
   {
    "duration": 12,
    "start_time": "2022-07-25T12:49:12.264Z"
   },
   {
    "duration": 8,
    "start_time": "2022-07-25T12:49:12.277Z"
   },
   {
    "duration": 6,
    "start_time": "2022-07-25T12:49:12.286Z"
   },
   {
    "duration": 7,
    "start_time": "2022-07-25T12:49:12.293Z"
   },
   {
    "duration": 6,
    "start_time": "2022-07-25T12:49:12.301Z"
   },
   {
    "duration": 23,
    "start_time": "2022-07-25T12:49:12.309Z"
   },
   {
    "duration": 12,
    "start_time": "2022-07-25T12:49:12.336Z"
   },
   {
    "duration": 8,
    "start_time": "2022-07-25T12:49:12.349Z"
   },
   {
    "duration": 57,
    "start_time": "2022-07-25T12:49:12.358Z"
   },
   {
    "duration": 5,
    "start_time": "2022-07-25T12:49:12.432Z"
   },
   {
    "duration": 550,
    "start_time": "2022-07-25T12:49:12.439Z"
   },
   {
    "duration": 208,
    "start_time": "2022-07-25T12:49:12.991Z"
   },
   {
    "duration": 284,
    "start_time": "2022-07-25T12:49:13.200Z"
   },
   {
    "duration": 192,
    "start_time": "2022-07-25T12:49:13.486Z"
   },
   {
    "duration": 344,
    "start_time": "2022-07-25T12:49:13.679Z"
   },
   {
    "duration": 0,
    "start_time": "2022-07-25T12:49:14.024Z"
   },
   {
    "duration": 0,
    "start_time": "2022-07-25T12:49:14.025Z"
   },
   {
    "duration": 0,
    "start_time": "2022-07-25T12:49:14.031Z"
   },
   {
    "duration": 0,
    "start_time": "2022-07-25T12:49:14.032Z"
   },
   {
    "duration": 0,
    "start_time": "2022-07-25T12:49:14.033Z"
   },
   {
    "duration": 0,
    "start_time": "2022-07-25T12:49:14.034Z"
   },
   {
    "duration": 0,
    "start_time": "2022-07-25T12:49:14.035Z"
   },
   {
    "duration": 0,
    "start_time": "2022-07-25T12:49:14.036Z"
   },
   {
    "duration": 0,
    "start_time": "2022-07-25T12:49:14.037Z"
   },
   {
    "duration": 0,
    "start_time": "2022-07-25T12:49:14.038Z"
   },
   {
    "duration": 234,
    "start_time": "2022-07-25T12:50:10.378Z"
   },
   {
    "duration": 285,
    "start_time": "2022-07-25T12:50:15.597Z"
   },
   {
    "duration": 4,
    "start_time": "2022-07-25T12:50:20.002Z"
   },
   {
    "duration": 126,
    "start_time": "2022-07-25T12:50:22.932Z"
   },
   {
    "duration": 4,
    "start_time": "2022-07-25T12:50:26.020Z"
   },
   {
    "duration": 157,
    "start_time": "2022-07-25T12:50:29.994Z"
   },
   {
    "duration": 9,
    "start_time": "2022-07-25T12:50:32.517Z"
   },
   {
    "duration": 28,
    "start_time": "2022-07-25T12:50:34.868Z"
   },
   {
    "duration": 16,
    "start_time": "2022-07-25T12:50:37.663Z"
   },
   {
    "duration": 414,
    "start_time": "2022-07-25T12:50:40.110Z"
   },
   {
    "duration": 287,
    "start_time": "2022-07-25T12:50:43.726Z"
   }
  ],
  "kernelspec": {
   "display_name": "Python 3",
   "language": "python",
   "name": "python3"
  },
  "language_info": {
   "codemirror_mode": {
    "name": "ipython",
    "version": 3
   },
   "file_extension": ".py",
   "mimetype": "text/x-python",
   "name": "python",
   "nbconvert_exporter": "python",
   "pygments_lexer": "ipython3",
   "version": "3.8.8"
  },
  "toc": {
   "base_numbering": 1,
   "nav_menu": {},
   "number_sections": true,
   "sideBar": true,
   "skip_h1_title": true,
   "title_cell": "Table of Contents",
   "title_sidebar": "Contents",
   "toc_cell": false,
   "toc_position": {
    "height": "calc(100% - 180px)",
    "left": "10px",
    "top": "150px",
    "width": "238.396px"
   },
   "toc_section_display": true,
   "toc_window_display": true
  }
 },
 "nbformat": 4,
 "nbformat_minor": 2
}
