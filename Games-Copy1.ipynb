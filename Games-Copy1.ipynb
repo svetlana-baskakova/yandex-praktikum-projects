{
 "cells": [
  {
   "cell_type": "markdown",
   "metadata": {},
   "source": [
    "# Определение успешных игр для интернет-магазина\n",
    "\n",
    "Для интернет-магазина , который продаёт по всему миру компьютерные игры нужно провести анализ на основе открытых источников исторических данных о продажах игр, оценках пользователей и экспертов, жанрах и платформах (например, Xbox или PlayStation). \n",
    "\n",
    "**Цель**: выявить закономерности успешности разных игр, платформ, жанров в разных регионах. Это позволит сделать ставку на потенциально популярный продукт и спланировать рекламные кампании.\n",
    "\n",
    "Перед вами данные до 2016 года. Представим, что сейчас декабрь 2016 г., и вы планируете кампанию на 2017-й. Нужно отработать принцип работы с данными."
   ]
  },
  {
   "cell_type": "markdown",
   "metadata": {},
   "source": [
    "## Изучение и предобработка данных"
   ]
  },
  {
   "cell_type": "code",
   "execution_count": 1,
   "metadata": {},
   "outputs": [],
   "source": [
    "#импортируем библиотеки\n",
    "import pandas as pd\n",
    "import numpy as np\n",
    "from scipy import stats as st\n",
    "import matplotlib.pyplot as plt\n",
    "import datetime\n",
    "import warnings\n",
    "warnings.filterwarnings('ignore')\n",
    "pd.set_option('display.float_format', '{:,.2f}'.format)"
   ]
  },
  {
   "cell_type": "code",
   "execution_count": 2,
   "metadata": {},
   "outputs": [],
   "source": [
    "games = pd.read_csv('/datasets/games.csv')"
   ]
  },
  {
   "cell_type": "code",
   "execution_count": 3,
   "metadata": {},
   "outputs": [
    {
     "data": {
      "text/html": [
       "<div>\n",
       "<style scoped>\n",
       "    .dataframe tbody tr th:only-of-type {\n",
       "        vertical-align: middle;\n",
       "    }\n",
       "\n",
       "    .dataframe tbody tr th {\n",
       "        vertical-align: top;\n",
       "    }\n",
       "\n",
       "    .dataframe thead th {\n",
       "        text-align: right;\n",
       "    }\n",
       "</style>\n",
       "<table border=\"1\" class=\"dataframe\">\n",
       "  <thead>\n",
       "    <tr style=\"text-align: right;\">\n",
       "      <th></th>\n",
       "      <th>Name</th>\n",
       "      <th>Platform</th>\n",
       "      <th>Year_of_Release</th>\n",
       "      <th>Genre</th>\n",
       "      <th>NA_sales</th>\n",
       "      <th>EU_sales</th>\n",
       "      <th>JP_sales</th>\n",
       "      <th>Other_sales</th>\n",
       "      <th>Critic_Score</th>\n",
       "      <th>User_Score</th>\n",
       "      <th>Rating</th>\n",
       "    </tr>\n",
       "  </thead>\n",
       "  <tbody>\n",
       "    <tr>\n",
       "      <td>0</td>\n",
       "      <td>Wii Sports</td>\n",
       "      <td>Wii</td>\n",
       "      <td>2,006.00</td>\n",
       "      <td>Sports</td>\n",
       "      <td>41.36</td>\n",
       "      <td>28.96</td>\n",
       "      <td>3.77</td>\n",
       "      <td>8.45</td>\n",
       "      <td>76.00</td>\n",
       "      <td>8</td>\n",
       "      <td>E</td>\n",
       "    </tr>\n",
       "    <tr>\n",
       "      <td>1</td>\n",
       "      <td>Super Mario Bros.</td>\n",
       "      <td>NES</td>\n",
       "      <td>1,985.00</td>\n",
       "      <td>Platform</td>\n",
       "      <td>29.08</td>\n",
       "      <td>3.58</td>\n",
       "      <td>6.81</td>\n",
       "      <td>0.77</td>\n",
       "      <td>nan</td>\n",
       "      <td>NaN</td>\n",
       "      <td>NaN</td>\n",
       "    </tr>\n",
       "    <tr>\n",
       "      <td>2</td>\n",
       "      <td>Mario Kart Wii</td>\n",
       "      <td>Wii</td>\n",
       "      <td>2,008.00</td>\n",
       "      <td>Racing</td>\n",
       "      <td>15.68</td>\n",
       "      <td>12.76</td>\n",
       "      <td>3.79</td>\n",
       "      <td>3.29</td>\n",
       "      <td>82.00</td>\n",
       "      <td>8.3</td>\n",
       "      <td>E</td>\n",
       "    </tr>\n",
       "    <tr>\n",
       "      <td>3</td>\n",
       "      <td>Wii Sports Resort</td>\n",
       "      <td>Wii</td>\n",
       "      <td>2,009.00</td>\n",
       "      <td>Sports</td>\n",
       "      <td>15.61</td>\n",
       "      <td>10.93</td>\n",
       "      <td>3.28</td>\n",
       "      <td>2.95</td>\n",
       "      <td>80.00</td>\n",
       "      <td>8</td>\n",
       "      <td>E</td>\n",
       "    </tr>\n",
       "    <tr>\n",
       "      <td>4</td>\n",
       "      <td>Pokemon Red/Pokemon Blue</td>\n",
       "      <td>GB</td>\n",
       "      <td>1,996.00</td>\n",
       "      <td>Role-Playing</td>\n",
       "      <td>11.27</td>\n",
       "      <td>8.89</td>\n",
       "      <td>10.22</td>\n",
       "      <td>1.00</td>\n",
       "      <td>nan</td>\n",
       "      <td>NaN</td>\n",
       "      <td>NaN</td>\n",
       "    </tr>\n",
       "  </tbody>\n",
       "</table>\n",
       "</div>"
      ],
      "text/plain": [
       "                       Name Platform  Year_of_Release         Genre  NA_sales  \\\n",
       "0                Wii Sports      Wii         2,006.00        Sports     41.36   \n",
       "1         Super Mario Bros.      NES         1,985.00      Platform     29.08   \n",
       "2            Mario Kart Wii      Wii         2,008.00        Racing     15.68   \n",
       "3         Wii Sports Resort      Wii         2,009.00        Sports     15.61   \n",
       "4  Pokemon Red/Pokemon Blue       GB         1,996.00  Role-Playing     11.27   \n",
       "\n",
       "   EU_sales  JP_sales  Other_sales  Critic_Score User_Score Rating  \n",
       "0     28.96      3.77         8.45         76.00          8      E  \n",
       "1      3.58      6.81         0.77           nan        NaN    NaN  \n",
       "2     12.76      3.79         3.29         82.00        8.3      E  \n",
       "3     10.93      3.28         2.95         80.00          8      E  \n",
       "4      8.89     10.22         1.00           nan        NaN    NaN  "
      ]
     },
     "execution_count": 3,
     "metadata": {},
     "output_type": "execute_result"
    }
   ],
   "source": [
    "games.head()"
   ]
  },
  {
   "cell_type": "code",
   "execution_count": 4,
   "metadata": {},
   "outputs": [
    {
     "name": "stdout",
     "output_type": "stream",
     "text": [
      "<class 'pandas.core.frame.DataFrame'>\n",
      "RangeIndex: 16715 entries, 0 to 16714\n",
      "Data columns (total 11 columns):\n",
      "Name               16713 non-null object\n",
      "Platform           16715 non-null object\n",
      "Year_of_Release    16446 non-null float64\n",
      "Genre              16713 non-null object\n",
      "NA_sales           16715 non-null float64\n",
      "EU_sales           16715 non-null float64\n",
      "JP_sales           16715 non-null float64\n",
      "Other_sales        16715 non-null float64\n",
      "Critic_Score       8137 non-null float64\n",
      "User_Score         10014 non-null object\n",
      "Rating             9949 non-null object\n",
      "dtypes: float64(6), object(5)\n",
      "memory usage: 1.4+ MB\n"
     ]
    }
   ],
   "source": [
    "games.info()"
   ]
  },
  {
   "cell_type": "code",
   "execution_count": 5,
   "metadata": {},
   "outputs": [
    {
     "data": {
      "text/html": [
       "<div>\n",
       "<style scoped>\n",
       "    .dataframe tbody tr th:only-of-type {\n",
       "        vertical-align: middle;\n",
       "    }\n",
       "\n",
       "    .dataframe tbody tr th {\n",
       "        vertical-align: top;\n",
       "    }\n",
       "\n",
       "    .dataframe thead th {\n",
       "        text-align: right;\n",
       "    }\n",
       "</style>\n",
       "<table border=\"1\" class=\"dataframe\">\n",
       "  <thead>\n",
       "    <tr style=\"text-align: right;\">\n",
       "      <th></th>\n",
       "      <th>Name</th>\n",
       "      <th>Platform</th>\n",
       "      <th>Year_of_Release</th>\n",
       "      <th>Genre</th>\n",
       "      <th>NA_sales</th>\n",
       "      <th>EU_sales</th>\n",
       "      <th>JP_sales</th>\n",
       "      <th>Other_sales</th>\n",
       "      <th>Critic_Score</th>\n",
       "      <th>User_Score</th>\n",
       "      <th>Rating</th>\n",
       "    </tr>\n",
       "  </thead>\n",
       "  <tbody>\n",
       "  </tbody>\n",
       "</table>\n",
       "</div>"
      ],
      "text/plain": [
       "Empty DataFrame\n",
       "Columns: [Name, Platform, Year_of_Release, Genre, NA_sales, EU_sales, JP_sales, Other_sales, Critic_Score, User_Score, Rating]\n",
       "Index: []"
      ]
     },
     "execution_count": 5,
     "metadata": {},
     "output_type": "execute_result"
    }
   ],
   "source": [
    "#Проверим, есть ли дубликаты. \n",
    "games[games.duplicated(keep = False)] # keep = False выведет все совпадения\n",
    "#таблица пустая - дубликатов нет"
   ]
  },
  {
   "cell_type": "code",
   "execution_count": 6,
   "metadata": {},
   "outputs": [],
   "source": [
    "games.columns = games.columns.str.lower() #приведем к нижнему регистру названия столбцов"
   ]
  },
  {
   "cell_type": "code",
   "execution_count": 7,
   "metadata": {},
   "outputs": [
    {
     "data": {
      "text/plain": [
       "dtype('float64')"
      ]
     },
     "execution_count": 7,
     "metadata": {},
     "output_type": "execute_result"
    }
   ],
   "source": [
    "#заменим tbd(to be determined) на Nan, для изменения на тип данных float\n",
    "games.loc[games['user_score'] == 'tbd', 'user_score'] = float('nan')\n",
    "games['user_score'] = games['user_score'].astype(float)\n",
    "games['user_score'].dtype #проверка"
   ]
  },
  {
   "cell_type": "markdown",
   "metadata": {},
   "source": [
    "В Year_of_Release пропусков немного, менее 1%, поэтому их удалим. Также удалим строки с пропусками в Name и Genre, их всего 2. "
   ]
  },
  {
   "cell_type": "code",
   "execution_count": 8,
   "metadata": {},
   "outputs": [
    {
     "data": {
      "text/plain": [
       "0.22"
      ]
     },
     "execution_count": 8,
     "metadata": {},
     "output_type": "execute_result"
    }
   ],
   "source": [
    "round(len(games['year_of_release'].value_counts())/len(games['platform'])*100,2)"
   ]
  },
  {
   "cell_type": "code",
   "execution_count": 9,
   "metadata": {},
   "outputs": [
    {
     "data": {
      "text/plain": [
       "dtype('int64')"
      ]
     },
     "execution_count": 9,
     "metadata": {},
     "output_type": "execute_result"
    }
   ],
   "source": [
    "games.dropna(subset=['year_of_release'], inplace=True) # удаляем строки с пропусками в year_of_release\n",
    "games['year_of_release'] = games['year_of_release'].astype(int)#изменяем тип данных на целочисленный\n",
    "games['year_of_release'].dtype"
   ]
  },
  {
   "cell_type": "code",
   "execution_count": 10,
   "metadata": {},
   "outputs": [],
   "source": [
    "games.dropna(subset=['name'], inplace=True)"
   ]
  },
  {
   "cell_type": "code",
   "execution_count": 11,
   "metadata": {},
   "outputs": [],
   "source": [
    "#посчитаем суммарные продажи\n",
    "games['sales'] = games['na_sales'] + games['eu_sales'] + games['jp_sales'] + games['other_sales']"
   ]
  },
  {
   "cell_type": "code",
   "execution_count": 12,
   "metadata": {},
   "outputs": [
    {
     "name": "stdout",
     "output_type": "stream",
     "text": [
      "<class 'pandas.core.frame.DataFrame'>\n",
      "Int64Index: 16444 entries, 0 to 16714\n",
      "Data columns (total 12 columns):\n",
      "name               16444 non-null object\n",
      "platform           16444 non-null object\n",
      "year_of_release    16444 non-null int64\n",
      "genre              16444 non-null object\n",
      "na_sales           16444 non-null float64\n",
      "eu_sales           16444 non-null float64\n",
      "jp_sales           16444 non-null float64\n",
      "other_sales        16444 non-null float64\n",
      "critic_score       7983 non-null float64\n",
      "user_score         7463 non-null float64\n",
      "rating             9768 non-null object\n",
      "sales              16444 non-null float64\n",
      "dtypes: float64(7), int64(1), object(4)\n",
      "memory usage: 1.6+ MB\n"
     ]
    }
   ],
   "source": [
    "games.info()"
   ]
  },
  {
   "cell_type": "markdown",
   "metadata": {},
   "source": [
    "**Вывод**\n",
    "\n",
    "Мы удалили строки с пропусками в ключевых столбцах, так как их менее 1%. Эти пропуски не заменяли, так это могло бы повлиять на результаты исследования. Заменили, где необходимо, тип данных и вывели столбец с продажами (млн. копий) по всем регионам в сумме. Данные готовы для исследовательского анализа. "
   ]
  },
  {
   "cell_type": "markdown",
   "metadata": {},
   "source": [
    "## Исследовательский анализ данных"
   ]
  },
  {
   "cell_type": "markdown",
   "metadata": {},
   "source": [
    "### Динамика продаж игр за весь период "
   ]
  },
  {
   "cell_type": "code",
   "execution_count": 13,
   "metadata": {},
   "outputs": [
    {
     "data": {
      "text/plain": [
       "<matplotlib.axes._subplots.AxesSubplot at 0x7f6af74b8390>"
      ]
     },
     "execution_count": 13,
     "metadata": {},
     "output_type": "execute_result"
    },
    {
     "data": {
      "image/png": "[encoded data removed]",
      "text/plain": [
       "<Figure size 1080x360 with 1 Axes>"
      ]
     },
     "metadata": {
      "needs_background": "light"
     },
     "output_type": "display_data"
    }
   ],
   "source": [
    "#посмотрим, сколько игра выпускалось в разные годы\n",
    "(\n",
    "    games.groupby('year_of_release').agg({'sales': 'sum'})\n",
    "    .sort_values(by='year_of_release').plot(kind='bar', figsize =(15,5))\n",
    ")"
   ]
  },
  {
   "cell_type": "markdown",
   "metadata": {},
   "source": [
    "Больше всего игр выпускалось в 2008 и в 2009 годы. За 2016 год видимо данные не полные, поэтому наблюдаем такое резкое падение. В период 1980 - 1995 объемы продаж (милн копий) очень невысоки, их можно не принимать в расчет."
   ]
  },
  {
   "cell_type": "markdown",
   "metadata": {},
   "source": [
    "### Платформы"
   ]
  },
  {
   "cell_type": "markdown",
   "metadata": {},
   "source": [
    "Посмотрим, как менялись продажи по платформам. Выберим платформы с наибольшими суммарными продажами и построим распределение по годам."
   ]
  },
  {
   "cell_type": "code",
   "execution_count": null,
   "metadata": {},
   "outputs": [],
   "source": []
  },
  {
   "cell_type": "code",
   "execution_count": 14,
   "metadata": {},
   "outputs": [
    {
     "data": {
      "text/plain": [
       "<matplotlib.axes._subplots.AxesSubplot at 0x7f6aeeb1f7d0>"
      ]
     },
     "execution_count": 14,
     "metadata": {},
     "output_type": "execute_result"
    },
    {
     "data": {
      "image/png": "[encoded data removed]",
      "text/plain": [
       "<Figure size 1080x360 with 1 Axes>"
      ]
     },
     "metadata": {
      "needs_background": "light"
     },
     "output_type": "display_data"
    }
   ],
   "source": [
    "#выберем топ-10 платформ по суммарным продажам\n",
    "top_ten = games.groupby('platform').agg({'sales':'sum'}).sort_values(by='sales').tail(10).index\n",
    "# построим распределение по годам для топ-10 платформ\n",
    "(\n",
    "    games.query('platform in @top_ten')\n",
    "    .pivot_table(index='year_of_release', columns='platform', values='sales', aggfunc='sum')\n",
    "    .plot(figsize=(15,5), xlim=(1993, 2016), xticks=(games['year_of_release'].unique()))\n",
    ")    "
   ]
  },
  {
   "cell_type": "markdown",
   "metadata": {},
   "source": [
    "За исследуемый период 1994 - 2016 мы видим платформы несоколько раз появлялись и исчезали. Нужно посчитать средний срок жизни платоформ (актуальный период), чтобы спрогнозировать динамику продаж после 2016 года."
   ]
  },
  {
   "cell_type": "markdown",
   "metadata": {},
   "source": [
    "### Актуальный период"
   ]
  },
  {
   "cell_type": "code",
   "execution_count": 15,
   "metadata": {},
   "outputs": [
    {
     "name": "stdout",
     "output_type": "stream",
     "text": [
      "          year_of_release\n",
      "platform                 \n",
      "3DS                     6\n",
      "DS                     10\n",
      "GBA                     7\n",
      "PS                     10\n",
      "PS2                    11\n",
      "PS3                    11\n",
      "PS4                     4\n",
      "PSP                    10\n",
      "Wii                    10\n",
      "X360                   12\n",
      "\n",
      "Средний срок жизни платформы\n"
     ]
    },
    {
     "data": {
      "text/plain": [
       "year_of_release   9.10\n",
       "dtype: float64"
      ]
     },
     "execution_count": 15,
     "metadata": {},
     "output_type": "execute_result"
    }
   ],
   "source": [
    "# посчитаем актуальный период для топ-10 платформ\n",
    "# возьмем для этого игры с суммарными продажами более 1 млн копий\n",
    "actual_period = games.groupby(['platform','year_of_release']).agg({'sales': 'sum'}).query('platform in @ top_ten and sales > 1')\n",
    "# расчитает жизненный период каждой платформы\n",
    "actual_period = actual_period.reset_index().groupby('platform').agg({'year_of_release': 'count'}) \n",
    "\n",
    "print(actual_period)\n",
    "print()\n",
    "print('Средний срок жизни платформы')\n",
    "actual_period.mean() # расчитает сколько в среднем живет платформа"
   ]
  },
  {
   "cell_type": "markdown",
   "metadata": {},
   "source": [
    "Платформы в среднем живут 9 лет. До середины этого периода продажи растут, потом достигнув пика падают. Для выявления потенциально прибыльных платформ возьмем период после 2011 года, чтобы захватить платформы, находящиеся в первой половине среднего срока жизни. Это и будет **актуальный период**."
   ]
  },
  {
   "cell_type": "markdown",
   "metadata": {},
   "source": [
    "### Потенциально прибыльные платформы"
   ]
  },
  {
   "cell_type": "code",
   "execution_count": 16,
   "metadata": {},
   "outputs": [
    {
     "data": {
      "image/png": "[encoded data removed]",
      "text/plain": [
       "<Figure size 360x360 with 1 Axes>"
      ]
     },
     "metadata": {
      "needs_background": "light"
     },
     "output_type": "display_data"
    }
   ],
   "source": [
    "#выбираем потенциально прибыльные платформы\n",
    "games_new = games.query('2011 < year_of_release < 2016') #актуальный период\n",
    "games_new_top = games_new.groupby('platform').agg({'sales':'sum'}).sort_values(by='sales').tail(10).index\n",
    "games_new.pivot_table(index='year_of_release', columns='platform', values='sales', aggfunc='sum').plot(figsize=(5,5))\n",
    "plt.show()\n",
    "new_platforms=['PS4', 'XOne', '3DS', 'PC']"
   ]
  },
  {
   "cell_type": "markdown",
   "metadata": {},
   "source": [
    "Для определения потенциально прибыльных платформ не будем принимать во внимание 2016 г, тк данные неполные. В период до 2015 г включительно только у двух платформ наблюдается рост продаж - это **PS4** и **XOne**. Еще у двух платформ **3DS** и **PC** стабильный и сравнительно высокий уровень продаж. У остальных платформ продажи значительно ниже и/или продолжают резкое снижение на момент 2015 г."
   ]
  },
  {
   "cell_type": "markdown",
   "metadata": {},
   "source": [
    "### Ящик с усами для перпспективных платформ"
   ]
  },
  {
   "cell_type": "code",
   "execution_count": 17,
   "metadata": {},
   "outputs": [
    {
     "data": {
      "image/png": "[encoded data removed]",
      "text/plain": [
       "<Figure size 432x288 with 1 Axes>"
      ]
     },
     "metadata": {
      "needs_background": "light"
     },
     "output_type": "display_data"
    }
   ],
   "source": [
    "#ящик с усами для перспективных платформ\n",
    "games.query('platform in @ new_platforms and sales > 1').boxplot(column = 'sales', by = 'platform')\n",
    "plt.show()"
   ]
  },
  {
   "cell_type": "markdown",
   "metadata": {},
   "source": [
    "Все 4 выбранные платформы в целом схожи по показателям. Медианные продажи около 2 миллионов копий. Самые высокие у PS4. Есть и небольшие различия. Самые низкие волатильность продаж и стандартное отклонение у PC, что было видно из предыдущего графика - у этой платформы стабильный и невысокий уровень продаж за весь период. У 3DS и PS4 много выбросов больших значений - есть отдельные игры-бестселлеры."
   ]
  },
  {
   "cell_type": "markdown",
   "metadata": {},
   "source": [
    "### Влияние отзывов"
   ]
  },
  {
   "cell_type": "markdown",
   "metadata": {},
   "source": [
    "Чтобы понять как отзывы влияют на продажи, построим для четырех выбранных платформ диаграммы рассеяния и посчитаем коэффициент корреляции."
   ]
  },
  {
   "cell_type": "code",
   "execution_count": 18,
   "metadata": {},
   "outputs": [
    {
     "name": "stdout",
     "output_type": "stream",
     "text": [
      "PS4 : коэффициент корреляции\n"
     ]
    },
    {
     "data": {
      "image/png": "[encoded data removed]",
      "text/plain": [
       "<Figure size 1080x360 with 2 Axes>"
      ]
     },
     "metadata": {
      "needs_background": "light"
     },
     "output_type": "display_data"
    },
    {
     "name": "stdout",
     "output_type": "stream",
     "text": [
      "XOne : коэффициент корреляции\n"
     ]
    },
    {
     "data": {
      "image/png": "[encoded data removed]",
      "text/plain": [
       "<Figure size 1080x360 with 2 Axes>"
      ]
     },
     "metadata": {
      "needs_background": "light"
     },
     "output_type": "display_data"
    },
    {
     "name": "stdout",
     "output_type": "stream",
     "text": [
      "3DS : коэффициент корреляции\n"
     ]
    },
    {
     "data": {
      "image/png": "[encoded data removed]",
      "text/plain": [
       "<Figure size 1080x360 with 2 Axes>"
      ]
     },
     "metadata": {
      "needs_background": "light"
     },
     "output_type": "display_data"
    },
    {
     "name": "stdout",
     "output_type": "stream",
     "text": [
      "PC : коэффициент корреляции\n"
     ]
    },
    {
     "data": {
      "image/png": "[encoded data removed]",
      "text/plain": [
       "<Figure size 1080x360 with 2 Axes>"
      ]
     },
     "metadata": {
      "needs_background": "light"
     },
     "output_type": "display_data"
    }
   ],
   "source": [
    "scores=['user_score', 'critic_score']\n",
    "for platform in new_platforms:\n",
    "    print(platform, ': коэффициент корреляции')\n",
    "    games_plat=games.query('platform==@platform')\n",
    "    plt.subplots(figsize = (15,5)) #сетка графиков\n",
    "    for plot_num, score in enumerate (scores):\n",
    "        games_plat.plot(ax=plt.subplot(1, len(scores), plot_num+1), x=score, y='sales', kind='scatter', title=(round(games_plat['sales'].corr(games_plat[score]),2)))\n",
    "    plt.show()\n",
    "   "
   ]
  },
  {
   "cell_type": "markdown",
   "metadata": {},
   "source": [
    "**Вывод.**\n",
    "Отзывы пользователей почти не влияют на размеры продаж. Коэффициент корреляции близок к нулю, а в некоторых случаях, даже отрицательный. Между отзывами критиков и продажами более сильная зависимость. Коэффициент корреляции изменяется от 0.26 у PC (в принципе очень стабильная платформы) и 0.42 у XOne. Зависимость тоже не сильная. "
   ]
  },
  {
   "cell_type": "markdown",
   "metadata": {},
   "source": [
    "### Жанры"
   ]
  },
  {
   "cell_type": "markdown",
   "metadata": {},
   "source": [
    "Посмотрим распределения игр по жанрам."
   ]
  },
  {
   "cell_type": "code",
   "execution_count": 19,
   "metadata": {},
   "outputs": [
    {
     "data": {
      "image/png": "[encoded data removed]",
      "text/plain": [
       "<Figure size 432x288 with 1 Axes>"
      ]
     },
     "metadata": {
      "needs_background": "light"
     },
     "output_type": "display_data"
    }
   ],
   "source": [
    "games.query('year_of_release>2011').groupby('genre').agg({'sales':'sum'}).sort_values(by='sales', ascending=False).plot(kind='bar', y='sales', legend=True)\n",
    "plt.show()"
   ]
  },
  {
   "cell_type": "markdown",
   "metadata": {},
   "source": [
    "Самый популярный жанр - Action, так же в лидеры входят Shooter, Role-Playing и Sports.\n",
    "\n",
    "Наименее популярные жанры - Strategy, Adventure, Simulation и Puzzle"
   ]
  },
  {
   "cell_type": "markdown",
   "metadata": {},
   "source": [
    "### Портрет пользователя каждого региона"
   ]
  },
  {
   "cell_type": "markdown",
   "metadata": {},
   "source": [
    "#### Топ-5 платформ для каждого региона"
   ]
  },
  {
   "cell_type": "code",
   "execution_count": 20,
   "metadata": {},
   "outputs": [
    {
     "data": {
      "image/png": "[encoded data removed]",
      "text/plain": [
       "<Figure size 1080x360 with 3 Axes>"
      ]
     },
     "metadata": {},
     "output_type": "display_data"
    }
   ],
   "source": [
    "plt.subplots(figsize = (15,5)) #сетка графиков\n",
    "regions =['na_sales', 'eu_sales', 'jp_sales']\n",
    "for plot_num, region in enumerate(regions):\n",
    "    reg_plat = games.query('year_of_release>2011').groupby('platform').agg({region : 'sum'}).sort_values(by=region, ascending=False)\n",
    "    reg_top_plat=reg_plat.head()\n",
    "    reg_plat = reg_plat.reset_index()\n",
    "    reg_plat['platform'] = reg_plat['platform'].where(reg_plat['platform'].isin(reg_top_plat.index), 'other')\n",
    "    reg_plat.groupby('platform').agg({region : 'sum'}).sort_values(by=region).plot(kind='pie', \n",
    "                                                            # определение ячейки сетки\n",
    "                                                            ax = plt.subplot(1,           #число рядов, \n",
    "                                                                            len(regions), #число столбцов\n",
    "                                                                            plot_num + 1),#порядковый номер графика\n",
    "                                                            y=region, autopct='%1.1f%%', legend=False)\n"
   ]
  },
  {
   "cell_type": "markdown",
   "metadata": {},
   "source": [
    "**Вывод**\n",
    "\n",
    "NA и EU очень похожи. JP отличается от них. Топ-5 у них одинаковый, с различиями только в долях. В NA более популярна X360, а в EU PS4.\n",
    "\n",
    "В JP очень популярна 3DS. Также есть две популярные платформы WiiU и PSV, которые не распространены в других регионах. \n",
    "\n"
   ]
  },
  {
   "cell_type": "markdown",
   "metadata": {},
   "source": [
    "#### Топ-5 жанров"
   ]
  },
  {
   "cell_type": "code",
   "execution_count": 21,
   "metadata": {},
   "outputs": [
    {
     "data": {
      "image/png": "[encoded data removed]",
      "text/plain": [
       "<Figure size 1080x360 with 3 Axes>"
      ]
     },
     "metadata": {},
     "output_type": "display_data"
    }
   ],
   "source": [
    "plt.subplots(figsize = (15,5)) #сетка графиков\n",
    "regions =['na_sales', 'eu_sales', 'jp_sales']\n",
    "for plot_num, region in enumerate(regions):\n",
    "    reg_plat = games.query('year_of_release>2011 and genre!=\"Misc\"').groupby('genre').agg({region : 'sum'}).sort_values(by=region, ascending=False)\n",
    "    reg_top_plat=reg_plat.head()\n",
    "    reg_plat = reg_plat.reset_index()\n",
    "    reg_plat['genre'] = reg_plat['genre'].where(reg_plat['genre'].isin(reg_top_plat.index), 'other')\n",
    "    reg_plat.groupby('genre').agg({region : 'sum'}).sort_values(by=region).plot(kind='pie',\n",
    "                                                         # определение ячейки сетки\n",
    "                                                          ax = plt.subplot(1,           #число рядов, \n",
    "                                                                            len(regions), #число столбцов\n",
    "                                                                            plot_num + 1),#порядковый номер графика\n",
    "                                                         y=region, legend=False, autopct='%1.1f%%')\n"
   ]
  },
  {
   "cell_type": "markdown",
   "metadata": {},
   "source": [
    "**Вывод**\n",
    "\n",
    "NA и EU очень похожи.  В топ-5 различие только в одной позиции. В NA более популярен Platform, а в EU Racing. JP отличается от них.\n",
    "\n",
    "В JP очень популярен Role-Playing. Также есть две популярные платформы Simulation и Fighting, которые не распространены в других регионах. "
   ]
  },
  {
   "cell_type": "markdown",
   "metadata": {},
   "source": [
    "#### ESPRB рейтинг"
   ]
  },
  {
   "cell_type": "code",
   "execution_count": 22,
   "metadata": {},
   "outputs": [],
   "source": [
    "#избавимся от пропусков, заполнив их NA (not avaliable), чтобы определить зависимость\n",
    "games['rating'] = games['rating'].fillna('NA') "
   ]
  },
  {
   "cell_type": "code",
   "execution_count": 23,
   "metadata": {},
   "outputs": [
    {
     "data": {
      "image/png": "[encoded data removed]",
      "text/plain": [
       "<Figure size 432x288 with 1 Axes>"
      ]
     },
     "metadata": {
      "needs_background": "light"
     },
     "output_type": "display_data"
    }
   ],
   "source": [
    "(games\n",
    "     .query('year_of_release>2011')\n",
    "     .pivot_table(index='rating', values=['na_sales', 'eu_sales', 'jp_sales'])\n",
    "     .sort_values('na_sales')\n",
    "     .plot(kind='bar', title='Влияет ли рейтинг ESRB на продажи в отдельном регионе?')\n",
    "     )\n",
    "plt.show()"
   ]
  },
  {
   "cell_type": "markdown",
   "metadata": {},
   "source": [
    "Наиболее популярны игры с рейтингом Mature и  Everyone. Everyone 10 and older и Teen менее популярны. ESRB - это американский рейтинг, он менее распространен в Японии, график это подтверждает. "
   ]
  },
  {
   "cell_type": "markdown",
   "metadata": {},
   "source": [
    "**Портреты пользователей**\n",
    "\n",
    "**NA**\n",
    "\n",
    "Предпочитает играть на платформах X360, PS4, PS3, XOne. Больше всего любит жанры Action и Shooter и игры для взослой аудитории.\n",
    "\n",
    "**EU**\n",
    "\n",
    "Из платформ предпочитает PlayStation (PS3 и PS4). Больше всего любит жанры Action и Shooter и игры для взослой аудитории.\n",
    "\n",
    "**JP**\n",
    "\n",
    "Наиболее популярна платформа 3DS, жанры - Role-Playing и Action. Американский ESPRB рейтинг не популярен.\n"
   ]
  },
  {
   "cell_type": "markdown",
   "metadata": {},
   "source": [
    "## Проверка гипотез"
   ]
  },
  {
   "cell_type": "markdown",
   "metadata": {},
   "source": [
    "### Средние пользовательские рейтинги платформ Xbox One и PC одинаковые"
   ]
  },
  {
   "cell_type": "markdown",
   "metadata": {},
   "source": [
    "**Нулевая гипотеза**: Средние пользовательские рейтинги платформ Xbox One и PC равны. \n",
    "Если p-value будет ниже уровня значимости alfa 5%, то мы ее отвергнем и можно будет принять **альтернативную гипотезу**, что эти средние не равны."
   ]
  },
  {
   "cell_type": "code",
   "execution_count": 24,
   "metadata": {},
   "outputs": [
    {
     "name": "stdout",
     "output_type": "stream",
     "text": [
      "p-value: 1.3037979620149106e-05\n",
      "Отвергаем нулевую гипотезу\n"
     ]
    }
   ],
   "source": [
    "sample_XOne = games[(~games['user_score'].isna()) & (games['platform'] == 'XOne')]['user_score']\n",
    "sample_PC = games[(~games['user_score'].isna()) & (games['platform'] == 'PC')]['user_score']\n",
    "alpha=0.05\n",
    "results=st.ttest_ind(sample_XOne, sample_PC)\n",
    "print('p-value:', results.pvalue)\n",
    "if results.pvalue<alpha:\n",
    "    print('Отвергаем нулевую гипотезу')\n",
    "else: \n",
    "    print('Не получилось отвергнуть нулевую гипотезу')\n"
   ]
  },
  {
   "cell_type": "code",
   "execution_count": 25,
   "metadata": {},
   "outputs": [
    {
     "name": "stdout",
     "output_type": "stream",
     "text": [
      "Для справки, средние показатели:\n",
      "6.5 7.1\n"
     ]
    }
   ],
   "source": [
    "XOne_mean = round(games[(~games['user_score'].isna()) & (games['platform'] == 'XOne')]['user_score'].mean(), 1)\n",
    "PC_mean = round(games[(~games['user_score'].isna()) & (games['platform'] == 'PC')]['user_score'].mean(), 1)\n",
    "print('Для справки, средние показатели:')\n",
    "print(XOne_mean, PC_mean)"
   ]
  },
  {
   "cell_type": "markdown",
   "metadata": {},
   "source": [
    "### Средние пользовательские рейтинги жанров Action и Sports разные."
   ]
  },
  {
   "cell_type": "markdown",
   "metadata": {},
   "source": [
    "**Нулевая гипотеза**: Средние пользовательские рейтинги жанров Action и Sports  равны. \n",
    "Если p-value будет ниже уровня значимости alfa 5%, то мы ее отвергнем и можно будет принять **альтернативную гипотезу**, что эти средние разные."
   ]
  },
  {
   "cell_type": "code",
   "execution_count": 26,
   "metadata": {},
   "outputs": [
    {
     "name": "stdout",
     "output_type": "stream",
     "text": [
      "p-value: 3.7163089460934874e-26\n",
      "Отвергаем нулевую гипотезу\n"
     ]
    }
   ],
   "source": [
    "sample_Action = games[(~games['user_score'].isna()) & (games['genre'] == 'Action') & (games['year_of_release']>2011)]['user_score']\n",
    "sample_Sports = games[(~games['user_score'].isna()) & (games['genre'] == 'Sports') & (games['year_of_release']>2011)]['user_score']\n",
    "alpha=0.05\n",
    "results=st.ttest_ind(sample_Action, sample_Sports)\n",
    "print('p-value:', results.pvalue)\n",
    "if results.pvalue<alpha:\n",
    "    print('Отвергаем нулевую гипотезу')\n",
    "else: \n",
    "    print('Не получилось отвергнуть нулевую гипотезу')"
   ]
  },
  {
   "cell_type": "code",
   "execution_count": 27,
   "metadata": {},
   "outputs": [
    {
     "name": "stdout",
     "output_type": "stream",
     "text": [
      "Для справки, средние показатели:\n",
      "6.8 5.5\n"
     ]
    }
   ],
   "source": [
    "Action_mean = round(games[(~games['user_score'].isna()) & (games['genre'] == 'Action') & (games['year_of_release']>2011)]['user_score'].mean(), 1)\n",
    "Sports_mean = round(games[(~games['user_score'].isna()) & (games['genre'] == 'Sports') & (games['year_of_release']>2011)]['user_score'].mean(), 1)\n",
    "print('Для справки, средние показатели:')\n",
    "print(Action_mean, Sports_mean)"
   ]
  },
  {
   "cell_type": "markdown",
   "metadata": {},
   "source": [
    "### Выводы:"
   ]
  },
  {
   "cell_type": "markdown",
   "metadata": {},
   "source": [
    "Гипотезы о равенстве средних пользовательских рейтингах не подтвердились. "
   ]
  },
  {
   "cell_type": "markdown",
   "metadata": {},
   "source": [
    "## Общий вывод:"
   ]
  },
  {
   "cell_type": "markdown",
   "metadata": {},
   "source": [
    "Для анализа на конец 2016 года был выбран следующий подход:\n",
    "* актуальный период - начиная с 2012 (тенденции этого периода будут актуальны для периода с 2016 года)\n",
    "* выбраны 4 платформы лидера ('PS4', 'XOne', '3DS', 'PC'), которые останутся прибыльными и в ближайшие годы (также определен средний срок жизни платформы - 9 лет)\n",
    "* для потенциально прибыльных платформ проанализировано влияние отзывов пользователей и критиков на продажи. Отзыва пользователей почти не влияют продажи. Отзыва критиков оказывают влияние на продажи, но не сильное\n",
    "* Из жанров самые популярные - это Action, Shooter, Role-Playing и Sports\n",
    "* Для актуального периода были определены портреты пользователей из трех основных регионов: NA, EU, JP: какие платформы, жанры они предпочитают. Выяснилось, что NА и EU схожи между собой. А JP отличается от них. Это нужно учитывать при планировании региональных рекламных компании. \n",
    "\n",
    "\n",
    "Были проверены статистические гипотезы о равенстве средних пользоватетьских рейтингов у двух жанров и платформ. "
   ]
  },
  {
   "cell_type": "code",
   "execution_count": null,
   "metadata": {},
   "outputs": [],
   "source": []
  }
 ],
 "metadata": {
  "ExecuteTimeLog": [
   {
    "duration": 1357,
    "start_time": "2021-12-27T10:19:48.470Z"
   },
   {
    "duration": 51,
    "start_time": "2021-12-27T10:19:52.627Z"
   },
   {
    "duration": 19,
    "start_time": "2021-12-27T10:20:09.267Z"
   },
   {
    "duration": 14,
    "start_time": "2021-12-27T10:20:56.805Z"
   },
   {
    "duration": 10276,
    "start_time": "2021-12-27T10:31:05.670Z"
   },
   {
    "duration": 9,
    "start_time": "2021-12-27T10:31:34.439Z"
   },
   {
    "duration": 525,
    "start_time": "2021-12-27T10:34:39.110Z"
   },
   {
    "duration": 704,
    "start_time": "2021-12-27T10:35:46.972Z"
   },
   {
    "duration": 6,
    "start_time": "2021-12-27T10:39:58.291Z"
   },
   {
    "duration": 362,
    "start_time": "2021-12-27T10:40:28.131Z"
   },
   {
    "duration": 6,
    "start_time": "2021-12-27T10:40:36.475Z"
   },
   {
    "duration": 9,
    "start_time": "2021-12-27T10:40:39.771Z"
   },
   {
    "duration": 4,
    "start_time": "2021-12-27T10:40:53.515Z"
   },
   {
    "duration": -83,
    "start_time": "2021-12-27T10:41:06.463Z"
   },
   {
    "duration": 9,
    "start_time": "2021-12-27T10:41:12.179Z"
   },
   {
    "duration": 16,
    "start_time": "2021-12-27T10:41:33.504Z"
   },
   {
    "duration": 387,
    "start_time": "2021-12-27T10:42:53.697Z"
   },
   {
    "duration": 6,
    "start_time": "2021-12-27T10:43:10.139Z"
   },
   {
    "duration": 7,
    "start_time": "2021-12-27T10:43:25.811Z"
   },
   {
    "duration": 10,
    "start_time": "2021-12-27T10:43:35.427Z"
   },
   {
    "duration": 32,
    "start_time": "2021-12-27T10:44:56.540Z"
   },
   {
    "duration": 7,
    "start_time": "2021-12-27T10:50:49.440Z"
   },
   {
    "duration": 7,
    "start_time": "2021-12-27T10:51:50.542Z"
   },
   {
    "duration": 378,
    "start_time": "2021-12-27T10:52:32.042Z"
   },
   {
    "duration": 384,
    "start_time": "2021-12-27T10:53:19.558Z"
   },
   {
    "duration": 32,
    "start_time": "2021-12-27T10:53:44.590Z"
   },
   {
    "duration": 13,
    "start_time": "2021-12-27T10:54:55.343Z"
   },
   {
    "duration": 29,
    "start_time": "2021-12-27T10:55:29.866Z"
   },
   {
    "duration": 8,
    "start_time": "2021-12-27T10:57:06.110Z"
   },
   {
    "duration": 7,
    "start_time": "2021-12-27T10:57:40.532Z"
   },
   {
    "duration": 29,
    "start_time": "2021-12-27T10:58:18.470Z"
   },
   {
    "duration": 17,
    "start_time": "2021-12-27T11:02:33.507Z"
   },
   {
    "duration": 14,
    "start_time": "2021-12-27T11:03:06.859Z"
   },
   {
    "duration": 21,
    "start_time": "2021-12-27T11:03:26.721Z"
   },
   {
    "duration": 21,
    "start_time": "2021-12-27T11:05:52.882Z"
   },
   {
    "duration": 415,
    "start_time": "2021-12-27T11:07:10.034Z"
   },
   {
    "duration": 992,
    "start_time": "2021-12-27T11:09:01.039Z"
   },
   {
    "duration": 472,
    "start_time": "2021-12-27T11:09:14.407Z"
   },
   {
    "duration": 2623,
    "start_time": "2021-12-27T11:09:20.408Z"
   },
   {
    "duration": 133,
    "start_time": "2021-12-27T11:10:28.888Z"
   },
   {
    "duration": 16,
    "start_time": "2021-12-27T11:10:37.247Z"
   },
   {
    "duration": 12,
    "start_time": "2021-12-27T11:10:59.823Z"
   },
   {
    "duration": 16,
    "start_time": "2021-12-27T11:11:14.866Z"
   },
   {
    "duration": -94,
    "start_time": "2021-12-27T11:11:43.694Z"
   },
   {
    "duration": 21,
    "start_time": "2021-12-27T11:11:45.654Z"
   },
   {
    "duration": 121,
    "start_time": "2021-12-27T11:12:10.007Z"
   },
   {
    "duration": 155,
    "start_time": "2021-12-27T11:12:42.966Z"
   },
   {
    "duration": 1415,
    "start_time": "2021-12-27T11:12:53.915Z"
   },
   {
    "duration": 52,
    "start_time": "2021-12-27T11:12:55.333Z"
   },
   {
    "duration": 20,
    "start_time": "2021-12-27T11:12:55.389Z"
   },
   {
    "duration": 20,
    "start_time": "2021-12-27T11:12:55.413Z"
   },
   {
    "duration": 24,
    "start_time": "2021-12-27T11:12:55.436Z"
   },
   {
    "duration": 169,
    "start_time": "2021-12-27T11:12:55.463Z"
   },
   {
    "duration": 31,
    "start_time": "2021-12-27T11:12:55.635Z"
   },
   {
    "duration": 11,
    "start_time": "2021-12-27T11:12:55.669Z"
   },
   {
    "duration": 37,
    "start_time": "2021-12-27T11:12:55.682Z"
   },
   {
    "duration": 29,
    "start_time": "2021-12-27T11:14:27.033Z"
   },
   {
    "duration": 28,
    "start_time": "2021-12-27T11:15:03.478Z"
   },
   {
    "duration": 29,
    "start_time": "2021-12-27T11:15:21.544Z"
   },
   {
    "duration": 30,
    "start_time": "2021-12-27T11:16:17.732Z"
   },
   {
    "duration": 30,
    "start_time": "2021-12-27T11:17:08.184Z"
   },
   {
    "duration": 30,
    "start_time": "2021-12-27T11:17:24.610Z"
   },
   {
    "duration": 7,
    "start_time": "2021-12-27T11:20:12.972Z"
   },
   {
    "duration": 314,
    "start_time": "2021-12-28T15:36:01.893Z"
   },
   {
    "duration": 1158,
    "start_time": "2021-12-28T15:36:11.069Z"
   },
   {
    "duration": 39,
    "start_time": "2021-12-28T15:36:12.230Z"
   },
   {
    "duration": 15,
    "start_time": "2021-12-28T15:36:12.271Z"
   },
   {
    "duration": 19,
    "start_time": "2021-12-28T15:36:12.288Z"
   },
   {
    "duration": 14,
    "start_time": "2021-12-28T15:36:12.309Z"
   },
   {
    "duration": 27,
    "start_time": "2021-12-28T15:36:12.325Z"
   },
   {
    "duration": 33,
    "start_time": "2021-12-28T15:36:12.354Z"
   },
   {
    "duration": 24,
    "start_time": "2021-12-28T15:36:12.389Z"
   },
   {
    "duration": 13,
    "start_time": "2021-12-28T15:36:12.416Z"
   },
   {
    "duration": 19,
    "start_time": "2021-12-28T15:36:12.431Z"
   },
   {
    "duration": 28,
    "start_time": "2021-12-28T15:36:16.235Z"
   },
   {
    "duration": 12,
    "start_time": "2021-12-28T15:38:35.818Z"
   },
   {
    "duration": 7,
    "start_time": "2021-12-28T15:38:54.730Z"
   },
   {
    "duration": 11,
    "start_time": "2021-12-28T15:38:59.914Z"
   },
   {
    "duration": 10,
    "start_time": "2021-12-28T15:39:27.068Z"
   },
   {
    "duration": 13,
    "start_time": "2021-12-28T15:39:34.003Z"
   },
   {
    "duration": 6,
    "start_time": "2021-12-28T15:39:53.554Z"
   },
   {
    "duration": 9,
    "start_time": "2021-12-28T15:42:18.624Z"
   },
   {
    "duration": 11,
    "start_time": "2021-12-28T15:42:29.689Z"
   },
   {
    "duration": 7,
    "start_time": "2021-12-28T15:43:39.176Z"
   },
   {
    "duration": 5,
    "start_time": "2021-12-28T15:47:43.831Z"
   },
   {
    "duration": 3,
    "start_time": "2021-12-28T15:48:19.169Z"
   },
   {
    "duration": 2,
    "start_time": "2021-12-28T15:48:33.248Z"
   },
   {
    "duration": 15,
    "start_time": "2021-12-28T15:59:51.028Z"
   },
   {
    "duration": 12,
    "start_time": "2021-12-28T16:01:33.861Z"
   },
   {
    "duration": 345,
    "start_time": "2021-12-28T16:10:04.425Z"
   },
   {
    "duration": 11,
    "start_time": "2021-12-28T16:10:24.945Z"
   },
   {
    "duration": 11,
    "start_time": "2021-12-28T16:12:08.339Z"
   },
   {
    "duration": 9,
    "start_time": "2021-12-28T16:12:30.194Z"
   },
   {
    "duration": 10,
    "start_time": "2021-12-28T16:12:51.980Z"
   },
   {
    "duration": 7,
    "start_time": "2021-12-28T16:13:16.680Z"
   },
   {
    "duration": 354,
    "start_time": "2021-12-28T16:16:09.287Z"
   },
   {
    "duration": 27,
    "start_time": "2021-12-28T16:16:19.089Z"
   },
   {
    "duration": 18,
    "start_time": "2021-12-28T16:17:16.680Z"
   },
   {
    "duration": 29,
    "start_time": "2021-12-28T16:17:49.221Z"
   },
   {
    "duration": 7,
    "start_time": "2021-12-28T16:17:56.198Z"
   },
   {
    "duration": 8,
    "start_time": "2021-12-28T16:18:11.392Z"
   },
   {
    "duration": 29,
    "start_time": "2021-12-28T16:18:32.935Z"
   },
   {
    "duration": 15,
    "start_time": "2021-12-28T16:20:33.351Z"
   },
   {
    "duration": 266,
    "start_time": "2021-12-28T16:22:03.353Z"
   },
   {
    "duration": 313,
    "start_time": "2021-12-28T16:22:30.605Z"
   },
   {
    "duration": 6206,
    "start_time": "2021-12-28T16:27:03.693Z"
   },
   {
    "duration": 301,
    "start_time": "2021-12-28T16:27:25.413Z"
   },
   {
    "duration": 10,
    "start_time": "2021-12-28T16:28:00.039Z"
   },
   {
    "duration": 22,
    "start_time": "2021-12-28T16:28:15.277Z"
   },
   {
    "duration": 296,
    "start_time": "2021-12-28T16:28:38.222Z"
   },
   {
    "duration": 313,
    "start_time": "2021-12-28T16:29:27.684Z"
   },
   {
    "duration": 357,
    "start_time": "2021-12-28T16:29:36.585Z"
   },
   {
    "duration": 21,
    "start_time": "2021-12-28T16:29:56.023Z"
   },
   {
    "duration": 82,
    "start_time": "2021-12-28T16:32:53.020Z"
   },
   {
    "duration": 88,
    "start_time": "2021-12-28T16:33:03.746Z"
   },
   {
    "duration": 90,
    "start_time": "2021-12-28T16:33:20.450Z"
   },
   {
    "duration": 308,
    "start_time": "2021-12-28T16:34:13.463Z"
   },
   {
    "duration": 7017,
    "start_time": "2021-12-28T16:34:21.227Z"
   },
   {
    "duration": 15,
    "start_time": "2021-12-28T16:34:54.859Z"
   },
   {
    "duration": 17,
    "start_time": "2021-12-28T16:36:04.122Z"
   },
   {
    "duration": 14,
    "start_time": "2021-12-28T16:36:13.801Z"
   },
   {
    "duration": 17,
    "start_time": "2021-12-28T16:37:30.138Z"
   },
   {
    "duration": 18,
    "start_time": "2021-12-28T16:37:48.442Z"
   },
   {
    "duration": 1340,
    "start_time": "2021-12-29T06:14:50.088Z"
   },
   {
    "duration": 51,
    "start_time": "2021-12-29T06:14:51.430Z"
   },
   {
    "duration": 22,
    "start_time": "2021-12-29T06:14:51.484Z"
   },
   {
    "duration": 16,
    "start_time": "2021-12-29T06:14:51.510Z"
   },
   {
    "duration": 33,
    "start_time": "2021-12-29T06:14:51.528Z"
   },
   {
    "duration": 14,
    "start_time": "2021-12-29T06:14:51.565Z"
   },
   {
    "duration": 8,
    "start_time": "2021-12-29T06:14:51.581Z"
   },
   {
    "duration": 3,
    "start_time": "2021-12-29T06:14:51.591Z"
   },
   {
    "duration": 838,
    "start_time": "2021-12-29T06:14:51.598Z"
   },
   {
    "duration": 104,
    "start_time": "2021-12-29T06:14:52.335Z"
   },
   {
    "duration": 105,
    "start_time": "2021-12-29T06:14:52.336Z"
   },
   {
    "duration": 105,
    "start_time": "2021-12-29T06:14:52.338Z"
   },
   {
    "duration": 103,
    "start_time": "2021-12-29T06:14:52.341Z"
   },
   {
    "duration": 104,
    "start_time": "2021-12-29T06:14:52.342Z"
   },
   {
    "duration": 104,
    "start_time": "2021-12-29T06:14:52.343Z"
   },
   {
    "duration": 105,
    "start_time": "2021-12-29T06:14:52.344Z"
   },
   {
    "duration": 384,
    "start_time": "2021-12-29T06:15:11.631Z"
   },
   {
    "duration": 22,
    "start_time": "2021-12-29T06:15:44.660Z"
   },
   {
    "duration": 16,
    "start_time": "2021-12-29T06:34:12.800Z"
   },
   {
    "duration": 7,
    "start_time": "2021-12-29T06:34:15.637Z"
   },
   {
    "duration": 3,
    "start_time": "2021-12-29T06:34:19.406Z"
   },
   {
    "duration": 23,
    "start_time": "2021-12-29T06:34:21.150Z"
   },
   {
    "duration": 605,
    "start_time": "2021-12-29T06:34:48.639Z"
   },
   {
    "duration": 494,
    "start_time": "2021-12-29T06:35:28.321Z"
   },
   {
    "duration": 28,
    "start_time": "2021-12-29T06:35:51.846Z"
   },
   {
    "duration": 175,
    "start_time": "2021-12-29T06:41:40.663Z"
   },
   {
    "duration": 11,
    "start_time": "2021-12-29T06:46:44.312Z"
   },
   {
    "duration": 395,
    "start_time": "2021-12-29T06:47:48.477Z"
   },
   {
    "duration": 381,
    "start_time": "2021-12-29T06:48:19.308Z"
   },
   {
    "duration": 384,
    "start_time": "2021-12-29T06:49:38.356Z"
   },
   {
    "duration": 374,
    "start_time": "2021-12-29T06:50:54.370Z"
   },
   {
    "duration": 478,
    "start_time": "2021-12-29T06:51:15.411Z"
   },
   {
    "duration": 371,
    "start_time": "2021-12-29T06:51:43.826Z"
   },
   {
    "duration": 466,
    "start_time": "2021-12-29T06:52:09.810Z"
   },
   {
    "duration": 365,
    "start_time": "2021-12-29T06:52:55.028Z"
   },
   {
    "duration": 1302,
    "start_time": "2021-12-29T06:53:39.512Z"
   },
   {
    "duration": 48,
    "start_time": "2021-12-29T06:53:40.817Z"
   },
   {
    "duration": 20,
    "start_time": "2021-12-29T06:53:40.868Z"
   },
   {
    "duration": 14,
    "start_time": "2021-12-29T06:53:40.891Z"
   },
   {
    "duration": 4,
    "start_time": "2021-12-29T06:53:40.907Z"
   },
   {
    "duration": 47,
    "start_time": "2021-12-29T06:53:40.913Z"
   },
   {
    "duration": 10,
    "start_time": "2021-12-29T06:53:40.963Z"
   },
   {
    "duration": 7,
    "start_time": "2021-12-29T06:53:40.976Z"
   },
   {
    "duration": 2,
    "start_time": "2021-12-29T06:53:40.988Z"
   },
   {
    "duration": 27,
    "start_time": "2021-12-29T06:53:40.993Z"
   },
   {
    "duration": 46,
    "start_time": "2021-12-29T06:53:41.022Z"
   },
   {
    "duration": 7,
    "start_time": "2021-12-29T06:53:41.070Z"
   },
   {
    "duration": 4,
    "start_time": "2021-12-29T06:53:41.079Z"
   },
   {
    "duration": 20,
    "start_time": "2021-12-29T06:53:41.085Z"
   },
   {
    "duration": 732,
    "start_time": "2021-12-29T06:53:41.107Z"
   },
   {
    "duration": 17,
    "start_time": "2021-12-29T06:53:41.842Z"
   },
   {
    "duration": 543,
    "start_time": "2021-12-29T06:53:41.862Z"
   },
   {
    "duration": 12,
    "start_time": "2021-12-29T06:54:01.681Z"
   },
   {
    "duration": 11,
    "start_time": "2021-12-29T06:58:44.847Z"
   },
   {
    "duration": 382,
    "start_time": "2021-12-29T06:59:02.168Z"
   },
   {
    "duration": 15,
    "start_time": "2021-12-29T06:59:56.111Z"
   },
   {
    "duration": 5,
    "start_time": "2021-12-29T07:00:02.430Z"
   },
   {
    "duration": 3,
    "start_time": "2021-12-29T07:00:05.055Z"
   },
   {
    "duration": 19,
    "start_time": "2021-12-29T07:00:06.624Z"
   },
   {
    "duration": 17,
    "start_time": "2021-12-29T07:00:15.575Z"
   },
   {
    "duration": 18,
    "start_time": "2021-12-29T07:00:26.415Z"
   },
   {
    "duration": 724,
    "start_time": "2021-12-29T07:00:35.552Z"
   },
   {
    "duration": 27,
    "start_time": "2021-12-29T07:02:19.809Z"
   },
   {
    "duration": 1629,
    "start_time": "2021-12-29T07:03:29.790Z"
   },
   {
    "duration": 815,
    "start_time": "2021-12-29T07:04:26.193Z"
   },
   {
    "duration": 1402,
    "start_time": "2021-12-29T07:05:25.031Z"
   },
   {
    "duration": 48,
    "start_time": "2021-12-29T07:05:26.435Z"
   },
   {
    "duration": 19,
    "start_time": "2021-12-29T07:05:26.490Z"
   },
   {
    "duration": 13,
    "start_time": "2021-12-29T07:05:26.511Z"
   },
   {
    "duration": 4,
    "start_time": "2021-12-29T07:05:26.526Z"
   },
   {
    "duration": 12,
    "start_time": "2021-12-29T07:05:26.560Z"
   },
   {
    "duration": 12,
    "start_time": "2021-12-29T07:05:26.574Z"
   },
   {
    "duration": 6,
    "start_time": "2021-12-29T07:05:26.590Z"
   },
   {
    "duration": 3,
    "start_time": "2021-12-29T07:05:26.599Z"
   },
   {
    "duration": 61,
    "start_time": "2021-12-29T07:05:26.605Z"
   },
   {
    "duration": 15,
    "start_time": "2021-12-29T07:05:26.669Z"
   },
   {
    "duration": 7,
    "start_time": "2021-12-29T07:05:26.686Z"
   },
   {
    "duration": 4,
    "start_time": "2021-12-29T07:05:26.695Z"
   },
   {
    "duration": 19,
    "start_time": "2021-12-29T07:05:26.701Z"
   },
   {
    "duration": 754,
    "start_time": "2021-12-29T07:05:26.722Z"
   },
   {
    "duration": 4,
    "start_time": "2021-12-29T07:05:27.479Z"
   },
   {
    "duration": 29,
    "start_time": "2021-12-29T07:05:27.486Z"
   },
   {
    "duration": 691,
    "start_time": "2021-12-29T07:06:56.424Z"
   },
   {
    "duration": 698,
    "start_time": "2021-12-29T07:07:09.757Z"
   },
   {
    "duration": 688,
    "start_time": "2021-12-29T07:10:10.174Z"
   },
   {
    "duration": 582,
    "start_time": "2021-12-29T07:10:43.133Z"
   },
   {
    "duration": 651,
    "start_time": "2021-12-29T07:11:07.032Z"
   },
   {
    "duration": 21,
    "start_time": "2021-12-29T07:11:29.773Z"
   },
   {
    "duration": 1044,
    "start_time": "2021-12-29T07:18:49.500Z"
   },
   {
    "duration": 490,
    "start_time": "2021-12-29T07:23:21.083Z"
   },
   {
    "duration": 1074,
    "start_time": "2021-12-29T07:25:22.241Z"
   },
   {
    "duration": 791,
    "start_time": "2021-12-29T07:27:06.225Z"
   },
   {
    "duration": 907,
    "start_time": "2021-12-29T07:27:25.306Z"
   },
   {
    "duration": 455,
    "start_time": "2021-12-29T07:27:34.089Z"
   },
   {
    "duration": 457,
    "start_time": "2021-12-29T07:28:58.929Z"
   },
   {
    "duration": 473,
    "start_time": "2021-12-29T07:29:09.937Z"
   },
   {
    "duration": 620,
    "start_time": "2021-12-29T07:29:32.552Z"
   },
   {
    "duration": 613,
    "start_time": "2021-12-29T07:29:49.392Z"
   },
   {
    "duration": 575,
    "start_time": "2021-12-29T07:30:02.825Z"
   },
   {
    "duration": 1961,
    "start_time": "2021-12-29T07:32:28.889Z"
   },
   {
    "duration": 754,
    "start_time": "2021-12-29T07:33:10.151Z"
   },
   {
    "duration": 900,
    "start_time": "2021-12-29T07:33:50.415Z"
   },
   {
    "duration": 757,
    "start_time": "2021-12-29T07:34:06.894Z"
   },
   {
    "duration": 785,
    "start_time": "2021-12-29T07:34:20.398Z"
   },
   {
    "duration": 793,
    "start_time": "2021-12-29T07:34:31.022Z"
   },
   {
    "duration": 779,
    "start_time": "2021-12-29T07:34:43.680Z"
   },
   {
    "duration": 44,
    "start_time": "2021-12-29T07:36:11.023Z"
   },
   {
    "duration": 907,
    "start_time": "2021-12-29T07:37:25.175Z"
   },
   {
    "duration": 19,
    "start_time": "2021-12-29T07:37:55.069Z"
   },
   {
    "duration": 423,
    "start_time": "2021-12-29T07:38:40.831Z"
   },
   {
    "duration": 18,
    "start_time": "2021-12-29T07:39:05.132Z"
   },
   {
    "duration": 147,
    "start_time": "2021-12-29T07:57:16.656Z"
   },
   {
    "duration": 32,
    "start_time": "2021-12-29T07:58:10.991Z"
   },
   {
    "duration": 141,
    "start_time": "2021-12-29T07:58:22.512Z"
   },
   {
    "duration": 22,
    "start_time": "2021-12-29T07:58:54.536Z"
   },
   {
    "duration": 392,
    "start_time": "2021-12-29T07:59:29.312Z"
   },
   {
    "duration": 22,
    "start_time": "2021-12-29T07:59:42.719Z"
   },
   {
    "duration": 418,
    "start_time": "2021-12-29T08:00:17.123Z"
   },
   {
    "duration": 422,
    "start_time": "2021-12-29T08:00:24.911Z"
   },
   {
    "duration": 412,
    "start_time": "2021-12-29T08:00:50.896Z"
   },
   {
    "duration": 3,
    "start_time": "2021-12-29T08:03:00.790Z"
   },
   {
    "duration": 417,
    "start_time": "2021-12-29T08:11:14.116Z"
   },
   {
    "duration": 1460,
    "start_time": "2021-12-29T08:12:34.865Z"
   },
   {
    "duration": 53,
    "start_time": "2021-12-29T08:12:36.327Z"
   },
   {
    "duration": 19,
    "start_time": "2021-12-29T08:12:36.383Z"
   },
   {
    "duration": 14,
    "start_time": "2021-12-29T08:12:36.405Z"
   },
   {
    "duration": 3,
    "start_time": "2021-12-29T08:12:36.422Z"
   },
   {
    "duration": 39,
    "start_time": "2021-12-29T08:12:36.427Z"
   },
   {
    "duration": 12,
    "start_time": "2021-12-29T08:12:36.468Z"
   },
   {
    "duration": 7,
    "start_time": "2021-12-29T08:12:36.484Z"
   },
   {
    "duration": 4,
    "start_time": "2021-12-29T08:12:36.494Z"
   },
   {
    "duration": 21,
    "start_time": "2021-12-29T08:12:36.501Z"
   },
   {
    "duration": 16,
    "start_time": "2021-12-29T08:12:36.560Z"
   },
   {
    "duration": 7,
    "start_time": "2021-12-29T08:12:36.578Z"
   },
   {
    "duration": 4,
    "start_time": "2021-12-29T08:12:36.587Z"
   },
   {
    "duration": 19,
    "start_time": "2021-12-29T08:12:36.594Z"
   },
   {
    "duration": 626,
    "start_time": "2021-12-29T08:12:36.615Z"
   },
   {
    "duration": 30,
    "start_time": "2021-12-29T08:12:37.244Z"
   },
   {
    "duration": 26,
    "start_time": "2021-12-29T08:12:37.276Z"
   },
   {
    "duration": 833,
    "start_time": "2021-12-29T08:12:37.305Z"
   },
   {
    "duration": 1070,
    "start_time": "2021-12-29T08:12:38.140Z"
   },
   {
    "duration": 19,
    "start_time": "2021-12-29T08:12:39.213Z"
   },
   {
    "duration": 38,
    "start_time": "2021-12-29T08:12:39.234Z"
   },
   {
    "duration": 20,
    "start_time": "2021-12-29T08:12:39.275Z"
   },
   {
    "duration": 20,
    "start_time": "2021-12-29T08:14:20.916Z"
   },
   {
    "duration": 15,
    "start_time": "2021-12-29T08:14:48.131Z"
   },
   {
    "duration": 20,
    "start_time": "2021-12-29T08:15:44.107Z"
   },
   {
    "duration": 16,
    "start_time": "2021-12-29T08:16:00.762Z"
   },
   {
    "duration": 13,
    "start_time": "2021-12-29T08:17:58.963Z"
   },
   {
    "duration": 33,
    "start_time": "2021-12-29T08:18:30.610Z"
   },
   {
    "duration": 30,
    "start_time": "2021-12-29T08:20:34.163Z"
   },
   {
    "duration": 30,
    "start_time": "2021-12-29T08:20:48.642Z"
   },
   {
    "duration": 10046,
    "start_time": "2021-12-29T08:24:38.352Z"
   },
   {
    "duration": 31,
    "start_time": "2021-12-29T08:25:19.673Z"
   },
   {
    "duration": 394,
    "start_time": "2021-12-29T08:26:17.936Z"
   },
   {
    "duration": 430,
    "start_time": "2021-12-29T08:26:27.954Z"
   },
   {
    "duration": 32,
    "start_time": "2021-12-29T08:27:43.792Z"
   },
   {
    "duration": 16,
    "start_time": "2021-12-29T08:29:13.902Z"
   },
   {
    "duration": 17,
    "start_time": "2021-12-29T08:30:07.463Z"
   },
   {
    "duration": 18,
    "start_time": "2021-12-29T08:30:45.855Z"
   },
   {
    "duration": 65,
    "start_time": "2021-12-29T08:31:14.879Z"
   },
   {
    "duration": 410,
    "start_time": "2021-12-29T08:32:05.975Z"
   },
   {
    "duration": 66,
    "start_time": "2021-12-29T08:32:14.278Z"
   },
   {
    "duration": 24,
    "start_time": "2021-12-29T08:32:26.239Z"
   },
   {
    "duration": 10248,
    "start_time": "2021-12-29T08:32:52.767Z"
   },
   {
    "duration": 30,
    "start_time": "2021-12-29T08:33:49.175Z"
   },
   {
    "duration": 21,
    "start_time": "2021-12-29T08:35:39.094Z"
   },
   {
    "duration": 16,
    "start_time": "2021-12-29T08:36:13.501Z"
   },
   {
    "duration": 22,
    "start_time": "2021-12-29T08:36:33.869Z"
   },
   {
    "duration": 388,
    "start_time": "2021-12-29T08:37:47.085Z"
   },
   {
    "duration": 25118,
    "start_time": "2021-12-29T08:38:33.496Z"
   },
   {
    "duration": 21,
    "start_time": "2021-12-29T08:39:54.733Z"
   },
   {
    "duration": 1845,
    "start_time": "2021-12-29T08:40:15.813Z"
   },
   {
    "duration": 23456,
    "start_time": "2021-12-29T08:41:01.869Z"
   },
   {
    "duration": 155,
    "start_time": "2021-12-29T08:41:33.380Z"
   },
   {
    "duration": 23464,
    "start_time": "2021-12-29T08:41:54.516Z"
   },
   {
    "duration": 24299,
    "start_time": "2021-12-29T08:43:08.398Z"
   },
   {
    "duration": 276,
    "start_time": "2021-12-29T08:43:47.596Z"
   },
   {
    "duration": 331,
    "start_time": "2021-12-29T08:44:15.011Z"
   },
   {
    "duration": 258,
    "start_time": "2021-12-29T08:44:56.795Z"
   },
   {
    "duration": 255,
    "start_time": "2021-12-29T08:47:28.978Z"
   },
   {
    "duration": 303,
    "start_time": "2021-12-29T08:48:11.041Z"
   },
   {
    "duration": 405,
    "start_time": "2021-12-29T08:48:35.889Z"
   },
   {
    "duration": 1727,
    "start_time": "2021-12-29T09:42:45.253Z"
   },
   {
    "duration": 50,
    "start_time": "2021-12-29T09:42:46.982Z"
   },
   {
    "duration": 26,
    "start_time": "2021-12-29T09:42:47.035Z"
   },
   {
    "duration": 15,
    "start_time": "2021-12-29T09:42:47.064Z"
   },
   {
    "duration": 3,
    "start_time": "2021-12-29T09:42:47.082Z"
   },
   {
    "duration": 11,
    "start_time": "2021-12-29T09:42:47.088Z"
   },
   {
    "duration": 12,
    "start_time": "2021-12-29T09:42:47.102Z"
   },
   {
    "duration": 47,
    "start_time": "2021-12-29T09:42:47.116Z"
   },
   {
    "duration": 2,
    "start_time": "2021-12-29T09:42:47.167Z"
   },
   {
    "duration": 27,
    "start_time": "2021-12-29T09:42:47.172Z"
   },
   {
    "duration": 15,
    "start_time": "2021-12-29T09:42:47.201Z"
   },
   {
    "duration": 7,
    "start_time": "2021-12-29T09:42:47.219Z"
   },
   {
    "duration": 3,
    "start_time": "2021-12-29T09:42:47.260Z"
   },
   {
    "duration": 19,
    "start_time": "2021-12-29T09:42:47.265Z"
   },
   {
    "duration": 619,
    "start_time": "2021-12-29T09:42:47.286Z"
   },
   {
    "duration": 24,
    "start_time": "2021-12-29T09:42:47.908Z"
   },
   {
    "duration": 47,
    "start_time": "2021-12-29T09:42:47.935Z"
   },
   {
    "duration": 823,
    "start_time": "2021-12-29T09:42:47.984Z"
   },
   {
    "duration": 1078,
    "start_time": "2021-12-29T09:42:48.809Z"
   },
   {
    "duration": 20,
    "start_time": "2021-12-29T09:42:49.889Z"
   },
   {
    "duration": 19,
    "start_time": "2021-12-29T09:42:49.911Z"
   },
   {
    "duration": 427,
    "start_time": "2021-12-29T09:42:49.932Z"
   },
   {
    "duration": 25,
    "start_time": "2021-12-29T09:48:44.683Z"
   },
   {
    "duration": 28,
    "start_time": "2021-12-29T09:51:51.775Z"
   },
   {
    "duration": 18,
    "start_time": "2021-12-29T09:52:19.408Z"
   },
   {
    "duration": 878,
    "start_time": "2021-12-29T09:58:23.551Z"
   },
   {
    "duration": 31,
    "start_time": "2021-12-29T10:01:25.109Z"
   },
   {
    "duration": 29,
    "start_time": "2021-12-29T10:06:15.260Z"
   },
   {
    "duration": 29,
    "start_time": "2021-12-29T10:06:36.541Z"
   },
   {
    "duration": 574,
    "start_time": "2021-12-29T10:09:02.309Z"
   },
   {
    "duration": 11,
    "start_time": "2021-12-29T10:09:54.930Z"
   },
   {
    "duration": 12,
    "start_time": "2021-12-29T10:12:55.224Z"
   },
   {
    "duration": 512,
    "start_time": "2021-12-29T10:14:32.024Z"
   },
   {
    "duration": 445,
    "start_time": "2021-12-29T10:18:12.087Z"
   },
   {
    "duration": 9,
    "start_time": "2021-12-29T10:18:23.579Z"
   },
   {
    "duration": 517,
    "start_time": "2021-12-29T10:18:26.999Z"
   },
   {
    "duration": 490,
    "start_time": "2021-12-29T10:19:31.999Z"
   },
   {
    "duration": 526,
    "start_time": "2021-12-29T10:19:38.527Z"
   },
   {
    "duration": 500,
    "start_time": "2021-12-29T10:20:48.062Z"
   },
   {
    "duration": 580,
    "start_time": "2021-12-29T10:22:05.902Z"
   },
   {
    "duration": 557,
    "start_time": "2021-12-29T10:22:18.841Z"
   },
   {
    "duration": 496,
    "start_time": "2021-12-29T10:23:05.132Z"
   },
   {
    "duration": 416,
    "start_time": "2021-12-29T10:31:18.245Z"
   },
   {
    "duration": 531,
    "start_time": "2021-12-29T10:31:31.028Z"
   },
   {
    "duration": 8,
    "start_time": "2021-12-29T10:31:51.731Z"
   },
   {
    "duration": 620,
    "start_time": "2021-12-29T10:31:55.939Z"
   },
   {
    "duration": 628,
    "start_time": "2021-12-29T10:52:10.504Z"
   },
   {
    "duration": 696,
    "start_time": "2021-12-29T10:53:24.414Z"
   },
   {
    "duration": 639,
    "start_time": "2021-12-29T10:54:02.958Z"
   },
   {
    "duration": 417,
    "start_time": "2021-12-29T11:01:40.117Z"
   },
   {
    "duration": 424,
    "start_time": "2021-12-29T11:01:48.718Z"
   },
   {
    "duration": 669,
    "start_time": "2021-12-29T11:04:04.732Z"
   },
   {
    "duration": 411,
    "start_time": "2021-12-29T11:04:33.164Z"
   },
   {
    "duration": 419,
    "start_time": "2021-12-29T11:05:33.251Z"
   },
   {
    "duration": 511,
    "start_time": "2021-12-29T11:06:52.387Z"
   },
   {
    "duration": 402,
    "start_time": "2021-12-29T11:07:54.482Z"
   },
   {
    "duration": 400,
    "start_time": "2021-12-29T11:08:23.068Z"
   },
   {
    "duration": 14,
    "start_time": "2021-12-29T11:10:29.440Z"
   },
   {
    "duration": 14,
    "start_time": "2021-12-29T11:11:12.443Z"
   },
   {
    "duration": 261,
    "start_time": "2021-12-29T11:13:20.801Z"
   },
   {
    "duration": 622,
    "start_time": "2021-12-29T11:14:03.113Z"
   },
   {
    "duration": 254,
    "start_time": "2021-12-29T11:14:18.713Z"
   },
   {
    "duration": 157,
    "start_time": "2021-12-29T11:14:44.265Z"
   },
   {
    "duration": 714,
    "start_time": "2021-12-29T11:15:24.208Z"
   },
   {
    "duration": 159,
    "start_time": "2021-12-29T11:15:42.322Z"
   },
   {
    "duration": 290,
    "start_time": "2021-12-29T15:23:50.584Z"
   },
   {
    "duration": 1164,
    "start_time": "2021-12-29T15:32:26.500Z"
   },
   {
    "duration": 39,
    "start_time": "2021-12-29T15:32:27.666Z"
   },
   {
    "duration": 15,
    "start_time": "2021-12-29T15:32:27.707Z"
   },
   {
    "duration": 21,
    "start_time": "2021-12-29T15:32:27.724Z"
   },
   {
    "duration": 3,
    "start_time": "2021-12-29T15:32:27.747Z"
   },
   {
    "duration": 12,
    "start_time": "2021-12-29T15:32:27.752Z"
   },
   {
    "duration": 11,
    "start_time": "2021-12-29T15:32:27.765Z"
   },
   {
    "duration": 16,
    "start_time": "2021-12-29T15:32:27.777Z"
   },
   {
    "duration": 10,
    "start_time": "2021-12-29T15:32:27.795Z"
   },
   {
    "duration": 49,
    "start_time": "2021-12-29T15:32:27.807Z"
   },
   {
    "duration": 14,
    "start_time": "2021-12-29T15:32:27.858Z"
   },
   {
    "duration": 15,
    "start_time": "2021-12-29T15:32:27.874Z"
   },
   {
    "duration": 7,
    "start_time": "2021-12-29T15:32:27.891Z"
   },
   {
    "duration": 10,
    "start_time": "2021-12-29T15:32:27.899Z"
   },
   {
    "duration": 35,
    "start_time": "2021-12-29T15:32:27.911Z"
   },
   {
    "duration": 499,
    "start_time": "2021-12-29T15:32:27.948Z"
   },
   {
    "duration": 6,
    "start_time": "2021-12-29T15:32:28.449Z"
   },
   {
    "duration": 426,
    "start_time": "2021-12-29T15:32:28.457Z"
   },
   {
    "duration": 22,
    "start_time": "2021-12-29T15:32:28.885Z"
   },
   {
    "duration": 466,
    "start_time": "2021-12-29T15:32:28.909Z"
   },
   {
    "duration": 12,
    "start_time": "2021-12-29T15:32:29.377Z"
   },
   {
    "duration": 700,
    "start_time": "2021-12-29T15:32:29.391Z"
   },
   {
    "duration": 16,
    "start_time": "2021-12-29T15:32:30.093Z"
   },
   {
    "duration": 31,
    "start_time": "2021-12-29T15:32:30.111Z"
   },
   {
    "duration": 307,
    "start_time": "2021-12-29T15:32:30.144Z"
   },
   {
    "duration": 423,
    "start_time": "2021-12-29T15:32:30.452Z"
   },
   {
    "duration": 10,
    "start_time": "2021-12-29T15:32:30.878Z"
   },
   {
    "duration": 126,
    "start_time": "2021-12-29T15:32:30.890Z"
   },
   {
    "duration": 8,
    "start_time": "2021-12-29T15:34:57.602Z"
   },
   {
    "duration": 11,
    "start_time": "2021-12-29T15:39:30.161Z"
   },
   {
    "duration": 290,
    "start_time": "2021-12-29T15:41:57.302Z"
   },
   {
    "duration": 264,
    "start_time": "2021-12-29T15:42:37.365Z"
   },
   {
    "duration": 305,
    "start_time": "2021-12-29T15:43:18.957Z"
   },
   {
    "duration": 340,
    "start_time": "2021-12-29T15:43:43.573Z"
   },
   {
    "duration": 242,
    "start_time": "2021-12-29T15:45:05.885Z"
   },
   {
    "duration": 308,
    "start_time": "2021-12-29T15:46:21.147Z"
   },
   {
    "duration": 276,
    "start_time": "2021-12-29T15:47:09.868Z"
   },
   {
    "duration": 297,
    "start_time": "2021-12-29T15:48:08.900Z"
   },
   {
    "duration": 314,
    "start_time": "2021-12-29T15:48:20.555Z"
   },
   {
    "duration": 319,
    "start_time": "2021-12-29T15:49:13.411Z"
   },
   {
    "duration": 298,
    "start_time": "2021-12-29T15:49:36.035Z"
   },
   {
    "duration": 386,
    "start_time": "2021-12-29T15:50:24.538Z"
   },
   {
    "duration": 266,
    "start_time": "2021-12-29T15:51:13.561Z"
   },
   {
    "duration": 343,
    "start_time": "2021-12-29T15:52:06.369Z"
   },
   {
    "duration": 326,
    "start_time": "2021-12-29T15:52:20.914Z"
   },
   {
    "duration": 293,
    "start_time": "2021-12-29T15:52:27.723Z"
   },
   {
    "duration": 302,
    "start_time": "2021-12-29T15:54:44.539Z"
   },
   {
    "duration": 290,
    "start_time": "2021-12-29T15:55:06.802Z"
   },
   {
    "duration": 272,
    "start_time": "2021-12-29T15:55:47.089Z"
   },
   {
    "duration": 340,
    "start_time": "2021-12-29T16:02:27.743Z"
   },
   {
    "duration": 323,
    "start_time": "2021-12-29T16:02:44.720Z"
   },
   {
    "duration": 16,
    "start_time": "2021-12-29T16:05:39.398Z"
   },
   {
    "duration": 16,
    "start_time": "2021-12-29T16:07:31.174Z"
   },
   {
    "duration": 412,
    "start_time": "2021-12-29T16:11:52.837Z"
   },
   {
    "duration": 331,
    "start_time": "2021-12-29T16:12:18.669Z"
   },
   {
    "duration": 260,
    "start_time": "2021-12-29T16:13:09.630Z"
   },
   {
    "duration": 13,
    "start_time": "2021-12-29T16:15:39.155Z"
   },
   {
    "duration": 226,
    "start_time": "2021-12-30T07:17:11.912Z"
   },
   {
    "duration": 1050,
    "start_time": "2021-12-30T07:17:13.895Z"
   },
   {
    "duration": 38,
    "start_time": "2021-12-30T07:17:14.947Z"
   },
   {
    "duration": 12,
    "start_time": "2021-12-30T07:17:14.987Z"
   },
   {
    "duration": 46,
    "start_time": "2021-12-30T07:17:15.001Z"
   },
   {
    "duration": 19,
    "start_time": "2021-12-30T07:17:15.049Z"
   },
   {
    "duration": 31,
    "start_time": "2021-12-30T07:17:15.070Z"
   },
   {
    "duration": 22,
    "start_time": "2021-12-30T07:17:15.103Z"
   },
   {
    "duration": 18,
    "start_time": "2021-12-30T07:17:15.127Z"
   },
   {
    "duration": 28,
    "start_time": "2021-12-30T07:17:15.147Z"
   },
   {
    "duration": 385,
    "start_time": "2021-12-30T07:17:15.176Z"
   },
   {
    "duration": 29,
    "start_time": "2021-12-30T07:17:15.562Z"
   },
   {
    "duration": 349,
    "start_time": "2021-12-30T07:17:15.593Z"
   },
   {
    "duration": 217,
    "start_time": "2021-12-30T07:17:15.944Z"
   },
   {
    "duration": 265,
    "start_time": "2021-12-30T07:17:16.162Z"
   },
   {
    "duration": 8,
    "start_time": "2021-12-30T07:17:16.428Z"
   },
   {
    "duration": 296,
    "start_time": "2021-12-30T07:17:16.437Z"
   },
   {
    "duration": 9,
    "start_time": "2021-12-30T07:17:16.735Z"
   },
   {
    "duration": 111,
    "start_time": "2021-12-30T07:17:16.746Z"
   },
   {
    "duration": 528,
    "start_time": "2021-12-30T07:30:27.037Z"
   },
   {
    "duration": 5101,
    "start_time": "2021-12-30T07:30:47.043Z"
   },
   {
    "duration": 5121,
    "start_time": "2021-12-30T07:32:04.020Z"
   },
   {
    "duration": 560,
    "start_time": "2021-12-30T07:34:53.965Z"
   },
   {
    "duration": 818,
    "start_time": "2021-12-30T07:35:03.083Z"
   },
   {
    "duration": 387,
    "start_time": "2021-12-30T07:40:01.523Z"
   },
   {
    "duration": 386,
    "start_time": "2021-12-30T07:40:09.524Z"
   },
   {
    "duration": 393,
    "start_time": "2021-12-30T08:06:28.437Z"
   },
   {
    "duration": 392,
    "start_time": "2021-12-30T08:08:10.360Z"
   },
   {
    "duration": 392,
    "start_time": "2021-12-30T08:08:34.703Z"
   },
   {
    "duration": 1053,
    "start_time": "2021-12-30T08:08:49.038Z"
   },
   {
    "duration": 38,
    "start_time": "2021-12-30T08:08:50.093Z"
   },
   {
    "duration": 16,
    "start_time": "2021-12-30T08:08:50.134Z"
   },
   {
    "duration": 40,
    "start_time": "2021-12-30T08:08:50.152Z"
   },
   {
    "duration": 36,
    "start_time": "2021-12-30T08:08:50.193Z"
   },
   {
    "duration": 36,
    "start_time": "2021-12-30T08:08:50.231Z"
   },
   {
    "duration": 33,
    "start_time": "2021-12-30T08:08:50.268Z"
   },
   {
    "duration": 22,
    "start_time": "2021-12-30T08:08:50.304Z"
   },
   {
    "duration": 39,
    "start_time": "2021-12-30T08:08:50.328Z"
   },
   {
    "duration": 399,
    "start_time": "2021-12-30T08:08:50.369Z"
   },
   {
    "duration": 32,
    "start_time": "2021-12-30T08:08:50.770Z"
   },
   {
    "duration": 352,
    "start_time": "2021-12-30T08:08:50.804Z"
   },
   {
    "duration": 221,
    "start_time": "2021-12-30T08:08:51.157Z"
   },
   {
    "duration": 269,
    "start_time": "2021-12-30T08:08:51.380Z"
   },
   {
    "duration": 8,
    "start_time": "2021-12-30T08:08:51.651Z"
   },
   {
    "duration": 599,
    "start_time": "2021-12-30T08:08:51.660Z"
   },
   {
    "duration": -199,
    "start_time": "2021-12-30T08:08:52.460Z"
   },
   {
    "duration": -202,
    "start_time": "2021-12-30T08:08:52.464Z"
   },
   {
    "duration": 397,
    "start_time": "2021-12-30T08:09:25.551Z"
   },
   {
    "duration": 405,
    "start_time": "2021-12-30T08:10:59.668Z"
   },
   {
    "duration": 435,
    "start_time": "2021-12-30T08:12:47.988Z"
   },
   {
    "duration": 716,
    "start_time": "2021-12-30T08:13:03.288Z"
   },
   {
    "duration": 437,
    "start_time": "2021-12-30T08:15:48.487Z"
   },
   {
    "duration": 1205,
    "start_time": "2021-12-30T08:24:46.653Z"
   },
   {
    "duration": 10,
    "start_time": "2021-12-30T08:25:06.851Z"
   },
   {
    "duration": 9,
    "start_time": "2021-12-30T08:25:39.453Z"
   },
   {
    "duration": 185,
    "start_time": "2021-12-30T08:33:47.340Z"
   },
   {
    "duration": 111,
    "start_time": "2021-12-30T08:34:31.666Z"
   },
   {
    "duration": 125,
    "start_time": "2021-12-30T08:39:54.480Z"
   },
   {
    "duration": 137,
    "start_time": "2021-12-30T08:41:23.984Z"
   },
   {
    "duration": 6339,
    "start_time": "2021-12-30T08:44:46.821Z"
   },
   {
    "duration": 371,
    "start_time": "2021-12-30T08:47:02.607Z"
   },
   {
    "duration": 388,
    "start_time": "2021-12-30T08:47:27.926Z"
   },
   {
    "duration": 6,
    "start_time": "2021-12-30T08:51:51.880Z"
   },
   {
    "duration": 6,
    "start_time": "2021-12-30T09:08:24.684Z"
   },
   {
    "duration": 7,
    "start_time": "2021-12-30T09:08:45.094Z"
   },
   {
    "duration": 211,
    "start_time": "2021-12-30T09:11:47.845Z"
   },
   {
    "duration": 326,
    "start_time": "2021-12-30T09:11:59.228Z"
   },
   {
    "duration": 251,
    "start_time": "2021-12-30T09:13:30.748Z"
   },
   {
    "duration": 261,
    "start_time": "2021-12-30T09:15:04.483Z"
   },
   {
    "duration": 415,
    "start_time": "2021-12-30T10:08:07.005Z"
   },
   {
    "duration": 405,
    "start_time": "2021-12-30T10:08:48.779Z"
   },
   {
    "duration": 1323,
    "start_time": "2021-12-30T10:09:29.793Z"
   },
   {
    "duration": 389,
    "start_time": "2021-12-30T10:10:26.536Z"
   },
   {
    "duration": 197,
    "start_time": "2021-12-30T12:16:39.252Z"
   },
   {
    "duration": 191,
    "start_time": "2021-12-30T12:17:09.493Z"
   },
   {
    "duration": 515,
    "start_time": "2021-12-30T12:17:45.315Z"
   },
   {
    "duration": 218,
    "start_time": "2021-12-30T12:19:04.305Z"
   },
   {
    "duration": 211,
    "start_time": "2021-12-30T12:19:59.282Z"
   },
   {
    "duration": 386,
    "start_time": "2021-12-30T12:20:17.746Z"
   },
   {
    "duration": 324,
    "start_time": "2021-12-30T12:21:03.754Z"
   },
   {
    "duration": 850,
    "start_time": "2021-12-30T12:21:13.337Z"
   },
   {
    "duration": 807,
    "start_time": "2021-12-30T12:21:39.297Z"
   },
   {
    "duration": 456,
    "start_time": "2021-12-30T12:22:56.618Z"
   },
   {
    "duration": 910,
    "start_time": "2021-12-30T12:30:17.221Z"
   },
   {
    "duration": 817,
    "start_time": "2021-12-30T12:30:27.087Z"
   },
   {
    "duration": 523,
    "start_time": "2021-12-30T12:30:38.407Z"
   },
   {
    "duration": 454,
    "start_time": "2021-12-30T12:33:40.199Z"
   },
   {
    "duration": 393,
    "start_time": "2021-12-30T12:35:41.484Z"
   },
   {
    "duration": 429,
    "start_time": "2021-12-30T12:35:47.547Z"
   },
   {
    "duration": 439,
    "start_time": "2021-12-30T12:35:53.428Z"
   },
   {
    "duration": 465,
    "start_time": "2021-12-30T12:37:38.085Z"
   },
   {
    "duration": 623,
    "start_time": "2021-12-30T12:38:06.171Z"
   },
   {
    "duration": 211,
    "start_time": "2021-12-30T12:38:53.172Z"
   },
   {
    "duration": 145,
    "start_time": "2021-12-30T12:39:04.963Z"
   },
   {
    "duration": 123,
    "start_time": "2021-12-30T12:39:36.245Z"
   },
   {
    "duration": 343,
    "start_time": "2021-12-30T12:40:30.091Z"
   },
   {
    "duration": 416,
    "start_time": "2021-12-30T12:41:12.477Z"
   },
   {
    "duration": 334,
    "start_time": "2021-12-30T12:42:41.756Z"
   },
   {
    "duration": 345,
    "start_time": "2021-12-30T12:42:56.466Z"
   },
   {
    "duration": 342,
    "start_time": "2021-12-30T12:45:32.650Z"
   },
   {
    "duration": 186,
    "start_time": "2021-12-30T12:45:49.777Z"
   },
   {
    "duration": 443,
    "start_time": "2021-12-30T12:45:59.964Z"
   },
   {
    "duration": 369,
    "start_time": "2021-12-30T12:46:39.793Z"
   },
   {
    "duration": 1027,
    "start_time": "2021-12-30T12:47:05.020Z"
   },
   {
    "duration": 36,
    "start_time": "2021-12-30T12:47:06.049Z"
   },
   {
    "duration": 13,
    "start_time": "2021-12-30T12:47:06.087Z"
   },
   {
    "duration": 11,
    "start_time": "2021-12-30T12:47:06.102Z"
   },
   {
    "duration": 3,
    "start_time": "2021-12-30T12:47:06.115Z"
   },
   {
    "duration": 10,
    "start_time": "2021-12-30T12:47:06.120Z"
   },
   {
    "duration": 8,
    "start_time": "2021-12-30T12:47:06.132Z"
   },
   {
    "duration": 5,
    "start_time": "2021-12-30T12:47:06.142Z"
   },
   {
    "duration": 43,
    "start_time": "2021-12-30T12:47:06.150Z"
   },
   {
    "duration": 397,
    "start_time": "2021-12-30T12:47:06.195Z"
   },
   {
    "duration": 17,
    "start_time": "2021-12-30T12:47:06.594Z"
   },
   {
    "duration": 356,
    "start_time": "2021-12-30T12:47:06.613Z"
   },
   {
    "duration": 215,
    "start_time": "2021-12-30T12:47:06.971Z"
   },
   {
    "duration": 259,
    "start_time": "2021-12-30T12:47:07.191Z"
   },
   {
    "duration": 8,
    "start_time": "2021-12-30T12:47:07.452Z"
   },
   {
    "duration": 1469,
    "start_time": "2021-12-30T12:47:07.461Z"
   },
   {
    "duration": 12,
    "start_time": "2021-12-30T12:47:08.932Z"
   },
   {
    "duration": 126,
    "start_time": "2021-12-30T12:47:08.946Z"
   },
   {
    "duration": 270,
    "start_time": "2021-12-30T12:47:09.074Z"
   },
   {
    "duration": -283,
    "start_time": "2021-12-30T12:47:09.629Z"
   },
   {
    "duration": -286,
    "start_time": "2021-12-30T12:47:09.633Z"
   },
   {
    "duration": -288,
    "start_time": "2021-12-30T12:47:09.636Z"
   },
   {
    "duration": -288,
    "start_time": "2021-12-30T12:47:09.637Z"
   },
   {
    "duration": -288,
    "start_time": "2021-12-30T12:47:09.638Z"
   },
   {
    "duration": 1048,
    "start_time": "2021-12-30T12:47:49.807Z"
   },
   {
    "duration": 37,
    "start_time": "2021-12-30T12:47:50.857Z"
   },
   {
    "duration": 13,
    "start_time": "2021-12-30T12:47:50.896Z"
   },
   {
    "duration": 10,
    "start_time": "2021-12-30T12:47:50.911Z"
   },
   {
    "duration": 3,
    "start_time": "2021-12-30T12:47:50.923Z"
   },
   {
    "duration": 11,
    "start_time": "2021-12-30T12:47:50.927Z"
   },
   {
    "duration": 12,
    "start_time": "2021-12-30T12:47:50.940Z"
   },
   {
    "duration": 6,
    "start_time": "2021-12-30T12:47:50.954Z"
   },
   {
    "duration": 40,
    "start_time": "2021-12-30T12:47:50.963Z"
   },
   {
    "duration": 411,
    "start_time": "2021-12-30T12:47:51.006Z"
   },
   {
    "duration": 19,
    "start_time": "2021-12-30T12:47:51.419Z"
   },
   {
    "duration": 360,
    "start_time": "2021-12-30T12:47:51.439Z"
   },
   {
    "duration": 218,
    "start_time": "2021-12-30T12:47:51.801Z"
   },
   {
    "duration": 272,
    "start_time": "2021-12-30T12:47:52.021Z"
   },
   {
    "duration": 8,
    "start_time": "2021-12-30T12:47:52.296Z"
   },
   {
    "duration": 1325,
    "start_time": "2021-12-30T12:47:52.305Z"
   },
   {
    "duration": 10,
    "start_time": "2021-12-30T12:47:53.632Z"
   },
   {
    "duration": 115,
    "start_time": "2021-12-30T12:47:53.644Z"
   },
   {
    "duration": 2,
    "start_time": "2021-12-30T12:47:53.760Z"
   },
   {
    "duration": 488,
    "start_time": "2021-12-30T12:47:53.764Z"
   },
   {
    "duration": 5,
    "start_time": "2021-12-30T12:47:54.254Z"
   },
   {
    "duration": 7,
    "start_time": "2021-12-30T12:47:54.260Z"
   },
   {
    "duration": 26,
    "start_time": "2021-12-30T12:47:54.269Z"
   },
   {
    "duration": 279,
    "start_time": "2021-12-30T12:47:54.296Z"
   },
   {
    "duration": 389,
    "start_time": "2021-12-30T12:53:32.435Z"
   },
   {
    "duration": 323,
    "start_time": "2021-12-30T12:53:51.795Z"
   },
   {
    "duration": 241,
    "start_time": "2021-12-30T12:57:08.313Z"
   },
   {
    "duration": 388,
    "start_time": "2021-12-30T12:57:25.745Z"
   },
   {
    "duration": 234,
    "start_time": "2021-12-30T13:07:15.397Z"
   },
   {
    "duration": 296,
    "start_time": "2021-12-30T13:07:25.092Z"
   },
   {
    "duration": 12,
    "start_time": "2021-12-30T13:13:08.148Z"
   },
   {
    "duration": 205,
    "start_time": "2021-12-30T13:18:12.609Z"
   },
   {
    "duration": 429,
    "start_time": "2021-12-30T13:18:43.721Z"
   },
   {
    "duration": 217,
    "start_time": "2021-12-30T13:19:57.160Z"
   },
   {
    "duration": 360,
    "start_time": "2021-12-30T13:20:34.951Z"
   },
   {
    "duration": 347,
    "start_time": "2021-12-30T13:20:59.073Z"
   },
   {
    "duration": 393,
    "start_time": "2021-12-30T13:21:28.184Z"
   },
   {
    "duration": 1493,
    "start_time": "2021-12-30T13:23:21.918Z"
   },
   {
    "duration": 1390,
    "start_time": "2021-12-30T13:24:17.034Z"
   },
   {
    "duration": 388,
    "start_time": "2021-12-30T13:27:59.942Z"
   },
   {
    "duration": 1632,
    "start_time": "2021-12-30T13:37:09.085Z"
   },
   {
    "duration": 1834,
    "start_time": "2021-12-30T13:37:53.149Z"
   },
   {
    "duration": 1235,
    "start_time": "2021-12-30T13:38:11.194Z"
   },
   {
    "duration": 335,
    "start_time": "2021-12-30T15:49:52.714Z"
   },
   {
    "duration": 1359,
    "start_time": "2021-12-30T15:50:12.808Z"
   },
   {
    "duration": 49,
    "start_time": "2021-12-30T15:50:14.169Z"
   },
   {
    "duration": 20,
    "start_time": "2021-12-30T15:50:14.222Z"
   },
   {
    "duration": 31,
    "start_time": "2021-12-30T15:50:14.245Z"
   },
   {
    "duration": 4,
    "start_time": "2021-12-30T15:50:14.278Z"
   },
   {
    "duration": 14,
    "start_time": "2021-12-30T15:50:14.285Z"
   },
   {
    "duration": 12,
    "start_time": "2021-12-30T15:50:14.302Z"
   },
   {
    "duration": 9,
    "start_time": "2021-12-30T15:50:14.317Z"
   },
   {
    "duration": 713,
    "start_time": "2021-12-30T15:50:14.330Z"
   },
   {
    "duration": 617,
    "start_time": "2021-12-30T15:50:15.046Z"
   },
   {
    "duration": 25,
    "start_time": "2021-12-30T15:50:15.668Z"
   },
   {
    "duration": 556,
    "start_time": "2021-12-30T15:50:15.696Z"
   },
   {
    "duration": 371,
    "start_time": "2021-12-30T15:50:16.255Z"
   },
   {
    "duration": 1815,
    "start_time": "2021-12-30T15:50:16.629Z"
   },
   {
    "duration": 27,
    "start_time": "2021-12-30T15:50:18.447Z"
   },
   {
    "duration": 174,
    "start_time": "2021-12-30T15:50:18.477Z"
   },
   {
    "duration": 817,
    "start_time": "2021-12-30T15:50:18.653Z"
   },
   {
    "duration": -566,
    "start_time": "2021-12-30T15:50:20.038Z"
   },
   {
    "duration": -569,
    "start_time": "2021-12-30T15:50:20.043Z"
   },
   {
    "duration": -571,
    "start_time": "2021-12-30T15:50:20.046Z"
   },
   {
    "duration": 610,
    "start_time": "2021-12-30T15:51:07.507Z"
   },
   {
    "duration": 718,
    "start_time": "2021-12-30T15:52:01.252Z"
   },
   {
    "duration": 619,
    "start_time": "2021-12-30T15:53:18.448Z"
   },
   {
    "duration": 605,
    "start_time": "2021-12-30T15:53:50.844Z"
   },
   {
    "duration": 711,
    "start_time": "2021-12-30T16:00:03.266Z"
   },
   {
    "duration": 108,
    "start_time": "2021-12-30T16:00:29.661Z"
   },
   {
    "duration": 609,
    "start_time": "2021-12-30T16:00:38.908Z"
   },
   {
    "duration": 1428,
    "start_time": "2022-01-01T08:34:00.033Z"
   },
   {
    "duration": 47,
    "start_time": "2022-01-01T08:34:01.464Z"
   },
   {
    "duration": 22,
    "start_time": "2022-01-01T08:34:01.519Z"
   },
   {
    "duration": 14,
    "start_time": "2022-01-01T08:34:01.568Z"
   },
   {
    "duration": 14,
    "start_time": "2022-01-01T08:34:01.585Z"
   },
   {
    "duration": 34,
    "start_time": "2022-01-01T08:34:01.601Z"
   },
   {
    "duration": 22,
    "start_time": "2022-01-01T08:34:01.639Z"
   },
   {
    "duration": 33,
    "start_time": "2022-01-01T08:34:01.663Z"
   },
   {
    "duration": 673,
    "start_time": "2022-01-01T08:34:01.698Z"
   },
   {
    "duration": 690,
    "start_time": "2022-01-01T08:34:02.373Z"
   },
   {
    "duration": 24,
    "start_time": "2022-01-01T08:34:03.068Z"
   },
   {
    "duration": 541,
    "start_time": "2022-01-01T08:34:03.094Z"
   },
   {
    "duration": 336,
    "start_time": "2022-01-01T08:34:03.638Z"
   },
   {
    "duration": 1738,
    "start_time": "2022-01-01T08:34:03.976Z"
   },
   {
    "duration": 14,
    "start_time": "2022-01-01T08:34:05.716Z"
   },
   {
    "duration": 176,
    "start_time": "2022-01-01T08:34:05.732Z"
   },
   {
    "duration": 581,
    "start_time": "2022-01-01T08:34:05.911Z"
   },
   {
    "duration": 600,
    "start_time": "2022-01-01T08:34:06.494Z"
   },
   {
    "duration": 6,
    "start_time": "2022-01-01T08:34:07.096Z"
   },
   {
    "duration": 414,
    "start_time": "2022-01-01T08:34:07.106Z"
   },
   {
    "duration": 406,
    "start_time": "2022-01-01T08:40:34.442Z"
   },
   {
    "duration": 278,
    "start_time": "2022-01-01T08:41:31.890Z"
   },
   {
    "duration": 11,
    "start_time": "2022-01-01T08:42:58.248Z"
   },
   {
    "duration": 10,
    "start_time": "2022-01-01T08:43:16.319Z"
   },
   {
    "duration": 14,
    "start_time": "2022-01-01T08:44:17.824Z"
   },
   {
    "duration": 7890,
    "start_time": "2022-01-01T08:48:55.186Z"
   },
   {
    "duration": -1445,
    "start_time": "2022-01-01T08:49:31.098Z"
   },
   {
    "duration": 6,
    "start_time": "2022-01-01T08:49:36.183Z"
   },
   {
    "duration": 1368,
    "start_time": "2022-01-01T08:49:50.005Z"
   },
   {
    "duration": 51,
    "start_time": "2022-01-01T08:49:51.376Z"
   },
   {
    "duration": 38,
    "start_time": "2022-01-01T08:49:51.431Z"
   },
   {
    "duration": 17,
    "start_time": "2022-01-01T08:49:51.472Z"
   },
   {
    "duration": 4,
    "start_time": "2022-01-01T08:49:51.492Z"
   },
   {
    "duration": 19,
    "start_time": "2022-01-01T08:49:51.499Z"
   },
   {
    "duration": 16,
    "start_time": "2022-01-01T08:49:51.520Z"
   },
   {
    "duration": 16,
    "start_time": "2022-01-01T08:49:51.539Z"
   },
   {
    "duration": 8,
    "start_time": "2022-01-01T08:49:51.568Z"
   },
   {
    "duration": 665,
    "start_time": "2022-01-01T08:49:51.579Z"
   },
   {
    "duration": 728,
    "start_time": "2022-01-01T08:49:52.246Z"
   },
   {
    "duration": 27,
    "start_time": "2022-01-01T08:49:52.976Z"
   },
   {
    "duration": 668,
    "start_time": "2022-01-01T08:49:53.005Z"
   },
   {
    "duration": 349,
    "start_time": "2022-01-01T08:49:53.676Z"
   },
   {
    "duration": 415,
    "start_time": "2022-01-01T08:49:54.028Z"
   },
   {
    "duration": -1459,
    "start_time": "2022-01-01T08:49:55.904Z"
   },
   {
    "duration": -1458,
    "start_time": "2022-01-01T08:49:55.905Z"
   },
   {
    "duration": -1459,
    "start_time": "2022-01-01T08:49:55.907Z"
   },
   {
    "duration": -1459,
    "start_time": "2022-01-01T08:49:55.908Z"
   },
   {
    "duration": -1461,
    "start_time": "2022-01-01T08:49:55.911Z"
   },
   {
    "duration": -1462,
    "start_time": "2022-01-01T08:49:55.914Z"
   },
   {
    "duration": 8,
    "start_time": "2022-01-01T08:51:01.552Z"
   },
   {
    "duration": 276,
    "start_time": "2022-01-01T08:51:56.297Z"
   },
   {
    "duration": 9,
    "start_time": "2022-01-01T08:52:03.481Z"
   },
   {
    "duration": 8,
    "start_time": "2022-01-01T08:52:14.631Z"
   },
   {
    "duration": 9,
    "start_time": "2022-01-01T08:52:24.336Z"
   },
   {
    "duration": 9,
    "start_time": "2022-01-01T08:52:33.368Z"
   },
   {
    "duration": 14,
    "start_time": "2022-01-01T08:55:30.528Z"
   },
   {
    "duration": 14,
    "start_time": "2022-01-01T08:55:52.705Z"
   },
   {
    "duration": 1420,
    "start_time": "2022-01-01T08:56:20.179Z"
   },
   {
    "duration": 50,
    "start_time": "2022-01-01T08:56:21.602Z"
   },
   {
    "duration": 25,
    "start_time": "2022-01-01T08:56:21.655Z"
   },
   {
    "duration": 20,
    "start_time": "2022-01-01T08:56:21.683Z"
   },
   {
    "duration": 8,
    "start_time": "2022-01-01T08:56:21.706Z"
   },
   {
    "duration": 51,
    "start_time": "2022-01-01T08:56:21.718Z"
   },
   {
    "duration": 10,
    "start_time": "2022-01-01T08:56:21.772Z"
   },
   {
    "duration": 19,
    "start_time": "2022-01-01T08:56:21.785Z"
   },
   {
    "duration": 15,
    "start_time": "2022-01-01T08:56:21.809Z"
   },
   {
    "duration": 47,
    "start_time": "2022-01-01T08:56:21.828Z"
   },
   {
    "duration": 22,
    "start_time": "2022-01-01T08:56:21.878Z"
   },
   {
    "duration": 968,
    "start_time": "2022-01-01T08:56:21.903Z"
   },
   {
    "duration": 876,
    "start_time": "2022-01-01T08:56:22.874Z"
   },
   {
    "duration": 39,
    "start_time": "2022-01-01T08:56:23.753Z"
   },
   {
    "duration": 562,
    "start_time": "2022-01-01T08:56:23.795Z"
   },
   {
    "duration": 362,
    "start_time": "2022-01-01T08:56:24.368Z"
   },
   {
    "duration": 389,
    "start_time": "2022-01-01T08:56:24.733Z"
   },
   {
    "duration": -1425,
    "start_time": "2022-01-01T08:56:26.550Z"
   },
   {
    "duration": -1426,
    "start_time": "2022-01-01T08:56:26.552Z"
   },
   {
    "duration": -1429,
    "start_time": "2022-01-01T08:56:26.557Z"
   },
   {
    "duration": -1429,
    "start_time": "2022-01-01T08:56:26.558Z"
   },
   {
    "duration": -1430,
    "start_time": "2022-01-01T08:56:26.560Z"
   },
   {
    "duration": -1429,
    "start_time": "2022-01-01T08:56:26.561Z"
   },
   {
    "duration": 1504,
    "start_time": "2022-01-01T08:56:55.363Z"
   },
   {
    "duration": 49,
    "start_time": "2022-01-01T08:56:56.869Z"
   },
   {
    "duration": 21,
    "start_time": "2022-01-01T08:56:56.921Z"
   },
   {
    "duration": 30,
    "start_time": "2022-01-01T08:56:56.944Z"
   },
   {
    "duration": 4,
    "start_time": "2022-01-01T08:56:56.977Z"
   },
   {
    "duration": 13,
    "start_time": "2022-01-01T08:56:56.984Z"
   },
   {
    "duration": 8,
    "start_time": "2022-01-01T08:56:57.000Z"
   },
   {
    "duration": 14,
    "start_time": "2022-01-01T08:56:57.010Z"
   },
   {
    "duration": 11,
    "start_time": "2022-01-01T08:56:57.069Z"
   },
   {
    "duration": 9,
    "start_time": "2022-01-01T08:56:57.084Z"
   },
   {
    "duration": 17,
    "start_time": "2022-01-01T08:56:57.096Z"
   },
   {
    "duration": 902,
    "start_time": "2022-01-01T08:56:57.117Z"
   },
   {
    "duration": 897,
    "start_time": "2022-01-01T08:56:58.022Z"
   },
   {
    "duration": 49,
    "start_time": "2022-01-01T08:56:58.923Z"
   },
   {
    "duration": 796,
    "start_time": "2022-01-01T08:56:58.975Z"
   },
   {
    "duration": 468,
    "start_time": "2022-01-01T08:56:59.774Z"
   },
   {
    "duration": 582,
    "start_time": "2022-01-01T08:57:00.245Z"
   },
   {
    "duration": -1451,
    "start_time": "2022-01-01T08:57:02.282Z"
   },
   {
    "duration": -1450,
    "start_time": "2022-01-01T08:57:02.283Z"
   },
   {
    "duration": -1449,
    "start_time": "2022-01-01T08:57:02.284Z"
   },
   {
    "duration": -1447,
    "start_time": "2022-01-01T08:57:02.285Z"
   },
   {
    "duration": -1446,
    "start_time": "2022-01-01T08:57:02.286Z"
   },
   {
    "duration": -1446,
    "start_time": "2022-01-01T08:57:02.288Z"
   },
   {
    "duration": 1053,
    "start_time": "2022-01-01T08:57:47.694Z"
   },
   {
    "duration": 14,
    "start_time": "2022-01-01T08:57:57.799Z"
   },
   {
    "duration": 1396,
    "start_time": "2022-01-01T08:58:05.182Z"
   },
   {
    "duration": 51,
    "start_time": "2022-01-01T08:58:06.581Z"
   },
   {
    "duration": 33,
    "start_time": "2022-01-01T08:58:06.636Z"
   },
   {
    "duration": 22,
    "start_time": "2022-01-01T08:58:06.673Z"
   },
   {
    "duration": 5,
    "start_time": "2022-01-01T08:58:06.697Z"
   },
   {
    "duration": 23,
    "start_time": "2022-01-01T08:58:06.704Z"
   },
   {
    "duration": 40,
    "start_time": "2022-01-01T08:58:06.729Z"
   },
   {
    "duration": 15,
    "start_time": "2022-01-01T08:58:06.771Z"
   },
   {
    "duration": 11,
    "start_time": "2022-01-01T08:58:06.791Z"
   },
   {
    "duration": 10,
    "start_time": "2022-01-01T08:58:06.805Z"
   },
   {
    "duration": 63,
    "start_time": "2022-01-01T08:58:06.817Z"
   },
   {
    "duration": 691,
    "start_time": "2022-01-01T08:58:06.883Z"
   },
   {
    "duration": 615,
    "start_time": "2022-01-01T08:58:07.576Z"
   },
   {
    "duration": 25,
    "start_time": "2022-01-01T08:58:08.193Z"
   },
   {
    "duration": 589,
    "start_time": "2022-01-01T08:58:08.221Z"
   },
   {
    "duration": 388,
    "start_time": "2022-01-01T08:58:08.813Z"
   },
   {
    "duration": 1794,
    "start_time": "2022-01-01T08:58:09.203Z"
   },
   {
    "duration": 13,
    "start_time": "2022-01-01T08:58:11.000Z"
   },
   {
    "duration": 181,
    "start_time": "2022-01-01T08:58:11.016Z"
   },
   {
    "duration": 614,
    "start_time": "2022-01-01T08:58:11.200Z"
   },
   {
    "duration": 938,
    "start_time": "2022-01-01T08:58:11.818Z"
   },
   {
    "duration": 15,
    "start_time": "2022-01-01T08:58:12.759Z"
   },
   {
    "duration": 653,
    "start_time": "2022-01-01T08:58:12.777Z"
   },
   {
    "duration": 649,
    "start_time": "2022-01-01T09:23:40.643Z"
   },
   {
    "duration": 92,
    "start_time": "2022-01-01T09:24:26.514Z"
   },
   {
    "duration": 604,
    "start_time": "2022-01-01T09:24:49.898Z"
   },
   {
    "duration": 99,
    "start_time": "2022-01-01T09:28:30.113Z"
   },
   {
    "duration": 98,
    "start_time": "2022-01-01T09:30:34.272Z"
   },
   {
    "duration": 97,
    "start_time": "2022-01-01T09:30:54.752Z"
   },
   {
    "duration": 30,
    "start_time": "2022-01-01T09:31:07.349Z"
   },
   {
    "duration": 89,
    "start_time": "2022-01-01T09:31:33.792Z"
   },
   {
    "duration": 88,
    "start_time": "2022-01-01T09:31:46.687Z"
   },
   {
    "duration": 98,
    "start_time": "2022-01-01T09:31:50.769Z"
   },
   {
    "duration": 25,
    "start_time": "2022-01-01T09:32:11.856Z"
   },
   {
    "duration": 28,
    "start_time": "2022-01-01T09:32:19.174Z"
   },
   {
    "duration": 121,
    "start_time": "2022-01-01T09:32:27.047Z"
   },
   {
    "duration": 26,
    "start_time": "2022-01-01T09:36:51.133Z"
   },
   {
    "duration": 358,
    "start_time": "2022-01-01T09:56:27.146Z"
   },
   {
    "duration": 113,
    "start_time": "2022-01-01T10:03:16.520Z"
   },
   {
    "duration": 86,
    "start_time": "2022-01-01T10:03:32.111Z"
   },
   {
    "duration": 339,
    "start_time": "2022-01-01T10:04:04.351Z"
   },
   {
    "duration": 335,
    "start_time": "2022-01-01T10:04:34.949Z"
   },
   {
    "duration": 11,
    "start_time": "2022-01-01T10:07:43.366Z"
   },
   {
    "duration": 1665,
    "start_time": "2022-01-01T10:16:47.949Z"
   },
   {
    "duration": 1719,
    "start_time": "2022-01-01T10:17:36.963Z"
   },
   {
    "duration": 2210,
    "start_time": "2022-01-01T10:29:46.113Z"
   },
   {
    "duration": 2110,
    "start_time": "2022-01-01T10:30:34.800Z"
   },
   {
    "duration": 519,
    "start_time": "2022-01-01T10:31:37.208Z"
   },
   {
    "duration": 2002,
    "start_time": "2022-01-01T10:33:05.969Z"
   },
   {
    "duration": 3990,
    "start_time": "2022-01-01T10:37:02.915Z"
   },
   {
    "duration": 4109,
    "start_time": "2022-01-01T10:37:33.001Z"
   },
   {
    "duration": 4173,
    "start_time": "2022-01-01T10:37:46.937Z"
   },
   {
    "duration": 803,
    "start_time": "2022-01-01T10:41:41.623Z"
   },
   {
    "duration": 678,
    "start_time": "2022-01-01T10:42:23.630Z"
   },
   {
    "duration": 1347,
    "start_time": "2022-01-01T10:43:54.199Z"
   },
   {
    "duration": 51,
    "start_time": "2022-01-01T10:43:55.549Z"
   },
   {
    "duration": 21,
    "start_time": "2022-01-01T10:43:55.603Z"
   },
   {
    "duration": 15,
    "start_time": "2022-01-01T10:43:55.627Z"
   },
   {
    "duration": 24,
    "start_time": "2022-01-01T10:43:55.645Z"
   },
   {
    "duration": 17,
    "start_time": "2022-01-01T10:43:55.672Z"
   },
   {
    "duration": 8,
    "start_time": "2022-01-01T10:43:55.692Z"
   },
   {
    "duration": 15,
    "start_time": "2022-01-01T10:43:55.704Z"
   },
   {
    "duration": 52,
    "start_time": "2022-01-01T10:43:55.722Z"
   },
   {
    "duration": 17,
    "start_time": "2022-01-01T10:43:55.776Z"
   },
   {
    "duration": 19,
    "start_time": "2022-01-01T10:43:55.795Z"
   },
   {
    "duration": 670,
    "start_time": "2022-01-01T10:43:55.817Z"
   },
   {
    "duration": 609,
    "start_time": "2022-01-01T10:43:56.490Z"
   },
   {
    "duration": 33,
    "start_time": "2022-01-01T10:43:57.101Z"
   },
   {
    "duration": 549,
    "start_time": "2022-01-01T10:43:57.136Z"
   },
   {
    "duration": 81,
    "start_time": "2022-01-01T10:43:57.687Z"
   },
   {
    "duration": -1453,
    "start_time": "2022-01-01T10:43:59.224Z"
   },
   {
    "duration": -1456,
    "start_time": "2022-01-01T10:43:59.228Z"
   },
   {
    "duration": -1457,
    "start_time": "2022-01-01T10:43:59.230Z"
   },
   {
    "duration": -1456,
    "start_time": "2022-01-01T10:43:59.231Z"
   },
   {
    "duration": -1456,
    "start_time": "2022-01-01T10:43:59.232Z"
   },
   {
    "duration": -1462,
    "start_time": "2022-01-01T10:43:59.239Z"
   },
   {
    "duration": -1462,
    "start_time": "2022-01-01T10:43:59.241Z"
   },
   {
    "duration": 328,
    "start_time": "2022-01-01T10:44:46.401Z"
   },
   {
    "duration": 833,
    "start_time": "2022-01-01T10:44:59.713Z"
   },
   {
    "duration": 672,
    "start_time": "2022-01-01T10:46:04.665Z"
   },
   {
    "duration": 689,
    "start_time": "2022-01-01T10:46:55.993Z"
   },
   {
    "duration": 760,
    "start_time": "2022-01-01T10:47:56.952Z"
   },
   {
    "duration": 663,
    "start_time": "2022-01-01T10:48:10.377Z"
   },
   {
    "duration": 281,
    "start_time": "2022-01-01T10:52:22.506Z"
   },
   {
    "duration": 321,
    "start_time": "2022-01-01T10:53:08.464Z"
   },
   {
    "duration": 269,
    "start_time": "2022-01-01T10:53:38.720Z"
   },
   {
    "duration": 3694,
    "start_time": "2022-01-01T10:54:59.030Z"
   },
   {
    "duration": 3278,
    "start_time": "2022-01-01T10:55:20.175Z"
   },
   {
    "duration": 5129,
    "start_time": "2022-01-01T10:57:05.310Z"
   },
   {
    "duration": 663,
    "start_time": "2022-01-01T10:58:11.479Z"
   },
   {
    "duration": 675,
    "start_time": "2022-01-01T11:00:08.109Z"
   },
   {
    "duration": 653,
    "start_time": "2022-01-01T11:01:09.095Z"
   },
   {
    "duration": 672,
    "start_time": "2022-01-01T11:01:39.052Z"
   },
   {
    "duration": 844,
    "start_time": "2022-01-01T11:03:34.996Z"
   },
   {
    "duration": 568,
    "start_time": "2022-01-01T11:05:10.325Z"
   },
   {
    "duration": 673,
    "start_time": "2022-01-01T11:06:21.122Z"
   },
   {
    "duration": 694,
    "start_time": "2022-01-01T11:07:08.004Z"
   },
   {
    "duration": 674,
    "start_time": "2022-01-01T11:08:02.828Z"
   },
   {
    "duration": 230,
    "start_time": "2022-01-01T13:01:09.333Z"
   },
   {
    "duration": 355,
    "start_time": "2022-01-01T13:01:50.133Z"
   },
   {
    "duration": 1262,
    "start_time": "2022-01-01T13:02:00.053Z"
   },
   {
    "duration": 42,
    "start_time": "2022-01-01T13:02:01.317Z"
   },
   {
    "duration": 18,
    "start_time": "2022-01-01T13:02:01.362Z"
   },
   {
    "duration": 15,
    "start_time": "2022-01-01T13:02:01.382Z"
   },
   {
    "duration": 24,
    "start_time": "2022-01-01T13:02:01.399Z"
   },
   {
    "duration": 25,
    "start_time": "2022-01-01T13:02:01.425Z"
   },
   {
    "duration": 8,
    "start_time": "2022-01-01T13:02:01.452Z"
   },
   {
    "duration": 23,
    "start_time": "2022-01-01T13:02:01.464Z"
   },
   {
    "duration": 9,
    "start_time": "2022-01-01T13:02:01.490Z"
   },
   {
    "duration": 22,
    "start_time": "2022-01-01T13:02:01.502Z"
   },
   {
    "duration": 15,
    "start_time": "2022-01-01T13:02:01.526Z"
   },
   {
    "duration": 618,
    "start_time": "2022-01-01T13:02:01.543Z"
   },
   {
    "duration": 548,
    "start_time": "2022-01-01T13:02:02.163Z"
   },
   {
    "duration": 33,
    "start_time": "2022-01-01T13:02:02.713Z"
   },
   {
    "duration": 525,
    "start_time": "2022-01-01T13:02:02.749Z"
   },
   {
    "duration": 320,
    "start_time": "2022-01-01T13:02:03.277Z"
   },
   {
    "duration": 895,
    "start_time": "2022-01-01T13:02:03.600Z"
   },
   {
    "duration": -167,
    "start_time": "2022-01-01T13:02:04.664Z"
   },
   {
    "duration": -168,
    "start_time": "2022-01-01T13:02:04.667Z"
   },
   {
    "duration": -170,
    "start_time": "2022-01-01T13:02:04.670Z"
   },
   {
    "duration": -170,
    "start_time": "2022-01-01T13:02:04.671Z"
   },
   {
    "duration": -169,
    "start_time": "2022-01-01T13:02:04.672Z"
   },
   {
    "duration": -170,
    "start_time": "2022-01-01T13:02:04.674Z"
   },
   {
    "duration": -189,
    "start_time": "2022-01-01T13:02:04.694Z"
   },
   {
    "duration": -190,
    "start_time": "2022-01-01T13:02:04.697Z"
   },
   {
    "duration": 336,
    "start_time": "2022-01-01T13:05:30.400Z"
   },
   {
    "duration": 433,
    "start_time": "2022-01-01T13:05:48.287Z"
   },
   {
    "duration": 487,
    "start_time": "2022-01-01T13:06:59.249Z"
   },
   {
    "duration": 563,
    "start_time": "2022-01-01T13:08:54.640Z"
   },
   {
    "duration": 555,
    "start_time": "2022-01-01T13:09:21.692Z"
   },
   {
    "duration": 544,
    "start_time": "2022-01-01T13:10:17.132Z"
   },
   {
    "duration": 496,
    "start_time": "2022-01-01T13:11:50.927Z"
   },
   {
    "duration": 492,
    "start_time": "2022-01-01T13:12:23.396Z"
   },
   {
    "duration": 455,
    "start_time": "2022-01-01T13:14:13.270Z"
   },
   {
    "duration": 449,
    "start_time": "2022-01-01T13:14:26.586Z"
   },
   {
    "duration": 295,
    "start_time": "2022-01-01T13:18:42.897Z"
   },
   {
    "duration": 3131,
    "start_time": "2022-01-01T13:19:01.890Z"
   },
   {
    "duration": 3029,
    "start_time": "2022-01-01T13:20:28.369Z"
   },
   {
    "duration": 534,
    "start_time": "2022-01-01T13:20:49.089Z"
   },
   {
    "duration": 4972,
    "start_time": "2022-01-01T13:21:16.785Z"
   },
   {
    "duration": 823,
    "start_time": "2022-01-01T13:31:17.065Z"
   },
   {
    "duration": 759,
    "start_time": "2022-01-01T13:31:38.529Z"
   },
   {
    "duration": 600,
    "start_time": "2022-01-01T13:34:20.703Z"
   },
   {
    "duration": 581,
    "start_time": "2022-01-01T13:35:55.152Z"
   },
   {
    "duration": 993,
    "start_time": "2022-01-01T13:37:09.454Z"
   },
   {
    "duration": 594,
    "start_time": "2022-01-01T13:38:38.653Z"
   },
   {
    "duration": 3242,
    "start_time": "2022-01-01T13:39:44.638Z"
   },
   {
    "duration": 2863,
    "start_time": "2022-01-01T13:41:25.294Z"
   },
   {
    "duration": 2751,
    "start_time": "2022-01-01T13:43:11.388Z"
   },
   {
    "duration": 2955,
    "start_time": "2022-01-01T13:45:12.003Z"
   },
   {
    "duration": 2927,
    "start_time": "2022-01-01T13:45:59.723Z"
   },
   {
    "duration": 3361,
    "start_time": "2022-01-01T13:46:26.025Z"
   },
   {
    "duration": 3188,
    "start_time": "2022-01-01T13:48:29.571Z"
   },
   {
    "duration": 99,
    "start_time": "2022-01-01T13:53:31.360Z"
   },
   {
    "duration": 7239,
    "start_time": "2022-01-01T13:53:43.477Z"
   },
   {
    "duration": 3471,
    "start_time": "2022-01-01T13:54:10.527Z"
   },
   {
    "duration": 3131,
    "start_time": "2022-01-01T13:54:56.513Z"
   },
   {
    "duration": 3022,
    "start_time": "2022-01-01T13:56:03.977Z"
   },
   {
    "duration": 592,
    "start_time": "2022-01-01T13:56:26.500Z"
   },
   {
    "duration": 3567,
    "start_time": "2022-01-01T13:57:17.728Z"
   },
   {
    "duration": 113,
    "start_time": "2022-01-01T13:57:48.614Z"
   },
   {
    "duration": 109,
    "start_time": "2022-01-01T13:58:47.023Z"
   },
   {
    "duration": 99,
    "start_time": "2022-01-01T13:59:03.012Z"
   },
   {
    "duration": 98,
    "start_time": "2022-01-01T13:59:23.220Z"
   },
   {
    "duration": 98,
    "start_time": "2022-01-01T13:59:47.270Z"
   },
   {
    "duration": 114,
    "start_time": "2022-01-01T14:00:21.789Z"
   },
   {
    "duration": 93,
    "start_time": "2022-01-01T14:00:38.805Z"
   },
   {
    "duration": 113,
    "start_time": "2022-01-01T14:00:51.997Z"
   },
   {
    "duration": 118,
    "start_time": "2022-01-01T14:01:30.816Z"
   },
   {
    "duration": 97,
    "start_time": "2022-01-01T14:01:56.318Z"
   },
   {
    "duration": 2992,
    "start_time": "2022-01-01T14:02:18.399Z"
   },
   {
    "duration": 644,
    "start_time": "2022-01-01T14:05:56.983Z"
   },
   {
    "duration": 644,
    "start_time": "2022-01-01T14:06:33.204Z"
   },
   {
    "duration": 3012,
    "start_time": "2022-01-01T14:06:55.762Z"
   },
   {
    "duration": 3301,
    "start_time": "2022-01-01T14:08:00.109Z"
   },
   {
    "duration": 3250,
    "start_time": "2022-01-01T14:08:52.608Z"
   },
   {
    "duration": 14,
    "start_time": "2022-01-01T14:21:30.208Z"
   },
   {
    "duration": 140,
    "start_time": "2022-01-01T14:21:41.882Z"
   },
   {
    "duration": 166,
    "start_time": "2022-01-01T14:23:14.250Z"
   },
   {
    "duration": 533,
    "start_time": "2022-01-01T14:27:32.914Z"
   },
   {
    "duration": 553,
    "start_time": "2022-01-01T14:41:34.809Z"
   },
   {
    "duration": 423,
    "start_time": "2022-01-01T14:42:40.185Z"
   },
   {
    "duration": 402,
    "start_time": "2022-01-01T14:49:10.692Z"
   },
   {
    "duration": 630,
    "start_time": "2022-01-01T14:50:43.673Z"
   },
   {
    "duration": 630,
    "start_time": "2022-01-01T14:52:43.125Z"
   },
   {
    "duration": 556,
    "start_time": "2022-01-01T14:53:48.689Z"
   },
   {
    "duration": 416,
    "start_time": "2022-01-01T14:54:06.926Z"
   },
   {
    "duration": 421,
    "start_time": "2022-01-01T14:54:29.172Z"
   },
   {
    "duration": 413,
    "start_time": "2022-01-01T14:57:29.978Z"
   },
   {
    "duration": 7,
    "start_time": "2022-01-01T15:02:38.151Z"
   },
   {
    "duration": 6,
    "start_time": "2022-01-01T15:05:57.986Z"
   },
   {
    "duration": 438,
    "start_time": "2022-01-01T15:06:05.963Z"
   },
   {
    "duration": 303,
    "start_time": "2022-01-01T15:10:45.850Z"
   },
   {
    "duration": 7565,
    "start_time": "2022-01-01T16:47:17.634Z"
   },
   {
    "duration": 1319,
    "start_time": "2022-01-01T16:47:45.446Z"
   },
   {
    "duration": 44,
    "start_time": "2022-01-01T16:47:46.768Z"
   },
   {
    "duration": 23,
    "start_time": "2022-01-01T16:47:46.815Z"
   },
   {
    "duration": 20,
    "start_time": "2022-01-01T16:47:46.841Z"
   },
   {
    "duration": 4,
    "start_time": "2022-01-01T16:47:46.863Z"
   },
   {
    "duration": 13,
    "start_time": "2022-01-01T16:47:46.870Z"
   },
   {
    "duration": 37,
    "start_time": "2022-01-01T16:47:46.886Z"
   },
   {
    "duration": 13,
    "start_time": "2022-01-01T16:47:46.926Z"
   },
   {
    "duration": 9,
    "start_time": "2022-01-01T16:47:46.943Z"
   },
   {
    "duration": 6,
    "start_time": "2022-01-01T16:47:46.955Z"
   },
   {
    "duration": 13,
    "start_time": "2022-01-01T16:47:46.963Z"
   },
   {
    "duration": 676,
    "start_time": "2022-01-01T16:47:46.978Z"
   },
   {
    "duration": 573,
    "start_time": "2022-01-01T16:47:47.656Z"
   },
   {
    "duration": 24,
    "start_time": "2022-01-01T16:47:48.232Z"
   },
   {
    "duration": 504,
    "start_time": "2022-01-01T16:47:48.259Z"
   },
   {
    "duration": 457,
    "start_time": "2022-01-01T16:47:48.766Z"
   },
   {
    "duration": 4075,
    "start_time": "2022-01-01T16:47:49.226Z"
   },
   {
    "duration": 193,
    "start_time": "2022-01-01T16:47:53.303Z"
   },
   {
    "duration": 425,
    "start_time": "2022-01-01T16:47:53.498Z"
   },
   {
    "duration": 447,
    "start_time": "2022-01-01T16:47:53.925Z"
   },
   {
    "duration": 6,
    "start_time": "2022-01-01T16:47:54.374Z"
   },
   {
    "duration": 306,
    "start_time": "2022-01-01T16:47:54.383Z"
   },
   {
    "duration": 8264,
    "start_time": "2022-01-01T16:47:54.693Z"
   },
   {
    "duration": 14,
    "start_time": "2022-01-01T16:48:51.169Z"
   },
   {
    "duration": 14,
    "start_time": "2022-01-01T16:51:35.231Z"
   },
   {
    "duration": 93,
    "start_time": "2022-01-01T16:54:34.402Z"
   },
   {
    "duration": 13,
    "start_time": "2022-01-01T16:54:48.664Z"
   },
   {
    "duration": 17,
    "start_time": "2022-01-01T16:55:26.969Z"
   },
   {
    "duration": 13,
    "start_time": "2022-01-01T16:58:22.640Z"
   },
   {
    "duration": 300,
    "start_time": "2022-01-01T16:58:55.722Z"
   },
   {
    "duration": 15,
    "start_time": "2022-01-01T16:59:06.787Z"
   },
   {
    "duration": 15,
    "start_time": "2022-01-01T16:59:43.710Z"
   },
   {
    "duration": 14,
    "start_time": "2022-01-01T17:00:03.519Z"
   },
   {
    "duration": 14,
    "start_time": "2022-01-01T17:02:31.311Z"
   },
   {
    "duration": 362,
    "start_time": "2022-01-01T17:09:10.606Z"
   },
   {
    "duration": 437,
    "start_time": "2022-01-01T17:09:39.954Z"
   },
   {
    "duration": 293,
    "start_time": "2022-01-01T17:10:08.035Z"
   },
   {
    "duration": 286,
    "start_time": "2022-01-01T17:11:42.835Z"
   },
   {
    "duration": 18,
    "start_time": "2022-01-01T17:12:09.092Z"
   },
   {
    "duration": 16,
    "start_time": "2022-01-01T17:15:15.738Z"
   },
   {
    "duration": 7297,
    "start_time": "2022-01-01T17:20:24.349Z"
   },
   {
    "duration": 4413,
    "start_time": "2022-01-01T17:22:18.390Z"
   },
   {
    "duration": 7,
    "start_time": "2022-01-01T17:23:37.351Z"
   },
   {
    "duration": 3930,
    "start_time": "2022-01-01T17:24:27.491Z"
   },
   {
    "duration": 306,
    "start_time": "2022-01-01T17:24:43.558Z"
   },
   {
    "duration": 11,
    "start_time": "2022-01-01T17:25:35.944Z"
   },
   {
    "duration": 7,
    "start_time": "2022-01-01T17:26:31.712Z"
   },
   {
    "duration": 6,
    "start_time": "2022-01-01T17:28:47.357Z"
   },
   {
    "duration": 5,
    "start_time": "2022-01-01T17:30:10.550Z"
   },
   {
    "duration": 8,
    "start_time": "2022-01-01T17:30:23.659Z"
   },
   {
    "duration": 18,
    "start_time": "2022-01-01T17:31:27.425Z"
   },
   {
    "duration": 14,
    "start_time": "2022-01-01T17:31:42.985Z"
   },
   {
    "duration": 9,
    "start_time": "2022-01-01T17:36:45.675Z"
   },
   {
    "duration": 1084,
    "start_time": "2022-01-10T10:05:28.544Z"
   },
   {
    "duration": 38,
    "start_time": "2022-01-10T10:05:29.630Z"
   },
   {
    "duration": 14,
    "start_time": "2022-01-10T10:05:29.670Z"
   },
   {
    "duration": 11,
    "start_time": "2022-01-10T10:05:29.686Z"
   },
   {
    "duration": 3,
    "start_time": "2022-01-10T10:05:29.699Z"
   },
   {
    "duration": 13,
    "start_time": "2022-01-10T10:05:29.703Z"
   },
   {
    "duration": 17,
    "start_time": "2022-01-10T10:05:29.717Z"
   },
   {
    "duration": 34,
    "start_time": "2022-01-10T10:05:29.737Z"
   },
   {
    "duration": 14,
    "start_time": "2022-01-10T10:05:29.773Z"
   },
   {
    "duration": 19,
    "start_time": "2022-01-10T10:05:29.789Z"
   },
   {
    "duration": 9,
    "start_time": "2022-01-10T10:05:29.810Z"
   },
   {
    "duration": 409,
    "start_time": "2022-01-10T10:05:29.821Z"
   },
   {
    "duration": 383,
    "start_time": "2022-01-10T10:05:30.232Z"
   },
   {
    "duration": 19,
    "start_time": "2022-01-10T10:05:30.616Z"
   },
   {
    "duration": 343,
    "start_time": "2022-01-10T10:05:30.636Z"
   },
   {
    "duration": 210,
    "start_time": "2022-01-10T10:05:30.980Z"
   },
   {
    "duration": 2269,
    "start_time": "2022-01-10T10:05:31.191Z"
   },
   {
    "duration": 124,
    "start_time": "2022-01-10T10:05:33.462Z"
   },
   {
    "duration": 289,
    "start_time": "2022-01-10T10:05:33.588Z"
   },
   {
    "duration": 295,
    "start_time": "2022-01-10T10:05:33.879Z"
   },
   {
    "duration": 4,
    "start_time": "2022-01-10T10:05:34.176Z"
   },
   {
    "duration": 205,
    "start_time": "2022-01-10T10:05:34.182Z"
   },
   {
    "duration": 13,
    "start_time": "2022-01-10T10:05:34.390Z"
   },
   {
    "duration": 17,
    "start_time": "2022-01-10T10:05:34.405Z"
   },
   {
    "duration": 36,
    "start_time": "2022-01-10T10:05:34.424Z"
   },
   {
    "duration": 12,
    "start_time": "2022-01-10T10:05:34.462Z"
   },
   {
    "duration": 7,
    "start_time": "2022-01-10T10:05:34.476Z"
   },
   {
    "duration": 382,
    "start_time": "2022-01-10T10:10:18.562Z"
   },
   {
    "duration": 296,
    "start_time": "2022-01-10T10:10:59.267Z"
   },
   {
    "duration": 250,
    "start_time": "2022-01-10T10:11:56.070Z"
   },
   {
    "duration": 385,
    "start_time": "2022-01-10T10:15:59.483Z"
   },
   {
    "duration": 262,
    "start_time": "2022-01-10T10:16:43.257Z"
   },
   {
    "duration": 127,
    "start_time": "2022-01-10T10:20:37.037Z"
   },
   {
    "duration": 13,
    "start_time": "2022-01-10T10:38:00.332Z"
   },
   {
    "duration": 11,
    "start_time": "2022-01-10T10:38:03.954Z"
   },
   {
    "duration": 80,
    "start_time": "2022-01-10T10:47:38.385Z"
   },
   {
    "duration": 190,
    "start_time": "2022-01-10T10:57:00.288Z"
   },
   {
    "duration": 1081,
    "start_time": "2022-01-10T11:30:26.983Z"
   },
   {
    "duration": 39,
    "start_time": "2022-01-10T11:30:28.066Z"
   },
   {
    "duration": 14,
    "start_time": "2022-01-10T11:30:28.107Z"
   },
   {
    "duration": 10,
    "start_time": "2022-01-10T11:30:28.123Z"
   },
   {
    "duration": 3,
    "start_time": "2022-01-10T11:30:28.135Z"
   },
   {
    "duration": 30,
    "start_time": "2022-01-10T11:30:28.140Z"
   },
   {
    "duration": 6,
    "start_time": "2022-01-10T11:30:28.172Z"
   },
   {
    "duration": 11,
    "start_time": "2022-01-10T11:30:28.181Z"
   },
   {
    "duration": 7,
    "start_time": "2022-01-10T11:30:28.194Z"
   },
   {
    "duration": 18,
    "start_time": "2022-01-10T11:30:28.203Z"
   },
   {
    "duration": 44,
    "start_time": "2022-01-10T11:30:28.222Z"
   },
   {
    "duration": 420,
    "start_time": "2022-01-10T11:30:28.268Z"
   },
   {
    "duration": 378,
    "start_time": "2022-01-10T11:30:28.689Z"
   },
   {
    "duration": 18,
    "start_time": "2022-01-10T11:30:29.068Z"
   },
   {
    "duration": 288,
    "start_time": "2022-01-10T11:30:29.088Z"
   },
   {
    "duration": 206,
    "start_time": "2022-01-10T11:30:29.378Z"
   },
   {
    "duration": 2399,
    "start_time": "2022-01-10T11:30:29.586Z"
   },
   {
    "duration": 140,
    "start_time": "2022-01-10T11:30:31.988Z"
   },
   {
    "duration": 326,
    "start_time": "2022-01-10T11:30:32.130Z"
   },
   {
    "duration": 350,
    "start_time": "2022-01-10T11:30:32.461Z"
   },
   {
    "duration": 6,
    "start_time": "2022-01-10T11:30:32.814Z"
   },
   {
    "duration": 229,
    "start_time": "2022-01-10T11:30:32.822Z"
   },
   {
    "duration": 17,
    "start_time": "2022-01-10T11:30:33.054Z"
   },
   {
    "duration": 64,
    "start_time": "2022-01-10T11:30:33.073Z"
   },
   {
    "duration": 41,
    "start_time": "2022-01-10T11:30:33.139Z"
   },
   {
    "duration": 61,
    "start_time": "2022-01-10T11:30:33.181Z"
   },
   {
    "duration": 1140,
    "start_time": "2022-01-12T10:09:55.286Z"
   },
   {
    "duration": 38,
    "start_time": "2022-01-12T10:09:56.428Z"
   },
   {
    "duration": 13,
    "start_time": "2022-01-12T10:09:56.468Z"
   },
   {
    "duration": 19,
    "start_time": "2022-01-12T10:09:56.482Z"
   },
   {
    "duration": 407,
    "start_time": "2022-01-12T10:09:56.503Z"
   },
   {
    "duration": -655,
    "start_time": "2022-01-12T10:09:57.570Z"
   },
   {
    "duration": -655,
    "start_time": "2022-01-12T10:09:57.572Z"
   },
   {
    "duration": -657,
    "start_time": "2022-01-12T10:09:57.576Z"
   },
   {
    "duration": -658,
    "start_time": "2022-01-12T10:09:57.578Z"
   },
   {
    "duration": -658,
    "start_time": "2022-01-12T10:09:57.580Z"
   },
   {
    "duration": -663,
    "start_time": "2022-01-12T10:09:57.587Z"
   },
   {
    "duration": -666,
    "start_time": "2022-01-12T10:09:57.592Z"
   },
   {
    "duration": -667,
    "start_time": "2022-01-12T10:09:57.594Z"
   },
   {
    "duration": -667,
    "start_time": "2022-01-12T10:09:57.596Z"
   },
   {
    "duration": -668,
    "start_time": "2022-01-12T10:09:57.599Z"
   },
   {
    "duration": -669,
    "start_time": "2022-01-12T10:09:57.601Z"
   },
   {
    "duration": -669,
    "start_time": "2022-01-12T10:09:57.602Z"
   },
   {
    "duration": -669,
    "start_time": "2022-01-12T10:09:57.604Z"
   },
   {
    "duration": -670,
    "start_time": "2022-01-12T10:09:57.606Z"
   },
   {
    "duration": -671,
    "start_time": "2022-01-12T10:09:57.608Z"
   },
   {
    "duration": -672,
    "start_time": "2022-01-12T10:09:57.610Z"
   },
   {
    "duration": -673,
    "start_time": "2022-01-12T10:09:57.612Z"
   },
   {
    "duration": -674,
    "start_time": "2022-01-12T10:09:57.614Z"
   },
   {
    "duration": -675,
    "start_time": "2022-01-12T10:09:57.616Z"
   },
   {
    "duration": -675,
    "start_time": "2022-01-12T10:09:57.617Z"
   },
   {
    "duration": -676,
    "start_time": "2022-01-12T10:09:57.619Z"
   },
   {
    "duration": -677,
    "start_time": "2022-01-12T10:09:57.621Z"
   },
   {
    "duration": 24,
    "start_time": "2022-01-12T10:10:13.744Z"
   },
   {
    "duration": 20,
    "start_time": "2022-01-12T10:12:47.298Z"
   },
   {
    "duration": 78,
    "start_time": "2022-01-12T10:14:29.713Z"
   },
   {
    "duration": 87,
    "start_time": "2022-01-12T10:14:52.863Z"
   },
   {
    "duration": 94,
    "start_time": "2022-01-12T10:15:13.046Z"
   },
   {
    "duration": 90,
    "start_time": "2022-01-12T10:16:42.534Z"
   },
   {
    "duration": 86,
    "start_time": "2022-01-12T10:17:14.462Z"
   },
   {
    "duration": 88,
    "start_time": "2022-01-12T10:17:46.154Z"
   },
   {
    "duration": 1056,
    "start_time": "2022-01-12T10:21:55.337Z"
   },
   {
    "duration": 39,
    "start_time": "2022-01-12T10:21:56.395Z"
   },
   {
    "duration": 14,
    "start_time": "2022-01-12T10:21:56.436Z"
   },
   {
    "duration": 14,
    "start_time": "2022-01-12T10:21:56.452Z"
   },
   {
    "duration": 32,
    "start_time": "2022-01-12T10:21:56.467Z"
   },
   {
    "duration": 3,
    "start_time": "2022-01-12T10:21:56.501Z"
   },
   {
    "duration": 19,
    "start_time": "2022-01-12T10:21:56.505Z"
   },
   {
    "duration": 5,
    "start_time": "2022-01-12T10:21:56.526Z"
   },
   {
    "duration": 10,
    "start_time": "2022-01-12T10:21:56.534Z"
   },
   {
    "duration": 8,
    "start_time": "2022-01-12T10:21:56.546Z"
   },
   {
    "duration": 5,
    "start_time": "2022-01-12T10:21:56.556Z"
   },
   {
    "duration": 42,
    "start_time": "2022-01-12T10:21:56.563Z"
   },
   {
    "duration": 449,
    "start_time": "2022-01-12T10:21:56.607Z"
   },
   {
    "duration": 413,
    "start_time": "2022-01-12T10:21:57.058Z"
   },
   {
    "duration": 28,
    "start_time": "2022-01-12T10:21:57.473Z"
   },
   {
    "duration": 312,
    "start_time": "2022-01-12T10:21:57.503Z"
   },
   {
    "duration": 224,
    "start_time": "2022-01-12T10:21:57.817Z"
   },
   {
    "duration": 2491,
    "start_time": "2022-01-12T10:21:58.043Z"
   },
   {
    "duration": 151,
    "start_time": "2022-01-12T10:22:00.536Z"
   },
   {
    "duration": 313,
    "start_time": "2022-01-12T10:22:00.689Z"
   },
   {
    "duration": 328,
    "start_time": "2022-01-12T10:22:01.004Z"
   },
   {
    "duration": 4,
    "start_time": "2022-01-12T10:22:01.334Z"
   },
   {
    "duration": 232,
    "start_time": "2022-01-12T10:22:01.339Z"
   },
   {
    "duration": 12,
    "start_time": "2022-01-12T10:22:01.572Z"
   },
   {
    "duration": 11,
    "start_time": "2022-01-12T10:22:01.599Z"
   },
   {
    "duration": 14,
    "start_time": "2022-01-12T10:22:01.612Z"
   },
   {
    "duration": 21,
    "start_time": "2022-01-12T10:22:01.629Z"
   },
   {
    "duration": 3,
    "start_time": "2022-01-12T10:25:45.198Z"
   },
   {
    "duration": 1055,
    "start_time": "2022-01-12T10:25:50.597Z"
   },
   {
    "duration": 37,
    "start_time": "2022-01-12T10:25:51.654Z"
   },
   {
    "duration": 13,
    "start_time": "2022-01-12T10:25:51.695Z"
   },
   {
    "duration": 13,
    "start_time": "2022-01-12T10:25:51.710Z"
   },
   {
    "duration": 22,
    "start_time": "2022-01-12T10:25:51.724Z"
   },
   {
    "duration": 4,
    "start_time": "2022-01-12T10:25:51.748Z"
   },
   {
    "duration": 13,
    "start_time": "2022-01-12T10:25:51.754Z"
   },
   {
    "duration": 32,
    "start_time": "2022-01-12T10:25:51.770Z"
   },
   {
    "duration": 12,
    "start_time": "2022-01-12T10:25:51.804Z"
   },
   {
    "duration": 7,
    "start_time": "2022-01-12T10:25:51.817Z"
   },
   {
    "duration": 8,
    "start_time": "2022-01-12T10:25:51.826Z"
   },
   {
    "duration": 12,
    "start_time": "2022-01-12T10:25:51.836Z"
   },
   {
    "duration": 470,
    "start_time": "2022-01-12T10:25:51.849Z"
   },
   {
    "duration": 410,
    "start_time": "2022-01-12T10:25:52.321Z"
   },
   {
    "duration": 24,
    "start_time": "2022-01-12T10:25:52.733Z"
   },
   {
    "duration": 315,
    "start_time": "2022-01-12T10:25:52.759Z"
   },
   {
    "duration": 221,
    "start_time": "2022-01-12T10:25:53.076Z"
   },
   {
    "duration": 2740,
    "start_time": "2022-01-12T10:25:53.299Z"
   },
   {
    "duration": 142,
    "start_time": "2022-01-12T10:25:56.041Z"
   },
   {
    "duration": 309,
    "start_time": "2022-01-12T10:25:56.184Z"
   },
   {
    "duration": 327,
    "start_time": "2022-01-12T10:25:56.495Z"
   },
   {
    "duration": 4,
    "start_time": "2022-01-12T10:25:56.825Z"
   },
   {
    "duration": 229,
    "start_time": "2022-01-12T10:25:56.831Z"
   },
   {
    "duration": 12,
    "start_time": "2022-01-12T10:25:57.062Z"
   },
   {
    "duration": 24,
    "start_time": "2022-01-12T10:25:57.075Z"
   },
   {
    "duration": 12,
    "start_time": "2022-01-12T10:25:57.101Z"
   },
   {
    "duration": 13,
    "start_time": "2022-01-12T10:25:57.115Z"
   },
   {
    "duration": 639,
    "start_time": "2022-01-12T10:27:53.791Z"
   },
   {
    "duration": 227,
    "start_time": "2022-01-12T10:28:19.329Z"
   },
   {
    "duration": 1106,
    "start_time": "2022-01-12T11:07:02.779Z"
   },
   {
    "duration": 38,
    "start_time": "2022-01-12T11:07:03.887Z"
   },
   {
    "duration": 14,
    "start_time": "2022-01-12T11:07:03.927Z"
   },
   {
    "duration": 12,
    "start_time": "2022-01-12T11:07:03.943Z"
   },
   {
    "duration": 21,
    "start_time": "2022-01-12T11:07:03.957Z"
   },
   {
    "duration": 4,
    "start_time": "2022-01-12T11:07:03.998Z"
   },
   {
    "duration": 12,
    "start_time": "2022-01-12T11:07:04.004Z"
   },
   {
    "duration": 15,
    "start_time": "2022-01-12T11:07:04.019Z"
   },
   {
    "duration": 17,
    "start_time": "2022-01-12T11:07:04.036Z"
   },
   {
    "duration": 17,
    "start_time": "2022-01-12T11:07:04.054Z"
   },
   {
    "duration": 7,
    "start_time": "2022-01-12T11:07:04.073Z"
   },
   {
    "duration": 21,
    "start_time": "2022-01-12T11:07:04.082Z"
   },
   {
    "duration": 449,
    "start_time": "2022-01-12T11:07:04.105Z"
   },
   {
    "duration": 427,
    "start_time": "2022-01-12T11:07:04.555Z"
   },
   {
    "duration": 28,
    "start_time": "2022-01-12T11:07:04.983Z"
   },
   {
    "duration": 314,
    "start_time": "2022-01-12T11:07:05.012Z"
   },
   {
    "duration": 227,
    "start_time": "2022-01-12T11:07:05.328Z"
   },
   {
    "duration": 2358,
    "start_time": "2022-01-12T11:07:05.557Z"
   },
   {
    "duration": 213,
    "start_time": "2022-01-12T11:07:07.917Z"
   },
   {
    "duration": 290,
    "start_time": "2022-01-12T11:07:08.132Z"
   },
   {
    "duration": 317,
    "start_time": "2022-01-12T11:07:08.424Z"
   },
   {
    "duration": 4,
    "start_time": "2022-01-12T11:07:08.743Z"
   },
   {
    "duration": 223,
    "start_time": "2022-01-12T11:07:08.751Z"
   },
   {
    "duration": 22,
    "start_time": "2022-01-12T11:07:08.976Z"
   },
   {
    "duration": 12,
    "start_time": "2022-01-12T11:07:09.000Z"
   },
   {
    "duration": 13,
    "start_time": "2022-01-12T11:07:09.013Z"
   },
   {
    "duration": 12,
    "start_time": "2022-01-12T11:07:09.028Z"
   },
   {
    "duration": 1074,
    "start_time": "2022-01-12T11:08:08.872Z"
   },
   {
    "duration": 37,
    "start_time": "2022-01-12T11:08:09.948Z"
   },
   {
    "duration": 13,
    "start_time": "2022-01-12T11:08:09.987Z"
   },
   {
    "duration": 12,
    "start_time": "2022-01-12T11:08:10.002Z"
   },
   {
    "duration": 21,
    "start_time": "2022-01-12T11:08:10.016Z"
   },
   {
    "duration": 3,
    "start_time": "2022-01-12T11:08:10.039Z"
   },
   {
    "duration": 13,
    "start_time": "2022-01-12T11:08:10.044Z"
   },
   {
    "duration": 40,
    "start_time": "2022-01-12T11:08:10.061Z"
   },
   {
    "duration": 11,
    "start_time": "2022-01-12T11:08:10.103Z"
   },
   {
    "duration": 9,
    "start_time": "2022-01-12T11:08:10.116Z"
   },
   {
    "duration": 6,
    "start_time": "2022-01-12T11:08:10.126Z"
   },
   {
    "duration": 11,
    "start_time": "2022-01-12T11:08:10.134Z"
   },
   {
    "duration": 462,
    "start_time": "2022-01-12T11:08:10.147Z"
   },
   {
    "duration": 415,
    "start_time": "2022-01-12T11:08:10.611Z"
   },
   {
    "duration": 18,
    "start_time": "2022-01-12T11:08:11.027Z"
   },
   {
    "duration": 299,
    "start_time": "2022-01-12T11:08:11.046Z"
   },
   {
    "duration": 209,
    "start_time": "2022-01-12T11:08:11.346Z"
   },
   {
    "duration": 2446,
    "start_time": "2022-01-12T11:08:11.556Z"
   },
   {
    "duration": 210,
    "start_time": "2022-01-12T11:08:14.004Z"
   },
   {
    "duration": 300,
    "start_time": "2022-01-12T11:08:14.216Z"
   },
   {
    "duration": 309,
    "start_time": "2022-01-12T11:08:14.517Z"
   },
   {
    "duration": 4,
    "start_time": "2022-01-12T11:08:14.828Z"
   },
   {
    "duration": 216,
    "start_time": "2022-01-12T11:08:14.835Z"
   },
   {
    "duration": 11,
    "start_time": "2022-01-12T11:08:15.053Z"
   },
   {
    "duration": 17,
    "start_time": "2022-01-12T11:08:15.066Z"
   },
   {
    "duration": 21,
    "start_time": "2022-01-12T11:08:15.085Z"
   },
   {
    "duration": 12,
    "start_time": "2022-01-12T11:08:15.108Z"
   }
  ],
  "kernelspec": {
   "display_name": "Python 3",
   "language": "python",
   "name": "python3"
  },
  "language_info": {
   "codemirror_mode": {
    "name": "ipython",
    "version": 3
   },
   "file_extension": ".py",
   "mimetype": "text/x-python",
   "name": "python",
   "nbconvert_exporter": "python",
   "pygments_lexer": "ipython3",
   "version": "3.8.8"
  },
  "toc": {
   "base_numbering": 1,
   "nav_menu": {},
   "number_sections": true,
   "sideBar": true,
   "skip_h1_title": true,
   "title_cell": "Table of Contents",
   "title_sidebar": "Contents",
   "toc_cell": false,
   "toc_position": {
    "height": "calc(100% - 180px)",
    "left": "10px",
    "top": "150px",
    "width": "194.396px"
   },
   "toc_section_display": true,
   "toc_window_display": true
  }
 },
 "nbformat": 4,
 "nbformat_minor": 2
}
